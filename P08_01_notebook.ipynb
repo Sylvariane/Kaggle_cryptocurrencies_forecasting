{
  "nbformat": 4,
  "nbformat_minor": 5,
  "metadata": {
    "interpreter": {
      "hash": "a15bb0e7bec1806f09e46ea9c627385833a55ef2489c85d10accee8104f3235c"
    },
    "kernelspec": {
      "display_name": "Python 3 (ipykernel)",
      "language": "python",
      "name": "python3"
    },
    "language_info": {
      "codemirror_mode": {
        "name": "ipython",
        "version": 3
      },
      "file_extension": ".py",
      "mimetype": "text/x-python",
      "name": "python",
      "nbconvert_exporter": "python",
      "pygments_lexer": "ipython3",
      "version": "3.9.7"
    },
    "colab": {
      "name": "P08_01_notebook.ipynb",
      "provenance": [],
      "collapsed_sections": [],
      "machine_shape": "hm",
      "include_colab_link": true
    }
  },
  "cells": [
    {
      "cell_type": "markdown",
      "metadata": {
        "id": "view-in-github",
        "colab_type": "text"
      },
      "source": [
        "<a href=\"https://colab.research.google.com/github/Sylvariane/Kaggle_cryptocurrencies_forecasting/blob/main/P08_01_notebook.ipynb\" target=\"_parent\"><img src=\"https://colab.research.google.com/assets/colab-badge.svg\" alt=\"Open In Colab\"/></a>"
      ]
    },
    {
      "cell_type": "code",
      "metadata": {
        "colab": {
          "base_uri": "https://localhost:8080/"
        },
        "id": "C7dFoakxTuza",
        "outputId": "7dfae8ec-dc23-40ba-f2a4-19446e041154"
      },
      "source": [
        "!pip install plotly\n",
        "!pip install finta"
      ],
      "id": "C7dFoakxTuza",
      "execution_count": 1,
      "outputs": [
        {
          "output_type": "stream",
          "name": "stdout",
          "text": [
            "Requirement already satisfied: plotly in /usr/local/lib/python3.7/dist-packages (4.4.1)\n",
            "Requirement already satisfied: six in /usr/local/lib/python3.7/dist-packages (from plotly) (1.15.0)\n",
            "Requirement already satisfied: retrying>=1.3.3 in /usr/local/lib/python3.7/dist-packages (from plotly) (1.3.3)\n",
            "Requirement already satisfied: finta in /usr/local/lib/python3.7/dist-packages (1.3)\n",
            "Requirement already satisfied: pandas in /usr/local/lib/python3.7/dist-packages (from finta) (1.1.5)\n",
            "Requirement already satisfied: numpy in /usr/local/lib/python3.7/dist-packages (from finta) (1.19.5)\n",
            "Requirement already satisfied: pytz>=2017.2 in /usr/local/lib/python3.7/dist-packages (from pandas->finta) (2018.9)\n",
            "Requirement already satisfied: python-dateutil>=2.7.3 in /usr/local/lib/python3.7/dist-packages (from pandas->finta) (2.8.2)\n",
            "Requirement already satisfied: six>=1.5 in /usr/local/lib/python3.7/dist-packages (from python-dateutil>=2.7.3->pandas->finta) (1.15.0)\n"
          ]
        }
      ]
    },
    {
      "cell_type": "markdown",
      "metadata": {
        "id": "6bf88c79"
      },
      "source": [
        "# G-Research Crypto Forecasting"
      ],
      "id": "6bf88c79"
    },
    {
      "cell_type": "markdown",
      "metadata": {
        "id": "5a4e32b5"
      },
      "source": [
        "Cryptocurrencies are very popular but have the disavantage to be more volatile than classical stock prices. The first cryptocurrency, Bitcoin, was created in 2008 by Satoshi Nakamoto. Bitcoin is created as a decentralized system based on the blockchain technology. However, in the next years, creation of many other cryptocurrencies has been exploded. The expansion and democratization of these methods have opened new horizons for stock market. \n",
        "\n",
        "In this Kaggle competition, the aim is to predict trends about cryptocurrencies by using the most well-knowledge currencies. It is important to keep in mind that forecasting stock market is a hard task and thus, forecasting trends in cryptocurrencies is more harder. "
      ],
      "id": "5a4e32b5"
    },
    {
      "cell_type": "markdown",
      "metadata": {
        "id": "29d046b6"
      },
      "source": [
        "__Datasets__"
      ],
      "id": "29d046b6"
    },
    {
      "cell_type": "markdown",
      "metadata": {
        "id": "32f12177"
      },
      "source": [
        "In this competition, 5 files are available : \n",
        "- A first train set,\n",
        "- A supplementary train set,\n",
        "- An asset set with information about cryptocurrencies,\n",
        "- An example test,\n",
        "- An example test submission."
      ],
      "id": "32f12177"
    },
    {
      "cell_type": "markdown",
      "metadata": {
        "id": "sZywJ3-7rbZ7"
      },
      "source": [
        "Only three datasets (*the two train sets & the asset set*) were used in this exploration. "
      ],
      "id": "sZywJ3-7rbZ7"
    },
    {
      "cell_type": "markdown",
      "metadata": {
        "id": "7da81c8c"
      },
      "source": [
        "__Configuration and Utils__"
      ],
      "id": "7da81c8c"
    },
    {
      "cell_type": "code",
      "metadata": {
        "colab": {
          "base_uri": "https://localhost:8080/"
        },
        "id": "WzgRCQkAT3CQ",
        "outputId": "7a6877d3-9318-4a15-f655-7f62cc9dc093"
      },
      "source": [
        "# Google Drive connexion\n",
        "from google.colab import drive\n",
        "drive.mount('/content/drive')"
      ],
      "id": "WzgRCQkAT3CQ",
      "execution_count": 2,
      "outputs": [
        {
          "output_type": "stream",
          "name": "stdout",
          "text": [
            "Drive already mounted at /content/drive; to attempt to forcibly remount, call drive.mount(\"/content/drive\", force_remount=True).\n"
          ]
        }
      ]
    },
    {
      "cell_type": "code",
      "metadata": {
        "id": "d9c81e0b"
      },
      "source": [
        "# system libraries\n",
        "import warnings\n",
        "warnings.filterwarnings('ignore')\n",
        "warnings.simplefilter(action='ignore', category=FutureWarning)\n",
        "import logging\n",
        "logging.disable(logging.CRITICAL)\n",
        "import gc\n",
        "\n",
        "# data manipulation libraries\n",
        "import pandas as pd\n",
        "import numpy as np\n",
        "\n",
        "# graphical libraries\n",
        "import matplotlib.pyplot as plt\n",
        "import seaborn as sns\n",
        "import plotly.express as px\n",
        "import plotly.graph_objects as go\n",
        "from plotly.subplots import make_subplots\n",
        "\n",
        "# financial analysis\n",
        "from finta import TA\n",
        "\n",
        "from functools import reduce\n",
        "from datetime import datetime\n",
        "import time"
      ],
      "id": "d9c81e0b",
      "execution_count": 3,
      "outputs": []
    },
    {
      "cell_type": "code",
      "metadata": {
        "id": "7a408d2b"
      },
      "source": [
        "def crypto_df(asset_id, data):\n",
        "    # Copied from https://www.kaggle.com/odins0n/g-research-plots-eda\n",
        "    df = data[data[\"asset_name\"] == asset_id].reset_index(drop=True)\n",
        "    df['timestamp'] = pd.to_datetime(df['timestamp'], unit='s')\n",
        "    df = df.set_index('timestamp')\n",
        "    return df\n",
        "\n",
        "\n",
        "def candelstick_chart(data, title):\n",
        "    # Copied from https://www.kaggle.com/odins0n/g-research-plots-eda\n",
        "    candlestick = go.Figure(data=[go.Candlestick(x=data.index,\n",
        "                                                 open=data[('open')],\n",
        "                                                 high=data[('high')],\n",
        "                                                 low=data[('low')],\n",
        "                                                 close=data[('close')])])\n",
        "    candlestick.update_xaxes(title_text='Time',\n",
        "                             rangeslider_visible=False)\n",
        "\n",
        "    candlestick.update_layout(\n",
        "        title={\n",
        "            'text': '{:} Candelstick Chart'.format(title),\n",
        "            'y': 0.90,\n",
        "            'x': 0.5,\n",
        "            'xanchor': 'center',\n",
        "            'yanchor': 'top'})\n",
        "\n",
        "    candlestick.update_yaxes(title_text='Price in USD', ticksuffix='$')\n",
        "    return candlestick\n",
        "\n",
        "\n",
        "def vol_traded(data, title, color):\n",
        "    # Copied from https://www.kaggle.com/odins0n/g-research-plots-eda\n",
        "    area = px.area(data_frame=data,\n",
        "                   x=data.index,\n",
        "                   y=\"volume\")\n",
        "    area.update_traces(line_color=color)\n",
        "    area.update_xaxes(\n",
        "        title_text='Time',\n",
        "        rangeslider_visible=False)\n",
        "    area.update_yaxes(title_text='Number of trades every minute')\n",
        "    area.update_layout(showlegend=True,\n",
        "                       title={\n",
        "                           'text': '{:} Volume Traded'.format(title),\n",
        "                           'y': 0.94,\n",
        "                           'x': 0.5,\n",
        "                           'xanchor': 'center',\n",
        "                           'yanchor': 'top'})\n",
        "    return area"
      ],
      "id": "7a408d2b",
      "execution_count": 4,
      "outputs": []
    },
    {
      "cell_type": "markdown",
      "metadata": {
        "id": "da5412fc"
      },
      "source": [
        "## 1) Preprocessing"
      ],
      "id": "da5412fc"
    },
    {
      "cell_type": "code",
      "metadata": {
        "id": "7bc602a8",
        "colab": {
          "base_uri": "https://localhost:8080/",
          "height": 206
        },
        "outputId": "ed75f3e1-b2bc-4694-b8ee-c9b81e280a29"
      },
      "source": [
        "# Importing datasets\n",
        "df = pd.read_csv(\"/content/drive/My Drive/Ingénieur ML - OC/P8/datasets/train.csv\")\n",
        "df_sup = pd.read_csv(\"/content/drive/My Drive/Ingénieur ML - OC/P8/datasets/supplemental_train.csv\")\n",
        "asset = pd.read_csv(\"/content/drive/My Drive/Ingénieur ML - OC/P8/datasets/asset_details.csv\")\n",
        "df.head()"
      ],
      "id": "7bc602a8",
      "execution_count": 5,
      "outputs": [
        {
          "output_type": "execute_result",
          "data": {
            "text/html": [
              "<div>\n",
              "<style scoped>\n",
              "    .dataframe tbody tr th:only-of-type {\n",
              "        vertical-align: middle;\n",
              "    }\n",
              "\n",
              "    .dataframe tbody tr th {\n",
              "        vertical-align: top;\n",
              "    }\n",
              "\n",
              "    .dataframe thead th {\n",
              "        text-align: right;\n",
              "    }\n",
              "</style>\n",
              "<table border=\"1\" class=\"dataframe\">\n",
              "  <thead>\n",
              "    <tr style=\"text-align: right;\">\n",
              "      <th></th>\n",
              "      <th>timestamp</th>\n",
              "      <th>Asset_ID</th>\n",
              "      <th>Count</th>\n",
              "      <th>Open</th>\n",
              "      <th>High</th>\n",
              "      <th>Low</th>\n",
              "      <th>Close</th>\n",
              "      <th>Volume</th>\n",
              "      <th>VWAP</th>\n",
              "      <th>Target</th>\n",
              "    </tr>\n",
              "  </thead>\n",
              "  <tbody>\n",
              "    <tr>\n",
              "      <th>0</th>\n",
              "      <td>1514764860</td>\n",
              "      <td>2</td>\n",
              "      <td>40.0</td>\n",
              "      <td>2376.5800</td>\n",
              "      <td>2399.5000</td>\n",
              "      <td>2357.1400</td>\n",
              "      <td>2374.5900</td>\n",
              "      <td>19.233005</td>\n",
              "      <td>2373.116392</td>\n",
              "      <td>-0.004218</td>\n",
              "    </tr>\n",
              "    <tr>\n",
              "      <th>1</th>\n",
              "      <td>1514764860</td>\n",
              "      <td>0</td>\n",
              "      <td>5.0</td>\n",
              "      <td>8.5300</td>\n",
              "      <td>8.5300</td>\n",
              "      <td>8.5300</td>\n",
              "      <td>8.5300</td>\n",
              "      <td>78.380000</td>\n",
              "      <td>8.530000</td>\n",
              "      <td>-0.014399</td>\n",
              "    </tr>\n",
              "    <tr>\n",
              "      <th>2</th>\n",
              "      <td>1514764860</td>\n",
              "      <td>1</td>\n",
              "      <td>229.0</td>\n",
              "      <td>13835.1940</td>\n",
              "      <td>14013.8000</td>\n",
              "      <td>13666.1100</td>\n",
              "      <td>13850.1760</td>\n",
              "      <td>31.550062</td>\n",
              "      <td>13827.062093</td>\n",
              "      <td>-0.014643</td>\n",
              "    </tr>\n",
              "    <tr>\n",
              "      <th>3</th>\n",
              "      <td>1514764860</td>\n",
              "      <td>5</td>\n",
              "      <td>32.0</td>\n",
              "      <td>7.6596</td>\n",
              "      <td>7.6596</td>\n",
              "      <td>7.6567</td>\n",
              "      <td>7.6576</td>\n",
              "      <td>6626.713370</td>\n",
              "      <td>7.657713</td>\n",
              "      <td>-0.013922</td>\n",
              "    </tr>\n",
              "    <tr>\n",
              "      <th>4</th>\n",
              "      <td>1514764860</td>\n",
              "      <td>7</td>\n",
              "      <td>5.0</td>\n",
              "      <td>25.9200</td>\n",
              "      <td>25.9200</td>\n",
              "      <td>25.8740</td>\n",
              "      <td>25.8770</td>\n",
              "      <td>121.087310</td>\n",
              "      <td>25.891363</td>\n",
              "      <td>-0.008264</td>\n",
              "    </tr>\n",
              "  </tbody>\n",
              "</table>\n",
              "</div>"
            ],
            "text/plain": [
              "    timestamp  Asset_ID  Count  ...       Volume          VWAP    Target\n",
              "0  1514764860         2   40.0  ...    19.233005   2373.116392 -0.004218\n",
              "1  1514764860         0    5.0  ...    78.380000      8.530000 -0.014399\n",
              "2  1514764860         1  229.0  ...    31.550062  13827.062093 -0.014643\n",
              "3  1514764860         5   32.0  ...  6626.713370      7.657713 -0.013922\n",
              "4  1514764860         7    5.0  ...   121.087310     25.891363 -0.008264\n",
              "\n",
              "[5 rows x 10 columns]"
            ]
          },
          "metadata": {},
          "execution_count": 5
        }
      ]
    },
    {
      "cell_type": "code",
      "metadata": {
        "colab": {
          "base_uri": "https://localhost:8080/"
        },
        "id": "_ijHaMygqdO-",
        "outputId": "7ef3f005-28bf-4733-f0ee-024a567f403b"
      },
      "source": [
        "df.shape"
      ],
      "id": "_ijHaMygqdO-",
      "execution_count": 6,
      "outputs": [
        {
          "output_type": "execute_result",
          "data": {
            "text/plain": [
              "(24236806, 10)"
            ]
          },
          "metadata": {},
          "execution_count": 6
        }
      ]
    },
    {
      "cell_type": "markdown",
      "metadata": {
        "id": "7cbe3ea0"
      },
      "source": [
        "Columns of the dataset :\n",
        "* timestamp - A timestamp for the minute covered by the row.\n",
        "* Asset_ID - An ID code for the cryptoasset.\n",
        "* Count - The number of trades that took place this minute.\n",
        "* Open - The USD price at the beginning of the minute.\n",
        "* High - The highest USD price during the minute.\n",
        "* Low - The lowest USD price during the minute.\n",
        "* Close - The USD price at the end of the minute.\n",
        "* Volume - The number of cryptoasset units traded during the minute.\n",
        "* VWAP - The volume weighted average price for the minute.\n",
        "* Target - 15 minute residualized returns."
      ],
      "id": "7cbe3ea0"
    },
    {
      "cell_type": "markdown",
      "metadata": {
        "id": "OCdQMer5r3B8"
      },
      "source": [
        "Target column contains values to predict ([Information about target calculus](https://www.kaggle.com/cstein06/tutorial-to-the-g-research-crypto-competition?cellIds=49&kernelSessionId=78721864)). "
      ],
      "id": "OCdQMer5r3B8"
    },
    {
      "cell_type": "code",
      "metadata": {
        "id": "hpDUHBRBo3Jl"
      },
      "source": [
        "# Creating an unique df with data\n",
        "df = df.append(df_sup,\n",
        "               ignore_index=True,\n",
        "               verify_integrity=True)"
      ],
      "id": "hpDUHBRBo3Jl",
      "execution_count": 7,
      "outputs": []
    },
    {
      "cell_type": "code",
      "metadata": {
        "colab": {
          "base_uri": "https://localhost:8080/"
        },
        "id": "EFpozEDlqg6z",
        "outputId": "e8c57ccb-25da-4a84-ff18-5e47d6576029"
      },
      "source": [
        "df.shape"
      ],
      "id": "EFpozEDlqg6z",
      "execution_count": 8,
      "outputs": [
        {
          "output_type": "execute_result",
          "data": {
            "text/plain": [
              "(26251918, 10)"
            ]
          },
          "metadata": {},
          "execution_count": 8
        }
      ]
    },
    {
      "cell_type": "code",
      "metadata": {
        "colab": {
          "base_uri": "https://localhost:8080/",
          "height": 206
        },
        "id": "3a5f228d",
        "outputId": "86662556-1019-4b89-d24b-cdaf5f5b711d"
      },
      "source": [
        "# Merging dataset to obtain name of each cryptocurrency\n",
        "df = pd.merge(df, asset, on=\"Asset_ID\")\n",
        "df = df[[\"timestamp\", \"Asset_Name\", \"Count\",\n",
        "         \"Open\", \"High\", \"Low\",\n",
        "         \"Close\", \"Volume\", \"VWAP\",\n",
        "         \"Target\"]]\n",
        "df.columns = [\"timestamp\", \"asset_name\", \"count\",\n",
        "              \"open\", \"high\", \"low\",\n",
        "              \"close\", \"volume\", \"vwap\",\n",
        "              \"target\"]\n",
        "df.head()"
      ],
      "id": "3a5f228d",
      "execution_count": 9,
      "outputs": [
        {
          "output_type": "execute_result",
          "data": {
            "text/html": [
              "<div>\n",
              "<style scoped>\n",
              "    .dataframe tbody tr th:only-of-type {\n",
              "        vertical-align: middle;\n",
              "    }\n",
              "\n",
              "    .dataframe tbody tr th {\n",
              "        vertical-align: top;\n",
              "    }\n",
              "\n",
              "    .dataframe thead th {\n",
              "        text-align: right;\n",
              "    }\n",
              "</style>\n",
              "<table border=\"1\" class=\"dataframe\">\n",
              "  <thead>\n",
              "    <tr style=\"text-align: right;\">\n",
              "      <th></th>\n",
              "      <th>timestamp</th>\n",
              "      <th>asset_name</th>\n",
              "      <th>count</th>\n",
              "      <th>open</th>\n",
              "      <th>high</th>\n",
              "      <th>low</th>\n",
              "      <th>close</th>\n",
              "      <th>volume</th>\n",
              "      <th>vwap</th>\n",
              "      <th>target</th>\n",
              "    </tr>\n",
              "  </thead>\n",
              "  <tbody>\n",
              "    <tr>\n",
              "      <th>0</th>\n",
              "      <td>1514764860</td>\n",
              "      <td>Bitcoin Cash</td>\n",
              "      <td>40.0</td>\n",
              "      <td>2376.580000</td>\n",
              "      <td>2399.5</td>\n",
              "      <td>2357.14</td>\n",
              "      <td>2374.590000</td>\n",
              "      <td>19.233005</td>\n",
              "      <td>2373.116392</td>\n",
              "      <td>-0.004218</td>\n",
              "    </tr>\n",
              "    <tr>\n",
              "      <th>1</th>\n",
              "      <td>1514764920</td>\n",
              "      <td>Bitcoin Cash</td>\n",
              "      <td>53.0</td>\n",
              "      <td>2374.553333</td>\n",
              "      <td>2400.9</td>\n",
              "      <td>2354.20</td>\n",
              "      <td>2372.286667</td>\n",
              "      <td>24.050259</td>\n",
              "      <td>2371.434498</td>\n",
              "      <td>-0.004079</td>\n",
              "    </tr>\n",
              "    <tr>\n",
              "      <th>2</th>\n",
              "      <td>1514764980</td>\n",
              "      <td>Bitcoin Cash</td>\n",
              "      <td>61.0</td>\n",
              "      <td>2371.633333</td>\n",
              "      <td>2401.9</td>\n",
              "      <td>2353.70</td>\n",
              "      <td>2372.063333</td>\n",
              "      <td>42.676438</td>\n",
              "      <td>2375.442755</td>\n",
              "      <td>-0.002892</td>\n",
              "    </tr>\n",
              "    <tr>\n",
              "      <th>3</th>\n",
              "      <td>1514765040</td>\n",
              "      <td>Bitcoin Cash</td>\n",
              "      <td>95.0</td>\n",
              "      <td>2376.060000</td>\n",
              "      <td>2406.4</td>\n",
              "      <td>2344.00</td>\n",
              "      <td>2370.566667</td>\n",
              "      <td>37.820918</td>\n",
              "      <td>2371.096152</td>\n",
              "      <td>-0.003718</td>\n",
              "    </tr>\n",
              "    <tr>\n",
              "      <th>4</th>\n",
              "      <td>1514765100</td>\n",
              "      <td>Bitcoin Cash</td>\n",
              "      <td>33.0</td>\n",
              "      <td>2372.656667</td>\n",
              "      <td>2404.6</td>\n",
              "      <td>2343.40</td>\n",
              "      <td>2370.173333</td>\n",
              "      <td>8.519679</td>\n",
              "      <td>2370.345730</td>\n",
              "      <td>-0.002171</td>\n",
              "    </tr>\n",
              "  </tbody>\n",
              "</table>\n",
              "</div>"
            ],
            "text/plain": [
              "    timestamp    asset_name  count  ...     volume         vwap    target\n",
              "0  1514764860  Bitcoin Cash   40.0  ...  19.233005  2373.116392 -0.004218\n",
              "1  1514764920  Bitcoin Cash   53.0  ...  24.050259  2371.434498 -0.004079\n",
              "2  1514764980  Bitcoin Cash   61.0  ...  42.676438  2375.442755 -0.002892\n",
              "3  1514765040  Bitcoin Cash   95.0  ...  37.820918  2371.096152 -0.003718\n",
              "4  1514765100  Bitcoin Cash   33.0  ...   8.519679  2370.345730 -0.002171\n",
              "\n",
              "[5 rows x 10 columns]"
            ]
          },
          "metadata": {},
          "execution_count": 9
        }
      ]
    },
    {
      "cell_type": "code",
      "metadata": {
        "colab": {
          "base_uri": "https://localhost:8080/"
        },
        "id": "b8fa098a",
        "outputId": "a5697735-4257-411e-a88d-f3bae89cbcf0"
      },
      "source": [
        "# Missing values exploration\n",
        "df.isnull().mean() * 100"
      ],
      "id": "b8fa098a",
      "execution_count": 10,
      "outputs": [
        {
          "output_type": "execute_result",
          "data": {
            "text/plain": [
              "timestamp     0.000000\n",
              "asset_name    0.000000\n",
              "count         0.000000\n",
              "open          0.000000\n",
              "high          0.000000\n",
              "low           0.000000\n",
              "close         0.000000\n",
              "volume        0.000000\n",
              "vwap          0.000034\n",
              "target        2.864831\n",
              "dtype: float64"
            ]
          },
          "metadata": {},
          "execution_count": 10
        }
      ]
    },
    {
      "cell_type": "markdown",
      "metadata": {
        "id": "73c71964"
      },
      "source": [
        "Only 3% of data is missing in the target column. Choice was taken to drop these data. "
      ],
      "id": "73c71964"
    },
    {
      "cell_type": "code",
      "metadata": {
        "id": "25976221"
      },
      "source": [
        "# Deleting missing data\n",
        "df.dropna(inplace=True)"
      ],
      "id": "25976221",
      "execution_count": 11,
      "outputs": []
    },
    {
      "cell_type": "markdown",
      "metadata": {
        "id": "f0cec8f0"
      },
      "source": [
        "## 2) Exploratory Analysis"
      ],
      "id": "f0cec8f0"
    },
    {
      "cell_type": "markdown",
      "metadata": {
        "id": "af50152d"
      },
      "source": [
        "### a) Candlestick representation"
      ],
      "id": "af50152d"
    },
    {
      "cell_type": "markdown",
      "metadata": {
        "id": "bC7wRLU5uPIN"
      },
      "source": [
        "In this part, data will be visualised with the help of candlestick graphs. This kind of graph is used to see information about open, close, high and low values of a currency during a certain period of time. Here, the last 120 minutes were reprensented.\n",
        "To realize the graph, a dataframe for each currency was created. Then, Plotly library was used to displayed the graphs."
      ],
      "id": "bC7wRLU5uPIN"
    },
    {
      "cell_type": "code",
      "metadata": {
        "id": "f25388a5"
      },
      "source": [
        "binance = crypto_df(\"Binance Coin\", data=df)\n",
        "btc = crypto_df(\"Bitcoin\", data=df)\n",
        "btc_cash = crypto_df(\"Bitcoin Cash\", data=df)\n",
        "cardano = crypto_df(\"Cardano\", data=df)\n",
        "dogecoin = crypto_df(\"Dogecoin\", data=df)\n",
        "eos = crypto_df(\"EOS.IO\", data=df)\n",
        "eth = crypto_df(\"Ethereum\", data=df)\n",
        "eth_classic = crypto_df(\"Ethereum Classic\", data=df)\n",
        "iota = crypto_df(\"IOTA\", data=df)\n",
        "litecoin = crypto_df(\"Litecoin\", data=df)\n",
        "maker = crypto_df(\"Maker\", data=df)\n",
        "monero = crypto_df(\"Monero\", data=df)\n",
        "stellar = crypto_df(\"Stellar\", data=df)\n",
        "tron = crypto_df(\"TRON\", data=df)"
      ],
      "id": "f25388a5",
      "execution_count": 12,
      "outputs": []
    },
    {
      "cell_type": "markdown",
      "metadata": {
        "id": "361f3205"
      },
      "source": [
        "- Binance Coin"
      ],
      "id": "361f3205"
    },
    {
      "cell_type": "code",
      "metadata": {
        "colab": {
          "base_uri": "https://localhost:8080/",
          "height": 542
        },
        "id": "155c2671",
        "outputId": "a1184577-30a8-41c6-e3a7-643955f54074"
      },
      "source": [
        "binance_plot = candelstick_chart(binance[-120:], title=\"Binance Coin\")\n",
        "binance_plot.show()"
      ],
      "id": "155c2671",
      "execution_count": 13,
      "outputs": [
        {
          "output_type": "display_data",
          "data": {
            "text/html": [
              "<html>\n",
              "<head><meta charset=\"utf-8\" /></head>\n",
              "<body>\n",
              "    <div>\n",
              "            <script src=\"https://cdnjs.cloudflare.com/ajax/libs/mathjax/2.7.5/MathJax.js?config=TeX-AMS-MML_SVG\"></script><script type=\"text/javascript\">if (window.MathJax) {MathJax.Hub.Config({SVG: {font: \"STIX-Web\"}});}</script>\n",
              "                <script type=\"text/javascript\">window.PlotlyConfig = {MathJaxConfig: 'local'};</script>\n",
              "        <script src=\"https://cdn.plot.ly/plotly-latest.min.js\"></script>    \n",
              "            <div id=\"826d7597-49c0-4b0e-94fa-b577ade0eac5\" class=\"plotly-graph-div\" style=\"height:525px; width:100%;\"></div>\n",
              "            <script type=\"text/javascript\">\n",
              "                \n",
              "                    window.PLOTLYENV=window.PLOTLYENV || {};\n",
              "                    \n",
              "                if (document.getElementById(\"826d7597-49c0-4b0e-94fa-b577ade0eac5\")) {\n",
              "                    Plotly.newPlot(\n",
              "                        '826d7597-49c0-4b0e-94fa-b577ade0eac5',\n",
              "                        [{\"close\": [368.95, 369.05, 369.149, 368.36199999999997, 368.23400000000004, 368.6975, 368.8265, 368.204, 367.4695, 367.5115, 367.78, 367.03, 367.038, 366.325, 366.249, 367.209, 366.967, 366.601, 367.702, 367.8125, 366.926, 367.484, 368.05, 368.765, 368.7655, 369.121, 369.7475, 369.3225, 369.16150000000016, 369.374, 370.0995, 370.1555, 371.152, 371.089, 370.8945, 371.047, 370.499, 370.9935, 371.48400000000004, 371.0865, 371.23800000000006, 370.7845, 370.3205, 370.2295, 370.009, 370.42, 370.0265, 370.173, 370.0655, 370.425, 370.51, 370.797, 370.744, 370.3585, 370.0505, 370.359, 369.85400000000004, 369.5585, 369.3165, 368.9395, 368.3085, 368.05, 367.5685, 367.387, 366.7125, 366.012, 365.4805, 365.2075, 364.51, 363.7635, 364.009, 364.1715, 364.51650000000006, 364.274, 364.6175, 364.5295, 364.4295, 365.4685, 366.4155, 365.6215, 363.50800000000004, 363.4595, 363.3095, 363.085, 361.8995, 361.6065, 361.458, 361.1535, 360.91, 362.6, 361.23, 362.399, 361.458, 362.4575, 361.4995, 361.05, 360.457, 360.9285, 359.897, 359.4980000000001, 359.449, 360.2615, 360.63, 359.76150000000007, 359.4975, 359.3795, 359.4705, 359.5525, 360.6005, 360.4485, 361.1985, 361.7415, 361.10699999999997, 361.1795, 360.04099999999994, 361.167, 362.076, 361.84, 361.3165, 360.293], \"high\": [369.1, 369.125, 369.3, 369.2, 368.4, 368.8, 368.9, 368.9, 368.3, 367.6, 367.8, 367.8, 367.168, 367.0, 366.549, 367.3, 367.3, 367.2, 367.9, 368.2, 367.9, 367.7, 368.2, 368.9, 369.0, 369.5, 369.9, 369.8, 369.9, 370.302, 370.417, 370.6, 371.2, 371.3, 371.1, 371.3, 371.6, 371.1, 371.7, 371.6, 371.4, 371.5, 370.9, 370.6, 370.5, 370.5, 370.5, 370.4, 370.3, 370.5, 371.2, 370.9, 371.3, 370.8, 370.5, 370.5, 370.4, 370.1, 369.8, 369.7, 369.2, 368.4, 368.5, 368.2, 367.6, 367.3, 366.5, 365.7, 365.6, 364.6, 364.9, 364.5, 364.6, 364.9, 364.7, 365.0, 364.9, 366.0, 366.7, 367.0, 365.6, 364.2, 364.3, 363.7, 363.4, 362.3, 362.1, 361.7, 362.1, 363.2, 363.7, 362.6, 362.8, 362.7, 362.5, 361.9, 361.2, 361.3, 360.9, 360.3, 360.4, 360.5, 360.8, 360.92, 360.0, 360.5, 360.3, 359.8, 360.8, 361.8, 361.9, 362.4, 362.1, 362.1, 361.7, 361.3, 362.503, 362.5, 362.3, 361.6], \"low\": [368.7, 368.9, 369.0, 368.3, 368.0, 368.2, 368.7, 368.1, 367.4, 367.4, 367.5, 366.9, 366.9, 366.2, 366.1, 366.2, 366.6, 366.4, 366.7, 367.6, 366.9, 366.791, 367.485, 368.0, 368.4, 368.86, 369.0, 369.145, 369.12300000000016, 368.8, 369.1, 370.0, 370.2, 370.3, 370.4, 370.5, 370.2, 370.4, 370.87, 370.9, 370.74800000000016, 370.76, 370.3, 370.1, 370.0, 369.734, 369.8, 369.3, 369.867, 370.061, 370.381, 370.117, 370.585, 370.203, 369.9, 369.7, 369.687, 369.517, 369.3, 368.701, 367.5, 367.84, 367.4, 367.374, 366.655, 365.8, 365.361, 365.0, 364.4, 363.4, 363.8, 363.2, 362.6, 363.3, 363.5, 364.4, 364.0, 364.4, 365.3, 365.5, 363.36300000000006, 363.1, 363.125, 362.9, 361.455, 361.2, 361.2, 360.55800000000005, 360.8, 360.8, 361.07, 360.5, 361.331, 361.085, 361.293, 360.8, 359.666, 359.86400000000015, 359.1, 359.4, 358.881, 359.09, 359.2, 359.5, 359.2, 359.1, 359.3, 359.0, 359.1, 360.3, 360.4, 361.2, 361.0, 361.05800000000005, 359.88199999999995, 359.8, 361.0, 361.2, 361.194, 360.074], \"open\": [368.795, 369.0085, 369.0975, 369.195, 368.2935, 368.297, 368.77400000000006, 368.827, 368.207, 367.5075, 367.602, 367.78, 367.0305, 366.9875, 366.31050000000016, 366.315, 367.2095, 367.1355, 366.796, 367.692, 367.8, 366.8455, 367.6975, 368.1, 368.7895, 368.88, 369.066, 369.73199999999997, 369.443, 369.1295, 369.3245, 370.102, 370.3585, 371.105, 370.9985, 370.9945, 371.025, 370.542, 370.885, 371.4885, 371.066, 371.3475, 370.78650000000016, 370.273, 370.2035, 370.076, 370.344, 370.0265, 370.175, 370.275, 370.3905, 370.455, 370.85, 370.6575, 370.415, 370.0085, 370.3065, 369.793, 369.6225, 369.3315, 368.94, 368.20000000000016, 368.0945, 367.6625, 367.4355, 366.7545, 366.00800000000004, 365.5545, 365.2075, 364.50800000000004, 363.869, 364.1175, 364.2165, 364.4145, 364.3705, 364.6940000000001, 364.60699999999997, 364.4265, 365.467, 366.413, 365.46, 363.524, 363.369, 363.346, 363.0095, 361.8995, 361.657, 361.454, 361.257, 360.85, 362.5035, 361.2055, 362.359, 361.458, 362.4475, 361.4065, 360.907, 360.5115, 360.879, 359.75300000000016, 359.552, 359.409, 360.23199999999997, 360.7135, 359.795, 359.5775, 359.38599999999997, 359.4335, 359.3985, 360.7305, 360.4445, 361.2755, 361.7415, 361.3365, 361.1995, 360.087, 361.088, 361.985, 361.8515, 361.401], \"type\": \"candlestick\", \"x\": [\"2021-09-20T21:45:00\", \"2021-09-20T21:46:00\", \"2021-09-20T21:47:00\", \"2021-09-20T21:48:00\", \"2021-09-20T21:49:00\", \"2021-09-20T21:50:00\", \"2021-09-20T21:51:00\", \"2021-09-20T21:52:00\", \"2021-09-20T21:53:00\", \"2021-09-20T21:54:00\", \"2021-09-20T21:55:00\", \"2021-09-20T21:56:00\", \"2021-09-20T21:57:00\", \"2021-09-20T21:58:00\", \"2021-09-20T21:59:00\", \"2021-09-20T22:00:00\", \"2021-09-20T22:01:00\", \"2021-09-20T22:02:00\", \"2021-09-20T22:03:00\", \"2021-09-20T22:04:00\", \"2021-09-20T22:05:00\", \"2021-09-20T22:06:00\", \"2021-09-20T22:07:00\", \"2021-09-20T22:08:00\", \"2021-09-20T22:09:00\", \"2021-09-20T22:10:00\", \"2021-09-20T22:11:00\", \"2021-09-20T22:12:00\", \"2021-09-20T22:13:00\", \"2021-09-20T22:14:00\", \"2021-09-20T22:15:00\", \"2021-09-20T22:16:00\", \"2021-09-20T22:17:00\", \"2021-09-20T22:18:00\", \"2021-09-20T22:19:00\", \"2021-09-20T22:20:00\", \"2021-09-20T22:21:00\", \"2021-09-20T22:22:00\", \"2021-09-20T22:23:00\", \"2021-09-20T22:24:00\", \"2021-09-20T22:25:00\", \"2021-09-20T22:26:00\", \"2021-09-20T22:27:00\", \"2021-09-20T22:28:00\", \"2021-09-20T22:29:00\", \"2021-09-20T22:30:00\", \"2021-09-20T22:31:00\", \"2021-09-20T22:32:00\", \"2021-09-20T22:33:00\", \"2021-09-20T22:34:00\", \"2021-09-20T22:35:00\", \"2021-09-20T22:36:00\", \"2021-09-20T22:37:00\", \"2021-09-20T22:38:00\", \"2021-09-20T22:39:00\", \"2021-09-20T22:40:00\", \"2021-09-20T22:41:00\", \"2021-09-20T22:42:00\", \"2021-09-20T22:43:00\", \"2021-09-20T22:44:00\", \"2021-09-20T22:45:00\", \"2021-09-20T22:46:00\", \"2021-09-20T22:47:00\", \"2021-09-20T22:48:00\", \"2021-09-20T22:49:00\", \"2021-09-20T22:50:00\", \"2021-09-20T22:51:00\", \"2021-09-20T22:52:00\", \"2021-09-20T22:53:00\", \"2021-09-20T22:54:00\", \"2021-09-20T22:55:00\", \"2021-09-20T22:56:00\", \"2021-09-20T22:57:00\", \"2021-09-20T22:58:00\", \"2021-09-20T22:59:00\", \"2021-09-20T23:00:00\", \"2021-09-20T23:01:00\", \"2021-09-20T23:02:00\", \"2021-09-20T23:03:00\", \"2021-09-20T23:04:00\", \"2021-09-20T23:05:00\", \"2021-09-20T23:06:00\", \"2021-09-20T23:07:00\", \"2021-09-20T23:08:00\", \"2021-09-20T23:09:00\", \"2021-09-20T23:10:00\", \"2021-09-20T23:11:00\", \"2021-09-20T23:12:00\", \"2021-09-20T23:13:00\", \"2021-09-20T23:14:00\", \"2021-09-20T23:15:00\", \"2021-09-20T23:16:00\", \"2021-09-20T23:17:00\", \"2021-09-20T23:18:00\", \"2021-09-20T23:19:00\", \"2021-09-20T23:20:00\", \"2021-09-20T23:21:00\", \"2021-09-20T23:22:00\", \"2021-09-20T23:23:00\", \"2021-09-20T23:24:00\", \"2021-09-20T23:25:00\", \"2021-09-20T23:26:00\", \"2021-09-20T23:27:00\", \"2021-09-20T23:28:00\", \"2021-09-20T23:29:00\", \"2021-09-20T23:30:00\", \"2021-09-20T23:31:00\", \"2021-09-20T23:32:00\", \"2021-09-20T23:33:00\", \"2021-09-20T23:34:00\", \"2021-09-20T23:35:00\", \"2021-09-20T23:36:00\", \"2021-09-20T23:37:00\", \"2021-09-20T23:38:00\", \"2021-09-20T23:39:00\", \"2021-09-20T23:40:00\", \"2021-09-20T23:41:00\", \"2021-09-20T23:42:00\", \"2021-09-20T23:43:00\", \"2021-09-20T23:44:00\"]}],\n",
              "                        {\"template\": {\"data\": {\"bar\": [{\"error_x\": {\"color\": \"#2a3f5f\"}, \"error_y\": {\"color\": \"#2a3f5f\"}, \"marker\": {\"line\": {\"color\": \"#E5ECF6\", \"width\": 0.5}}, \"type\": \"bar\"}], \"barpolar\": [{\"marker\": {\"line\": {\"color\": \"#E5ECF6\", \"width\": 0.5}}, \"type\": \"barpolar\"}], \"carpet\": [{\"aaxis\": {\"endlinecolor\": \"#2a3f5f\", \"gridcolor\": \"white\", \"linecolor\": \"white\", \"minorgridcolor\": \"white\", \"startlinecolor\": \"#2a3f5f\"}, \"baxis\": {\"endlinecolor\": \"#2a3f5f\", \"gridcolor\": \"white\", \"linecolor\": \"white\", \"minorgridcolor\": \"white\", \"startlinecolor\": \"#2a3f5f\"}, \"type\": \"carpet\"}], \"choropleth\": [{\"colorbar\": {\"outlinewidth\": 0, \"ticks\": \"\"}, \"type\": \"choropleth\"}], \"contour\": [{\"colorbar\": {\"outlinewidth\": 0, \"ticks\": \"\"}, \"colorscale\": [[0.0, \"#0d0887\"], [0.1111111111111111, \"#46039f\"], [0.2222222222222222, \"#7201a8\"], [0.3333333333333333, \"#9c179e\"], [0.4444444444444444, \"#bd3786\"], [0.5555555555555556, \"#d8576b\"], [0.6666666666666666, \"#ed7953\"], [0.7777777777777778, \"#fb9f3a\"], [0.8888888888888888, \"#fdca26\"], [1.0, \"#f0f921\"]], \"type\": \"contour\"}], \"contourcarpet\": [{\"colorbar\": {\"outlinewidth\": 0, \"ticks\": \"\"}, \"type\": \"contourcarpet\"}], \"heatmap\": [{\"colorbar\": {\"outlinewidth\": 0, \"ticks\": \"\"}, \"colorscale\": [[0.0, \"#0d0887\"], [0.1111111111111111, \"#46039f\"], [0.2222222222222222, \"#7201a8\"], [0.3333333333333333, \"#9c179e\"], [0.4444444444444444, \"#bd3786\"], [0.5555555555555556, \"#d8576b\"], [0.6666666666666666, \"#ed7953\"], [0.7777777777777778, \"#fb9f3a\"], [0.8888888888888888, \"#fdca26\"], [1.0, \"#f0f921\"]], \"type\": \"heatmap\"}], \"heatmapgl\": [{\"colorbar\": {\"outlinewidth\": 0, \"ticks\": \"\"}, \"colorscale\": [[0.0, \"#0d0887\"], [0.1111111111111111, \"#46039f\"], [0.2222222222222222, \"#7201a8\"], [0.3333333333333333, \"#9c179e\"], [0.4444444444444444, \"#bd3786\"], [0.5555555555555556, \"#d8576b\"], [0.6666666666666666, \"#ed7953\"], [0.7777777777777778, \"#fb9f3a\"], [0.8888888888888888, \"#fdca26\"], [1.0, \"#f0f921\"]], \"type\": \"heatmapgl\"}], \"histogram\": [{\"marker\": {\"colorbar\": {\"outlinewidth\": 0, \"ticks\": \"\"}}, \"type\": \"histogram\"}], \"histogram2d\": [{\"colorbar\": {\"outlinewidth\": 0, \"ticks\": \"\"}, \"colorscale\": [[0.0, \"#0d0887\"], [0.1111111111111111, \"#46039f\"], [0.2222222222222222, \"#7201a8\"], [0.3333333333333333, \"#9c179e\"], [0.4444444444444444, \"#bd3786\"], [0.5555555555555556, \"#d8576b\"], [0.6666666666666666, \"#ed7953\"], [0.7777777777777778, \"#fb9f3a\"], [0.8888888888888888, \"#fdca26\"], [1.0, \"#f0f921\"]], \"type\": \"histogram2d\"}], \"histogram2dcontour\": [{\"colorbar\": {\"outlinewidth\": 0, \"ticks\": \"\"}, \"colorscale\": [[0.0, \"#0d0887\"], [0.1111111111111111, \"#46039f\"], [0.2222222222222222, \"#7201a8\"], [0.3333333333333333, \"#9c179e\"], [0.4444444444444444, \"#bd3786\"], [0.5555555555555556, \"#d8576b\"], [0.6666666666666666, \"#ed7953\"], [0.7777777777777778, \"#fb9f3a\"], [0.8888888888888888, \"#fdca26\"], [1.0, \"#f0f921\"]], \"type\": \"histogram2dcontour\"}], \"mesh3d\": [{\"colorbar\": {\"outlinewidth\": 0, \"ticks\": \"\"}, \"type\": \"mesh3d\"}], \"parcoords\": [{\"line\": {\"colorbar\": {\"outlinewidth\": 0, \"ticks\": \"\"}}, \"type\": \"parcoords\"}], \"pie\": [{\"automargin\": true, \"type\": \"pie\"}], \"scatter\": [{\"marker\": {\"colorbar\": {\"outlinewidth\": 0, \"ticks\": \"\"}}, \"type\": \"scatter\"}], \"scatter3d\": [{\"line\": {\"colorbar\": {\"outlinewidth\": 0, \"ticks\": \"\"}}, \"marker\": {\"colorbar\": {\"outlinewidth\": 0, \"ticks\": \"\"}}, \"type\": \"scatter3d\"}], \"scattercarpet\": [{\"marker\": {\"colorbar\": {\"outlinewidth\": 0, \"ticks\": \"\"}}, \"type\": \"scattercarpet\"}], \"scattergeo\": [{\"marker\": {\"colorbar\": {\"outlinewidth\": 0, \"ticks\": \"\"}}, \"type\": \"scattergeo\"}], \"scattergl\": [{\"marker\": {\"colorbar\": {\"outlinewidth\": 0, \"ticks\": \"\"}}, \"type\": \"scattergl\"}], \"scattermapbox\": [{\"marker\": {\"colorbar\": {\"outlinewidth\": 0, \"ticks\": \"\"}}, \"type\": \"scattermapbox\"}], \"scatterpolar\": [{\"marker\": {\"colorbar\": {\"outlinewidth\": 0, \"ticks\": \"\"}}, \"type\": \"scatterpolar\"}], \"scatterpolargl\": [{\"marker\": {\"colorbar\": {\"outlinewidth\": 0, \"ticks\": \"\"}}, \"type\": \"scatterpolargl\"}], \"scatterternary\": [{\"marker\": {\"colorbar\": {\"outlinewidth\": 0, \"ticks\": \"\"}}, \"type\": \"scatterternary\"}], \"surface\": [{\"colorbar\": {\"outlinewidth\": 0, \"ticks\": \"\"}, \"colorscale\": [[0.0, \"#0d0887\"], [0.1111111111111111, \"#46039f\"], [0.2222222222222222, \"#7201a8\"], [0.3333333333333333, \"#9c179e\"], [0.4444444444444444, \"#bd3786\"], [0.5555555555555556, \"#d8576b\"], [0.6666666666666666, \"#ed7953\"], [0.7777777777777778, \"#fb9f3a\"], [0.8888888888888888, \"#fdca26\"], [1.0, \"#f0f921\"]], \"type\": \"surface\"}], \"table\": [{\"cells\": {\"fill\": {\"color\": \"#EBF0F8\"}, \"line\": {\"color\": \"white\"}}, \"header\": {\"fill\": {\"color\": \"#C8D4E3\"}, \"line\": {\"color\": \"white\"}}, \"type\": \"table\"}]}, \"layout\": {\"annotationdefaults\": {\"arrowcolor\": \"#2a3f5f\", \"arrowhead\": 0, \"arrowwidth\": 1}, \"coloraxis\": {\"colorbar\": {\"outlinewidth\": 0, \"ticks\": \"\"}}, \"colorscale\": {\"diverging\": [[0, \"#8e0152\"], [0.1, \"#c51b7d\"], [0.2, \"#de77ae\"], [0.3, \"#f1b6da\"], [0.4, \"#fde0ef\"], [0.5, \"#f7f7f7\"], [0.6, \"#e6f5d0\"], [0.7, \"#b8e186\"], [0.8, \"#7fbc41\"], [0.9, \"#4d9221\"], [1, \"#276419\"]], \"sequential\": [[0.0, \"#0d0887\"], [0.1111111111111111, \"#46039f\"], [0.2222222222222222, \"#7201a8\"], [0.3333333333333333, \"#9c179e\"], [0.4444444444444444, \"#bd3786\"], [0.5555555555555556, \"#d8576b\"], [0.6666666666666666, \"#ed7953\"], [0.7777777777777778, \"#fb9f3a\"], [0.8888888888888888, \"#fdca26\"], [1.0, \"#f0f921\"]], \"sequentialminus\": [[0.0, \"#0d0887\"], [0.1111111111111111, \"#46039f\"], [0.2222222222222222, \"#7201a8\"], [0.3333333333333333, \"#9c179e\"], [0.4444444444444444, \"#bd3786\"], [0.5555555555555556, \"#d8576b\"], [0.6666666666666666, \"#ed7953\"], [0.7777777777777778, \"#fb9f3a\"], [0.8888888888888888, \"#fdca26\"], [1.0, \"#f0f921\"]]}, \"colorway\": [\"#636efa\", \"#EF553B\", \"#00cc96\", \"#ab63fa\", \"#FFA15A\", \"#19d3f3\", \"#FF6692\", \"#B6E880\", \"#FF97FF\", \"#FECB52\"], \"font\": {\"color\": \"#2a3f5f\"}, \"geo\": {\"bgcolor\": \"white\", \"lakecolor\": \"white\", \"landcolor\": \"#E5ECF6\", \"showlakes\": true, \"showland\": true, \"subunitcolor\": \"white\"}, \"hoverlabel\": {\"align\": \"left\"}, \"hovermode\": \"closest\", \"mapbox\": {\"style\": \"light\"}, \"paper_bgcolor\": \"white\", \"plot_bgcolor\": \"#E5ECF6\", \"polar\": {\"angularaxis\": {\"gridcolor\": \"white\", \"linecolor\": \"white\", \"ticks\": \"\"}, \"bgcolor\": \"#E5ECF6\", \"radialaxis\": {\"gridcolor\": \"white\", \"linecolor\": \"white\", \"ticks\": \"\"}}, \"scene\": {\"xaxis\": {\"backgroundcolor\": \"#E5ECF6\", \"gridcolor\": \"white\", \"gridwidth\": 2, \"linecolor\": \"white\", \"showbackground\": true, \"ticks\": \"\", \"zerolinecolor\": \"white\"}, \"yaxis\": {\"backgroundcolor\": \"#E5ECF6\", \"gridcolor\": \"white\", \"gridwidth\": 2, \"linecolor\": \"white\", \"showbackground\": true, \"ticks\": \"\", \"zerolinecolor\": \"white\"}, \"zaxis\": {\"backgroundcolor\": \"#E5ECF6\", \"gridcolor\": \"white\", \"gridwidth\": 2, \"linecolor\": \"white\", \"showbackground\": true, \"ticks\": \"\", \"zerolinecolor\": \"white\"}}, \"shapedefaults\": {\"line\": {\"color\": \"#2a3f5f\"}}, \"ternary\": {\"aaxis\": {\"gridcolor\": \"white\", \"linecolor\": \"white\", \"ticks\": \"\"}, \"baxis\": {\"gridcolor\": \"white\", \"linecolor\": \"white\", \"ticks\": \"\"}, \"bgcolor\": \"#E5ECF6\", \"caxis\": {\"gridcolor\": \"white\", \"linecolor\": \"white\", \"ticks\": \"\"}}, \"title\": {\"x\": 0.05}, \"xaxis\": {\"automargin\": true, \"gridcolor\": \"white\", \"linecolor\": \"white\", \"ticks\": \"\", \"title\": {\"standoff\": 15}, \"zerolinecolor\": \"white\", \"zerolinewidth\": 2}, \"yaxis\": {\"automargin\": true, \"gridcolor\": \"white\", \"linecolor\": \"white\", \"ticks\": \"\", \"title\": {\"standoff\": 15}, \"zerolinecolor\": \"white\", \"zerolinewidth\": 2}}}, \"title\": {\"text\": \"Binance Coin Candelstick Chart\", \"x\": 0.5, \"xanchor\": \"center\", \"y\": 0.9, \"yanchor\": \"top\"}, \"xaxis\": {\"rangeslider\": {\"visible\": false}, \"title\": {\"text\": \"Time\"}}, \"yaxis\": {\"ticksuffix\": \"$\", \"title\": {\"text\": \"Price in USD\"}}},\n",
              "                        {\"responsive\": true}\n",
              "                    ).then(function(){\n",
              "                            \n",
              "var gd = document.getElementById('826d7597-49c0-4b0e-94fa-b577ade0eac5');\n",
              "var x = new MutationObserver(function (mutations, observer) {{\n",
              "        var display = window.getComputedStyle(gd).display;\n",
              "        if (!display || display === 'none') {{\n",
              "            console.log([gd, 'removed!']);\n",
              "            Plotly.purge(gd);\n",
              "            observer.disconnect();\n",
              "        }}\n",
              "}});\n",
              "\n",
              "// Listen for the removal of the full notebook cells\n",
              "var notebookContainer = gd.closest('#notebook-container');\n",
              "if (notebookContainer) {{\n",
              "    x.observe(notebookContainer, {childList: true});\n",
              "}}\n",
              "\n",
              "// Listen for the clearing of the current output cell\n",
              "var outputEl = gd.closest('.output');\n",
              "if (outputEl) {{\n",
              "    x.observe(outputEl, {childList: true});\n",
              "}}\n",
              "\n",
              "                        })\n",
              "                };\n",
              "                \n",
              "            </script>\n",
              "        </div>\n",
              "</body>\n",
              "</html>"
            ]
          },
          "metadata": {}
        }
      ]
    },
    {
      "cell_type": "markdown",
      "metadata": {
        "id": "8fe15b7d"
      },
      "source": [
        "- Bitcoin"
      ],
      "id": "8fe15b7d"
    },
    {
      "cell_type": "code",
      "metadata": {
        "colab": {
          "base_uri": "https://localhost:8080/",
          "height": 542
        },
        "id": "b95a958f",
        "outputId": "b263232a-8d9a-4096-e3fd-2f2f60cdb35a"
      },
      "source": [
        "btc_plot = candelstick_chart(btc[-120:], title=\"Bitcoin\")\n",
        "btc_plot.show()"
      ],
      "id": "b95a958f",
      "execution_count": 14,
      "outputs": [
        {
          "output_type": "display_data",
          "data": {
            "text/html": [
              "<html>\n",
              "<head><meta charset=\"utf-8\" /></head>\n",
              "<body>\n",
              "    <div>\n",
              "            <script src=\"https://cdnjs.cloudflare.com/ajax/libs/mathjax/2.7.5/MathJax.js?config=TeX-AMS-MML_SVG\"></script><script type=\"text/javascript\">if (window.MathJax) {MathJax.Hub.Config({SVG: {font: \"STIX-Web\"}});}</script>\n",
              "                <script type=\"text/javascript\">window.PlotlyConfig = {MathJaxConfig: 'local'};</script>\n",
              "        <script src=\"https://cdn.plot.ly/plotly-latest.min.js\"></script>    \n",
              "            <div id=\"e39c6591-91a2-4317-9f59-6ae736fc957c\" class=\"plotly-graph-div\" style=\"height:525px; width:100%;\"></div>\n",
              "            <script type=\"text/javascript\">\n",
              "                \n",
              "                    window.PLOTLYENV=window.PLOTLYENV || {};\n",
              "                    \n",
              "                if (document.getElementById(\"e39c6591-91a2-4317-9f59-6ae736fc957c\")) {\n",
              "                    Plotly.newPlot(\n",
              "                        'e39c6591-91a2-4317-9f59-6ae736fc957c',\n",
              "                        [{\"close\": [43851.00774273375, 43796.60571428571, 43767.107142857145, 43685.150000000016, 43691.55, 43724.642857142855, 43737.69285714287, 43651.975714285705, 43596.42285714286, 43623.89428571428, 43635.89571428572, 43561.85142857144, 43536.077925855716, 43480.374285714286, 43514.82, 43608.345714285715, 43568.90142857143, 43554.05285714286, 43631.01714285714, 43631.90714285714, 43537.49, 43597.75303396001, 43648.514285714286, 43697.334285714285, 43707.43, 43726.24681658715, 43765.792857142864, 43715.65571428572, 43715.125714285714, 43710.31428571429, 43731.00625, 43770.145714285725, 43814.85571428571, 43816.27125000001, 43806.570000000014, 43806.79142857143, 43770.66857142857, 43799.1, 43833.474285714285, 43811.704285714295, 43843.44, 43832.01571428571, 43786.385714285716, 43769.188571428575, 43774.467142857146, 43796.19, 43797.205714285716, 43798.15714285714, 43804.611428571436, 43831.59142857143, 43871.69625, 43897.16857142858, 43901.38285714285, 43883.258953421435, 43862.52, 43894.77857142857, 43866.73499999999, 43845.84857142857, 43823.298571428575, 43752.76714285714, 43703.374285714286, 43669.07857142857, 43642.77285714285, 43615.38, 43504.42428571429, 43367.885714285716, 43316.7225, 43295.044285714284, 43250.165714285715, 43075.9025, 43232.90125, 43259.1575, 43293.7075, 43305.09857142857, 43327.79, 43356.28068103, 43344.55857142858, 43484.61375, 43580.82375, 43470.794999999984, 43198.788571428566, 43213.69, 43269.54714285715, 43239.26125, 43114.23614144125, 43067.63, 43060.81, 42991.2775, 42989.62375, 43219.33125, 43140.19135458125, 43198.24000000001, 43110.797500000015, 43157.72298172143, 43099.1575, 43051.08285714287, 42966.91285714286, 43009.43142857143, 42880.67875, 42822.040000000015, 42699.178750000014, 42778.885, 42779.71, 42700.44625, 42659.58241635572, 42600.39625, 42624.279999999984, 42577.0, 42679.60625, 42678.21816655625, 42762.514285714286, 42825.295, 42736.6525, 42769.39571428571, 42637.115, 42703.63625, 42781.97057111125, 42755.5925, 42717.23428571428, 42657.20249999999], \"high\": [43882.75, 43913.83, 43813.0, 43788.8, 43704.19, 43738.0, 43746.19, 43747.0, 43672.0, 43639.5, 43651.0, 43647.45, 43582.0, 43550.99, 43524.0, 43618.15, 43652.3, 43587.51, 43654.6, 43682.6, 43646.0, 43614.93123772, 43660.09, 43708.05, 43744.4, 43776.1, 43785.75, 43779.05, 43756.0, 43782.7, 43777.2, 43782.74, 43830.0, 43835.6, 43835.5, 43833.6, 43867.04, 43805.3, 43861.08, 43848.1, 43860.78, 43866.41, 43840.14, 43808.31, 43800.0, 43812.4, 43818.6, 43818.4, 43821.1, 43840.7, 43910.99, 43912.1, 43940.0, 43912.0, 43908.5, 43906.71, 43906.73, 43874.98, 43851.4, 43843.87, 43782.1, 43721.3, 43699.8, 43679.99, 43633.3, 43560.02, 43417.91, 43354.59, 43359.44, 43259.3, 43281.0, 43301.61947119, 43320.02, 43348.22, 43366.0, 43391.85, 43376.0, 43546.61, 43640.0, 43627.0, 43455.0, 43276.57, 43366.0, 43288.47, 43287.5, 43133.15, 43099.98, 43072.2, 43069.67, 43289.9, 43350.5, 43229.1, 43247.5, 43193.54, 43172.9, 43122.0, 43082.02, 43029.49, 43015.0, 42897.0, 42884.85, 42836.33, 42811.0, 42852.0, 42719.98, 42779.1, 42703.01, 42650.0, 42705.0, 42802.54, 42862.0, 42877.82, 42846.0, 42833.9, 42841.99, 42736.9, 42819.38, 42827.1, 42811.3, 42752.0], \"low\": [43754.67, 43790.01, 43750.89, 43672.6, 43669.13, 43683.08, 43689.3, 43641.65, 43584.69, 43583.4, 43608.15, 43522.0, 43504.1, 43464.86, 43462.56, 43499.99, 43548.51, 43538.67, 43534.0, 43616.54, 43521.92, 43514.09, 43593.43, 43644.1, 43682.67, 43688.1, 43712.74, 43701.41, 43700.0, 43665.29, 43678.37, 43718.44, 43758.4, 43763.01, 43772.0, 43772.75, 43741.3, 43760.3, 43788.96, 43788.53, 43780.41, 43816.96, 43762.7, 43742.7, 43750.0, 43759.23, 43766.7, 43757.17, 43782.18, 43795.58, 43823.74, 43842.5, 43875.72, 43866.3, 43847.0, 43835.66, 43850.16, 43832.56, 43813.11, 43746.0, 43687.0, 43650.01, 43627.29, 43600.0, 43499.99, 43350.4, 43295.74, 43278.42, 43221.04, 43003.84, 43067.0, 43172.38, 43172.0, 43220.67, 43261.3, 43333.51, 43283.1, 43335.64, 43441.56, 43428.8, 43172.9, 43133.08, 43209.9, 43218.81, 43062.9, 43050.9, 43019.49, 42930.14, 42967.33, 42969.79, 43106.01, 43026.47, 43092.88, 43064.36, 43058.56, 43007.67, 42898.8, 42900.0, 42801.0, 42795.45, 42659.29112887, 42660.05, 42651.4, 42672.8, 42640.0, 42575.0, 42579.4, 42515.09, 42548.09, 42626.61, 42660.7, 42743.68, 42688.55, 42731.17, 42600.0, 42607.5, 42690.84, 42690.75, 42694.37, 42636.76], \"open\": [43764.222193155, 43867.28649138286, 43796.17000235, 43764.80711541429, 43683.29195864715, 43694.014285714286, 43724.80857142858, 43734.218571428566, 43648.50714285714, 43595.79378934143, 43622.90857142857, 43635.26571428571, 43561.49245584857, 43540.261460078575, 43481.815714285716, 43514.376468365714, 43617.79142857143, 43571.87298438429, 43552.885714285716, 43628.438571428575, 43627.27428571428, 43537.74857142858, 43605.25142857143, 43650.830000000016, 43700.829614364295, 43709.82420531143, 43729.398571428566, 43758.39428571429, 43711.38000000001, 43711.45285714285, 43709.3575, 43745.652857142864, 43771.43571428571, 43811.9775, 43826.62833333333, 43809.957142857136, 43813.72, 43780.97162221715, 43805.69142857142, 43832.400000000016, 43801.23428571429, 43846.09142857143, 43828.874285714286, 43786.385714285716, 43771.014285714286, 43774.80714285715, 43798.41857142857, 43794.84032981571, 43807.66285714285, 43807.34428571429, 43836.9875, 43872.08714285714, 43900.888571428564, 43901.008571428574, 43890.30857142857, 43858.474285714285, 43893.88166666668, 43866.00571428572, 43843.235714285714, 43821.555714285714, 43752.37, 43704.62857142857, 43671.72, 43644.06142857143, 43610.07408044428, 43504.71428571428, 43365.91375, 43313.70812588, 43296.055714285714, 43239.0175, 43092.85375, 43251.94250000001, 43264.50125, 43307.44571428571, 43296.88375, 43341.862857142856, 43353.12, 43365.74875000001, 43477.0875, 43588.102500000015, 43447.60285714286, 43205.55625, 43234.95285714286, 43267.83, 43229.50125, 43106.66925542, 43064.47714285714, 43054.81000000001, 43002.9225, 42998.535, 43227.1275, 43122.16, 43192.76624999999, 43106.259973661436, 43159.91625, 43085.22049047715, 43049.56714285714, 42972.15714285714, 42979.09125000001, 42873.23000000002, 42815.11375, 42707.930000000015, 42766.4325, 42775.73125, 42694.57285714285, 42675.71750000001, 42599.647142857146, 42620.29375, 42577.715, 42683.24375, 42673.72571428572, 42768.39625000001, 42819.91125, 42750.58285714287, 42760.10875, 42632.465, 42718.815, 42772.92125, 42762.29, 42703.80250000001], \"type\": \"candlestick\", \"x\": [\"2021-09-20T21:45:00\", \"2021-09-20T21:46:00\", \"2021-09-20T21:47:00\", \"2021-09-20T21:48:00\", \"2021-09-20T21:49:00\", \"2021-09-20T21:50:00\", \"2021-09-20T21:51:00\", \"2021-09-20T21:52:00\", \"2021-09-20T21:53:00\", \"2021-09-20T21:54:00\", \"2021-09-20T21:55:00\", \"2021-09-20T21:56:00\", \"2021-09-20T21:57:00\", \"2021-09-20T21:58:00\", \"2021-09-20T21:59:00\", \"2021-09-20T22:00:00\", \"2021-09-20T22:01:00\", \"2021-09-20T22:02:00\", \"2021-09-20T22:03:00\", \"2021-09-20T22:04:00\", \"2021-09-20T22:05:00\", \"2021-09-20T22:06:00\", \"2021-09-20T22:07:00\", \"2021-09-20T22:08:00\", \"2021-09-20T22:09:00\", \"2021-09-20T22:10:00\", \"2021-09-20T22:11:00\", \"2021-09-20T22:12:00\", \"2021-09-20T22:13:00\", \"2021-09-20T22:14:00\", \"2021-09-20T22:15:00\", \"2021-09-20T22:16:00\", \"2021-09-20T22:17:00\", \"2021-09-20T22:18:00\", \"2021-09-20T22:19:00\", \"2021-09-20T22:20:00\", \"2021-09-20T22:21:00\", \"2021-09-20T22:22:00\", \"2021-09-20T22:23:00\", \"2021-09-20T22:24:00\", \"2021-09-20T22:25:00\", \"2021-09-20T22:26:00\", \"2021-09-20T22:27:00\", \"2021-09-20T22:28:00\", \"2021-09-20T22:29:00\", \"2021-09-20T22:30:00\", \"2021-09-20T22:31:00\", \"2021-09-20T22:32:00\", \"2021-09-20T22:33:00\", \"2021-09-20T22:34:00\", \"2021-09-20T22:35:00\", \"2021-09-20T22:36:00\", \"2021-09-20T22:37:00\", \"2021-09-20T22:38:00\", \"2021-09-20T22:39:00\", \"2021-09-20T22:40:00\", \"2021-09-20T22:41:00\", \"2021-09-20T22:42:00\", \"2021-09-20T22:43:00\", \"2021-09-20T22:44:00\", \"2021-09-20T22:45:00\", \"2021-09-20T22:46:00\", \"2021-09-20T22:47:00\", \"2021-09-20T22:48:00\", \"2021-09-20T22:49:00\", \"2021-09-20T22:50:00\", \"2021-09-20T22:51:00\", \"2021-09-20T22:52:00\", \"2021-09-20T22:53:00\", \"2021-09-20T22:54:00\", \"2021-09-20T22:55:00\", \"2021-09-20T22:56:00\", \"2021-09-20T22:57:00\", \"2021-09-20T22:58:00\", \"2021-09-20T22:59:00\", \"2021-09-20T23:00:00\", \"2021-09-20T23:01:00\", \"2021-09-20T23:02:00\", \"2021-09-20T23:03:00\", \"2021-09-20T23:04:00\", \"2021-09-20T23:05:00\", \"2021-09-20T23:06:00\", \"2021-09-20T23:07:00\", \"2021-09-20T23:08:00\", \"2021-09-20T23:09:00\", \"2021-09-20T23:10:00\", \"2021-09-20T23:11:00\", \"2021-09-20T23:12:00\", \"2021-09-20T23:13:00\", \"2021-09-20T23:14:00\", \"2021-09-20T23:15:00\", \"2021-09-20T23:16:00\", \"2021-09-20T23:17:00\", \"2021-09-20T23:18:00\", \"2021-09-20T23:19:00\", \"2021-09-20T23:20:00\", \"2021-09-20T23:21:00\", \"2021-09-20T23:22:00\", \"2021-09-20T23:23:00\", \"2021-09-20T23:24:00\", \"2021-09-20T23:25:00\", \"2021-09-20T23:26:00\", \"2021-09-20T23:27:00\", \"2021-09-20T23:28:00\", \"2021-09-20T23:29:00\", \"2021-09-20T23:30:00\", \"2021-09-20T23:31:00\", \"2021-09-20T23:32:00\", \"2021-09-20T23:33:00\", \"2021-09-20T23:34:00\", \"2021-09-20T23:35:00\", \"2021-09-20T23:36:00\", \"2021-09-20T23:37:00\", \"2021-09-20T23:38:00\", \"2021-09-20T23:39:00\", \"2021-09-20T23:40:00\", \"2021-09-20T23:41:00\", \"2021-09-20T23:42:00\", \"2021-09-20T23:43:00\", \"2021-09-20T23:44:00\"]}],\n",
              "                        {\"template\": {\"data\": {\"bar\": [{\"error_x\": {\"color\": \"#2a3f5f\"}, \"error_y\": {\"color\": \"#2a3f5f\"}, \"marker\": {\"line\": {\"color\": \"#E5ECF6\", \"width\": 0.5}}, \"type\": \"bar\"}], \"barpolar\": [{\"marker\": {\"line\": {\"color\": \"#E5ECF6\", \"width\": 0.5}}, \"type\": \"barpolar\"}], \"carpet\": [{\"aaxis\": {\"endlinecolor\": \"#2a3f5f\", \"gridcolor\": \"white\", \"linecolor\": \"white\", \"minorgridcolor\": \"white\", \"startlinecolor\": \"#2a3f5f\"}, \"baxis\": {\"endlinecolor\": \"#2a3f5f\", \"gridcolor\": \"white\", \"linecolor\": \"white\", \"minorgridcolor\": \"white\", \"startlinecolor\": \"#2a3f5f\"}, \"type\": \"carpet\"}], \"choropleth\": [{\"colorbar\": {\"outlinewidth\": 0, \"ticks\": \"\"}, \"type\": \"choropleth\"}], \"contour\": [{\"colorbar\": {\"outlinewidth\": 0, \"ticks\": \"\"}, \"colorscale\": [[0.0, \"#0d0887\"], [0.1111111111111111, \"#46039f\"], [0.2222222222222222, \"#7201a8\"], [0.3333333333333333, \"#9c179e\"], [0.4444444444444444, \"#bd3786\"], [0.5555555555555556, \"#d8576b\"], [0.6666666666666666, \"#ed7953\"], [0.7777777777777778, \"#fb9f3a\"], [0.8888888888888888, \"#fdca26\"], [1.0, \"#f0f921\"]], \"type\": \"contour\"}], \"contourcarpet\": [{\"colorbar\": {\"outlinewidth\": 0, \"ticks\": \"\"}, \"type\": \"contourcarpet\"}], \"heatmap\": [{\"colorbar\": {\"outlinewidth\": 0, \"ticks\": \"\"}, \"colorscale\": [[0.0, \"#0d0887\"], [0.1111111111111111, \"#46039f\"], [0.2222222222222222, \"#7201a8\"], [0.3333333333333333, \"#9c179e\"], [0.4444444444444444, \"#bd3786\"], [0.5555555555555556, \"#d8576b\"], [0.6666666666666666, \"#ed7953\"], [0.7777777777777778, \"#fb9f3a\"], [0.8888888888888888, \"#fdca26\"], [1.0, \"#f0f921\"]], \"type\": \"heatmap\"}], \"heatmapgl\": [{\"colorbar\": {\"outlinewidth\": 0, \"ticks\": \"\"}, \"colorscale\": [[0.0, \"#0d0887\"], [0.1111111111111111, \"#46039f\"], [0.2222222222222222, \"#7201a8\"], [0.3333333333333333, \"#9c179e\"], [0.4444444444444444, \"#bd3786\"], [0.5555555555555556, \"#d8576b\"], [0.6666666666666666, \"#ed7953\"], [0.7777777777777778, \"#fb9f3a\"], [0.8888888888888888, \"#fdca26\"], [1.0, \"#f0f921\"]], \"type\": \"heatmapgl\"}], \"histogram\": [{\"marker\": {\"colorbar\": {\"outlinewidth\": 0, \"ticks\": \"\"}}, \"type\": \"histogram\"}], \"histogram2d\": [{\"colorbar\": {\"outlinewidth\": 0, \"ticks\": \"\"}, \"colorscale\": [[0.0, \"#0d0887\"], [0.1111111111111111, \"#46039f\"], [0.2222222222222222, \"#7201a8\"], [0.3333333333333333, \"#9c179e\"], [0.4444444444444444, \"#bd3786\"], [0.5555555555555556, \"#d8576b\"], [0.6666666666666666, \"#ed7953\"], [0.7777777777777778, \"#fb9f3a\"], [0.8888888888888888, \"#fdca26\"], [1.0, \"#f0f921\"]], \"type\": \"histogram2d\"}], \"histogram2dcontour\": [{\"colorbar\": {\"outlinewidth\": 0, \"ticks\": \"\"}, \"colorscale\": [[0.0, \"#0d0887\"], [0.1111111111111111, \"#46039f\"], [0.2222222222222222, \"#7201a8\"], [0.3333333333333333, \"#9c179e\"], [0.4444444444444444, \"#bd3786\"], [0.5555555555555556, \"#d8576b\"], [0.6666666666666666, \"#ed7953\"], [0.7777777777777778, \"#fb9f3a\"], [0.8888888888888888, \"#fdca26\"], [1.0, \"#f0f921\"]], \"type\": \"histogram2dcontour\"}], \"mesh3d\": [{\"colorbar\": {\"outlinewidth\": 0, \"ticks\": \"\"}, \"type\": \"mesh3d\"}], \"parcoords\": [{\"line\": {\"colorbar\": {\"outlinewidth\": 0, \"ticks\": \"\"}}, \"type\": \"parcoords\"}], \"pie\": [{\"automargin\": true, \"type\": \"pie\"}], \"scatter\": [{\"marker\": {\"colorbar\": {\"outlinewidth\": 0, \"ticks\": \"\"}}, \"type\": \"scatter\"}], \"scatter3d\": [{\"line\": {\"colorbar\": {\"outlinewidth\": 0, \"ticks\": \"\"}}, \"marker\": {\"colorbar\": {\"outlinewidth\": 0, \"ticks\": \"\"}}, \"type\": \"scatter3d\"}], \"scattercarpet\": [{\"marker\": {\"colorbar\": {\"outlinewidth\": 0, \"ticks\": \"\"}}, \"type\": \"scattercarpet\"}], \"scattergeo\": [{\"marker\": {\"colorbar\": {\"outlinewidth\": 0, \"ticks\": \"\"}}, \"type\": \"scattergeo\"}], \"scattergl\": [{\"marker\": {\"colorbar\": {\"outlinewidth\": 0, \"ticks\": \"\"}}, \"type\": \"scattergl\"}], \"scattermapbox\": [{\"marker\": {\"colorbar\": {\"outlinewidth\": 0, \"ticks\": \"\"}}, \"type\": \"scattermapbox\"}], \"scatterpolar\": [{\"marker\": {\"colorbar\": {\"outlinewidth\": 0, \"ticks\": \"\"}}, \"type\": \"scatterpolar\"}], \"scatterpolargl\": [{\"marker\": {\"colorbar\": {\"outlinewidth\": 0, \"ticks\": \"\"}}, \"type\": \"scatterpolargl\"}], \"scatterternary\": [{\"marker\": {\"colorbar\": {\"outlinewidth\": 0, \"ticks\": \"\"}}, \"type\": \"scatterternary\"}], \"surface\": [{\"colorbar\": {\"outlinewidth\": 0, \"ticks\": \"\"}, \"colorscale\": [[0.0, \"#0d0887\"], [0.1111111111111111, \"#46039f\"], [0.2222222222222222, \"#7201a8\"], [0.3333333333333333, \"#9c179e\"], [0.4444444444444444, \"#bd3786\"], [0.5555555555555556, \"#d8576b\"], [0.6666666666666666, \"#ed7953\"], [0.7777777777777778, \"#fb9f3a\"], [0.8888888888888888, \"#fdca26\"], [1.0, \"#f0f921\"]], \"type\": \"surface\"}], \"table\": [{\"cells\": {\"fill\": {\"color\": \"#EBF0F8\"}, \"line\": {\"color\": \"white\"}}, \"header\": {\"fill\": {\"color\": \"#C8D4E3\"}, \"line\": {\"color\": \"white\"}}, \"type\": \"table\"}]}, \"layout\": {\"annotationdefaults\": {\"arrowcolor\": \"#2a3f5f\", \"arrowhead\": 0, \"arrowwidth\": 1}, \"coloraxis\": {\"colorbar\": {\"outlinewidth\": 0, \"ticks\": \"\"}}, \"colorscale\": {\"diverging\": [[0, \"#8e0152\"], [0.1, \"#c51b7d\"], [0.2, \"#de77ae\"], [0.3, \"#f1b6da\"], [0.4, \"#fde0ef\"], [0.5, \"#f7f7f7\"], [0.6, \"#e6f5d0\"], [0.7, \"#b8e186\"], [0.8, \"#7fbc41\"], [0.9, \"#4d9221\"], [1, \"#276419\"]], \"sequential\": [[0.0, \"#0d0887\"], [0.1111111111111111, \"#46039f\"], [0.2222222222222222, \"#7201a8\"], [0.3333333333333333, \"#9c179e\"], [0.4444444444444444, \"#bd3786\"], [0.5555555555555556, \"#d8576b\"], [0.6666666666666666, \"#ed7953\"], [0.7777777777777778, \"#fb9f3a\"], [0.8888888888888888, \"#fdca26\"], [1.0, \"#f0f921\"]], \"sequentialminus\": [[0.0, \"#0d0887\"], [0.1111111111111111, \"#46039f\"], [0.2222222222222222, \"#7201a8\"], [0.3333333333333333, \"#9c179e\"], [0.4444444444444444, \"#bd3786\"], [0.5555555555555556, \"#d8576b\"], [0.6666666666666666, \"#ed7953\"], [0.7777777777777778, \"#fb9f3a\"], [0.8888888888888888, \"#fdca26\"], [1.0, \"#f0f921\"]]}, \"colorway\": [\"#636efa\", \"#EF553B\", \"#00cc96\", \"#ab63fa\", \"#FFA15A\", \"#19d3f3\", \"#FF6692\", \"#B6E880\", \"#FF97FF\", \"#FECB52\"], \"font\": {\"color\": \"#2a3f5f\"}, \"geo\": {\"bgcolor\": \"white\", \"lakecolor\": \"white\", \"landcolor\": \"#E5ECF6\", \"showlakes\": true, \"showland\": true, \"subunitcolor\": \"white\"}, \"hoverlabel\": {\"align\": \"left\"}, \"hovermode\": \"closest\", \"mapbox\": {\"style\": \"light\"}, \"paper_bgcolor\": \"white\", \"plot_bgcolor\": \"#E5ECF6\", \"polar\": {\"angularaxis\": {\"gridcolor\": \"white\", \"linecolor\": \"white\", \"ticks\": \"\"}, \"bgcolor\": \"#E5ECF6\", \"radialaxis\": {\"gridcolor\": \"white\", \"linecolor\": \"white\", \"ticks\": \"\"}}, \"scene\": {\"xaxis\": {\"backgroundcolor\": \"#E5ECF6\", \"gridcolor\": \"white\", \"gridwidth\": 2, \"linecolor\": \"white\", \"showbackground\": true, \"ticks\": \"\", \"zerolinecolor\": \"white\"}, \"yaxis\": {\"backgroundcolor\": \"#E5ECF6\", \"gridcolor\": \"white\", \"gridwidth\": 2, \"linecolor\": \"white\", \"showbackground\": true, \"ticks\": \"\", \"zerolinecolor\": \"white\"}, \"zaxis\": {\"backgroundcolor\": \"#E5ECF6\", \"gridcolor\": \"white\", \"gridwidth\": 2, \"linecolor\": \"white\", \"showbackground\": true, \"ticks\": \"\", \"zerolinecolor\": \"white\"}}, \"shapedefaults\": {\"line\": {\"color\": \"#2a3f5f\"}}, \"ternary\": {\"aaxis\": {\"gridcolor\": \"white\", \"linecolor\": \"white\", \"ticks\": \"\"}, \"baxis\": {\"gridcolor\": \"white\", \"linecolor\": \"white\", \"ticks\": \"\"}, \"bgcolor\": \"#E5ECF6\", \"caxis\": {\"gridcolor\": \"white\", \"linecolor\": \"white\", \"ticks\": \"\"}}, \"title\": {\"x\": 0.05}, \"xaxis\": {\"automargin\": true, \"gridcolor\": \"white\", \"linecolor\": \"white\", \"ticks\": \"\", \"title\": {\"standoff\": 15}, \"zerolinecolor\": \"white\", \"zerolinewidth\": 2}, \"yaxis\": {\"automargin\": true, \"gridcolor\": \"white\", \"linecolor\": \"white\", \"ticks\": \"\", \"title\": {\"standoff\": 15}, \"zerolinecolor\": \"white\", \"zerolinewidth\": 2}}}, \"title\": {\"text\": \"Bitcoin Candelstick Chart\", \"x\": 0.5, \"xanchor\": \"center\", \"y\": 0.9, \"yanchor\": \"top\"}, \"xaxis\": {\"rangeslider\": {\"visible\": false}, \"title\": {\"text\": \"Time\"}}, \"yaxis\": {\"ticksuffix\": \"$\", \"title\": {\"text\": \"Price in USD\"}}},\n",
              "                        {\"responsive\": true}\n",
              "                    ).then(function(){\n",
              "                            \n",
              "var gd = document.getElementById('e39c6591-91a2-4317-9f59-6ae736fc957c');\n",
              "var x = new MutationObserver(function (mutations, observer) {{\n",
              "        var display = window.getComputedStyle(gd).display;\n",
              "        if (!display || display === 'none') {{\n",
              "            console.log([gd, 'removed!']);\n",
              "            Plotly.purge(gd);\n",
              "            observer.disconnect();\n",
              "        }}\n",
              "}});\n",
              "\n",
              "// Listen for the removal of the full notebook cells\n",
              "var notebookContainer = gd.closest('#notebook-container');\n",
              "if (notebookContainer) {{\n",
              "    x.observe(notebookContainer, {childList: true});\n",
              "}}\n",
              "\n",
              "// Listen for the clearing of the current output cell\n",
              "var outputEl = gd.closest('.output');\n",
              "if (outputEl) {{\n",
              "    x.observe(outputEl, {childList: true});\n",
              "}}\n",
              "\n",
              "                        })\n",
              "                };\n",
              "                \n",
              "            </script>\n",
              "        </div>\n",
              "</body>\n",
              "</html>"
            ]
          },
          "metadata": {}
        }
      ]
    },
    {
      "cell_type": "markdown",
      "metadata": {
        "id": "eb80e874"
      },
      "source": [
        "- Bitcoin Cash"
      ],
      "id": "eb80e874"
    },
    {
      "cell_type": "code",
      "metadata": {
        "colab": {
          "base_uri": "https://localhost:8080/",
          "height": 542
        },
        "id": "b1d452c9",
        "outputId": "49c2bcad-724d-4836-ceb3-e414f4df2753"
      },
      "source": [
        "btc_cash_plot = candelstick_chart(btc_cash[-120:], title=\"Bitcoin Cash\")\n",
        "btc_cash_plot.show()"
      ],
      "id": "b1d452c9",
      "execution_count": 15,
      "outputs": [
        {
          "output_type": "display_data",
          "data": {
            "text/html": [
              "<html>\n",
              "<head><meta charset=\"utf-8\" /></head>\n",
              "<body>\n",
              "    <div>\n",
              "            <script src=\"https://cdnjs.cloudflare.com/ajax/libs/mathjax/2.7.5/MathJax.js?config=TeX-AMS-MML_SVG\"></script><script type=\"text/javascript\">if (window.MathJax) {MathJax.Hub.Config({SVG: {font: \"STIX-Web\"}});}</script>\n",
              "                <script type=\"text/javascript\">window.PlotlyConfig = {MathJaxConfig: 'local'};</script>\n",
              "        <script src=\"https://cdn.plot.ly/plotly-latest.min.js\"></script>    \n",
              "            <div id=\"af3a681d-ab96-4d90-af57-ed9556f85ba8\" class=\"plotly-graph-div\" style=\"height:525px; width:100%;\"></div>\n",
              "            <script type=\"text/javascript\">\n",
              "                \n",
              "                    window.PLOTLYENV=window.PLOTLYENV || {};\n",
              "                    \n",
              "                if (document.getElementById(\"af3a681d-ab96-4d90-af57-ed9556f85ba8\")) {\n",
              "                    Plotly.newPlot(\n",
              "                        'af3a681d-ab96-4d90-af57-ed9556f85ba8',\n",
              "                        [{\"close\": [545.9649999999998, 546.2075, 546.2725, 545.832, 545.795, 546.0540000000002, 546.1925, 545.702, 545.75, 545.6800000000002, 545.7180000000002, 545.0433333333333, 544.6983333333333, 544.2479999999998, 544.085, 544.9825000000002, 544.785, 544.325, 545.004, 545.294, 544.7716666666666, 544.4975000000002, 544.835, 545.9100000000002, 545.944, 546.4159999999998, 547.15, 546.9559999999999, 547.356, 548.0333333333333, 548.8166666666666, 549.104, 550.066, 550.3933333333333, 550.5, 550.7966666666667, 549.6866666666666, 550.0975000000002, 550.985, 550.75, 550.78, 550.538, 550.0683333333334, 549.0, 548.832, 548.9033333333333, 547.9699999999998, 548.0360000000002, 548.4525, 548.55, 549.2983333333333, 549.42, 549.558, 549.2375000000002, 548.7066666666667, 549.232, 548.96, 548.6560000000002, 548.456, 547.58, 546.7499999999999, 546.3716666666667, 545.6933333333333, 545.5539999999999, 544.7883333333333, 543.82, 543.258, 542.736, 542.2249999999998, 540.694, 541.8616666666668, 541.5266666666666, 542.455, 541.882, 542.396, 542.684, 542.475, 544.3066666666666, 546.086, 545.59, 542.4083333333333, 541.555, 541.74, 540.7033333333333, 539.2766666666666, 538.9680000000002, 538.3639999999998, 538.005, 537.216, 539.766, 538.504, 538.8, 538.725, 538.5983333333334, 537.8480000000002, 537.2199999999998, 535.4216666666666, 536.05, 535.135, 535.0183333333333, 535.1333333333333, 535.9633333333334, 536.9119999999998, 536.4833333333335, 536.0559999999998, 534.98, 535.5275, 536.025, 536.895, 537.7225, 538.7760000000002, 540.2459999999999, 540.38, 540.4739999999998, 538.6700000000002, 538.9083333333333, 539.8979999999998, 540.2683333333333, 539.62, 538.43], \"high\": [546.1, 546.43, 546.4, 546.4, 545.9, 546.25, 546.32, 546.22, 546.14, 545.8, 545.8, 545.8, 545.0, 544.8, 544.2, 545.3, 545.44, 544.74, 545.25, 545.46, 545.5, 544.57, 545.08, 546.2, 546.3, 546.51, 547.2, 547.24, 547.79, 549.01, 549.28, 549.3, 550.5, 550.7, 550.71, 551.1, 551.5, 550.29, 551.23, 551.1, 551.13, 551.1, 550.74, 549.98, 549.59, 549.14, 549.14, 548.23, 548.6, 548.69, 550.0, 549.5, 549.94, 549.7, 549.36, 549.38, 549.47, 548.98, 548.67, 548.92, 547.64, 546.77, 546.52, 546.22, 545.62, 545.05, 544.19, 543.49, 543.34, 542.13, 542.65, 542.5, 542.79, 543.16, 542.63, 542.8, 542.8, 544.86, 546.4, 546.7, 545.4, 542.64, 542.4, 541.5, 540.7, 539.2, 538.93, 538.52, 538.43, 540.44, 541.16, 539.55, 540.03, 539.4, 538.74, 537.86, 537.19, 536.6, 536.1, 535.61, 535.79, 536.6, 537.21, 537.8, 536.82, 536.9, 536.09, 536.58, 537.28, 539.06, 539.64, 540.58, 541.09, 541.4, 541.23, 539.5, 540.3, 540.8, 540.8, 539.95], \"low\": [545.46, 545.92, 546.07, 545.59, 545.52, 545.75, 546.1, 545.64, 545.6, 545.52, 545.54, 544.53, 544.59, 543.93, 543.9, 544.1, 544.6, 544.0, 543.9, 545.07, 544.31, 544.03, 544.6, 544.9, 545.57, 546.0, 546.26, 546.87, 546.98, 546.9, 547.56, 548.83, 549.13, 549.76, 550.14, 550.4, 549.0, 549.7, 550.12, 550.51, 550.56, 550.41, 549.7, 548.7, 548.6, 548.43, 547.72, 547.3, 548.18, 548.4, 548.5, 548.63, 549.39, 549.15, 548.36, 548.37, 548.6, 548.33, 548.36, 547.28, 546.62, 545.99, 545.51, 545.4, 544.51, 543.3, 542.98, 542.46, 541.97, 540.29, 541.1, 540.73, 540.4, 541.18, 541.4, 542.18, 541.8, 542.5, 543.9, 545.16, 541.9, 541.08, 541.0, 540.36, 538.87, 538.82, 538.09, 537.17, 536.96, 537.01, 538.18, 537.03, 538.01, 537.99, 537.65, 536.67, 534.85, 534.75, 534.46, 534.65, 534.56, 534.84, 535.12, 535.83, 535.68, 534.63, 534.71, 535.12, 535.59, 537.28, 537.74, 538.67, 539.86, 540.16, 538.2, 537.59, 538.64, 539.35, 539.28, 538.1], \"open\": [545.59, 546.0675, 546.235, 546.252, 545.7225, 545.8119999999999, 546.1725, 546.076, 545.8, 545.6850000000002, 545.69, 545.63, 544.7333333333332, 544.6980000000002, 544.025, 544.3575, 545.1383333333333, 544.6, 544.2080000000002, 545.278, 545.2416666666667, 544.2525, 544.7025, 545.1279999999998, 546.112, 546.1139999999998, 546.4680000000002, 547.106, 547.1139999999998, 547.2183333333332, 547.8666666666667, 548.976, 549.382, 550.1833333333334, 550.566, 550.6800000000002, 550.915, 549.8725, 550.2674999999998, 550.966, 550.715, 550.8320000000001, 550.4966666666667, 549.692, 549.15, 548.7716666666666, 548.8066666666667, 548.024, 548.415, 548.5124999999998, 548.8916666666668, 548.972, 549.5600000000002, 549.5225, 549.1083333333332, 548.6919999999999, 549.2716666666666, 548.762, 548.548, 548.3366666666667, 547.5050000000001, 546.6316666666664, 546.3000000000002, 545.746, 545.3649999999999, 544.7716666666666, 543.698, 543.266, 542.7650000000001, 541.6780000000001, 541.3149999999998, 541.87, 541.8525, 542.304, 542.408, 542.5800000000002, 542.5416666666666, 543.0016666666667, 544.3779999999998, 546.0983333333334, 544.9783333333334, 542.035, 541.508, 541.2599999999999, 540.395, 539.048, 538.8639999999998, 538.3299999999998, 537.9460000000001, 537.9440000000002, 539.996, 538.446, 539.02, 538.4533333333333, 538.4739999999998, 537.3266666666667, 536.6866666666666, 535.4216666666667, 535.61, 535.09, 535.0733333333334, 535.4, 536.0699999999998, 536.87, 536.484, 536.1466666666666, 535.0450000000002, 535.62, 535.8375, 537.59, 538.014, 539.1759999999998, 540.4159999999998, 540.62, 540.5139999999999, 538.1583333333333, 539.146, 540.2033333333333, 540.395, 539.5283333333333], \"type\": \"candlestick\", \"x\": [\"2021-09-20T21:45:00\", \"2021-09-20T21:46:00\", \"2021-09-20T21:47:00\", \"2021-09-20T21:48:00\", \"2021-09-20T21:49:00\", \"2021-09-20T21:50:00\", \"2021-09-20T21:51:00\", \"2021-09-20T21:52:00\", \"2021-09-20T21:53:00\", \"2021-09-20T21:54:00\", \"2021-09-20T21:55:00\", \"2021-09-20T21:56:00\", \"2021-09-20T21:57:00\", \"2021-09-20T21:58:00\", \"2021-09-20T21:59:00\", \"2021-09-20T22:00:00\", \"2021-09-20T22:01:00\", \"2021-09-20T22:02:00\", \"2021-09-20T22:03:00\", \"2021-09-20T22:04:00\", \"2021-09-20T22:05:00\", \"2021-09-20T22:06:00\", \"2021-09-20T22:07:00\", \"2021-09-20T22:08:00\", \"2021-09-20T22:09:00\", \"2021-09-20T22:10:00\", \"2021-09-20T22:11:00\", \"2021-09-20T22:12:00\", \"2021-09-20T22:13:00\", \"2021-09-20T22:14:00\", \"2021-09-20T22:15:00\", \"2021-09-20T22:16:00\", \"2021-09-20T22:17:00\", \"2021-09-20T22:18:00\", \"2021-09-20T22:19:00\", \"2021-09-20T22:20:00\", \"2021-09-20T22:21:00\", \"2021-09-20T22:22:00\", \"2021-09-20T22:23:00\", \"2021-09-20T22:24:00\", \"2021-09-20T22:25:00\", \"2021-09-20T22:26:00\", \"2021-09-20T22:27:00\", \"2021-09-20T22:28:00\", \"2021-09-20T22:29:00\", \"2021-09-20T22:30:00\", \"2021-09-20T22:31:00\", \"2021-09-20T22:32:00\", \"2021-09-20T22:33:00\", \"2021-09-20T22:34:00\", \"2021-09-20T22:35:00\", \"2021-09-20T22:36:00\", \"2021-09-20T22:37:00\", \"2021-09-20T22:38:00\", \"2021-09-20T22:39:00\", \"2021-09-20T22:40:00\", \"2021-09-20T22:41:00\", \"2021-09-20T22:42:00\", \"2021-09-20T22:43:00\", \"2021-09-20T22:44:00\", \"2021-09-20T22:45:00\", \"2021-09-20T22:46:00\", \"2021-09-20T22:47:00\", \"2021-09-20T22:48:00\", \"2021-09-20T22:49:00\", \"2021-09-20T22:50:00\", \"2021-09-20T22:51:00\", \"2021-09-20T22:52:00\", \"2021-09-20T22:53:00\", \"2021-09-20T22:54:00\", \"2021-09-20T22:55:00\", \"2021-09-20T22:56:00\", \"2021-09-20T22:57:00\", \"2021-09-20T22:58:00\", \"2021-09-20T22:59:00\", \"2021-09-20T23:00:00\", \"2021-09-20T23:01:00\", \"2021-09-20T23:02:00\", \"2021-09-20T23:03:00\", \"2021-09-20T23:04:00\", \"2021-09-20T23:05:00\", \"2021-09-20T23:06:00\", \"2021-09-20T23:07:00\", \"2021-09-20T23:08:00\", \"2021-09-20T23:09:00\", \"2021-09-20T23:10:00\", \"2021-09-20T23:11:00\", \"2021-09-20T23:12:00\", \"2021-09-20T23:13:00\", \"2021-09-20T23:14:00\", \"2021-09-20T23:15:00\", \"2021-09-20T23:16:00\", \"2021-09-20T23:17:00\", \"2021-09-20T23:18:00\", \"2021-09-20T23:19:00\", \"2021-09-20T23:20:00\", \"2021-09-20T23:21:00\", \"2021-09-20T23:22:00\", \"2021-09-20T23:23:00\", \"2021-09-20T23:24:00\", \"2021-09-20T23:25:00\", \"2021-09-20T23:26:00\", \"2021-09-20T23:27:00\", \"2021-09-20T23:28:00\", \"2021-09-20T23:29:00\", \"2021-09-20T23:30:00\", \"2021-09-20T23:31:00\", \"2021-09-20T23:32:00\", \"2021-09-20T23:33:00\", \"2021-09-20T23:34:00\", \"2021-09-20T23:35:00\", \"2021-09-20T23:36:00\", \"2021-09-20T23:37:00\", \"2021-09-20T23:38:00\", \"2021-09-20T23:39:00\", \"2021-09-20T23:40:00\", \"2021-09-20T23:41:00\", \"2021-09-20T23:42:00\", \"2021-09-20T23:43:00\", \"2021-09-20T23:44:00\"]}],\n",
              "                        {\"template\": {\"data\": {\"bar\": [{\"error_x\": {\"color\": \"#2a3f5f\"}, \"error_y\": {\"color\": \"#2a3f5f\"}, \"marker\": {\"line\": {\"color\": \"#E5ECF6\", \"width\": 0.5}}, \"type\": \"bar\"}], \"barpolar\": [{\"marker\": {\"line\": {\"color\": \"#E5ECF6\", \"width\": 0.5}}, \"type\": \"barpolar\"}], \"carpet\": [{\"aaxis\": {\"endlinecolor\": \"#2a3f5f\", \"gridcolor\": \"white\", \"linecolor\": \"white\", \"minorgridcolor\": \"white\", \"startlinecolor\": \"#2a3f5f\"}, \"baxis\": {\"endlinecolor\": \"#2a3f5f\", \"gridcolor\": \"white\", \"linecolor\": \"white\", \"minorgridcolor\": \"white\", \"startlinecolor\": \"#2a3f5f\"}, \"type\": \"carpet\"}], \"choropleth\": [{\"colorbar\": {\"outlinewidth\": 0, \"ticks\": \"\"}, \"type\": \"choropleth\"}], \"contour\": [{\"colorbar\": {\"outlinewidth\": 0, \"ticks\": \"\"}, \"colorscale\": [[0.0, \"#0d0887\"], [0.1111111111111111, \"#46039f\"], [0.2222222222222222, \"#7201a8\"], [0.3333333333333333, \"#9c179e\"], [0.4444444444444444, \"#bd3786\"], [0.5555555555555556, \"#d8576b\"], [0.6666666666666666, \"#ed7953\"], [0.7777777777777778, \"#fb9f3a\"], [0.8888888888888888, \"#fdca26\"], [1.0, \"#f0f921\"]], \"type\": \"contour\"}], \"contourcarpet\": [{\"colorbar\": {\"outlinewidth\": 0, \"ticks\": \"\"}, \"type\": \"contourcarpet\"}], \"heatmap\": [{\"colorbar\": {\"outlinewidth\": 0, \"ticks\": \"\"}, \"colorscale\": [[0.0, \"#0d0887\"], [0.1111111111111111, \"#46039f\"], [0.2222222222222222, \"#7201a8\"], [0.3333333333333333, \"#9c179e\"], [0.4444444444444444, \"#bd3786\"], [0.5555555555555556, \"#d8576b\"], [0.6666666666666666, \"#ed7953\"], [0.7777777777777778, \"#fb9f3a\"], [0.8888888888888888, \"#fdca26\"], [1.0, \"#f0f921\"]], \"type\": \"heatmap\"}], \"heatmapgl\": [{\"colorbar\": {\"outlinewidth\": 0, \"ticks\": \"\"}, \"colorscale\": [[0.0, \"#0d0887\"], [0.1111111111111111, \"#46039f\"], [0.2222222222222222, \"#7201a8\"], [0.3333333333333333, \"#9c179e\"], [0.4444444444444444, \"#bd3786\"], [0.5555555555555556, \"#d8576b\"], [0.6666666666666666, \"#ed7953\"], [0.7777777777777778, \"#fb9f3a\"], [0.8888888888888888, \"#fdca26\"], [1.0, \"#f0f921\"]], \"type\": \"heatmapgl\"}], \"histogram\": [{\"marker\": {\"colorbar\": {\"outlinewidth\": 0, \"ticks\": \"\"}}, \"type\": \"histogram\"}], \"histogram2d\": [{\"colorbar\": {\"outlinewidth\": 0, \"ticks\": \"\"}, \"colorscale\": [[0.0, \"#0d0887\"], [0.1111111111111111, \"#46039f\"], [0.2222222222222222, \"#7201a8\"], [0.3333333333333333, \"#9c179e\"], [0.4444444444444444, \"#bd3786\"], [0.5555555555555556, \"#d8576b\"], [0.6666666666666666, \"#ed7953\"], [0.7777777777777778, \"#fb9f3a\"], [0.8888888888888888, \"#fdca26\"], [1.0, \"#f0f921\"]], \"type\": \"histogram2d\"}], \"histogram2dcontour\": [{\"colorbar\": {\"outlinewidth\": 0, \"ticks\": \"\"}, \"colorscale\": [[0.0, \"#0d0887\"], [0.1111111111111111, \"#46039f\"], [0.2222222222222222, \"#7201a8\"], [0.3333333333333333, \"#9c179e\"], [0.4444444444444444, \"#bd3786\"], [0.5555555555555556, \"#d8576b\"], [0.6666666666666666, \"#ed7953\"], [0.7777777777777778, \"#fb9f3a\"], [0.8888888888888888, \"#fdca26\"], [1.0, \"#f0f921\"]], \"type\": \"histogram2dcontour\"}], \"mesh3d\": [{\"colorbar\": {\"outlinewidth\": 0, \"ticks\": \"\"}, \"type\": \"mesh3d\"}], \"parcoords\": [{\"line\": {\"colorbar\": {\"outlinewidth\": 0, \"ticks\": \"\"}}, \"type\": \"parcoords\"}], \"pie\": [{\"automargin\": true, \"type\": \"pie\"}], \"scatter\": [{\"marker\": {\"colorbar\": {\"outlinewidth\": 0, \"ticks\": \"\"}}, \"type\": \"scatter\"}], \"scatter3d\": [{\"line\": {\"colorbar\": {\"outlinewidth\": 0, \"ticks\": \"\"}}, \"marker\": {\"colorbar\": {\"outlinewidth\": 0, \"ticks\": \"\"}}, \"type\": \"scatter3d\"}], \"scattercarpet\": [{\"marker\": {\"colorbar\": {\"outlinewidth\": 0, \"ticks\": \"\"}}, \"type\": \"scattercarpet\"}], \"scattergeo\": [{\"marker\": {\"colorbar\": {\"outlinewidth\": 0, \"ticks\": \"\"}}, \"type\": \"scattergeo\"}], \"scattergl\": [{\"marker\": {\"colorbar\": {\"outlinewidth\": 0, \"ticks\": \"\"}}, \"type\": \"scattergl\"}], \"scattermapbox\": [{\"marker\": {\"colorbar\": {\"outlinewidth\": 0, \"ticks\": \"\"}}, \"type\": \"scattermapbox\"}], \"scatterpolar\": [{\"marker\": {\"colorbar\": {\"outlinewidth\": 0, \"ticks\": \"\"}}, \"type\": \"scatterpolar\"}], \"scatterpolargl\": [{\"marker\": {\"colorbar\": {\"outlinewidth\": 0, \"ticks\": \"\"}}, \"type\": \"scatterpolargl\"}], \"scatterternary\": [{\"marker\": {\"colorbar\": {\"outlinewidth\": 0, \"ticks\": \"\"}}, \"type\": \"scatterternary\"}], \"surface\": [{\"colorbar\": {\"outlinewidth\": 0, \"ticks\": \"\"}, \"colorscale\": [[0.0, \"#0d0887\"], [0.1111111111111111, \"#46039f\"], [0.2222222222222222, \"#7201a8\"], [0.3333333333333333, \"#9c179e\"], [0.4444444444444444, \"#bd3786\"], [0.5555555555555556, \"#d8576b\"], [0.6666666666666666, \"#ed7953\"], [0.7777777777777778, \"#fb9f3a\"], [0.8888888888888888, \"#fdca26\"], [1.0, \"#f0f921\"]], \"type\": \"surface\"}], \"table\": [{\"cells\": {\"fill\": {\"color\": \"#EBF0F8\"}, \"line\": {\"color\": \"white\"}}, \"header\": {\"fill\": {\"color\": \"#C8D4E3\"}, \"line\": {\"color\": \"white\"}}, \"type\": \"table\"}]}, \"layout\": {\"annotationdefaults\": {\"arrowcolor\": \"#2a3f5f\", \"arrowhead\": 0, \"arrowwidth\": 1}, \"coloraxis\": {\"colorbar\": {\"outlinewidth\": 0, \"ticks\": \"\"}}, \"colorscale\": {\"diverging\": [[0, \"#8e0152\"], [0.1, \"#c51b7d\"], [0.2, \"#de77ae\"], [0.3, \"#f1b6da\"], [0.4, \"#fde0ef\"], [0.5, \"#f7f7f7\"], [0.6, \"#e6f5d0\"], [0.7, \"#b8e186\"], [0.8, \"#7fbc41\"], [0.9, \"#4d9221\"], [1, \"#276419\"]], \"sequential\": [[0.0, \"#0d0887\"], [0.1111111111111111, \"#46039f\"], [0.2222222222222222, \"#7201a8\"], [0.3333333333333333, \"#9c179e\"], [0.4444444444444444, \"#bd3786\"], [0.5555555555555556, \"#d8576b\"], [0.6666666666666666, \"#ed7953\"], [0.7777777777777778, \"#fb9f3a\"], [0.8888888888888888, \"#fdca26\"], [1.0, \"#f0f921\"]], \"sequentialminus\": [[0.0, \"#0d0887\"], [0.1111111111111111, \"#46039f\"], [0.2222222222222222, \"#7201a8\"], [0.3333333333333333, \"#9c179e\"], [0.4444444444444444, \"#bd3786\"], [0.5555555555555556, \"#d8576b\"], [0.6666666666666666, \"#ed7953\"], [0.7777777777777778, \"#fb9f3a\"], [0.8888888888888888, \"#fdca26\"], [1.0, \"#f0f921\"]]}, \"colorway\": [\"#636efa\", \"#EF553B\", \"#00cc96\", \"#ab63fa\", \"#FFA15A\", \"#19d3f3\", \"#FF6692\", \"#B6E880\", \"#FF97FF\", \"#FECB52\"], \"font\": {\"color\": \"#2a3f5f\"}, \"geo\": {\"bgcolor\": \"white\", \"lakecolor\": \"white\", \"landcolor\": \"#E5ECF6\", \"showlakes\": true, \"showland\": true, \"subunitcolor\": \"white\"}, \"hoverlabel\": {\"align\": \"left\"}, \"hovermode\": \"closest\", \"mapbox\": {\"style\": \"light\"}, \"paper_bgcolor\": \"white\", \"plot_bgcolor\": \"#E5ECF6\", \"polar\": {\"angularaxis\": {\"gridcolor\": \"white\", \"linecolor\": \"white\", \"ticks\": \"\"}, \"bgcolor\": \"#E5ECF6\", \"radialaxis\": {\"gridcolor\": \"white\", \"linecolor\": \"white\", \"ticks\": \"\"}}, \"scene\": {\"xaxis\": {\"backgroundcolor\": \"#E5ECF6\", \"gridcolor\": \"white\", \"gridwidth\": 2, \"linecolor\": \"white\", \"showbackground\": true, \"ticks\": \"\", \"zerolinecolor\": \"white\"}, \"yaxis\": {\"backgroundcolor\": \"#E5ECF6\", \"gridcolor\": \"white\", \"gridwidth\": 2, \"linecolor\": \"white\", \"showbackground\": true, \"ticks\": \"\", \"zerolinecolor\": \"white\"}, \"zaxis\": {\"backgroundcolor\": \"#E5ECF6\", \"gridcolor\": \"white\", \"gridwidth\": 2, \"linecolor\": \"white\", \"showbackground\": true, \"ticks\": \"\", \"zerolinecolor\": \"white\"}}, \"shapedefaults\": {\"line\": {\"color\": \"#2a3f5f\"}}, \"ternary\": {\"aaxis\": {\"gridcolor\": \"white\", \"linecolor\": \"white\", \"ticks\": \"\"}, \"baxis\": {\"gridcolor\": \"white\", \"linecolor\": \"white\", \"ticks\": \"\"}, \"bgcolor\": \"#E5ECF6\", \"caxis\": {\"gridcolor\": \"white\", \"linecolor\": \"white\", \"ticks\": \"\"}}, \"title\": {\"x\": 0.05}, \"xaxis\": {\"automargin\": true, \"gridcolor\": \"white\", \"linecolor\": \"white\", \"ticks\": \"\", \"title\": {\"standoff\": 15}, \"zerolinecolor\": \"white\", \"zerolinewidth\": 2}, \"yaxis\": {\"automargin\": true, \"gridcolor\": \"white\", \"linecolor\": \"white\", \"ticks\": \"\", \"title\": {\"standoff\": 15}, \"zerolinecolor\": \"white\", \"zerolinewidth\": 2}}}, \"title\": {\"text\": \"Bitcoin Cash Candelstick Chart\", \"x\": 0.5, \"xanchor\": \"center\", \"y\": 0.9, \"yanchor\": \"top\"}, \"xaxis\": {\"rangeslider\": {\"visible\": false}, \"title\": {\"text\": \"Time\"}}, \"yaxis\": {\"ticksuffix\": \"$\", \"title\": {\"text\": \"Price in USD\"}}},\n",
              "                        {\"responsive\": true}\n",
              "                    ).then(function(){\n",
              "                            \n",
              "var gd = document.getElementById('af3a681d-ab96-4d90-af57-ed9556f85ba8');\n",
              "var x = new MutationObserver(function (mutations, observer) {{\n",
              "        var display = window.getComputedStyle(gd).display;\n",
              "        if (!display || display === 'none') {{\n",
              "            console.log([gd, 'removed!']);\n",
              "            Plotly.purge(gd);\n",
              "            observer.disconnect();\n",
              "        }}\n",
              "}});\n",
              "\n",
              "// Listen for the removal of the full notebook cells\n",
              "var notebookContainer = gd.closest('#notebook-container');\n",
              "if (notebookContainer) {{\n",
              "    x.observe(notebookContainer, {childList: true});\n",
              "}}\n",
              "\n",
              "// Listen for the clearing of the current output cell\n",
              "var outputEl = gd.closest('.output');\n",
              "if (outputEl) {{\n",
              "    x.observe(outputEl, {childList: true});\n",
              "}}\n",
              "\n",
              "                        })\n",
              "                };\n",
              "                \n",
              "            </script>\n",
              "        </div>\n",
              "</body>\n",
              "</html>"
            ]
          },
          "metadata": {}
        }
      ]
    },
    {
      "cell_type": "markdown",
      "metadata": {
        "id": "7500790c"
      },
      "source": [
        "- Cardano"
      ],
      "id": "7500790c"
    },
    {
      "cell_type": "code",
      "metadata": {
        "colab": {
          "base_uri": "https://localhost:8080/",
          "height": 542
        },
        "id": "c7f312e4",
        "outputId": "94bef9f2-1c12-4d4a-dd89-cfec58c2a3be"
      },
      "source": [
        "cardano_plot = candelstick_chart(cardano[-120:], title=\"Cardano\")\n",
        "cardano_plot.show()"
      ],
      "id": "c7f312e4",
      "execution_count": 16,
      "outputs": [
        {
          "output_type": "display_data",
          "data": {
            "text/html": [
              "<html>\n",
              "<head><meta charset=\"utf-8\" /></head>\n",
              "<body>\n",
              "    <div>\n",
              "            <script src=\"https://cdnjs.cloudflare.com/ajax/libs/mathjax/2.7.5/MathJax.js?config=TeX-AMS-MML_SVG\"></script><script type=\"text/javascript\">if (window.MathJax) {MathJax.Hub.Config({SVG: {font: \"STIX-Web\"}});}</script>\n",
              "                <script type=\"text/javascript\">window.PlotlyConfig = {MathJaxConfig: 'local'};</script>\n",
              "        <script src=\"https://cdn.plot.ly/plotly-latest.min.js\"></script>    \n",
              "            <div id=\"86bc537d-6522-437d-a895-60a98b7c2350\" class=\"plotly-graph-div\" style=\"height:525px; width:100%;\"></div>\n",
              "            <script type=\"text/javascript\">\n",
              "                \n",
              "                    window.PLOTLYENV=window.PLOTLYENV || {};\n",
              "                    \n",
              "                if (document.getElementById(\"86bc537d-6522-437d-a895-60a98b7c2350\")) {\n",
              "                    Plotly.newPlot(\n",
              "                        '86bc537d-6522-437d-a895-60a98b7c2350',\n",
              "                        [{\"close\": [2.105554166666667, 2.116366166666667, 2.124388666666667, 2.114062166666667, 2.1202871666666665, 2.121542, 2.1175782, 2.1099526666666666, 2.1033381666666666, 2.1037790000000003, 2.1039708, 2.096585666666667, 2.0954843333333333, 2.0922211666666666, 2.093096833333333, 2.1040425, 2.1065675, 2.104855666666667, 2.110197166666667, 2.1126615, 2.1061606666666663, 2.109100833333333, 2.1132611666666663, 2.1176766666666667, 2.1203715, 2.1290395, 2.129464666666667, 2.1253925, 2.1224351666666665, 2.124000333333333, 2.1296788333333336, 2.132746833333333, 2.138531, 2.1375625, 2.1322393333333336, 2.1393318333333333, 2.1340378333333336, 2.138071833333333, 2.1393400000000002, 2.1399085, 2.1411016666666662, 2.1409743333333333, 2.1385925, 2.136925333333333, 2.138715166666667, 2.1415566666666668, 2.1423843333333332, 2.1423188333333334, 2.143662, 2.1466583333333333, 2.1453755000000005, 2.142249, 2.1432795, 2.1418885, 2.1374653333333336, 2.1409208000000004, 2.138587166666667, 2.136167, 2.133016, 2.1281025, 2.125029833333333, 2.124556666666667, 2.1219976666666667, 2.1194791666666664, 2.1137103333333336, 2.1074855, 2.1062171666666667, 2.106048, 2.1058216666666665, 2.097675833333333, 2.1027121666666666, 2.107485666666667, 2.110373333333333, 2.11018, 2.109329666666666, 2.111232166666667, 2.1114875000000004, 2.120866166666667, 2.1309751666666665, 2.125998833333333, 2.1075176666666664, 2.105397833333333, 2.1069115000000003, 2.0997198333333342, 2.0904001666666665, 2.087755666666667, 2.0846641666666668, 2.0808058333333332, 2.076938166666667, 2.092073833333333, 2.0852063333333337, 2.092683, 2.086358333333333, 2.0868721666666668, 2.081979666666667, 2.0779471666666667, 2.0725451666666665, 2.074212333333333, 2.0679046666666667, 2.0660640000000003, 2.063177, 2.0657498333333333, 2.068403833333333, 2.063362, 2.0595935, 2.059066333333333, 2.059693666666667, 2.057413166666666, 2.0657855, 2.070019166666667, 2.07194, 2.077379, 2.0740544, 2.073853, 2.0656845, 2.066293166666666, 2.0726805, 2.0705315, 2.0690674, 2.063073833333333], \"high\": [2.1072, 2.1184, 2.125, 2.1261, 2.12107, 2.12229, 2.1221520000000003, 2.1186540000000003, 2.111222, 2.1055, 2.1054, 2.105, 2.0983, 2.097126, 2.0954, 2.105, 2.1084, 2.1083, 2.1121, 2.1159, 2.113599, 2.1111, 2.1151, 2.12, 2.1224, 2.1319, 2.1312, 2.1312, 2.1264, 2.1305, 2.1326, 2.1354, 2.1404, 2.1425, 2.1385, 2.1409, 2.144, 2.1405, 2.1426, 2.1422, 2.1439, 2.1443, 2.1421, 2.139652, 2.143, 2.1435, 2.143888, 2.1449, 2.1457, 2.1493, 2.1512, 2.1464, 2.1474, 2.1449, 2.1433, 2.1446, 2.1432, 2.1394, 2.137, 2.1355, 2.1291, 2.1265, 2.1296, 2.1274, 2.1206, 2.118366, 2.1138, 2.10882, 2.113, 2.1071, 2.107991, 2.112037, 2.1123, 2.1147, 2.1127, 2.11363, 2.1131830000000003, 2.1245, 2.133, 2.133073, 2.1276, 2.112943, 2.1118080000000004, 2.1074, 2.101515, 2.09308, 2.0898, 2.086886, 2.084596, 2.099532, 2.0981, 2.093968, 2.0946, 2.089775, 2.088, 2.083565, 2.0809, 2.0771, 2.0749, 2.069972, 2.0695, 2.071187, 2.0707, 2.071873, 2.064495, 2.069429, 2.06607, 2.061169, 2.068022, 2.078333, 2.07688, 2.079854, 2.079973, 2.07999, 2.074561, 2.068921, 2.075111, 2.0758, 2.073646, 2.071348], \"low\": [2.095, 2.105, 2.114974, 2.113, 2.113, 2.119, 2.116, 2.108, 2.101, 2.1, 2.102, 2.092, 2.093, 2.089, 2.09, 2.09, 2.104, 2.102, 2.103, 2.109, 2.103, 2.102, 2.108, 2.112, 2.115, 2.12, 2.122, 2.121, 2.12, 2.116, 2.12, 2.128, 2.131, 2.132, 2.1289, 2.1301, 2.129, 2.1318, 2.135, 2.136, 2.135, 2.138, 2.136, 2.132, 2.134, 2.135, 2.138, 2.136, 2.1390000000000002, 2.142, 2.142, 2.1390000000000002, 2.14, 2.14, 2.136, 2.134, 2.135, 2.134, 2.131, 2.124, 2.122, 2.12, 2.12, 2.117, 2.111, 2.105, 2.104, 2.103, 2.102, 2.094, 2.097, 2.097, 2.0980000000000003, 2.1028, 2.104, 2.108, 2.105865, 2.111, 2.1186, 2.124, 2.105, 2.103, 2.1038, 2.0982, 2.088, 2.086, 2.081702, 2.076, 2.075, 2.0747, 2.083, 2.0780000000000003, 2.083, 2.081, 2.08, 2.074, 2.068, 2.065, 2.06, 2.063, 2.059, 2.059, 2.06, 2.061, 2.0580000000000003, 2.056, 2.057, 2.0540000000000003, 2.055, 2.065, 2.067, 2.071, 2.073, 2.071, 2.061, 2.06, 2.065, 2.066, 2.066, 2.061], \"open\": [2.0979195, 2.1068925000000003, 2.1170085000000003, 2.124680333333333, 2.1151611666666668, 2.120134166666667, 2.1216092000000004, 2.117202333333333, 2.109099833333333, 2.103037833333333, 2.1040312, 2.103850333333334, 2.0967688333333334, 2.094679333333333, 2.0919045, 2.0929741666666666, 2.1047318333333336, 2.1068121666666664, 2.1051708333333337, 2.1108423333333337, 2.1118405, 2.1048180000000003, 2.109949166666667, 2.1136901666666668, 2.117979666666667, 2.1206763333333334, 2.1275061666666666, 2.1297375, 2.1247113333333334, 2.120772, 2.1223731666666668, 2.129941833333333, 2.1328628333333337, 2.1390065000000003, 2.1371973333333334, 2.1325015, 2.1402823333333334, 2.1347434999999995, 2.138027833333333, 2.13984, 2.1392643333333337, 2.1414726666666666, 2.140943333333333, 2.137797, 2.1366571666666663, 2.1379711666666665, 2.141696333333333, 2.1421455000000003, 2.1427849999999995, 2.1438200000000003, 2.145875166666667, 2.1450818333333332, 2.1424695, 2.143078833333333, 2.141494, 2.1372866000000004, 2.1414993333333334, 2.1383820000000004, 2.1357190000000004, 2.1333436666666667, 2.1274085, 2.1248055000000003, 2.1253878333333334, 2.122372, 2.119056, 2.114303, 2.1078576666666664, 2.106718666666667, 2.1059086666666667, 2.105138666666667, 2.098855, 2.103129833333333, 2.1071346666666666, 2.1112025, 2.1102186666666665, 2.110042, 2.1118053333333333, 2.1122248333333333, 2.1214953333333333, 2.1306576666666666, 2.125057833333333, 2.107701, 2.106135, 2.105233333333333, 2.099032, 2.089789666666667, 2.0879231666666658, 2.083814166666667, 2.0810806666666664, 2.0774293333333333, 2.0918586666666665, 2.085064, 2.0924271666666665, 2.0848134999999997, 2.0870333333333333, 2.0818825000000003, 2.0779056666666667, 2.0726921666666667, 2.0723828333333327, 2.0672523333333332, 2.064408, 2.063733833333333, 2.0660085, 2.068413, 2.062011, 2.060618, 2.059125, 2.0589316666666666, 2.0575205000000003, 2.0671991666666667, 2.069396, 2.072984, 2.0772768, 2.074739166666667, 2.0723353333333336, 2.063944, 2.066920333333333, 2.073588, 2.071358, 2.0690703333333342], \"type\": \"candlestick\", \"x\": [\"2021-09-20T21:45:00\", \"2021-09-20T21:46:00\", \"2021-09-20T21:47:00\", \"2021-09-20T21:48:00\", \"2021-09-20T21:49:00\", \"2021-09-20T21:50:00\", \"2021-09-20T21:51:00\", \"2021-09-20T21:52:00\", \"2021-09-20T21:53:00\", \"2021-09-20T21:54:00\", \"2021-09-20T21:55:00\", \"2021-09-20T21:56:00\", \"2021-09-20T21:57:00\", \"2021-09-20T21:58:00\", \"2021-09-20T21:59:00\", \"2021-09-20T22:00:00\", \"2021-09-20T22:01:00\", \"2021-09-20T22:02:00\", \"2021-09-20T22:03:00\", \"2021-09-20T22:04:00\", \"2021-09-20T22:05:00\", \"2021-09-20T22:06:00\", \"2021-09-20T22:07:00\", \"2021-09-20T22:08:00\", \"2021-09-20T22:09:00\", \"2021-09-20T22:10:00\", \"2021-09-20T22:11:00\", \"2021-09-20T22:12:00\", \"2021-09-20T22:13:00\", \"2021-09-20T22:14:00\", \"2021-09-20T22:15:00\", \"2021-09-20T22:16:00\", \"2021-09-20T22:17:00\", \"2021-09-20T22:18:00\", \"2021-09-20T22:19:00\", \"2021-09-20T22:20:00\", \"2021-09-20T22:21:00\", \"2021-09-20T22:22:00\", \"2021-09-20T22:23:00\", \"2021-09-20T22:24:00\", \"2021-09-20T22:25:00\", \"2021-09-20T22:26:00\", \"2021-09-20T22:27:00\", \"2021-09-20T22:28:00\", \"2021-09-20T22:29:00\", \"2021-09-20T22:30:00\", \"2021-09-20T22:31:00\", \"2021-09-20T22:32:00\", \"2021-09-20T22:33:00\", \"2021-09-20T22:34:00\", \"2021-09-20T22:35:00\", \"2021-09-20T22:36:00\", \"2021-09-20T22:37:00\", \"2021-09-20T22:38:00\", \"2021-09-20T22:39:00\", \"2021-09-20T22:40:00\", \"2021-09-20T22:41:00\", \"2021-09-20T22:42:00\", \"2021-09-20T22:43:00\", \"2021-09-20T22:44:00\", \"2021-09-20T22:45:00\", \"2021-09-20T22:46:00\", \"2021-09-20T22:47:00\", \"2021-09-20T22:48:00\", \"2021-09-20T22:49:00\", \"2021-09-20T22:50:00\", \"2021-09-20T22:51:00\", \"2021-09-20T22:52:00\", \"2021-09-20T22:53:00\", \"2021-09-20T22:54:00\", \"2021-09-20T22:55:00\", \"2021-09-20T22:56:00\", \"2021-09-20T22:57:00\", \"2021-09-20T22:58:00\", \"2021-09-20T22:59:00\", \"2021-09-20T23:00:00\", \"2021-09-20T23:01:00\", \"2021-09-20T23:02:00\", \"2021-09-20T23:03:00\", \"2021-09-20T23:04:00\", \"2021-09-20T23:05:00\", \"2021-09-20T23:06:00\", \"2021-09-20T23:07:00\", \"2021-09-20T23:08:00\", \"2021-09-20T23:09:00\", \"2021-09-20T23:10:00\", \"2021-09-20T23:11:00\", \"2021-09-20T23:12:00\", \"2021-09-20T23:13:00\", \"2021-09-20T23:14:00\", \"2021-09-20T23:15:00\", \"2021-09-20T23:16:00\", \"2021-09-20T23:17:00\", \"2021-09-20T23:18:00\", \"2021-09-20T23:19:00\", \"2021-09-20T23:20:00\", \"2021-09-20T23:21:00\", \"2021-09-20T23:22:00\", \"2021-09-20T23:23:00\", \"2021-09-20T23:24:00\", \"2021-09-20T23:25:00\", \"2021-09-20T23:26:00\", \"2021-09-20T23:27:00\", \"2021-09-20T23:28:00\", \"2021-09-20T23:29:00\", \"2021-09-20T23:30:00\", \"2021-09-20T23:31:00\", \"2021-09-20T23:32:00\", \"2021-09-20T23:33:00\", \"2021-09-20T23:34:00\", \"2021-09-20T23:35:00\", \"2021-09-20T23:36:00\", \"2021-09-20T23:37:00\", \"2021-09-20T23:38:00\", \"2021-09-20T23:39:00\", \"2021-09-20T23:40:00\", \"2021-09-20T23:41:00\", \"2021-09-20T23:42:00\", \"2021-09-20T23:43:00\", \"2021-09-20T23:44:00\"]}],\n",
              "                        {\"template\": {\"data\": {\"bar\": [{\"error_x\": {\"color\": \"#2a3f5f\"}, \"error_y\": {\"color\": \"#2a3f5f\"}, \"marker\": {\"line\": {\"color\": \"#E5ECF6\", \"width\": 0.5}}, \"type\": \"bar\"}], \"barpolar\": [{\"marker\": {\"line\": {\"color\": \"#E5ECF6\", \"width\": 0.5}}, \"type\": \"barpolar\"}], \"carpet\": [{\"aaxis\": {\"endlinecolor\": \"#2a3f5f\", \"gridcolor\": \"white\", \"linecolor\": \"white\", \"minorgridcolor\": \"white\", \"startlinecolor\": \"#2a3f5f\"}, \"baxis\": {\"endlinecolor\": \"#2a3f5f\", \"gridcolor\": \"white\", \"linecolor\": \"white\", \"minorgridcolor\": \"white\", \"startlinecolor\": \"#2a3f5f\"}, \"type\": \"carpet\"}], \"choropleth\": [{\"colorbar\": {\"outlinewidth\": 0, \"ticks\": \"\"}, \"type\": \"choropleth\"}], \"contour\": [{\"colorbar\": {\"outlinewidth\": 0, \"ticks\": \"\"}, \"colorscale\": [[0.0, \"#0d0887\"], [0.1111111111111111, \"#46039f\"], [0.2222222222222222, \"#7201a8\"], [0.3333333333333333, \"#9c179e\"], [0.4444444444444444, \"#bd3786\"], [0.5555555555555556, \"#d8576b\"], [0.6666666666666666, \"#ed7953\"], [0.7777777777777778, \"#fb9f3a\"], [0.8888888888888888, \"#fdca26\"], [1.0, \"#f0f921\"]], \"type\": \"contour\"}], \"contourcarpet\": [{\"colorbar\": {\"outlinewidth\": 0, \"ticks\": \"\"}, \"type\": \"contourcarpet\"}], \"heatmap\": [{\"colorbar\": {\"outlinewidth\": 0, \"ticks\": \"\"}, \"colorscale\": [[0.0, \"#0d0887\"], [0.1111111111111111, \"#46039f\"], [0.2222222222222222, \"#7201a8\"], [0.3333333333333333, \"#9c179e\"], [0.4444444444444444, \"#bd3786\"], [0.5555555555555556, \"#d8576b\"], [0.6666666666666666, \"#ed7953\"], [0.7777777777777778, \"#fb9f3a\"], [0.8888888888888888, \"#fdca26\"], [1.0, \"#f0f921\"]], \"type\": \"heatmap\"}], \"heatmapgl\": [{\"colorbar\": {\"outlinewidth\": 0, \"ticks\": \"\"}, \"colorscale\": [[0.0, \"#0d0887\"], [0.1111111111111111, \"#46039f\"], [0.2222222222222222, \"#7201a8\"], [0.3333333333333333, \"#9c179e\"], [0.4444444444444444, \"#bd3786\"], [0.5555555555555556, \"#d8576b\"], [0.6666666666666666, \"#ed7953\"], [0.7777777777777778, \"#fb9f3a\"], [0.8888888888888888, \"#fdca26\"], [1.0, \"#f0f921\"]], \"type\": \"heatmapgl\"}], \"histogram\": [{\"marker\": {\"colorbar\": {\"outlinewidth\": 0, \"ticks\": \"\"}}, \"type\": \"histogram\"}], \"histogram2d\": [{\"colorbar\": {\"outlinewidth\": 0, \"ticks\": \"\"}, \"colorscale\": [[0.0, \"#0d0887\"], [0.1111111111111111, \"#46039f\"], [0.2222222222222222, \"#7201a8\"], [0.3333333333333333, \"#9c179e\"], [0.4444444444444444, \"#bd3786\"], [0.5555555555555556, \"#d8576b\"], [0.6666666666666666, \"#ed7953\"], [0.7777777777777778, \"#fb9f3a\"], [0.8888888888888888, \"#fdca26\"], [1.0, \"#f0f921\"]], \"type\": \"histogram2d\"}], \"histogram2dcontour\": [{\"colorbar\": {\"outlinewidth\": 0, \"ticks\": \"\"}, \"colorscale\": [[0.0, \"#0d0887\"], [0.1111111111111111, \"#46039f\"], [0.2222222222222222, \"#7201a8\"], [0.3333333333333333, \"#9c179e\"], [0.4444444444444444, \"#bd3786\"], [0.5555555555555556, \"#d8576b\"], [0.6666666666666666, \"#ed7953\"], [0.7777777777777778, \"#fb9f3a\"], [0.8888888888888888, \"#fdca26\"], [1.0, \"#f0f921\"]], \"type\": \"histogram2dcontour\"}], \"mesh3d\": [{\"colorbar\": {\"outlinewidth\": 0, \"ticks\": \"\"}, \"type\": \"mesh3d\"}], \"parcoords\": [{\"line\": {\"colorbar\": {\"outlinewidth\": 0, \"ticks\": \"\"}}, \"type\": \"parcoords\"}], \"pie\": [{\"automargin\": true, \"type\": \"pie\"}], \"scatter\": [{\"marker\": {\"colorbar\": {\"outlinewidth\": 0, \"ticks\": \"\"}}, \"type\": \"scatter\"}], \"scatter3d\": [{\"line\": {\"colorbar\": {\"outlinewidth\": 0, \"ticks\": \"\"}}, \"marker\": {\"colorbar\": {\"outlinewidth\": 0, \"ticks\": \"\"}}, \"type\": \"scatter3d\"}], \"scattercarpet\": [{\"marker\": {\"colorbar\": {\"outlinewidth\": 0, \"ticks\": \"\"}}, \"type\": \"scattercarpet\"}], \"scattergeo\": [{\"marker\": {\"colorbar\": {\"outlinewidth\": 0, \"ticks\": \"\"}}, \"type\": \"scattergeo\"}], \"scattergl\": [{\"marker\": {\"colorbar\": {\"outlinewidth\": 0, \"ticks\": \"\"}}, \"type\": \"scattergl\"}], \"scattermapbox\": [{\"marker\": {\"colorbar\": {\"outlinewidth\": 0, \"ticks\": \"\"}}, \"type\": \"scattermapbox\"}], \"scatterpolar\": [{\"marker\": {\"colorbar\": {\"outlinewidth\": 0, \"ticks\": \"\"}}, \"type\": \"scatterpolar\"}], \"scatterpolargl\": [{\"marker\": {\"colorbar\": {\"outlinewidth\": 0, \"ticks\": \"\"}}, \"type\": \"scatterpolargl\"}], \"scatterternary\": [{\"marker\": {\"colorbar\": {\"outlinewidth\": 0, \"ticks\": \"\"}}, \"type\": \"scatterternary\"}], \"surface\": [{\"colorbar\": {\"outlinewidth\": 0, \"ticks\": \"\"}, \"colorscale\": [[0.0, \"#0d0887\"], [0.1111111111111111, \"#46039f\"], [0.2222222222222222, \"#7201a8\"], [0.3333333333333333, \"#9c179e\"], [0.4444444444444444, \"#bd3786\"], [0.5555555555555556, \"#d8576b\"], [0.6666666666666666, \"#ed7953\"], [0.7777777777777778, \"#fb9f3a\"], [0.8888888888888888, \"#fdca26\"], [1.0, \"#f0f921\"]], \"type\": \"surface\"}], \"table\": [{\"cells\": {\"fill\": {\"color\": \"#EBF0F8\"}, \"line\": {\"color\": \"white\"}}, \"header\": {\"fill\": {\"color\": \"#C8D4E3\"}, \"line\": {\"color\": \"white\"}}, \"type\": \"table\"}]}, \"layout\": {\"annotationdefaults\": {\"arrowcolor\": \"#2a3f5f\", \"arrowhead\": 0, \"arrowwidth\": 1}, \"coloraxis\": {\"colorbar\": {\"outlinewidth\": 0, \"ticks\": \"\"}}, \"colorscale\": {\"diverging\": [[0, \"#8e0152\"], [0.1, \"#c51b7d\"], [0.2, \"#de77ae\"], [0.3, \"#f1b6da\"], [0.4, \"#fde0ef\"], [0.5, \"#f7f7f7\"], [0.6, \"#e6f5d0\"], [0.7, \"#b8e186\"], [0.8, \"#7fbc41\"], [0.9, \"#4d9221\"], [1, \"#276419\"]], \"sequential\": [[0.0, \"#0d0887\"], [0.1111111111111111, \"#46039f\"], [0.2222222222222222, \"#7201a8\"], [0.3333333333333333, \"#9c179e\"], [0.4444444444444444, \"#bd3786\"], [0.5555555555555556, \"#d8576b\"], [0.6666666666666666, \"#ed7953\"], [0.7777777777777778, \"#fb9f3a\"], [0.8888888888888888, \"#fdca26\"], [1.0, \"#f0f921\"]], \"sequentialminus\": [[0.0, \"#0d0887\"], [0.1111111111111111, \"#46039f\"], [0.2222222222222222, \"#7201a8\"], [0.3333333333333333, \"#9c179e\"], [0.4444444444444444, \"#bd3786\"], [0.5555555555555556, \"#d8576b\"], [0.6666666666666666, \"#ed7953\"], [0.7777777777777778, \"#fb9f3a\"], [0.8888888888888888, \"#fdca26\"], [1.0, \"#f0f921\"]]}, \"colorway\": [\"#636efa\", \"#EF553B\", \"#00cc96\", \"#ab63fa\", \"#FFA15A\", \"#19d3f3\", \"#FF6692\", \"#B6E880\", \"#FF97FF\", \"#FECB52\"], \"font\": {\"color\": \"#2a3f5f\"}, \"geo\": {\"bgcolor\": \"white\", \"lakecolor\": \"white\", \"landcolor\": \"#E5ECF6\", \"showlakes\": true, \"showland\": true, \"subunitcolor\": \"white\"}, \"hoverlabel\": {\"align\": \"left\"}, \"hovermode\": \"closest\", \"mapbox\": {\"style\": \"light\"}, \"paper_bgcolor\": \"white\", \"plot_bgcolor\": \"#E5ECF6\", \"polar\": {\"angularaxis\": {\"gridcolor\": \"white\", \"linecolor\": \"white\", \"ticks\": \"\"}, \"bgcolor\": \"#E5ECF6\", \"radialaxis\": {\"gridcolor\": \"white\", \"linecolor\": \"white\", \"ticks\": \"\"}}, \"scene\": {\"xaxis\": {\"backgroundcolor\": \"#E5ECF6\", \"gridcolor\": \"white\", \"gridwidth\": 2, \"linecolor\": \"white\", \"showbackground\": true, \"ticks\": \"\", \"zerolinecolor\": \"white\"}, \"yaxis\": {\"backgroundcolor\": \"#E5ECF6\", \"gridcolor\": \"white\", \"gridwidth\": 2, \"linecolor\": \"white\", \"showbackground\": true, \"ticks\": \"\", \"zerolinecolor\": \"white\"}, \"zaxis\": {\"backgroundcolor\": \"#E5ECF6\", \"gridcolor\": \"white\", \"gridwidth\": 2, \"linecolor\": \"white\", \"showbackground\": true, \"ticks\": \"\", \"zerolinecolor\": \"white\"}}, \"shapedefaults\": {\"line\": {\"color\": \"#2a3f5f\"}}, \"ternary\": {\"aaxis\": {\"gridcolor\": \"white\", \"linecolor\": \"white\", \"ticks\": \"\"}, \"baxis\": {\"gridcolor\": \"white\", \"linecolor\": \"white\", \"ticks\": \"\"}, \"bgcolor\": \"#E5ECF6\", \"caxis\": {\"gridcolor\": \"white\", \"linecolor\": \"white\", \"ticks\": \"\"}}, \"title\": {\"x\": 0.05}, \"xaxis\": {\"automargin\": true, \"gridcolor\": \"white\", \"linecolor\": \"white\", \"ticks\": \"\", \"title\": {\"standoff\": 15}, \"zerolinecolor\": \"white\", \"zerolinewidth\": 2}, \"yaxis\": {\"automargin\": true, \"gridcolor\": \"white\", \"linecolor\": \"white\", \"ticks\": \"\", \"title\": {\"standoff\": 15}, \"zerolinecolor\": \"white\", \"zerolinewidth\": 2}}}, \"title\": {\"text\": \"Cardano Candelstick Chart\", \"x\": 0.5, \"xanchor\": \"center\", \"y\": 0.9, \"yanchor\": \"top\"}, \"xaxis\": {\"rangeslider\": {\"visible\": false}, \"title\": {\"text\": \"Time\"}}, \"yaxis\": {\"ticksuffix\": \"$\", \"title\": {\"text\": \"Price in USD\"}}},\n",
              "                        {\"responsive\": true}\n",
              "                    ).then(function(){\n",
              "                            \n",
              "var gd = document.getElementById('86bc537d-6522-437d-a895-60a98b7c2350');\n",
              "var x = new MutationObserver(function (mutations, observer) {{\n",
              "        var display = window.getComputedStyle(gd).display;\n",
              "        if (!display || display === 'none') {{\n",
              "            console.log([gd, 'removed!']);\n",
              "            Plotly.purge(gd);\n",
              "            observer.disconnect();\n",
              "        }}\n",
              "}});\n",
              "\n",
              "// Listen for the removal of the full notebook cells\n",
              "var notebookContainer = gd.closest('#notebook-container');\n",
              "if (notebookContainer) {{\n",
              "    x.observe(notebookContainer, {childList: true});\n",
              "}}\n",
              "\n",
              "// Listen for the clearing of the current output cell\n",
              "var outputEl = gd.closest('.output');\n",
              "if (outputEl) {{\n",
              "    x.observe(outputEl, {childList: true});\n",
              "}}\n",
              "\n",
              "                        })\n",
              "                };\n",
              "                \n",
              "            </script>\n",
              "        </div>\n",
              "</body>\n",
              "</html>"
            ]
          },
          "metadata": {}
        }
      ]
    },
    {
      "cell_type": "markdown",
      "metadata": {
        "id": "2c26b4ce"
      },
      "source": [
        "- Dogecoin"
      ],
      "id": "2c26b4ce"
    },
    {
      "cell_type": "code",
      "metadata": {
        "colab": {
          "base_uri": "https://localhost:8080/",
          "height": 542
        },
        "id": "c0b2b16b",
        "outputId": "cce12958-4146-40d5-93cf-471a8debb907"
      },
      "source": [
        "dogecoin_plot = candelstick_chart(dogecoin[-120:], title=\"Dogecoin\")\n",
        "dogecoin_plot.show()"
      ],
      "id": "c0b2b16b",
      "execution_count": 17,
      "outputs": [
        {
          "output_type": "display_data",
          "data": {
            "text/html": [
              "<html>\n",
              "<head><meta charset=\"utf-8\" /></head>\n",
              "<body>\n",
              "    <div>\n",
              "            <script src=\"https://cdnjs.cloudflare.com/ajax/libs/mathjax/2.7.5/MathJax.js?config=TeX-AMS-MML_SVG\"></script><script type=\"text/javascript\">if (window.MathJax) {MathJax.Hub.Config({SVG: {font: \"STIX-Web\"}});}</script>\n",
              "                <script type=\"text/javascript\">window.PlotlyConfig = {MathJaxConfig: 'local'};</script>\n",
              "        <script src=\"https://cdn.plot.ly/plotly-latest.min.js\"></script>    \n",
              "            <div id=\"9bcbec8b-39fe-43ad-a891-c6db24a202cb\" class=\"plotly-graph-div\" style=\"height:525px; width:100%;\"></div>\n",
              "            <script type=\"text/javascript\">\n",
              "                \n",
              "                    window.PLOTLYENV=window.PLOTLYENV || {};\n",
              "                    \n",
              "                if (document.getElementById(\"9bcbec8b-39fe-43ad-a891-c6db24a202cb\")) {\n",
              "                    Plotly.newPlot(\n",
              "                        '9bcbec8b-39fe-43ad-a891-c6db24a202cb',\n",
              "                        [{\"close\": [0.2122212, 0.21261359999999999, 0.21258675, 0.2122268, 0.2121686, 0.21266625, 0.2133195, 0.213045, 0.21260160000000008, 0.21254050000000002, 0.21256200000000008, 0.212112, 0.2118024, 0.2116038, 0.21198875, 0.21280075, 0.21274675, 0.212484, 0.213345, 0.2137014, 0.21307725, 0.21312960000000009, 0.213386, 0.21366925, 0.2137535, 0.21373325, 0.21397975, 0.21375375, 0.21386149999999998, 0.21345740000000002, 0.21355460000000004, 0.21411525, 0.2146585, 0.214613, 0.21438325, 0.2144752, 0.2139282, 0.214146, 0.21458875, 0.21454320000000004, 0.21456525, 0.21446350000000006, 0.21428200000000006, 0.21410925, 0.214173, 0.21425925, 0.2140066, 0.2139218, 0.21404975, 0.21412775, 0.21426675, 0.21447, 0.21459375000000008, 0.2143916, 0.2142294, 0.21462725, 0.21439075, 0.2143734, 0.21414525, 0.2137274, 0.2133, 0.213123, 0.2127345, 0.21266100000000002, 0.21191325, 0.2113276, 0.211093, 0.21090599999999998, 0.21032060000000002, 0.20970360000000002, 0.2101516, 0.2098374, 0.2100688, 0.2098578, 0.210006, 0.21018960000000006, 0.210184, 0.2108494, 0.2112912, 0.21086679999999997, 0.2093244, 0.20923700000000006, 0.2090998, 0.2086652, 0.2083322, 0.2080596, 0.20781479999999997, 0.2074926, 0.207219, 0.20842080000000002, 0.2075768, 0.2082572, 0.2078496, 0.2080264, 0.2077564, 0.20729175, 0.2069432, 0.207204, 0.206547, 0.2062955, 0.2060362500000001, 0.20655500000000002, 0.20671275, 0.206285, 0.206199, 0.2058382, 0.205773, 0.205737, 0.2066754, 0.2066484, 0.20694250000000003, 0.2072385, 0.207054, 0.207129, 0.2064, 0.20666820000000002, 0.20747725, 0.20758075, 0.20714875, 0.2066288], \"high\": [0.2124, 0.21272, 0.2127, 0.2126, 0.2123, 0.2128, 0.213348, 0.2135, 0.2132, 0.2127, 0.2127, 0.2127, 0.2122, 0.2119, 0.2121, 0.2129, 0.2132, 0.2128, 0.2134, 0.2138, 0.21385, 0.2133, 0.2135, 0.2137, 0.21382, 0.2139, 0.214074, 0.214, 0.214, 0.2142, 0.2139, 0.2143, 0.2148, 0.2148, 0.2147, 0.2147, 0.2149, 0.2144, 0.2147, 0.214727, 0.2147, 0.2148, 0.2146, 0.2145, 0.2144, 0.2144, 0.2144, 0.2142, 0.2143, 0.2144, 0.2146, 0.2145, 0.2149, 0.2147, 0.21453000000000005, 0.2148, 0.2148, 0.2146, 0.2144, 0.214324, 0.2139, 0.2133, 0.213215, 0.2132, 0.212716, 0.2123, 0.2116, 0.2114, 0.2112, 0.210411, 0.2106, 0.2105, 0.2102, 0.2103, 0.2102, 0.2105, 0.21032, 0.2112, 0.2115, 0.2116, 0.21092, 0.2097, 0.20971, 0.2092, 0.209, 0.2084, 0.20819, 0.2079, 0.2077, 0.2089, 0.2089, 0.2084030000000001, 0.2086, 0.2083, 0.2082, 0.2079, 0.2075, 0.207278, 0.207162, 0.2067, 0.206729, 0.2068, 0.2068, 0.2071, 0.2063, 0.2067, 0.2064, 0.206, 0.2069, 0.2072, 0.2075, 0.20746, 0.2074, 0.207437, 0.2075, 0.2068, 0.2076, 0.2078, 0.207806, 0.2074], \"low\": [0.2118, 0.21223000000000009, 0.2125, 0.212194, 0.212083, 0.2121, 0.2126, 0.213, 0.2125, 0.212487, 0.2125, 0.212056, 0.21167, 0.21152, 0.211529, 0.211939, 0.2126, 0.212445, 0.21247, 0.21327, 0.213, 0.2129, 0.2131, 0.213385, 0.2136, 0.2136, 0.2136, 0.2137, 0.2137, 0.213353, 0.213188, 0.2135, 0.21416, 0.214078, 0.2142, 0.2142, 0.2137, 0.2138, 0.2141, 0.2144, 0.214298, 0.2144, 0.21415, 0.214, 0.21387, 0.21406, 0.2139, 0.21351, 0.2139, 0.214, 0.214, 0.2141, 0.2144, 0.2143, 0.21419, 0.2141, 0.21427, 0.2142, 0.2141, 0.2136, 0.2132, 0.2129, 0.2126, 0.2126, 0.2118, 0.2111, 0.211, 0.2108, 0.2101, 0.2094, 0.209618, 0.20934, 0.2092, 0.2091, 0.209396, 0.20994, 0.2098, 0.21012, 0.210479, 0.2106, 0.209194, 0.209, 0.209, 0.2085, 0.2081, 0.207997, 0.2076, 0.2072, 0.2071, 0.20711, 0.207474, 0.2069, 0.2076, 0.2074, 0.207535, 0.207092, 0.2064, 0.206375, 0.2061, 0.2061, 0.2058, 0.205988, 0.205897, 0.2061, 0.205897, 0.2057, 0.2057, 0.205565, 0.20563, 0.2065, 0.206576, 0.2068, 0.20692, 0.207, 0.2062, 0.206189, 0.2066, 0.20715, 0.207069, 0.206544], \"open\": [0.21193560000000003, 0.2123934, 0.2126155, 0.21253139999999998, 0.2122534, 0.21217225, 0.21270025, 0.2133475, 0.213037, 0.2125605, 0.21259025, 0.21254525, 0.2120548, 0.21177739999999998, 0.21159225, 0.21202975, 0.21281, 0.21277375, 0.2125395, 0.2133806000000001, 0.21372199999999997, 0.2130452, 0.21314675, 0.213454, 0.21367425, 0.2137845, 0.2137485, 0.21397125, 0.213788, 0.21383420000000009, 0.2134078, 0.213621, 0.214211, 0.21465375, 0.21455025, 0.21446020000000005, 0.21457240000000005, 0.2139674, 0.214193, 0.2146016000000001, 0.21443175, 0.21460775, 0.2144314, 0.214188, 0.21409425, 0.2141745, 0.2142702, 0.2139584, 0.213997, 0.214108, 0.21417075, 0.21427025, 0.21455, 0.21454700000000004, 0.2143948, 0.2141765, 0.21462475, 0.2143962, 0.2143305, 0.2141262, 0.213758, 0.2131988, 0.2131555, 0.2127755, 0.21260575, 0.2119364, 0.21118625, 0.2111218, 0.21096679999999995, 0.21013420000000002, 0.209823, 0.21016439999999997, 0.20987460000000002, 0.2100312, 0.2098428, 0.2100906, 0.2102198, 0.21025820000000006, 0.2108284, 0.21118579999999998, 0.2107632, 0.2092594, 0.2091928, 0.2090266, 0.208663, 0.20826860000000005, 0.2081012, 0.20775180000000004, 0.2075154, 0.20729339999999996, 0.20840620000000004, 0.2075654, 0.208279, 0.2077656, 0.20806020000000003, 0.20758825, 0.2072652, 0.20691700000000002, 0.2071105000000001, 0.20648, 0.206273, 0.2061325, 0.20649499999999998, 0.20670300000000005, 0.20622675, 0.2061398, 0.2058065, 0.2058115, 0.2058016, 0.2067944, 0.206629, 0.2069795, 0.207251, 0.2070865, 0.2070428, 0.2064128, 0.2066785, 0.20744125, 0.20762975, 0.2071276], \"type\": \"candlestick\", \"x\": [\"2021-09-20T21:45:00\", \"2021-09-20T21:46:00\", \"2021-09-20T21:47:00\", \"2021-09-20T21:48:00\", \"2021-09-20T21:49:00\", \"2021-09-20T21:50:00\", \"2021-09-20T21:51:00\", \"2021-09-20T21:52:00\", \"2021-09-20T21:53:00\", \"2021-09-20T21:54:00\", \"2021-09-20T21:55:00\", \"2021-09-20T21:56:00\", \"2021-09-20T21:57:00\", \"2021-09-20T21:58:00\", \"2021-09-20T21:59:00\", \"2021-09-20T22:00:00\", \"2021-09-20T22:01:00\", \"2021-09-20T22:02:00\", \"2021-09-20T22:03:00\", \"2021-09-20T22:04:00\", \"2021-09-20T22:05:00\", \"2021-09-20T22:06:00\", \"2021-09-20T22:07:00\", \"2021-09-20T22:08:00\", \"2021-09-20T22:09:00\", \"2021-09-20T22:10:00\", \"2021-09-20T22:11:00\", \"2021-09-20T22:12:00\", \"2021-09-20T22:13:00\", \"2021-09-20T22:14:00\", \"2021-09-20T22:15:00\", \"2021-09-20T22:16:00\", \"2021-09-20T22:17:00\", \"2021-09-20T22:18:00\", \"2021-09-20T22:19:00\", \"2021-09-20T22:20:00\", \"2021-09-20T22:21:00\", \"2021-09-20T22:22:00\", \"2021-09-20T22:23:00\", \"2021-09-20T22:24:00\", \"2021-09-20T22:25:00\", \"2021-09-20T22:26:00\", \"2021-09-20T22:27:00\", \"2021-09-20T22:28:00\", \"2021-09-20T22:29:00\", \"2021-09-20T22:30:00\", \"2021-09-20T22:31:00\", \"2021-09-20T22:32:00\", \"2021-09-20T22:33:00\", \"2021-09-20T22:34:00\", \"2021-09-20T22:35:00\", \"2021-09-20T22:36:00\", \"2021-09-20T22:37:00\", \"2021-09-20T22:38:00\", \"2021-09-20T22:39:00\", \"2021-09-20T22:40:00\", \"2021-09-20T22:41:00\", \"2021-09-20T22:42:00\", \"2021-09-20T22:43:00\", \"2021-09-20T22:44:00\", \"2021-09-20T22:45:00\", \"2021-09-20T22:46:00\", \"2021-09-20T22:47:00\", \"2021-09-20T22:48:00\", \"2021-09-20T22:49:00\", \"2021-09-20T22:50:00\", \"2021-09-20T22:51:00\", \"2021-09-20T22:52:00\", \"2021-09-20T22:53:00\", \"2021-09-20T22:54:00\", \"2021-09-20T22:55:00\", \"2021-09-20T22:56:00\", \"2021-09-20T22:57:00\", \"2021-09-20T22:58:00\", \"2021-09-20T22:59:00\", \"2021-09-20T23:00:00\", \"2021-09-20T23:01:00\", \"2021-09-20T23:02:00\", \"2021-09-20T23:03:00\", \"2021-09-20T23:04:00\", \"2021-09-20T23:05:00\", \"2021-09-20T23:06:00\", \"2021-09-20T23:07:00\", \"2021-09-20T23:08:00\", \"2021-09-20T23:09:00\", \"2021-09-20T23:10:00\", \"2021-09-20T23:11:00\", \"2021-09-20T23:12:00\", \"2021-09-20T23:13:00\", \"2021-09-20T23:14:00\", \"2021-09-20T23:15:00\", \"2021-09-20T23:16:00\", \"2021-09-20T23:17:00\", \"2021-09-20T23:18:00\", \"2021-09-20T23:19:00\", \"2021-09-20T23:20:00\", \"2021-09-20T23:21:00\", \"2021-09-20T23:22:00\", \"2021-09-20T23:23:00\", \"2021-09-20T23:24:00\", \"2021-09-20T23:25:00\", \"2021-09-20T23:26:00\", \"2021-09-20T23:27:00\", \"2021-09-20T23:28:00\", \"2021-09-20T23:29:00\", \"2021-09-20T23:30:00\", \"2021-09-20T23:31:00\", \"2021-09-20T23:32:00\", \"2021-09-20T23:33:00\", \"2021-09-20T23:34:00\", \"2021-09-20T23:35:00\", \"2021-09-20T23:36:00\", \"2021-09-20T23:37:00\", \"2021-09-20T23:38:00\", \"2021-09-20T23:39:00\", \"2021-09-20T23:40:00\", \"2021-09-20T23:41:00\", \"2021-09-20T23:42:00\", \"2021-09-20T23:43:00\", \"2021-09-20T23:44:00\"]}],\n",
              "                        {\"template\": {\"data\": {\"bar\": [{\"error_x\": {\"color\": \"#2a3f5f\"}, \"error_y\": {\"color\": \"#2a3f5f\"}, \"marker\": {\"line\": {\"color\": \"#E5ECF6\", \"width\": 0.5}}, \"type\": \"bar\"}], \"barpolar\": [{\"marker\": {\"line\": {\"color\": \"#E5ECF6\", \"width\": 0.5}}, \"type\": \"barpolar\"}], \"carpet\": [{\"aaxis\": {\"endlinecolor\": \"#2a3f5f\", \"gridcolor\": \"white\", \"linecolor\": \"white\", \"minorgridcolor\": \"white\", \"startlinecolor\": \"#2a3f5f\"}, \"baxis\": {\"endlinecolor\": \"#2a3f5f\", \"gridcolor\": \"white\", \"linecolor\": \"white\", \"minorgridcolor\": \"white\", \"startlinecolor\": \"#2a3f5f\"}, \"type\": \"carpet\"}], \"choropleth\": [{\"colorbar\": {\"outlinewidth\": 0, \"ticks\": \"\"}, \"type\": \"choropleth\"}], \"contour\": [{\"colorbar\": {\"outlinewidth\": 0, \"ticks\": \"\"}, \"colorscale\": [[0.0, \"#0d0887\"], [0.1111111111111111, \"#46039f\"], [0.2222222222222222, \"#7201a8\"], [0.3333333333333333, \"#9c179e\"], [0.4444444444444444, \"#bd3786\"], [0.5555555555555556, \"#d8576b\"], [0.6666666666666666, \"#ed7953\"], [0.7777777777777778, \"#fb9f3a\"], [0.8888888888888888, \"#fdca26\"], [1.0, \"#f0f921\"]], \"type\": \"contour\"}], \"contourcarpet\": [{\"colorbar\": {\"outlinewidth\": 0, \"ticks\": \"\"}, \"type\": \"contourcarpet\"}], \"heatmap\": [{\"colorbar\": {\"outlinewidth\": 0, \"ticks\": \"\"}, \"colorscale\": [[0.0, \"#0d0887\"], [0.1111111111111111, \"#46039f\"], [0.2222222222222222, \"#7201a8\"], [0.3333333333333333, \"#9c179e\"], [0.4444444444444444, \"#bd3786\"], [0.5555555555555556, \"#d8576b\"], [0.6666666666666666, \"#ed7953\"], [0.7777777777777778, \"#fb9f3a\"], [0.8888888888888888, \"#fdca26\"], [1.0, \"#f0f921\"]], \"type\": \"heatmap\"}], \"heatmapgl\": [{\"colorbar\": {\"outlinewidth\": 0, \"ticks\": \"\"}, \"colorscale\": [[0.0, \"#0d0887\"], [0.1111111111111111, \"#46039f\"], [0.2222222222222222, \"#7201a8\"], [0.3333333333333333, \"#9c179e\"], [0.4444444444444444, \"#bd3786\"], [0.5555555555555556, \"#d8576b\"], [0.6666666666666666, \"#ed7953\"], [0.7777777777777778, \"#fb9f3a\"], [0.8888888888888888, \"#fdca26\"], [1.0, \"#f0f921\"]], \"type\": \"heatmapgl\"}], \"histogram\": [{\"marker\": {\"colorbar\": {\"outlinewidth\": 0, \"ticks\": \"\"}}, \"type\": \"histogram\"}], \"histogram2d\": [{\"colorbar\": {\"outlinewidth\": 0, \"ticks\": \"\"}, \"colorscale\": [[0.0, \"#0d0887\"], [0.1111111111111111, \"#46039f\"], [0.2222222222222222, \"#7201a8\"], [0.3333333333333333, \"#9c179e\"], [0.4444444444444444, \"#bd3786\"], [0.5555555555555556, \"#d8576b\"], [0.6666666666666666, \"#ed7953\"], [0.7777777777777778, \"#fb9f3a\"], [0.8888888888888888, \"#fdca26\"], [1.0, \"#f0f921\"]], \"type\": \"histogram2d\"}], \"histogram2dcontour\": [{\"colorbar\": {\"outlinewidth\": 0, \"ticks\": \"\"}, \"colorscale\": [[0.0, \"#0d0887\"], [0.1111111111111111, \"#46039f\"], [0.2222222222222222, \"#7201a8\"], [0.3333333333333333, \"#9c179e\"], [0.4444444444444444, \"#bd3786\"], [0.5555555555555556, \"#d8576b\"], [0.6666666666666666, \"#ed7953\"], [0.7777777777777778, \"#fb9f3a\"], [0.8888888888888888, \"#fdca26\"], [1.0, \"#f0f921\"]], \"type\": \"histogram2dcontour\"}], \"mesh3d\": [{\"colorbar\": {\"outlinewidth\": 0, \"ticks\": \"\"}, \"type\": \"mesh3d\"}], \"parcoords\": [{\"line\": {\"colorbar\": {\"outlinewidth\": 0, \"ticks\": \"\"}}, \"type\": \"parcoords\"}], \"pie\": [{\"automargin\": true, \"type\": \"pie\"}], \"scatter\": [{\"marker\": {\"colorbar\": {\"outlinewidth\": 0, \"ticks\": \"\"}}, \"type\": \"scatter\"}], \"scatter3d\": [{\"line\": {\"colorbar\": {\"outlinewidth\": 0, \"ticks\": \"\"}}, \"marker\": {\"colorbar\": {\"outlinewidth\": 0, \"ticks\": \"\"}}, \"type\": \"scatter3d\"}], \"scattercarpet\": [{\"marker\": {\"colorbar\": {\"outlinewidth\": 0, \"ticks\": \"\"}}, \"type\": \"scattercarpet\"}], \"scattergeo\": [{\"marker\": {\"colorbar\": {\"outlinewidth\": 0, \"ticks\": \"\"}}, \"type\": \"scattergeo\"}], \"scattergl\": [{\"marker\": {\"colorbar\": {\"outlinewidth\": 0, \"ticks\": \"\"}}, \"type\": \"scattergl\"}], \"scattermapbox\": [{\"marker\": {\"colorbar\": {\"outlinewidth\": 0, \"ticks\": \"\"}}, \"type\": \"scattermapbox\"}], \"scatterpolar\": [{\"marker\": {\"colorbar\": {\"outlinewidth\": 0, \"ticks\": \"\"}}, \"type\": \"scatterpolar\"}], \"scatterpolargl\": [{\"marker\": {\"colorbar\": {\"outlinewidth\": 0, \"ticks\": \"\"}}, \"type\": \"scatterpolargl\"}], \"scatterternary\": [{\"marker\": {\"colorbar\": {\"outlinewidth\": 0, \"ticks\": \"\"}}, \"type\": \"scatterternary\"}], \"surface\": [{\"colorbar\": {\"outlinewidth\": 0, \"ticks\": \"\"}, \"colorscale\": [[0.0, \"#0d0887\"], [0.1111111111111111, \"#46039f\"], [0.2222222222222222, \"#7201a8\"], [0.3333333333333333, \"#9c179e\"], [0.4444444444444444, \"#bd3786\"], [0.5555555555555556, \"#d8576b\"], [0.6666666666666666, \"#ed7953\"], [0.7777777777777778, \"#fb9f3a\"], [0.8888888888888888, \"#fdca26\"], [1.0, \"#f0f921\"]], \"type\": \"surface\"}], \"table\": [{\"cells\": {\"fill\": {\"color\": \"#EBF0F8\"}, \"line\": {\"color\": \"white\"}}, \"header\": {\"fill\": {\"color\": \"#C8D4E3\"}, \"line\": {\"color\": \"white\"}}, \"type\": \"table\"}]}, \"layout\": {\"annotationdefaults\": {\"arrowcolor\": \"#2a3f5f\", \"arrowhead\": 0, \"arrowwidth\": 1}, \"coloraxis\": {\"colorbar\": {\"outlinewidth\": 0, \"ticks\": \"\"}}, \"colorscale\": {\"diverging\": [[0, \"#8e0152\"], [0.1, \"#c51b7d\"], [0.2, \"#de77ae\"], [0.3, \"#f1b6da\"], [0.4, \"#fde0ef\"], [0.5, \"#f7f7f7\"], [0.6, \"#e6f5d0\"], [0.7, \"#b8e186\"], [0.8, \"#7fbc41\"], [0.9, \"#4d9221\"], [1, \"#276419\"]], \"sequential\": [[0.0, \"#0d0887\"], [0.1111111111111111, \"#46039f\"], [0.2222222222222222, \"#7201a8\"], [0.3333333333333333, \"#9c179e\"], [0.4444444444444444, \"#bd3786\"], [0.5555555555555556, \"#d8576b\"], [0.6666666666666666, \"#ed7953\"], [0.7777777777777778, \"#fb9f3a\"], [0.8888888888888888, \"#fdca26\"], [1.0, \"#f0f921\"]], \"sequentialminus\": [[0.0, \"#0d0887\"], [0.1111111111111111, \"#46039f\"], [0.2222222222222222, \"#7201a8\"], [0.3333333333333333, \"#9c179e\"], [0.4444444444444444, \"#bd3786\"], [0.5555555555555556, \"#d8576b\"], [0.6666666666666666, \"#ed7953\"], [0.7777777777777778, \"#fb9f3a\"], [0.8888888888888888, \"#fdca26\"], [1.0, \"#f0f921\"]]}, \"colorway\": [\"#636efa\", \"#EF553B\", \"#00cc96\", \"#ab63fa\", \"#FFA15A\", \"#19d3f3\", \"#FF6692\", \"#B6E880\", \"#FF97FF\", \"#FECB52\"], \"font\": {\"color\": \"#2a3f5f\"}, \"geo\": {\"bgcolor\": \"white\", \"lakecolor\": \"white\", \"landcolor\": \"#E5ECF6\", \"showlakes\": true, \"showland\": true, \"subunitcolor\": \"white\"}, \"hoverlabel\": {\"align\": \"left\"}, \"hovermode\": \"closest\", \"mapbox\": {\"style\": \"light\"}, \"paper_bgcolor\": \"white\", \"plot_bgcolor\": \"#E5ECF6\", \"polar\": {\"angularaxis\": {\"gridcolor\": \"white\", \"linecolor\": \"white\", \"ticks\": \"\"}, \"bgcolor\": \"#E5ECF6\", \"radialaxis\": {\"gridcolor\": \"white\", \"linecolor\": \"white\", \"ticks\": \"\"}}, \"scene\": {\"xaxis\": {\"backgroundcolor\": \"#E5ECF6\", \"gridcolor\": \"white\", \"gridwidth\": 2, \"linecolor\": \"white\", \"showbackground\": true, \"ticks\": \"\", \"zerolinecolor\": \"white\"}, \"yaxis\": {\"backgroundcolor\": \"#E5ECF6\", \"gridcolor\": \"white\", \"gridwidth\": 2, \"linecolor\": \"white\", \"showbackground\": true, \"ticks\": \"\", \"zerolinecolor\": \"white\"}, \"zaxis\": {\"backgroundcolor\": \"#E5ECF6\", \"gridcolor\": \"white\", \"gridwidth\": 2, \"linecolor\": \"white\", \"showbackground\": true, \"ticks\": \"\", \"zerolinecolor\": \"white\"}}, \"shapedefaults\": {\"line\": {\"color\": \"#2a3f5f\"}}, \"ternary\": {\"aaxis\": {\"gridcolor\": \"white\", \"linecolor\": \"white\", \"ticks\": \"\"}, \"baxis\": {\"gridcolor\": \"white\", \"linecolor\": \"white\", \"ticks\": \"\"}, \"bgcolor\": \"#E5ECF6\", \"caxis\": {\"gridcolor\": \"white\", \"linecolor\": \"white\", \"ticks\": \"\"}}, \"title\": {\"x\": 0.05}, \"xaxis\": {\"automargin\": true, \"gridcolor\": \"white\", \"linecolor\": \"white\", \"ticks\": \"\", \"title\": {\"standoff\": 15}, \"zerolinecolor\": \"white\", \"zerolinewidth\": 2}, \"yaxis\": {\"automargin\": true, \"gridcolor\": \"white\", \"linecolor\": \"white\", \"ticks\": \"\", \"title\": {\"standoff\": 15}, \"zerolinecolor\": \"white\", \"zerolinewidth\": 2}}}, \"title\": {\"text\": \"Dogecoin Candelstick Chart\", \"x\": 0.5, \"xanchor\": \"center\", \"y\": 0.9, \"yanchor\": \"top\"}, \"xaxis\": {\"rangeslider\": {\"visible\": false}, \"title\": {\"text\": \"Time\"}}, \"yaxis\": {\"ticksuffix\": \"$\", \"title\": {\"text\": \"Price in USD\"}}},\n",
              "                        {\"responsive\": true}\n",
              "                    ).then(function(){\n",
              "                            \n",
              "var gd = document.getElementById('9bcbec8b-39fe-43ad-a891-c6db24a202cb');\n",
              "var x = new MutationObserver(function (mutations, observer) {{\n",
              "        var display = window.getComputedStyle(gd).display;\n",
              "        if (!display || display === 'none') {{\n",
              "            console.log([gd, 'removed!']);\n",
              "            Plotly.purge(gd);\n",
              "            observer.disconnect();\n",
              "        }}\n",
              "}});\n",
              "\n",
              "// Listen for the removal of the full notebook cells\n",
              "var notebookContainer = gd.closest('#notebook-container');\n",
              "if (notebookContainer) {{\n",
              "    x.observe(notebookContainer, {childList: true});\n",
              "}}\n",
              "\n",
              "// Listen for the clearing of the current output cell\n",
              "var outputEl = gd.closest('.output');\n",
              "if (outputEl) {{\n",
              "    x.observe(outputEl, {childList: true});\n",
              "}}\n",
              "\n",
              "                        })\n",
              "                };\n",
              "                \n",
              "            </script>\n",
              "        </div>\n",
              "</body>\n",
              "</html>"
            ]
          },
          "metadata": {}
        }
      ]
    },
    {
      "cell_type": "markdown",
      "metadata": {
        "id": "5c8a2d86"
      },
      "source": [
        "- EOS.IO"
      ],
      "id": "5c8a2d86"
    },
    {
      "cell_type": "code",
      "metadata": {
        "colab": {
          "base_uri": "https://localhost:8080/",
          "height": 542
        },
        "id": "680df42c",
        "outputId": "ceba81e2-ea3e-449c-c8ff-e43a63e5e6ba"
      },
      "source": [
        "eos_plot = candelstick_chart(eos[-120:], title=\"EOS.IO\")\n",
        "eos_plot.show()"
      ],
      "id": "680df42c",
      "execution_count": 18,
      "outputs": [
        {
          "output_type": "display_data",
          "data": {
            "text/html": [
              "<html>\n",
              "<head><meta charset=\"utf-8\" /></head>\n",
              "<body>\n",
              "    <div>\n",
              "            <script src=\"https://cdnjs.cloudflare.com/ajax/libs/mathjax/2.7.5/MathJax.js?config=TeX-AMS-MML_SVG\"></script><script type=\"text/javascript\">if (window.MathJax) {MathJax.Hub.Config({SVG: {font: \"STIX-Web\"}});}</script>\n",
              "                <script type=\"text/javascript\">window.PlotlyConfig = {MathJaxConfig: 'local'};</script>\n",
              "        <script src=\"https://cdn.plot.ly/plotly-latest.min.js\"></script>    \n",
              "            <div id=\"6f4efed2-db96-45cd-9269-dce0a15f97ee\" class=\"plotly-graph-div\" style=\"height:525px; width:100%;\"></div>\n",
              "            <script type=\"text/javascript\">\n",
              "                \n",
              "                    window.PLOTLYENV=window.PLOTLYENV || {};\n",
              "                    \n",
              "                if (document.getElementById(\"6f4efed2-db96-45cd-9269-dce0a15f97ee\")) {\n",
              "                    Plotly.newPlot(\n",
              "                        '6f4efed2-db96-45cd-9269-dce0a15f97ee',\n",
              "                        [{\"close\": [4.2703000000000015, 4.27042, 4.2699750000000005, 4.261533333333333, 4.260759999999999, 4.26925, 4.271599999999999, 4.267525, 4.259880000000001, 4.25496, 4.2551000000000005, 4.24982, 4.242219999999999, 4.2398500000000015, 4.23996, 4.253556421666667, 4.253, 4.250407106666667, 4.2557725233333334, 4.2653, 4.254320128333333, 4.253333333333333, 4.26094, 4.2674, 4.271766666666667, 4.2717905740000015, 4.276825, 4.27316, 4.272195580000001, 4.2734, 4.27796, 4.284233333333334, 4.297183333333333, 4.297916666666667, 4.29884, 4.297899999999999, 4.292816666666667, 4.29662, 4.300083333333333, 4.294266666666666, 4.2957833333333335, 4.2936000000000005, 4.29028, 4.282733333333334, 4.286879999999999, 4.28785, 4.284016666666667, 4.283600000000002, 4.2868, 4.291416666666668, 4.2923333333333344, 4.2924857633333335, 4.294733333333333, 4.29284, 4.2898, 4.294427513333333, 4.288, 4.2872, 4.27992, 4.27284, 4.265600000000001, 4.26508276, 4.258783333333334, 4.2521, 4.2473, 4.231933333333333, 4.2290800000000015, 4.2241599999999995, 4.215966666666667, 4.205283333333333, 4.214266666666667, 4.2137, 4.2201, 4.21556, 4.21358, 4.218983333333333, 4.218916666666667, 4.236916666666667, 4.25045, 4.242216666666667, 4.218916666666666, 4.217266666666666, 4.22105, 4.214533333333333, 4.200566666666666, 4.194866666666667, 4.188616666666666, 4.1846000000000005, 4.180483333333332, 4.203366666666667, 4.192583333333333, 4.197500000000002, 4.1921333333333335, 4.194916666666667, 4.18725, 4.178423916666667, 4.16835, 4.170400000000001, 4.163783333333333, 4.159416666666666, 4.153466666666668, 4.162183333333334, 4.169433333333333, 4.159930200000002, 4.15135, 4.1449500000000015, 4.148440341666666, 4.1477, 4.159766666666667, 4.1739500000000005, 4.177966666666666, 4.183741526666666, 4.178466666666666, 4.179799999999998, 4.1634666666666655, 4.169566666666666, 4.179483366666666, 4.18310306, 4.181133333333333, 4.170236113333334], \"high\": [4.2724, 4.2737, 4.272, 4.2721, 4.2620000000000005, 4.2721, 4.2729, 4.273, 4.268, 4.2591, 4.2569, 4.2569, 4.251, 4.243, 4.2422, 4.257, 4.263, 4.2545, 4.26, 4.268, 4.265, 4.257, 4.2639999999999985, 4.2711, 4.274, 4.27575287, 4.2780000000000005, 4.277, 4.28, 4.284, 4.2827, 4.287, 4.302, 4.3, 4.301, 4.301, 4.308, 4.298, 4.3051, 4.303, 4.2992, 4.3001, 4.295, 4.293, 4.293, 4.29, 4.2903, 4.287, 4.291, 4.2934, 4.2983, 4.2951, 4.299, 4.295, 4.295, 4.297, 4.298, 4.292, 4.2864, 4.285, 4.27722883, 4.268, 4.269, 4.2638, 4.2557, 4.2515, 4.2401, 4.2341, 4.2294, 4.2172, 4.226, 4.2229, 4.2222, 4.225, 4.2185, 4.223, 4.224, 4.243, 4.255, 4.257, 4.2425, 4.226, 4.232, 4.222, 4.2189999999999985, 4.2025, 4.198, 4.1930000000000005, 4.192, 4.21, 4.212, 4.2026, 4.206, 4.20101841, 4.1977, 4.1885, 4.181, 4.176, 4.173, 4.1672, 4.1681, 4.168, 4.1728, 4.175, 4.165, 4.164, 4.15374205, 4.152, 4.165, 4.187, 4.186, 4.1892, 4.1911, 4.191, 4.187, 4.175, 4.186, 4.186, 4.189, 4.185], \"low\": [4.2683, 4.2691, 4.268, 4.257, 4.257, 4.2589, 4.269, 4.267, 4.2577, 4.2535, 4.253, 4.2485, 4.2405, 4.2372, 4.237, 4.2386, 4.251, 4.2484, 4.247, 4.258, 4.251, 4.2487, 4.2524, 4.2587, 4.267, 4.2689, 4.27, 4.2704, 4.27, 4.266, 4.2708, 4.2778, 4.2835, 4.291, 4.294, 4.2943, 4.2871, 4.2925, 4.2936, 4.2929, 4.2886, 4.291, 4.287, 4.2778, 4.2809, 4.2817, 4.2812, 4.276, 4.2848, 4.2861, 4.2863, 4.2877, 4.29, 4.2917, 4.2854, 4.2858, 4.2825, 4.2851, 4.2787, 4.2713, 4.263, 4.26, 4.2534, 4.2501, 4.2431, 4.2307, 4.226, 4.2226, 4.2126, 4.1992, 4.2063, 4.204, 4.2034, 4.203, 4.2041, 4.214, 4.2111, 4.2209, 4.2319, 4.2402, 4.2154, 4.2114, 4.2152, 4.2127, 4.1975, 4.1919, 4.1848, 4.1777, 4.1788, 4.18, 4.1849, 4.1722, 4.187, 4.1841, 4.1832, 4.173, 4.1629, 4.1614, 4.1497, 4.155, 4.151, 4.15, 4.154, 4.155, 4.141, 4.1404, 4.1433, 4.1415, 4.143, 4.1629, 4.1723, 4.1755, 4.1759, 4.1759, 4.1595, 4.1561, 4.1703, 4.172, 4.1768, 4.1678], \"open\": [4.270439999999999, 4.2711, 4.269475, 4.269333333333333, 4.2589256760000005, 4.261299999999999, 4.270619999999999, 4.272025, 4.2657817259999975, 4.25852, 4.2547, 4.2549800000000015, 4.2484, 4.240933333333333, 4.24084, 4.241117535, 4.257233333333333, 4.2529, 4.249616666666667, 4.259792178333333, 4.2626333333333335, 4.252033333333333, 4.2570000000000014, 4.26232, 4.27045, 4.274370574, 4.27215, 4.27604, 4.274370665, 4.270512246666666, 4.273619999999998, 4.279366666666667, 4.285683333333333, 4.297983333333334, 4.29908, 4.298183333333334, 4.29915, 4.2944, 4.297998146666667, 4.300133333333333, 4.293266666666667, 4.2973, 4.2938, 4.288099999999999, 4.28308, 4.286533333333334, 4.289033333333333, 4.283716666666666, 4.287979999999999, 4.288666666666667, 4.291783333333333, 4.289869096666667, 4.293466666666666, 4.2931599999999985, 4.29195, 4.288516666666666, 4.296259999999998, 4.289416666666667, 4.285533947999999, 4.281470231999998, 4.273160000000002, 4.26480276, 4.264666666666667, 4.25612, 4.2521182620000015, 4.24575, 4.2316400000000005, 4.22872, 4.223466666666667, 4.213633333333333, 4.209883333333333, 4.215016666666667, 4.217033333333333, 4.2183199999999985, 4.214659999999999, 4.215716666666667, 4.2192, 4.2238, 4.234750000000001, 4.250066666666666, 4.240683333333333, 4.217333333333333, 4.21955, 4.2191166666666655, 4.213166666666667, 4.200716666666667, 4.193683333333333, 4.189216666666667, 4.1874666666666664, 4.1824666666666666, 4.201778988333333, 4.18445514, 4.1995000000000005, 4.189853068333332, 4.193616666666666, 4.184383333333334, 4.177683333333333, 4.169093058333334, 4.16965, 4.161883333333333, 4.1594000000000015, 4.156266666666666, 4.1607, 4.168783333333333, 4.1592, 4.1523, 4.147523675, 4.1472, 4.146533333333333, 4.167233333333335, 4.175933333333333, 4.1783166666666665, 4.184716666666667, 4.181383333333334, 4.180033333333333, 4.1615166666666665, 4.175483333333333, 4.1802, 4.18485, 4.179950000000002], \"type\": \"candlestick\", \"x\": [\"2021-09-20T21:45:00\", \"2021-09-20T21:46:00\", \"2021-09-20T21:47:00\", \"2021-09-20T21:48:00\", \"2021-09-20T21:49:00\", \"2021-09-20T21:50:00\", \"2021-09-20T21:51:00\", \"2021-09-20T21:52:00\", \"2021-09-20T21:53:00\", \"2021-09-20T21:54:00\", \"2021-09-20T21:55:00\", \"2021-09-20T21:56:00\", \"2021-09-20T21:57:00\", \"2021-09-20T21:58:00\", \"2021-09-20T21:59:00\", \"2021-09-20T22:00:00\", \"2021-09-20T22:01:00\", \"2021-09-20T22:02:00\", \"2021-09-20T22:03:00\", \"2021-09-20T22:04:00\", \"2021-09-20T22:05:00\", \"2021-09-20T22:06:00\", \"2021-09-20T22:07:00\", \"2021-09-20T22:08:00\", \"2021-09-20T22:09:00\", \"2021-09-20T22:10:00\", \"2021-09-20T22:11:00\", \"2021-09-20T22:12:00\", \"2021-09-20T22:13:00\", \"2021-09-20T22:14:00\", \"2021-09-20T22:15:00\", \"2021-09-20T22:16:00\", \"2021-09-20T22:17:00\", \"2021-09-20T22:18:00\", \"2021-09-20T22:19:00\", \"2021-09-20T22:20:00\", \"2021-09-20T22:21:00\", \"2021-09-20T22:22:00\", \"2021-09-20T22:23:00\", \"2021-09-20T22:24:00\", \"2021-09-20T22:25:00\", \"2021-09-20T22:26:00\", \"2021-09-20T22:27:00\", \"2021-09-20T22:28:00\", \"2021-09-20T22:29:00\", \"2021-09-20T22:30:00\", \"2021-09-20T22:31:00\", \"2021-09-20T22:32:00\", \"2021-09-20T22:33:00\", \"2021-09-20T22:34:00\", \"2021-09-20T22:35:00\", \"2021-09-20T22:36:00\", \"2021-09-20T22:37:00\", \"2021-09-20T22:38:00\", \"2021-09-20T22:39:00\", \"2021-09-20T22:40:00\", \"2021-09-20T22:41:00\", \"2021-09-20T22:42:00\", \"2021-09-20T22:43:00\", \"2021-09-20T22:44:00\", \"2021-09-20T22:45:00\", \"2021-09-20T22:46:00\", \"2021-09-20T22:47:00\", \"2021-09-20T22:48:00\", \"2021-09-20T22:49:00\", \"2021-09-20T22:50:00\", \"2021-09-20T22:51:00\", \"2021-09-20T22:52:00\", \"2021-09-20T22:53:00\", \"2021-09-20T22:54:00\", \"2021-09-20T22:55:00\", \"2021-09-20T22:56:00\", \"2021-09-20T22:57:00\", \"2021-09-20T22:58:00\", \"2021-09-20T22:59:00\", \"2021-09-20T23:00:00\", \"2021-09-20T23:01:00\", \"2021-09-20T23:02:00\", \"2021-09-20T23:03:00\", \"2021-09-20T23:04:00\", \"2021-09-20T23:05:00\", \"2021-09-20T23:06:00\", \"2021-09-20T23:07:00\", \"2021-09-20T23:08:00\", \"2021-09-20T23:09:00\", \"2021-09-20T23:10:00\", \"2021-09-20T23:11:00\", \"2021-09-20T23:12:00\", \"2021-09-20T23:13:00\", \"2021-09-20T23:14:00\", \"2021-09-20T23:15:00\", \"2021-09-20T23:16:00\", \"2021-09-20T23:17:00\", \"2021-09-20T23:18:00\", \"2021-09-20T23:19:00\", \"2021-09-20T23:20:00\", \"2021-09-20T23:21:00\", \"2021-09-20T23:22:00\", \"2021-09-20T23:23:00\", \"2021-09-20T23:24:00\", \"2021-09-20T23:25:00\", \"2021-09-20T23:26:00\", \"2021-09-20T23:27:00\", \"2021-09-20T23:28:00\", \"2021-09-20T23:29:00\", \"2021-09-20T23:30:00\", \"2021-09-20T23:31:00\", \"2021-09-20T23:32:00\", \"2021-09-20T23:33:00\", \"2021-09-20T23:34:00\", \"2021-09-20T23:35:00\", \"2021-09-20T23:36:00\", \"2021-09-20T23:37:00\", \"2021-09-20T23:38:00\", \"2021-09-20T23:39:00\", \"2021-09-20T23:40:00\", \"2021-09-20T23:41:00\", \"2021-09-20T23:42:00\", \"2021-09-20T23:43:00\", \"2021-09-20T23:44:00\"]}],\n",
              "                        {\"template\": {\"data\": {\"bar\": [{\"error_x\": {\"color\": \"#2a3f5f\"}, \"error_y\": {\"color\": \"#2a3f5f\"}, \"marker\": {\"line\": {\"color\": \"#E5ECF6\", \"width\": 0.5}}, \"type\": \"bar\"}], \"barpolar\": [{\"marker\": {\"line\": {\"color\": \"#E5ECF6\", \"width\": 0.5}}, \"type\": \"barpolar\"}], \"carpet\": [{\"aaxis\": {\"endlinecolor\": \"#2a3f5f\", \"gridcolor\": \"white\", \"linecolor\": \"white\", \"minorgridcolor\": \"white\", \"startlinecolor\": \"#2a3f5f\"}, \"baxis\": {\"endlinecolor\": \"#2a3f5f\", \"gridcolor\": \"white\", \"linecolor\": \"white\", \"minorgridcolor\": \"white\", \"startlinecolor\": \"#2a3f5f\"}, \"type\": \"carpet\"}], \"choropleth\": [{\"colorbar\": {\"outlinewidth\": 0, \"ticks\": \"\"}, \"type\": \"choropleth\"}], \"contour\": [{\"colorbar\": {\"outlinewidth\": 0, \"ticks\": \"\"}, \"colorscale\": [[0.0, \"#0d0887\"], [0.1111111111111111, \"#46039f\"], [0.2222222222222222, \"#7201a8\"], [0.3333333333333333, \"#9c179e\"], [0.4444444444444444, \"#bd3786\"], [0.5555555555555556, \"#d8576b\"], [0.6666666666666666, \"#ed7953\"], [0.7777777777777778, \"#fb9f3a\"], [0.8888888888888888, \"#fdca26\"], [1.0, \"#f0f921\"]], \"type\": \"contour\"}], \"contourcarpet\": [{\"colorbar\": {\"outlinewidth\": 0, \"ticks\": \"\"}, \"type\": \"contourcarpet\"}], \"heatmap\": [{\"colorbar\": {\"outlinewidth\": 0, \"ticks\": \"\"}, \"colorscale\": [[0.0, \"#0d0887\"], [0.1111111111111111, \"#46039f\"], [0.2222222222222222, \"#7201a8\"], [0.3333333333333333, \"#9c179e\"], [0.4444444444444444, \"#bd3786\"], [0.5555555555555556, \"#d8576b\"], [0.6666666666666666, \"#ed7953\"], [0.7777777777777778, \"#fb9f3a\"], [0.8888888888888888, \"#fdca26\"], [1.0, \"#f0f921\"]], \"type\": \"heatmap\"}], \"heatmapgl\": [{\"colorbar\": {\"outlinewidth\": 0, \"ticks\": \"\"}, \"colorscale\": [[0.0, \"#0d0887\"], [0.1111111111111111, \"#46039f\"], [0.2222222222222222, \"#7201a8\"], [0.3333333333333333, \"#9c179e\"], [0.4444444444444444, \"#bd3786\"], [0.5555555555555556, \"#d8576b\"], [0.6666666666666666, \"#ed7953\"], [0.7777777777777778, \"#fb9f3a\"], [0.8888888888888888, \"#fdca26\"], [1.0, \"#f0f921\"]], \"type\": \"heatmapgl\"}], \"histogram\": [{\"marker\": {\"colorbar\": {\"outlinewidth\": 0, \"ticks\": \"\"}}, \"type\": \"histogram\"}], \"histogram2d\": [{\"colorbar\": {\"outlinewidth\": 0, \"ticks\": \"\"}, \"colorscale\": [[0.0, \"#0d0887\"], [0.1111111111111111, \"#46039f\"], [0.2222222222222222, \"#7201a8\"], [0.3333333333333333, \"#9c179e\"], [0.4444444444444444, \"#bd3786\"], [0.5555555555555556, \"#d8576b\"], [0.6666666666666666, \"#ed7953\"], [0.7777777777777778, \"#fb9f3a\"], [0.8888888888888888, \"#fdca26\"], [1.0, \"#f0f921\"]], \"type\": \"histogram2d\"}], \"histogram2dcontour\": [{\"colorbar\": {\"outlinewidth\": 0, \"ticks\": \"\"}, \"colorscale\": [[0.0, \"#0d0887\"], [0.1111111111111111, \"#46039f\"], [0.2222222222222222, \"#7201a8\"], [0.3333333333333333, \"#9c179e\"], [0.4444444444444444, \"#bd3786\"], [0.5555555555555556, \"#d8576b\"], [0.6666666666666666, \"#ed7953\"], [0.7777777777777778, \"#fb9f3a\"], [0.8888888888888888, \"#fdca26\"], [1.0, \"#f0f921\"]], \"type\": \"histogram2dcontour\"}], \"mesh3d\": [{\"colorbar\": {\"outlinewidth\": 0, \"ticks\": \"\"}, \"type\": \"mesh3d\"}], \"parcoords\": [{\"line\": {\"colorbar\": {\"outlinewidth\": 0, \"ticks\": \"\"}}, \"type\": \"parcoords\"}], \"pie\": [{\"automargin\": true, \"type\": \"pie\"}], \"scatter\": [{\"marker\": {\"colorbar\": {\"outlinewidth\": 0, \"ticks\": \"\"}}, \"type\": \"scatter\"}], \"scatter3d\": [{\"line\": {\"colorbar\": {\"outlinewidth\": 0, \"ticks\": \"\"}}, \"marker\": {\"colorbar\": {\"outlinewidth\": 0, \"ticks\": \"\"}}, \"type\": \"scatter3d\"}], \"scattercarpet\": [{\"marker\": {\"colorbar\": {\"outlinewidth\": 0, \"ticks\": \"\"}}, \"type\": \"scattercarpet\"}], \"scattergeo\": [{\"marker\": {\"colorbar\": {\"outlinewidth\": 0, \"ticks\": \"\"}}, \"type\": \"scattergeo\"}], \"scattergl\": [{\"marker\": {\"colorbar\": {\"outlinewidth\": 0, \"ticks\": \"\"}}, \"type\": \"scattergl\"}], \"scattermapbox\": [{\"marker\": {\"colorbar\": {\"outlinewidth\": 0, \"ticks\": \"\"}}, \"type\": \"scattermapbox\"}], \"scatterpolar\": [{\"marker\": {\"colorbar\": {\"outlinewidth\": 0, \"ticks\": \"\"}}, \"type\": \"scatterpolar\"}], \"scatterpolargl\": [{\"marker\": {\"colorbar\": {\"outlinewidth\": 0, \"ticks\": \"\"}}, \"type\": \"scatterpolargl\"}], \"scatterternary\": [{\"marker\": {\"colorbar\": {\"outlinewidth\": 0, \"ticks\": \"\"}}, \"type\": \"scatterternary\"}], \"surface\": [{\"colorbar\": {\"outlinewidth\": 0, \"ticks\": \"\"}, \"colorscale\": [[0.0, \"#0d0887\"], [0.1111111111111111, \"#46039f\"], [0.2222222222222222, \"#7201a8\"], [0.3333333333333333, \"#9c179e\"], [0.4444444444444444, \"#bd3786\"], [0.5555555555555556, \"#d8576b\"], [0.6666666666666666, \"#ed7953\"], [0.7777777777777778, \"#fb9f3a\"], [0.8888888888888888, \"#fdca26\"], [1.0, \"#f0f921\"]], \"type\": \"surface\"}], \"table\": [{\"cells\": {\"fill\": {\"color\": \"#EBF0F8\"}, \"line\": {\"color\": \"white\"}}, \"header\": {\"fill\": {\"color\": \"#C8D4E3\"}, \"line\": {\"color\": \"white\"}}, \"type\": \"table\"}]}, \"layout\": {\"annotationdefaults\": {\"arrowcolor\": \"#2a3f5f\", \"arrowhead\": 0, \"arrowwidth\": 1}, \"coloraxis\": {\"colorbar\": {\"outlinewidth\": 0, \"ticks\": \"\"}}, \"colorscale\": {\"diverging\": [[0, \"#8e0152\"], [0.1, \"#c51b7d\"], [0.2, \"#de77ae\"], [0.3, \"#f1b6da\"], [0.4, \"#fde0ef\"], [0.5, \"#f7f7f7\"], [0.6, \"#e6f5d0\"], [0.7, \"#b8e186\"], [0.8, \"#7fbc41\"], [0.9, \"#4d9221\"], [1, \"#276419\"]], \"sequential\": [[0.0, \"#0d0887\"], [0.1111111111111111, \"#46039f\"], [0.2222222222222222, \"#7201a8\"], [0.3333333333333333, \"#9c179e\"], [0.4444444444444444, \"#bd3786\"], [0.5555555555555556, \"#d8576b\"], [0.6666666666666666, \"#ed7953\"], [0.7777777777777778, \"#fb9f3a\"], [0.8888888888888888, \"#fdca26\"], [1.0, \"#f0f921\"]], \"sequentialminus\": [[0.0, \"#0d0887\"], [0.1111111111111111, \"#46039f\"], [0.2222222222222222, \"#7201a8\"], [0.3333333333333333, \"#9c179e\"], [0.4444444444444444, \"#bd3786\"], [0.5555555555555556, \"#d8576b\"], [0.6666666666666666, \"#ed7953\"], [0.7777777777777778, \"#fb9f3a\"], [0.8888888888888888, \"#fdca26\"], [1.0, \"#f0f921\"]]}, \"colorway\": [\"#636efa\", \"#EF553B\", \"#00cc96\", \"#ab63fa\", \"#FFA15A\", \"#19d3f3\", \"#FF6692\", \"#B6E880\", \"#FF97FF\", \"#FECB52\"], \"font\": {\"color\": \"#2a3f5f\"}, \"geo\": {\"bgcolor\": \"white\", \"lakecolor\": \"white\", \"landcolor\": \"#E5ECF6\", \"showlakes\": true, \"showland\": true, \"subunitcolor\": \"white\"}, \"hoverlabel\": {\"align\": \"left\"}, \"hovermode\": \"closest\", \"mapbox\": {\"style\": \"light\"}, \"paper_bgcolor\": \"white\", \"plot_bgcolor\": \"#E5ECF6\", \"polar\": {\"angularaxis\": {\"gridcolor\": \"white\", \"linecolor\": \"white\", \"ticks\": \"\"}, \"bgcolor\": \"#E5ECF6\", \"radialaxis\": {\"gridcolor\": \"white\", \"linecolor\": \"white\", \"ticks\": \"\"}}, \"scene\": {\"xaxis\": {\"backgroundcolor\": \"#E5ECF6\", \"gridcolor\": \"white\", \"gridwidth\": 2, \"linecolor\": \"white\", \"showbackground\": true, \"ticks\": \"\", \"zerolinecolor\": \"white\"}, \"yaxis\": {\"backgroundcolor\": \"#E5ECF6\", \"gridcolor\": \"white\", \"gridwidth\": 2, \"linecolor\": \"white\", \"showbackground\": true, \"ticks\": \"\", \"zerolinecolor\": \"white\"}, \"zaxis\": {\"backgroundcolor\": \"#E5ECF6\", \"gridcolor\": \"white\", \"gridwidth\": 2, \"linecolor\": \"white\", \"showbackground\": true, \"ticks\": \"\", \"zerolinecolor\": \"white\"}}, \"shapedefaults\": {\"line\": {\"color\": \"#2a3f5f\"}}, \"ternary\": {\"aaxis\": {\"gridcolor\": \"white\", \"linecolor\": \"white\", \"ticks\": \"\"}, \"baxis\": {\"gridcolor\": \"white\", \"linecolor\": \"white\", \"ticks\": \"\"}, \"bgcolor\": \"#E5ECF6\", \"caxis\": {\"gridcolor\": \"white\", \"linecolor\": \"white\", \"ticks\": \"\"}}, \"title\": {\"x\": 0.05}, \"xaxis\": {\"automargin\": true, \"gridcolor\": \"white\", \"linecolor\": \"white\", \"ticks\": \"\", \"title\": {\"standoff\": 15}, \"zerolinecolor\": \"white\", \"zerolinewidth\": 2}, \"yaxis\": {\"automargin\": true, \"gridcolor\": \"white\", \"linecolor\": \"white\", \"ticks\": \"\", \"title\": {\"standoff\": 15}, \"zerolinecolor\": \"white\", \"zerolinewidth\": 2}}}, \"title\": {\"text\": \"EOS.IO Candelstick Chart\", \"x\": 0.5, \"xanchor\": \"center\", \"y\": 0.9, \"yanchor\": \"top\"}, \"xaxis\": {\"rangeslider\": {\"visible\": false}, \"title\": {\"text\": \"Time\"}}, \"yaxis\": {\"ticksuffix\": \"$\", \"title\": {\"text\": \"Price in USD\"}}},\n",
              "                        {\"responsive\": true}\n",
              "                    ).then(function(){\n",
              "                            \n",
              "var gd = document.getElementById('6f4efed2-db96-45cd-9269-dce0a15f97ee');\n",
              "var x = new MutationObserver(function (mutations, observer) {{\n",
              "        var display = window.getComputedStyle(gd).display;\n",
              "        if (!display || display === 'none') {{\n",
              "            console.log([gd, 'removed!']);\n",
              "            Plotly.purge(gd);\n",
              "            observer.disconnect();\n",
              "        }}\n",
              "}});\n",
              "\n",
              "// Listen for the removal of the full notebook cells\n",
              "var notebookContainer = gd.closest('#notebook-container');\n",
              "if (notebookContainer) {{\n",
              "    x.observe(notebookContainer, {childList: true});\n",
              "}}\n",
              "\n",
              "// Listen for the clearing of the current output cell\n",
              "var outputEl = gd.closest('.output');\n",
              "if (outputEl) {{\n",
              "    x.observe(outputEl, {childList: true});\n",
              "}}\n",
              "\n",
              "                        })\n",
              "                };\n",
              "                \n",
              "            </script>\n",
              "        </div>\n",
              "</body>\n",
              "</html>"
            ]
          },
          "metadata": {}
        }
      ]
    },
    {
      "cell_type": "markdown",
      "metadata": {
        "id": "329bef39"
      },
      "source": [
        "- Ethereum"
      ],
      "id": "329bef39"
    },
    {
      "cell_type": "code",
      "metadata": {
        "colab": {
          "base_uri": "https://localhost:8080/",
          "height": 542
        },
        "id": "ea21011c",
        "outputId": "dda092a4-8828-4b5d-db67-c2025a519d59"
      },
      "source": [
        "eth_plot = candelstick_chart(eth[-120:], title=\"Ethereum\")\n",
        "eth_plot.show()"
      ],
      "id": "ea21011c",
      "execution_count": 19,
      "outputs": [
        {
          "output_type": "display_data",
          "data": {
            "text/html": [
              "<html>\n",
              "<head><meta charset=\"utf-8\" /></head>\n",
              "<body>\n",
              "    <div>\n",
              "            <script src=\"https://cdnjs.cloudflare.com/ajax/libs/mathjax/2.7.5/MathJax.js?config=TeX-AMS-MML_SVG\"></script><script type=\"text/javascript\">if (window.MathJax) {MathJax.Hub.Config({SVG: {font: \"STIX-Web\"}});}</script>\n",
              "                <script type=\"text/javascript\">window.PlotlyConfig = {MathJaxConfig: 'local'};</script>\n",
              "        <script src=\"https://cdn.plot.ly/plotly-latest.min.js\"></script>    \n",
              "            <div id=\"3710fb6b-a4ef-40c9-b68d-049aadde6fe5\" class=\"plotly-graph-div\" style=\"height:525px; width:100%;\"></div>\n",
              "            <script type=\"text/javascript\">\n",
              "                \n",
              "                    window.PLOTLYENV=window.PLOTLYENV || {};\n",
              "                    \n",
              "                if (document.getElementById(\"3710fb6b-a4ef-40c9-b68d-049aadde6fe5\")) {\n",
              "                    Plotly.newPlot(\n",
              "                        '3710fb6b-a4ef-40c9-b68d-049aadde6fe5',\n",
              "                        [{\"close\": [3045.7571428571423, 3043.490633111428, 3044.089614203334, 3036.217142857143, 3035.2666666666664, 3037.361428571429, 3041.008571428571, 3031.502857142857, 3028.4000000000005, 3030.0914285714284, 3029.712857142857, 3024.05, 3022.312857142857, 3017.306666666667, 3017.298571428572, 3028.084285714285, 3027.9271428571424, 3023.7685714285717, 3030.517629241428, 3033.3071428571425, 3022.378571428572, 3027.7342857142853, 3031.4757142857147, 3035.437142857143, 3038.3771428571417, 3040.19, 3042.672857142857, 3038.4442857142853, 3037.7714285714287, 3039.06, 3040.924285714286, 3045.612857142857, 3052.96, 3055.615, 3055.051428571429, 3055.898571428572, 3049.025714285715, 3051.651428571429, 3053.7485714285717, 3052.3, 3053.867142857143, 3054.7900000000004, 3048.87715224, 3045.9371428571435, 3045.261428571429, 3047.63, 3047.28, 3045.1714285714284, 3046.8514285714286, 3048.338571428572, 3052.535714285714, 3055.5042857142853, 3055.9771428571435, 3053.6385714285716, 3049.048571428571, 3054.095714285714, 3051.001666666667, 3048.02, 3044.043333333333, 3036.238571428571, 3031.844285714286, 3027.99, 3018.332857142857, 3017.5614285714287, 3008.387142857143, 2996.458626465714, 2992.7671428571434, 2988.4785714285717, 2981.3514285714286, 2967.982857142857, 2982.665714285715, 2983.825714285713, 2986.055714285714, 2986.741428571429, 2992.184285714286, 2993.820451447143, 2992.871428571428, 3003.0800000000013, 3012.9842857142853, 3004.64, 2982.837142857143, 2979.2771428571423, 2980.617142857143, 2978.592746214286, 2968.914285714286, 2966.3028571428576, 2964.587142857143, 2961.6314285714284, 2959.2942857142853, 2978.451428571429, 2971.3214285714284, 2978.464285714286, 2971.51, 2974.278571428571, 2969.058587331429, 2967.3814285714284, 2959.3614285714284, 2961.7542857142853, 2954.5242857142853, 2951.834285714285, 2953.8920078242854, 2959.278571428572, 2964.534600452857, 2959.5528571428576, 2955.925714285714, 2952.297142857143, 2950.2628571428572, 2948.182857142857, 2956.465714285714, 2956.7478496571425, 2960.381428571429, 2969.7771428571427, 2966.0, 2965.5242857142853, 2955.4985714285717, 2959.727142857143, 2965.9271428571424, 2966.315714285714, 2961.05, 2955.7542857142853], \"high\": [3047.96, 3049.79, 3046.4, 3044.5898716999995, 3036.3, 3038.4, 3042.67, 3042.46, 3033.3, 3031.99, 3030.66, 3030.65, 3025.42, 3023.21, 3018.4, 3028.99, 3033.3, 3028.69, 3034.37, 3042.19570126, 3033.55, 3029.96, 3033.31, 3038.45, 3040.0, 3042.66, 3044.27, 3043.01, 3042.61, 3045.84, 3043.8, 3046.91, 3055.6, 3057.05, 3056.85, 3059.55, 3061.5, 3054.19, 3057.5, 3056.17, 3055.83, 3057.72, 3055.64, 3050.6, 3049.12, 3048.94, 3049.52, 3048.85, 3048.6, 3050.49, 3056.06, 3056.8, 3060.0, 3056.6, 3054.72, 3055.51, 3055.87, 3052.48, 3049.12, 3046.4, 3039.84, 3032.94, 3030.46, 3024.37, 3017.8, 3012.64, 3002.45, 2995.17, 2993.59, 2982.21, 2986.86, 2986.71, 2989.27, 2993.16, 2993.93, 2996.12, 2996.14, 3006.59, 3015.81, 3016.47, 3005.8, 2989.08, 2988.63, 2983.13, 2982.2, 2970.4, 2967.8, 2967.90990952, 2967.77, 2981.97, 2986.84, 2979.7, 2983.1, 2978.3, 2977.36, 2971.08, 2970.57105798, 2963.94, 2962.6, 2956.61, 2957.97, 2964.2, 2965.99, 2969.9, 2961.12, 2966.4, 2959.09, 2952.22, 2957.84, 2964.99, 2967.62, 2973.96, 2972.23, 2973.51, 2971.08, 2962.39, 2968.7, 2969.29, 2971.11, 2964.77], \"low\": [3039.77, 3042.13, 3042.02, 3034.75, 3033.37, 3034.59, 3036.16, 3030.02, 3027.1, 3027.36, 3027.98, 3021.48, 3020.71, 3016.48, 3016.29, 3016.29, 3024.99, 3022.6, 3021.8, 3030.52, 3020.3, 3019.18, 3025.35, 3030.0, 3034.89, 3038.02, 3039.13, 3037.01, 3036.92, 3033.72, 3034.99, 3040.57, 3043.92, 3048.74, 3050.18, 3051.19, 3045.87, 3048.2, 3049.81, 3050.01, 3049.25, 3053.04, 3047.8, 3043.16, 3043.89, 3043.31, 3045.95, 3038.82, 3044.45, 3046.59, 3046.81, 3049.84, 3054.04, 3052.04, 3048.21, 3046.25, 3049.47, 3046.67, 3042.99, 3035.11, 3030.93, 3025.18, 3017.05, 3014.55, 3007.24, 2993.46, 2991.15, 2983.93, 2977.46, 2963.21, 2967.77, 2971.95, 2973.82, 2979.98, 2981.04, 2990.25, 2987.48, 2992.0, 2998.95, 3003.35, 2981.07, 2975.54, 2975.27, 2976.47, 2967.0, 2964.98, 2960.0, 2953.83, 2957.65, 2958.35, 2969.49, 2962.67, 2969.53, 2967.93, 2967.05, 2963.33, 2952.0, 2952.6, 2947.62, 2950.0, 2947.24, 2952.3, 2953.82, 2956.52, 2953.49, 2950.0, 2948.86, 2945.03, 2945.0, 2953.11, 2954.09, 2959.38, 2963.03, 2963.94, 2952.65, 2952.39, 2958.39, 2960.6, 2959.22, 2953.66], \"open\": [3040.59, 3046.5528571428576, 3043.588333333333, 3043.599981671429, 3035.625, 3035.689124085715, 3037.795714285715, 3041.354285714285, 3031.5214285714287, 3028.7085271842852, 3029.8, 3029.7359482471434, 3024.220000000001, 3022.3416666666667, 3017.1, 3017.2285714285717, 3028.64, 3027.371428571428, 3023.684285714286, 3032.534285714286, 3032.0242857142853, 3021.3642857142863, 3029.1671428571417, 3032.305714285714, 3036.171428571429, 3039.545714285715, 3039.404285714286, 3041.872857142857, 3038.661428571429, 3036.6957142857136, 3037.9128571428582, 3042.574285714286, 3046.2314285714288, 3052.8716666666664, 3055.39, 3056.0371428571425, 3057.447142857143, 3050.1714285714284, 3052.338571428572, 3054.1014285714286, 3051.7628571428572, 3054.844285714286, 3053.622857142857, 3048.8314379542853, 3045.482857142857, 3045.374285714286, 3048.3310505685718, 3047.352069631428, 3046.611428571429, 3047.491428571428, 3048.2269611257148, 3052.258571428572, 3056.0571428571425, 3054.811428571428, 3052.970000000001, 3048.611428571429, 3054.096666666667, 3050.4757142857147, 3047.9600000000005, 3043.568571428572, 3036.4985714285717, 3031.7157142857145, 3027.299345192857, 3018.4056356199994, 3016.2671428571434, 3008.641428571429, 2997.3485714285716, 2993.18, 2988.95, 2980.6, 2969.798571428572, 2981.528571428572, 2984.062857142857, 2987.5585714285717, 2987.804285714286, 2992.485714285714, 2993.82811931, 2993.2657142857147, 3001.942857142857, 3012.557142857143, 3003.7771428571427, 2983.1671428571417, 2979.474809408571, 2980.2342857142853, 2978.037142857143, 2969.0071428571428, 2966.1785714285716, 2963.625714285715, 2962.2428571428572, 2960.618571428571, 2977.661428571429, 2970.2457142857147, 2978.5757142857146, 2970.605714285715, 2975.197142857143, 2968.180000000001, 2967.0799999999995, 2959.567142857143, 2959.967142857143, 2954.17, 2951.82, 2955.1771428571424, 2959.782857142857, 2964.384285714286, 2959.088571428572, 2957.0271428571427, 2952.171912078572, 2950.6542857142854, 2948.182857142857, 2956.8700000000013, 2956.57, 2961.414285714286, 2969.557142857143, 2966.7157142857145, 2965.6471428571417, 2955.097142857143, 2960.612857142857, 2965.741428571428, 2967.775714285714, 2961.5028571428584], \"type\": \"candlestick\", \"x\": [\"2021-09-20T21:45:00\", \"2021-09-20T21:46:00\", \"2021-09-20T21:47:00\", \"2021-09-20T21:48:00\", \"2021-09-20T21:49:00\", \"2021-09-20T21:50:00\", \"2021-09-20T21:51:00\", \"2021-09-20T21:52:00\", \"2021-09-20T21:53:00\", \"2021-09-20T21:54:00\", \"2021-09-20T21:55:00\", \"2021-09-20T21:56:00\", \"2021-09-20T21:57:00\", \"2021-09-20T21:58:00\", \"2021-09-20T21:59:00\", \"2021-09-20T22:00:00\", \"2021-09-20T22:01:00\", \"2021-09-20T22:02:00\", \"2021-09-20T22:03:00\", \"2021-09-20T22:04:00\", \"2021-09-20T22:05:00\", \"2021-09-20T22:06:00\", \"2021-09-20T22:07:00\", \"2021-09-20T22:08:00\", \"2021-09-20T22:09:00\", \"2021-09-20T22:10:00\", \"2021-09-20T22:11:00\", \"2021-09-20T22:12:00\", \"2021-09-20T22:13:00\", \"2021-09-20T22:14:00\", \"2021-09-20T22:15:00\", \"2021-09-20T22:16:00\", \"2021-09-20T22:17:00\", \"2021-09-20T22:18:00\", \"2021-09-20T22:19:00\", \"2021-09-20T22:20:00\", \"2021-09-20T22:21:00\", \"2021-09-20T22:22:00\", \"2021-09-20T22:23:00\", \"2021-09-20T22:24:00\", \"2021-09-20T22:25:00\", \"2021-09-20T22:26:00\", \"2021-09-20T22:27:00\", \"2021-09-20T22:28:00\", \"2021-09-20T22:29:00\", \"2021-09-20T22:30:00\", \"2021-09-20T22:31:00\", \"2021-09-20T22:32:00\", \"2021-09-20T22:33:00\", \"2021-09-20T22:34:00\", \"2021-09-20T22:35:00\", \"2021-09-20T22:36:00\", \"2021-09-20T22:37:00\", \"2021-09-20T22:38:00\", \"2021-09-20T22:39:00\", \"2021-09-20T22:40:00\", \"2021-09-20T22:41:00\", \"2021-09-20T22:42:00\", \"2021-09-20T22:43:00\", \"2021-09-20T22:44:00\", \"2021-09-20T22:45:00\", \"2021-09-20T22:46:00\", \"2021-09-20T22:47:00\", \"2021-09-20T22:48:00\", \"2021-09-20T22:49:00\", \"2021-09-20T22:50:00\", \"2021-09-20T22:51:00\", \"2021-09-20T22:52:00\", \"2021-09-20T22:53:00\", \"2021-09-20T22:54:00\", \"2021-09-20T22:55:00\", \"2021-09-20T22:56:00\", \"2021-09-20T22:57:00\", \"2021-09-20T22:58:00\", \"2021-09-20T22:59:00\", \"2021-09-20T23:00:00\", \"2021-09-20T23:01:00\", \"2021-09-20T23:02:00\", \"2021-09-20T23:03:00\", \"2021-09-20T23:04:00\", \"2021-09-20T23:05:00\", \"2021-09-20T23:06:00\", \"2021-09-20T23:07:00\", \"2021-09-20T23:08:00\", \"2021-09-20T23:09:00\", \"2021-09-20T23:10:00\", \"2021-09-20T23:11:00\", \"2021-09-20T23:12:00\", \"2021-09-20T23:13:00\", \"2021-09-20T23:14:00\", \"2021-09-20T23:15:00\", \"2021-09-20T23:16:00\", \"2021-09-20T23:17:00\", \"2021-09-20T23:18:00\", \"2021-09-20T23:19:00\", \"2021-09-20T23:20:00\", \"2021-09-20T23:21:00\", \"2021-09-20T23:22:00\", \"2021-09-20T23:23:00\", \"2021-09-20T23:24:00\", \"2021-09-20T23:25:00\", \"2021-09-20T23:26:00\", \"2021-09-20T23:27:00\", \"2021-09-20T23:28:00\", \"2021-09-20T23:29:00\", \"2021-09-20T23:30:00\", \"2021-09-20T23:31:00\", \"2021-09-20T23:32:00\", \"2021-09-20T23:33:00\", \"2021-09-20T23:34:00\", \"2021-09-20T23:35:00\", \"2021-09-20T23:36:00\", \"2021-09-20T23:37:00\", \"2021-09-20T23:38:00\", \"2021-09-20T23:39:00\", \"2021-09-20T23:40:00\", \"2021-09-20T23:41:00\", \"2021-09-20T23:42:00\", \"2021-09-20T23:43:00\", \"2021-09-20T23:44:00\"]}],\n",
              "                        {\"template\": {\"data\": {\"bar\": [{\"error_x\": {\"color\": \"#2a3f5f\"}, \"error_y\": {\"color\": \"#2a3f5f\"}, \"marker\": {\"line\": {\"color\": \"#E5ECF6\", \"width\": 0.5}}, \"type\": \"bar\"}], \"barpolar\": [{\"marker\": {\"line\": {\"color\": \"#E5ECF6\", \"width\": 0.5}}, \"type\": \"barpolar\"}], \"carpet\": [{\"aaxis\": {\"endlinecolor\": \"#2a3f5f\", \"gridcolor\": \"white\", \"linecolor\": \"white\", \"minorgridcolor\": \"white\", \"startlinecolor\": \"#2a3f5f\"}, \"baxis\": {\"endlinecolor\": \"#2a3f5f\", \"gridcolor\": \"white\", \"linecolor\": \"white\", \"minorgridcolor\": \"white\", \"startlinecolor\": \"#2a3f5f\"}, \"type\": \"carpet\"}], \"choropleth\": [{\"colorbar\": {\"outlinewidth\": 0, \"ticks\": \"\"}, \"type\": \"choropleth\"}], \"contour\": [{\"colorbar\": {\"outlinewidth\": 0, \"ticks\": \"\"}, \"colorscale\": [[0.0, \"#0d0887\"], [0.1111111111111111, \"#46039f\"], [0.2222222222222222, \"#7201a8\"], [0.3333333333333333, \"#9c179e\"], [0.4444444444444444, \"#bd3786\"], [0.5555555555555556, \"#d8576b\"], [0.6666666666666666, \"#ed7953\"], [0.7777777777777778, \"#fb9f3a\"], [0.8888888888888888, \"#fdca26\"], [1.0, \"#f0f921\"]], \"type\": \"contour\"}], \"contourcarpet\": [{\"colorbar\": {\"outlinewidth\": 0, \"ticks\": \"\"}, \"type\": \"contourcarpet\"}], \"heatmap\": [{\"colorbar\": {\"outlinewidth\": 0, \"ticks\": \"\"}, \"colorscale\": [[0.0, \"#0d0887\"], [0.1111111111111111, \"#46039f\"], [0.2222222222222222, \"#7201a8\"], [0.3333333333333333, \"#9c179e\"], [0.4444444444444444, \"#bd3786\"], [0.5555555555555556, \"#d8576b\"], [0.6666666666666666, \"#ed7953\"], [0.7777777777777778, \"#fb9f3a\"], [0.8888888888888888, \"#fdca26\"], [1.0, \"#f0f921\"]], \"type\": \"heatmap\"}], \"heatmapgl\": [{\"colorbar\": {\"outlinewidth\": 0, \"ticks\": \"\"}, \"colorscale\": [[0.0, \"#0d0887\"], [0.1111111111111111, \"#46039f\"], [0.2222222222222222, \"#7201a8\"], [0.3333333333333333, \"#9c179e\"], [0.4444444444444444, \"#bd3786\"], [0.5555555555555556, \"#d8576b\"], [0.6666666666666666, \"#ed7953\"], [0.7777777777777778, \"#fb9f3a\"], [0.8888888888888888, \"#fdca26\"], [1.0, \"#f0f921\"]], \"type\": \"heatmapgl\"}], \"histogram\": [{\"marker\": {\"colorbar\": {\"outlinewidth\": 0, \"ticks\": \"\"}}, \"type\": \"histogram\"}], \"histogram2d\": [{\"colorbar\": {\"outlinewidth\": 0, \"ticks\": \"\"}, \"colorscale\": [[0.0, \"#0d0887\"], [0.1111111111111111, \"#46039f\"], [0.2222222222222222, \"#7201a8\"], [0.3333333333333333, \"#9c179e\"], [0.4444444444444444, \"#bd3786\"], [0.5555555555555556, \"#d8576b\"], [0.6666666666666666, \"#ed7953\"], [0.7777777777777778, \"#fb9f3a\"], [0.8888888888888888, \"#fdca26\"], [1.0, \"#f0f921\"]], \"type\": \"histogram2d\"}], \"histogram2dcontour\": [{\"colorbar\": {\"outlinewidth\": 0, \"ticks\": \"\"}, \"colorscale\": [[0.0, \"#0d0887\"], [0.1111111111111111, \"#46039f\"], [0.2222222222222222, \"#7201a8\"], [0.3333333333333333, \"#9c179e\"], [0.4444444444444444, \"#bd3786\"], [0.5555555555555556, \"#d8576b\"], [0.6666666666666666, \"#ed7953\"], [0.7777777777777778, \"#fb9f3a\"], [0.8888888888888888, \"#fdca26\"], [1.0, \"#f0f921\"]], \"type\": \"histogram2dcontour\"}], \"mesh3d\": [{\"colorbar\": {\"outlinewidth\": 0, \"ticks\": \"\"}, \"type\": \"mesh3d\"}], \"parcoords\": [{\"line\": {\"colorbar\": {\"outlinewidth\": 0, \"ticks\": \"\"}}, \"type\": \"parcoords\"}], \"pie\": [{\"automargin\": true, \"type\": \"pie\"}], \"scatter\": [{\"marker\": {\"colorbar\": {\"outlinewidth\": 0, \"ticks\": \"\"}}, \"type\": \"scatter\"}], \"scatter3d\": [{\"line\": {\"colorbar\": {\"outlinewidth\": 0, \"ticks\": \"\"}}, \"marker\": {\"colorbar\": {\"outlinewidth\": 0, \"ticks\": \"\"}}, \"type\": \"scatter3d\"}], \"scattercarpet\": [{\"marker\": {\"colorbar\": {\"outlinewidth\": 0, \"ticks\": \"\"}}, \"type\": \"scattercarpet\"}], \"scattergeo\": [{\"marker\": {\"colorbar\": {\"outlinewidth\": 0, \"ticks\": \"\"}}, \"type\": \"scattergeo\"}], \"scattergl\": [{\"marker\": {\"colorbar\": {\"outlinewidth\": 0, \"ticks\": \"\"}}, \"type\": \"scattergl\"}], \"scattermapbox\": [{\"marker\": {\"colorbar\": {\"outlinewidth\": 0, \"ticks\": \"\"}}, \"type\": \"scattermapbox\"}], \"scatterpolar\": [{\"marker\": {\"colorbar\": {\"outlinewidth\": 0, \"ticks\": \"\"}}, \"type\": \"scatterpolar\"}], \"scatterpolargl\": [{\"marker\": {\"colorbar\": {\"outlinewidth\": 0, \"ticks\": \"\"}}, \"type\": \"scatterpolargl\"}], \"scatterternary\": [{\"marker\": {\"colorbar\": {\"outlinewidth\": 0, \"ticks\": \"\"}}, \"type\": \"scatterternary\"}], \"surface\": [{\"colorbar\": {\"outlinewidth\": 0, \"ticks\": \"\"}, \"colorscale\": [[0.0, \"#0d0887\"], [0.1111111111111111, \"#46039f\"], [0.2222222222222222, \"#7201a8\"], [0.3333333333333333, \"#9c179e\"], [0.4444444444444444, \"#bd3786\"], [0.5555555555555556, \"#d8576b\"], [0.6666666666666666, \"#ed7953\"], [0.7777777777777778, \"#fb9f3a\"], [0.8888888888888888, \"#fdca26\"], [1.0, \"#f0f921\"]], \"type\": \"surface\"}], \"table\": [{\"cells\": {\"fill\": {\"color\": \"#EBF0F8\"}, \"line\": {\"color\": \"white\"}}, \"header\": {\"fill\": {\"color\": \"#C8D4E3\"}, \"line\": {\"color\": \"white\"}}, \"type\": \"table\"}]}, \"layout\": {\"annotationdefaults\": {\"arrowcolor\": \"#2a3f5f\", \"arrowhead\": 0, \"arrowwidth\": 1}, \"coloraxis\": {\"colorbar\": {\"outlinewidth\": 0, \"ticks\": \"\"}}, \"colorscale\": {\"diverging\": [[0, \"#8e0152\"], [0.1, \"#c51b7d\"], [0.2, \"#de77ae\"], [0.3, \"#f1b6da\"], [0.4, \"#fde0ef\"], [0.5, \"#f7f7f7\"], [0.6, \"#e6f5d0\"], [0.7, \"#b8e186\"], [0.8, \"#7fbc41\"], [0.9, \"#4d9221\"], [1, \"#276419\"]], \"sequential\": [[0.0, \"#0d0887\"], [0.1111111111111111, \"#46039f\"], [0.2222222222222222, \"#7201a8\"], [0.3333333333333333, \"#9c179e\"], [0.4444444444444444, \"#bd3786\"], [0.5555555555555556, \"#d8576b\"], [0.6666666666666666, \"#ed7953\"], [0.7777777777777778, \"#fb9f3a\"], [0.8888888888888888, \"#fdca26\"], [1.0, \"#f0f921\"]], \"sequentialminus\": [[0.0, \"#0d0887\"], [0.1111111111111111, \"#46039f\"], [0.2222222222222222, \"#7201a8\"], [0.3333333333333333, \"#9c179e\"], [0.4444444444444444, \"#bd3786\"], [0.5555555555555556, \"#d8576b\"], [0.6666666666666666, \"#ed7953\"], [0.7777777777777778, \"#fb9f3a\"], [0.8888888888888888, \"#fdca26\"], [1.0, \"#f0f921\"]]}, \"colorway\": [\"#636efa\", \"#EF553B\", \"#00cc96\", \"#ab63fa\", \"#FFA15A\", \"#19d3f3\", \"#FF6692\", \"#B6E880\", \"#FF97FF\", \"#FECB52\"], \"font\": {\"color\": \"#2a3f5f\"}, \"geo\": {\"bgcolor\": \"white\", \"lakecolor\": \"white\", \"landcolor\": \"#E5ECF6\", \"showlakes\": true, \"showland\": true, \"subunitcolor\": \"white\"}, \"hoverlabel\": {\"align\": \"left\"}, \"hovermode\": \"closest\", \"mapbox\": {\"style\": \"light\"}, \"paper_bgcolor\": \"white\", \"plot_bgcolor\": \"#E5ECF6\", \"polar\": {\"angularaxis\": {\"gridcolor\": \"white\", \"linecolor\": \"white\", \"ticks\": \"\"}, \"bgcolor\": \"#E5ECF6\", \"radialaxis\": {\"gridcolor\": \"white\", \"linecolor\": \"white\", \"ticks\": \"\"}}, \"scene\": {\"xaxis\": {\"backgroundcolor\": \"#E5ECF6\", \"gridcolor\": \"white\", \"gridwidth\": 2, \"linecolor\": \"white\", \"showbackground\": true, \"ticks\": \"\", \"zerolinecolor\": \"white\"}, \"yaxis\": {\"backgroundcolor\": \"#E5ECF6\", \"gridcolor\": \"white\", \"gridwidth\": 2, \"linecolor\": \"white\", \"showbackground\": true, \"ticks\": \"\", \"zerolinecolor\": \"white\"}, \"zaxis\": {\"backgroundcolor\": \"#E5ECF6\", \"gridcolor\": \"white\", \"gridwidth\": 2, \"linecolor\": \"white\", \"showbackground\": true, \"ticks\": \"\", \"zerolinecolor\": \"white\"}}, \"shapedefaults\": {\"line\": {\"color\": \"#2a3f5f\"}}, \"ternary\": {\"aaxis\": {\"gridcolor\": \"white\", \"linecolor\": \"white\", \"ticks\": \"\"}, \"baxis\": {\"gridcolor\": \"white\", \"linecolor\": \"white\", \"ticks\": \"\"}, \"bgcolor\": \"#E5ECF6\", \"caxis\": {\"gridcolor\": \"white\", \"linecolor\": \"white\", \"ticks\": \"\"}}, \"title\": {\"x\": 0.05}, \"xaxis\": {\"automargin\": true, \"gridcolor\": \"white\", \"linecolor\": \"white\", \"ticks\": \"\", \"title\": {\"standoff\": 15}, \"zerolinecolor\": \"white\", \"zerolinewidth\": 2}, \"yaxis\": {\"automargin\": true, \"gridcolor\": \"white\", \"linecolor\": \"white\", \"ticks\": \"\", \"title\": {\"standoff\": 15}, \"zerolinecolor\": \"white\", \"zerolinewidth\": 2}}}, \"title\": {\"text\": \"Ethereum Candelstick Chart\", \"x\": 0.5, \"xanchor\": \"center\", \"y\": 0.9, \"yanchor\": \"top\"}, \"xaxis\": {\"rangeslider\": {\"visible\": false}, \"title\": {\"text\": \"Time\"}}, \"yaxis\": {\"ticksuffix\": \"$\", \"title\": {\"text\": \"Price in USD\"}}},\n",
              "                        {\"responsive\": true}\n",
              "                    ).then(function(){\n",
              "                            \n",
              "var gd = document.getElementById('3710fb6b-a4ef-40c9-b68d-049aadde6fe5');\n",
              "var x = new MutationObserver(function (mutations, observer) {{\n",
              "        var display = window.getComputedStyle(gd).display;\n",
              "        if (!display || display === 'none') {{\n",
              "            console.log([gd, 'removed!']);\n",
              "            Plotly.purge(gd);\n",
              "            observer.disconnect();\n",
              "        }}\n",
              "}});\n",
              "\n",
              "// Listen for the removal of the full notebook cells\n",
              "var notebookContainer = gd.closest('#notebook-container');\n",
              "if (notebookContainer) {{\n",
              "    x.observe(notebookContainer, {childList: true});\n",
              "}}\n",
              "\n",
              "// Listen for the clearing of the current output cell\n",
              "var outputEl = gd.closest('.output');\n",
              "if (outputEl) {{\n",
              "    x.observe(outputEl, {childList: true});\n",
              "}}\n",
              "\n",
              "                        })\n",
              "                };\n",
              "                \n",
              "            </script>\n",
              "        </div>\n",
              "</body>\n",
              "</html>"
            ]
          },
          "metadata": {}
        }
      ]
    },
    {
      "cell_type": "markdown",
      "metadata": {
        "id": "eea5ecb0"
      },
      "source": [
        "- Ethereum Classic"
      ],
      "id": "eea5ecb0"
    },
    {
      "cell_type": "code",
      "metadata": {
        "colab": {
          "base_uri": "https://localhost:8080/",
          "height": 542
        },
        "id": "e53fc1a9",
        "outputId": "75b82d35-6fb1-4861-9b1e-928919595d0e"
      },
      "source": [
        "eth_classic_plot = candelstick_chart(\n",
        "    eth_classic[-120:], title=\"Ethereum Classic\")\n",
        "eth_classic_plot.show()"
      ],
      "id": "e53fc1a9",
      "execution_count": 20,
      "outputs": [
        {
          "output_type": "display_data",
          "data": {
            "text/html": [
              "<html>\n",
              "<head><meta charset=\"utf-8\" /></head>\n",
              "<body>\n",
              "    <div>\n",
              "            <script src=\"https://cdnjs.cloudflare.com/ajax/libs/mathjax/2.7.5/MathJax.js?config=TeX-AMS-MML_SVG\"></script><script type=\"text/javascript\">if (window.MathJax) {MathJax.Hub.Config({SVG: {font: \"STIX-Web\"}});}</script>\n",
              "                <script type=\"text/javascript\">window.PlotlyConfig = {MathJaxConfig: 'local'};</script>\n",
              "        <script src=\"https://cdn.plot.ly/plotly-latest.min.js\"></script>    \n",
              "            <div id=\"8ce6d42d-6faa-4c55-a136-be3e18bc74de\" class=\"plotly-graph-div\" style=\"height:525px; width:100%;\"></div>\n",
              "            <script type=\"text/javascript\">\n",
              "                \n",
              "                    window.PLOTLYENV=window.PLOTLYENV || {};\n",
              "                    \n",
              "                if (document.getElementById(\"8ce6d42d-6faa-4c55-a136-be3e18bc74de\")) {\n",
              "                    Plotly.newPlot(\n",
              "                        '8ce6d42d-6faa-4c55-a136-be3e18bc74de',\n",
              "                        [{\"close\": [49.95575, 49.989700000000006, 49.9817, 49.87162, 49.85234000000001, 49.904725, 49.949725, 49.92063333333334, 49.86265, 49.849125, 49.843, 49.762, 49.70796, 49.628675, 49.57654, 49.68162, 49.69835, 49.634675, 49.73555, 49.79262, 49.71923333333334, 49.745366666666676, 49.83325, 49.93358, 49.9573, 50.00325, 50.087825, 50.02636666666666, 50.04317500000001, 50.092725, 50.16578000000001, 50.27865, 50.343999999999994, 50.3575, 50.33518, 50.4563, 50.35832, 50.351425000000006, 50.375625, 50.36228000000001, 50.376020000000004, 50.37003333333333, 50.351575, 50.32487500000001, 50.308475, 50.28926, 50.281275, 50.2266, 50.220650000000006, 50.2469, 50.287366666666664, 50.29749999999999, 50.30272, 50.262875, 50.22993333333333, 50.254975, 50.21368, 50.1972, 50.146575, 50.04863333333334, 50.001375, 49.96293333333333, 49.90838000000001, 49.843999999999994, 49.72975, 49.621916666666664, 49.5218, 49.4463, 49.33362, 49.17103333333333, 49.29360000000001, 49.253960000000006, 49.297825, 49.308679999999995, 49.35918, 49.370779999999996, 49.32895, 49.499340000000004, 49.64334, 49.52005000000001, 49.24964, 49.20082000000001, 49.169075, 49.15810000000001, 49.01804, 48.962325, 48.9247, 48.83745, 48.81508, 49.02096, 48.92166666666666, 48.94480000000001, 48.9858, 49.048125, 48.95906, 48.87285, 48.77143333333333, 48.79128000000001, 48.74112, 48.748925, 48.6734, 48.8976, 48.980183333333336, 48.99944, 48.96516, 48.86695, 48.82596, 48.817825, 48.88388333333334, 48.99274000000001, 49.036275, 49.11080000000001, 49.0857, 49.06152, 48.95162000000001, 48.9504, 49.01348, 48.9679, 48.92204, 48.81], \"high\": [50.004, 50.024, 50.04, 50.002, 49.883, 49.9276, 49.994, 49.988, 49.914, 49.883, 49.855, 49.848, 49.765, 49.71, 49.63, 49.7332, 49.76, 49.6861, 49.76600000000001, 49.857, 49.8368, 49.7595, 49.877, 49.9727, 49.9903, 50.04, 50.11600000000001, 50.0931, 50.0911, 50.1854, 50.2098, 50.2988, 50.377, 50.4, 50.389, 50.506, 50.56, 50.404, 50.43, 50.41, 50.42100000000001, 50.43, 50.39, 50.36, 50.379, 50.345, 50.33, 50.301, 50.28, 50.2754, 50.3196, 50.332, 50.363, 50.289, 50.279, 50.289, 50.31, 50.239, 50.224, 50.17, 50.102, 50.033, 50.01, 49.94, 49.85, 49.799, 49.7141, 49.566, 49.4962, 49.3541, 49.3768, 49.393, 49.37300000000001, 49.4354, 49.401, 49.4212, 49.4, 49.587, 49.684, 49.717, 49.51300000000001, 49.351000000000006, 49.292, 49.242, 49.20399999999999, 49.033, 49.0, 48.97, 48.91, 49.09, 49.13, 49.04, 49.11, 49.0833, 49.08, 48.9801, 48.93, 48.87, 48.8426, 48.8217, 48.82, 48.989, 49.0734, 49.12, 49.04, 49.06, 48.9268, 48.8561, 48.96, 49.13, 49.1324, 49.1745, 49.1683, 49.1764, 49.1341, 48.99, 49.06800000000001, 49.0218, 49.0306, 48.97], \"low\": [49.82100000000001, 49.9414, 49.96, 49.84, 49.82899999999999, 49.84, 49.882, 49.8929, 49.84, 49.83, 49.83, 49.73, 49.6738, 49.61, 49.555, 49.56800000000001, 49.668, 49.609, 49.61600000000001, 49.713, 49.7, 49.68, 49.72, 49.851000000000006, 49.91, 49.97, 50.0143, 50.02, 50.005, 49.994, 50.063, 50.16, 50.235, 50.28, 50.288, 50.31100000000001, 50.2971, 50.3152, 50.3156, 50.34, 50.322, 50.36, 50.31, 50.297, 50.29, 50.261, 50.25, 50.13, 50.19, 50.22, 50.24, 50.2384, 50.27, 50.2466, 50.22, 50.1892, 50.1953, 50.17, 50.13, 50.003, 49.99, 49.90600000000001, 49.87, 49.83, 49.679, 49.57, 49.5, 49.385, 49.3137, 49.115, 49.18, 49.158, 49.1353, 49.2076, 49.2319, 49.2903, 49.224, 49.35, 49.4492, 49.5, 49.2203, 49.1561, 49.15, 49.111, 49.0, 48.948, 48.85, 48.744, 48.78, 48.81, 48.82, 48.754, 48.95, 48.949, 48.9173, 48.817, 48.7155, 48.69, 48.642, 48.7, 48.614, 48.717, 48.812, 48.93600000000001, 48.898, 48.8, 48.756, 48.75, 48.77, 48.95, 48.94300000000001, 49.02, 49.05, 49.038, 48.92, 48.87, 48.93, 48.896, 48.89, 48.77], \"open\": [49.90946666666667, 49.97040000000001, 50.01300000000001, 49.96086, 49.86216, 49.8714, 49.92887500000001, 49.95746666666667, 49.893575, 49.851775, 49.84073333333333, 49.82827999999999, 49.7426, 49.6842, 49.60196, 49.59692, 49.72767500000001, 49.669825, 49.65435000000001, 49.75616, 49.8041, 49.70126666666667, 49.75095, 49.87236, 49.97115, 49.98933333333334, 50.042, 50.07503333333333, 50.027125, 50.01975, 50.091359999999995, 50.19065, 50.2946, 50.33178333333333, 50.34692, 50.36576666666666, 50.500479999999996, 50.33195, 50.342325, 50.37572000000001, 50.34464000000001, 50.418, 50.369525, 50.332075, 50.31310000000001, 50.30154, 50.310925, 50.26286666666666, 50.2409, 50.242475, 50.26156666666667, 50.2802, 50.31998, 50.27725, 50.25673333333333, 50.211275, 50.24662, 50.21766666666666, 50.1913, 50.12661666666666, 50.0665, 49.98323333333334, 49.98366000000001, 49.908725, 49.81746666666667, 49.72106666666667, 49.606475, 49.51284999999999, 49.4286, 49.29600000000001, 49.22238, 49.294579999999996, 49.25685, 49.3614, 49.3335, 49.35925999999999, 49.336575, 49.39572, 49.52556, 49.6376, 49.42184, 49.2613, 49.20105, 49.15266, 49.12638, 49.01645, 48.94891666666666, 48.91328333333333, 48.86424, 48.90478, 49.012933333333336, 48.8746, 49.008750000000006, 48.96695, 49.01202000000001, 48.9294, 48.83905000000001, 48.77486, 48.77558000000001, 48.770375, 48.7169, 48.744575, 48.91056666666668, 49.025240000000004, 48.9773, 48.96485, 48.82492000000001, 48.824125, 48.81993333333335, 49.0125, 48.989725, 49.06005, 49.11495, 49.09304, 49.04022000000001, 48.92316666666667, 48.97088000000001, 48.98965000000001, 48.96659999999999, 48.90512], \"type\": \"candlestick\", \"x\": [\"2021-09-20T21:45:00\", \"2021-09-20T21:46:00\", \"2021-09-20T21:47:00\", \"2021-09-20T21:48:00\", \"2021-09-20T21:49:00\", \"2021-09-20T21:50:00\", \"2021-09-20T21:51:00\", \"2021-09-20T21:52:00\", \"2021-09-20T21:53:00\", \"2021-09-20T21:54:00\", \"2021-09-20T21:55:00\", \"2021-09-20T21:56:00\", \"2021-09-20T21:57:00\", \"2021-09-20T21:58:00\", \"2021-09-20T21:59:00\", \"2021-09-20T22:00:00\", \"2021-09-20T22:01:00\", \"2021-09-20T22:02:00\", \"2021-09-20T22:03:00\", \"2021-09-20T22:04:00\", \"2021-09-20T22:05:00\", \"2021-09-20T22:06:00\", \"2021-09-20T22:07:00\", \"2021-09-20T22:08:00\", \"2021-09-20T22:09:00\", \"2021-09-20T22:10:00\", \"2021-09-20T22:11:00\", \"2021-09-20T22:12:00\", \"2021-09-20T22:13:00\", \"2021-09-20T22:14:00\", \"2021-09-20T22:15:00\", \"2021-09-20T22:16:00\", \"2021-09-20T22:17:00\", \"2021-09-20T22:18:00\", \"2021-09-20T22:19:00\", \"2021-09-20T22:20:00\", \"2021-09-20T22:21:00\", \"2021-09-20T22:22:00\", \"2021-09-20T22:23:00\", \"2021-09-20T22:24:00\", \"2021-09-20T22:25:00\", \"2021-09-20T22:26:00\", \"2021-09-20T22:27:00\", \"2021-09-20T22:28:00\", \"2021-09-20T22:29:00\", \"2021-09-20T22:30:00\", \"2021-09-20T22:31:00\", \"2021-09-20T22:32:00\", \"2021-09-20T22:33:00\", \"2021-09-20T22:34:00\", \"2021-09-20T22:35:00\", \"2021-09-20T22:36:00\", \"2021-09-20T22:37:00\", \"2021-09-20T22:38:00\", \"2021-09-20T22:39:00\", \"2021-09-20T22:40:00\", \"2021-09-20T22:41:00\", \"2021-09-20T22:42:00\", \"2021-09-20T22:43:00\", \"2021-09-20T22:44:00\", \"2021-09-20T22:45:00\", \"2021-09-20T22:46:00\", \"2021-09-20T22:47:00\", \"2021-09-20T22:48:00\", \"2021-09-20T22:49:00\", \"2021-09-20T22:50:00\", \"2021-09-20T22:51:00\", \"2021-09-20T22:52:00\", \"2021-09-20T22:53:00\", \"2021-09-20T22:54:00\", \"2021-09-20T22:55:00\", \"2021-09-20T22:56:00\", \"2021-09-20T22:57:00\", \"2021-09-20T22:58:00\", \"2021-09-20T22:59:00\", \"2021-09-20T23:00:00\", \"2021-09-20T23:01:00\", \"2021-09-20T23:02:00\", \"2021-09-20T23:03:00\", \"2021-09-20T23:04:00\", \"2021-09-20T23:05:00\", \"2021-09-20T23:06:00\", \"2021-09-20T23:07:00\", \"2021-09-20T23:08:00\", \"2021-09-20T23:09:00\", \"2021-09-20T23:10:00\", \"2021-09-20T23:11:00\", \"2021-09-20T23:12:00\", \"2021-09-20T23:13:00\", \"2021-09-20T23:14:00\", \"2021-09-20T23:15:00\", \"2021-09-20T23:16:00\", \"2021-09-20T23:17:00\", \"2021-09-20T23:18:00\", \"2021-09-20T23:19:00\", \"2021-09-20T23:20:00\", \"2021-09-20T23:21:00\", \"2021-09-20T23:22:00\", \"2021-09-20T23:23:00\", \"2021-09-20T23:24:00\", \"2021-09-20T23:25:00\", \"2021-09-20T23:26:00\", \"2021-09-20T23:27:00\", \"2021-09-20T23:28:00\", \"2021-09-20T23:29:00\", \"2021-09-20T23:30:00\", \"2021-09-20T23:31:00\", \"2021-09-20T23:32:00\", \"2021-09-20T23:33:00\", \"2021-09-20T23:34:00\", \"2021-09-20T23:35:00\", \"2021-09-20T23:36:00\", \"2021-09-20T23:37:00\", \"2021-09-20T23:38:00\", \"2021-09-20T23:39:00\", \"2021-09-20T23:40:00\", \"2021-09-20T23:41:00\", \"2021-09-20T23:42:00\", \"2021-09-20T23:43:00\", \"2021-09-20T23:44:00\"]}],\n",
              "                        {\"template\": {\"data\": {\"bar\": [{\"error_x\": {\"color\": \"#2a3f5f\"}, \"error_y\": {\"color\": \"#2a3f5f\"}, \"marker\": {\"line\": {\"color\": \"#E5ECF6\", \"width\": 0.5}}, \"type\": \"bar\"}], \"barpolar\": [{\"marker\": {\"line\": {\"color\": \"#E5ECF6\", \"width\": 0.5}}, \"type\": \"barpolar\"}], \"carpet\": [{\"aaxis\": {\"endlinecolor\": \"#2a3f5f\", \"gridcolor\": \"white\", \"linecolor\": \"white\", \"minorgridcolor\": \"white\", \"startlinecolor\": \"#2a3f5f\"}, \"baxis\": {\"endlinecolor\": \"#2a3f5f\", \"gridcolor\": \"white\", \"linecolor\": \"white\", \"minorgridcolor\": \"white\", \"startlinecolor\": \"#2a3f5f\"}, \"type\": \"carpet\"}], \"choropleth\": [{\"colorbar\": {\"outlinewidth\": 0, \"ticks\": \"\"}, \"type\": \"choropleth\"}], \"contour\": [{\"colorbar\": {\"outlinewidth\": 0, \"ticks\": \"\"}, \"colorscale\": [[0.0, \"#0d0887\"], [0.1111111111111111, \"#46039f\"], [0.2222222222222222, \"#7201a8\"], [0.3333333333333333, \"#9c179e\"], [0.4444444444444444, \"#bd3786\"], [0.5555555555555556, \"#d8576b\"], [0.6666666666666666, \"#ed7953\"], [0.7777777777777778, \"#fb9f3a\"], [0.8888888888888888, \"#fdca26\"], [1.0, \"#f0f921\"]], \"type\": \"contour\"}], \"contourcarpet\": [{\"colorbar\": {\"outlinewidth\": 0, \"ticks\": \"\"}, \"type\": \"contourcarpet\"}], \"heatmap\": [{\"colorbar\": {\"outlinewidth\": 0, \"ticks\": \"\"}, \"colorscale\": [[0.0, \"#0d0887\"], [0.1111111111111111, \"#46039f\"], [0.2222222222222222, \"#7201a8\"], [0.3333333333333333, \"#9c179e\"], [0.4444444444444444, \"#bd3786\"], [0.5555555555555556, \"#d8576b\"], [0.6666666666666666, \"#ed7953\"], [0.7777777777777778, \"#fb9f3a\"], [0.8888888888888888, \"#fdca26\"], [1.0, \"#f0f921\"]], \"type\": \"heatmap\"}], \"heatmapgl\": [{\"colorbar\": {\"outlinewidth\": 0, \"ticks\": \"\"}, \"colorscale\": [[0.0, \"#0d0887\"], [0.1111111111111111, \"#46039f\"], [0.2222222222222222, \"#7201a8\"], [0.3333333333333333, \"#9c179e\"], [0.4444444444444444, \"#bd3786\"], [0.5555555555555556, \"#d8576b\"], [0.6666666666666666, \"#ed7953\"], [0.7777777777777778, \"#fb9f3a\"], [0.8888888888888888, \"#fdca26\"], [1.0, \"#f0f921\"]], \"type\": \"heatmapgl\"}], \"histogram\": [{\"marker\": {\"colorbar\": {\"outlinewidth\": 0, \"ticks\": \"\"}}, \"type\": \"histogram\"}], \"histogram2d\": [{\"colorbar\": {\"outlinewidth\": 0, \"ticks\": \"\"}, \"colorscale\": [[0.0, \"#0d0887\"], [0.1111111111111111, \"#46039f\"], [0.2222222222222222, \"#7201a8\"], [0.3333333333333333, \"#9c179e\"], [0.4444444444444444, \"#bd3786\"], [0.5555555555555556, \"#d8576b\"], [0.6666666666666666, \"#ed7953\"], [0.7777777777777778, \"#fb9f3a\"], [0.8888888888888888, \"#fdca26\"], [1.0, \"#f0f921\"]], \"type\": \"histogram2d\"}], \"histogram2dcontour\": [{\"colorbar\": {\"outlinewidth\": 0, \"ticks\": \"\"}, \"colorscale\": [[0.0, \"#0d0887\"], [0.1111111111111111, \"#46039f\"], [0.2222222222222222, \"#7201a8\"], [0.3333333333333333, \"#9c179e\"], [0.4444444444444444, \"#bd3786\"], [0.5555555555555556, \"#d8576b\"], [0.6666666666666666, \"#ed7953\"], [0.7777777777777778, \"#fb9f3a\"], [0.8888888888888888, \"#fdca26\"], [1.0, \"#f0f921\"]], \"type\": \"histogram2dcontour\"}], \"mesh3d\": [{\"colorbar\": {\"outlinewidth\": 0, \"ticks\": \"\"}, \"type\": \"mesh3d\"}], \"parcoords\": [{\"line\": {\"colorbar\": {\"outlinewidth\": 0, \"ticks\": \"\"}}, \"type\": \"parcoords\"}], \"pie\": [{\"automargin\": true, \"type\": \"pie\"}], \"scatter\": [{\"marker\": {\"colorbar\": {\"outlinewidth\": 0, \"ticks\": \"\"}}, \"type\": \"scatter\"}], \"scatter3d\": [{\"line\": {\"colorbar\": {\"outlinewidth\": 0, \"ticks\": \"\"}}, \"marker\": {\"colorbar\": {\"outlinewidth\": 0, \"ticks\": \"\"}}, \"type\": \"scatter3d\"}], \"scattercarpet\": [{\"marker\": {\"colorbar\": {\"outlinewidth\": 0, \"ticks\": \"\"}}, \"type\": \"scattercarpet\"}], \"scattergeo\": [{\"marker\": {\"colorbar\": {\"outlinewidth\": 0, \"ticks\": \"\"}}, \"type\": \"scattergeo\"}], \"scattergl\": [{\"marker\": {\"colorbar\": {\"outlinewidth\": 0, \"ticks\": \"\"}}, \"type\": \"scattergl\"}], \"scattermapbox\": [{\"marker\": {\"colorbar\": {\"outlinewidth\": 0, \"ticks\": \"\"}}, \"type\": \"scattermapbox\"}], \"scatterpolar\": [{\"marker\": {\"colorbar\": {\"outlinewidth\": 0, \"ticks\": \"\"}}, \"type\": \"scatterpolar\"}], \"scatterpolargl\": [{\"marker\": {\"colorbar\": {\"outlinewidth\": 0, \"ticks\": \"\"}}, \"type\": \"scatterpolargl\"}], \"scatterternary\": [{\"marker\": {\"colorbar\": {\"outlinewidth\": 0, \"ticks\": \"\"}}, \"type\": \"scatterternary\"}], \"surface\": [{\"colorbar\": {\"outlinewidth\": 0, \"ticks\": \"\"}, \"colorscale\": [[0.0, \"#0d0887\"], [0.1111111111111111, \"#46039f\"], [0.2222222222222222, \"#7201a8\"], [0.3333333333333333, \"#9c179e\"], [0.4444444444444444, \"#bd3786\"], [0.5555555555555556, \"#d8576b\"], [0.6666666666666666, \"#ed7953\"], [0.7777777777777778, \"#fb9f3a\"], [0.8888888888888888, \"#fdca26\"], [1.0, \"#f0f921\"]], \"type\": \"surface\"}], \"table\": [{\"cells\": {\"fill\": {\"color\": \"#EBF0F8\"}, \"line\": {\"color\": \"white\"}}, \"header\": {\"fill\": {\"color\": \"#C8D4E3\"}, \"line\": {\"color\": \"white\"}}, \"type\": \"table\"}]}, \"layout\": {\"annotationdefaults\": {\"arrowcolor\": \"#2a3f5f\", \"arrowhead\": 0, \"arrowwidth\": 1}, \"coloraxis\": {\"colorbar\": {\"outlinewidth\": 0, \"ticks\": \"\"}}, \"colorscale\": {\"diverging\": [[0, \"#8e0152\"], [0.1, \"#c51b7d\"], [0.2, \"#de77ae\"], [0.3, \"#f1b6da\"], [0.4, \"#fde0ef\"], [0.5, \"#f7f7f7\"], [0.6, \"#e6f5d0\"], [0.7, \"#b8e186\"], [0.8, \"#7fbc41\"], [0.9, \"#4d9221\"], [1, \"#276419\"]], \"sequential\": [[0.0, \"#0d0887\"], [0.1111111111111111, \"#46039f\"], [0.2222222222222222, \"#7201a8\"], [0.3333333333333333, \"#9c179e\"], [0.4444444444444444, \"#bd3786\"], [0.5555555555555556, \"#d8576b\"], [0.6666666666666666, \"#ed7953\"], [0.7777777777777778, \"#fb9f3a\"], [0.8888888888888888, \"#fdca26\"], [1.0, \"#f0f921\"]], \"sequentialminus\": [[0.0, \"#0d0887\"], [0.1111111111111111, \"#46039f\"], [0.2222222222222222, \"#7201a8\"], [0.3333333333333333, \"#9c179e\"], [0.4444444444444444, \"#bd3786\"], [0.5555555555555556, \"#d8576b\"], [0.6666666666666666, \"#ed7953\"], [0.7777777777777778, \"#fb9f3a\"], [0.8888888888888888, \"#fdca26\"], [1.0, \"#f0f921\"]]}, \"colorway\": [\"#636efa\", \"#EF553B\", \"#00cc96\", \"#ab63fa\", \"#FFA15A\", \"#19d3f3\", \"#FF6692\", \"#B6E880\", \"#FF97FF\", \"#FECB52\"], \"font\": {\"color\": \"#2a3f5f\"}, \"geo\": {\"bgcolor\": \"white\", \"lakecolor\": \"white\", \"landcolor\": \"#E5ECF6\", \"showlakes\": true, \"showland\": true, \"subunitcolor\": \"white\"}, \"hoverlabel\": {\"align\": \"left\"}, \"hovermode\": \"closest\", \"mapbox\": {\"style\": \"light\"}, \"paper_bgcolor\": \"white\", \"plot_bgcolor\": \"#E5ECF6\", \"polar\": {\"angularaxis\": {\"gridcolor\": \"white\", \"linecolor\": \"white\", \"ticks\": \"\"}, \"bgcolor\": \"#E5ECF6\", \"radialaxis\": {\"gridcolor\": \"white\", \"linecolor\": \"white\", \"ticks\": \"\"}}, \"scene\": {\"xaxis\": {\"backgroundcolor\": \"#E5ECF6\", \"gridcolor\": \"white\", \"gridwidth\": 2, \"linecolor\": \"white\", \"showbackground\": true, \"ticks\": \"\", \"zerolinecolor\": \"white\"}, \"yaxis\": {\"backgroundcolor\": \"#E5ECF6\", \"gridcolor\": \"white\", \"gridwidth\": 2, \"linecolor\": \"white\", \"showbackground\": true, \"ticks\": \"\", \"zerolinecolor\": \"white\"}, \"zaxis\": {\"backgroundcolor\": \"#E5ECF6\", \"gridcolor\": \"white\", \"gridwidth\": 2, \"linecolor\": \"white\", \"showbackground\": true, \"ticks\": \"\", \"zerolinecolor\": \"white\"}}, \"shapedefaults\": {\"line\": {\"color\": \"#2a3f5f\"}}, \"ternary\": {\"aaxis\": {\"gridcolor\": \"white\", \"linecolor\": \"white\", \"ticks\": \"\"}, \"baxis\": {\"gridcolor\": \"white\", \"linecolor\": \"white\", \"ticks\": \"\"}, \"bgcolor\": \"#E5ECF6\", \"caxis\": {\"gridcolor\": \"white\", \"linecolor\": \"white\", \"ticks\": \"\"}}, \"title\": {\"x\": 0.05}, \"xaxis\": {\"automargin\": true, \"gridcolor\": \"white\", \"linecolor\": \"white\", \"ticks\": \"\", \"title\": {\"standoff\": 15}, \"zerolinecolor\": \"white\", \"zerolinewidth\": 2}, \"yaxis\": {\"automargin\": true, \"gridcolor\": \"white\", \"linecolor\": \"white\", \"ticks\": \"\", \"title\": {\"standoff\": 15}, \"zerolinecolor\": \"white\", \"zerolinewidth\": 2}}}, \"title\": {\"text\": \"Ethereum Classic Candelstick Chart\", \"x\": 0.5, \"xanchor\": \"center\", \"y\": 0.9, \"yanchor\": \"top\"}, \"xaxis\": {\"rangeslider\": {\"visible\": false}, \"title\": {\"text\": \"Time\"}}, \"yaxis\": {\"ticksuffix\": \"$\", \"title\": {\"text\": \"Price in USD\"}}},\n",
              "                        {\"responsive\": true}\n",
              "                    ).then(function(){\n",
              "                            \n",
              "var gd = document.getElementById('8ce6d42d-6faa-4c55-a136-be3e18bc74de');\n",
              "var x = new MutationObserver(function (mutations, observer) {{\n",
              "        var display = window.getComputedStyle(gd).display;\n",
              "        if (!display || display === 'none') {{\n",
              "            console.log([gd, 'removed!']);\n",
              "            Plotly.purge(gd);\n",
              "            observer.disconnect();\n",
              "        }}\n",
              "}});\n",
              "\n",
              "// Listen for the removal of the full notebook cells\n",
              "var notebookContainer = gd.closest('#notebook-container');\n",
              "if (notebookContainer) {{\n",
              "    x.observe(notebookContainer, {childList: true});\n",
              "}}\n",
              "\n",
              "// Listen for the clearing of the current output cell\n",
              "var outputEl = gd.closest('.output');\n",
              "if (outputEl) {{\n",
              "    x.observe(outputEl, {childList: true});\n",
              "}}\n",
              "\n",
              "                        })\n",
              "                };\n",
              "                \n",
              "            </script>\n",
              "        </div>\n",
              "</body>\n",
              "</html>"
            ]
          },
          "metadata": {}
        }
      ]
    },
    {
      "cell_type": "markdown",
      "metadata": {
        "id": "4aa8447a"
      },
      "source": [
        "- IOTA"
      ],
      "id": "4aa8447a"
    },
    {
      "cell_type": "code",
      "metadata": {
        "colab": {
          "base_uri": "https://localhost:8080/",
          "height": 542
        },
        "id": "66a6b393",
        "outputId": "dc0a0b97-ae37-47ac-ad0e-19395314073c"
      },
      "source": [
        "iota_plot = candelstick_chart(iota[-120:], title=\"IOTA\")\n",
        "iota_plot.show()"
      ],
      "id": "66a6b393",
      "execution_count": 21,
      "outputs": [
        {
          "output_type": "display_data",
          "data": {
            "text/html": [
              "<html>\n",
              "<head><meta charset=\"utf-8\" /></head>\n",
              "<body>\n",
              "    <div>\n",
              "            <script src=\"https://cdnjs.cloudflare.com/ajax/libs/mathjax/2.7.5/MathJax.js?config=TeX-AMS-MML_SVG\"></script><script type=\"text/javascript\">if (window.MathJax) {MathJax.Hub.Config({SVG: {font: \"STIX-Web\"}});}</script>\n",
              "                <script type=\"text/javascript\">window.PlotlyConfig = {MathJaxConfig: 'local'};</script>\n",
              "        <script src=\"https://cdn.plot.ly/plotly-latest.min.js\"></script>    \n",
              "            <div id=\"c378964e-f881-46c6-842d-9714ce497f98\" class=\"plotly-graph-div\" style=\"height:525px; width:100%;\"></div>\n",
              "            <script type=\"text/javascript\">\n",
              "                \n",
              "                    window.PLOTLYENV=window.PLOTLYENV || {};\n",
              "                    \n",
              "                if (document.getElementById(\"c378964e-f881-46c6-842d-9714ce497f98\")) {\n",
              "                    Plotly.newPlot(\n",
              "                        'c378964e-f881-46c6-842d-9714ce497f98',\n",
              "                        [{\"close\": [1.30235, 1.3038500000000002, 1.3189, 1.30085, 1.29845, 1.3148, 1.3002, 1.2984, 1.2945, 1.2977, 1.2972, 1.2955, 1.29215, 1.2917, 1.3077, 1.3099, 1.2965, 1.3111, 1.2983, 1.2988499999999998, 1.3146, 1.2994, 1.3167, 1.3029, 1.3034, 1.3047, 1.3055, 1.30625, 1.3056, 1.3091, 1.3113, 1.31455, 1.31585, 1.31675, 1.31685, 1.31725, 1.31465, 1.31645, 1.31915, 1.31745, 1.3183, 1.3178999999999998, 1.31615, 1.31335, 1.3154, 1.3140999999999998, 1.31365, 1.31345, 1.31335, 1.31405, 1.31655, 1.31675, 1.31675, 1.3161, 1.31495, 1.31535, 1.3138999999999998, 1.3138, 1.3276, 1.3099500000000002, 1.3073, 1.30425, 1.30215, 1.30045, 1.2982, 1.2952499999999998, 1.29135, 1.29035, 1.2863, 1.2852, 1.28905, 1.2888, 1.2913, 1.2896, 1.29055, 1.29035, 1.2915, 1.2979, 1.3037999999999998, 1.3006, 1.28945, 1.2906, 1.28985, 1.28835, 1.2834, 1.2834500000000002, 1.2797, 1.2776, 1.2769, 1.2836, 1.2805, 1.2833, 1.2795, 1.28095, 1.27805, 1.27655, 1.2722, 1.27555, 1.27315, 1.27245, 1.2692, 1.2715, 1.2721, 1.27085, 1.2698999999999998, 1.2675, 1.2690000000000001, 1.2696999999999998, 1.2739, 1.27535, 1.27855, 1.2817, 1.2786499999999998, 1.2803, 1.2755999999999998, 1.27805, 1.2795999999999998, 1.28035, 1.27915, 1.27645], \"high\": [1.32, 1.3230000000000002, 1.3207, 1.3189, 1.3166, 1.3156, 1.3161, 1.3158, 1.3128, 1.3141, 1.3141, 1.3126, 1.3105, 1.3084, 1.3081, 1.31, 1.3139, 1.3128, 1.3156, 1.3176, 1.3161, 1.3159, 1.3167, 1.3199, 1.3207, 1.3222, 1.3237, 1.3236, 1.3233, 1.3286, 1.3293, 1.3322, 1.3338, 1.3346, 1.3359, 1.3361, 1.3389, 1.3341, 1.3389, 1.3371, 1.3374, 1.3375, 1.3359, 1.3337, 1.3354, 1.3322, 1.3329, 1.3326, 1.332, 1.3337, 1.3351, 1.3345, 1.3363, 1.3342, 1.3337, 1.3327, 1.3319, 1.3321, 1.3298, 1.3285, 1.3264, 1.3242, 1.3231, 1.3209, 1.3182, 1.3155, 1.3122, 1.3095, 1.3078, 1.3044, 1.3073, 1.3055, 1.3075, 1.3092, 1.3076, 1.3077, 1.3078, 1.3162, 1.3208, 1.3217, 1.3157, 1.3086, 1.3097, 1.3077, 1.3048, 1.3002, 1.2986, 1.2988, 1.2984, 1.3031, 1.305, 1.3014, 1.3023, 1.3015, 1.2990000000000002, 1.2963, 1.2944, 1.2948, 1.2928, 1.2913, 1.2939, 1.2916, 1.2912, 1.2919, 1.2893, 1.2904, 1.2892, 1.2888, 1.2919, 1.2981, 1.2992, 1.3017, 1.3024, 1.3014, 1.3014, 1.2973, 1.2988, 1.3003, 1.2996, 1.2986], \"low\": [1.2842, 1.2868, 1.3189, 1.2857, 1.2817, 1.3146, 1.2845, 1.2845, 1.279, 1.2814, 1.2813, 1.2803, 1.2765, 1.2757, 1.3062, 1.3074, 1.2802, 1.3111, 1.2827, 1.2827, 1.3141, 1.2829, 1.3159, 1.2848, 1.2861, 1.2874, 1.2874, 1.2882, 1.2892, 1.2899, 1.2942, 1.2953, 1.2971, 1.2964, 1.2969, 1.2989, 1.2963, 1.2985, 1.2986, 1.3001, 1.3001, 1.3008, 1.2996, 1.2961, 1.2984, 1.2954, 1.2967, 1.295, 1.2964, 1.2967, 1.2979, 1.2978, 1.2990000000000002, 1.2997, 1.2989, 1.2973, 1.2968, 1.2968, 1.3276, 1.2919, 1.2899, 1.2878, 1.2846, 1.2848, 1.2813, 1.2774, 1.2749, 1.2733, 1.2694, 1.268, 1.2707, 1.2703, 1.2707, 1.2722, 1.273, 1.2741, 1.2752, 1.2764, 1.28, 1.2841, 1.2729, 1.2728, 1.2742, 1.2724, 1.2673, 1.2663, 1.2633, 1.2584, 1.2598, 1.2611, 1.2635, 1.2594, 1.2636, 1.2622, 1.2612, 1.2596, 1.2553, 1.2553, 1.254, 1.2548, 1.2524, 1.2501, 1.2531, 1.2511, 1.2523, 1.2501, 1.2512, 1.2519, 1.2523, 1.2565, 1.2577, 1.2611, 1.26, 1.2611, 1.2558, 1.2578, 1.2597, 1.2617, 1.2607, 1.2586], \"open\": [1.2997999999999998, 1.3034, 1.3207, 1.3024, 1.2997, 1.3147, 1.29985, 1.30015, 1.29635, 1.2958500000000002, 1.2977500000000002, 1.29655, 1.2943, 1.29285, 1.3065, 1.3077, 1.29655, 1.3128, 1.29745, 1.29925, 1.3148, 1.29875, 1.3159, 1.3010000000000002, 1.3035, 1.3040500000000002, 1.30495, 1.3064, 1.3064, 1.30555, 1.3091, 1.3117, 1.3149000000000002, 1.3163999999999998, 1.3164, 1.3172, 1.31805, 1.31595, 1.3163, 1.319, 1.3175, 1.31915, 1.3178, 1.3152, 1.3145, 1.31425, 1.31515, 1.31405, 1.3146, 1.31445, 1.31525, 1.3154, 1.31635, 1.3166, 1.3163, 1.31365, 1.3143, 1.31385, 1.3293, 1.3126, 1.30945, 1.30605, 1.3047, 1.30265, 1.3, 1.2992, 1.29475, 1.2923, 1.2904, 1.28645, 1.2858, 1.28965, 1.28785, 1.2908, 1.2893, 1.2916500000000002, 1.29145, 1.29265, 1.2968000000000002, 1.3022, 1.2977500000000002, 1.2903, 1.29155, 1.28945, 1.2879, 1.28425, 1.28165, 1.28125, 1.2801, 1.27815, 1.28315, 1.2797, 1.2819, 1.2792, 1.28105, 1.2778, 1.2766000000000002, 1.2727, 1.275, 1.27275, 1.2731, 1.2708, 1.27185, 1.27265, 1.2711, 1.26995, 1.2689, 1.2698, 1.27005, 1.2742, 1.2756500000000002, 1.27885, 1.28115, 1.28005, 1.27965, 1.27575, 1.27745, 1.281, 1.2799999999999998, 1.2786], \"type\": \"candlestick\", \"x\": [\"2021-09-20T21:45:00\", \"2021-09-20T21:46:00\", \"2021-09-20T21:47:00\", \"2021-09-20T21:48:00\", \"2021-09-20T21:49:00\", \"2021-09-20T21:50:00\", \"2021-09-20T21:51:00\", \"2021-09-20T21:52:00\", \"2021-09-20T21:53:00\", \"2021-09-20T21:54:00\", \"2021-09-20T21:55:00\", \"2021-09-20T21:56:00\", \"2021-09-20T21:57:00\", \"2021-09-20T21:58:00\", \"2021-09-20T21:59:00\", \"2021-09-20T22:00:00\", \"2021-09-20T22:01:00\", \"2021-09-20T22:02:00\", \"2021-09-20T22:03:00\", \"2021-09-20T22:04:00\", \"2021-09-20T22:05:00\", \"2021-09-20T22:06:00\", \"2021-09-20T22:07:00\", \"2021-09-20T22:08:00\", \"2021-09-20T22:09:00\", \"2021-09-20T22:10:00\", \"2021-09-20T22:11:00\", \"2021-09-20T22:12:00\", \"2021-09-20T22:13:00\", \"2021-09-20T22:14:00\", \"2021-09-20T22:15:00\", \"2021-09-20T22:16:00\", \"2021-09-20T22:17:00\", \"2021-09-20T22:18:00\", \"2021-09-20T22:19:00\", \"2021-09-20T22:20:00\", \"2021-09-20T22:21:00\", \"2021-09-20T22:22:00\", \"2021-09-20T22:23:00\", \"2021-09-20T22:24:00\", \"2021-09-20T22:25:00\", \"2021-09-20T22:26:00\", \"2021-09-20T22:27:00\", \"2021-09-20T22:28:00\", \"2021-09-20T22:29:00\", \"2021-09-20T22:30:00\", \"2021-09-20T22:31:00\", \"2021-09-20T22:32:00\", \"2021-09-20T22:33:00\", \"2021-09-20T22:34:00\", \"2021-09-20T22:35:00\", \"2021-09-20T22:36:00\", \"2021-09-20T22:37:00\", \"2021-09-20T22:38:00\", \"2021-09-20T22:39:00\", \"2021-09-20T22:40:00\", \"2021-09-20T22:41:00\", \"2021-09-20T22:42:00\", \"2021-09-20T22:43:00\", \"2021-09-20T22:44:00\", \"2021-09-20T22:45:00\", \"2021-09-20T22:46:00\", \"2021-09-20T22:47:00\", \"2021-09-20T22:48:00\", \"2021-09-20T22:49:00\", \"2021-09-20T22:50:00\", \"2021-09-20T22:51:00\", \"2021-09-20T22:52:00\", \"2021-09-20T22:53:00\", \"2021-09-20T22:54:00\", \"2021-09-20T22:55:00\", \"2021-09-20T22:56:00\", \"2021-09-20T22:57:00\", \"2021-09-20T22:58:00\", \"2021-09-20T22:59:00\", \"2021-09-20T23:00:00\", \"2021-09-20T23:01:00\", \"2021-09-20T23:02:00\", \"2021-09-20T23:03:00\", \"2021-09-20T23:04:00\", \"2021-09-20T23:05:00\", \"2021-09-20T23:06:00\", \"2021-09-20T23:07:00\", \"2021-09-20T23:08:00\", \"2021-09-20T23:09:00\", \"2021-09-20T23:10:00\", \"2021-09-20T23:11:00\", \"2021-09-20T23:12:00\", \"2021-09-20T23:13:00\", \"2021-09-20T23:14:00\", \"2021-09-20T23:15:00\", \"2021-09-20T23:16:00\", \"2021-09-20T23:17:00\", \"2021-09-20T23:18:00\", \"2021-09-20T23:19:00\", \"2021-09-20T23:20:00\", \"2021-09-20T23:21:00\", \"2021-09-20T23:22:00\", \"2021-09-20T23:23:00\", \"2021-09-20T23:24:00\", \"2021-09-20T23:25:00\", \"2021-09-20T23:26:00\", \"2021-09-20T23:27:00\", \"2021-09-20T23:28:00\", \"2021-09-20T23:29:00\", \"2021-09-20T23:30:00\", \"2021-09-20T23:31:00\", \"2021-09-20T23:32:00\", \"2021-09-20T23:33:00\", \"2021-09-20T23:34:00\", \"2021-09-20T23:35:00\", \"2021-09-20T23:36:00\", \"2021-09-20T23:37:00\", \"2021-09-20T23:38:00\", \"2021-09-20T23:39:00\", \"2021-09-20T23:40:00\", \"2021-09-20T23:41:00\", \"2021-09-20T23:42:00\", \"2021-09-20T23:43:00\", \"2021-09-20T23:44:00\"]}],\n",
              "                        {\"template\": {\"data\": {\"bar\": [{\"error_x\": {\"color\": \"#2a3f5f\"}, \"error_y\": {\"color\": \"#2a3f5f\"}, \"marker\": {\"line\": {\"color\": \"#E5ECF6\", \"width\": 0.5}}, \"type\": \"bar\"}], \"barpolar\": [{\"marker\": {\"line\": {\"color\": \"#E5ECF6\", \"width\": 0.5}}, \"type\": \"barpolar\"}], \"carpet\": [{\"aaxis\": {\"endlinecolor\": \"#2a3f5f\", \"gridcolor\": \"white\", \"linecolor\": \"white\", \"minorgridcolor\": \"white\", \"startlinecolor\": \"#2a3f5f\"}, \"baxis\": {\"endlinecolor\": \"#2a3f5f\", \"gridcolor\": \"white\", \"linecolor\": \"white\", \"minorgridcolor\": \"white\", \"startlinecolor\": \"#2a3f5f\"}, \"type\": \"carpet\"}], \"choropleth\": [{\"colorbar\": {\"outlinewidth\": 0, \"ticks\": \"\"}, \"type\": \"choropleth\"}], \"contour\": [{\"colorbar\": {\"outlinewidth\": 0, \"ticks\": \"\"}, \"colorscale\": [[0.0, \"#0d0887\"], [0.1111111111111111, \"#46039f\"], [0.2222222222222222, \"#7201a8\"], [0.3333333333333333, \"#9c179e\"], [0.4444444444444444, \"#bd3786\"], [0.5555555555555556, \"#d8576b\"], [0.6666666666666666, \"#ed7953\"], [0.7777777777777778, \"#fb9f3a\"], [0.8888888888888888, \"#fdca26\"], [1.0, \"#f0f921\"]], \"type\": \"contour\"}], \"contourcarpet\": [{\"colorbar\": {\"outlinewidth\": 0, \"ticks\": \"\"}, \"type\": \"contourcarpet\"}], \"heatmap\": [{\"colorbar\": {\"outlinewidth\": 0, \"ticks\": \"\"}, \"colorscale\": [[0.0, \"#0d0887\"], [0.1111111111111111, \"#46039f\"], [0.2222222222222222, \"#7201a8\"], [0.3333333333333333, \"#9c179e\"], [0.4444444444444444, \"#bd3786\"], [0.5555555555555556, \"#d8576b\"], [0.6666666666666666, \"#ed7953\"], [0.7777777777777778, \"#fb9f3a\"], [0.8888888888888888, \"#fdca26\"], [1.0, \"#f0f921\"]], \"type\": \"heatmap\"}], \"heatmapgl\": [{\"colorbar\": {\"outlinewidth\": 0, \"ticks\": \"\"}, \"colorscale\": [[0.0, \"#0d0887\"], [0.1111111111111111, \"#46039f\"], [0.2222222222222222, \"#7201a8\"], [0.3333333333333333, \"#9c179e\"], [0.4444444444444444, \"#bd3786\"], [0.5555555555555556, \"#d8576b\"], [0.6666666666666666, \"#ed7953\"], [0.7777777777777778, \"#fb9f3a\"], [0.8888888888888888, \"#fdca26\"], [1.0, \"#f0f921\"]], \"type\": \"heatmapgl\"}], \"histogram\": [{\"marker\": {\"colorbar\": {\"outlinewidth\": 0, \"ticks\": \"\"}}, \"type\": \"histogram\"}], \"histogram2d\": [{\"colorbar\": {\"outlinewidth\": 0, \"ticks\": \"\"}, \"colorscale\": [[0.0, \"#0d0887\"], [0.1111111111111111, \"#46039f\"], [0.2222222222222222, \"#7201a8\"], [0.3333333333333333, \"#9c179e\"], [0.4444444444444444, \"#bd3786\"], [0.5555555555555556, \"#d8576b\"], [0.6666666666666666, \"#ed7953\"], [0.7777777777777778, \"#fb9f3a\"], [0.8888888888888888, \"#fdca26\"], [1.0, \"#f0f921\"]], \"type\": \"histogram2d\"}], \"histogram2dcontour\": [{\"colorbar\": {\"outlinewidth\": 0, \"ticks\": \"\"}, \"colorscale\": [[0.0, \"#0d0887\"], [0.1111111111111111, \"#46039f\"], [0.2222222222222222, \"#7201a8\"], [0.3333333333333333, \"#9c179e\"], [0.4444444444444444, \"#bd3786\"], [0.5555555555555556, \"#d8576b\"], [0.6666666666666666, \"#ed7953\"], [0.7777777777777778, \"#fb9f3a\"], [0.8888888888888888, \"#fdca26\"], [1.0, \"#f0f921\"]], \"type\": \"histogram2dcontour\"}], \"mesh3d\": [{\"colorbar\": {\"outlinewidth\": 0, \"ticks\": \"\"}, \"type\": \"mesh3d\"}], \"parcoords\": [{\"line\": {\"colorbar\": {\"outlinewidth\": 0, \"ticks\": \"\"}}, \"type\": \"parcoords\"}], \"pie\": [{\"automargin\": true, \"type\": \"pie\"}], \"scatter\": [{\"marker\": {\"colorbar\": {\"outlinewidth\": 0, \"ticks\": \"\"}}, \"type\": \"scatter\"}], \"scatter3d\": [{\"line\": {\"colorbar\": {\"outlinewidth\": 0, \"ticks\": \"\"}}, \"marker\": {\"colorbar\": {\"outlinewidth\": 0, \"ticks\": \"\"}}, \"type\": \"scatter3d\"}], \"scattercarpet\": [{\"marker\": {\"colorbar\": {\"outlinewidth\": 0, \"ticks\": \"\"}}, \"type\": \"scattercarpet\"}], \"scattergeo\": [{\"marker\": {\"colorbar\": {\"outlinewidth\": 0, \"ticks\": \"\"}}, \"type\": \"scattergeo\"}], \"scattergl\": [{\"marker\": {\"colorbar\": {\"outlinewidth\": 0, \"ticks\": \"\"}}, \"type\": \"scattergl\"}], \"scattermapbox\": [{\"marker\": {\"colorbar\": {\"outlinewidth\": 0, \"ticks\": \"\"}}, \"type\": \"scattermapbox\"}], \"scatterpolar\": [{\"marker\": {\"colorbar\": {\"outlinewidth\": 0, \"ticks\": \"\"}}, \"type\": \"scatterpolar\"}], \"scatterpolargl\": [{\"marker\": {\"colorbar\": {\"outlinewidth\": 0, \"ticks\": \"\"}}, \"type\": \"scatterpolargl\"}], \"scatterternary\": [{\"marker\": {\"colorbar\": {\"outlinewidth\": 0, \"ticks\": \"\"}}, \"type\": \"scatterternary\"}], \"surface\": [{\"colorbar\": {\"outlinewidth\": 0, \"ticks\": \"\"}, \"colorscale\": [[0.0, \"#0d0887\"], [0.1111111111111111, \"#46039f\"], [0.2222222222222222, \"#7201a8\"], [0.3333333333333333, \"#9c179e\"], [0.4444444444444444, \"#bd3786\"], [0.5555555555555556, \"#d8576b\"], [0.6666666666666666, \"#ed7953\"], [0.7777777777777778, \"#fb9f3a\"], [0.8888888888888888, \"#fdca26\"], [1.0, \"#f0f921\"]], \"type\": \"surface\"}], \"table\": [{\"cells\": {\"fill\": {\"color\": \"#EBF0F8\"}, \"line\": {\"color\": \"white\"}}, \"header\": {\"fill\": {\"color\": \"#C8D4E3\"}, \"line\": {\"color\": \"white\"}}, \"type\": \"table\"}]}, \"layout\": {\"annotationdefaults\": {\"arrowcolor\": \"#2a3f5f\", \"arrowhead\": 0, \"arrowwidth\": 1}, \"coloraxis\": {\"colorbar\": {\"outlinewidth\": 0, \"ticks\": \"\"}}, \"colorscale\": {\"diverging\": [[0, \"#8e0152\"], [0.1, \"#c51b7d\"], [0.2, \"#de77ae\"], [0.3, \"#f1b6da\"], [0.4, \"#fde0ef\"], [0.5, \"#f7f7f7\"], [0.6, \"#e6f5d0\"], [0.7, \"#b8e186\"], [0.8, \"#7fbc41\"], [0.9, \"#4d9221\"], [1, \"#276419\"]], \"sequential\": [[0.0, \"#0d0887\"], [0.1111111111111111, \"#46039f\"], [0.2222222222222222, \"#7201a8\"], [0.3333333333333333, \"#9c179e\"], [0.4444444444444444, \"#bd3786\"], [0.5555555555555556, \"#d8576b\"], [0.6666666666666666, \"#ed7953\"], [0.7777777777777778, \"#fb9f3a\"], [0.8888888888888888, \"#fdca26\"], [1.0, \"#f0f921\"]], \"sequentialminus\": [[0.0, \"#0d0887\"], [0.1111111111111111, \"#46039f\"], [0.2222222222222222, \"#7201a8\"], [0.3333333333333333, \"#9c179e\"], [0.4444444444444444, \"#bd3786\"], [0.5555555555555556, \"#d8576b\"], [0.6666666666666666, \"#ed7953\"], [0.7777777777777778, \"#fb9f3a\"], [0.8888888888888888, \"#fdca26\"], [1.0, \"#f0f921\"]]}, \"colorway\": [\"#636efa\", \"#EF553B\", \"#00cc96\", \"#ab63fa\", \"#FFA15A\", \"#19d3f3\", \"#FF6692\", \"#B6E880\", \"#FF97FF\", \"#FECB52\"], \"font\": {\"color\": \"#2a3f5f\"}, \"geo\": {\"bgcolor\": \"white\", \"lakecolor\": \"white\", \"landcolor\": \"#E5ECF6\", \"showlakes\": true, \"showland\": true, \"subunitcolor\": \"white\"}, \"hoverlabel\": {\"align\": \"left\"}, \"hovermode\": \"closest\", \"mapbox\": {\"style\": \"light\"}, \"paper_bgcolor\": \"white\", \"plot_bgcolor\": \"#E5ECF6\", \"polar\": {\"angularaxis\": {\"gridcolor\": \"white\", \"linecolor\": \"white\", \"ticks\": \"\"}, \"bgcolor\": \"#E5ECF6\", \"radialaxis\": {\"gridcolor\": \"white\", \"linecolor\": \"white\", \"ticks\": \"\"}}, \"scene\": {\"xaxis\": {\"backgroundcolor\": \"#E5ECF6\", \"gridcolor\": \"white\", \"gridwidth\": 2, \"linecolor\": \"white\", \"showbackground\": true, \"ticks\": \"\", \"zerolinecolor\": \"white\"}, \"yaxis\": {\"backgroundcolor\": \"#E5ECF6\", \"gridcolor\": \"white\", \"gridwidth\": 2, \"linecolor\": \"white\", \"showbackground\": true, \"ticks\": \"\", \"zerolinecolor\": \"white\"}, \"zaxis\": {\"backgroundcolor\": \"#E5ECF6\", \"gridcolor\": \"white\", \"gridwidth\": 2, \"linecolor\": \"white\", \"showbackground\": true, \"ticks\": \"\", \"zerolinecolor\": \"white\"}}, \"shapedefaults\": {\"line\": {\"color\": \"#2a3f5f\"}}, \"ternary\": {\"aaxis\": {\"gridcolor\": \"white\", \"linecolor\": \"white\", \"ticks\": \"\"}, \"baxis\": {\"gridcolor\": \"white\", \"linecolor\": \"white\", \"ticks\": \"\"}, \"bgcolor\": \"#E5ECF6\", \"caxis\": {\"gridcolor\": \"white\", \"linecolor\": \"white\", \"ticks\": \"\"}}, \"title\": {\"x\": 0.05}, \"xaxis\": {\"automargin\": true, \"gridcolor\": \"white\", \"linecolor\": \"white\", \"ticks\": \"\", \"title\": {\"standoff\": 15}, \"zerolinecolor\": \"white\", \"zerolinewidth\": 2}, \"yaxis\": {\"automargin\": true, \"gridcolor\": \"white\", \"linecolor\": \"white\", \"ticks\": \"\", \"title\": {\"standoff\": 15}, \"zerolinecolor\": \"white\", \"zerolinewidth\": 2}}}, \"title\": {\"text\": \"IOTA Candelstick Chart\", \"x\": 0.5, \"xanchor\": \"center\", \"y\": 0.9, \"yanchor\": \"top\"}, \"xaxis\": {\"rangeslider\": {\"visible\": false}, \"title\": {\"text\": \"Time\"}}, \"yaxis\": {\"ticksuffix\": \"$\", \"title\": {\"text\": \"Price in USD\"}}},\n",
              "                        {\"responsive\": true}\n",
              "                    ).then(function(){\n",
              "                            \n",
              "var gd = document.getElementById('c378964e-f881-46c6-842d-9714ce497f98');\n",
              "var x = new MutationObserver(function (mutations, observer) {{\n",
              "        var display = window.getComputedStyle(gd).display;\n",
              "        if (!display || display === 'none') {{\n",
              "            console.log([gd, 'removed!']);\n",
              "            Plotly.purge(gd);\n",
              "            observer.disconnect();\n",
              "        }}\n",
              "}});\n",
              "\n",
              "// Listen for the removal of the full notebook cells\n",
              "var notebookContainer = gd.closest('#notebook-container');\n",
              "if (notebookContainer) {{\n",
              "    x.observe(notebookContainer, {childList: true});\n",
              "}}\n",
              "\n",
              "// Listen for the clearing of the current output cell\n",
              "var outputEl = gd.closest('.output');\n",
              "if (outputEl) {{\n",
              "    x.observe(outputEl, {childList: true});\n",
              "}}\n",
              "\n",
              "                        })\n",
              "                };\n",
              "                \n",
              "            </script>\n",
              "        </div>\n",
              "</body>\n",
              "</html>"
            ]
          },
          "metadata": {}
        }
      ]
    },
    {
      "cell_type": "markdown",
      "metadata": {
        "id": "763e57a2"
      },
      "source": [
        "- Litecoin"
      ],
      "id": "763e57a2"
    },
    {
      "cell_type": "code",
      "metadata": {
        "colab": {
          "base_uri": "https://localhost:8080/",
          "height": 542
        },
        "id": "20c4edb8",
        "outputId": "f171b739-a7a4-4b4d-d2fb-dd9e5a80332d"
      },
      "source": [
        "litecoin_plot = candelstick_chart(litecoin[-120:], title=\"Litecoin\")\n",
        "litecoin_plot.show()"
      ],
      "id": "20c4edb8",
      "execution_count": 22,
      "outputs": [
        {
          "output_type": "display_data",
          "data": {
            "text/html": [
              "<html>\n",
              "<head><meta charset=\"utf-8\" /></head>\n",
              "<body>\n",
              "    <div>\n",
              "            <script src=\"https://cdnjs.cloudflare.com/ajax/libs/mathjax/2.7.5/MathJax.js?config=TeX-AMS-MML_SVG\"></script><script type=\"text/javascript\">if (window.MathJax) {MathJax.Hub.Config({SVG: {font: \"STIX-Web\"}});}</script>\n",
              "                <script type=\"text/javascript\">window.PlotlyConfig = {MathJaxConfig: 'local'};</script>\n",
              "        <script src=\"https://cdn.plot.ly/plotly-latest.min.js\"></script>    \n",
              "            <div id=\"5bf32dff-07d2-45ad-8eac-3220a92317df\" class=\"plotly-graph-div\" style=\"height:525px; width:100%;\"></div>\n",
              "            <script type=\"text/javascript\">\n",
              "                \n",
              "                    window.PLOTLYENV=window.PLOTLYENV || {};\n",
              "                    \n",
              "                if (document.getElementById(\"5bf32dff-07d2-45ad-8eac-3220a92317df\")) {\n",
              "                    Plotly.newPlot(\n",
              "                        '5bf32dff-07d2-45ad-8eac-3220a92317df',\n",
              "                        [{\"close\": [159.72757142857142, 159.86616666666666, 159.8958, 159.64833333333334, 159.597, 159.76314285714287, 159.8888333333333, 159.7164285714286, 159.6435, 159.64333333333337, 159.67399999999995, 159.53485714285713, 159.28133333333332, 158.9911666666667, 159.05599999999995, 159.23483333333334, 159.23716666666667, 159.1535, 159.38085714285714, 159.55571428571423, 159.26185714285708, 159.43414285714286, 159.74233333333333, 159.86366666666666, 159.88733333333334, 160.03471428571427, 160.21857142857144, 160.04728571428572, 160.17119999999997, 160.39, 160.41099999999997, 160.49714285714285, 160.93371428571433, 161.13157142857145, 161.1225, 161.11185714285713, 160.80214285714285, 160.88571428571427, 161.07483333333332, 161.0265, 160.9971666666667, 160.9285, 160.78757142857143, 160.66571428571427, 160.59116666666668, 160.63485714285713, 160.59116666666668, 160.5285714285714, 160.4782, 160.5132, 160.59028571428573, 160.69120000000004, 160.6954, 160.6108, 160.5072, 160.55300000000003, 160.40728571428568, 160.34285714285716, 160.20183333333333, 159.96585714285715, 159.72914285714282, 159.56950000000003, 159.36883333333333, 159.29983333333334, 158.97833333333338, 158.52457142857142, 158.374, 158.2312857142857, 158.05714285714285, 157.509, 157.72542857142858, 157.70828571428567, 158.04771428571433, 158.09799999999996, 158.19499999999996, 158.3205714285714, 158.3335, 158.8675714285714, 159.2482857142857, 159.179, 158.29271428571428, 157.95428571428567, 157.9081666666667, 157.622, 157.20728571428572, 156.98685714285713, 156.76885714285714, 156.56457142857144, 156.46771428571432, 157.355, 156.92171428571427, 156.9572857142857, 157.03483333333338, 156.981, 156.70283333333333, 156.53471428571427, 156.06671428571426, 156.30171428571433, 155.98114285714286, 155.80300000000003, 155.61342857142856, 155.80785714285713, 155.971, 155.63357142857143, 155.61383333333333, 155.27485714285714, 155.47885714285715, 155.47657142857142, 155.91466666666668, 155.98757142857144, 156.3142857142857, 156.5135, 156.50414285714285, 156.53300000000004, 156.03614285714283, 156.20785714285714, 156.56833333333333, 156.5424285714286, 156.49880000000005, 156.07566666666662], \"high\": [159.82, 160.01, 160.0, 159.99, 159.77, 159.93, 159.97, 159.95, 159.79, 159.8, 159.75, 159.77, 159.6, 159.31, 159.16, 159.32, 159.42, 159.32, 159.48, 159.73, 159.67, 159.51, 159.87, 159.94, 160.02, 160.18, 160.34, 160.3, 160.26, 160.69, 160.67, 160.63, 161.01, 161.23, 161.27, 161.3, 161.31, 160.99, 161.15, 161.15, 161.05, 161.1, 161.03, 160.88, 160.76, 160.7, 160.73, 160.66, 160.64, 160.6, 160.72, 160.71, 160.82, 160.79, 160.7, 160.66, 160.61, 160.61, 160.4, 160.28, 160.02, 159.73, 159.63, 159.6, 159.33, 159.12, 158.76, 158.55, 158.49, 158.04, 158.02, 158.07, 158.3, 158.2, 158.28, 158.41, 158.43, 159.1, 159.4, 159.52, 159.22, 158.56, 158.33, 157.94, 157.85, 157.3, 157.05, 156.9, 156.8, 157.65, 157.7, 157.3, 157.51, 157.25, 157.1, 156.77, 156.6, 156.47, 156.4, 156.1, 156.0, 156.2, 156.12, 156.27, 155.75, 156.006, 155.72, 155.71, 156.06, 156.48, 156.65, 156.72, 156.73, 156.86, 156.76, 156.31, 156.71, 156.73, 156.75, 156.62], \"low\": [159.35, 159.63, 159.8, 159.6, 159.5, 159.5, 159.7, 159.585, 159.591, 159.6, 159.59, 159.4, 159.12, 158.9, 158.9, 159.0, 159.1, 159.07, 159.1, 159.3, 159.2, 159.1, 159.4, 159.65, 159.73, 159.89, 159.98, 159.987, 160.02, 159.96, 160.1, 160.388, 160.4, 160.7, 160.9, 160.9, 160.6, 160.7, 160.8, 160.9, 160.9, 160.8, 160.7, 160.5, 160.5, 160.49, 160.49, 160.1, 160.3, 160.4, 160.4, 160.4, 160.583, 160.56, 160.4, 160.3, 160.3, 160.188, 160.1, 159.8, 159.61, 159.4, 159.3, 159.2, 158.856, 158.4, 158.3, 158.1, 157.9, 157.2, 157.4, 157.48, 157.38, 157.681, 157.8, 157.48, 158.09, 158.23, 158.51, 159.0, 158.025, 157.75, 157.66, 157.5, 157.09, 156.872, 156.57, 156.33, 156.29, 156.39, 156.757, 156.4, 156.76, 156.72, 156.6, 156.3, 155.81, 155.9, 155.6, 155.7, 155.4, 155.49, 155.48, 155.47, 155.44, 155.2, 155.26, 155.29, 155.35, 155.8, 155.88, 156.2, 156.35, 156.42, 155.8, 155.84, 156.18, 156.24, 156.33, 156.0], \"open\": [159.52771428571432, 159.77466666666666, 159.9078, 159.84816666666669, 159.653, 159.61242857142858, 159.8035, 159.90414285714286, 159.68300000000005, 159.67316666666667, 159.657, 159.63814285714287, 159.51766666666668, 159.2195, 158.9844, 159.09616666666668, 159.29466666666667, 159.2405, 159.21585714285715, 159.431, 159.52700000000004, 159.2372857142857, 159.5545, 159.79, 159.88299999999995, 159.93914285714285, 160.06742857142856, 160.18957142857144, 160.1098, 160.06899999999996, 160.3145, 160.47371428571432, 160.52800000000005, 160.93628571428567, 161.1685, 161.17571428571424, 161.13185714285714, 160.84171428571432, 160.95766666666668, 161.07033333333334, 160.9815, 161.03533333333334, 160.91899999999995, 160.76642857142858, 160.62366666666668, 160.58057142857143, 160.65533333333332, 160.58957142857142, 160.5356, 160.48180000000005, 160.55714285714288, 160.59539999999996, 160.7048, 160.67379999999997, 160.59859999999995, 160.45328571428573, 160.53557142857144, 160.41914285714284, 160.29366666666667, 160.16857142857143, 159.91785714285714, 159.6266666666667, 159.56783333333337, 159.37550000000005, 159.24116666666666, 159.00157142857142, 158.55842857142858, 158.372, 158.23471428571432, 157.94799999999995, 157.54642857142858, 157.80157142857144, 157.75314285714288, 157.9328, 158.06183333333334, 158.21428571428572, 158.33666666666667, 158.3565714285714, 158.843, 159.32771428571428, 159.10600000000005, 158.21099999999996, 157.99733333333333, 157.84966666666662, 157.49171428571432, 157.16899999999995, 156.9048571428572, 156.7718571428571, 156.60885714285715, 156.61283333333338, 157.36999999999995, 156.78328571428568, 157.16166666666666, 156.88816666666662, 156.99, 156.64671428571432, 156.43385714285714, 156.07842857142856, 156.25057142857142, 155.93700000000004, 155.78400000000005, 155.71514285714284, 155.79471428571432, 155.9784285714286, 155.64766666666662, 155.70314285714286, 155.37257142857146, 155.42642857142857, 155.54383333333334, 155.99328571428572, 156.06871428571432, 156.33716666666666, 156.54157142857142, 156.51716666666667, 156.55185714285713, 156.029, 156.25383333333332, 156.56314285714285, 156.6542, 156.50199999999995], \"type\": \"candlestick\", \"x\": [\"2021-09-20T21:45:00\", \"2021-09-20T21:46:00\", \"2021-09-20T21:47:00\", \"2021-09-20T21:48:00\", \"2021-09-20T21:49:00\", \"2021-09-20T21:50:00\", \"2021-09-20T21:51:00\", \"2021-09-20T21:52:00\", \"2021-09-20T21:53:00\", \"2021-09-20T21:54:00\", \"2021-09-20T21:55:00\", \"2021-09-20T21:56:00\", \"2021-09-20T21:57:00\", \"2021-09-20T21:58:00\", \"2021-09-20T21:59:00\", \"2021-09-20T22:00:00\", \"2021-09-20T22:01:00\", \"2021-09-20T22:02:00\", \"2021-09-20T22:03:00\", \"2021-09-20T22:04:00\", \"2021-09-20T22:05:00\", \"2021-09-20T22:06:00\", \"2021-09-20T22:07:00\", \"2021-09-20T22:08:00\", \"2021-09-20T22:09:00\", \"2021-09-20T22:10:00\", \"2021-09-20T22:11:00\", \"2021-09-20T22:12:00\", \"2021-09-20T22:13:00\", \"2021-09-20T22:14:00\", \"2021-09-20T22:15:00\", \"2021-09-20T22:16:00\", \"2021-09-20T22:17:00\", \"2021-09-20T22:18:00\", \"2021-09-20T22:19:00\", \"2021-09-20T22:20:00\", \"2021-09-20T22:21:00\", \"2021-09-20T22:22:00\", \"2021-09-20T22:23:00\", \"2021-09-20T22:24:00\", \"2021-09-20T22:25:00\", \"2021-09-20T22:26:00\", \"2021-09-20T22:27:00\", \"2021-09-20T22:28:00\", \"2021-09-20T22:29:00\", \"2021-09-20T22:30:00\", \"2021-09-20T22:31:00\", \"2021-09-20T22:32:00\", \"2021-09-20T22:33:00\", \"2021-09-20T22:34:00\", \"2021-09-20T22:35:00\", \"2021-09-20T22:36:00\", \"2021-09-20T22:37:00\", \"2021-09-20T22:38:00\", \"2021-09-20T22:39:00\", \"2021-09-20T22:40:00\", \"2021-09-20T22:41:00\", \"2021-09-20T22:42:00\", \"2021-09-20T22:43:00\", \"2021-09-20T22:44:00\", \"2021-09-20T22:45:00\", \"2021-09-20T22:46:00\", \"2021-09-20T22:47:00\", \"2021-09-20T22:48:00\", \"2021-09-20T22:49:00\", \"2021-09-20T22:50:00\", \"2021-09-20T22:51:00\", \"2021-09-20T22:52:00\", \"2021-09-20T22:53:00\", \"2021-09-20T22:54:00\", \"2021-09-20T22:55:00\", \"2021-09-20T22:56:00\", \"2021-09-20T22:57:00\", \"2021-09-20T22:58:00\", \"2021-09-20T22:59:00\", \"2021-09-20T23:00:00\", \"2021-09-20T23:01:00\", \"2021-09-20T23:02:00\", \"2021-09-20T23:03:00\", \"2021-09-20T23:04:00\", \"2021-09-20T23:05:00\", \"2021-09-20T23:06:00\", \"2021-09-20T23:07:00\", \"2021-09-20T23:08:00\", \"2021-09-20T23:09:00\", \"2021-09-20T23:10:00\", \"2021-09-20T23:11:00\", \"2021-09-20T23:12:00\", \"2021-09-20T23:13:00\", \"2021-09-20T23:14:00\", \"2021-09-20T23:15:00\", \"2021-09-20T23:16:00\", \"2021-09-20T23:17:00\", \"2021-09-20T23:18:00\", \"2021-09-20T23:19:00\", \"2021-09-20T23:20:00\", \"2021-09-20T23:21:00\", \"2021-09-20T23:22:00\", \"2021-09-20T23:23:00\", \"2021-09-20T23:24:00\", \"2021-09-20T23:25:00\", \"2021-09-20T23:26:00\", \"2021-09-20T23:27:00\", \"2021-09-20T23:28:00\", \"2021-09-20T23:29:00\", \"2021-09-20T23:30:00\", \"2021-09-20T23:31:00\", \"2021-09-20T23:32:00\", \"2021-09-20T23:33:00\", \"2021-09-20T23:34:00\", \"2021-09-20T23:35:00\", \"2021-09-20T23:36:00\", \"2021-09-20T23:37:00\", \"2021-09-20T23:38:00\", \"2021-09-20T23:39:00\", \"2021-09-20T23:40:00\", \"2021-09-20T23:41:00\", \"2021-09-20T23:42:00\", \"2021-09-20T23:43:00\", \"2021-09-20T23:44:00\"]}],\n",
              "                        {\"template\": {\"data\": {\"bar\": [{\"error_x\": {\"color\": \"#2a3f5f\"}, \"error_y\": {\"color\": \"#2a3f5f\"}, \"marker\": {\"line\": {\"color\": \"#E5ECF6\", \"width\": 0.5}}, \"type\": \"bar\"}], \"barpolar\": [{\"marker\": {\"line\": {\"color\": \"#E5ECF6\", \"width\": 0.5}}, \"type\": \"barpolar\"}], \"carpet\": [{\"aaxis\": {\"endlinecolor\": \"#2a3f5f\", \"gridcolor\": \"white\", \"linecolor\": \"white\", \"minorgridcolor\": \"white\", \"startlinecolor\": \"#2a3f5f\"}, \"baxis\": {\"endlinecolor\": \"#2a3f5f\", \"gridcolor\": \"white\", \"linecolor\": \"white\", \"minorgridcolor\": \"white\", \"startlinecolor\": \"#2a3f5f\"}, \"type\": \"carpet\"}], \"choropleth\": [{\"colorbar\": {\"outlinewidth\": 0, \"ticks\": \"\"}, \"type\": \"choropleth\"}], \"contour\": [{\"colorbar\": {\"outlinewidth\": 0, \"ticks\": \"\"}, \"colorscale\": [[0.0, \"#0d0887\"], [0.1111111111111111, \"#46039f\"], [0.2222222222222222, \"#7201a8\"], [0.3333333333333333, \"#9c179e\"], [0.4444444444444444, \"#bd3786\"], [0.5555555555555556, \"#d8576b\"], [0.6666666666666666, \"#ed7953\"], [0.7777777777777778, \"#fb9f3a\"], [0.8888888888888888, \"#fdca26\"], [1.0, \"#f0f921\"]], \"type\": \"contour\"}], \"contourcarpet\": [{\"colorbar\": {\"outlinewidth\": 0, \"ticks\": \"\"}, \"type\": \"contourcarpet\"}], \"heatmap\": [{\"colorbar\": {\"outlinewidth\": 0, \"ticks\": \"\"}, \"colorscale\": [[0.0, \"#0d0887\"], [0.1111111111111111, \"#46039f\"], [0.2222222222222222, \"#7201a8\"], [0.3333333333333333, \"#9c179e\"], [0.4444444444444444, \"#bd3786\"], [0.5555555555555556, \"#d8576b\"], [0.6666666666666666, \"#ed7953\"], [0.7777777777777778, \"#fb9f3a\"], [0.8888888888888888, \"#fdca26\"], [1.0, \"#f0f921\"]], \"type\": \"heatmap\"}], \"heatmapgl\": [{\"colorbar\": {\"outlinewidth\": 0, \"ticks\": \"\"}, \"colorscale\": [[0.0, \"#0d0887\"], [0.1111111111111111, \"#46039f\"], [0.2222222222222222, \"#7201a8\"], [0.3333333333333333, \"#9c179e\"], [0.4444444444444444, \"#bd3786\"], [0.5555555555555556, \"#d8576b\"], [0.6666666666666666, \"#ed7953\"], [0.7777777777777778, \"#fb9f3a\"], [0.8888888888888888, \"#fdca26\"], [1.0, \"#f0f921\"]], \"type\": \"heatmapgl\"}], \"histogram\": [{\"marker\": {\"colorbar\": {\"outlinewidth\": 0, \"ticks\": \"\"}}, \"type\": \"histogram\"}], \"histogram2d\": [{\"colorbar\": {\"outlinewidth\": 0, \"ticks\": \"\"}, \"colorscale\": [[0.0, \"#0d0887\"], [0.1111111111111111, \"#46039f\"], [0.2222222222222222, \"#7201a8\"], [0.3333333333333333, \"#9c179e\"], [0.4444444444444444, \"#bd3786\"], [0.5555555555555556, \"#d8576b\"], [0.6666666666666666, \"#ed7953\"], [0.7777777777777778, \"#fb9f3a\"], [0.8888888888888888, \"#fdca26\"], [1.0, \"#f0f921\"]], \"type\": \"histogram2d\"}], \"histogram2dcontour\": [{\"colorbar\": {\"outlinewidth\": 0, \"ticks\": \"\"}, \"colorscale\": [[0.0, \"#0d0887\"], [0.1111111111111111, \"#46039f\"], [0.2222222222222222, \"#7201a8\"], [0.3333333333333333, \"#9c179e\"], [0.4444444444444444, \"#bd3786\"], [0.5555555555555556, \"#d8576b\"], [0.6666666666666666, \"#ed7953\"], [0.7777777777777778, \"#fb9f3a\"], [0.8888888888888888, \"#fdca26\"], [1.0, \"#f0f921\"]], \"type\": \"histogram2dcontour\"}], \"mesh3d\": [{\"colorbar\": {\"outlinewidth\": 0, \"ticks\": \"\"}, \"type\": \"mesh3d\"}], \"parcoords\": [{\"line\": {\"colorbar\": {\"outlinewidth\": 0, \"ticks\": \"\"}}, \"type\": \"parcoords\"}], \"pie\": [{\"automargin\": true, \"type\": \"pie\"}], \"scatter\": [{\"marker\": {\"colorbar\": {\"outlinewidth\": 0, \"ticks\": \"\"}}, \"type\": \"scatter\"}], \"scatter3d\": [{\"line\": {\"colorbar\": {\"outlinewidth\": 0, \"ticks\": \"\"}}, \"marker\": {\"colorbar\": {\"outlinewidth\": 0, \"ticks\": \"\"}}, \"type\": \"scatter3d\"}], \"scattercarpet\": [{\"marker\": {\"colorbar\": {\"outlinewidth\": 0, \"ticks\": \"\"}}, \"type\": \"scattercarpet\"}], \"scattergeo\": [{\"marker\": {\"colorbar\": {\"outlinewidth\": 0, \"ticks\": \"\"}}, \"type\": \"scattergeo\"}], \"scattergl\": [{\"marker\": {\"colorbar\": {\"outlinewidth\": 0, \"ticks\": \"\"}}, \"type\": \"scattergl\"}], \"scattermapbox\": [{\"marker\": {\"colorbar\": {\"outlinewidth\": 0, \"ticks\": \"\"}}, \"type\": \"scattermapbox\"}], \"scatterpolar\": [{\"marker\": {\"colorbar\": {\"outlinewidth\": 0, \"ticks\": \"\"}}, \"type\": \"scatterpolar\"}], \"scatterpolargl\": [{\"marker\": {\"colorbar\": {\"outlinewidth\": 0, \"ticks\": \"\"}}, \"type\": \"scatterpolargl\"}], \"scatterternary\": [{\"marker\": {\"colorbar\": {\"outlinewidth\": 0, \"ticks\": \"\"}}, \"type\": \"scatterternary\"}], \"surface\": [{\"colorbar\": {\"outlinewidth\": 0, \"ticks\": \"\"}, \"colorscale\": [[0.0, \"#0d0887\"], [0.1111111111111111, \"#46039f\"], [0.2222222222222222, \"#7201a8\"], [0.3333333333333333, \"#9c179e\"], [0.4444444444444444, \"#bd3786\"], [0.5555555555555556, \"#d8576b\"], [0.6666666666666666, \"#ed7953\"], [0.7777777777777778, \"#fb9f3a\"], [0.8888888888888888, \"#fdca26\"], [1.0, \"#f0f921\"]], \"type\": \"surface\"}], \"table\": [{\"cells\": {\"fill\": {\"color\": \"#EBF0F8\"}, \"line\": {\"color\": \"white\"}}, \"header\": {\"fill\": {\"color\": \"#C8D4E3\"}, \"line\": {\"color\": \"white\"}}, \"type\": \"table\"}]}, \"layout\": {\"annotationdefaults\": {\"arrowcolor\": \"#2a3f5f\", \"arrowhead\": 0, \"arrowwidth\": 1}, \"coloraxis\": {\"colorbar\": {\"outlinewidth\": 0, \"ticks\": \"\"}}, \"colorscale\": {\"diverging\": [[0, \"#8e0152\"], [0.1, \"#c51b7d\"], [0.2, \"#de77ae\"], [0.3, \"#f1b6da\"], [0.4, \"#fde0ef\"], [0.5, \"#f7f7f7\"], [0.6, \"#e6f5d0\"], [0.7, \"#b8e186\"], [0.8, \"#7fbc41\"], [0.9, \"#4d9221\"], [1, \"#276419\"]], \"sequential\": [[0.0, \"#0d0887\"], [0.1111111111111111, \"#46039f\"], [0.2222222222222222, \"#7201a8\"], [0.3333333333333333, \"#9c179e\"], [0.4444444444444444, \"#bd3786\"], [0.5555555555555556, \"#d8576b\"], [0.6666666666666666, \"#ed7953\"], [0.7777777777777778, \"#fb9f3a\"], [0.8888888888888888, \"#fdca26\"], [1.0, \"#f0f921\"]], \"sequentialminus\": [[0.0, \"#0d0887\"], [0.1111111111111111, \"#46039f\"], [0.2222222222222222, \"#7201a8\"], [0.3333333333333333, \"#9c179e\"], [0.4444444444444444, \"#bd3786\"], [0.5555555555555556, \"#d8576b\"], [0.6666666666666666, \"#ed7953\"], [0.7777777777777778, \"#fb9f3a\"], [0.8888888888888888, \"#fdca26\"], [1.0, \"#f0f921\"]]}, \"colorway\": [\"#636efa\", \"#EF553B\", \"#00cc96\", \"#ab63fa\", \"#FFA15A\", \"#19d3f3\", \"#FF6692\", \"#B6E880\", \"#FF97FF\", \"#FECB52\"], \"font\": {\"color\": \"#2a3f5f\"}, \"geo\": {\"bgcolor\": \"white\", \"lakecolor\": \"white\", \"landcolor\": \"#E5ECF6\", \"showlakes\": true, \"showland\": true, \"subunitcolor\": \"white\"}, \"hoverlabel\": {\"align\": \"left\"}, \"hovermode\": \"closest\", \"mapbox\": {\"style\": \"light\"}, \"paper_bgcolor\": \"white\", \"plot_bgcolor\": \"#E5ECF6\", \"polar\": {\"angularaxis\": {\"gridcolor\": \"white\", \"linecolor\": \"white\", \"ticks\": \"\"}, \"bgcolor\": \"#E5ECF6\", \"radialaxis\": {\"gridcolor\": \"white\", \"linecolor\": \"white\", \"ticks\": \"\"}}, \"scene\": {\"xaxis\": {\"backgroundcolor\": \"#E5ECF6\", \"gridcolor\": \"white\", \"gridwidth\": 2, \"linecolor\": \"white\", \"showbackground\": true, \"ticks\": \"\", \"zerolinecolor\": \"white\"}, \"yaxis\": {\"backgroundcolor\": \"#E5ECF6\", \"gridcolor\": \"white\", \"gridwidth\": 2, \"linecolor\": \"white\", \"showbackground\": true, \"ticks\": \"\", \"zerolinecolor\": \"white\"}, \"zaxis\": {\"backgroundcolor\": \"#E5ECF6\", \"gridcolor\": \"white\", \"gridwidth\": 2, \"linecolor\": \"white\", \"showbackground\": true, \"ticks\": \"\", \"zerolinecolor\": \"white\"}}, \"shapedefaults\": {\"line\": {\"color\": \"#2a3f5f\"}}, \"ternary\": {\"aaxis\": {\"gridcolor\": \"white\", \"linecolor\": \"white\", \"ticks\": \"\"}, \"baxis\": {\"gridcolor\": \"white\", \"linecolor\": \"white\", \"ticks\": \"\"}, \"bgcolor\": \"#E5ECF6\", \"caxis\": {\"gridcolor\": \"white\", \"linecolor\": \"white\", \"ticks\": \"\"}}, \"title\": {\"x\": 0.05}, \"xaxis\": {\"automargin\": true, \"gridcolor\": \"white\", \"linecolor\": \"white\", \"ticks\": \"\", \"title\": {\"standoff\": 15}, \"zerolinecolor\": \"white\", \"zerolinewidth\": 2}, \"yaxis\": {\"automargin\": true, \"gridcolor\": \"white\", \"linecolor\": \"white\", \"ticks\": \"\", \"title\": {\"standoff\": 15}, \"zerolinecolor\": \"white\", \"zerolinewidth\": 2}}}, \"title\": {\"text\": \"Litecoin Candelstick Chart\", \"x\": 0.5, \"xanchor\": \"center\", \"y\": 0.9, \"yanchor\": \"top\"}, \"xaxis\": {\"rangeslider\": {\"visible\": false}, \"title\": {\"text\": \"Time\"}}, \"yaxis\": {\"ticksuffix\": \"$\", \"title\": {\"text\": \"Price in USD\"}}},\n",
              "                        {\"responsive\": true}\n",
              "                    ).then(function(){\n",
              "                            \n",
              "var gd = document.getElementById('5bf32dff-07d2-45ad-8eac-3220a92317df');\n",
              "var x = new MutationObserver(function (mutations, observer) {{\n",
              "        var display = window.getComputedStyle(gd).display;\n",
              "        if (!display || display === 'none') {{\n",
              "            console.log([gd, 'removed!']);\n",
              "            Plotly.purge(gd);\n",
              "            observer.disconnect();\n",
              "        }}\n",
              "}});\n",
              "\n",
              "// Listen for the removal of the full notebook cells\n",
              "var notebookContainer = gd.closest('#notebook-container');\n",
              "if (notebookContainer) {{\n",
              "    x.observe(notebookContainer, {childList: true});\n",
              "}}\n",
              "\n",
              "// Listen for the clearing of the current output cell\n",
              "var outputEl = gd.closest('.output');\n",
              "if (outputEl) {{\n",
              "    x.observe(outputEl, {childList: true});\n",
              "}}\n",
              "\n",
              "                        })\n",
              "                };\n",
              "                \n",
              "            </script>\n",
              "        </div>\n",
              "</body>\n",
              "</html>"
            ]
          },
          "metadata": {}
        }
      ]
    },
    {
      "cell_type": "markdown",
      "metadata": {
        "id": "95d9b8d3"
      },
      "source": [
        "- Maker"
      ],
      "id": "95d9b8d3"
    },
    {
      "cell_type": "code",
      "metadata": {
        "colab": {
          "base_uri": "https://localhost:8080/",
          "height": 542
        },
        "id": "d4386761",
        "outputId": "aab6b692-c175-441d-ef0b-f63f1e1e5e41"
      },
      "source": [
        "maker_plot = candelstick_chart(maker[-120:], title=\"Maker\")\n",
        "maker_plot.show()"
      ],
      "id": "d4386761",
      "execution_count": 23,
      "outputs": [
        {
          "output_type": "display_data",
          "data": {
            "text/html": [
              "<html>\n",
              "<head><meta charset=\"utf-8\" /></head>\n",
              "<body>\n",
              "    <div>\n",
              "            <script src=\"https://cdnjs.cloudflare.com/ajax/libs/mathjax/2.7.5/MathJax.js?config=TeX-AMS-MML_SVG\"></script><script type=\"text/javascript\">if (window.MathJax) {MathJax.Hub.Config({SVG: {font: \"STIX-Web\"}});}</script>\n",
              "                <script type=\"text/javascript\">window.PlotlyConfig = {MathJaxConfig: 'local'};</script>\n",
              "        <script src=\"https://cdn.plot.ly/plotly-latest.min.js\"></script>    \n",
              "            <div id=\"7d15c51c-b3c5-474d-ac7b-aed455f1df72\" class=\"plotly-graph-div\" style=\"height:525px; width:100%;\"></div>\n",
              "            <script type=\"text/javascript\">\n",
              "                \n",
              "                    window.PLOTLYENV=window.PLOTLYENV || {};\n",
              "                    \n",
              "                if (document.getElementById(\"7d15c51c-b3c5-474d-ac7b-aed455f1df72\")) {\n",
              "                    Plotly.newPlot(\n",
              "                        '7d15c51c-b3c5-474d-ac7b-aed455f1df72',\n",
              "                        [{\"close\": [2483.7626666666665, 2483.8429333333333, 2483.2988, 2483.733666666667, 2480.865666666667, 2481.291733333333, 2480.76325, 2481.081533333333, 2478.8554666666664, 2479.6535333333336, 2475.38865, 2471.1575000000007, 2466.9675, 2464.5921, 2463.193333333333, 2473.52625, 2477.60845, 2472.06565, 2475.3428, 2482.006033333333, 2480.3022, 2478.0169, 2479.6, 2485.2564, 2488.1619, 2490.5125, 2491.315, 2491.6025, 2490.7472666666667, 2493.054525, 2494.395525, 2496.519275, 2500.492475, 2501.170533333333, 2499.372075, 2504.67415, 2500.86132, 2501.62395, 2503.468, 2503.6981333333333, 2508.61125, 2508.327275, 2506.8740666666667, 2502.997825, 2503.12615, 2500.905, 2501.4098666666664, 2499.83905, 2499.9927, 2500.4764749999995, 2500.8722, 2500.7110666666667, 2501.58275, 2499.9897, 2498.447533333333, 2495.85695, 2492.5, 2489.224, 2485.15525, 2475.385, 2470.391125, 2467.8478, 2461.8824, 2453.279875, 2446.03955, 2437.0138, 2433.95165, 2430.52095, 2426.443, 2415.68385, 2426.08818, 2427.9999, 2433.1893250000007, 2434.5972, 2435.266625, 2439.285325, 2438.04595, 2449.4630500000007, 2454.0433, 2447.404, 2424.788825, 2424.202750000001, 2427.31415, 2424.813, 2415.6015, 2413.6491, 2410.307025, 2407.97732, 2407.2855, 2419.7644, 2411.0287000000008, 2415.04845, 2410.57235, 2410.009666666667, 2408.0809000000004, 2403.151533333333, 2403.06532, 2407.27685, 2401.40486, 2401.18385, 2399.353133333333, 2405.98135, 2408.8405, 2408.375, 2406.9627333333333, 2406.737, 2406.9926, 2406.652, 2412.761925, 2418.8909, 2421.88195, 2423.1762, 2421.4725, 2421.934025, 2413.42, 2417.426650000001, 2423.38875, 2421.93265, 2421.097866666667, 2414.0696666666668], \"high\": [2484.87, 2484.96, 2484.0, 2484.01, 2483.52, 2482.09, 2482.0, 2481.61, 2481.6, 2480.0, 2479.0, 2475.36, 2470.41, 2466.0, 2464.0, 2477.0, 2480.84, 2477.0, 2478.0, 2483.0, 2484.0, 2478.1648, 2481.0, 2487.0, 2490.0, 2491.82, 2492.64, 2493.69, 2492.0, 2501.18, 2497.89, 2498.0, 2503.0, 2503.04, 2502.0, 2508.31, 2508.48, 2503.01, 2505.3326, 2507.0, 2510.04, 2511.04, 2508.48, 2506.0, 2503.8, 2502.0, 2502.0, 2502.0, 2502.25, 2501.2, 2502.0, 2501.0, 2503.166, 2502.0, 2500.0, 2497.0, 2495.0, 2493.0, 2488.52, 2485.0, 2481.6688, 2471.5467, 2469.5119, 2464.4779, 2453.509, 2451.53, 2443.33, 2438.0, 2436.0, 2426.0, 2434.81, 2432.0, 2435.0, 2438.8667, 2437.3018, 2440.5613, 2439.9996, 2452.0, 2456.9822, 2456.0, 2446.9336, 2431.42, 2432.22, 2426.0, 2425.9608, 2416.46, 2415.0, 2412.7, 2412.0, 2423.96, 2424.2854, 2416.0, 2417.3082, 2414.0, 2414.0, 2408.01, 2405.55, 2409.0, 2408.55, 2404.5352, 2405.0, 2411.0, 2411.3015, 2412.66, 2409.0726, 2411.7629, 2409.2392, 2409.83, 2414.72, 2422.6572, 2425.3, 2425.683, 2426.2, 2423.38, 2424.48, 2420.7, 2424.59, 2424.0, 2426.027, 2421.0], \"low\": [2479.9970000000008, 2482.0, 2482.8196, 2482.8196, 2479.49, 2479.3217, 2479.5265, 2480.6446, 2478.3664, 2478.3676, 2474.6546, 2470.0, 2466.0, 2463.84, 2463.0, 2463.0, 2474.8738, 2471.0, 2471.0, 2478.8567, 2478.0, 2476.515, 2479.0, 2483.7792, 2485.1904, 2488.22, 2490.0, 2489.5183, 2489.4299, 2489.3184, 2489.0, 2494.1806, 2495.7972, 2498.0, 2497.7388, 2498.4337, 2496.51, 2498.5353, 2500.1072, 2501.9308, 2502.954, 2505.2091, 2505.0838, 2501.6313, 2499.6546, 2499.36, 2498.7872, 2495.0, 2498.3214, 2498.8059, 2499.3098, 2499.0, 2499.6577, 2499.9691, 2498.0, 2494.137, 2492.0, 2488.0, 2483.987, 2472.0, 2465.0, 2467.0, 2460.0, 2445.69, 2444.0, 2432.9976, 2427.5299, 2427.6204, 2421.54, 2412.14, 2416.77, 2419.9753, 2421.0, 2426.0, 2429.0, 2434.0, 2434.0, 2439.4563, 2448.0, 2445.016, 2423.8953, 2421.12, 2423.0, 2422.689, 2413.196, 2409.4919, 2407.7025, 2403.2039, 2405.8520000000008, 2406.0788, 2410.73, 2402.47, 2409.3952, 2406.0, 2406.8442, 2401.0, 2396.3823, 2401.0, 2397.4053, 2399.0, 2397.0, 2399.0, 2402.0, 2404.0, 2405.351, 2402.426, 2403.3274, 2403.0, 2407.0, 2413.7, 2415.9152, 2419.6122, 2419.0, 2420.0, 2412.0, 2412.9338, 2416.4532, 2416.1863, 2418.0, 2412.779], \"open\": [2481.6790000000005, 2483.9156, 2483.40985, 2483.6098666666667, 2483.1132, 2480.943733333333, 2480.76325, 2481.382133333333, 2480.322133333333, 2479.3258666666666, 2476.78365, 2474.7825000000007, 2469.87, 2465.2658, 2463.9366666666665, 2466.51375, 2477.948425, 2475.52695, 2471.8428, 2479.6322333333333, 2482.6330666666668, 2476.8218, 2479.1, 2484.6210666666666, 2487.6501, 2489.6125, 2490.84, 2491.232075, 2491.22, 2491.25795, 2491.937025, 2495.62265, 2497.5068, 2502.0133, 2499.99985, 2500.75345, 2505.6673, 2501.0912, 2502.1433666666667, 2504.3536, 2503.931, 2509.9493, 2507.8776, 2504.9456, 2501.6804, 2500.1800000000007, 2500.9398, 2500.12605, 2501.4301, 2499.9833750000007, 2500.3060666666665, 2500.645466666667, 2500.976925, 2500.883033333333, 2499.6264666666666, 2495.343175, 2493.6396, 2492.3954, 2487.2775, 2483.82, 2476.89945, 2468.813533333333, 2468.3594, 2462.5024, 2450.14005, 2445.24686, 2439.036075, 2434.305675, 2429.0416, 2422.7421000000004, 2419.9049600000008, 2427.559525, 2429.968075, 2435.9289, 2434.82335, 2438.070575, 2437.83825, 2439.886575, 2451.6944000000008, 2452.43015, 2444.9059, 2426.067525, 2427.41865, 2425.6718, 2422.5833, 2413.360925, 2410.69455, 2410.515900000001, 2408.280925, 2409.2547, 2419.427866666667, 2408.464025, 2413.2029, 2411.3581333333336, 2411.4179, 2406.0033333333336, 2402.01, 2404.90925, 2404.33766, 2402.3697, 2402.4661333333333, 2401.5338, 2405.229533333333, 2410.319, 2407.468066666667, 2409.117925, 2405.24435, 2405.4250666666667, 2410.27075, 2414.773875, 2417.6163, 2422.2174, 2423.678, 2422.054375, 2422.2319, 2414.44335, 2420.2758, 2423.2356, 2425.735666666667, 2420.1466666666665], \"type\": \"candlestick\", \"x\": [\"2021-09-20T21:45:00\", \"2021-09-20T21:46:00\", \"2021-09-20T21:47:00\", \"2021-09-20T21:48:00\", \"2021-09-20T21:49:00\", \"2021-09-20T21:50:00\", \"2021-09-20T21:51:00\", \"2021-09-20T21:52:00\", \"2021-09-20T21:53:00\", \"2021-09-20T21:54:00\", \"2021-09-20T21:55:00\", \"2021-09-20T21:56:00\", \"2021-09-20T21:57:00\", \"2021-09-20T21:58:00\", \"2021-09-20T21:59:00\", \"2021-09-20T22:00:00\", \"2021-09-20T22:01:00\", \"2021-09-20T22:02:00\", \"2021-09-20T22:03:00\", \"2021-09-20T22:04:00\", \"2021-09-20T22:05:00\", \"2021-09-20T22:06:00\", \"2021-09-20T22:07:00\", \"2021-09-20T22:08:00\", \"2021-09-20T22:09:00\", \"2021-09-20T22:10:00\", \"2021-09-20T22:11:00\", \"2021-09-20T22:12:00\", \"2021-09-20T22:13:00\", \"2021-09-20T22:14:00\", \"2021-09-20T22:15:00\", \"2021-09-20T22:16:00\", \"2021-09-20T22:17:00\", \"2021-09-20T22:18:00\", \"2021-09-20T22:19:00\", \"2021-09-20T22:20:00\", \"2021-09-20T22:21:00\", \"2021-09-20T22:22:00\", \"2021-09-20T22:23:00\", \"2021-09-20T22:24:00\", \"2021-09-20T22:25:00\", \"2021-09-20T22:26:00\", \"2021-09-20T22:27:00\", \"2021-09-20T22:28:00\", \"2021-09-20T22:29:00\", \"2021-09-20T22:30:00\", \"2021-09-20T22:31:00\", \"2021-09-20T22:32:00\", \"2021-09-20T22:33:00\", \"2021-09-20T22:34:00\", \"2021-09-20T22:35:00\", \"2021-09-20T22:36:00\", \"2021-09-20T22:37:00\", \"2021-09-20T22:38:00\", \"2021-09-20T22:39:00\", \"2021-09-20T22:40:00\", \"2021-09-20T22:41:00\", \"2021-09-20T22:42:00\", \"2021-09-20T22:43:00\", \"2021-09-20T22:44:00\", \"2021-09-20T22:45:00\", \"2021-09-20T22:46:00\", \"2021-09-20T22:47:00\", \"2021-09-20T22:48:00\", \"2021-09-20T22:49:00\", \"2021-09-20T22:50:00\", \"2021-09-20T22:51:00\", \"2021-09-20T22:52:00\", \"2021-09-20T22:53:00\", \"2021-09-20T22:54:00\", \"2021-09-20T22:55:00\", \"2021-09-20T22:56:00\", \"2021-09-20T22:57:00\", \"2021-09-20T22:58:00\", \"2021-09-20T22:59:00\", \"2021-09-20T23:00:00\", \"2021-09-20T23:01:00\", \"2021-09-20T23:02:00\", \"2021-09-20T23:03:00\", \"2021-09-20T23:04:00\", \"2021-09-20T23:05:00\", \"2021-09-20T23:06:00\", \"2021-09-20T23:07:00\", \"2021-09-20T23:08:00\", \"2021-09-20T23:09:00\", \"2021-09-20T23:10:00\", \"2021-09-20T23:11:00\", \"2021-09-20T23:12:00\", \"2021-09-20T23:13:00\", \"2021-09-20T23:14:00\", \"2021-09-20T23:15:00\", \"2021-09-20T23:16:00\", \"2021-09-20T23:17:00\", \"2021-09-20T23:18:00\", \"2021-09-20T23:19:00\", \"2021-09-20T23:20:00\", \"2021-09-20T23:21:00\", \"2021-09-20T23:22:00\", \"2021-09-20T23:23:00\", \"2021-09-20T23:24:00\", \"2021-09-20T23:25:00\", \"2021-09-20T23:26:00\", \"2021-09-20T23:27:00\", \"2021-09-20T23:28:00\", \"2021-09-20T23:29:00\", \"2021-09-20T23:30:00\", \"2021-09-20T23:31:00\", \"2021-09-20T23:32:00\", \"2021-09-20T23:33:00\", \"2021-09-20T23:34:00\", \"2021-09-20T23:35:00\", \"2021-09-20T23:36:00\", \"2021-09-20T23:37:00\", \"2021-09-20T23:38:00\", \"2021-09-20T23:39:00\", \"2021-09-20T23:40:00\", \"2021-09-20T23:41:00\", \"2021-09-20T23:42:00\", \"2021-09-20T23:43:00\", \"2021-09-20T23:44:00\"]}],\n",
              "                        {\"template\": {\"data\": {\"bar\": [{\"error_x\": {\"color\": \"#2a3f5f\"}, \"error_y\": {\"color\": \"#2a3f5f\"}, \"marker\": {\"line\": {\"color\": \"#E5ECF6\", \"width\": 0.5}}, \"type\": \"bar\"}], \"barpolar\": [{\"marker\": {\"line\": {\"color\": \"#E5ECF6\", \"width\": 0.5}}, \"type\": \"barpolar\"}], \"carpet\": [{\"aaxis\": {\"endlinecolor\": \"#2a3f5f\", \"gridcolor\": \"white\", \"linecolor\": \"white\", \"minorgridcolor\": \"white\", \"startlinecolor\": \"#2a3f5f\"}, \"baxis\": {\"endlinecolor\": \"#2a3f5f\", \"gridcolor\": \"white\", \"linecolor\": \"white\", \"minorgridcolor\": \"white\", \"startlinecolor\": \"#2a3f5f\"}, \"type\": \"carpet\"}], \"choropleth\": [{\"colorbar\": {\"outlinewidth\": 0, \"ticks\": \"\"}, \"type\": \"choropleth\"}], \"contour\": [{\"colorbar\": {\"outlinewidth\": 0, \"ticks\": \"\"}, \"colorscale\": [[0.0, \"#0d0887\"], [0.1111111111111111, \"#46039f\"], [0.2222222222222222, \"#7201a8\"], [0.3333333333333333, \"#9c179e\"], [0.4444444444444444, \"#bd3786\"], [0.5555555555555556, \"#d8576b\"], [0.6666666666666666, \"#ed7953\"], [0.7777777777777778, \"#fb9f3a\"], [0.8888888888888888, \"#fdca26\"], [1.0, \"#f0f921\"]], \"type\": \"contour\"}], \"contourcarpet\": [{\"colorbar\": {\"outlinewidth\": 0, \"ticks\": \"\"}, \"type\": \"contourcarpet\"}], \"heatmap\": [{\"colorbar\": {\"outlinewidth\": 0, \"ticks\": \"\"}, \"colorscale\": [[0.0, \"#0d0887\"], [0.1111111111111111, \"#46039f\"], [0.2222222222222222, \"#7201a8\"], [0.3333333333333333, \"#9c179e\"], [0.4444444444444444, \"#bd3786\"], [0.5555555555555556, \"#d8576b\"], [0.6666666666666666, \"#ed7953\"], [0.7777777777777778, \"#fb9f3a\"], [0.8888888888888888, \"#fdca26\"], [1.0, \"#f0f921\"]], \"type\": \"heatmap\"}], \"heatmapgl\": [{\"colorbar\": {\"outlinewidth\": 0, \"ticks\": \"\"}, \"colorscale\": [[0.0, \"#0d0887\"], [0.1111111111111111, \"#46039f\"], [0.2222222222222222, \"#7201a8\"], [0.3333333333333333, \"#9c179e\"], [0.4444444444444444, \"#bd3786\"], [0.5555555555555556, \"#d8576b\"], [0.6666666666666666, \"#ed7953\"], [0.7777777777777778, \"#fb9f3a\"], [0.8888888888888888, \"#fdca26\"], [1.0, \"#f0f921\"]], \"type\": \"heatmapgl\"}], \"histogram\": [{\"marker\": {\"colorbar\": {\"outlinewidth\": 0, \"ticks\": \"\"}}, \"type\": \"histogram\"}], \"histogram2d\": [{\"colorbar\": {\"outlinewidth\": 0, \"ticks\": \"\"}, \"colorscale\": [[0.0, \"#0d0887\"], [0.1111111111111111, \"#46039f\"], [0.2222222222222222, \"#7201a8\"], [0.3333333333333333, \"#9c179e\"], [0.4444444444444444, \"#bd3786\"], [0.5555555555555556, \"#d8576b\"], [0.6666666666666666, \"#ed7953\"], [0.7777777777777778, \"#fb9f3a\"], [0.8888888888888888, \"#fdca26\"], [1.0, \"#f0f921\"]], \"type\": \"histogram2d\"}], \"histogram2dcontour\": [{\"colorbar\": {\"outlinewidth\": 0, \"ticks\": \"\"}, \"colorscale\": [[0.0, \"#0d0887\"], [0.1111111111111111, \"#46039f\"], [0.2222222222222222, \"#7201a8\"], [0.3333333333333333, \"#9c179e\"], [0.4444444444444444, \"#bd3786\"], [0.5555555555555556, \"#d8576b\"], [0.6666666666666666, \"#ed7953\"], [0.7777777777777778, \"#fb9f3a\"], [0.8888888888888888, \"#fdca26\"], [1.0, \"#f0f921\"]], \"type\": \"histogram2dcontour\"}], \"mesh3d\": [{\"colorbar\": {\"outlinewidth\": 0, \"ticks\": \"\"}, \"type\": \"mesh3d\"}], \"parcoords\": [{\"line\": {\"colorbar\": {\"outlinewidth\": 0, \"ticks\": \"\"}}, \"type\": \"parcoords\"}], \"pie\": [{\"automargin\": true, \"type\": \"pie\"}], \"scatter\": [{\"marker\": {\"colorbar\": {\"outlinewidth\": 0, \"ticks\": \"\"}}, \"type\": \"scatter\"}], \"scatter3d\": [{\"line\": {\"colorbar\": {\"outlinewidth\": 0, \"ticks\": \"\"}}, \"marker\": {\"colorbar\": {\"outlinewidth\": 0, \"ticks\": \"\"}}, \"type\": \"scatter3d\"}], \"scattercarpet\": [{\"marker\": {\"colorbar\": {\"outlinewidth\": 0, \"ticks\": \"\"}}, \"type\": \"scattercarpet\"}], \"scattergeo\": [{\"marker\": {\"colorbar\": {\"outlinewidth\": 0, \"ticks\": \"\"}}, \"type\": \"scattergeo\"}], \"scattergl\": [{\"marker\": {\"colorbar\": {\"outlinewidth\": 0, \"ticks\": \"\"}}, \"type\": \"scattergl\"}], \"scattermapbox\": [{\"marker\": {\"colorbar\": {\"outlinewidth\": 0, \"ticks\": \"\"}}, \"type\": \"scattermapbox\"}], \"scatterpolar\": [{\"marker\": {\"colorbar\": {\"outlinewidth\": 0, \"ticks\": \"\"}}, \"type\": \"scatterpolar\"}], \"scatterpolargl\": [{\"marker\": {\"colorbar\": {\"outlinewidth\": 0, \"ticks\": \"\"}}, \"type\": \"scatterpolargl\"}], \"scatterternary\": [{\"marker\": {\"colorbar\": {\"outlinewidth\": 0, \"ticks\": \"\"}}, \"type\": \"scatterternary\"}], \"surface\": [{\"colorbar\": {\"outlinewidth\": 0, \"ticks\": \"\"}, \"colorscale\": [[0.0, \"#0d0887\"], [0.1111111111111111, \"#46039f\"], [0.2222222222222222, \"#7201a8\"], [0.3333333333333333, \"#9c179e\"], [0.4444444444444444, \"#bd3786\"], [0.5555555555555556, \"#d8576b\"], [0.6666666666666666, \"#ed7953\"], [0.7777777777777778, \"#fb9f3a\"], [0.8888888888888888, \"#fdca26\"], [1.0, \"#f0f921\"]], \"type\": \"surface\"}], \"table\": [{\"cells\": {\"fill\": {\"color\": \"#EBF0F8\"}, \"line\": {\"color\": \"white\"}}, \"header\": {\"fill\": {\"color\": \"#C8D4E3\"}, \"line\": {\"color\": \"white\"}}, \"type\": \"table\"}]}, \"layout\": {\"annotationdefaults\": {\"arrowcolor\": \"#2a3f5f\", \"arrowhead\": 0, \"arrowwidth\": 1}, \"coloraxis\": {\"colorbar\": {\"outlinewidth\": 0, \"ticks\": \"\"}}, \"colorscale\": {\"diverging\": [[0, \"#8e0152\"], [0.1, \"#c51b7d\"], [0.2, \"#de77ae\"], [0.3, \"#f1b6da\"], [0.4, \"#fde0ef\"], [0.5, \"#f7f7f7\"], [0.6, \"#e6f5d0\"], [0.7, \"#b8e186\"], [0.8, \"#7fbc41\"], [0.9, \"#4d9221\"], [1, \"#276419\"]], \"sequential\": [[0.0, \"#0d0887\"], [0.1111111111111111, \"#46039f\"], [0.2222222222222222, \"#7201a8\"], [0.3333333333333333, \"#9c179e\"], [0.4444444444444444, \"#bd3786\"], [0.5555555555555556, \"#d8576b\"], [0.6666666666666666, \"#ed7953\"], [0.7777777777777778, \"#fb9f3a\"], [0.8888888888888888, \"#fdca26\"], [1.0, \"#f0f921\"]], \"sequentialminus\": [[0.0, \"#0d0887\"], [0.1111111111111111, \"#46039f\"], [0.2222222222222222, \"#7201a8\"], [0.3333333333333333, \"#9c179e\"], [0.4444444444444444, \"#bd3786\"], [0.5555555555555556, \"#d8576b\"], [0.6666666666666666, \"#ed7953\"], [0.7777777777777778, \"#fb9f3a\"], [0.8888888888888888, \"#fdca26\"], [1.0, \"#f0f921\"]]}, \"colorway\": [\"#636efa\", \"#EF553B\", \"#00cc96\", \"#ab63fa\", \"#FFA15A\", \"#19d3f3\", \"#FF6692\", \"#B6E880\", \"#FF97FF\", \"#FECB52\"], \"font\": {\"color\": \"#2a3f5f\"}, \"geo\": {\"bgcolor\": \"white\", \"lakecolor\": \"white\", \"landcolor\": \"#E5ECF6\", \"showlakes\": true, \"showland\": true, \"subunitcolor\": \"white\"}, \"hoverlabel\": {\"align\": \"left\"}, \"hovermode\": \"closest\", \"mapbox\": {\"style\": \"light\"}, \"paper_bgcolor\": \"white\", \"plot_bgcolor\": \"#E5ECF6\", \"polar\": {\"angularaxis\": {\"gridcolor\": \"white\", \"linecolor\": \"white\", \"ticks\": \"\"}, \"bgcolor\": \"#E5ECF6\", \"radialaxis\": {\"gridcolor\": \"white\", \"linecolor\": \"white\", \"ticks\": \"\"}}, \"scene\": {\"xaxis\": {\"backgroundcolor\": \"#E5ECF6\", \"gridcolor\": \"white\", \"gridwidth\": 2, \"linecolor\": \"white\", \"showbackground\": true, \"ticks\": \"\", \"zerolinecolor\": \"white\"}, \"yaxis\": {\"backgroundcolor\": \"#E5ECF6\", \"gridcolor\": \"white\", \"gridwidth\": 2, \"linecolor\": \"white\", \"showbackground\": true, \"ticks\": \"\", \"zerolinecolor\": \"white\"}, \"zaxis\": {\"backgroundcolor\": \"#E5ECF6\", \"gridcolor\": \"white\", \"gridwidth\": 2, \"linecolor\": \"white\", \"showbackground\": true, \"ticks\": \"\", \"zerolinecolor\": \"white\"}}, \"shapedefaults\": {\"line\": {\"color\": \"#2a3f5f\"}}, \"ternary\": {\"aaxis\": {\"gridcolor\": \"white\", \"linecolor\": \"white\", \"ticks\": \"\"}, \"baxis\": {\"gridcolor\": \"white\", \"linecolor\": \"white\", \"ticks\": \"\"}, \"bgcolor\": \"#E5ECF6\", \"caxis\": {\"gridcolor\": \"white\", \"linecolor\": \"white\", \"ticks\": \"\"}}, \"title\": {\"x\": 0.05}, \"xaxis\": {\"automargin\": true, \"gridcolor\": \"white\", \"linecolor\": \"white\", \"ticks\": \"\", \"title\": {\"standoff\": 15}, \"zerolinecolor\": \"white\", \"zerolinewidth\": 2}, \"yaxis\": {\"automargin\": true, \"gridcolor\": \"white\", \"linecolor\": \"white\", \"ticks\": \"\", \"title\": {\"standoff\": 15}, \"zerolinecolor\": \"white\", \"zerolinewidth\": 2}}}, \"title\": {\"text\": \"Maker Candelstick Chart\", \"x\": 0.5, \"xanchor\": \"center\", \"y\": 0.9, \"yanchor\": \"top\"}, \"xaxis\": {\"rangeslider\": {\"visible\": false}, \"title\": {\"text\": \"Time\"}}, \"yaxis\": {\"ticksuffix\": \"$\", \"title\": {\"text\": \"Price in USD\"}}},\n",
              "                        {\"responsive\": true}\n",
              "                    ).then(function(){\n",
              "                            \n",
              "var gd = document.getElementById('7d15c51c-b3c5-474d-ac7b-aed455f1df72');\n",
              "var x = new MutationObserver(function (mutations, observer) {{\n",
              "        var display = window.getComputedStyle(gd).display;\n",
              "        if (!display || display === 'none') {{\n",
              "            console.log([gd, 'removed!']);\n",
              "            Plotly.purge(gd);\n",
              "            observer.disconnect();\n",
              "        }}\n",
              "}});\n",
              "\n",
              "// Listen for the removal of the full notebook cells\n",
              "var notebookContainer = gd.closest('#notebook-container');\n",
              "if (notebookContainer) {{\n",
              "    x.observe(notebookContainer, {childList: true});\n",
              "}}\n",
              "\n",
              "// Listen for the clearing of the current output cell\n",
              "var outputEl = gd.closest('.output');\n",
              "if (outputEl) {{\n",
              "    x.observe(outputEl, {childList: true});\n",
              "}}\n",
              "\n",
              "                        })\n",
              "                };\n",
              "                \n",
              "            </script>\n",
              "        </div>\n",
              "</body>\n",
              "</html>"
            ]
          },
          "metadata": {}
        }
      ]
    },
    {
      "cell_type": "markdown",
      "metadata": {
        "id": "31632f81"
      },
      "source": [
        "- Monero"
      ],
      "id": "31632f81"
    },
    {
      "cell_type": "code",
      "metadata": {
        "colab": {
          "base_uri": "https://localhost:8080/",
          "height": 542
        },
        "id": "8e9bc8e4",
        "outputId": "a500393f-5d4c-4386-c9dd-790e334957ec"
      },
      "source": [
        "monero_plot = candelstick_chart(monero[-120:], title=\"Monero\")\n",
        "monero_plot.show()"
      ],
      "id": "8e9bc8e4",
      "execution_count": 24,
      "outputs": [
        {
          "output_type": "display_data",
          "data": {
            "text/html": [
              "<html>\n",
              "<head><meta charset=\"utf-8\" /></head>\n",
              "<body>\n",
              "    <div>\n",
              "            <script src=\"https://cdnjs.cloudflare.com/ajax/libs/mathjax/2.7.5/MathJax.js?config=TeX-AMS-MML_SVG\"></script><script type=\"text/javascript\">if (window.MathJax) {MathJax.Hub.Config({SVG: {font: \"STIX-Web\"}});}</script>\n",
              "                <script type=\"text/javascript\">window.PlotlyConfig = {MathJaxConfig: 'local'};</script>\n",
              "        <script src=\"https://cdn.plot.ly/plotly-latest.min.js\"></script>    \n",
              "            <div id=\"82404127-aef5-4376-bf1e-fa732cd5a88c\" class=\"plotly-graph-div\" style=\"height:525px; width:100%;\"></div>\n",
              "            <script type=\"text/javascript\">\n",
              "                \n",
              "                    window.PLOTLYENV=window.PLOTLYENV || {};\n",
              "                    \n",
              "                if (document.getElementById(\"82404127-aef5-4376-bf1e-fa732cd5a88c\")) {\n",
              "                    Plotly.newPlot(\n",
              "                        '82404127-aef5-4376-bf1e-fa732cd5a88c',\n",
              "                        [{\"close\": [236.61599999999999, 236.79, 236.78, 236.48666666666668, 236.25333333333333, 236.2525, 236.36, 236.24400000000003, 235.92333333333332, 235.53500000000003, 235.4775, 235.37, 235.1525, 234.924, 234.705, 235.01, 235.13, 234.95, 235.03666666666663, 235.34666666666664, 235.19, 234.98666666666668, 235.31000000000003, 235.64333333333332, 235.98666666666668, 236.04, 236.39, 236.27666666666667, 236.33, 236.335, 236.26, 236.47200000000004, 236.648, 236.625, 236.4925, 236.56, 236.5125, 236.38, 236.55666666666664, 236.645, 236.6266666666667, 236.602, 236.3725, 236.27, 236.20666666666668, 236.225, 236.26, 236.1, 236.0666666666667, 236.24, 236.59, 236.45, 236.844, 236.795, 236.5175, 236.775, 236.53, 236.39, 236.12, 235.7675, 235.21599999999998, 234.95, 234.525, 234.56, 233.798, 233.204, 233.23, 232.68, 233.18, 232.32, 232.9125, 233.062, 233.035, 232.774, 233.1, 232.95, 233.22600000000003, 234.28400000000002, 234.916, 234.58, 232.78400000000002, 232.456, 232.51, 232.16000000000003, 231.414, 231.334, 231.002, 230.628, 230.7325, 231.5775, 231.21600000000004, 231.19400000000002, 231.11, 231.13333333333333, 231.03666666666663, 230.765, 229.862, 230.0, 229.484, 229.92, 230.0225, 230.41, 230.53666666666663, 230.5833333333333, 230.855, 230.7575, 231.05, 230.89666666666665, 231.3225, 231.78, 232.3175, 232.578, 232.28, 232.395, 231.695, 231.9533333333333, 232.426, 232.2375, 232.02666666666664, 231.68], \"high\": [236.82, 236.9, 236.86, 236.8, 236.48, 236.4, 236.51, 236.53, 236.25, 236.05, 235.61, 235.6, 235.49, 235.24, 234.97, 235.25, 235.37, 235.08, 235.33, 235.4, 235.5, 235.06, 235.4, 235.7, 236.0, 236.12, 236.4, 236.44, 236.37, 236.62, 236.5, 236.61, 236.78, 236.8, 236.68, 236.69, 236.9, 236.46, 236.72, 236.79, 236.7, 236.77, 236.52, 236.4, 236.35, 236.3, 236.52, 236.37, 236.2, 236.31, 236.67, 236.5, 236.9, 236.9, 236.8, 236.8, 236.7, 236.6, 236.3, 236.04, 235.53, 235.2, 235.2, 234.82, 234.52, 233.9, 233.82, 233.32, 234.0, 233.1, 233.3, 233.2, 233.2, 233.4, 233.2, 233.3, 233.47, 234.7, 235.3, 235.3, 234.57, 233.1, 233.15, 232.41, 232.1, 231.8, 231.41, 231.16, 231.2, 232.0, 232.2, 231.76, 231.8, 231.6, 231.4, 231.05, 231.03, 230.29, 230.1, 230.5, 230.5, 230.72, 230.79, 230.9, 231.1, 231.6, 231.3, 231.13, 231.64, 232.5, 232.7, 232.94, 232.7, 232.7, 232.67, 232.11, 232.59, 232.69, 232.5, 232.3], \"low\": [236.08, 236.7, 236.68, 236.3, 236.2, 236.15, 236.27, 236.05, 235.8, 235.3, 235.3, 235.2, 235.0, 234.6, 234.4, 234.57, 235.0, 234.9, 234.8, 235.0, 235.0, 234.8, 235.0, 235.14, 235.7, 235.9, 236.0, 236.1, 236.29, 236.08, 236.04, 236.3, 236.43, 236.43, 236.2, 236.5, 236.2, 236.29, 236.4, 236.5, 236.5, 236.47, 236.3, 235.92, 236.1, 236.08, 236.2, 236.0, 235.98, 236.2, 236.3, 236.4, 236.64, 236.73, 236.4, 236.5, 236.41, 236.3, 235.98, 235.52, 235.0, 234.7, 234.4, 234.42, 233.47, 232.99, 233.05, 232.38, 232.4, 231.81, 232.11, 232.46, 232.4, 232.5, 232.53, 232.8, 232.97, 233.28, 233.9, 234.23, 232.4, 232.1, 232.27, 231.9, 231.0, 231.0, 230.7, 230.1, 230.4, 230.4, 231.0, 230.4, 230.9, 230.9, 230.9, 230.49, 229.4, 229.56, 229.2, 229.3, 229.66, 229.9, 230.08, 230.1, 230.63, 230.4, 230.6, 230.58, 230.74, 231.24, 231.7, 231.98, 232.1, 232.1, 231.31, 231.35, 231.85, 231.99, 231.9, 231.31], \"open\": [236.63, 236.84, 236.78, 236.73666666666668, 236.38, 236.2025, 236.37, 236.302, 236.18, 235.77, 235.5025, 235.44, 235.315, 235.128, 234.755, 234.7, 235.185, 235.04, 235.0233333333333, 235.24666666666667, 235.355, 234.9833333333333, 235.11333333333332, 235.43, 235.8733333333333, 236.015, 236.03666666666663, 236.3733333333333, 236.33, 236.1975, 236.3025, 236.46, 236.55, 236.7375, 236.5725, 236.57, 236.79, 236.32666666666668, 236.52666666666664, 236.6275, 236.55666666666664, 236.62599999999998, 236.4225, 236.19000000000003, 236.19, 236.165, 236.39, 236.31000000000003, 236.09333333333333, 236.23666666666668, 236.3333333333333, 236.45, 236.734, 236.7825, 236.6825, 236.56, 236.69, 236.47, 236.23666666666668, 236.0075, 235.398, 234.976, 235.005, 234.515, 234.42200000000003, 233.61400000000003, 233.33, 233.11599999999999, 232.71600000000004, 232.78000000000003, 232.52, 232.96400000000003, 232.72, 233.11, 232.97333333333333, 233.01, 233.06599999999997, 233.52, 234.33, 234.87500000000003, 234.21599999999998, 232.756, 232.602, 232.2475, 231.99, 231.288, 231.22400000000002, 230.948, 230.8525, 230.6025, 231.678, 230.96599999999998, 231.39666666666668, 231.00666666666663, 231.3, 230.78000000000003, 230.656, 229.7575, 229.72600000000003, 229.546, 229.8375, 230.18, 230.4533333333333, 230.6, 230.72, 230.96, 230.7, 230.9466666666667, 230.8875, 231.488, 232.015, 232.304, 232.505, 232.365, 232.495, 231.56000000000003, 232.15, 232.39, 232.18, 232.075], \"type\": \"candlestick\", \"x\": [\"2021-09-20T21:45:00\", \"2021-09-20T21:46:00\", \"2021-09-20T21:47:00\", \"2021-09-20T21:48:00\", \"2021-09-20T21:49:00\", \"2021-09-20T21:50:00\", \"2021-09-20T21:51:00\", \"2021-09-20T21:52:00\", \"2021-09-20T21:53:00\", \"2021-09-20T21:54:00\", \"2021-09-20T21:55:00\", \"2021-09-20T21:56:00\", \"2021-09-20T21:57:00\", \"2021-09-20T21:58:00\", \"2021-09-20T21:59:00\", \"2021-09-20T22:00:00\", \"2021-09-20T22:01:00\", \"2021-09-20T22:02:00\", \"2021-09-20T22:03:00\", \"2021-09-20T22:04:00\", \"2021-09-20T22:05:00\", \"2021-09-20T22:06:00\", \"2021-09-20T22:07:00\", \"2021-09-20T22:08:00\", \"2021-09-20T22:09:00\", \"2021-09-20T22:10:00\", \"2021-09-20T22:11:00\", \"2021-09-20T22:12:00\", \"2021-09-20T22:13:00\", \"2021-09-20T22:14:00\", \"2021-09-20T22:15:00\", \"2021-09-20T22:16:00\", \"2021-09-20T22:17:00\", \"2021-09-20T22:18:00\", \"2021-09-20T22:19:00\", \"2021-09-20T22:20:00\", \"2021-09-20T22:21:00\", \"2021-09-20T22:22:00\", \"2021-09-20T22:23:00\", \"2021-09-20T22:24:00\", \"2021-09-20T22:25:00\", \"2021-09-20T22:26:00\", \"2021-09-20T22:27:00\", \"2021-09-20T22:28:00\", \"2021-09-20T22:29:00\", \"2021-09-20T22:30:00\", \"2021-09-20T22:31:00\", \"2021-09-20T22:32:00\", \"2021-09-20T22:33:00\", \"2021-09-20T22:34:00\", \"2021-09-20T22:35:00\", \"2021-09-20T22:36:00\", \"2021-09-20T22:37:00\", \"2021-09-20T22:38:00\", \"2021-09-20T22:39:00\", \"2021-09-20T22:40:00\", \"2021-09-20T22:41:00\", \"2021-09-20T22:42:00\", \"2021-09-20T22:43:00\", \"2021-09-20T22:44:00\", \"2021-09-20T22:45:00\", \"2021-09-20T22:46:00\", \"2021-09-20T22:47:00\", \"2021-09-20T22:48:00\", \"2021-09-20T22:49:00\", \"2021-09-20T22:50:00\", \"2021-09-20T22:51:00\", \"2021-09-20T22:52:00\", \"2021-09-20T22:53:00\", \"2021-09-20T22:54:00\", \"2021-09-20T22:55:00\", \"2021-09-20T22:56:00\", \"2021-09-20T22:57:00\", \"2021-09-20T22:58:00\", \"2021-09-20T22:59:00\", \"2021-09-20T23:00:00\", \"2021-09-20T23:01:00\", \"2021-09-20T23:02:00\", \"2021-09-20T23:03:00\", \"2021-09-20T23:04:00\", \"2021-09-20T23:05:00\", \"2021-09-20T23:06:00\", \"2021-09-20T23:07:00\", \"2021-09-20T23:08:00\", \"2021-09-20T23:09:00\", \"2021-09-20T23:10:00\", \"2021-09-20T23:11:00\", \"2021-09-20T23:12:00\", \"2021-09-20T23:13:00\", \"2021-09-20T23:14:00\", \"2021-09-20T23:15:00\", \"2021-09-20T23:16:00\", \"2021-09-20T23:17:00\", \"2021-09-20T23:18:00\", \"2021-09-20T23:19:00\", \"2021-09-20T23:20:00\", \"2021-09-20T23:21:00\", \"2021-09-20T23:22:00\", \"2021-09-20T23:23:00\", \"2021-09-20T23:24:00\", \"2021-09-20T23:25:00\", \"2021-09-20T23:26:00\", \"2021-09-20T23:27:00\", \"2021-09-20T23:28:00\", \"2021-09-20T23:29:00\", \"2021-09-20T23:30:00\", \"2021-09-20T23:31:00\", \"2021-09-20T23:32:00\", \"2021-09-20T23:33:00\", \"2021-09-20T23:34:00\", \"2021-09-20T23:35:00\", \"2021-09-20T23:36:00\", \"2021-09-20T23:37:00\", \"2021-09-20T23:38:00\", \"2021-09-20T23:39:00\", \"2021-09-20T23:40:00\", \"2021-09-20T23:41:00\", \"2021-09-20T23:42:00\", \"2021-09-20T23:43:00\", \"2021-09-20T23:44:00\"]}],\n",
              "                        {\"template\": {\"data\": {\"bar\": [{\"error_x\": {\"color\": \"#2a3f5f\"}, \"error_y\": {\"color\": \"#2a3f5f\"}, \"marker\": {\"line\": {\"color\": \"#E5ECF6\", \"width\": 0.5}}, \"type\": \"bar\"}], \"barpolar\": [{\"marker\": {\"line\": {\"color\": \"#E5ECF6\", \"width\": 0.5}}, \"type\": \"barpolar\"}], \"carpet\": [{\"aaxis\": {\"endlinecolor\": \"#2a3f5f\", \"gridcolor\": \"white\", \"linecolor\": \"white\", \"minorgridcolor\": \"white\", \"startlinecolor\": \"#2a3f5f\"}, \"baxis\": {\"endlinecolor\": \"#2a3f5f\", \"gridcolor\": \"white\", \"linecolor\": \"white\", \"minorgridcolor\": \"white\", \"startlinecolor\": \"#2a3f5f\"}, \"type\": \"carpet\"}], \"choropleth\": [{\"colorbar\": {\"outlinewidth\": 0, \"ticks\": \"\"}, \"type\": \"choropleth\"}], \"contour\": [{\"colorbar\": {\"outlinewidth\": 0, \"ticks\": \"\"}, \"colorscale\": [[0.0, \"#0d0887\"], [0.1111111111111111, \"#46039f\"], [0.2222222222222222, \"#7201a8\"], [0.3333333333333333, \"#9c179e\"], [0.4444444444444444, \"#bd3786\"], [0.5555555555555556, \"#d8576b\"], [0.6666666666666666, \"#ed7953\"], [0.7777777777777778, \"#fb9f3a\"], [0.8888888888888888, \"#fdca26\"], [1.0, \"#f0f921\"]], \"type\": \"contour\"}], \"contourcarpet\": [{\"colorbar\": {\"outlinewidth\": 0, \"ticks\": \"\"}, \"type\": \"contourcarpet\"}], \"heatmap\": [{\"colorbar\": {\"outlinewidth\": 0, \"ticks\": \"\"}, \"colorscale\": [[0.0, \"#0d0887\"], [0.1111111111111111, \"#46039f\"], [0.2222222222222222, \"#7201a8\"], [0.3333333333333333, \"#9c179e\"], [0.4444444444444444, \"#bd3786\"], [0.5555555555555556, \"#d8576b\"], [0.6666666666666666, \"#ed7953\"], [0.7777777777777778, \"#fb9f3a\"], [0.8888888888888888, \"#fdca26\"], [1.0, \"#f0f921\"]], \"type\": \"heatmap\"}], \"heatmapgl\": [{\"colorbar\": {\"outlinewidth\": 0, \"ticks\": \"\"}, \"colorscale\": [[0.0, \"#0d0887\"], [0.1111111111111111, \"#46039f\"], [0.2222222222222222, \"#7201a8\"], [0.3333333333333333, \"#9c179e\"], [0.4444444444444444, \"#bd3786\"], [0.5555555555555556, \"#d8576b\"], [0.6666666666666666, \"#ed7953\"], [0.7777777777777778, \"#fb9f3a\"], [0.8888888888888888, \"#fdca26\"], [1.0, \"#f0f921\"]], \"type\": \"heatmapgl\"}], \"histogram\": [{\"marker\": {\"colorbar\": {\"outlinewidth\": 0, \"ticks\": \"\"}}, \"type\": \"histogram\"}], \"histogram2d\": [{\"colorbar\": {\"outlinewidth\": 0, \"ticks\": \"\"}, \"colorscale\": [[0.0, \"#0d0887\"], [0.1111111111111111, \"#46039f\"], [0.2222222222222222, \"#7201a8\"], [0.3333333333333333, \"#9c179e\"], [0.4444444444444444, \"#bd3786\"], [0.5555555555555556, \"#d8576b\"], [0.6666666666666666, \"#ed7953\"], [0.7777777777777778, \"#fb9f3a\"], [0.8888888888888888, \"#fdca26\"], [1.0, \"#f0f921\"]], \"type\": \"histogram2d\"}], \"histogram2dcontour\": [{\"colorbar\": {\"outlinewidth\": 0, \"ticks\": \"\"}, \"colorscale\": [[0.0, \"#0d0887\"], [0.1111111111111111, \"#46039f\"], [0.2222222222222222, \"#7201a8\"], [0.3333333333333333, \"#9c179e\"], [0.4444444444444444, \"#bd3786\"], [0.5555555555555556, \"#d8576b\"], [0.6666666666666666, \"#ed7953\"], [0.7777777777777778, \"#fb9f3a\"], [0.8888888888888888, \"#fdca26\"], [1.0, \"#f0f921\"]], \"type\": \"histogram2dcontour\"}], \"mesh3d\": [{\"colorbar\": {\"outlinewidth\": 0, \"ticks\": \"\"}, \"type\": \"mesh3d\"}], \"parcoords\": [{\"line\": {\"colorbar\": {\"outlinewidth\": 0, \"ticks\": \"\"}}, \"type\": \"parcoords\"}], \"pie\": [{\"automargin\": true, \"type\": \"pie\"}], \"scatter\": [{\"marker\": {\"colorbar\": {\"outlinewidth\": 0, \"ticks\": \"\"}}, \"type\": \"scatter\"}], \"scatter3d\": [{\"line\": {\"colorbar\": {\"outlinewidth\": 0, \"ticks\": \"\"}}, \"marker\": {\"colorbar\": {\"outlinewidth\": 0, \"ticks\": \"\"}}, \"type\": \"scatter3d\"}], \"scattercarpet\": [{\"marker\": {\"colorbar\": {\"outlinewidth\": 0, \"ticks\": \"\"}}, \"type\": \"scattercarpet\"}], \"scattergeo\": [{\"marker\": {\"colorbar\": {\"outlinewidth\": 0, \"ticks\": \"\"}}, \"type\": \"scattergeo\"}], \"scattergl\": [{\"marker\": {\"colorbar\": {\"outlinewidth\": 0, \"ticks\": \"\"}}, \"type\": \"scattergl\"}], \"scattermapbox\": [{\"marker\": {\"colorbar\": {\"outlinewidth\": 0, \"ticks\": \"\"}}, \"type\": \"scattermapbox\"}], \"scatterpolar\": [{\"marker\": {\"colorbar\": {\"outlinewidth\": 0, \"ticks\": \"\"}}, \"type\": \"scatterpolar\"}], \"scatterpolargl\": [{\"marker\": {\"colorbar\": {\"outlinewidth\": 0, \"ticks\": \"\"}}, \"type\": \"scatterpolargl\"}], \"scatterternary\": [{\"marker\": {\"colorbar\": {\"outlinewidth\": 0, \"ticks\": \"\"}}, \"type\": \"scatterternary\"}], \"surface\": [{\"colorbar\": {\"outlinewidth\": 0, \"ticks\": \"\"}, \"colorscale\": [[0.0, \"#0d0887\"], [0.1111111111111111, \"#46039f\"], [0.2222222222222222, \"#7201a8\"], [0.3333333333333333, \"#9c179e\"], [0.4444444444444444, \"#bd3786\"], [0.5555555555555556, \"#d8576b\"], [0.6666666666666666, \"#ed7953\"], [0.7777777777777778, \"#fb9f3a\"], [0.8888888888888888, \"#fdca26\"], [1.0, \"#f0f921\"]], \"type\": \"surface\"}], \"table\": [{\"cells\": {\"fill\": {\"color\": \"#EBF0F8\"}, \"line\": {\"color\": \"white\"}}, \"header\": {\"fill\": {\"color\": \"#C8D4E3\"}, \"line\": {\"color\": \"white\"}}, \"type\": \"table\"}]}, \"layout\": {\"annotationdefaults\": {\"arrowcolor\": \"#2a3f5f\", \"arrowhead\": 0, \"arrowwidth\": 1}, \"coloraxis\": {\"colorbar\": {\"outlinewidth\": 0, \"ticks\": \"\"}}, \"colorscale\": {\"diverging\": [[0, \"#8e0152\"], [0.1, \"#c51b7d\"], [0.2, \"#de77ae\"], [0.3, \"#f1b6da\"], [0.4, \"#fde0ef\"], [0.5, \"#f7f7f7\"], [0.6, \"#e6f5d0\"], [0.7, \"#b8e186\"], [0.8, \"#7fbc41\"], [0.9, \"#4d9221\"], [1, \"#276419\"]], \"sequential\": [[0.0, \"#0d0887\"], [0.1111111111111111, \"#46039f\"], [0.2222222222222222, \"#7201a8\"], [0.3333333333333333, \"#9c179e\"], [0.4444444444444444, \"#bd3786\"], [0.5555555555555556, \"#d8576b\"], [0.6666666666666666, \"#ed7953\"], [0.7777777777777778, \"#fb9f3a\"], [0.8888888888888888, \"#fdca26\"], [1.0, \"#f0f921\"]], \"sequentialminus\": [[0.0, \"#0d0887\"], [0.1111111111111111, \"#46039f\"], [0.2222222222222222, \"#7201a8\"], [0.3333333333333333, \"#9c179e\"], [0.4444444444444444, \"#bd3786\"], [0.5555555555555556, \"#d8576b\"], [0.6666666666666666, \"#ed7953\"], [0.7777777777777778, \"#fb9f3a\"], [0.8888888888888888, \"#fdca26\"], [1.0, \"#f0f921\"]]}, \"colorway\": [\"#636efa\", \"#EF553B\", \"#00cc96\", \"#ab63fa\", \"#FFA15A\", \"#19d3f3\", \"#FF6692\", \"#B6E880\", \"#FF97FF\", \"#FECB52\"], \"font\": {\"color\": \"#2a3f5f\"}, \"geo\": {\"bgcolor\": \"white\", \"lakecolor\": \"white\", \"landcolor\": \"#E5ECF6\", \"showlakes\": true, \"showland\": true, \"subunitcolor\": \"white\"}, \"hoverlabel\": {\"align\": \"left\"}, \"hovermode\": \"closest\", \"mapbox\": {\"style\": \"light\"}, \"paper_bgcolor\": \"white\", \"plot_bgcolor\": \"#E5ECF6\", \"polar\": {\"angularaxis\": {\"gridcolor\": \"white\", \"linecolor\": \"white\", \"ticks\": \"\"}, \"bgcolor\": \"#E5ECF6\", \"radialaxis\": {\"gridcolor\": \"white\", \"linecolor\": \"white\", \"ticks\": \"\"}}, \"scene\": {\"xaxis\": {\"backgroundcolor\": \"#E5ECF6\", \"gridcolor\": \"white\", \"gridwidth\": 2, \"linecolor\": \"white\", \"showbackground\": true, \"ticks\": \"\", \"zerolinecolor\": \"white\"}, \"yaxis\": {\"backgroundcolor\": \"#E5ECF6\", \"gridcolor\": \"white\", \"gridwidth\": 2, \"linecolor\": \"white\", \"showbackground\": true, \"ticks\": \"\", \"zerolinecolor\": \"white\"}, \"zaxis\": {\"backgroundcolor\": \"#E5ECF6\", \"gridcolor\": \"white\", \"gridwidth\": 2, \"linecolor\": \"white\", \"showbackground\": true, \"ticks\": \"\", \"zerolinecolor\": \"white\"}}, \"shapedefaults\": {\"line\": {\"color\": \"#2a3f5f\"}}, \"ternary\": {\"aaxis\": {\"gridcolor\": \"white\", \"linecolor\": \"white\", \"ticks\": \"\"}, \"baxis\": {\"gridcolor\": \"white\", \"linecolor\": \"white\", \"ticks\": \"\"}, \"bgcolor\": \"#E5ECF6\", \"caxis\": {\"gridcolor\": \"white\", \"linecolor\": \"white\", \"ticks\": \"\"}}, \"title\": {\"x\": 0.05}, \"xaxis\": {\"automargin\": true, \"gridcolor\": \"white\", \"linecolor\": \"white\", \"ticks\": \"\", \"title\": {\"standoff\": 15}, \"zerolinecolor\": \"white\", \"zerolinewidth\": 2}, \"yaxis\": {\"automargin\": true, \"gridcolor\": \"white\", \"linecolor\": \"white\", \"ticks\": \"\", \"title\": {\"standoff\": 15}, \"zerolinecolor\": \"white\", \"zerolinewidth\": 2}}}, \"title\": {\"text\": \"Monero Candelstick Chart\", \"x\": 0.5, \"xanchor\": \"center\", \"y\": 0.9, \"yanchor\": \"top\"}, \"xaxis\": {\"rangeslider\": {\"visible\": false}, \"title\": {\"text\": \"Time\"}}, \"yaxis\": {\"ticksuffix\": \"$\", \"title\": {\"text\": \"Price in USD\"}}},\n",
              "                        {\"responsive\": true}\n",
              "                    ).then(function(){\n",
              "                            \n",
              "var gd = document.getElementById('82404127-aef5-4376-bf1e-fa732cd5a88c');\n",
              "var x = new MutationObserver(function (mutations, observer) {{\n",
              "        var display = window.getComputedStyle(gd).display;\n",
              "        if (!display || display === 'none') {{\n",
              "            console.log([gd, 'removed!']);\n",
              "            Plotly.purge(gd);\n",
              "            observer.disconnect();\n",
              "        }}\n",
              "}});\n",
              "\n",
              "// Listen for the removal of the full notebook cells\n",
              "var notebookContainer = gd.closest('#notebook-container');\n",
              "if (notebookContainer) {{\n",
              "    x.observe(notebookContainer, {childList: true});\n",
              "}}\n",
              "\n",
              "// Listen for the clearing of the current output cell\n",
              "var outputEl = gd.closest('.output');\n",
              "if (outputEl) {{\n",
              "    x.observe(outputEl, {childList: true});\n",
              "}}\n",
              "\n",
              "                        })\n",
              "                };\n",
              "                \n",
              "            </script>\n",
              "        </div>\n",
              "</body>\n",
              "</html>"
            ]
          },
          "metadata": {}
        }
      ]
    },
    {
      "cell_type": "markdown",
      "metadata": {
        "id": "766dfa2e"
      },
      "source": [
        "- Stellar"
      ],
      "id": "766dfa2e"
    },
    {
      "cell_type": "code",
      "metadata": {
        "colab": {
          "base_uri": "https://localhost:8080/",
          "height": 542
        },
        "id": "83b7a9a5",
        "outputId": "3abc5b66-51a9-46ef-d582-783d3995ac78"
      },
      "source": [
        "stellar_plot = candelstick_chart(stellar[-120:], title=\"Stellar\")\n",
        "stellar_plot.show()"
      ],
      "id": "83b7a9a5",
      "execution_count": 25,
      "outputs": [
        {
          "output_type": "display_data",
          "data": {
            "text/html": [
              "<html>\n",
              "<head><meta charset=\"utf-8\" /></head>\n",
              "<body>\n",
              "    <div>\n",
              "            <script src=\"https://cdnjs.cloudflare.com/ajax/libs/mathjax/2.7.5/MathJax.js?config=TeX-AMS-MML_SVG\"></script><script type=\"text/javascript\">if (window.MathJax) {MathJax.Hub.Config({SVG: {font: \"STIX-Web\"}});}</script>\n",
              "                <script type=\"text/javascript\">window.PlotlyConfig = {MathJaxConfig: 'local'};</script>\n",
              "        <script src=\"https://cdn.plot.ly/plotly-latest.min.js\"></script>    \n",
              "            <div id=\"82059658-796e-462d-b630-b02b922cf0eb\" class=\"plotly-graph-div\" style=\"height:525px; width:100%;\"></div>\n",
              "            <script type=\"text/javascript\">\n",
              "                \n",
              "                    window.PLOTLYENV=window.PLOTLYENV || {};\n",
              "                    \n",
              "                if (document.getElementById(\"82059658-796e-462d-b630-b02b922cf0eb\")) {\n",
              "                    Plotly.newPlot(\n",
              "                        '82059658-796e-462d-b630-b02b922cf0eb',\n",
              "                        [{\"close\": [0.28575700000000004, 0.286011, 0.2861333333333333, 0.28567000000000004, 0.2856706666666667, 0.28562550000000003, 0.28563219999999995, 0.2856778333333333, 0.28557075000000004, 0.28560083333333336, 0.2855292, 0.28519685714285714, 0.28497866666666666, 0.28466216666666666, 0.28448366666666663, 0.2850428571428571, 0.28543916666666674, 0.2851661666666667, 0.28580900000000004, 0.2862068571428571, 0.28547649999999997, 0.2857921428571429, 0.2865731666666667, 0.28710585714285713, 0.28727020000000003, 0.2873678571428572, 0.28721883333333337, 0.287191, 0.28718557142857143, 0.2877518571428572, 0.2878158333333334, 0.2876645, 0.2881021428571429, 0.2879597142857143, 0.2877554285714285, 0.28767600000000004, 0.2871086666666667, 0.2872098333333333, 0.287268, 0.2878812857142857, 0.2882205, 0.28821040000000003, 0.28787533333333337, 0.2876773333333333, 0.2873523333333333, 0.28727366666666665, 0.28731260000000003, 0.2872201666666667, 0.28743483333333336, 0.28761420000000004, 0.2876713333333333, 0.2874882, 0.2877421666666667, 0.2875915, 0.2874915, 0.2875497142857143, 0.2873422, 0.2871285714285713, 0.287004, 0.2863373333333334, 0.2860552857142857, 0.28536157142857144, 0.2850332857142857, 0.2848904285714286, 0.2841606666666667, 0.2834135714285715, 0.2830942, 0.283014, 0.282866, 0.28268757142857137, 0.2833921428571429, 0.28349240000000003, 0.2839605, 0.2840923333333333, 0.284131, 0.28421979999999997, 0.2841268333333334, 0.2852753333333333, 0.2861967142857143, 0.2860138, 0.2845391428571429, 0.2842928571428571, 0.2843917142857143, 0.28391900000000003, 0.283242, 0.2827211428571429, 0.28261766666666666, 0.28233542857142857, 0.281933, 0.2829191428571429, 0.2827761428571429, 0.2832654285714286, 0.2832417142857143, 0.2833875, 0.2828458333333334, 0.28250083333333337, 0.2817545, 0.2816506666666667, 0.280845, 0.2803318333333333, 0.279961, 0.2799963333333333, 0.2801605, 0.27988857142857143, 0.2796605, 0.2793328571428572, 0.27959675, 0.2796463333333333, 0.2803735, 0.2809017142857143, 0.2812231428571429, 0.2817213333333333, 0.2816382857142857, 0.28174925, 0.2808316, 0.28102699999999997, 0.2817706, 0.2815590000000001, 0.2811427142857143, 0.280403], \"high\": [0.286088, 0.28631, 0.28622, 0.28617600000000004, 0.28578000000000003, 0.28578000000000003, 0.28573000000000004, 0.28586, 0.28569, 0.285816, 0.28567800000000004, 0.285684, 0.28525, 0.28505, 0.28469, 0.28541, 0.28575900000000004, 0.28552, 0.28616, 0.28652, 0.28616, 0.286104, 0.28672, 0.2873, 0.287433, 0.28746, 0.287427, 0.28733400000000003, 0.28742, 0.288875, 0.2881, 0.288186, 0.2883, 0.2883, 0.2881, 0.2881, 0.2881, 0.28743, 0.2878, 0.28835, 0.28835, 0.2884, 0.2883, 0.28812, 0.287716, 0.287446, 0.2874, 0.2875, 0.28757, 0.28770500000000004, 0.288097, 0.28763, 0.2879, 0.28779, 0.2878, 0.28766, 0.287715, 0.2874, 0.2872, 0.287061, 0.28649, 0.28597, 0.285724, 0.285407, 0.2849, 0.284472, 0.284012, 0.283357, 0.283272, 0.2831, 0.283815, 0.2839, 0.28428600000000004, 0.284427, 0.284429, 0.28441, 0.28441900000000003, 0.2858, 0.2866, 0.2867, 0.28613, 0.2848, 0.284961, 0.2843, 0.283959, 0.28326, 0.28286, 0.282815, 0.282763, 0.2833, 0.283526, 0.28346, 0.28381, 0.28359, 0.28343, 0.28306, 0.282466, 0.2819, 0.281697, 0.28082, 0.280883, 0.2807, 0.2803, 0.280686, 0.279925, 0.2802, 0.2799, 0.28, 0.280613, 0.2815, 0.2817, 0.282332, 0.281977, 0.28222600000000003, 0.2821, 0.2811, 0.28202, 0.282027, 0.281903, 0.2813], \"low\": [0.28509, 0.28586, 0.285887, 0.2855, 0.2855, 0.2855, 0.2855, 0.285586, 0.2855, 0.2854, 0.2854, 0.284939, 0.2848, 0.284496, 0.2843, 0.2843, 0.285277, 0.285078, 0.285069, 0.2859, 0.2852, 0.2852, 0.2859, 0.286404, 0.28699, 0.287145, 0.287098, 0.287051, 0.286989, 0.286733, 0.287071, 0.287396, 0.287591, 0.28765100000000005, 0.287484, 0.287245, 0.28678000000000003, 0.286933, 0.28706, 0.287054, 0.287672, 0.288097, 0.287709, 0.28745, 0.28674, 0.287041, 0.287149, 0.286909, 0.28709, 0.287419, 0.287513, 0.287341, 0.287461, 0.28736100000000003, 0.287152, 0.287174, 0.2872, 0.287, 0.286847, 0.28615, 0.28585, 0.2851, 0.28478000000000003, 0.284637, 0.284022, 0.2832, 0.282954, 0.2828, 0.2825, 0.2823, 0.28268000000000004, 0.28300000000000003, 0.283075, 0.283396, 0.283766, 0.28406, 0.283634, 0.2844, 0.285238, 0.285766, 0.2842, 0.2839, 0.284097, 0.2837, 0.2828, 0.2825, 0.2823, 0.282, 0.2816, 0.2816, 0.2825, 0.2821, 0.2827, 0.28289000000000003, 0.2827, 0.282289, 0.2813, 0.280986, 0.2803, 0.2802, 0.279615, 0.279568, 0.2795, 0.2794, 0.279493, 0.2791, 0.2791, 0.27938, 0.2796, 0.2805, 0.28067800000000004, 0.281208, 0.281323, 0.281535, 0.280594, 0.28005, 0.280737, 0.281039, 0.280767, 0.280175], \"open\": [0.28531300000000004, 0.2860075, 0.2860123333333333, 0.2860085714285714, 0.2856341666666667, 0.2856741666666666, 0.28564179999999995, 0.2857018333333333, 0.28563925, 0.2856748333333334, 0.2855792, 0.28554699999999994, 0.2850061666666666, 0.2848858333333333, 0.2845835, 0.28452, 0.2854608333333333, 0.2853833333333333, 0.2852281666666667, 0.2861405714285715, 0.2860361666666666, 0.2854004285714285, 0.2860148333333333, 0.2865675714285714, 0.28725140000000005, 0.2872835714285714, 0.28729600000000005, 0.2872292, 0.28722914285714285, 0.28700257142857144, 0.28763216666666674, 0.2879453333333333, 0.2877489999999999, 0.288147, 0.28786871428571426, 0.28789033333333336, 0.28771016666666666, 0.2871901666666667, 0.2872411428571429, 0.2873301428571429, 0.2879316666666667, 0.2882848, 0.2880915, 0.28794116666666664, 0.2876026666666667, 0.28728916666666665, 0.2873338, 0.2874058333333333, 0.2873875, 0.28753, 0.2877313333333333, 0.28750580000000003, 0.2876511666666666, 0.28761916666666665, 0.28764566666666663, 0.2873625714285715, 0.2875558, 0.2873108571428572, 0.2870205, 0.28685666666666665, 0.28626557142857145, 0.28578914285714285, 0.28534671428571434, 0.2850127142857143, 0.28463700000000003, 0.2840494285714286, 0.2833814, 0.2830951428571428, 0.2830105, 0.28284999999999993, 0.2828071428571429, 0.2833762, 0.2834801666666667, 0.28405833333333336, 0.2841542857142857, 0.2842716, 0.2840748333333333, 0.28449566666666665, 0.285576, 0.286396, 0.28575285714285714, 0.28429614285714283, 0.2844115714285714, 0.2840615714285715, 0.2836811428571429, 0.2829567142857143, 0.2826928333333333, 0.2826144285714286, 0.2824251428571429, 0.2819872857142857, 0.2829427142857143, 0.2826421428571429, 0.2832288571428571, 0.2830941666666667, 0.28327816666666666, 0.28282450000000003, 0.28225300000000003, 0.2815331666666667, 0.2814582857142857, 0.280561, 0.2802928571428572, 0.2801158333333333, 0.279928, 0.2800771428571429, 0.2797305, 0.2796497142857143, 0.27922225, 0.2796465, 0.27971616666666665, 0.2808131428571429, 0.2809927142857143, 0.2815296666666667, 0.28177757142857146, 0.2816985, 0.281729, 0.2806778333333333, 0.2811074000000001, 0.2817712857142857, 0.2814928571428572, 0.2809515714285715], \"type\": \"candlestick\", \"x\": [\"2021-09-20T21:45:00\", \"2021-09-20T21:46:00\", \"2021-09-20T21:47:00\", \"2021-09-20T21:48:00\", \"2021-09-20T21:49:00\", \"2021-09-20T21:50:00\", \"2021-09-20T21:51:00\", \"2021-09-20T21:52:00\", \"2021-09-20T21:53:00\", \"2021-09-20T21:54:00\", \"2021-09-20T21:55:00\", \"2021-09-20T21:56:00\", \"2021-09-20T21:57:00\", \"2021-09-20T21:58:00\", \"2021-09-20T21:59:00\", \"2021-09-20T22:00:00\", \"2021-09-20T22:01:00\", \"2021-09-20T22:02:00\", \"2021-09-20T22:03:00\", \"2021-09-20T22:04:00\", \"2021-09-20T22:05:00\", \"2021-09-20T22:06:00\", \"2021-09-20T22:07:00\", \"2021-09-20T22:08:00\", \"2021-09-20T22:09:00\", \"2021-09-20T22:10:00\", \"2021-09-20T22:11:00\", \"2021-09-20T22:12:00\", \"2021-09-20T22:13:00\", \"2021-09-20T22:14:00\", \"2021-09-20T22:15:00\", \"2021-09-20T22:16:00\", \"2021-09-20T22:17:00\", \"2021-09-20T22:18:00\", \"2021-09-20T22:19:00\", \"2021-09-20T22:20:00\", \"2021-09-20T22:21:00\", \"2021-09-20T22:22:00\", \"2021-09-20T22:23:00\", \"2021-09-20T22:24:00\", \"2021-09-20T22:25:00\", \"2021-09-20T22:26:00\", \"2021-09-20T22:27:00\", \"2021-09-20T22:28:00\", \"2021-09-20T22:29:00\", \"2021-09-20T22:30:00\", \"2021-09-20T22:31:00\", \"2021-09-20T22:32:00\", \"2021-09-20T22:33:00\", \"2021-09-20T22:34:00\", \"2021-09-20T22:35:00\", \"2021-09-20T22:36:00\", \"2021-09-20T22:37:00\", \"2021-09-20T22:38:00\", \"2021-09-20T22:39:00\", \"2021-09-20T22:40:00\", \"2021-09-20T22:41:00\", \"2021-09-20T22:42:00\", \"2021-09-20T22:43:00\", \"2021-09-20T22:44:00\", \"2021-09-20T22:45:00\", \"2021-09-20T22:46:00\", \"2021-09-20T22:47:00\", \"2021-09-20T22:48:00\", \"2021-09-20T22:49:00\", \"2021-09-20T22:50:00\", \"2021-09-20T22:51:00\", \"2021-09-20T22:52:00\", \"2021-09-20T22:53:00\", \"2021-09-20T22:54:00\", \"2021-09-20T22:55:00\", \"2021-09-20T22:56:00\", \"2021-09-20T22:57:00\", \"2021-09-20T22:58:00\", \"2021-09-20T22:59:00\", \"2021-09-20T23:00:00\", \"2021-09-20T23:01:00\", \"2021-09-20T23:02:00\", \"2021-09-20T23:03:00\", \"2021-09-20T23:04:00\", \"2021-09-20T23:05:00\", \"2021-09-20T23:06:00\", \"2021-09-20T23:07:00\", \"2021-09-20T23:08:00\", \"2021-09-20T23:09:00\", \"2021-09-20T23:10:00\", \"2021-09-20T23:11:00\", \"2021-09-20T23:12:00\", \"2021-09-20T23:13:00\", \"2021-09-20T23:14:00\", \"2021-09-20T23:15:00\", \"2021-09-20T23:16:00\", \"2021-09-20T23:17:00\", \"2021-09-20T23:18:00\", \"2021-09-20T23:19:00\", \"2021-09-20T23:20:00\", \"2021-09-20T23:21:00\", \"2021-09-20T23:22:00\", \"2021-09-20T23:23:00\", \"2021-09-20T23:24:00\", \"2021-09-20T23:25:00\", \"2021-09-20T23:26:00\", \"2021-09-20T23:27:00\", \"2021-09-20T23:28:00\", \"2021-09-20T23:29:00\", \"2021-09-20T23:30:00\", \"2021-09-20T23:31:00\", \"2021-09-20T23:32:00\", \"2021-09-20T23:33:00\", \"2021-09-20T23:34:00\", \"2021-09-20T23:35:00\", \"2021-09-20T23:36:00\", \"2021-09-20T23:37:00\", \"2021-09-20T23:38:00\", \"2021-09-20T23:39:00\", \"2021-09-20T23:40:00\", \"2021-09-20T23:41:00\", \"2021-09-20T23:42:00\", \"2021-09-20T23:43:00\", \"2021-09-20T23:44:00\"]}],\n",
              "                        {\"template\": {\"data\": {\"bar\": [{\"error_x\": {\"color\": \"#2a3f5f\"}, \"error_y\": {\"color\": \"#2a3f5f\"}, \"marker\": {\"line\": {\"color\": \"#E5ECF6\", \"width\": 0.5}}, \"type\": \"bar\"}], \"barpolar\": [{\"marker\": {\"line\": {\"color\": \"#E5ECF6\", \"width\": 0.5}}, \"type\": \"barpolar\"}], \"carpet\": [{\"aaxis\": {\"endlinecolor\": \"#2a3f5f\", \"gridcolor\": \"white\", \"linecolor\": \"white\", \"minorgridcolor\": \"white\", \"startlinecolor\": \"#2a3f5f\"}, \"baxis\": {\"endlinecolor\": \"#2a3f5f\", \"gridcolor\": \"white\", \"linecolor\": \"white\", \"minorgridcolor\": \"white\", \"startlinecolor\": \"#2a3f5f\"}, \"type\": \"carpet\"}], \"choropleth\": [{\"colorbar\": {\"outlinewidth\": 0, \"ticks\": \"\"}, \"type\": \"choropleth\"}], \"contour\": [{\"colorbar\": {\"outlinewidth\": 0, \"ticks\": \"\"}, \"colorscale\": [[0.0, \"#0d0887\"], [0.1111111111111111, \"#46039f\"], [0.2222222222222222, \"#7201a8\"], [0.3333333333333333, \"#9c179e\"], [0.4444444444444444, \"#bd3786\"], [0.5555555555555556, \"#d8576b\"], [0.6666666666666666, \"#ed7953\"], [0.7777777777777778, \"#fb9f3a\"], [0.8888888888888888, \"#fdca26\"], [1.0, \"#f0f921\"]], \"type\": \"contour\"}], \"contourcarpet\": [{\"colorbar\": {\"outlinewidth\": 0, \"ticks\": \"\"}, \"type\": \"contourcarpet\"}], \"heatmap\": [{\"colorbar\": {\"outlinewidth\": 0, \"ticks\": \"\"}, \"colorscale\": [[0.0, \"#0d0887\"], [0.1111111111111111, \"#46039f\"], [0.2222222222222222, \"#7201a8\"], [0.3333333333333333, \"#9c179e\"], [0.4444444444444444, \"#bd3786\"], [0.5555555555555556, \"#d8576b\"], [0.6666666666666666, \"#ed7953\"], [0.7777777777777778, \"#fb9f3a\"], [0.8888888888888888, \"#fdca26\"], [1.0, \"#f0f921\"]], \"type\": \"heatmap\"}], \"heatmapgl\": [{\"colorbar\": {\"outlinewidth\": 0, \"ticks\": \"\"}, \"colorscale\": [[0.0, \"#0d0887\"], [0.1111111111111111, \"#46039f\"], [0.2222222222222222, \"#7201a8\"], [0.3333333333333333, \"#9c179e\"], [0.4444444444444444, \"#bd3786\"], [0.5555555555555556, \"#d8576b\"], [0.6666666666666666, \"#ed7953\"], [0.7777777777777778, \"#fb9f3a\"], [0.8888888888888888, \"#fdca26\"], [1.0, \"#f0f921\"]], \"type\": \"heatmapgl\"}], \"histogram\": [{\"marker\": {\"colorbar\": {\"outlinewidth\": 0, \"ticks\": \"\"}}, \"type\": \"histogram\"}], \"histogram2d\": [{\"colorbar\": {\"outlinewidth\": 0, \"ticks\": \"\"}, \"colorscale\": [[0.0, \"#0d0887\"], [0.1111111111111111, \"#46039f\"], [0.2222222222222222, \"#7201a8\"], [0.3333333333333333, \"#9c179e\"], [0.4444444444444444, \"#bd3786\"], [0.5555555555555556, \"#d8576b\"], [0.6666666666666666, \"#ed7953\"], [0.7777777777777778, \"#fb9f3a\"], [0.8888888888888888, \"#fdca26\"], [1.0, \"#f0f921\"]], \"type\": \"histogram2d\"}], \"histogram2dcontour\": [{\"colorbar\": {\"outlinewidth\": 0, \"ticks\": \"\"}, \"colorscale\": [[0.0, \"#0d0887\"], [0.1111111111111111, \"#46039f\"], [0.2222222222222222, \"#7201a8\"], [0.3333333333333333, \"#9c179e\"], [0.4444444444444444, \"#bd3786\"], [0.5555555555555556, \"#d8576b\"], [0.6666666666666666, \"#ed7953\"], [0.7777777777777778, \"#fb9f3a\"], [0.8888888888888888, \"#fdca26\"], [1.0, \"#f0f921\"]], \"type\": \"histogram2dcontour\"}], \"mesh3d\": [{\"colorbar\": {\"outlinewidth\": 0, \"ticks\": \"\"}, \"type\": \"mesh3d\"}], \"parcoords\": [{\"line\": {\"colorbar\": {\"outlinewidth\": 0, \"ticks\": \"\"}}, \"type\": \"parcoords\"}], \"pie\": [{\"automargin\": true, \"type\": \"pie\"}], \"scatter\": [{\"marker\": {\"colorbar\": {\"outlinewidth\": 0, \"ticks\": \"\"}}, \"type\": \"scatter\"}], \"scatter3d\": [{\"line\": {\"colorbar\": {\"outlinewidth\": 0, \"ticks\": \"\"}}, \"marker\": {\"colorbar\": {\"outlinewidth\": 0, \"ticks\": \"\"}}, \"type\": \"scatter3d\"}], \"scattercarpet\": [{\"marker\": {\"colorbar\": {\"outlinewidth\": 0, \"ticks\": \"\"}}, \"type\": \"scattercarpet\"}], \"scattergeo\": [{\"marker\": {\"colorbar\": {\"outlinewidth\": 0, \"ticks\": \"\"}}, \"type\": \"scattergeo\"}], \"scattergl\": [{\"marker\": {\"colorbar\": {\"outlinewidth\": 0, \"ticks\": \"\"}}, \"type\": \"scattergl\"}], \"scattermapbox\": [{\"marker\": {\"colorbar\": {\"outlinewidth\": 0, \"ticks\": \"\"}}, \"type\": \"scattermapbox\"}], \"scatterpolar\": [{\"marker\": {\"colorbar\": {\"outlinewidth\": 0, \"ticks\": \"\"}}, \"type\": \"scatterpolar\"}], \"scatterpolargl\": [{\"marker\": {\"colorbar\": {\"outlinewidth\": 0, \"ticks\": \"\"}}, \"type\": \"scatterpolargl\"}], \"scatterternary\": [{\"marker\": {\"colorbar\": {\"outlinewidth\": 0, \"ticks\": \"\"}}, \"type\": \"scatterternary\"}], \"surface\": [{\"colorbar\": {\"outlinewidth\": 0, \"ticks\": \"\"}, \"colorscale\": [[0.0, \"#0d0887\"], [0.1111111111111111, \"#46039f\"], [0.2222222222222222, \"#7201a8\"], [0.3333333333333333, \"#9c179e\"], [0.4444444444444444, \"#bd3786\"], [0.5555555555555556, \"#d8576b\"], [0.6666666666666666, \"#ed7953\"], [0.7777777777777778, \"#fb9f3a\"], [0.8888888888888888, \"#fdca26\"], [1.0, \"#f0f921\"]], \"type\": \"surface\"}], \"table\": [{\"cells\": {\"fill\": {\"color\": \"#EBF0F8\"}, \"line\": {\"color\": \"white\"}}, \"header\": {\"fill\": {\"color\": \"#C8D4E3\"}, \"line\": {\"color\": \"white\"}}, \"type\": \"table\"}]}, \"layout\": {\"annotationdefaults\": {\"arrowcolor\": \"#2a3f5f\", \"arrowhead\": 0, \"arrowwidth\": 1}, \"coloraxis\": {\"colorbar\": {\"outlinewidth\": 0, \"ticks\": \"\"}}, \"colorscale\": {\"diverging\": [[0, \"#8e0152\"], [0.1, \"#c51b7d\"], [0.2, \"#de77ae\"], [0.3, \"#f1b6da\"], [0.4, \"#fde0ef\"], [0.5, \"#f7f7f7\"], [0.6, \"#e6f5d0\"], [0.7, \"#b8e186\"], [0.8, \"#7fbc41\"], [0.9, \"#4d9221\"], [1, \"#276419\"]], \"sequential\": [[0.0, \"#0d0887\"], [0.1111111111111111, \"#46039f\"], [0.2222222222222222, \"#7201a8\"], [0.3333333333333333, \"#9c179e\"], [0.4444444444444444, \"#bd3786\"], [0.5555555555555556, \"#d8576b\"], [0.6666666666666666, \"#ed7953\"], [0.7777777777777778, \"#fb9f3a\"], [0.8888888888888888, \"#fdca26\"], [1.0, \"#f0f921\"]], \"sequentialminus\": [[0.0, \"#0d0887\"], [0.1111111111111111, \"#46039f\"], [0.2222222222222222, \"#7201a8\"], [0.3333333333333333, \"#9c179e\"], [0.4444444444444444, \"#bd3786\"], [0.5555555555555556, \"#d8576b\"], [0.6666666666666666, \"#ed7953\"], [0.7777777777777778, \"#fb9f3a\"], [0.8888888888888888, \"#fdca26\"], [1.0, \"#f0f921\"]]}, \"colorway\": [\"#636efa\", \"#EF553B\", \"#00cc96\", \"#ab63fa\", \"#FFA15A\", \"#19d3f3\", \"#FF6692\", \"#B6E880\", \"#FF97FF\", \"#FECB52\"], \"font\": {\"color\": \"#2a3f5f\"}, \"geo\": {\"bgcolor\": \"white\", \"lakecolor\": \"white\", \"landcolor\": \"#E5ECF6\", \"showlakes\": true, \"showland\": true, \"subunitcolor\": \"white\"}, \"hoverlabel\": {\"align\": \"left\"}, \"hovermode\": \"closest\", \"mapbox\": {\"style\": \"light\"}, \"paper_bgcolor\": \"white\", \"plot_bgcolor\": \"#E5ECF6\", \"polar\": {\"angularaxis\": {\"gridcolor\": \"white\", \"linecolor\": \"white\", \"ticks\": \"\"}, \"bgcolor\": \"#E5ECF6\", \"radialaxis\": {\"gridcolor\": \"white\", \"linecolor\": \"white\", \"ticks\": \"\"}}, \"scene\": {\"xaxis\": {\"backgroundcolor\": \"#E5ECF6\", \"gridcolor\": \"white\", \"gridwidth\": 2, \"linecolor\": \"white\", \"showbackground\": true, \"ticks\": \"\", \"zerolinecolor\": \"white\"}, \"yaxis\": {\"backgroundcolor\": \"#E5ECF6\", \"gridcolor\": \"white\", \"gridwidth\": 2, \"linecolor\": \"white\", \"showbackground\": true, \"ticks\": \"\", \"zerolinecolor\": \"white\"}, \"zaxis\": {\"backgroundcolor\": \"#E5ECF6\", \"gridcolor\": \"white\", \"gridwidth\": 2, \"linecolor\": \"white\", \"showbackground\": true, \"ticks\": \"\", \"zerolinecolor\": \"white\"}}, \"shapedefaults\": {\"line\": {\"color\": \"#2a3f5f\"}}, \"ternary\": {\"aaxis\": {\"gridcolor\": \"white\", \"linecolor\": \"white\", \"ticks\": \"\"}, \"baxis\": {\"gridcolor\": \"white\", \"linecolor\": \"white\", \"ticks\": \"\"}, \"bgcolor\": \"#E5ECF6\", \"caxis\": {\"gridcolor\": \"white\", \"linecolor\": \"white\", \"ticks\": \"\"}}, \"title\": {\"x\": 0.05}, \"xaxis\": {\"automargin\": true, \"gridcolor\": \"white\", \"linecolor\": \"white\", \"ticks\": \"\", \"title\": {\"standoff\": 15}, \"zerolinecolor\": \"white\", \"zerolinewidth\": 2}, \"yaxis\": {\"automargin\": true, \"gridcolor\": \"white\", \"linecolor\": \"white\", \"ticks\": \"\", \"title\": {\"standoff\": 15}, \"zerolinecolor\": \"white\", \"zerolinewidth\": 2}}}, \"title\": {\"text\": \"Stellar Candelstick Chart\", \"x\": 0.5, \"xanchor\": \"center\", \"y\": 0.9, \"yanchor\": \"top\"}, \"xaxis\": {\"rangeslider\": {\"visible\": false}, \"title\": {\"text\": \"Time\"}}, \"yaxis\": {\"ticksuffix\": \"$\", \"title\": {\"text\": \"Price in USD\"}}},\n",
              "                        {\"responsive\": true}\n",
              "                    ).then(function(){\n",
              "                            \n",
              "var gd = document.getElementById('82059658-796e-462d-b630-b02b922cf0eb');\n",
              "var x = new MutationObserver(function (mutations, observer) {{\n",
              "        var display = window.getComputedStyle(gd).display;\n",
              "        if (!display || display === 'none') {{\n",
              "            console.log([gd, 'removed!']);\n",
              "            Plotly.purge(gd);\n",
              "            observer.disconnect();\n",
              "        }}\n",
              "}});\n",
              "\n",
              "// Listen for the removal of the full notebook cells\n",
              "var notebookContainer = gd.closest('#notebook-container');\n",
              "if (notebookContainer) {{\n",
              "    x.observe(notebookContainer, {childList: true});\n",
              "}}\n",
              "\n",
              "// Listen for the clearing of the current output cell\n",
              "var outputEl = gd.closest('.output');\n",
              "if (outputEl) {{\n",
              "    x.observe(outputEl, {childList: true});\n",
              "}}\n",
              "\n",
              "                        })\n",
              "                };\n",
              "                \n",
              "            </script>\n",
              "        </div>\n",
              "</body>\n",
              "</html>"
            ]
          },
          "metadata": {}
        }
      ]
    },
    {
      "cell_type": "markdown",
      "metadata": {
        "id": "ea08dea7"
      },
      "source": [
        "- TRON"
      ],
      "id": "ea08dea7"
    },
    {
      "cell_type": "code",
      "metadata": {
        "colab": {
          "base_uri": "https://localhost:8080/",
          "height": 542
        },
        "id": "0e689039",
        "outputId": "6b0ec52e-2d3a-471a-8635-2a38b67b8b7d"
      },
      "source": [
        "tron_plot = candelstick_chart(tron[-120:], title=\"TRON\")\n",
        "tron_plot.show()"
      ],
      "id": "0e689039",
      "execution_count": 26,
      "outputs": [
        {
          "output_type": "display_data",
          "data": {
            "text/html": [
              "<html>\n",
              "<head><meta charset=\"utf-8\" /></head>\n",
              "<body>\n",
              "    <div>\n",
              "            <script src=\"https://cdnjs.cloudflare.com/ajax/libs/mathjax/2.7.5/MathJax.js?config=TeX-AMS-MML_SVG\"></script><script type=\"text/javascript\">if (window.MathJax) {MathJax.Hub.Config({SVG: {font: \"STIX-Web\"}});}</script>\n",
              "                <script type=\"text/javascript\">window.PlotlyConfig = {MathJaxConfig: 'local'};</script>\n",
              "        <script src=\"https://cdn.plot.ly/plotly-latest.min.js\"></script>    \n",
              "            <div id=\"beb268d6-1166-4898-8616-c22a70bdc4d1\" class=\"plotly-graph-div\" style=\"height:525px; width:100%;\"></div>\n",
              "            <script type=\"text/javascript\">\n",
              "                \n",
              "                    window.PLOTLYENV=window.PLOTLYENV || {};\n",
              "                    \n",
              "                if (document.getElementById(\"beb268d6-1166-4898-8616-c22a70bdc4d1\")) {\n",
              "                    Plotly.newPlot(\n",
              "                        'beb268d6-1166-4898-8616-c22a70bdc4d1',\n",
              "                        [{\"close\": [0.093867206, 0.09390625, 0.093923734, 0.093742485, 0.093713, 0.09372925, 0.0938298, 0.09377563800000002, 0.093692, 0.0936994, 0.09366933333333334, 0.0934242, 0.093391, 0.0933462, 0.09324, 0.0934414, 0.093524, 0.09342899999999996, 0.0935845, 0.09375533333333334, 0.09354680000000001, 0.0936416, 0.09385425, 0.0940382, 0.0940735, 0.0941668, 0.0942334, 0.09422933333333333, 0.0942278, 0.0943378, 0.0944668, 0.09460075, 0.0948674, 0.09495775, 0.09490400000000004, 0.09496039999999999, 0.094879008, 0.0949638, 0.0950788, 0.095004, 0.0950316, 0.09494925, 0.0949175, 0.09475739999999999, 0.0947522, 0.094821, 0.0947665, 0.0947388, 0.0947655, 0.09479575, 0.0948652, 0.09484, 0.09480199999999996, 0.094776, 0.09466875, 0.0947096, 0.09460675, 0.09456833333333332, 0.09448925, 0.0943956, 0.09430575, 0.094269572, 0.09425225, 0.0942426475, 0.0939078, 0.0937636, 0.093659, 0.0935482, 0.093497, 0.0932378, 0.0933012, 0.0932165, 0.0932076, 0.09317025, 0.09316825, 0.0933882, 0.0933445, 0.0935926, 0.093822, 0.0936145, 0.0931654, 0.093092, 0.09312025, 0.0929268, 0.0927364, 0.0925432, 0.092508, 0.092451, 0.0923484, 0.0927125, 0.092349, 0.0924372, 0.0924288, 0.09239025, 0.0922858, 0.09215860000000001, 0.0919256, 0.09207233333333333, 0.09190513, 0.091682, 0.09157260000000003, 0.09151225, 0.0915272, 0.0913026, 0.0912034, 0.091022, 0.0909795, 0.091004952, 0.0910302, 0.0911156, 0.091108, 0.09124550000000001, 0.09108525, 0.09114225, 0.0909318, 0.0909412, 0.09120325, 0.09117975, 0.091081, 0.09088539999999999], \"high\": [0.093939, 0.09393, 0.09394, 0.09394, 0.093749, 0.093756, 0.09392, 0.093911, 0.093773, 0.093739, 0.09371, 0.09368, 0.09341, 0.093419, 0.093342, 0.0935, 0.093669, 0.09359, 0.093665, 0.093791, 0.093785, 0.093718, 0.093895, 0.09409, 0.09412, 0.094261, 0.09427, 0.0943, 0.09432, 0.09459, 0.09457, 0.09466, 0.09496, 0.094999, 0.095, 0.09499, 0.09513, 0.09505, 0.09517, 0.095115, 0.09507, 0.095084, 0.09504, 0.095, 0.094856, 0.09486, 0.09485, 0.09483, 0.094812, 0.09484, 0.094951, 0.09487, 0.09491, 0.094844, 0.094824, 0.09478, 0.09477, 0.09464, 0.09456, 0.09464, 0.09445, 0.094331, 0.094492, 0.09437, 0.094232, 0.09406, 0.093865, 0.09368, 0.09364, 0.09347, 0.093534, 0.093405, 0.09332, 0.093385, 0.093301, 0.09352, 0.09343, 0.09374, 0.09392, 0.09397, 0.09365, 0.09331, 0.09331, 0.09315, 0.092941, 0.09273, 0.092607, 0.092527, 0.09254, 0.09286, 0.09287, 0.09259, 0.09263, 0.092513, 0.092468, 0.092321, 0.092183, 0.092162, 0.092075, 0.09188, 0.091822, 0.091748, 0.091633, 0.09161, 0.09143, 0.091369, 0.091171, 0.091168, 0.091108, 0.091394, 0.091296, 0.09134, 0.091351, 0.091286, 0.0913, 0.091054, 0.091277, 0.091295, 0.09129, 0.091133], \"low\": [0.093819, 0.093871, 0.093877, 0.09371, 0.09367, 0.09367, 0.093666, 0.093739, 0.093668, 0.093677, 0.09366, 0.09339, 0.09336, 0.093316, 0.0932, 0.09322, 0.093453, 0.093412, 0.093396, 0.09363, 0.093447, 0.09343, 0.093629, 0.09387, 0.093943, 0.094, 0.094131, 0.094175, 0.094176, 0.094178, 0.094217, 0.094498, 0.094594, 0.094756, 0.094813, 0.094879, 0.094767, 0.094887, 0.09497, 0.09499, 0.094964, 0.094885, 0.094855, 0.094687, 0.094653, 0.094686, 0.094728, 0.094615, 0.094687, 0.094732, 0.09475, 0.094763, 0.094765, 0.094743, 0.094599, 0.094532, 0.094577, 0.094514, 0.09444, 0.094339, 0.094258, 0.09419, 0.0942, 0.09418, 0.093859, 0.09371, 0.093598, 0.09348, 0.09341, 0.093161, 0.093214, 0.093031, 0.093009, 0.09304, 0.093034, 0.093229, 0.093128, 0.093376, 0.093519, 0.093543, 0.09312, 0.093023, 0.093041, 0.09288, 0.09268, 0.09252, 0.092412, 0.0923, 0.09229, 0.092306, 0.0923, 0.09217, 0.09231, 0.092253, 0.092188, 0.0921, 0.091868, 0.09186, 0.09174, 0.091632, 0.09149, 0.091439, 0.091331, 0.091163, 0.091144, 0.090913, 0.090786, 0.090906, 0.090911, 0.091, 0.09106, 0.0911, 0.091042, 0.091077, 0.090847, 0.09071, 0.09098, 0.091092, 0.091028, 0.090831], \"open\": [0.093840406, 0.0939016675, 0.093901934, 0.0939136675, 0.09373933333333333, 0.09371375, 0.0937448, 0.09387523800000001, 0.0937525, 0.09370980000000001, 0.093684, 0.093664, 0.093397, 0.0933988, 0.093311, 0.0932348, 0.0935364, 0.093514, 0.09342225, 0.09366033333333333, 0.093743, 0.0935444, 0.093679, 0.0938904, 0.09403125, 0.0940714, 0.0941724, 0.09426633333333334, 0.0942444, 0.094267, 0.094336, 0.09453875, 0.094638952, 0.094848735, 0.0949345, 0.0949206, 0.0949928, 0.094953, 0.09503, 0.0950705, 0.0950206, 0.0950315, 0.094956, 0.0949276, 0.0947372, 0.09476375, 0.094825, 0.094746, 0.09478675, 0.094786, 0.094835, 0.094837, 0.09483275, 0.0947945, 0.09477025, 0.094618, 0.0947105, 0.09458433333333333, 0.09454574999999996, 0.0944734, 0.0943715, 0.094283372, 0.09427425, 0.0942501475, 0.0941732, 0.0939704, 0.09374299999999999, 0.0936262, 0.0935602, 0.0934252, 0.0932484, 0.093311, 0.0931736, 0.09322325, 0.093182, 0.0932618, 0.09335975, 0.0934304, 0.09364019999999999, 0.09376825, 0.09352950199999999, 0.0931202, 0.093084, 0.0930474, 0.092891, 0.09267919999999999, 0.092549, 0.0924702, 0.0924696, 0.092391, 0.0926546, 0.0923214, 0.0925506, 0.09230075, 0.0923784, 0.0922144, 0.0921026, 0.091981, 0.09200913, 0.09180575, 0.0916728, 0.09153825, 0.0915192, 0.091459, 0.0912374, 0.09116060000000001, 0.091031, 0.0909616, 0.0909576, 0.091074352, 0.09110525, 0.09113775, 0.09124750000000001, 0.091137, 0.0910594, 0.0908846, 0.09101025, 0.09117075, 0.091206284, 0.0909886], \"type\": \"candlestick\", \"x\": [\"2021-09-20T21:45:00\", \"2021-09-20T21:46:00\", \"2021-09-20T21:47:00\", \"2021-09-20T21:48:00\", \"2021-09-20T21:49:00\", \"2021-09-20T21:50:00\", \"2021-09-20T21:51:00\", \"2021-09-20T21:52:00\", \"2021-09-20T21:53:00\", \"2021-09-20T21:54:00\", \"2021-09-20T21:55:00\", \"2021-09-20T21:56:00\", \"2021-09-20T21:57:00\", \"2021-09-20T21:58:00\", \"2021-09-20T21:59:00\", \"2021-09-20T22:00:00\", \"2021-09-20T22:01:00\", \"2021-09-20T22:02:00\", \"2021-09-20T22:03:00\", \"2021-09-20T22:04:00\", \"2021-09-20T22:05:00\", \"2021-09-20T22:06:00\", \"2021-09-20T22:07:00\", \"2021-09-20T22:08:00\", \"2021-09-20T22:09:00\", \"2021-09-20T22:10:00\", \"2021-09-20T22:11:00\", \"2021-09-20T22:12:00\", \"2021-09-20T22:13:00\", \"2021-09-20T22:14:00\", \"2021-09-20T22:15:00\", \"2021-09-20T22:16:00\", \"2021-09-20T22:17:00\", \"2021-09-20T22:18:00\", \"2021-09-20T22:19:00\", \"2021-09-20T22:20:00\", \"2021-09-20T22:21:00\", \"2021-09-20T22:22:00\", \"2021-09-20T22:23:00\", \"2021-09-20T22:24:00\", \"2021-09-20T22:25:00\", \"2021-09-20T22:26:00\", \"2021-09-20T22:27:00\", \"2021-09-20T22:28:00\", \"2021-09-20T22:29:00\", \"2021-09-20T22:30:00\", \"2021-09-20T22:31:00\", \"2021-09-20T22:32:00\", \"2021-09-20T22:33:00\", \"2021-09-20T22:34:00\", \"2021-09-20T22:35:00\", \"2021-09-20T22:36:00\", \"2021-09-20T22:37:00\", \"2021-09-20T22:38:00\", \"2021-09-20T22:39:00\", \"2021-09-20T22:40:00\", \"2021-09-20T22:41:00\", \"2021-09-20T22:42:00\", \"2021-09-20T22:43:00\", \"2021-09-20T22:44:00\", \"2021-09-20T22:45:00\", \"2021-09-20T22:46:00\", \"2021-09-20T22:47:00\", \"2021-09-20T22:48:00\", \"2021-09-20T22:49:00\", \"2021-09-20T22:50:00\", \"2021-09-20T22:51:00\", \"2021-09-20T22:52:00\", \"2021-09-20T22:53:00\", \"2021-09-20T22:54:00\", \"2021-09-20T22:55:00\", \"2021-09-20T22:56:00\", \"2021-09-20T22:57:00\", \"2021-09-20T22:58:00\", \"2021-09-20T22:59:00\", \"2021-09-20T23:00:00\", \"2021-09-20T23:01:00\", \"2021-09-20T23:02:00\", \"2021-09-20T23:03:00\", \"2021-09-20T23:04:00\", \"2021-09-20T23:05:00\", \"2021-09-20T23:06:00\", \"2021-09-20T23:07:00\", \"2021-09-20T23:08:00\", \"2021-09-20T23:09:00\", \"2021-09-20T23:10:00\", \"2021-09-20T23:11:00\", \"2021-09-20T23:12:00\", \"2021-09-20T23:13:00\", \"2021-09-20T23:14:00\", \"2021-09-20T23:15:00\", \"2021-09-20T23:16:00\", \"2021-09-20T23:17:00\", \"2021-09-20T23:18:00\", \"2021-09-20T23:19:00\", \"2021-09-20T23:20:00\", \"2021-09-20T23:21:00\", \"2021-09-20T23:22:00\", \"2021-09-20T23:23:00\", \"2021-09-20T23:24:00\", \"2021-09-20T23:25:00\", \"2021-09-20T23:26:00\", \"2021-09-20T23:27:00\", \"2021-09-20T23:28:00\", \"2021-09-20T23:29:00\", \"2021-09-20T23:30:00\", \"2021-09-20T23:31:00\", \"2021-09-20T23:32:00\", \"2021-09-20T23:33:00\", \"2021-09-20T23:34:00\", \"2021-09-20T23:35:00\", \"2021-09-20T23:36:00\", \"2021-09-20T23:37:00\", \"2021-09-20T23:38:00\", \"2021-09-20T23:39:00\", \"2021-09-20T23:40:00\", \"2021-09-20T23:41:00\", \"2021-09-20T23:42:00\", \"2021-09-20T23:43:00\", \"2021-09-20T23:44:00\"]}],\n",
              "                        {\"template\": {\"data\": {\"bar\": [{\"error_x\": {\"color\": \"#2a3f5f\"}, \"error_y\": {\"color\": \"#2a3f5f\"}, \"marker\": {\"line\": {\"color\": \"#E5ECF6\", \"width\": 0.5}}, \"type\": \"bar\"}], \"barpolar\": [{\"marker\": {\"line\": {\"color\": \"#E5ECF6\", \"width\": 0.5}}, \"type\": \"barpolar\"}], \"carpet\": [{\"aaxis\": {\"endlinecolor\": \"#2a3f5f\", \"gridcolor\": \"white\", \"linecolor\": \"white\", \"minorgridcolor\": \"white\", \"startlinecolor\": \"#2a3f5f\"}, \"baxis\": {\"endlinecolor\": \"#2a3f5f\", \"gridcolor\": \"white\", \"linecolor\": \"white\", \"minorgridcolor\": \"white\", \"startlinecolor\": \"#2a3f5f\"}, \"type\": \"carpet\"}], \"choropleth\": [{\"colorbar\": {\"outlinewidth\": 0, \"ticks\": \"\"}, \"type\": \"choropleth\"}], \"contour\": [{\"colorbar\": {\"outlinewidth\": 0, \"ticks\": \"\"}, \"colorscale\": [[0.0, \"#0d0887\"], [0.1111111111111111, \"#46039f\"], [0.2222222222222222, \"#7201a8\"], [0.3333333333333333, \"#9c179e\"], [0.4444444444444444, \"#bd3786\"], [0.5555555555555556, \"#d8576b\"], [0.6666666666666666, \"#ed7953\"], [0.7777777777777778, \"#fb9f3a\"], [0.8888888888888888, \"#fdca26\"], [1.0, \"#f0f921\"]], \"type\": \"contour\"}], \"contourcarpet\": [{\"colorbar\": {\"outlinewidth\": 0, \"ticks\": \"\"}, \"type\": \"contourcarpet\"}], \"heatmap\": [{\"colorbar\": {\"outlinewidth\": 0, \"ticks\": \"\"}, \"colorscale\": [[0.0, \"#0d0887\"], [0.1111111111111111, \"#46039f\"], [0.2222222222222222, \"#7201a8\"], [0.3333333333333333, \"#9c179e\"], [0.4444444444444444, \"#bd3786\"], [0.5555555555555556, \"#d8576b\"], [0.6666666666666666, \"#ed7953\"], [0.7777777777777778, \"#fb9f3a\"], [0.8888888888888888, \"#fdca26\"], [1.0, \"#f0f921\"]], \"type\": \"heatmap\"}], \"heatmapgl\": [{\"colorbar\": {\"outlinewidth\": 0, \"ticks\": \"\"}, \"colorscale\": [[0.0, \"#0d0887\"], [0.1111111111111111, \"#46039f\"], [0.2222222222222222, \"#7201a8\"], [0.3333333333333333, \"#9c179e\"], [0.4444444444444444, \"#bd3786\"], [0.5555555555555556, \"#d8576b\"], [0.6666666666666666, \"#ed7953\"], [0.7777777777777778, \"#fb9f3a\"], [0.8888888888888888, \"#fdca26\"], [1.0, \"#f0f921\"]], \"type\": \"heatmapgl\"}], \"histogram\": [{\"marker\": {\"colorbar\": {\"outlinewidth\": 0, \"ticks\": \"\"}}, \"type\": \"histogram\"}], \"histogram2d\": [{\"colorbar\": {\"outlinewidth\": 0, \"ticks\": \"\"}, \"colorscale\": [[0.0, \"#0d0887\"], [0.1111111111111111, \"#46039f\"], [0.2222222222222222, \"#7201a8\"], [0.3333333333333333, \"#9c179e\"], [0.4444444444444444, \"#bd3786\"], [0.5555555555555556, \"#d8576b\"], [0.6666666666666666, \"#ed7953\"], [0.7777777777777778, \"#fb9f3a\"], [0.8888888888888888, \"#fdca26\"], [1.0, \"#f0f921\"]], \"type\": \"histogram2d\"}], \"histogram2dcontour\": [{\"colorbar\": {\"outlinewidth\": 0, \"ticks\": \"\"}, \"colorscale\": [[0.0, \"#0d0887\"], [0.1111111111111111, \"#46039f\"], [0.2222222222222222, \"#7201a8\"], [0.3333333333333333, \"#9c179e\"], [0.4444444444444444, \"#bd3786\"], [0.5555555555555556, \"#d8576b\"], [0.6666666666666666, \"#ed7953\"], [0.7777777777777778, \"#fb9f3a\"], [0.8888888888888888, \"#fdca26\"], [1.0, \"#f0f921\"]], \"type\": \"histogram2dcontour\"}], \"mesh3d\": [{\"colorbar\": {\"outlinewidth\": 0, \"ticks\": \"\"}, \"type\": \"mesh3d\"}], \"parcoords\": [{\"line\": {\"colorbar\": {\"outlinewidth\": 0, \"ticks\": \"\"}}, \"type\": \"parcoords\"}], \"pie\": [{\"automargin\": true, \"type\": \"pie\"}], \"scatter\": [{\"marker\": {\"colorbar\": {\"outlinewidth\": 0, \"ticks\": \"\"}}, \"type\": \"scatter\"}], \"scatter3d\": [{\"line\": {\"colorbar\": {\"outlinewidth\": 0, \"ticks\": \"\"}}, \"marker\": {\"colorbar\": {\"outlinewidth\": 0, \"ticks\": \"\"}}, \"type\": \"scatter3d\"}], \"scattercarpet\": [{\"marker\": {\"colorbar\": {\"outlinewidth\": 0, \"ticks\": \"\"}}, \"type\": \"scattercarpet\"}], \"scattergeo\": [{\"marker\": {\"colorbar\": {\"outlinewidth\": 0, \"ticks\": \"\"}}, \"type\": \"scattergeo\"}], \"scattergl\": [{\"marker\": {\"colorbar\": {\"outlinewidth\": 0, \"ticks\": \"\"}}, \"type\": \"scattergl\"}], \"scattermapbox\": [{\"marker\": {\"colorbar\": {\"outlinewidth\": 0, \"ticks\": \"\"}}, \"type\": \"scattermapbox\"}], \"scatterpolar\": [{\"marker\": {\"colorbar\": {\"outlinewidth\": 0, \"ticks\": \"\"}}, \"type\": \"scatterpolar\"}], \"scatterpolargl\": [{\"marker\": {\"colorbar\": {\"outlinewidth\": 0, \"ticks\": \"\"}}, \"type\": \"scatterpolargl\"}], \"scatterternary\": [{\"marker\": {\"colorbar\": {\"outlinewidth\": 0, \"ticks\": \"\"}}, \"type\": \"scatterternary\"}], \"surface\": [{\"colorbar\": {\"outlinewidth\": 0, \"ticks\": \"\"}, \"colorscale\": [[0.0, \"#0d0887\"], [0.1111111111111111, \"#46039f\"], [0.2222222222222222, \"#7201a8\"], [0.3333333333333333, \"#9c179e\"], [0.4444444444444444, \"#bd3786\"], [0.5555555555555556, \"#d8576b\"], [0.6666666666666666, \"#ed7953\"], [0.7777777777777778, \"#fb9f3a\"], [0.8888888888888888, \"#fdca26\"], [1.0, \"#f0f921\"]], \"type\": \"surface\"}], \"table\": [{\"cells\": {\"fill\": {\"color\": \"#EBF0F8\"}, \"line\": {\"color\": \"white\"}}, \"header\": {\"fill\": {\"color\": \"#C8D4E3\"}, \"line\": {\"color\": \"white\"}}, \"type\": \"table\"}]}, \"layout\": {\"annotationdefaults\": {\"arrowcolor\": \"#2a3f5f\", \"arrowhead\": 0, \"arrowwidth\": 1}, \"coloraxis\": {\"colorbar\": {\"outlinewidth\": 0, \"ticks\": \"\"}}, \"colorscale\": {\"diverging\": [[0, \"#8e0152\"], [0.1, \"#c51b7d\"], [0.2, \"#de77ae\"], [0.3, \"#f1b6da\"], [0.4, \"#fde0ef\"], [0.5, \"#f7f7f7\"], [0.6, \"#e6f5d0\"], [0.7, \"#b8e186\"], [0.8, \"#7fbc41\"], [0.9, \"#4d9221\"], [1, \"#276419\"]], \"sequential\": [[0.0, \"#0d0887\"], [0.1111111111111111, \"#46039f\"], [0.2222222222222222, \"#7201a8\"], [0.3333333333333333, \"#9c179e\"], [0.4444444444444444, \"#bd3786\"], [0.5555555555555556, \"#d8576b\"], [0.6666666666666666, \"#ed7953\"], [0.7777777777777778, \"#fb9f3a\"], [0.8888888888888888, \"#fdca26\"], [1.0, \"#f0f921\"]], \"sequentialminus\": [[0.0, \"#0d0887\"], [0.1111111111111111, \"#46039f\"], [0.2222222222222222, \"#7201a8\"], [0.3333333333333333, \"#9c179e\"], [0.4444444444444444, \"#bd3786\"], [0.5555555555555556, \"#d8576b\"], [0.6666666666666666, \"#ed7953\"], [0.7777777777777778, \"#fb9f3a\"], [0.8888888888888888, \"#fdca26\"], [1.0, \"#f0f921\"]]}, \"colorway\": [\"#636efa\", \"#EF553B\", \"#00cc96\", \"#ab63fa\", \"#FFA15A\", \"#19d3f3\", \"#FF6692\", \"#B6E880\", \"#FF97FF\", \"#FECB52\"], \"font\": {\"color\": \"#2a3f5f\"}, \"geo\": {\"bgcolor\": \"white\", \"lakecolor\": \"white\", \"landcolor\": \"#E5ECF6\", \"showlakes\": true, \"showland\": true, \"subunitcolor\": \"white\"}, \"hoverlabel\": {\"align\": \"left\"}, \"hovermode\": \"closest\", \"mapbox\": {\"style\": \"light\"}, \"paper_bgcolor\": \"white\", \"plot_bgcolor\": \"#E5ECF6\", \"polar\": {\"angularaxis\": {\"gridcolor\": \"white\", \"linecolor\": \"white\", \"ticks\": \"\"}, \"bgcolor\": \"#E5ECF6\", \"radialaxis\": {\"gridcolor\": \"white\", \"linecolor\": \"white\", \"ticks\": \"\"}}, \"scene\": {\"xaxis\": {\"backgroundcolor\": \"#E5ECF6\", \"gridcolor\": \"white\", \"gridwidth\": 2, \"linecolor\": \"white\", \"showbackground\": true, \"ticks\": \"\", \"zerolinecolor\": \"white\"}, \"yaxis\": {\"backgroundcolor\": \"#E5ECF6\", \"gridcolor\": \"white\", \"gridwidth\": 2, \"linecolor\": \"white\", \"showbackground\": true, \"ticks\": \"\", \"zerolinecolor\": \"white\"}, \"zaxis\": {\"backgroundcolor\": \"#E5ECF6\", \"gridcolor\": \"white\", \"gridwidth\": 2, \"linecolor\": \"white\", \"showbackground\": true, \"ticks\": \"\", \"zerolinecolor\": \"white\"}}, \"shapedefaults\": {\"line\": {\"color\": \"#2a3f5f\"}}, \"ternary\": {\"aaxis\": {\"gridcolor\": \"white\", \"linecolor\": \"white\", \"ticks\": \"\"}, \"baxis\": {\"gridcolor\": \"white\", \"linecolor\": \"white\", \"ticks\": \"\"}, \"bgcolor\": \"#E5ECF6\", \"caxis\": {\"gridcolor\": \"white\", \"linecolor\": \"white\", \"ticks\": \"\"}}, \"title\": {\"x\": 0.05}, \"xaxis\": {\"automargin\": true, \"gridcolor\": \"white\", \"linecolor\": \"white\", \"ticks\": \"\", \"title\": {\"standoff\": 15}, \"zerolinecolor\": \"white\", \"zerolinewidth\": 2}, \"yaxis\": {\"automargin\": true, \"gridcolor\": \"white\", \"linecolor\": \"white\", \"ticks\": \"\", \"title\": {\"standoff\": 15}, \"zerolinecolor\": \"white\", \"zerolinewidth\": 2}}}, \"title\": {\"text\": \"TRON Candelstick Chart\", \"x\": 0.5, \"xanchor\": \"center\", \"y\": 0.9, \"yanchor\": \"top\"}, \"xaxis\": {\"rangeslider\": {\"visible\": false}, \"title\": {\"text\": \"Time\"}}, \"yaxis\": {\"ticksuffix\": \"$\", \"title\": {\"text\": \"Price in USD\"}}},\n",
              "                        {\"responsive\": true}\n",
              "                    ).then(function(){\n",
              "                            \n",
              "var gd = document.getElementById('beb268d6-1166-4898-8616-c22a70bdc4d1');\n",
              "var x = new MutationObserver(function (mutations, observer) {{\n",
              "        var display = window.getComputedStyle(gd).display;\n",
              "        if (!display || display === 'none') {{\n",
              "            console.log([gd, 'removed!']);\n",
              "            Plotly.purge(gd);\n",
              "            observer.disconnect();\n",
              "        }}\n",
              "}});\n",
              "\n",
              "// Listen for the removal of the full notebook cells\n",
              "var notebookContainer = gd.closest('#notebook-container');\n",
              "if (notebookContainer) {{\n",
              "    x.observe(notebookContainer, {childList: true});\n",
              "}}\n",
              "\n",
              "// Listen for the clearing of the current output cell\n",
              "var outputEl = gd.closest('.output');\n",
              "if (outputEl) {{\n",
              "    x.observe(outputEl, {childList: true});\n",
              "}}\n",
              "\n",
              "                        })\n",
              "                };\n",
              "                \n",
              "            </script>\n",
              "        </div>\n",
              "</body>\n",
              "</html>"
            ]
          },
          "metadata": {}
        }
      ]
    },
    {
      "cell_type": "markdown",
      "metadata": {
        "id": "i0E1QP6Vw9px"
      },
      "source": [
        "Visually, we can conclude that some currencies are more stable than others. The ups and downs seems to follow the same series but the amplitude are variable. For instance, IOTA shows great difference between the parameters ohlc."
      ],
      "id": "i0E1QP6Vw9px"
    },
    {
      "cell_type": "markdown",
      "metadata": {
        "id": "085d2677"
      },
      "source": [
        "### b) Volume exchange"
      ],
      "id": "085d2677"
    },
    {
      "cell_type": "markdown",
      "metadata": {
        "id": "Siuq-Goz1VQX"
      },
      "source": [
        "Second visualisation is about volume traded during the last 60 minutes. "
      ],
      "id": "Siuq-Goz1VQX"
    },
    {
      "cell_type": "markdown",
      "metadata": {
        "id": "CI4cTVaF1dvp"
      },
      "source": [
        "- Binance Coin"
      ],
      "id": "CI4cTVaF1dvp"
    },
    {
      "cell_type": "code",
      "metadata": {
        "colab": {
          "base_uri": "https://localhost:8080/",
          "height": 542
        },
        "id": "3defc2eb",
        "outputId": "6b130b85-7f29-4f8b-da88-9aabb02c8ba4"
      },
      "source": [
        "vol_traded(binance[-60:], \"Binance Coin\", color=\"Green\")"
      ],
      "id": "3defc2eb",
      "execution_count": 27,
      "outputs": [
        {
          "output_type": "display_data",
          "data": {
            "text/html": [
              "<html>\n",
              "<head><meta charset=\"utf-8\" /></head>\n",
              "<body>\n",
              "    <div>\n",
              "            <script src=\"https://cdnjs.cloudflare.com/ajax/libs/mathjax/2.7.5/MathJax.js?config=TeX-AMS-MML_SVG\"></script><script type=\"text/javascript\">if (window.MathJax) {MathJax.Hub.Config({SVG: {font: \"STIX-Web\"}});}</script>\n",
              "                <script type=\"text/javascript\">window.PlotlyConfig = {MathJaxConfig: 'local'};</script>\n",
              "        <script src=\"https://cdn.plot.ly/plotly-latest.min.js\"></script>    \n",
              "            <div id=\"d4a3add5-3eb9-4a5f-acf7-40f901b58c62\" class=\"plotly-graph-div\" style=\"height:525px; width:100%;\"></div>\n",
              "            <script type=\"text/javascript\">\n",
              "                \n",
              "                    window.PLOTLYENV=window.PLOTLYENV || {};\n",
              "                    \n",
              "                if (document.getElementById(\"d4a3add5-3eb9-4a5f-acf7-40f901b58c62\")) {\n",
              "                    Plotly.newPlot(\n",
              "                        'd4a3add5-3eb9-4a5f-acf7-40f901b58c62',\n",
              "                        [{\"hoverlabel\": {\"namelength\": 0}, \"hovertemplate\": \"x=%{x}<br>volume=%{y}\", \"legendgroup\": \"\", \"line\": {\"color\": \"Green\"}, \"mode\": \"lines\", \"name\": \"\", \"orientation\": \"v\", \"showlegend\": false, \"stackgroup\": \"1\", \"type\": \"scatter\", \"x\": [\"2021-09-20T22:45:00\", \"2021-09-20T22:46:00\", \"2021-09-20T22:47:00\", \"2021-09-20T22:48:00\", \"2021-09-20T22:49:00\", \"2021-09-20T22:50:00\", \"2021-09-20T22:51:00\", \"2021-09-20T22:52:00\", \"2021-09-20T22:53:00\", \"2021-09-20T22:54:00\", \"2021-09-20T22:55:00\", \"2021-09-20T22:56:00\", \"2021-09-20T22:57:00\", \"2021-09-20T22:58:00\", \"2021-09-20T22:59:00\", \"2021-09-20T23:00:00\", \"2021-09-20T23:01:00\", \"2021-09-20T23:02:00\", \"2021-09-20T23:03:00\", \"2021-09-20T23:04:00\", \"2021-09-20T23:05:00\", \"2021-09-20T23:06:00\", \"2021-09-20T23:07:00\", \"2021-09-20T23:08:00\", \"2021-09-20T23:09:00\", \"2021-09-20T23:10:00\", \"2021-09-20T23:11:00\", \"2021-09-20T23:12:00\", \"2021-09-20T23:13:00\", \"2021-09-20T23:14:00\", \"2021-09-20T23:15:00\", \"2021-09-20T23:16:00\", \"2021-09-20T23:17:00\", \"2021-09-20T23:18:00\", \"2021-09-20T23:19:00\", \"2021-09-20T23:20:00\", \"2021-09-20T23:21:00\", \"2021-09-20T23:22:00\", \"2021-09-20T23:23:00\", \"2021-09-20T23:24:00\", \"2021-09-20T23:25:00\", \"2021-09-20T23:26:00\", \"2021-09-20T23:27:00\", \"2021-09-20T23:28:00\", \"2021-09-20T23:29:00\", \"2021-09-20T23:30:00\", \"2021-09-20T23:31:00\", \"2021-09-20T23:32:00\", \"2021-09-20T23:33:00\", \"2021-09-20T23:34:00\", \"2021-09-20T23:35:00\", \"2021-09-20T23:36:00\", \"2021-09-20T23:37:00\", \"2021-09-20T23:38:00\", \"2021-09-20T23:39:00\", \"2021-09-20T23:40:00\", \"2021-09-20T23:41:00\", \"2021-09-20T23:42:00\", \"2021-09-20T23:43:00\", \"2021-09-20T23:44:00\"], \"xaxis\": \"x\", \"y\": [2457.356749530001, 638.4744755300002, 573.80068422, 790.1132372700001, 935.44621905, 1449.8044555, 1191.60425421, 1029.1479000000004, 1666.7067598600006, 2376.900158030001, 1080.16004938, 937.2274999999997, 1982.4269, 1177.3395000000005, 982.03973542, 588.5912862200001, 737.5422982299997, 1143.66340639, 1349.3885349900004, 1238.22752742, 1702.0916, 1460.77012828, 662.70217882, 904.2224000000003, 2602.4043, 2401.1792213300005, 1240.66656817, 1621.3861000000006, 1189.5030851799995, 1152.3610785799995, 1983.05231963, 1415.1475790800007, 1707.1827, 2164.0986, 863.4052551599997, 1024.2717402200003, 3386.6101, 2102.4963000000007, 2822.3875208800014, 1308.4357541099996, 2217.83288059, 1534.47767989, 1327.05871556, 1336.44062071, 829.5119908499997, 1965.7017, 1622.6548000000007, 1160.75046518, 1360.53476886, 933.5023028900004, 2045.86192847, 1140.1936, 1289.2169247500005, 596.70029922, 897.4903656600003, 702.4156914199997, 1092.70654839, 1208.7887709000001, 557.30086, 640.49485506], \"yaxis\": \"y\"}],\n",
              "                        {\"legend\": {\"tracegroupgap\": 0}, \"margin\": {\"t\": 60}, \"showlegend\": true, \"template\": {\"data\": {\"bar\": [{\"error_x\": {\"color\": \"#2a3f5f\"}, \"error_y\": {\"color\": \"#2a3f5f\"}, \"marker\": {\"line\": {\"color\": \"#E5ECF6\", \"width\": 0.5}}, \"type\": \"bar\"}], \"barpolar\": [{\"marker\": {\"line\": {\"color\": \"#E5ECF6\", \"width\": 0.5}}, \"type\": \"barpolar\"}], \"carpet\": [{\"aaxis\": {\"endlinecolor\": \"#2a3f5f\", \"gridcolor\": \"white\", \"linecolor\": \"white\", \"minorgridcolor\": \"white\", \"startlinecolor\": \"#2a3f5f\"}, \"baxis\": {\"endlinecolor\": \"#2a3f5f\", \"gridcolor\": \"white\", \"linecolor\": \"white\", \"minorgridcolor\": \"white\", \"startlinecolor\": \"#2a3f5f\"}, \"type\": \"carpet\"}], \"choropleth\": [{\"colorbar\": {\"outlinewidth\": 0, \"ticks\": \"\"}, \"type\": \"choropleth\"}], \"contour\": [{\"colorbar\": {\"outlinewidth\": 0, \"ticks\": \"\"}, \"colorscale\": [[0.0, \"#0d0887\"], [0.1111111111111111, \"#46039f\"], [0.2222222222222222, \"#7201a8\"], [0.3333333333333333, \"#9c179e\"], [0.4444444444444444, \"#bd3786\"], [0.5555555555555556, \"#d8576b\"], [0.6666666666666666, \"#ed7953\"], [0.7777777777777778, \"#fb9f3a\"], [0.8888888888888888, \"#fdca26\"], [1.0, \"#f0f921\"]], \"type\": \"contour\"}], \"contourcarpet\": [{\"colorbar\": {\"outlinewidth\": 0, \"ticks\": \"\"}, \"type\": \"contourcarpet\"}], \"heatmap\": [{\"colorbar\": {\"outlinewidth\": 0, \"ticks\": \"\"}, \"colorscale\": [[0.0, \"#0d0887\"], [0.1111111111111111, \"#46039f\"], [0.2222222222222222, \"#7201a8\"], [0.3333333333333333, \"#9c179e\"], [0.4444444444444444, \"#bd3786\"], [0.5555555555555556, \"#d8576b\"], [0.6666666666666666, \"#ed7953\"], [0.7777777777777778, \"#fb9f3a\"], [0.8888888888888888, \"#fdca26\"], [1.0, \"#f0f921\"]], \"type\": \"heatmap\"}], \"heatmapgl\": [{\"colorbar\": {\"outlinewidth\": 0, \"ticks\": \"\"}, \"colorscale\": [[0.0, \"#0d0887\"], [0.1111111111111111, \"#46039f\"], [0.2222222222222222, \"#7201a8\"], [0.3333333333333333, \"#9c179e\"], [0.4444444444444444, \"#bd3786\"], [0.5555555555555556, \"#d8576b\"], [0.6666666666666666, \"#ed7953\"], [0.7777777777777778, \"#fb9f3a\"], [0.8888888888888888, \"#fdca26\"], [1.0, \"#f0f921\"]], \"type\": \"heatmapgl\"}], \"histogram\": [{\"marker\": {\"colorbar\": {\"outlinewidth\": 0, \"ticks\": \"\"}}, \"type\": \"histogram\"}], \"histogram2d\": [{\"colorbar\": {\"outlinewidth\": 0, \"ticks\": \"\"}, \"colorscale\": [[0.0, \"#0d0887\"], [0.1111111111111111, \"#46039f\"], [0.2222222222222222, \"#7201a8\"], [0.3333333333333333, \"#9c179e\"], [0.4444444444444444, \"#bd3786\"], [0.5555555555555556, \"#d8576b\"], [0.6666666666666666, \"#ed7953\"], [0.7777777777777778, \"#fb9f3a\"], [0.8888888888888888, \"#fdca26\"], [1.0, \"#f0f921\"]], \"type\": \"histogram2d\"}], \"histogram2dcontour\": [{\"colorbar\": {\"outlinewidth\": 0, \"ticks\": \"\"}, \"colorscale\": [[0.0, \"#0d0887\"], [0.1111111111111111, \"#46039f\"], [0.2222222222222222, \"#7201a8\"], [0.3333333333333333, \"#9c179e\"], [0.4444444444444444, \"#bd3786\"], [0.5555555555555556, \"#d8576b\"], [0.6666666666666666, \"#ed7953\"], [0.7777777777777778, \"#fb9f3a\"], [0.8888888888888888, \"#fdca26\"], [1.0, \"#f0f921\"]], \"type\": \"histogram2dcontour\"}], \"mesh3d\": [{\"colorbar\": {\"outlinewidth\": 0, \"ticks\": \"\"}, \"type\": \"mesh3d\"}], \"parcoords\": [{\"line\": {\"colorbar\": {\"outlinewidth\": 0, \"ticks\": \"\"}}, \"type\": \"parcoords\"}], \"pie\": [{\"automargin\": true, \"type\": \"pie\"}], \"scatter\": [{\"marker\": {\"colorbar\": {\"outlinewidth\": 0, \"ticks\": \"\"}}, \"type\": \"scatter\"}], \"scatter3d\": [{\"line\": {\"colorbar\": {\"outlinewidth\": 0, \"ticks\": \"\"}}, \"marker\": {\"colorbar\": {\"outlinewidth\": 0, \"ticks\": \"\"}}, \"type\": \"scatter3d\"}], \"scattercarpet\": [{\"marker\": {\"colorbar\": {\"outlinewidth\": 0, \"ticks\": \"\"}}, \"type\": \"scattercarpet\"}], \"scattergeo\": [{\"marker\": {\"colorbar\": {\"outlinewidth\": 0, \"ticks\": \"\"}}, \"type\": \"scattergeo\"}], \"scattergl\": [{\"marker\": {\"colorbar\": {\"outlinewidth\": 0, \"ticks\": \"\"}}, \"type\": \"scattergl\"}], \"scattermapbox\": [{\"marker\": {\"colorbar\": {\"outlinewidth\": 0, \"ticks\": \"\"}}, \"type\": \"scattermapbox\"}], \"scatterpolar\": [{\"marker\": {\"colorbar\": {\"outlinewidth\": 0, \"ticks\": \"\"}}, \"type\": \"scatterpolar\"}], \"scatterpolargl\": [{\"marker\": {\"colorbar\": {\"outlinewidth\": 0, \"ticks\": \"\"}}, \"type\": \"scatterpolargl\"}], \"scatterternary\": [{\"marker\": {\"colorbar\": {\"outlinewidth\": 0, \"ticks\": \"\"}}, \"type\": \"scatterternary\"}], \"surface\": [{\"colorbar\": {\"outlinewidth\": 0, \"ticks\": \"\"}, \"colorscale\": [[0.0, \"#0d0887\"], [0.1111111111111111, \"#46039f\"], [0.2222222222222222, \"#7201a8\"], [0.3333333333333333, \"#9c179e\"], [0.4444444444444444, \"#bd3786\"], [0.5555555555555556, \"#d8576b\"], [0.6666666666666666, \"#ed7953\"], [0.7777777777777778, \"#fb9f3a\"], [0.8888888888888888, \"#fdca26\"], [1.0, \"#f0f921\"]], \"type\": \"surface\"}], \"table\": [{\"cells\": {\"fill\": {\"color\": \"#EBF0F8\"}, \"line\": {\"color\": \"white\"}}, \"header\": {\"fill\": {\"color\": \"#C8D4E3\"}, \"line\": {\"color\": \"white\"}}, \"type\": \"table\"}]}, \"layout\": {\"annotationdefaults\": {\"arrowcolor\": \"#2a3f5f\", \"arrowhead\": 0, \"arrowwidth\": 1}, \"coloraxis\": {\"colorbar\": {\"outlinewidth\": 0, \"ticks\": \"\"}}, \"colorscale\": {\"diverging\": [[0, \"#8e0152\"], [0.1, \"#c51b7d\"], [0.2, \"#de77ae\"], [0.3, \"#f1b6da\"], [0.4, \"#fde0ef\"], [0.5, \"#f7f7f7\"], [0.6, \"#e6f5d0\"], [0.7, \"#b8e186\"], [0.8, \"#7fbc41\"], [0.9, \"#4d9221\"], [1, \"#276419\"]], \"sequential\": [[0.0, \"#0d0887\"], [0.1111111111111111, \"#46039f\"], [0.2222222222222222, \"#7201a8\"], [0.3333333333333333, \"#9c179e\"], [0.4444444444444444, \"#bd3786\"], [0.5555555555555556, \"#d8576b\"], [0.6666666666666666, \"#ed7953\"], [0.7777777777777778, \"#fb9f3a\"], [0.8888888888888888, \"#fdca26\"], [1.0, \"#f0f921\"]], \"sequentialminus\": [[0.0, \"#0d0887\"], [0.1111111111111111, \"#46039f\"], [0.2222222222222222, \"#7201a8\"], [0.3333333333333333, \"#9c179e\"], [0.4444444444444444, \"#bd3786\"], [0.5555555555555556, \"#d8576b\"], [0.6666666666666666, \"#ed7953\"], [0.7777777777777778, \"#fb9f3a\"], [0.8888888888888888, \"#fdca26\"], [1.0, \"#f0f921\"]]}, \"colorway\": [\"#636efa\", \"#EF553B\", \"#00cc96\", \"#ab63fa\", \"#FFA15A\", \"#19d3f3\", \"#FF6692\", \"#B6E880\", \"#FF97FF\", \"#FECB52\"], \"font\": {\"color\": \"#2a3f5f\"}, \"geo\": {\"bgcolor\": \"white\", \"lakecolor\": \"white\", \"landcolor\": \"#E5ECF6\", \"showlakes\": true, \"showland\": true, \"subunitcolor\": \"white\"}, \"hoverlabel\": {\"align\": \"left\"}, \"hovermode\": \"closest\", \"mapbox\": {\"style\": \"light\"}, \"paper_bgcolor\": \"white\", \"plot_bgcolor\": \"#E5ECF6\", \"polar\": {\"angularaxis\": {\"gridcolor\": \"white\", \"linecolor\": \"white\", \"ticks\": \"\"}, \"bgcolor\": \"#E5ECF6\", \"radialaxis\": {\"gridcolor\": \"white\", \"linecolor\": \"white\", \"ticks\": \"\"}}, \"scene\": {\"xaxis\": {\"backgroundcolor\": \"#E5ECF6\", \"gridcolor\": \"white\", \"gridwidth\": 2, \"linecolor\": \"white\", \"showbackground\": true, \"ticks\": \"\", \"zerolinecolor\": \"white\"}, \"yaxis\": {\"backgroundcolor\": \"#E5ECF6\", \"gridcolor\": \"white\", \"gridwidth\": 2, \"linecolor\": \"white\", \"showbackground\": true, \"ticks\": \"\", \"zerolinecolor\": \"white\"}, \"zaxis\": {\"backgroundcolor\": \"#E5ECF6\", \"gridcolor\": \"white\", \"gridwidth\": 2, \"linecolor\": \"white\", \"showbackground\": true, \"ticks\": \"\", \"zerolinecolor\": \"white\"}}, \"shapedefaults\": {\"line\": {\"color\": \"#2a3f5f\"}}, \"ternary\": {\"aaxis\": {\"gridcolor\": \"white\", \"linecolor\": \"white\", \"ticks\": \"\"}, \"baxis\": {\"gridcolor\": \"white\", \"linecolor\": \"white\", \"ticks\": \"\"}, \"bgcolor\": \"#E5ECF6\", \"caxis\": {\"gridcolor\": \"white\", \"linecolor\": \"white\", \"ticks\": \"\"}}, \"title\": {\"x\": 0.05}, \"xaxis\": {\"automargin\": true, \"gridcolor\": \"white\", \"linecolor\": \"white\", \"ticks\": \"\", \"title\": {\"standoff\": 15}, \"zerolinecolor\": \"white\", \"zerolinewidth\": 2}, \"yaxis\": {\"automargin\": true, \"gridcolor\": \"white\", \"linecolor\": \"white\", \"ticks\": \"\", \"title\": {\"standoff\": 15}, \"zerolinecolor\": \"white\", \"zerolinewidth\": 2}}}, \"title\": {\"text\": \"Binance Coin Volume Traded\", \"x\": 0.5, \"xanchor\": \"center\", \"y\": 0.94, \"yanchor\": \"top\"}, \"xaxis\": {\"anchor\": \"y\", \"domain\": [0.0, 1.0], \"rangeslider\": {\"visible\": false}, \"title\": {\"text\": \"Time\"}}, \"yaxis\": {\"anchor\": \"x\", \"domain\": [0.0, 1.0], \"title\": {\"text\": \"Number of trades every minute\"}}},\n",
              "                        {\"responsive\": true}\n",
              "                    ).then(function(){\n",
              "                            \n",
              "var gd = document.getElementById('d4a3add5-3eb9-4a5f-acf7-40f901b58c62');\n",
              "var x = new MutationObserver(function (mutations, observer) {{\n",
              "        var display = window.getComputedStyle(gd).display;\n",
              "        if (!display || display === 'none') {{\n",
              "            console.log([gd, 'removed!']);\n",
              "            Plotly.purge(gd);\n",
              "            observer.disconnect();\n",
              "        }}\n",
              "}});\n",
              "\n",
              "// Listen for the removal of the full notebook cells\n",
              "var notebookContainer = gd.closest('#notebook-container');\n",
              "if (notebookContainer) {{\n",
              "    x.observe(notebookContainer, {childList: true});\n",
              "}}\n",
              "\n",
              "// Listen for the clearing of the current output cell\n",
              "var outputEl = gd.closest('.output');\n",
              "if (outputEl) {{\n",
              "    x.observe(outputEl, {childList: true});\n",
              "}}\n",
              "\n",
              "                        })\n",
              "                };\n",
              "                \n",
              "            </script>\n",
              "        </div>\n",
              "</body>\n",
              "</html>"
            ]
          },
          "metadata": {}
        }
      ]
    },
    {
      "cell_type": "markdown",
      "metadata": {
        "id": "kpLVdL5p1gb0"
      },
      "source": [
        "- Bitcoin"
      ],
      "id": "kpLVdL5p1gb0"
    },
    {
      "cell_type": "code",
      "metadata": {
        "colab": {
          "base_uri": "https://localhost:8080/",
          "height": 542
        },
        "id": "748000da",
        "outputId": "ab0982a7-6458-49cd-f425-a7311c516070"
      },
      "source": [
        "vol_traded(btc[-60:], \"Bitcoin\", color=\"Blue\")"
      ],
      "id": "748000da",
      "execution_count": 28,
      "outputs": [
        {
          "output_type": "display_data",
          "data": {
            "text/html": [
              "<html>\n",
              "<head><meta charset=\"utf-8\" /></head>\n",
              "<body>\n",
              "    <div>\n",
              "            <script src=\"https://cdnjs.cloudflare.com/ajax/libs/mathjax/2.7.5/MathJax.js?config=TeX-AMS-MML_SVG\"></script><script type=\"text/javascript\">if (window.MathJax) {MathJax.Hub.Config({SVG: {font: \"STIX-Web\"}});}</script>\n",
              "                <script type=\"text/javascript\">window.PlotlyConfig = {MathJaxConfig: 'local'};</script>\n",
              "        <script src=\"https://cdn.plot.ly/plotly-latest.min.js\"></script>    \n",
              "            <div id=\"7b3040e9-8dbc-4670-9b29-381797ae5632\" class=\"plotly-graph-div\" style=\"height:525px; width:100%;\"></div>\n",
              "            <script type=\"text/javascript\">\n",
              "                \n",
              "                    window.PLOTLYENV=window.PLOTLYENV || {};\n",
              "                    \n",
              "                if (document.getElementById(\"7b3040e9-8dbc-4670-9b29-381797ae5632\")) {\n",
              "                    Plotly.newPlot(\n",
              "                        '7b3040e9-8dbc-4670-9b29-381797ae5632',\n",
              "                        [{\"hoverlabel\": {\"namelength\": 0}, \"hovertemplate\": \"x=%{x}<br>volume=%{y}\", \"legendgroup\": \"\", \"line\": {\"color\": \"Blue\"}, \"mode\": \"lines\", \"name\": \"\", \"orientation\": \"v\", \"showlegend\": false, \"stackgroup\": \"1\", \"type\": \"scatter\", \"x\": [\"2021-09-20T22:45:00\", \"2021-09-20T22:46:00\", \"2021-09-20T22:47:00\", \"2021-09-20T22:48:00\", \"2021-09-20T22:49:00\", \"2021-09-20T22:50:00\", \"2021-09-20T22:51:00\", \"2021-09-20T22:52:00\", \"2021-09-20T22:53:00\", \"2021-09-20T22:54:00\", \"2021-09-20T22:55:00\", \"2021-09-20T22:56:00\", \"2021-09-20T22:57:00\", \"2021-09-20T22:58:00\", \"2021-09-20T22:59:00\", \"2021-09-20T23:00:00\", \"2021-09-20T23:01:00\", \"2021-09-20T23:02:00\", \"2021-09-20T23:03:00\", \"2021-09-20T23:04:00\", \"2021-09-20T23:05:00\", \"2021-09-20T23:06:00\", \"2021-09-20T23:07:00\", \"2021-09-20T23:08:00\", \"2021-09-20T23:09:00\", \"2021-09-20T23:10:00\", \"2021-09-20T23:11:00\", \"2021-09-20T23:12:00\", \"2021-09-20T23:13:00\", \"2021-09-20T23:14:00\", \"2021-09-20T23:15:00\", \"2021-09-20T23:16:00\", \"2021-09-20T23:17:00\", \"2021-09-20T23:18:00\", \"2021-09-20T23:19:00\", \"2021-09-20T23:20:00\", \"2021-09-20T23:21:00\", \"2021-09-20T23:22:00\", \"2021-09-20T23:23:00\", \"2021-09-20T23:24:00\", \"2021-09-20T23:25:00\", \"2021-09-20T23:26:00\", \"2021-09-20T23:27:00\", \"2021-09-20T23:28:00\", \"2021-09-20T23:29:00\", \"2021-09-20T23:30:00\", \"2021-09-20T23:31:00\", \"2021-09-20T23:32:00\", \"2021-09-20T23:33:00\", \"2021-09-20T23:34:00\", \"2021-09-20T23:35:00\", \"2021-09-20T23:36:00\", \"2021-09-20T23:37:00\", \"2021-09-20T23:38:00\", \"2021-09-20T23:39:00\", \"2021-09-20T23:40:00\", \"2021-09-20T23:41:00\", \"2021-09-20T23:42:00\", \"2021-09-20T23:43:00\", \"2021-09-20T23:44:00\"], \"xaxis\": \"x\", \"y\": [41.985072999121996, 42.824854218626854, 66.34270787483854, 53.642710830529566, 210.4460004648289, 196.8611773810273, 131.93727328708948, 119.99218410968278, 111.29705584229714, 562.2843909788377, 265.62851110314307, 153.5615078144964, 103.13642908395263, 115.41649227137556, 112.8164017283962, 55.523915985687026, 65.05162684875273, 145.4145967092981, 180.39287655948525, 149.27536324223456, 138.454839548416, 199.95973017756717, 101.91732413636309, 66.51744084265843, 100.36911347180279, 122.07648469680849, 102.75940064403952, 213.9728889815448, 107.57247984880544, 162.63271884034685, 137.4586930845853, 93.1558712332437, 161.28317293631696, 111.24479893150959, 92.21316581591951, 79.23050894734425, 162.7881341609073, 119.24275752569729, 290.89670075558774, 197.8872808992414, 403.3746077320109, 226.506711612534, 203.6752248188826, 200.17835059002655, 120.11306254983631, 267.3088162725358, 133.45173498731978, 220.40451093967602, 165.44944932898036, 138.7521470817297, 147.52945302667598, 128.47080148866578, 112.52198343428732, 89.1684149239479, 109.04357252784851, 100.79721811833141, 76.33998790111289, 117.42912272157032, 78.04945824577173, 86.51879445068305], \"yaxis\": \"y\"}],\n",
              "                        {\"legend\": {\"tracegroupgap\": 0}, \"margin\": {\"t\": 60}, \"showlegend\": true, \"template\": {\"data\": {\"bar\": [{\"error_x\": {\"color\": \"#2a3f5f\"}, \"error_y\": {\"color\": \"#2a3f5f\"}, \"marker\": {\"line\": {\"color\": \"#E5ECF6\", \"width\": 0.5}}, \"type\": \"bar\"}], \"barpolar\": [{\"marker\": {\"line\": {\"color\": \"#E5ECF6\", \"width\": 0.5}}, \"type\": \"barpolar\"}], \"carpet\": [{\"aaxis\": {\"endlinecolor\": \"#2a3f5f\", \"gridcolor\": \"white\", \"linecolor\": \"white\", \"minorgridcolor\": \"white\", \"startlinecolor\": \"#2a3f5f\"}, \"baxis\": {\"endlinecolor\": \"#2a3f5f\", \"gridcolor\": \"white\", \"linecolor\": \"white\", \"minorgridcolor\": \"white\", \"startlinecolor\": \"#2a3f5f\"}, \"type\": \"carpet\"}], \"choropleth\": [{\"colorbar\": {\"outlinewidth\": 0, \"ticks\": \"\"}, \"type\": \"choropleth\"}], \"contour\": [{\"colorbar\": {\"outlinewidth\": 0, \"ticks\": \"\"}, \"colorscale\": [[0.0, \"#0d0887\"], [0.1111111111111111, \"#46039f\"], [0.2222222222222222, \"#7201a8\"], [0.3333333333333333, \"#9c179e\"], [0.4444444444444444, \"#bd3786\"], [0.5555555555555556, \"#d8576b\"], [0.6666666666666666, \"#ed7953\"], [0.7777777777777778, \"#fb9f3a\"], [0.8888888888888888, \"#fdca26\"], [1.0, \"#f0f921\"]], \"type\": \"contour\"}], \"contourcarpet\": [{\"colorbar\": {\"outlinewidth\": 0, \"ticks\": \"\"}, \"type\": \"contourcarpet\"}], \"heatmap\": [{\"colorbar\": {\"outlinewidth\": 0, \"ticks\": \"\"}, \"colorscale\": [[0.0, \"#0d0887\"], [0.1111111111111111, \"#46039f\"], [0.2222222222222222, \"#7201a8\"], [0.3333333333333333, \"#9c179e\"], [0.4444444444444444, \"#bd3786\"], [0.5555555555555556, \"#d8576b\"], [0.6666666666666666, \"#ed7953\"], [0.7777777777777778, \"#fb9f3a\"], [0.8888888888888888, \"#fdca26\"], [1.0, \"#f0f921\"]], \"type\": \"heatmap\"}], \"heatmapgl\": [{\"colorbar\": {\"outlinewidth\": 0, \"ticks\": \"\"}, \"colorscale\": [[0.0, \"#0d0887\"], [0.1111111111111111, \"#46039f\"], [0.2222222222222222, \"#7201a8\"], [0.3333333333333333, \"#9c179e\"], [0.4444444444444444, \"#bd3786\"], [0.5555555555555556, \"#d8576b\"], [0.6666666666666666, \"#ed7953\"], [0.7777777777777778, \"#fb9f3a\"], [0.8888888888888888, \"#fdca26\"], [1.0, \"#f0f921\"]], \"type\": \"heatmapgl\"}], \"histogram\": [{\"marker\": {\"colorbar\": {\"outlinewidth\": 0, \"ticks\": \"\"}}, \"type\": \"histogram\"}], \"histogram2d\": [{\"colorbar\": {\"outlinewidth\": 0, \"ticks\": \"\"}, \"colorscale\": [[0.0, \"#0d0887\"], [0.1111111111111111, \"#46039f\"], [0.2222222222222222, \"#7201a8\"], [0.3333333333333333, \"#9c179e\"], [0.4444444444444444, \"#bd3786\"], [0.5555555555555556, \"#d8576b\"], [0.6666666666666666, \"#ed7953\"], [0.7777777777777778, \"#fb9f3a\"], [0.8888888888888888, \"#fdca26\"], [1.0, \"#f0f921\"]], \"type\": \"histogram2d\"}], \"histogram2dcontour\": [{\"colorbar\": {\"outlinewidth\": 0, \"ticks\": \"\"}, \"colorscale\": [[0.0, \"#0d0887\"], [0.1111111111111111, \"#46039f\"], [0.2222222222222222, \"#7201a8\"], [0.3333333333333333, \"#9c179e\"], [0.4444444444444444, \"#bd3786\"], [0.5555555555555556, \"#d8576b\"], [0.6666666666666666, \"#ed7953\"], [0.7777777777777778, \"#fb9f3a\"], [0.8888888888888888, \"#fdca26\"], [1.0, \"#f0f921\"]], \"type\": \"histogram2dcontour\"}], \"mesh3d\": [{\"colorbar\": {\"outlinewidth\": 0, \"ticks\": \"\"}, \"type\": \"mesh3d\"}], \"parcoords\": [{\"line\": {\"colorbar\": {\"outlinewidth\": 0, \"ticks\": \"\"}}, \"type\": \"parcoords\"}], \"pie\": [{\"automargin\": true, \"type\": \"pie\"}], \"scatter\": [{\"marker\": {\"colorbar\": {\"outlinewidth\": 0, \"ticks\": \"\"}}, \"type\": \"scatter\"}], \"scatter3d\": [{\"line\": {\"colorbar\": {\"outlinewidth\": 0, \"ticks\": \"\"}}, \"marker\": {\"colorbar\": {\"outlinewidth\": 0, \"ticks\": \"\"}}, \"type\": \"scatter3d\"}], \"scattercarpet\": [{\"marker\": {\"colorbar\": {\"outlinewidth\": 0, \"ticks\": \"\"}}, \"type\": \"scattercarpet\"}], \"scattergeo\": [{\"marker\": {\"colorbar\": {\"outlinewidth\": 0, \"ticks\": \"\"}}, \"type\": \"scattergeo\"}], \"scattergl\": [{\"marker\": {\"colorbar\": {\"outlinewidth\": 0, \"ticks\": \"\"}}, \"type\": \"scattergl\"}], \"scattermapbox\": [{\"marker\": {\"colorbar\": {\"outlinewidth\": 0, \"ticks\": \"\"}}, \"type\": \"scattermapbox\"}], \"scatterpolar\": [{\"marker\": {\"colorbar\": {\"outlinewidth\": 0, \"ticks\": \"\"}}, \"type\": \"scatterpolar\"}], \"scatterpolargl\": [{\"marker\": {\"colorbar\": {\"outlinewidth\": 0, \"ticks\": \"\"}}, \"type\": \"scatterpolargl\"}], \"scatterternary\": [{\"marker\": {\"colorbar\": {\"outlinewidth\": 0, \"ticks\": \"\"}}, \"type\": \"scatterternary\"}], \"surface\": [{\"colorbar\": {\"outlinewidth\": 0, \"ticks\": \"\"}, \"colorscale\": [[0.0, \"#0d0887\"], [0.1111111111111111, \"#46039f\"], [0.2222222222222222, \"#7201a8\"], [0.3333333333333333, \"#9c179e\"], [0.4444444444444444, \"#bd3786\"], [0.5555555555555556, \"#d8576b\"], [0.6666666666666666, \"#ed7953\"], [0.7777777777777778, \"#fb9f3a\"], [0.8888888888888888, \"#fdca26\"], [1.0, \"#f0f921\"]], \"type\": \"surface\"}], \"table\": [{\"cells\": {\"fill\": {\"color\": \"#EBF0F8\"}, \"line\": {\"color\": \"white\"}}, \"header\": {\"fill\": {\"color\": \"#C8D4E3\"}, \"line\": {\"color\": \"white\"}}, \"type\": \"table\"}]}, \"layout\": {\"annotationdefaults\": {\"arrowcolor\": \"#2a3f5f\", \"arrowhead\": 0, \"arrowwidth\": 1}, \"coloraxis\": {\"colorbar\": {\"outlinewidth\": 0, \"ticks\": \"\"}}, \"colorscale\": {\"diverging\": [[0, \"#8e0152\"], [0.1, \"#c51b7d\"], [0.2, \"#de77ae\"], [0.3, \"#f1b6da\"], [0.4, \"#fde0ef\"], [0.5, \"#f7f7f7\"], [0.6, \"#e6f5d0\"], [0.7, \"#b8e186\"], [0.8, \"#7fbc41\"], [0.9, \"#4d9221\"], [1, \"#276419\"]], \"sequential\": [[0.0, \"#0d0887\"], [0.1111111111111111, \"#46039f\"], [0.2222222222222222, \"#7201a8\"], [0.3333333333333333, \"#9c179e\"], [0.4444444444444444, \"#bd3786\"], [0.5555555555555556, \"#d8576b\"], [0.6666666666666666, \"#ed7953\"], [0.7777777777777778, \"#fb9f3a\"], [0.8888888888888888, \"#fdca26\"], [1.0, \"#f0f921\"]], \"sequentialminus\": [[0.0, \"#0d0887\"], [0.1111111111111111, \"#46039f\"], [0.2222222222222222, \"#7201a8\"], [0.3333333333333333, \"#9c179e\"], [0.4444444444444444, \"#bd3786\"], [0.5555555555555556, \"#d8576b\"], [0.6666666666666666, \"#ed7953\"], [0.7777777777777778, \"#fb9f3a\"], [0.8888888888888888, \"#fdca26\"], [1.0, \"#f0f921\"]]}, \"colorway\": [\"#636efa\", \"#EF553B\", \"#00cc96\", \"#ab63fa\", \"#FFA15A\", \"#19d3f3\", \"#FF6692\", \"#B6E880\", \"#FF97FF\", \"#FECB52\"], \"font\": {\"color\": \"#2a3f5f\"}, \"geo\": {\"bgcolor\": \"white\", \"lakecolor\": \"white\", \"landcolor\": \"#E5ECF6\", \"showlakes\": true, \"showland\": true, \"subunitcolor\": \"white\"}, \"hoverlabel\": {\"align\": \"left\"}, \"hovermode\": \"closest\", \"mapbox\": {\"style\": \"light\"}, \"paper_bgcolor\": \"white\", \"plot_bgcolor\": \"#E5ECF6\", \"polar\": {\"angularaxis\": {\"gridcolor\": \"white\", \"linecolor\": \"white\", \"ticks\": \"\"}, \"bgcolor\": \"#E5ECF6\", \"radialaxis\": {\"gridcolor\": \"white\", \"linecolor\": \"white\", \"ticks\": \"\"}}, \"scene\": {\"xaxis\": {\"backgroundcolor\": \"#E5ECF6\", \"gridcolor\": \"white\", \"gridwidth\": 2, \"linecolor\": \"white\", \"showbackground\": true, \"ticks\": \"\", \"zerolinecolor\": \"white\"}, \"yaxis\": {\"backgroundcolor\": \"#E5ECF6\", \"gridcolor\": \"white\", \"gridwidth\": 2, \"linecolor\": \"white\", \"showbackground\": true, \"ticks\": \"\", \"zerolinecolor\": \"white\"}, \"zaxis\": {\"backgroundcolor\": \"#E5ECF6\", \"gridcolor\": \"white\", \"gridwidth\": 2, \"linecolor\": \"white\", \"showbackground\": true, \"ticks\": \"\", \"zerolinecolor\": \"white\"}}, \"shapedefaults\": {\"line\": {\"color\": \"#2a3f5f\"}}, \"ternary\": {\"aaxis\": {\"gridcolor\": \"white\", \"linecolor\": \"white\", \"ticks\": \"\"}, \"baxis\": {\"gridcolor\": \"white\", \"linecolor\": \"white\", \"ticks\": \"\"}, \"bgcolor\": \"#E5ECF6\", \"caxis\": {\"gridcolor\": \"white\", \"linecolor\": \"white\", \"ticks\": \"\"}}, \"title\": {\"x\": 0.05}, \"xaxis\": {\"automargin\": true, \"gridcolor\": \"white\", \"linecolor\": \"white\", \"ticks\": \"\", \"title\": {\"standoff\": 15}, \"zerolinecolor\": \"white\", \"zerolinewidth\": 2}, \"yaxis\": {\"automargin\": true, \"gridcolor\": \"white\", \"linecolor\": \"white\", \"ticks\": \"\", \"title\": {\"standoff\": 15}, \"zerolinecolor\": \"white\", \"zerolinewidth\": 2}}}, \"title\": {\"text\": \"Bitcoin Volume Traded\", \"x\": 0.5, \"xanchor\": \"center\", \"y\": 0.94, \"yanchor\": \"top\"}, \"xaxis\": {\"anchor\": \"y\", \"domain\": [0.0, 1.0], \"rangeslider\": {\"visible\": false}, \"title\": {\"text\": \"Time\"}}, \"yaxis\": {\"anchor\": \"x\", \"domain\": [0.0, 1.0], \"title\": {\"text\": \"Number of trades every minute\"}}},\n",
              "                        {\"responsive\": true}\n",
              "                    ).then(function(){\n",
              "                            \n",
              "var gd = document.getElementById('7b3040e9-8dbc-4670-9b29-381797ae5632');\n",
              "var x = new MutationObserver(function (mutations, observer) {{\n",
              "        var display = window.getComputedStyle(gd).display;\n",
              "        if (!display || display === 'none') {{\n",
              "            console.log([gd, 'removed!']);\n",
              "            Plotly.purge(gd);\n",
              "            observer.disconnect();\n",
              "        }}\n",
              "}});\n",
              "\n",
              "// Listen for the removal of the full notebook cells\n",
              "var notebookContainer = gd.closest('#notebook-container');\n",
              "if (notebookContainer) {{\n",
              "    x.observe(notebookContainer, {childList: true});\n",
              "}}\n",
              "\n",
              "// Listen for the clearing of the current output cell\n",
              "var outputEl = gd.closest('.output');\n",
              "if (outputEl) {{\n",
              "    x.observe(outputEl, {childList: true});\n",
              "}}\n",
              "\n",
              "                        })\n",
              "                };\n",
              "                \n",
              "            </script>\n",
              "        </div>\n",
              "</body>\n",
              "</html>"
            ]
          },
          "metadata": {}
        }
      ]
    },
    {
      "cell_type": "markdown",
      "metadata": {
        "id": "9E-Qru2q1iLt"
      },
      "source": [
        "- Bitcoin Cash"
      ],
      "id": "9E-Qru2q1iLt"
    },
    {
      "cell_type": "code",
      "metadata": {
        "colab": {
          "base_uri": "https://localhost:8080/",
          "height": 542
        },
        "id": "cb57c498",
        "outputId": "27de9ab0-0574-4959-dbfa-91abfaf59d5d"
      },
      "source": [
        "vol_traded(btc_cash[-60:], \"Bitcoin Cash\", color=\"Green\")"
      ],
      "id": "cb57c498",
      "execution_count": 29,
      "outputs": [
        {
          "output_type": "display_data",
          "data": {
            "text/html": [
              "<html>\n",
              "<head><meta charset=\"utf-8\" /></head>\n",
              "<body>\n",
              "    <div>\n",
              "            <script src=\"https://cdnjs.cloudflare.com/ajax/libs/mathjax/2.7.5/MathJax.js?config=TeX-AMS-MML_SVG\"></script><script type=\"text/javascript\">if (window.MathJax) {MathJax.Hub.Config({SVG: {font: \"STIX-Web\"}});}</script>\n",
              "                <script type=\"text/javascript\">window.PlotlyConfig = {MathJaxConfig: 'local'};</script>\n",
              "        <script src=\"https://cdn.plot.ly/plotly-latest.min.js\"></script>    \n",
              "            <div id=\"067c1269-d8c6-4e2e-8ec2-75a7729f240a\" class=\"plotly-graph-div\" style=\"height:525px; width:100%;\"></div>\n",
              "            <script type=\"text/javascript\">\n",
              "                \n",
              "                    window.PLOTLYENV=window.PLOTLYENV || {};\n",
              "                    \n",
              "                if (document.getElementById(\"067c1269-d8c6-4e2e-8ec2-75a7729f240a\")) {\n",
              "                    Plotly.newPlot(\n",
              "                        '067c1269-d8c6-4e2e-8ec2-75a7729f240a',\n",
              "                        [{\"hoverlabel\": {\"namelength\": 0}, \"hovertemplate\": \"x=%{x}<br>volume=%{y}\", \"legendgroup\": \"\", \"line\": {\"color\": \"Green\"}, \"mode\": \"lines\", \"name\": \"\", \"orientation\": \"v\", \"showlegend\": false, \"stackgroup\": \"1\", \"type\": \"scatter\", \"x\": [\"2021-09-20T22:45:00\", \"2021-09-20T22:46:00\", \"2021-09-20T22:47:00\", \"2021-09-20T22:48:00\", \"2021-09-20T22:49:00\", \"2021-09-20T22:50:00\", \"2021-09-20T22:51:00\", \"2021-09-20T22:52:00\", \"2021-09-20T22:53:00\", \"2021-09-20T22:54:00\", \"2021-09-20T22:55:00\", \"2021-09-20T22:56:00\", \"2021-09-20T22:57:00\", \"2021-09-20T22:58:00\", \"2021-09-20T22:59:00\", \"2021-09-20T23:00:00\", \"2021-09-20T23:01:00\", \"2021-09-20T23:02:00\", \"2021-09-20T23:03:00\", \"2021-09-20T23:04:00\", \"2021-09-20T23:05:00\", \"2021-09-20T23:06:00\", \"2021-09-20T23:07:00\", \"2021-09-20T23:08:00\", \"2021-09-20T23:09:00\", \"2021-09-20T23:10:00\", \"2021-09-20T23:11:00\", \"2021-09-20T23:12:00\", \"2021-09-20T23:13:00\", \"2021-09-20T23:14:00\", \"2021-09-20T23:15:00\", \"2021-09-20T23:16:00\", \"2021-09-20T23:17:00\", \"2021-09-20T23:18:00\", \"2021-09-20T23:19:00\", \"2021-09-20T23:20:00\", \"2021-09-20T23:21:00\", \"2021-09-20T23:22:00\", \"2021-09-20T23:23:00\", \"2021-09-20T23:24:00\", \"2021-09-20T23:25:00\", \"2021-09-20T23:26:00\", \"2021-09-20T23:27:00\", \"2021-09-20T23:28:00\", \"2021-09-20T23:29:00\", \"2021-09-20T23:30:00\", \"2021-09-20T23:31:00\", \"2021-09-20T23:32:00\", \"2021-09-20T23:33:00\", \"2021-09-20T23:34:00\", \"2021-09-20T23:35:00\", \"2021-09-20T23:36:00\", \"2021-09-20T23:37:00\", \"2021-09-20T23:38:00\", \"2021-09-20T23:39:00\", \"2021-09-20T23:40:00\", \"2021-09-20T23:41:00\", \"2021-09-20T23:42:00\", \"2021-09-20T23:43:00\", \"2021-09-20T23:44:00\"], \"xaxis\": \"x\", \"y\": [87.62562159635547, 55.43283165, 77.26047084, 115.84910736, 260.57482566999994, 273.3277201449979, 88.45683828000001, 119.33703005234487, 111.86259174, 387.3501572447648, 330.36125442788267, 287.75060334, 335.0028524, 183.37307805209213, 97.34419150000001, 73.85776322, 155.47328054, 270.7055750738652, 231.67018076, 168.25508981000004, 176.97532054, 261.40626834, 108.9319314, 68.90203866, 224.67309490243545, 104.15249801, 90.8164485050438, 113.45911258635687, 122.34461721, 233.64078194421418, 272.714134688129, 102.23148236533636, 194.66381358482602, 235.48955754, 120.30608884999998, 240.28194995, 566.4193176232078, 177.64970745495796, 610.5608872187588, 161.6847287882411, 263.80835117792424, 347.2000077883635, 301.21266757706286, 484.3241770452536, 235.81111352, 401.59246874, 198.05477867, 167.34244108, 199.2073803, 194.89040552712, 234.38690004, 240.90907477, 200.0361152370105, 127.9667158955411, 269.9191200899999, 461.64464233, 129.87751664, 177.5816777382941, 122.36464304, 149.52291868], \"yaxis\": \"y\"}],\n",
              "                        {\"legend\": {\"tracegroupgap\": 0}, \"margin\": {\"t\": 60}, \"showlegend\": true, \"template\": {\"data\": {\"bar\": [{\"error_x\": {\"color\": \"#2a3f5f\"}, \"error_y\": {\"color\": \"#2a3f5f\"}, \"marker\": {\"line\": {\"color\": \"#E5ECF6\", \"width\": 0.5}}, \"type\": \"bar\"}], \"barpolar\": [{\"marker\": {\"line\": {\"color\": \"#E5ECF6\", \"width\": 0.5}}, \"type\": \"barpolar\"}], \"carpet\": [{\"aaxis\": {\"endlinecolor\": \"#2a3f5f\", \"gridcolor\": \"white\", \"linecolor\": \"white\", \"minorgridcolor\": \"white\", \"startlinecolor\": \"#2a3f5f\"}, \"baxis\": {\"endlinecolor\": \"#2a3f5f\", \"gridcolor\": \"white\", \"linecolor\": \"white\", \"minorgridcolor\": \"white\", \"startlinecolor\": \"#2a3f5f\"}, \"type\": \"carpet\"}], \"choropleth\": [{\"colorbar\": {\"outlinewidth\": 0, \"ticks\": \"\"}, \"type\": \"choropleth\"}], \"contour\": [{\"colorbar\": {\"outlinewidth\": 0, \"ticks\": \"\"}, \"colorscale\": [[0.0, \"#0d0887\"], [0.1111111111111111, \"#46039f\"], [0.2222222222222222, \"#7201a8\"], [0.3333333333333333, \"#9c179e\"], [0.4444444444444444, \"#bd3786\"], [0.5555555555555556, \"#d8576b\"], [0.6666666666666666, \"#ed7953\"], [0.7777777777777778, \"#fb9f3a\"], [0.8888888888888888, \"#fdca26\"], [1.0, \"#f0f921\"]], \"type\": \"contour\"}], \"contourcarpet\": [{\"colorbar\": {\"outlinewidth\": 0, \"ticks\": \"\"}, \"type\": \"contourcarpet\"}], \"heatmap\": [{\"colorbar\": {\"outlinewidth\": 0, \"ticks\": \"\"}, \"colorscale\": [[0.0, \"#0d0887\"], [0.1111111111111111, \"#46039f\"], [0.2222222222222222, \"#7201a8\"], [0.3333333333333333, \"#9c179e\"], [0.4444444444444444, \"#bd3786\"], [0.5555555555555556, \"#d8576b\"], [0.6666666666666666, \"#ed7953\"], [0.7777777777777778, \"#fb9f3a\"], [0.8888888888888888, \"#fdca26\"], [1.0, \"#f0f921\"]], \"type\": \"heatmap\"}], \"heatmapgl\": [{\"colorbar\": {\"outlinewidth\": 0, \"ticks\": \"\"}, \"colorscale\": [[0.0, \"#0d0887\"], [0.1111111111111111, \"#46039f\"], [0.2222222222222222, \"#7201a8\"], [0.3333333333333333, \"#9c179e\"], [0.4444444444444444, \"#bd3786\"], [0.5555555555555556, \"#d8576b\"], [0.6666666666666666, \"#ed7953\"], [0.7777777777777778, \"#fb9f3a\"], [0.8888888888888888, \"#fdca26\"], [1.0, \"#f0f921\"]], \"type\": \"heatmapgl\"}], \"histogram\": [{\"marker\": {\"colorbar\": {\"outlinewidth\": 0, \"ticks\": \"\"}}, \"type\": \"histogram\"}], \"histogram2d\": [{\"colorbar\": {\"outlinewidth\": 0, \"ticks\": \"\"}, \"colorscale\": [[0.0, \"#0d0887\"], [0.1111111111111111, \"#46039f\"], [0.2222222222222222, \"#7201a8\"], [0.3333333333333333, \"#9c179e\"], [0.4444444444444444, \"#bd3786\"], [0.5555555555555556, \"#d8576b\"], [0.6666666666666666, \"#ed7953\"], [0.7777777777777778, \"#fb9f3a\"], [0.8888888888888888, \"#fdca26\"], [1.0, \"#f0f921\"]], \"type\": \"histogram2d\"}], \"histogram2dcontour\": [{\"colorbar\": {\"outlinewidth\": 0, \"ticks\": \"\"}, \"colorscale\": [[0.0, \"#0d0887\"], [0.1111111111111111, \"#46039f\"], [0.2222222222222222, \"#7201a8\"], [0.3333333333333333, \"#9c179e\"], [0.4444444444444444, \"#bd3786\"], [0.5555555555555556, \"#d8576b\"], [0.6666666666666666, \"#ed7953\"], [0.7777777777777778, \"#fb9f3a\"], [0.8888888888888888, \"#fdca26\"], [1.0, \"#f0f921\"]], \"type\": \"histogram2dcontour\"}], \"mesh3d\": [{\"colorbar\": {\"outlinewidth\": 0, \"ticks\": \"\"}, \"type\": \"mesh3d\"}], \"parcoords\": [{\"line\": {\"colorbar\": {\"outlinewidth\": 0, \"ticks\": \"\"}}, \"type\": \"parcoords\"}], \"pie\": [{\"automargin\": true, \"type\": \"pie\"}], \"scatter\": [{\"marker\": {\"colorbar\": {\"outlinewidth\": 0, \"ticks\": \"\"}}, \"type\": \"scatter\"}], \"scatter3d\": [{\"line\": {\"colorbar\": {\"outlinewidth\": 0, \"ticks\": \"\"}}, \"marker\": {\"colorbar\": {\"outlinewidth\": 0, \"ticks\": \"\"}}, \"type\": \"scatter3d\"}], \"scattercarpet\": [{\"marker\": {\"colorbar\": {\"outlinewidth\": 0, \"ticks\": \"\"}}, \"type\": \"scattercarpet\"}], \"scattergeo\": [{\"marker\": {\"colorbar\": {\"outlinewidth\": 0, \"ticks\": \"\"}}, \"type\": \"scattergeo\"}], \"scattergl\": [{\"marker\": {\"colorbar\": {\"outlinewidth\": 0, \"ticks\": \"\"}}, \"type\": \"scattergl\"}], \"scattermapbox\": [{\"marker\": {\"colorbar\": {\"outlinewidth\": 0, \"ticks\": \"\"}}, \"type\": \"scattermapbox\"}], \"scatterpolar\": [{\"marker\": {\"colorbar\": {\"outlinewidth\": 0, \"ticks\": \"\"}}, \"type\": \"scatterpolar\"}], \"scatterpolargl\": [{\"marker\": {\"colorbar\": {\"outlinewidth\": 0, \"ticks\": \"\"}}, \"type\": \"scatterpolargl\"}], \"scatterternary\": [{\"marker\": {\"colorbar\": {\"outlinewidth\": 0, \"ticks\": \"\"}}, \"type\": \"scatterternary\"}], \"surface\": [{\"colorbar\": {\"outlinewidth\": 0, \"ticks\": \"\"}, \"colorscale\": [[0.0, \"#0d0887\"], [0.1111111111111111, \"#46039f\"], [0.2222222222222222, \"#7201a8\"], [0.3333333333333333, \"#9c179e\"], [0.4444444444444444, \"#bd3786\"], [0.5555555555555556, \"#d8576b\"], [0.6666666666666666, \"#ed7953\"], [0.7777777777777778, \"#fb9f3a\"], [0.8888888888888888, \"#fdca26\"], [1.0, \"#f0f921\"]], \"type\": \"surface\"}], \"table\": [{\"cells\": {\"fill\": {\"color\": \"#EBF0F8\"}, \"line\": {\"color\": \"white\"}}, \"header\": {\"fill\": {\"color\": \"#C8D4E3\"}, \"line\": {\"color\": \"white\"}}, \"type\": \"table\"}]}, \"layout\": {\"annotationdefaults\": {\"arrowcolor\": \"#2a3f5f\", \"arrowhead\": 0, \"arrowwidth\": 1}, \"coloraxis\": {\"colorbar\": {\"outlinewidth\": 0, \"ticks\": \"\"}}, \"colorscale\": {\"diverging\": [[0, \"#8e0152\"], [0.1, \"#c51b7d\"], [0.2, \"#de77ae\"], [0.3, \"#f1b6da\"], [0.4, \"#fde0ef\"], [0.5, \"#f7f7f7\"], [0.6, \"#e6f5d0\"], [0.7, \"#b8e186\"], [0.8, \"#7fbc41\"], [0.9, \"#4d9221\"], [1, \"#276419\"]], \"sequential\": [[0.0, \"#0d0887\"], [0.1111111111111111, \"#46039f\"], [0.2222222222222222, \"#7201a8\"], [0.3333333333333333, \"#9c179e\"], [0.4444444444444444, \"#bd3786\"], [0.5555555555555556, \"#d8576b\"], [0.6666666666666666, \"#ed7953\"], [0.7777777777777778, \"#fb9f3a\"], [0.8888888888888888, \"#fdca26\"], [1.0, \"#f0f921\"]], \"sequentialminus\": [[0.0, \"#0d0887\"], [0.1111111111111111, \"#46039f\"], [0.2222222222222222, \"#7201a8\"], [0.3333333333333333, \"#9c179e\"], [0.4444444444444444, \"#bd3786\"], [0.5555555555555556, \"#d8576b\"], [0.6666666666666666, \"#ed7953\"], [0.7777777777777778, \"#fb9f3a\"], [0.8888888888888888, \"#fdca26\"], [1.0, \"#f0f921\"]]}, \"colorway\": [\"#636efa\", \"#EF553B\", \"#00cc96\", \"#ab63fa\", \"#FFA15A\", \"#19d3f3\", \"#FF6692\", \"#B6E880\", \"#FF97FF\", \"#FECB52\"], \"font\": {\"color\": \"#2a3f5f\"}, \"geo\": {\"bgcolor\": \"white\", \"lakecolor\": \"white\", \"landcolor\": \"#E5ECF6\", \"showlakes\": true, \"showland\": true, \"subunitcolor\": \"white\"}, \"hoverlabel\": {\"align\": \"left\"}, \"hovermode\": \"closest\", \"mapbox\": {\"style\": \"light\"}, \"paper_bgcolor\": \"white\", \"plot_bgcolor\": \"#E5ECF6\", \"polar\": {\"angularaxis\": {\"gridcolor\": \"white\", \"linecolor\": \"white\", \"ticks\": \"\"}, \"bgcolor\": \"#E5ECF6\", \"radialaxis\": {\"gridcolor\": \"white\", \"linecolor\": \"white\", \"ticks\": \"\"}}, \"scene\": {\"xaxis\": {\"backgroundcolor\": \"#E5ECF6\", \"gridcolor\": \"white\", \"gridwidth\": 2, \"linecolor\": \"white\", \"showbackground\": true, \"ticks\": \"\", \"zerolinecolor\": \"white\"}, \"yaxis\": {\"backgroundcolor\": \"#E5ECF6\", \"gridcolor\": \"white\", \"gridwidth\": 2, \"linecolor\": \"white\", \"showbackground\": true, \"ticks\": \"\", \"zerolinecolor\": \"white\"}, \"zaxis\": {\"backgroundcolor\": \"#E5ECF6\", \"gridcolor\": \"white\", \"gridwidth\": 2, \"linecolor\": \"white\", \"showbackground\": true, \"ticks\": \"\", \"zerolinecolor\": \"white\"}}, \"shapedefaults\": {\"line\": {\"color\": \"#2a3f5f\"}}, \"ternary\": {\"aaxis\": {\"gridcolor\": \"white\", \"linecolor\": \"white\", \"ticks\": \"\"}, \"baxis\": {\"gridcolor\": \"white\", \"linecolor\": \"white\", \"ticks\": \"\"}, \"bgcolor\": \"#E5ECF6\", \"caxis\": {\"gridcolor\": \"white\", \"linecolor\": \"white\", \"ticks\": \"\"}}, \"title\": {\"x\": 0.05}, \"xaxis\": {\"automargin\": true, \"gridcolor\": \"white\", \"linecolor\": \"white\", \"ticks\": \"\", \"title\": {\"standoff\": 15}, \"zerolinecolor\": \"white\", \"zerolinewidth\": 2}, \"yaxis\": {\"automargin\": true, \"gridcolor\": \"white\", \"linecolor\": \"white\", \"ticks\": \"\", \"title\": {\"standoff\": 15}, \"zerolinecolor\": \"white\", \"zerolinewidth\": 2}}}, \"title\": {\"text\": \"Bitcoin Cash Volume Traded\", \"x\": 0.5, \"xanchor\": \"center\", \"y\": 0.94, \"yanchor\": \"top\"}, \"xaxis\": {\"anchor\": \"y\", \"domain\": [0.0, 1.0], \"rangeslider\": {\"visible\": false}, \"title\": {\"text\": \"Time\"}}, \"yaxis\": {\"anchor\": \"x\", \"domain\": [0.0, 1.0], \"title\": {\"text\": \"Number of trades every minute\"}}},\n",
              "                        {\"responsive\": true}\n",
              "                    ).then(function(){\n",
              "                            \n",
              "var gd = document.getElementById('067c1269-d8c6-4e2e-8ec2-75a7729f240a');\n",
              "var x = new MutationObserver(function (mutations, observer) {{\n",
              "        var display = window.getComputedStyle(gd).display;\n",
              "        if (!display || display === 'none') {{\n",
              "            console.log([gd, 'removed!']);\n",
              "            Plotly.purge(gd);\n",
              "            observer.disconnect();\n",
              "        }}\n",
              "}});\n",
              "\n",
              "// Listen for the removal of the full notebook cells\n",
              "var notebookContainer = gd.closest('#notebook-container');\n",
              "if (notebookContainer) {{\n",
              "    x.observe(notebookContainer, {childList: true});\n",
              "}}\n",
              "\n",
              "// Listen for the clearing of the current output cell\n",
              "var outputEl = gd.closest('.output');\n",
              "if (outputEl) {{\n",
              "    x.observe(outputEl, {childList: true});\n",
              "}}\n",
              "\n",
              "                        })\n",
              "                };\n",
              "                \n",
              "            </script>\n",
              "        </div>\n",
              "</body>\n",
              "</html>"
            ]
          },
          "metadata": {}
        }
      ]
    },
    {
      "cell_type": "markdown",
      "metadata": {
        "id": "3R5rKKbI1kpR"
      },
      "source": [
        "- Cardano"
      ],
      "id": "3R5rKKbI1kpR"
    },
    {
      "cell_type": "code",
      "metadata": {
        "colab": {
          "base_uri": "https://localhost:8080/",
          "height": 542
        },
        "id": "f77dad4b",
        "outputId": "66bde76e-b130-4f21-fbee-63dae611e475"
      },
      "source": [
        "vol_traded(cardano[-60:], \"Cardano\", color=\"Blue\")"
      ],
      "id": "f77dad4b",
      "execution_count": 30,
      "outputs": [
        {
          "output_type": "display_data",
          "data": {
            "text/html": [
              "<html>\n",
              "<head><meta charset=\"utf-8\" /></head>\n",
              "<body>\n",
              "    <div>\n",
              "            <script src=\"https://cdnjs.cloudflare.com/ajax/libs/mathjax/2.7.5/MathJax.js?config=TeX-AMS-MML_SVG\"></script><script type=\"text/javascript\">if (window.MathJax) {MathJax.Hub.Config({SVG: {font: \"STIX-Web\"}});}</script>\n",
              "                <script type=\"text/javascript\">window.PlotlyConfig = {MathJaxConfig: 'local'};</script>\n",
              "        <script src=\"https://cdn.plot.ly/plotly-latest.min.js\"></script>    \n",
              "            <div id=\"ee22e46a-1680-4eca-a6c6-9edf75fa02d2\" class=\"plotly-graph-div\" style=\"height:525px; width:100%;\"></div>\n",
              "            <script type=\"text/javascript\">\n",
              "                \n",
              "                    window.PLOTLYENV=window.PLOTLYENV || {};\n",
              "                    \n",
              "                if (document.getElementById(\"ee22e46a-1680-4eca-a6c6-9edf75fa02d2\")) {\n",
              "                    Plotly.newPlot(\n",
              "                        'ee22e46a-1680-4eca-a6c6-9edf75fa02d2',\n",
              "                        [{\"hoverlabel\": {\"namelength\": 0}, \"hovertemplate\": \"x=%{x}<br>volume=%{y}\", \"legendgroup\": \"\", \"line\": {\"color\": \"Blue\"}, \"mode\": \"lines\", \"name\": \"\", \"orientation\": \"v\", \"showlegend\": false, \"stackgroup\": \"1\", \"type\": \"scatter\", \"x\": [\"2021-09-20T22:45:00\", \"2021-09-20T22:46:00\", \"2021-09-20T22:47:00\", \"2021-09-20T22:48:00\", \"2021-09-20T22:49:00\", \"2021-09-20T22:50:00\", \"2021-09-20T22:51:00\", \"2021-09-20T22:52:00\", \"2021-09-20T22:53:00\", \"2021-09-20T22:54:00\", \"2021-09-20T22:55:00\", \"2021-09-20T22:56:00\", \"2021-09-20T22:57:00\", \"2021-09-20T22:58:00\", \"2021-09-20T22:59:00\", \"2021-09-20T23:00:00\", \"2021-09-20T23:01:00\", \"2021-09-20T23:02:00\", \"2021-09-20T23:03:00\", \"2021-09-20T23:04:00\", \"2021-09-20T23:05:00\", \"2021-09-20T23:06:00\", \"2021-09-20T23:07:00\", \"2021-09-20T23:08:00\", \"2021-09-20T23:09:00\", \"2021-09-20T23:10:00\", \"2021-09-20T23:11:00\", \"2021-09-20T23:12:00\", \"2021-09-20T23:13:00\", \"2021-09-20T23:14:00\", \"2021-09-20T23:15:00\", \"2021-09-20T23:16:00\", \"2021-09-20T23:17:00\", \"2021-09-20T23:18:00\", \"2021-09-20T23:19:00\", \"2021-09-20T23:20:00\", \"2021-09-20T23:21:00\", \"2021-09-20T23:22:00\", \"2021-09-20T23:23:00\", \"2021-09-20T23:24:00\", \"2021-09-20T23:25:00\", \"2021-09-20T23:26:00\", \"2021-09-20T23:27:00\", \"2021-09-20T23:28:00\", \"2021-09-20T23:29:00\", \"2021-09-20T23:30:00\", \"2021-09-20T23:31:00\", \"2021-09-20T23:32:00\", \"2021-09-20T23:33:00\", \"2021-09-20T23:34:00\", \"2021-09-20T23:35:00\", \"2021-09-20T23:36:00\", \"2021-09-20T23:37:00\", \"2021-09-20T23:38:00\", \"2021-09-20T23:39:00\", \"2021-09-20T23:40:00\", \"2021-09-20T23:41:00\", \"2021-09-20T23:42:00\", \"2021-09-20T23:43:00\", \"2021-09-20T23:44:00\"], \"xaxis\": \"x\", \"y\": [431643.5585173029, 496532.397435931, 496531.9216618788, 421553.0586381632, 448662.25925887545, 642602.167574563, 626116.1036011943, 290300.2311422973, 640342.2420559474, 1568618.2854021415, 921892.329527918, 617425.6283131967, 803221.7503425779, 995716.6996527041, 719461.6782012726, 320939.67327939725, 347174.80722208123, 631332.794917146, 440099.08890296787, 678497.3660112256, 949548.5683388506, 821289.4037253945, 469929.9524688249, 340518.77994963113, 457285.34476541326, 346651.1606671986, 451853.0366300641, 632420.2667860186, 677530.7929275226, 792970.2023779849, 586528.2774221484, 720901.314134737, 562799.2037386232, 535109.5828968883, 379183.59850294, 399422.2757681353, 626818.4030362831, 570630.7473616849, 1284285.3960693015, 445302.1167346253, 845476.9646053528, 708804.2257686148, 670500.8850549968, 897439.1052470763, 389877.82109692326, 660180.754661896, 611427.6283667716, 397519.3387983635, 774123.3501942542, 730476.1983741645, 592236.6150401415, 544307.2541410107, 258960.22100251672, 201290.69941913747, 474683.6706661489, 477013.93006648216, 235358.84944687012, 272064.1074575437, 212747.70877970927, 393769.0235404513], \"yaxis\": \"y\"}],\n",
              "                        {\"legend\": {\"tracegroupgap\": 0}, \"margin\": {\"t\": 60}, \"showlegend\": true, \"template\": {\"data\": {\"bar\": [{\"error_x\": {\"color\": \"#2a3f5f\"}, \"error_y\": {\"color\": \"#2a3f5f\"}, \"marker\": {\"line\": {\"color\": \"#E5ECF6\", \"width\": 0.5}}, \"type\": \"bar\"}], \"barpolar\": [{\"marker\": {\"line\": {\"color\": \"#E5ECF6\", \"width\": 0.5}}, \"type\": \"barpolar\"}], \"carpet\": [{\"aaxis\": {\"endlinecolor\": \"#2a3f5f\", \"gridcolor\": \"white\", \"linecolor\": \"white\", \"minorgridcolor\": \"white\", \"startlinecolor\": \"#2a3f5f\"}, \"baxis\": {\"endlinecolor\": \"#2a3f5f\", \"gridcolor\": \"white\", \"linecolor\": \"white\", \"minorgridcolor\": \"white\", \"startlinecolor\": \"#2a3f5f\"}, \"type\": \"carpet\"}], \"choropleth\": [{\"colorbar\": {\"outlinewidth\": 0, \"ticks\": \"\"}, \"type\": \"choropleth\"}], \"contour\": [{\"colorbar\": {\"outlinewidth\": 0, \"ticks\": \"\"}, \"colorscale\": [[0.0, \"#0d0887\"], [0.1111111111111111, \"#46039f\"], [0.2222222222222222, \"#7201a8\"], [0.3333333333333333, \"#9c179e\"], [0.4444444444444444, \"#bd3786\"], [0.5555555555555556, \"#d8576b\"], [0.6666666666666666, \"#ed7953\"], [0.7777777777777778, \"#fb9f3a\"], [0.8888888888888888, \"#fdca26\"], [1.0, \"#f0f921\"]], \"type\": \"contour\"}], \"contourcarpet\": [{\"colorbar\": {\"outlinewidth\": 0, \"ticks\": \"\"}, \"type\": \"contourcarpet\"}], \"heatmap\": [{\"colorbar\": {\"outlinewidth\": 0, \"ticks\": \"\"}, \"colorscale\": [[0.0, \"#0d0887\"], [0.1111111111111111, \"#46039f\"], [0.2222222222222222, \"#7201a8\"], [0.3333333333333333, \"#9c179e\"], [0.4444444444444444, \"#bd3786\"], [0.5555555555555556, \"#d8576b\"], [0.6666666666666666, \"#ed7953\"], [0.7777777777777778, \"#fb9f3a\"], [0.8888888888888888, \"#fdca26\"], [1.0, \"#f0f921\"]], \"type\": \"heatmap\"}], \"heatmapgl\": [{\"colorbar\": {\"outlinewidth\": 0, \"ticks\": \"\"}, \"colorscale\": [[0.0, \"#0d0887\"], [0.1111111111111111, \"#46039f\"], [0.2222222222222222, \"#7201a8\"], [0.3333333333333333, \"#9c179e\"], [0.4444444444444444, \"#bd3786\"], [0.5555555555555556, \"#d8576b\"], [0.6666666666666666, \"#ed7953\"], [0.7777777777777778, \"#fb9f3a\"], [0.8888888888888888, \"#fdca26\"], [1.0, \"#f0f921\"]], \"type\": \"heatmapgl\"}], \"histogram\": [{\"marker\": {\"colorbar\": {\"outlinewidth\": 0, \"ticks\": \"\"}}, \"type\": \"histogram\"}], \"histogram2d\": [{\"colorbar\": {\"outlinewidth\": 0, \"ticks\": \"\"}, \"colorscale\": [[0.0, \"#0d0887\"], [0.1111111111111111, \"#46039f\"], [0.2222222222222222, \"#7201a8\"], [0.3333333333333333, \"#9c179e\"], [0.4444444444444444, \"#bd3786\"], [0.5555555555555556, \"#d8576b\"], [0.6666666666666666, \"#ed7953\"], [0.7777777777777778, \"#fb9f3a\"], [0.8888888888888888, \"#fdca26\"], [1.0, \"#f0f921\"]], \"type\": \"histogram2d\"}], \"histogram2dcontour\": [{\"colorbar\": {\"outlinewidth\": 0, \"ticks\": \"\"}, \"colorscale\": [[0.0, \"#0d0887\"], [0.1111111111111111, \"#46039f\"], [0.2222222222222222, \"#7201a8\"], [0.3333333333333333, \"#9c179e\"], [0.4444444444444444, \"#bd3786\"], [0.5555555555555556, \"#d8576b\"], [0.6666666666666666, \"#ed7953\"], [0.7777777777777778, \"#fb9f3a\"], [0.8888888888888888, \"#fdca26\"], [1.0, \"#f0f921\"]], \"type\": \"histogram2dcontour\"}], \"mesh3d\": [{\"colorbar\": {\"outlinewidth\": 0, \"ticks\": \"\"}, \"type\": \"mesh3d\"}], \"parcoords\": [{\"line\": {\"colorbar\": {\"outlinewidth\": 0, \"ticks\": \"\"}}, \"type\": \"parcoords\"}], \"pie\": [{\"automargin\": true, \"type\": \"pie\"}], \"scatter\": [{\"marker\": {\"colorbar\": {\"outlinewidth\": 0, \"ticks\": \"\"}}, \"type\": \"scatter\"}], \"scatter3d\": [{\"line\": {\"colorbar\": {\"outlinewidth\": 0, \"ticks\": \"\"}}, \"marker\": {\"colorbar\": {\"outlinewidth\": 0, \"ticks\": \"\"}}, \"type\": \"scatter3d\"}], \"scattercarpet\": [{\"marker\": {\"colorbar\": {\"outlinewidth\": 0, \"ticks\": \"\"}}, \"type\": \"scattercarpet\"}], \"scattergeo\": [{\"marker\": {\"colorbar\": {\"outlinewidth\": 0, \"ticks\": \"\"}}, \"type\": \"scattergeo\"}], \"scattergl\": [{\"marker\": {\"colorbar\": {\"outlinewidth\": 0, \"ticks\": \"\"}}, \"type\": \"scattergl\"}], \"scattermapbox\": [{\"marker\": {\"colorbar\": {\"outlinewidth\": 0, \"ticks\": \"\"}}, \"type\": \"scattermapbox\"}], \"scatterpolar\": [{\"marker\": {\"colorbar\": {\"outlinewidth\": 0, \"ticks\": \"\"}}, \"type\": \"scatterpolar\"}], \"scatterpolargl\": [{\"marker\": {\"colorbar\": {\"outlinewidth\": 0, \"ticks\": \"\"}}, \"type\": \"scatterpolargl\"}], \"scatterternary\": [{\"marker\": {\"colorbar\": {\"outlinewidth\": 0, \"ticks\": \"\"}}, \"type\": \"scatterternary\"}], \"surface\": [{\"colorbar\": {\"outlinewidth\": 0, \"ticks\": \"\"}, \"colorscale\": [[0.0, \"#0d0887\"], [0.1111111111111111, \"#46039f\"], [0.2222222222222222, \"#7201a8\"], [0.3333333333333333, \"#9c179e\"], [0.4444444444444444, \"#bd3786\"], [0.5555555555555556, \"#d8576b\"], [0.6666666666666666, \"#ed7953\"], [0.7777777777777778, \"#fb9f3a\"], [0.8888888888888888, \"#fdca26\"], [1.0, \"#f0f921\"]], \"type\": \"surface\"}], \"table\": [{\"cells\": {\"fill\": {\"color\": \"#EBF0F8\"}, \"line\": {\"color\": \"white\"}}, \"header\": {\"fill\": {\"color\": \"#C8D4E3\"}, \"line\": {\"color\": \"white\"}}, \"type\": \"table\"}]}, \"layout\": {\"annotationdefaults\": {\"arrowcolor\": \"#2a3f5f\", \"arrowhead\": 0, \"arrowwidth\": 1}, \"coloraxis\": {\"colorbar\": {\"outlinewidth\": 0, \"ticks\": \"\"}}, \"colorscale\": {\"diverging\": [[0, \"#8e0152\"], [0.1, \"#c51b7d\"], [0.2, \"#de77ae\"], [0.3, \"#f1b6da\"], [0.4, \"#fde0ef\"], [0.5, \"#f7f7f7\"], [0.6, \"#e6f5d0\"], [0.7, \"#b8e186\"], [0.8, \"#7fbc41\"], [0.9, \"#4d9221\"], [1, \"#276419\"]], \"sequential\": [[0.0, \"#0d0887\"], [0.1111111111111111, \"#46039f\"], [0.2222222222222222, \"#7201a8\"], [0.3333333333333333, \"#9c179e\"], [0.4444444444444444, \"#bd3786\"], [0.5555555555555556, \"#d8576b\"], [0.6666666666666666, \"#ed7953\"], [0.7777777777777778, \"#fb9f3a\"], [0.8888888888888888, \"#fdca26\"], [1.0, \"#f0f921\"]], \"sequentialminus\": [[0.0, \"#0d0887\"], [0.1111111111111111, \"#46039f\"], [0.2222222222222222, \"#7201a8\"], [0.3333333333333333, \"#9c179e\"], [0.4444444444444444, \"#bd3786\"], [0.5555555555555556, \"#d8576b\"], [0.6666666666666666, \"#ed7953\"], [0.7777777777777778, \"#fb9f3a\"], [0.8888888888888888, \"#fdca26\"], [1.0, \"#f0f921\"]]}, \"colorway\": [\"#636efa\", \"#EF553B\", \"#00cc96\", \"#ab63fa\", \"#FFA15A\", \"#19d3f3\", \"#FF6692\", \"#B6E880\", \"#FF97FF\", \"#FECB52\"], \"font\": {\"color\": \"#2a3f5f\"}, \"geo\": {\"bgcolor\": \"white\", \"lakecolor\": \"white\", \"landcolor\": \"#E5ECF6\", \"showlakes\": true, \"showland\": true, \"subunitcolor\": \"white\"}, \"hoverlabel\": {\"align\": \"left\"}, \"hovermode\": \"closest\", \"mapbox\": {\"style\": \"light\"}, \"paper_bgcolor\": \"white\", \"plot_bgcolor\": \"#E5ECF6\", \"polar\": {\"angularaxis\": {\"gridcolor\": \"white\", \"linecolor\": \"white\", \"ticks\": \"\"}, \"bgcolor\": \"#E5ECF6\", \"radialaxis\": {\"gridcolor\": \"white\", \"linecolor\": \"white\", \"ticks\": \"\"}}, \"scene\": {\"xaxis\": {\"backgroundcolor\": \"#E5ECF6\", \"gridcolor\": \"white\", \"gridwidth\": 2, \"linecolor\": \"white\", \"showbackground\": true, \"ticks\": \"\", \"zerolinecolor\": \"white\"}, \"yaxis\": {\"backgroundcolor\": \"#E5ECF6\", \"gridcolor\": \"white\", \"gridwidth\": 2, \"linecolor\": \"white\", \"showbackground\": true, \"ticks\": \"\", \"zerolinecolor\": \"white\"}, \"zaxis\": {\"backgroundcolor\": \"#E5ECF6\", \"gridcolor\": \"white\", \"gridwidth\": 2, \"linecolor\": \"white\", \"showbackground\": true, \"ticks\": \"\", \"zerolinecolor\": \"white\"}}, \"shapedefaults\": {\"line\": {\"color\": \"#2a3f5f\"}}, \"ternary\": {\"aaxis\": {\"gridcolor\": \"white\", \"linecolor\": \"white\", \"ticks\": \"\"}, \"baxis\": {\"gridcolor\": \"white\", \"linecolor\": \"white\", \"ticks\": \"\"}, \"bgcolor\": \"#E5ECF6\", \"caxis\": {\"gridcolor\": \"white\", \"linecolor\": \"white\", \"ticks\": \"\"}}, \"title\": {\"x\": 0.05}, \"xaxis\": {\"automargin\": true, \"gridcolor\": \"white\", \"linecolor\": \"white\", \"ticks\": \"\", \"title\": {\"standoff\": 15}, \"zerolinecolor\": \"white\", \"zerolinewidth\": 2}, \"yaxis\": {\"automargin\": true, \"gridcolor\": \"white\", \"linecolor\": \"white\", \"ticks\": \"\", \"title\": {\"standoff\": 15}, \"zerolinecolor\": \"white\", \"zerolinewidth\": 2}}}, \"title\": {\"text\": \"Cardano Volume Traded\", \"x\": 0.5, \"xanchor\": \"center\", \"y\": 0.94, \"yanchor\": \"top\"}, \"xaxis\": {\"anchor\": \"y\", \"domain\": [0.0, 1.0], \"rangeslider\": {\"visible\": false}, \"title\": {\"text\": \"Time\"}}, \"yaxis\": {\"anchor\": \"x\", \"domain\": [0.0, 1.0], \"title\": {\"text\": \"Number of trades every minute\"}}},\n",
              "                        {\"responsive\": true}\n",
              "                    ).then(function(){\n",
              "                            \n",
              "var gd = document.getElementById('ee22e46a-1680-4eca-a6c6-9edf75fa02d2');\n",
              "var x = new MutationObserver(function (mutations, observer) {{\n",
              "        var display = window.getComputedStyle(gd).display;\n",
              "        if (!display || display === 'none') {{\n",
              "            console.log([gd, 'removed!']);\n",
              "            Plotly.purge(gd);\n",
              "            observer.disconnect();\n",
              "        }}\n",
              "}});\n",
              "\n",
              "// Listen for the removal of the full notebook cells\n",
              "var notebookContainer = gd.closest('#notebook-container');\n",
              "if (notebookContainer) {{\n",
              "    x.observe(notebookContainer, {childList: true});\n",
              "}}\n",
              "\n",
              "// Listen for the clearing of the current output cell\n",
              "var outputEl = gd.closest('.output');\n",
              "if (outputEl) {{\n",
              "    x.observe(outputEl, {childList: true});\n",
              "}}\n",
              "\n",
              "                        })\n",
              "                };\n",
              "                \n",
              "            </script>\n",
              "        </div>\n",
              "</body>\n",
              "</html>"
            ]
          },
          "metadata": {}
        }
      ]
    },
    {
      "cell_type": "markdown",
      "metadata": {
        "id": "crHJGw_21mWZ"
      },
      "source": [
        "- Dogecoin"
      ],
      "id": "crHJGw_21mWZ"
    },
    {
      "cell_type": "code",
      "metadata": {
        "colab": {
          "base_uri": "https://localhost:8080/",
          "height": 542
        },
        "id": "32f5080d",
        "outputId": "55797e7f-870b-40a1-8c37-dade7677d785"
      },
      "source": [
        "vol_traded(dogecoin[-60:], \"Dogecoin\", color=\"Green\")"
      ],
      "id": "32f5080d",
      "execution_count": 31,
      "outputs": [
        {
          "output_type": "display_data",
          "data": {
            "text/html": [
              "<html>\n",
              "<head><meta charset=\"utf-8\" /></head>\n",
              "<body>\n",
              "    <div>\n",
              "            <script src=\"https://cdnjs.cloudflare.com/ajax/libs/mathjax/2.7.5/MathJax.js?config=TeX-AMS-MML_SVG\"></script><script type=\"text/javascript\">if (window.MathJax) {MathJax.Hub.Config({SVG: {font: \"STIX-Web\"}});}</script>\n",
              "                <script type=\"text/javascript\">window.PlotlyConfig = {MathJaxConfig: 'local'};</script>\n",
              "        <script src=\"https://cdn.plot.ly/plotly-latest.min.js\"></script>    \n",
              "            <div id=\"2b78e2fb-acd9-4019-999e-5aaa146979dd\" class=\"plotly-graph-div\" style=\"height:525px; width:100%;\"></div>\n",
              "            <script type=\"text/javascript\">\n",
              "                \n",
              "                    window.PLOTLYENV=window.PLOTLYENV || {};\n",
              "                    \n",
              "                if (document.getElementById(\"2b78e2fb-acd9-4019-999e-5aaa146979dd\")) {\n",
              "                    Plotly.newPlot(\n",
              "                        '2b78e2fb-acd9-4019-999e-5aaa146979dd',\n",
              "                        [{\"hoverlabel\": {\"namelength\": 0}, \"hovertemplate\": \"x=%{x}<br>volume=%{y}\", \"legendgroup\": \"\", \"line\": {\"color\": \"Green\"}, \"mode\": \"lines\", \"name\": \"\", \"orientation\": \"v\", \"showlegend\": false, \"stackgroup\": \"1\", \"type\": \"scatter\", \"x\": [\"2021-09-20T22:45:00\", \"2021-09-20T22:46:00\", \"2021-09-20T22:47:00\", \"2021-09-20T22:48:00\", \"2021-09-20T22:49:00\", \"2021-09-20T22:50:00\", \"2021-09-20T22:51:00\", \"2021-09-20T22:52:00\", \"2021-09-20T22:53:00\", \"2021-09-20T22:54:00\", \"2021-09-20T22:55:00\", \"2021-09-20T22:56:00\", \"2021-09-20T22:57:00\", \"2021-09-20T22:58:00\", \"2021-09-20T22:59:00\", \"2021-09-20T23:00:00\", \"2021-09-20T23:01:00\", \"2021-09-20T23:02:00\", \"2021-09-20T23:03:00\", \"2021-09-20T23:04:00\", \"2021-09-20T23:05:00\", \"2021-09-20T23:06:00\", \"2021-09-20T23:07:00\", \"2021-09-20T23:08:00\", \"2021-09-20T23:09:00\", \"2021-09-20T23:10:00\", \"2021-09-20T23:11:00\", \"2021-09-20T23:12:00\", \"2021-09-20T23:13:00\", \"2021-09-20T23:14:00\", \"2021-09-20T23:15:00\", \"2021-09-20T23:16:00\", \"2021-09-20T23:17:00\", \"2021-09-20T23:18:00\", \"2021-09-20T23:19:00\", \"2021-09-20T23:20:00\", \"2021-09-20T23:21:00\", \"2021-09-20T23:22:00\", \"2021-09-20T23:23:00\", \"2021-09-20T23:24:00\", \"2021-09-20T23:25:00\", \"2021-09-20T23:26:00\", \"2021-09-20T23:27:00\", \"2021-09-20T23:28:00\", \"2021-09-20T23:29:00\", \"2021-09-20T23:30:00\", \"2021-09-20T23:31:00\", \"2021-09-20T23:32:00\", \"2021-09-20T23:33:00\", \"2021-09-20T23:34:00\", \"2021-09-20T23:35:00\", \"2021-09-20T23:36:00\", \"2021-09-20T23:37:00\", \"2021-09-20T23:38:00\", \"2021-09-20T23:39:00\", \"2021-09-20T23:40:00\", \"2021-09-20T23:41:00\", \"2021-09-20T23:42:00\", \"2021-09-20T23:43:00\", \"2021-09-20T23:44:00\"], \"xaxis\": \"x\", \"y\": [501142.1923, 1057892.5736729454, 1138607.45407263, 809578.2697, 2827660.917654772, 3886105.25521448, 1919968.822, 2036199.747398376, 3407635.9934651973, 6335994.360716187, 8080741.986395196, 4071509.99404916, 2065798.1113818674, 2839180.9675170183, 2541384.298316083, 1086847.6560490974, 1235257.3094408498, 3286445.0576475007, 2834758.58693488, 2268915.765104855, 2960989.5276008192, 2885867.655696972, 2640643.7186136283, 3765709.7245602338, 1907317.6519645527, 1258589.915118394, 4024663.4116317024, 1927861.351689499, 1597408.9057135088, 3615155.1257723495, 2037641.04177203, 2167767.0980691165, 3526387.52652437, 3728992.733573714, 2076114.829378631, 1142213.602354287, 1677282.0840980168, 3255073.9538082667, 2338010.581627875, 1801839.8456877428, 2922175.6705392767, 1857476.1472804581, 2379226.6361571443, 2387982.79138712, 1220536.6905669593, 2613096.5943021565, 1678552.3552499546, 1276049.2009919016, 1370802.3350511931, 1402437.2784110424, 2541797.007712188, 1220218.92972804, 1040098.55589447, 603092.2494534097, 1565926.6740164969, 1138011.9243548017, 926539.9777554849, 1257670.2469483973, 793682.5534436844, 856799.6511363523], \"yaxis\": \"y\"}],\n",
              "                        {\"legend\": {\"tracegroupgap\": 0}, \"margin\": {\"t\": 60}, \"showlegend\": true, \"template\": {\"data\": {\"bar\": [{\"error_x\": {\"color\": \"#2a3f5f\"}, \"error_y\": {\"color\": \"#2a3f5f\"}, \"marker\": {\"line\": {\"color\": \"#E5ECF6\", \"width\": 0.5}}, \"type\": \"bar\"}], \"barpolar\": [{\"marker\": {\"line\": {\"color\": \"#E5ECF6\", \"width\": 0.5}}, \"type\": \"barpolar\"}], \"carpet\": [{\"aaxis\": {\"endlinecolor\": \"#2a3f5f\", \"gridcolor\": \"white\", \"linecolor\": \"white\", \"minorgridcolor\": \"white\", \"startlinecolor\": \"#2a3f5f\"}, \"baxis\": {\"endlinecolor\": \"#2a3f5f\", \"gridcolor\": \"white\", \"linecolor\": \"white\", \"minorgridcolor\": \"white\", \"startlinecolor\": \"#2a3f5f\"}, \"type\": \"carpet\"}], \"choropleth\": [{\"colorbar\": {\"outlinewidth\": 0, \"ticks\": \"\"}, \"type\": \"choropleth\"}], \"contour\": [{\"colorbar\": {\"outlinewidth\": 0, \"ticks\": \"\"}, \"colorscale\": [[0.0, \"#0d0887\"], [0.1111111111111111, \"#46039f\"], [0.2222222222222222, \"#7201a8\"], [0.3333333333333333, \"#9c179e\"], [0.4444444444444444, \"#bd3786\"], [0.5555555555555556, \"#d8576b\"], [0.6666666666666666, \"#ed7953\"], [0.7777777777777778, \"#fb9f3a\"], [0.8888888888888888, \"#fdca26\"], [1.0, \"#f0f921\"]], \"type\": \"contour\"}], \"contourcarpet\": [{\"colorbar\": {\"outlinewidth\": 0, \"ticks\": \"\"}, \"type\": \"contourcarpet\"}], \"heatmap\": [{\"colorbar\": {\"outlinewidth\": 0, \"ticks\": \"\"}, \"colorscale\": [[0.0, \"#0d0887\"], [0.1111111111111111, \"#46039f\"], [0.2222222222222222, \"#7201a8\"], [0.3333333333333333, \"#9c179e\"], [0.4444444444444444, \"#bd3786\"], [0.5555555555555556, \"#d8576b\"], [0.6666666666666666, \"#ed7953\"], [0.7777777777777778, \"#fb9f3a\"], [0.8888888888888888, \"#fdca26\"], [1.0, \"#f0f921\"]], \"type\": \"heatmap\"}], \"heatmapgl\": [{\"colorbar\": {\"outlinewidth\": 0, \"ticks\": \"\"}, \"colorscale\": [[0.0, \"#0d0887\"], [0.1111111111111111, \"#46039f\"], [0.2222222222222222, \"#7201a8\"], [0.3333333333333333, \"#9c179e\"], [0.4444444444444444, \"#bd3786\"], [0.5555555555555556, \"#d8576b\"], [0.6666666666666666, \"#ed7953\"], [0.7777777777777778, \"#fb9f3a\"], [0.8888888888888888, \"#fdca26\"], [1.0, \"#f0f921\"]], \"type\": \"heatmapgl\"}], \"histogram\": [{\"marker\": {\"colorbar\": {\"outlinewidth\": 0, \"ticks\": \"\"}}, \"type\": \"histogram\"}], \"histogram2d\": [{\"colorbar\": {\"outlinewidth\": 0, \"ticks\": \"\"}, \"colorscale\": [[0.0, \"#0d0887\"], [0.1111111111111111, \"#46039f\"], [0.2222222222222222, \"#7201a8\"], [0.3333333333333333, \"#9c179e\"], [0.4444444444444444, \"#bd3786\"], [0.5555555555555556, \"#d8576b\"], [0.6666666666666666, \"#ed7953\"], [0.7777777777777778, \"#fb9f3a\"], [0.8888888888888888, \"#fdca26\"], [1.0, \"#f0f921\"]], \"type\": \"histogram2d\"}], \"histogram2dcontour\": [{\"colorbar\": {\"outlinewidth\": 0, \"ticks\": \"\"}, \"colorscale\": [[0.0, \"#0d0887\"], [0.1111111111111111, \"#46039f\"], [0.2222222222222222, \"#7201a8\"], [0.3333333333333333, \"#9c179e\"], [0.4444444444444444, \"#bd3786\"], [0.5555555555555556, \"#d8576b\"], [0.6666666666666666, \"#ed7953\"], [0.7777777777777778, \"#fb9f3a\"], [0.8888888888888888, \"#fdca26\"], [1.0, \"#f0f921\"]], \"type\": \"histogram2dcontour\"}], \"mesh3d\": [{\"colorbar\": {\"outlinewidth\": 0, \"ticks\": \"\"}, \"type\": \"mesh3d\"}], \"parcoords\": [{\"line\": {\"colorbar\": {\"outlinewidth\": 0, \"ticks\": \"\"}}, \"type\": \"parcoords\"}], \"pie\": [{\"automargin\": true, \"type\": \"pie\"}], \"scatter\": [{\"marker\": {\"colorbar\": {\"outlinewidth\": 0, \"ticks\": \"\"}}, \"type\": \"scatter\"}], \"scatter3d\": [{\"line\": {\"colorbar\": {\"outlinewidth\": 0, \"ticks\": \"\"}}, \"marker\": {\"colorbar\": {\"outlinewidth\": 0, \"ticks\": \"\"}}, \"type\": \"scatter3d\"}], \"scattercarpet\": [{\"marker\": {\"colorbar\": {\"outlinewidth\": 0, \"ticks\": \"\"}}, \"type\": \"scattercarpet\"}], \"scattergeo\": [{\"marker\": {\"colorbar\": {\"outlinewidth\": 0, \"ticks\": \"\"}}, \"type\": \"scattergeo\"}], \"scattergl\": [{\"marker\": {\"colorbar\": {\"outlinewidth\": 0, \"ticks\": \"\"}}, \"type\": \"scattergl\"}], \"scattermapbox\": [{\"marker\": {\"colorbar\": {\"outlinewidth\": 0, \"ticks\": \"\"}}, \"type\": \"scattermapbox\"}], \"scatterpolar\": [{\"marker\": {\"colorbar\": {\"outlinewidth\": 0, \"ticks\": \"\"}}, \"type\": \"scatterpolar\"}], \"scatterpolargl\": [{\"marker\": {\"colorbar\": {\"outlinewidth\": 0, \"ticks\": \"\"}}, \"type\": \"scatterpolargl\"}], \"scatterternary\": [{\"marker\": {\"colorbar\": {\"outlinewidth\": 0, \"ticks\": \"\"}}, \"type\": \"scatterternary\"}], \"surface\": [{\"colorbar\": {\"outlinewidth\": 0, \"ticks\": \"\"}, \"colorscale\": [[0.0, \"#0d0887\"], [0.1111111111111111, \"#46039f\"], [0.2222222222222222, \"#7201a8\"], [0.3333333333333333, \"#9c179e\"], [0.4444444444444444, \"#bd3786\"], [0.5555555555555556, \"#d8576b\"], [0.6666666666666666, \"#ed7953\"], [0.7777777777777778, \"#fb9f3a\"], [0.8888888888888888, \"#fdca26\"], [1.0, \"#f0f921\"]], \"type\": \"surface\"}], \"table\": [{\"cells\": {\"fill\": {\"color\": \"#EBF0F8\"}, \"line\": {\"color\": \"white\"}}, \"header\": {\"fill\": {\"color\": \"#C8D4E3\"}, \"line\": {\"color\": \"white\"}}, \"type\": \"table\"}]}, \"layout\": {\"annotationdefaults\": {\"arrowcolor\": \"#2a3f5f\", \"arrowhead\": 0, \"arrowwidth\": 1}, \"coloraxis\": {\"colorbar\": {\"outlinewidth\": 0, \"ticks\": \"\"}}, \"colorscale\": {\"diverging\": [[0, \"#8e0152\"], [0.1, \"#c51b7d\"], [0.2, \"#de77ae\"], [0.3, \"#f1b6da\"], [0.4, \"#fde0ef\"], [0.5, \"#f7f7f7\"], [0.6, \"#e6f5d0\"], [0.7, \"#b8e186\"], [0.8, \"#7fbc41\"], [0.9, \"#4d9221\"], [1, \"#276419\"]], \"sequential\": [[0.0, \"#0d0887\"], [0.1111111111111111, \"#46039f\"], [0.2222222222222222, \"#7201a8\"], [0.3333333333333333, \"#9c179e\"], [0.4444444444444444, \"#bd3786\"], [0.5555555555555556, \"#d8576b\"], [0.6666666666666666, \"#ed7953\"], [0.7777777777777778, \"#fb9f3a\"], [0.8888888888888888, \"#fdca26\"], [1.0, \"#f0f921\"]], \"sequentialminus\": [[0.0, \"#0d0887\"], [0.1111111111111111, \"#46039f\"], [0.2222222222222222, \"#7201a8\"], [0.3333333333333333, \"#9c179e\"], [0.4444444444444444, \"#bd3786\"], [0.5555555555555556, \"#d8576b\"], [0.6666666666666666, \"#ed7953\"], [0.7777777777777778, \"#fb9f3a\"], [0.8888888888888888, \"#fdca26\"], [1.0, \"#f0f921\"]]}, \"colorway\": [\"#636efa\", \"#EF553B\", \"#00cc96\", \"#ab63fa\", \"#FFA15A\", \"#19d3f3\", \"#FF6692\", \"#B6E880\", \"#FF97FF\", \"#FECB52\"], \"font\": {\"color\": \"#2a3f5f\"}, \"geo\": {\"bgcolor\": \"white\", \"lakecolor\": \"white\", \"landcolor\": \"#E5ECF6\", \"showlakes\": true, \"showland\": true, \"subunitcolor\": \"white\"}, \"hoverlabel\": {\"align\": \"left\"}, \"hovermode\": \"closest\", \"mapbox\": {\"style\": \"light\"}, \"paper_bgcolor\": \"white\", \"plot_bgcolor\": \"#E5ECF6\", \"polar\": {\"angularaxis\": {\"gridcolor\": \"white\", \"linecolor\": \"white\", \"ticks\": \"\"}, \"bgcolor\": \"#E5ECF6\", \"radialaxis\": {\"gridcolor\": \"white\", \"linecolor\": \"white\", \"ticks\": \"\"}}, \"scene\": {\"xaxis\": {\"backgroundcolor\": \"#E5ECF6\", \"gridcolor\": \"white\", \"gridwidth\": 2, \"linecolor\": \"white\", \"showbackground\": true, \"ticks\": \"\", \"zerolinecolor\": \"white\"}, \"yaxis\": {\"backgroundcolor\": \"#E5ECF6\", \"gridcolor\": \"white\", \"gridwidth\": 2, \"linecolor\": \"white\", \"showbackground\": true, \"ticks\": \"\", \"zerolinecolor\": \"white\"}, \"zaxis\": {\"backgroundcolor\": \"#E5ECF6\", \"gridcolor\": \"white\", \"gridwidth\": 2, \"linecolor\": \"white\", \"showbackground\": true, \"ticks\": \"\", \"zerolinecolor\": \"white\"}}, \"shapedefaults\": {\"line\": {\"color\": \"#2a3f5f\"}}, \"ternary\": {\"aaxis\": {\"gridcolor\": \"white\", \"linecolor\": \"white\", \"ticks\": \"\"}, \"baxis\": {\"gridcolor\": \"white\", \"linecolor\": \"white\", \"ticks\": \"\"}, \"bgcolor\": \"#E5ECF6\", \"caxis\": {\"gridcolor\": \"white\", \"linecolor\": \"white\", \"ticks\": \"\"}}, \"title\": {\"x\": 0.05}, \"xaxis\": {\"automargin\": true, \"gridcolor\": \"white\", \"linecolor\": \"white\", \"ticks\": \"\", \"title\": {\"standoff\": 15}, \"zerolinecolor\": \"white\", \"zerolinewidth\": 2}, \"yaxis\": {\"automargin\": true, \"gridcolor\": \"white\", \"linecolor\": \"white\", \"ticks\": \"\", \"title\": {\"standoff\": 15}, \"zerolinecolor\": \"white\", \"zerolinewidth\": 2}}}, \"title\": {\"text\": \"Dogecoin Volume Traded\", \"x\": 0.5, \"xanchor\": \"center\", \"y\": 0.94, \"yanchor\": \"top\"}, \"xaxis\": {\"anchor\": \"y\", \"domain\": [0.0, 1.0], \"rangeslider\": {\"visible\": false}, \"title\": {\"text\": \"Time\"}}, \"yaxis\": {\"anchor\": \"x\", \"domain\": [0.0, 1.0], \"title\": {\"text\": \"Number of trades every minute\"}}},\n",
              "                        {\"responsive\": true}\n",
              "                    ).then(function(){\n",
              "                            \n",
              "var gd = document.getElementById('2b78e2fb-acd9-4019-999e-5aaa146979dd');\n",
              "var x = new MutationObserver(function (mutations, observer) {{\n",
              "        var display = window.getComputedStyle(gd).display;\n",
              "        if (!display || display === 'none') {{\n",
              "            console.log([gd, 'removed!']);\n",
              "            Plotly.purge(gd);\n",
              "            observer.disconnect();\n",
              "        }}\n",
              "}});\n",
              "\n",
              "// Listen for the removal of the full notebook cells\n",
              "var notebookContainer = gd.closest('#notebook-container');\n",
              "if (notebookContainer) {{\n",
              "    x.observe(notebookContainer, {childList: true});\n",
              "}}\n",
              "\n",
              "// Listen for the clearing of the current output cell\n",
              "var outputEl = gd.closest('.output');\n",
              "if (outputEl) {{\n",
              "    x.observe(outputEl, {childList: true});\n",
              "}}\n",
              "\n",
              "                        })\n",
              "                };\n",
              "                \n",
              "            </script>\n",
              "        </div>\n",
              "</body>\n",
              "</html>"
            ]
          },
          "metadata": {}
        }
      ]
    },
    {
      "cell_type": "markdown",
      "metadata": {
        "id": "g7desvNA1oRU"
      },
      "source": [
        "- EOS.IO"
      ],
      "id": "g7desvNA1oRU"
    },
    {
      "cell_type": "code",
      "metadata": {
        "colab": {
          "base_uri": "https://localhost:8080/",
          "height": 542
        },
        "id": "61e5323a",
        "outputId": "49382623-8db7-4f84-ac93-134b3ca286fd"
      },
      "source": [
        "vol_traded(eos[-60:], \"EOS.IO\", color=\"Blue\")"
      ],
      "id": "61e5323a",
      "execution_count": 32,
      "outputs": [
        {
          "output_type": "display_data",
          "data": {
            "text/html": [
              "<html>\n",
              "<head><meta charset=\"utf-8\" /></head>\n",
              "<body>\n",
              "    <div>\n",
              "            <script src=\"https://cdnjs.cloudflare.com/ajax/libs/mathjax/2.7.5/MathJax.js?config=TeX-AMS-MML_SVG\"></script><script type=\"text/javascript\">if (window.MathJax) {MathJax.Hub.Config({SVG: {font: \"STIX-Web\"}});}</script>\n",
              "                <script type=\"text/javascript\">window.PlotlyConfig = {MathJaxConfig: 'local'};</script>\n",
              "        <script src=\"https://cdn.plot.ly/plotly-latest.min.js\"></script>    \n",
              "            <div id=\"b74bfc3d-e8a0-4f1f-b85a-3b298ef7e5ae\" class=\"plotly-graph-div\" style=\"height:525px; width:100%;\"></div>\n",
              "            <script type=\"text/javascript\">\n",
              "                \n",
              "                    window.PLOTLYENV=window.PLOTLYENV || {};\n",
              "                    \n",
              "                if (document.getElementById(\"b74bfc3d-e8a0-4f1f-b85a-3b298ef7e5ae\")) {\n",
              "                    Plotly.newPlot(\n",
              "                        'b74bfc3d-e8a0-4f1f-b85a-3b298ef7e5ae',\n",
              "                        [{\"hoverlabel\": {\"namelength\": 0}, \"hovertemplate\": \"x=%{x}<br>volume=%{y}\", \"legendgroup\": \"\", \"line\": {\"color\": \"Blue\"}, \"mode\": \"lines\", \"name\": \"\", \"orientation\": \"v\", \"showlegend\": false, \"stackgroup\": \"1\", \"type\": \"scatter\", \"x\": [\"2021-09-20T22:45:00\", \"2021-09-20T22:46:00\", \"2021-09-20T22:47:00\", \"2021-09-20T22:48:00\", \"2021-09-20T22:49:00\", \"2021-09-20T22:50:00\", \"2021-09-20T22:51:00\", \"2021-09-20T22:52:00\", \"2021-09-20T22:53:00\", \"2021-09-20T22:54:00\", \"2021-09-20T22:55:00\", \"2021-09-20T22:56:00\", \"2021-09-20T22:57:00\", \"2021-09-20T22:58:00\", \"2021-09-20T22:59:00\", \"2021-09-20T23:00:00\", \"2021-09-20T23:01:00\", \"2021-09-20T23:02:00\", \"2021-09-20T23:03:00\", \"2021-09-20T23:04:00\", \"2021-09-20T23:05:00\", \"2021-09-20T23:06:00\", \"2021-09-20T23:07:00\", \"2021-09-20T23:08:00\", \"2021-09-20T23:09:00\", \"2021-09-20T23:10:00\", \"2021-09-20T23:11:00\", \"2021-09-20T23:12:00\", \"2021-09-20T23:13:00\", \"2021-09-20T23:14:00\", \"2021-09-20T23:15:00\", \"2021-09-20T23:16:00\", \"2021-09-20T23:17:00\", \"2021-09-20T23:18:00\", \"2021-09-20T23:19:00\", \"2021-09-20T23:20:00\", \"2021-09-20T23:21:00\", \"2021-09-20T23:22:00\", \"2021-09-20T23:23:00\", \"2021-09-20T23:24:00\", \"2021-09-20T23:25:00\", \"2021-09-20T23:26:00\", \"2021-09-20T23:27:00\", \"2021-09-20T23:28:00\", \"2021-09-20T23:29:00\", \"2021-09-20T23:30:00\", \"2021-09-20T23:31:00\", \"2021-09-20T23:32:00\", \"2021-09-20T23:33:00\", \"2021-09-20T23:34:00\", \"2021-09-20T23:35:00\", \"2021-09-20T23:36:00\", \"2021-09-20T23:37:00\", \"2021-09-20T23:38:00\", \"2021-09-20T23:39:00\", \"2021-09-20T23:40:00\", \"2021-09-20T23:41:00\", \"2021-09-20T23:42:00\", \"2021-09-20T23:43:00\", \"2021-09-20T23:44:00\"], \"xaxis\": \"x\", \"y\": [19025.617700000006, 62705.77090000001, 34194.60358295002, 27378.03995585332, 52989.007954597044, 89970.92979242935, 48112.04631400706, 46957.116280839786, 81480.16021988995, 138171.81167132087, 80301.52435119191, 44029.38933213001, 34689.89628171002, 40672.8807, 73729.72351776, 32925.27864366541, 65670.41610537285, 73817.18818260983, 76602.22680151227, 61008.12449568, 73289.12333507999, 44994.02850816254, 44206.37909787, 28227.322733290013, 78729.82051704128, 53916.64771651786, 49494.06510023677, 58481.47889403286, 46774.7805146886, 79899.41763315324, 53348.149393864056, 68235.26087399217, 68561.85272096, 48285.64471883001, 44002.95869712001, 43189.36628254017, 108313.46888916462, 67123.4649419758, 134714.85586516807, 62636.633504265876, 63881.12400127426, 73725.64788639719, 106154.45749069416, 66921.61109436351, 162436.16264890495, 75294.79888131356, 58945.10759479095, 43219.32915548, 97017.06489274104, 198347.65384241773, 35844.360686008564, 42415.85817172254, 26397.31293881602, 30241.214647584868, 41674.509083017234, 33381.66805899, 40311.28028279522, 70961.3914674, 31197.90963039, 26207.79118675658], \"yaxis\": \"y\"}],\n",
              "                        {\"legend\": {\"tracegroupgap\": 0}, \"margin\": {\"t\": 60}, \"showlegend\": true, \"template\": {\"data\": {\"bar\": [{\"error_x\": {\"color\": \"#2a3f5f\"}, \"error_y\": {\"color\": \"#2a3f5f\"}, \"marker\": {\"line\": {\"color\": \"#E5ECF6\", \"width\": 0.5}}, \"type\": \"bar\"}], \"barpolar\": [{\"marker\": {\"line\": {\"color\": \"#E5ECF6\", \"width\": 0.5}}, \"type\": \"barpolar\"}], \"carpet\": [{\"aaxis\": {\"endlinecolor\": \"#2a3f5f\", \"gridcolor\": \"white\", \"linecolor\": \"white\", \"minorgridcolor\": \"white\", \"startlinecolor\": \"#2a3f5f\"}, \"baxis\": {\"endlinecolor\": \"#2a3f5f\", \"gridcolor\": \"white\", \"linecolor\": \"white\", \"minorgridcolor\": \"white\", \"startlinecolor\": \"#2a3f5f\"}, \"type\": \"carpet\"}], \"choropleth\": [{\"colorbar\": {\"outlinewidth\": 0, \"ticks\": \"\"}, \"type\": \"choropleth\"}], \"contour\": [{\"colorbar\": {\"outlinewidth\": 0, \"ticks\": \"\"}, \"colorscale\": [[0.0, \"#0d0887\"], [0.1111111111111111, \"#46039f\"], [0.2222222222222222, \"#7201a8\"], [0.3333333333333333, \"#9c179e\"], [0.4444444444444444, \"#bd3786\"], [0.5555555555555556, \"#d8576b\"], [0.6666666666666666, \"#ed7953\"], [0.7777777777777778, \"#fb9f3a\"], [0.8888888888888888, \"#fdca26\"], [1.0, \"#f0f921\"]], \"type\": \"contour\"}], \"contourcarpet\": [{\"colorbar\": {\"outlinewidth\": 0, \"ticks\": \"\"}, \"type\": \"contourcarpet\"}], \"heatmap\": [{\"colorbar\": {\"outlinewidth\": 0, \"ticks\": \"\"}, \"colorscale\": [[0.0, \"#0d0887\"], [0.1111111111111111, \"#46039f\"], [0.2222222222222222, \"#7201a8\"], [0.3333333333333333, \"#9c179e\"], [0.4444444444444444, \"#bd3786\"], [0.5555555555555556, \"#d8576b\"], [0.6666666666666666, \"#ed7953\"], [0.7777777777777778, \"#fb9f3a\"], [0.8888888888888888, \"#fdca26\"], [1.0, \"#f0f921\"]], \"type\": \"heatmap\"}], \"heatmapgl\": [{\"colorbar\": {\"outlinewidth\": 0, \"ticks\": \"\"}, \"colorscale\": [[0.0, \"#0d0887\"], [0.1111111111111111, \"#46039f\"], [0.2222222222222222, \"#7201a8\"], [0.3333333333333333, \"#9c179e\"], [0.4444444444444444, \"#bd3786\"], [0.5555555555555556, \"#d8576b\"], [0.6666666666666666, \"#ed7953\"], [0.7777777777777778, \"#fb9f3a\"], [0.8888888888888888, \"#fdca26\"], [1.0, \"#f0f921\"]], \"type\": \"heatmapgl\"}], \"histogram\": [{\"marker\": {\"colorbar\": {\"outlinewidth\": 0, \"ticks\": \"\"}}, \"type\": \"histogram\"}], \"histogram2d\": [{\"colorbar\": {\"outlinewidth\": 0, \"ticks\": \"\"}, \"colorscale\": [[0.0, \"#0d0887\"], [0.1111111111111111, \"#46039f\"], [0.2222222222222222, \"#7201a8\"], [0.3333333333333333, \"#9c179e\"], [0.4444444444444444, \"#bd3786\"], [0.5555555555555556, \"#d8576b\"], [0.6666666666666666, \"#ed7953\"], [0.7777777777777778, \"#fb9f3a\"], [0.8888888888888888, \"#fdca26\"], [1.0, \"#f0f921\"]], \"type\": \"histogram2d\"}], \"histogram2dcontour\": [{\"colorbar\": {\"outlinewidth\": 0, \"ticks\": \"\"}, \"colorscale\": [[0.0, \"#0d0887\"], [0.1111111111111111, \"#46039f\"], [0.2222222222222222, \"#7201a8\"], [0.3333333333333333, \"#9c179e\"], [0.4444444444444444, \"#bd3786\"], [0.5555555555555556, \"#d8576b\"], [0.6666666666666666, \"#ed7953\"], [0.7777777777777778, \"#fb9f3a\"], [0.8888888888888888, \"#fdca26\"], [1.0, \"#f0f921\"]], \"type\": \"histogram2dcontour\"}], \"mesh3d\": [{\"colorbar\": {\"outlinewidth\": 0, \"ticks\": \"\"}, \"type\": \"mesh3d\"}], \"parcoords\": [{\"line\": {\"colorbar\": {\"outlinewidth\": 0, \"ticks\": \"\"}}, \"type\": \"parcoords\"}], \"pie\": [{\"automargin\": true, \"type\": \"pie\"}], \"scatter\": [{\"marker\": {\"colorbar\": {\"outlinewidth\": 0, \"ticks\": \"\"}}, \"type\": \"scatter\"}], \"scatter3d\": [{\"line\": {\"colorbar\": {\"outlinewidth\": 0, \"ticks\": \"\"}}, \"marker\": {\"colorbar\": {\"outlinewidth\": 0, \"ticks\": \"\"}}, \"type\": \"scatter3d\"}], \"scattercarpet\": [{\"marker\": {\"colorbar\": {\"outlinewidth\": 0, \"ticks\": \"\"}}, \"type\": \"scattercarpet\"}], \"scattergeo\": [{\"marker\": {\"colorbar\": {\"outlinewidth\": 0, \"ticks\": \"\"}}, \"type\": \"scattergeo\"}], \"scattergl\": [{\"marker\": {\"colorbar\": {\"outlinewidth\": 0, \"ticks\": \"\"}}, \"type\": \"scattergl\"}], \"scattermapbox\": [{\"marker\": {\"colorbar\": {\"outlinewidth\": 0, \"ticks\": \"\"}}, \"type\": \"scattermapbox\"}], \"scatterpolar\": [{\"marker\": {\"colorbar\": {\"outlinewidth\": 0, \"ticks\": \"\"}}, \"type\": \"scatterpolar\"}], \"scatterpolargl\": [{\"marker\": {\"colorbar\": {\"outlinewidth\": 0, \"ticks\": \"\"}}, \"type\": \"scatterpolargl\"}], \"scatterternary\": [{\"marker\": {\"colorbar\": {\"outlinewidth\": 0, \"ticks\": \"\"}}, \"type\": \"scatterternary\"}], \"surface\": [{\"colorbar\": {\"outlinewidth\": 0, \"ticks\": \"\"}, \"colorscale\": [[0.0, \"#0d0887\"], [0.1111111111111111, \"#46039f\"], [0.2222222222222222, \"#7201a8\"], [0.3333333333333333, \"#9c179e\"], [0.4444444444444444, \"#bd3786\"], [0.5555555555555556, \"#d8576b\"], [0.6666666666666666, \"#ed7953\"], [0.7777777777777778, \"#fb9f3a\"], [0.8888888888888888, \"#fdca26\"], [1.0, \"#f0f921\"]], \"type\": \"surface\"}], \"table\": [{\"cells\": {\"fill\": {\"color\": \"#EBF0F8\"}, \"line\": {\"color\": \"white\"}}, \"header\": {\"fill\": {\"color\": \"#C8D4E3\"}, \"line\": {\"color\": \"white\"}}, \"type\": \"table\"}]}, \"layout\": {\"annotationdefaults\": {\"arrowcolor\": \"#2a3f5f\", \"arrowhead\": 0, \"arrowwidth\": 1}, \"coloraxis\": {\"colorbar\": {\"outlinewidth\": 0, \"ticks\": \"\"}}, \"colorscale\": {\"diverging\": [[0, \"#8e0152\"], [0.1, \"#c51b7d\"], [0.2, \"#de77ae\"], [0.3, \"#f1b6da\"], [0.4, \"#fde0ef\"], [0.5, \"#f7f7f7\"], [0.6, \"#e6f5d0\"], [0.7, \"#b8e186\"], [0.8, \"#7fbc41\"], [0.9, \"#4d9221\"], [1, \"#276419\"]], \"sequential\": [[0.0, \"#0d0887\"], [0.1111111111111111, \"#46039f\"], [0.2222222222222222, \"#7201a8\"], [0.3333333333333333, \"#9c179e\"], [0.4444444444444444, \"#bd3786\"], [0.5555555555555556, \"#d8576b\"], [0.6666666666666666, \"#ed7953\"], [0.7777777777777778, \"#fb9f3a\"], [0.8888888888888888, \"#fdca26\"], [1.0, \"#f0f921\"]], \"sequentialminus\": [[0.0, \"#0d0887\"], [0.1111111111111111, \"#46039f\"], [0.2222222222222222, \"#7201a8\"], [0.3333333333333333, \"#9c179e\"], [0.4444444444444444, \"#bd3786\"], [0.5555555555555556, \"#d8576b\"], [0.6666666666666666, \"#ed7953\"], [0.7777777777777778, \"#fb9f3a\"], [0.8888888888888888, \"#fdca26\"], [1.0, \"#f0f921\"]]}, \"colorway\": [\"#636efa\", \"#EF553B\", \"#00cc96\", \"#ab63fa\", \"#FFA15A\", \"#19d3f3\", \"#FF6692\", \"#B6E880\", \"#FF97FF\", \"#FECB52\"], \"font\": {\"color\": \"#2a3f5f\"}, \"geo\": {\"bgcolor\": \"white\", \"lakecolor\": \"white\", \"landcolor\": \"#E5ECF6\", \"showlakes\": true, \"showland\": true, \"subunitcolor\": \"white\"}, \"hoverlabel\": {\"align\": \"left\"}, \"hovermode\": \"closest\", \"mapbox\": {\"style\": \"light\"}, \"paper_bgcolor\": \"white\", \"plot_bgcolor\": \"#E5ECF6\", \"polar\": {\"angularaxis\": {\"gridcolor\": \"white\", \"linecolor\": \"white\", \"ticks\": \"\"}, \"bgcolor\": \"#E5ECF6\", \"radialaxis\": {\"gridcolor\": \"white\", \"linecolor\": \"white\", \"ticks\": \"\"}}, \"scene\": {\"xaxis\": {\"backgroundcolor\": \"#E5ECF6\", \"gridcolor\": \"white\", \"gridwidth\": 2, \"linecolor\": \"white\", \"showbackground\": true, \"ticks\": \"\", \"zerolinecolor\": \"white\"}, \"yaxis\": {\"backgroundcolor\": \"#E5ECF6\", \"gridcolor\": \"white\", \"gridwidth\": 2, \"linecolor\": \"white\", \"showbackground\": true, \"ticks\": \"\", \"zerolinecolor\": \"white\"}, \"zaxis\": {\"backgroundcolor\": \"#E5ECF6\", \"gridcolor\": \"white\", \"gridwidth\": 2, \"linecolor\": \"white\", \"showbackground\": true, \"ticks\": \"\", \"zerolinecolor\": \"white\"}}, \"shapedefaults\": {\"line\": {\"color\": \"#2a3f5f\"}}, \"ternary\": {\"aaxis\": {\"gridcolor\": \"white\", \"linecolor\": \"white\", \"ticks\": \"\"}, \"baxis\": {\"gridcolor\": \"white\", \"linecolor\": \"white\", \"ticks\": \"\"}, \"bgcolor\": \"#E5ECF6\", \"caxis\": {\"gridcolor\": \"white\", \"linecolor\": \"white\", \"ticks\": \"\"}}, \"title\": {\"x\": 0.05}, \"xaxis\": {\"automargin\": true, \"gridcolor\": \"white\", \"linecolor\": \"white\", \"ticks\": \"\", \"title\": {\"standoff\": 15}, \"zerolinecolor\": \"white\", \"zerolinewidth\": 2}, \"yaxis\": {\"automargin\": true, \"gridcolor\": \"white\", \"linecolor\": \"white\", \"ticks\": \"\", \"title\": {\"standoff\": 15}, \"zerolinecolor\": \"white\", \"zerolinewidth\": 2}}}, \"title\": {\"text\": \"EOS.IO Volume Traded\", \"x\": 0.5, \"xanchor\": \"center\", \"y\": 0.94, \"yanchor\": \"top\"}, \"xaxis\": {\"anchor\": \"y\", \"domain\": [0.0, 1.0], \"rangeslider\": {\"visible\": false}, \"title\": {\"text\": \"Time\"}}, \"yaxis\": {\"anchor\": \"x\", \"domain\": [0.0, 1.0], \"title\": {\"text\": \"Number of trades every minute\"}}},\n",
              "                        {\"responsive\": true}\n",
              "                    ).then(function(){\n",
              "                            \n",
              "var gd = document.getElementById('b74bfc3d-e8a0-4f1f-b85a-3b298ef7e5ae');\n",
              "var x = new MutationObserver(function (mutations, observer) {{\n",
              "        var display = window.getComputedStyle(gd).display;\n",
              "        if (!display || display === 'none') {{\n",
              "            console.log([gd, 'removed!']);\n",
              "            Plotly.purge(gd);\n",
              "            observer.disconnect();\n",
              "        }}\n",
              "}});\n",
              "\n",
              "// Listen for the removal of the full notebook cells\n",
              "var notebookContainer = gd.closest('#notebook-container');\n",
              "if (notebookContainer) {{\n",
              "    x.observe(notebookContainer, {childList: true});\n",
              "}}\n",
              "\n",
              "// Listen for the clearing of the current output cell\n",
              "var outputEl = gd.closest('.output');\n",
              "if (outputEl) {{\n",
              "    x.observe(outputEl, {childList: true});\n",
              "}}\n",
              "\n",
              "                        })\n",
              "                };\n",
              "                \n",
              "            </script>\n",
              "        </div>\n",
              "</body>\n",
              "</html>"
            ]
          },
          "metadata": {}
        }
      ]
    },
    {
      "cell_type": "markdown",
      "metadata": {
        "id": "GgvnuQ_Y1rVp"
      },
      "source": [
        "- Ethereum"
      ],
      "id": "GgvnuQ_Y1rVp"
    },
    {
      "cell_type": "code",
      "metadata": {
        "colab": {
          "base_uri": "https://localhost:8080/",
          "height": 542
        },
        "id": "c6644420",
        "outputId": "11f4493f-e71c-4f90-de05-dbb9dce859c7"
      },
      "source": [
        "vol_traded(eth[-60:], \"Ethereum\", color=\"Green\")"
      ],
      "id": "c6644420",
      "execution_count": 33,
      "outputs": [
        {
          "output_type": "display_data",
          "data": {
            "text/html": [
              "<html>\n",
              "<head><meta charset=\"utf-8\" /></head>\n",
              "<body>\n",
              "    <div>\n",
              "            <script src=\"https://cdnjs.cloudflare.com/ajax/libs/mathjax/2.7.5/MathJax.js?config=TeX-AMS-MML_SVG\"></script><script type=\"text/javascript\">if (window.MathJax) {MathJax.Hub.Config({SVG: {font: \"STIX-Web\"}});}</script>\n",
              "                <script type=\"text/javascript\">window.PlotlyConfig = {MathJaxConfig: 'local'};</script>\n",
              "        <script src=\"https://cdn.plot.ly/plotly-latest.min.js\"></script>    \n",
              "            <div id=\"b1872921-9569-4cc1-84b6-ed77e881ba22\" class=\"plotly-graph-div\" style=\"height:525px; width:100%;\"></div>\n",
              "            <script type=\"text/javascript\">\n",
              "                \n",
              "                    window.PLOTLYENV=window.PLOTLYENV || {};\n",
              "                    \n",
              "                if (document.getElementById(\"b1872921-9569-4cc1-84b6-ed77e881ba22\")) {\n",
              "                    Plotly.newPlot(\n",
              "                        'b1872921-9569-4cc1-84b6-ed77e881ba22',\n",
              "                        [{\"hoverlabel\": {\"namelength\": 0}, \"hovertemplate\": \"x=%{x}<br>volume=%{y}\", \"legendgroup\": \"\", \"line\": {\"color\": \"Green\"}, \"mode\": \"lines\", \"name\": \"\", \"orientation\": \"v\", \"showlegend\": false, \"stackgroup\": \"1\", \"type\": \"scatter\", \"x\": [\"2021-09-20T22:45:00\", \"2021-09-20T22:46:00\", \"2021-09-20T22:47:00\", \"2021-09-20T22:48:00\", \"2021-09-20T22:49:00\", \"2021-09-20T22:50:00\", \"2021-09-20T22:51:00\", \"2021-09-20T22:52:00\", \"2021-09-20T22:53:00\", \"2021-09-20T22:54:00\", \"2021-09-20T22:55:00\", \"2021-09-20T22:56:00\", \"2021-09-20T22:57:00\", \"2021-09-20T22:58:00\", \"2021-09-20T22:59:00\", \"2021-09-20T23:00:00\", \"2021-09-20T23:01:00\", \"2021-09-20T23:02:00\", \"2021-09-20T23:03:00\", \"2021-09-20T23:04:00\", \"2021-09-20T23:05:00\", \"2021-09-20T23:06:00\", \"2021-09-20T23:07:00\", \"2021-09-20T23:08:00\", \"2021-09-20T23:09:00\", \"2021-09-20T23:10:00\", \"2021-09-20T23:11:00\", \"2021-09-20T23:12:00\", \"2021-09-20T23:13:00\", \"2021-09-20T23:14:00\", \"2021-09-20T23:15:00\", \"2021-09-20T23:16:00\", \"2021-09-20T23:17:00\", \"2021-09-20T23:18:00\", \"2021-09-20T23:19:00\", \"2021-09-20T23:20:00\", \"2021-09-20T23:21:00\", \"2021-09-20T23:22:00\", \"2021-09-20T23:23:00\", \"2021-09-20T23:24:00\", \"2021-09-20T23:25:00\", \"2021-09-20T23:26:00\", \"2021-09-20T23:27:00\", \"2021-09-20T23:28:00\", \"2021-09-20T23:29:00\", \"2021-09-20T23:30:00\", \"2021-09-20T23:31:00\", \"2021-09-20T23:32:00\", \"2021-09-20T23:33:00\", \"2021-09-20T23:34:00\", \"2021-09-20T23:35:00\", \"2021-09-20T23:36:00\", \"2021-09-20T23:37:00\", \"2021-09-20T23:38:00\", \"2021-09-20T23:39:00\", \"2021-09-20T23:40:00\", \"2021-09-20T23:41:00\", \"2021-09-20T23:42:00\", \"2021-09-20T23:43:00\", \"2021-09-20T23:44:00\"], \"xaxis\": \"x\", \"y\": [720.6121849283368, 907.1580772562347, 1645.1747351796485, 1536.124941227688, 1930.0738315006365, 3569.8993238682287, 2228.2455504120126, 2397.702873658668, 2758.5002214958313, 7277.943182617727, 4192.1580791972465, 2092.526665008308, 1826.9722431542987, 1843.543796045905, 1600.7259895689144, 964.8850828478922, 1163.1938360723952, 1960.3069952362005, 2590.2308515936247, 1595.5761763488324, 2290.831620857708, 2186.8807291912435, 1524.8082599264008, 972.4297566559213, 1601.2009503146521, 1300.9461564623748, 2272.5596013462673, 2332.067304385693, 1640.8717429189646, 2089.034180303053, 1502.8608435270996, 1298.3827784208695, 1447.6415681258004, 953.7171458342293, 814.0497187953184, 742.5661065713181, 1750.855043047854, 1686.412036820315, 3309.7972289180816, 1694.160476310738, 2400.2065711950995, 1883.5628854540728, 1641.910235712105, 1689.1885418156312, 1253.8069793978582, 3042.072736878426, 1743.072589310844, 2633.631954149645, 3032.5371312279995, 2290.2316100094117, 1967.1290651830163, 1452.6837534896786, 870.599076894354, 957.0700367990623, 1021.9135279622501, 717.6168631949298, 776.638910924822, 976.7249949179726, 674.08797346884, 738.2909066057988], \"yaxis\": \"y\"}],\n",
              "                        {\"legend\": {\"tracegroupgap\": 0}, \"margin\": {\"t\": 60}, \"showlegend\": true, \"template\": {\"data\": {\"bar\": [{\"error_x\": {\"color\": \"#2a3f5f\"}, \"error_y\": {\"color\": \"#2a3f5f\"}, \"marker\": {\"line\": {\"color\": \"#E5ECF6\", \"width\": 0.5}}, \"type\": \"bar\"}], \"barpolar\": [{\"marker\": {\"line\": {\"color\": \"#E5ECF6\", \"width\": 0.5}}, \"type\": \"barpolar\"}], \"carpet\": [{\"aaxis\": {\"endlinecolor\": \"#2a3f5f\", \"gridcolor\": \"white\", \"linecolor\": \"white\", \"minorgridcolor\": \"white\", \"startlinecolor\": \"#2a3f5f\"}, \"baxis\": {\"endlinecolor\": \"#2a3f5f\", \"gridcolor\": \"white\", \"linecolor\": \"white\", \"minorgridcolor\": \"white\", \"startlinecolor\": \"#2a3f5f\"}, \"type\": \"carpet\"}], \"choropleth\": [{\"colorbar\": {\"outlinewidth\": 0, \"ticks\": \"\"}, \"type\": \"choropleth\"}], \"contour\": [{\"colorbar\": {\"outlinewidth\": 0, \"ticks\": \"\"}, \"colorscale\": [[0.0, \"#0d0887\"], [0.1111111111111111, \"#46039f\"], [0.2222222222222222, \"#7201a8\"], [0.3333333333333333, \"#9c179e\"], [0.4444444444444444, \"#bd3786\"], [0.5555555555555556, \"#d8576b\"], [0.6666666666666666, \"#ed7953\"], [0.7777777777777778, \"#fb9f3a\"], [0.8888888888888888, \"#fdca26\"], [1.0, \"#f0f921\"]], \"type\": \"contour\"}], \"contourcarpet\": [{\"colorbar\": {\"outlinewidth\": 0, \"ticks\": \"\"}, \"type\": \"contourcarpet\"}], \"heatmap\": [{\"colorbar\": {\"outlinewidth\": 0, \"ticks\": \"\"}, \"colorscale\": [[0.0, \"#0d0887\"], [0.1111111111111111, \"#46039f\"], [0.2222222222222222, \"#7201a8\"], [0.3333333333333333, \"#9c179e\"], [0.4444444444444444, \"#bd3786\"], [0.5555555555555556, \"#d8576b\"], [0.6666666666666666, \"#ed7953\"], [0.7777777777777778, \"#fb9f3a\"], [0.8888888888888888, \"#fdca26\"], [1.0, \"#f0f921\"]], \"type\": \"heatmap\"}], \"heatmapgl\": [{\"colorbar\": {\"outlinewidth\": 0, \"ticks\": \"\"}, \"colorscale\": [[0.0, \"#0d0887\"], [0.1111111111111111, \"#46039f\"], [0.2222222222222222, \"#7201a8\"], [0.3333333333333333, \"#9c179e\"], [0.4444444444444444, \"#bd3786\"], [0.5555555555555556, \"#d8576b\"], [0.6666666666666666, \"#ed7953\"], [0.7777777777777778, \"#fb9f3a\"], [0.8888888888888888, \"#fdca26\"], [1.0, \"#f0f921\"]], \"type\": \"heatmapgl\"}], \"histogram\": [{\"marker\": {\"colorbar\": {\"outlinewidth\": 0, \"ticks\": \"\"}}, \"type\": \"histogram\"}], \"histogram2d\": [{\"colorbar\": {\"outlinewidth\": 0, \"ticks\": \"\"}, \"colorscale\": [[0.0, \"#0d0887\"], [0.1111111111111111, \"#46039f\"], [0.2222222222222222, \"#7201a8\"], [0.3333333333333333, \"#9c179e\"], [0.4444444444444444, \"#bd3786\"], [0.5555555555555556, \"#d8576b\"], [0.6666666666666666, \"#ed7953\"], [0.7777777777777778, \"#fb9f3a\"], [0.8888888888888888, \"#fdca26\"], [1.0, \"#f0f921\"]], \"type\": \"histogram2d\"}], \"histogram2dcontour\": [{\"colorbar\": {\"outlinewidth\": 0, \"ticks\": \"\"}, \"colorscale\": [[0.0, \"#0d0887\"], [0.1111111111111111, \"#46039f\"], [0.2222222222222222, \"#7201a8\"], [0.3333333333333333, \"#9c179e\"], [0.4444444444444444, \"#bd3786\"], [0.5555555555555556, \"#d8576b\"], [0.6666666666666666, \"#ed7953\"], [0.7777777777777778, \"#fb9f3a\"], [0.8888888888888888, \"#fdca26\"], [1.0, \"#f0f921\"]], \"type\": \"histogram2dcontour\"}], \"mesh3d\": [{\"colorbar\": {\"outlinewidth\": 0, \"ticks\": \"\"}, \"type\": \"mesh3d\"}], \"parcoords\": [{\"line\": {\"colorbar\": {\"outlinewidth\": 0, \"ticks\": \"\"}}, \"type\": \"parcoords\"}], \"pie\": [{\"automargin\": true, \"type\": \"pie\"}], \"scatter\": [{\"marker\": {\"colorbar\": {\"outlinewidth\": 0, \"ticks\": \"\"}}, \"type\": \"scatter\"}], \"scatter3d\": [{\"line\": {\"colorbar\": {\"outlinewidth\": 0, \"ticks\": \"\"}}, \"marker\": {\"colorbar\": {\"outlinewidth\": 0, \"ticks\": \"\"}}, \"type\": \"scatter3d\"}], \"scattercarpet\": [{\"marker\": {\"colorbar\": {\"outlinewidth\": 0, \"ticks\": \"\"}}, \"type\": \"scattercarpet\"}], \"scattergeo\": [{\"marker\": {\"colorbar\": {\"outlinewidth\": 0, \"ticks\": \"\"}}, \"type\": \"scattergeo\"}], \"scattergl\": [{\"marker\": {\"colorbar\": {\"outlinewidth\": 0, \"ticks\": \"\"}}, \"type\": \"scattergl\"}], \"scattermapbox\": [{\"marker\": {\"colorbar\": {\"outlinewidth\": 0, \"ticks\": \"\"}}, \"type\": \"scattermapbox\"}], \"scatterpolar\": [{\"marker\": {\"colorbar\": {\"outlinewidth\": 0, \"ticks\": \"\"}}, \"type\": \"scatterpolar\"}], \"scatterpolargl\": [{\"marker\": {\"colorbar\": {\"outlinewidth\": 0, \"ticks\": \"\"}}, \"type\": \"scatterpolargl\"}], \"scatterternary\": [{\"marker\": {\"colorbar\": {\"outlinewidth\": 0, \"ticks\": \"\"}}, \"type\": \"scatterternary\"}], \"surface\": [{\"colorbar\": {\"outlinewidth\": 0, \"ticks\": \"\"}, \"colorscale\": [[0.0, \"#0d0887\"], [0.1111111111111111, \"#46039f\"], [0.2222222222222222, \"#7201a8\"], [0.3333333333333333, \"#9c179e\"], [0.4444444444444444, \"#bd3786\"], [0.5555555555555556, \"#d8576b\"], [0.6666666666666666, \"#ed7953\"], [0.7777777777777778, \"#fb9f3a\"], [0.8888888888888888, \"#fdca26\"], [1.0, \"#f0f921\"]], \"type\": \"surface\"}], \"table\": [{\"cells\": {\"fill\": {\"color\": \"#EBF0F8\"}, \"line\": {\"color\": \"white\"}}, \"header\": {\"fill\": {\"color\": \"#C8D4E3\"}, \"line\": {\"color\": \"white\"}}, \"type\": \"table\"}]}, \"layout\": {\"annotationdefaults\": {\"arrowcolor\": \"#2a3f5f\", \"arrowhead\": 0, \"arrowwidth\": 1}, \"coloraxis\": {\"colorbar\": {\"outlinewidth\": 0, \"ticks\": \"\"}}, \"colorscale\": {\"diverging\": [[0, \"#8e0152\"], [0.1, \"#c51b7d\"], [0.2, \"#de77ae\"], [0.3, \"#f1b6da\"], [0.4, \"#fde0ef\"], [0.5, \"#f7f7f7\"], [0.6, \"#e6f5d0\"], [0.7, \"#b8e186\"], [0.8, \"#7fbc41\"], [0.9, \"#4d9221\"], [1, \"#276419\"]], \"sequential\": [[0.0, \"#0d0887\"], [0.1111111111111111, \"#46039f\"], [0.2222222222222222, \"#7201a8\"], [0.3333333333333333, \"#9c179e\"], [0.4444444444444444, \"#bd3786\"], [0.5555555555555556, \"#d8576b\"], [0.6666666666666666, \"#ed7953\"], [0.7777777777777778, \"#fb9f3a\"], [0.8888888888888888, \"#fdca26\"], [1.0, \"#f0f921\"]], \"sequentialminus\": [[0.0, \"#0d0887\"], [0.1111111111111111, \"#46039f\"], [0.2222222222222222, \"#7201a8\"], [0.3333333333333333, \"#9c179e\"], [0.4444444444444444, \"#bd3786\"], [0.5555555555555556, \"#d8576b\"], [0.6666666666666666, \"#ed7953\"], [0.7777777777777778, \"#fb9f3a\"], [0.8888888888888888, \"#fdca26\"], [1.0, \"#f0f921\"]]}, \"colorway\": [\"#636efa\", \"#EF553B\", \"#00cc96\", \"#ab63fa\", \"#FFA15A\", \"#19d3f3\", \"#FF6692\", \"#B6E880\", \"#FF97FF\", \"#FECB52\"], \"font\": {\"color\": \"#2a3f5f\"}, \"geo\": {\"bgcolor\": \"white\", \"lakecolor\": \"white\", \"landcolor\": \"#E5ECF6\", \"showlakes\": true, \"showland\": true, \"subunitcolor\": \"white\"}, \"hoverlabel\": {\"align\": \"left\"}, \"hovermode\": \"closest\", \"mapbox\": {\"style\": \"light\"}, \"paper_bgcolor\": \"white\", \"plot_bgcolor\": \"#E5ECF6\", \"polar\": {\"angularaxis\": {\"gridcolor\": \"white\", \"linecolor\": \"white\", \"ticks\": \"\"}, \"bgcolor\": \"#E5ECF6\", \"radialaxis\": {\"gridcolor\": \"white\", \"linecolor\": \"white\", \"ticks\": \"\"}}, \"scene\": {\"xaxis\": {\"backgroundcolor\": \"#E5ECF6\", \"gridcolor\": \"white\", \"gridwidth\": 2, \"linecolor\": \"white\", \"showbackground\": true, \"ticks\": \"\", \"zerolinecolor\": \"white\"}, \"yaxis\": {\"backgroundcolor\": \"#E5ECF6\", \"gridcolor\": \"white\", \"gridwidth\": 2, \"linecolor\": \"white\", \"showbackground\": true, \"ticks\": \"\", \"zerolinecolor\": \"white\"}, \"zaxis\": {\"backgroundcolor\": \"#E5ECF6\", \"gridcolor\": \"white\", \"gridwidth\": 2, \"linecolor\": \"white\", \"showbackground\": true, \"ticks\": \"\", \"zerolinecolor\": \"white\"}}, \"shapedefaults\": {\"line\": {\"color\": \"#2a3f5f\"}}, \"ternary\": {\"aaxis\": {\"gridcolor\": \"white\", \"linecolor\": \"white\", \"ticks\": \"\"}, \"baxis\": {\"gridcolor\": \"white\", \"linecolor\": \"white\", \"ticks\": \"\"}, \"bgcolor\": \"#E5ECF6\", \"caxis\": {\"gridcolor\": \"white\", \"linecolor\": \"white\", \"ticks\": \"\"}}, \"title\": {\"x\": 0.05}, \"xaxis\": {\"automargin\": true, \"gridcolor\": \"white\", \"linecolor\": \"white\", \"ticks\": \"\", \"title\": {\"standoff\": 15}, \"zerolinecolor\": \"white\", \"zerolinewidth\": 2}, \"yaxis\": {\"automargin\": true, \"gridcolor\": \"white\", \"linecolor\": \"white\", \"ticks\": \"\", \"title\": {\"standoff\": 15}, \"zerolinecolor\": \"white\", \"zerolinewidth\": 2}}}, \"title\": {\"text\": \"Ethereum Volume Traded\", \"x\": 0.5, \"xanchor\": \"center\", \"y\": 0.94, \"yanchor\": \"top\"}, \"xaxis\": {\"anchor\": \"y\", \"domain\": [0.0, 1.0], \"rangeslider\": {\"visible\": false}, \"title\": {\"text\": \"Time\"}}, \"yaxis\": {\"anchor\": \"x\", \"domain\": [0.0, 1.0], \"title\": {\"text\": \"Number of trades every minute\"}}},\n",
              "                        {\"responsive\": true}\n",
              "                    ).then(function(){\n",
              "                            \n",
              "var gd = document.getElementById('b1872921-9569-4cc1-84b6-ed77e881ba22');\n",
              "var x = new MutationObserver(function (mutations, observer) {{\n",
              "        var display = window.getComputedStyle(gd).display;\n",
              "        if (!display || display === 'none') {{\n",
              "            console.log([gd, 'removed!']);\n",
              "            Plotly.purge(gd);\n",
              "            observer.disconnect();\n",
              "        }}\n",
              "}});\n",
              "\n",
              "// Listen for the removal of the full notebook cells\n",
              "var notebookContainer = gd.closest('#notebook-container');\n",
              "if (notebookContainer) {{\n",
              "    x.observe(notebookContainer, {childList: true});\n",
              "}}\n",
              "\n",
              "// Listen for the clearing of the current output cell\n",
              "var outputEl = gd.closest('.output');\n",
              "if (outputEl) {{\n",
              "    x.observe(outputEl, {childList: true});\n",
              "}}\n",
              "\n",
              "                        })\n",
              "                };\n",
              "                \n",
              "            </script>\n",
              "        </div>\n",
              "</body>\n",
              "</html>"
            ]
          },
          "metadata": {}
        }
      ]
    },
    {
      "cell_type": "markdown",
      "metadata": {
        "id": "SxTO_2tY1t9F"
      },
      "source": [
        "- Ethereum Classic"
      ],
      "id": "SxTO_2tY1t9F"
    },
    {
      "cell_type": "code",
      "metadata": {
        "colab": {
          "base_uri": "https://localhost:8080/",
          "height": 542
        },
        "id": "578440ec",
        "outputId": "c6163172-742e-47e9-b8c5-911302772384"
      },
      "source": [
        "vol_traded(eth_classic[-60:], \"Ethereum Classic\", color=\"Blue\")"
      ],
      "id": "578440ec",
      "execution_count": 34,
      "outputs": [
        {
          "output_type": "display_data",
          "data": {
            "text/html": [
              "<html>\n",
              "<head><meta charset=\"utf-8\" /></head>\n",
              "<body>\n",
              "    <div>\n",
              "            <script src=\"https://cdnjs.cloudflare.com/ajax/libs/mathjax/2.7.5/MathJax.js?config=TeX-AMS-MML_SVG\"></script><script type=\"text/javascript\">if (window.MathJax) {MathJax.Hub.Config({SVG: {font: \"STIX-Web\"}});}</script>\n",
              "                <script type=\"text/javascript\">window.PlotlyConfig = {MathJaxConfig: 'local'};</script>\n",
              "        <script src=\"https://cdn.plot.ly/plotly-latest.min.js\"></script>    \n",
              "            <div id=\"f5efa1a4-ddee-48cd-a381-833daa58a6a0\" class=\"plotly-graph-div\" style=\"height:525px; width:100%;\"></div>\n",
              "            <script type=\"text/javascript\">\n",
              "                \n",
              "                    window.PLOTLYENV=window.PLOTLYENV || {};\n",
              "                    \n",
              "                if (document.getElementById(\"f5efa1a4-ddee-48cd-a381-833daa58a6a0\")) {\n",
              "                    Plotly.newPlot(\n",
              "                        'f5efa1a4-ddee-48cd-a381-833daa58a6a0',\n",
              "                        [{\"hoverlabel\": {\"namelength\": 0}, \"hovertemplate\": \"x=%{x}<br>volume=%{y}\", \"legendgroup\": \"\", \"line\": {\"color\": \"Blue\"}, \"mode\": \"lines\", \"name\": \"\", \"orientation\": \"v\", \"showlegend\": false, \"stackgroup\": \"1\", \"type\": \"scatter\", \"x\": [\"2021-09-20T22:45:00\", \"2021-09-20T22:46:00\", \"2021-09-20T22:47:00\", \"2021-09-20T22:48:00\", \"2021-09-20T22:49:00\", \"2021-09-20T22:50:00\", \"2021-09-20T22:51:00\", \"2021-09-20T22:52:00\", \"2021-09-20T22:53:00\", \"2021-09-20T22:54:00\", \"2021-09-20T22:55:00\", \"2021-09-20T22:56:00\", \"2021-09-20T22:57:00\", \"2021-09-20T22:58:00\", \"2021-09-20T22:59:00\", \"2021-09-20T23:00:00\", \"2021-09-20T23:01:00\", \"2021-09-20T23:02:00\", \"2021-09-20T23:03:00\", \"2021-09-20T23:04:00\", \"2021-09-20T23:05:00\", \"2021-09-20T23:06:00\", \"2021-09-20T23:07:00\", \"2021-09-20T23:08:00\", \"2021-09-20T23:09:00\", \"2021-09-20T23:10:00\", \"2021-09-20T23:11:00\", \"2021-09-20T23:12:00\", \"2021-09-20T23:13:00\", \"2021-09-20T23:14:00\", \"2021-09-20T23:15:00\", \"2021-09-20T23:16:00\", \"2021-09-20T23:17:00\", \"2021-09-20T23:18:00\", \"2021-09-20T23:19:00\", \"2021-09-20T23:20:00\", \"2021-09-20T23:21:00\", \"2021-09-20T23:22:00\", \"2021-09-20T23:23:00\", \"2021-09-20T23:24:00\", \"2021-09-20T23:25:00\", \"2021-09-20T23:26:00\", \"2021-09-20T23:27:00\", \"2021-09-20T23:28:00\", \"2021-09-20T23:29:00\", \"2021-09-20T23:30:00\", \"2021-09-20T23:31:00\", \"2021-09-20T23:32:00\", \"2021-09-20T23:33:00\", \"2021-09-20T23:34:00\", \"2021-09-20T23:35:00\", \"2021-09-20T23:36:00\", \"2021-09-20T23:37:00\", \"2021-09-20T23:38:00\", \"2021-09-20T23:39:00\", \"2021-09-20T23:40:00\", \"2021-09-20T23:41:00\", \"2021-09-20T23:42:00\", \"2021-09-20T23:43:00\", \"2021-09-20T23:44:00\"], \"xaxis\": \"x\", \"y\": [1529.99281692, 814.8776403699999, 719.4049761410463, 1539.0505230004528, 1881.2674877834106, 3352.68818778, 4459.541054495822, 3051.2442319205047, 4496.079527118418, 6034.97157194914, 4143.039667519318, 2840.61735407, 4035.348498089999, 2728.114616090345, 1248.23416927, 4755.603808543745, 4632.12857178, 5884.770735427039, 4318.218696502474, 3030.5282960400004, 2848.166789864088, 2405.1854415600005, 2441.7803834500005, 2138.67818321, 1966.1487718842857, 756.3994910253517, 2195.7787001697798, 4242.894186178707, 1621.4426391773648, 3760.5868411975157, 5864.660556619026, 2993.441328613497, 2996.80114267, 2692.3656152072463, 1476.681261612868, 2757.96041369, 3365.4135031347137, 3686.283664049778, 3782.8796882203546, 1850.81843377, 3818.86090311, 4817.154807655839, 5568.0117094000025, 4763.671445249999, 4174.778469793173, 2756.484799360001, 1284.48557964, 1852.4561053599994, 1982.03500446, 2525.705581095233, 2421.825102720001, 1262.83117846309, 878.0591743123662, 1626.391066975125, 1755.2116341830088, 1096.56642389, 2220.63270495, 1800.6824612399994, 1585.4831476, 1297.459671962], \"yaxis\": \"y\"}],\n",
              "                        {\"legend\": {\"tracegroupgap\": 0}, \"margin\": {\"t\": 60}, \"showlegend\": true, \"template\": {\"data\": {\"bar\": [{\"error_x\": {\"color\": \"#2a3f5f\"}, \"error_y\": {\"color\": \"#2a3f5f\"}, \"marker\": {\"line\": {\"color\": \"#E5ECF6\", \"width\": 0.5}}, \"type\": \"bar\"}], \"barpolar\": [{\"marker\": {\"line\": {\"color\": \"#E5ECF6\", \"width\": 0.5}}, \"type\": \"barpolar\"}], \"carpet\": [{\"aaxis\": {\"endlinecolor\": \"#2a3f5f\", \"gridcolor\": \"white\", \"linecolor\": \"white\", \"minorgridcolor\": \"white\", \"startlinecolor\": \"#2a3f5f\"}, \"baxis\": {\"endlinecolor\": \"#2a3f5f\", \"gridcolor\": \"white\", \"linecolor\": \"white\", \"minorgridcolor\": \"white\", \"startlinecolor\": \"#2a3f5f\"}, \"type\": \"carpet\"}], \"choropleth\": [{\"colorbar\": {\"outlinewidth\": 0, \"ticks\": \"\"}, \"type\": \"choropleth\"}], \"contour\": [{\"colorbar\": {\"outlinewidth\": 0, \"ticks\": \"\"}, \"colorscale\": [[0.0, \"#0d0887\"], [0.1111111111111111, \"#46039f\"], [0.2222222222222222, \"#7201a8\"], [0.3333333333333333, \"#9c179e\"], [0.4444444444444444, \"#bd3786\"], [0.5555555555555556, \"#d8576b\"], [0.6666666666666666, \"#ed7953\"], [0.7777777777777778, \"#fb9f3a\"], [0.8888888888888888, \"#fdca26\"], [1.0, \"#f0f921\"]], \"type\": \"contour\"}], \"contourcarpet\": [{\"colorbar\": {\"outlinewidth\": 0, \"ticks\": \"\"}, \"type\": \"contourcarpet\"}], \"heatmap\": [{\"colorbar\": {\"outlinewidth\": 0, \"ticks\": \"\"}, \"colorscale\": [[0.0, \"#0d0887\"], [0.1111111111111111, \"#46039f\"], [0.2222222222222222, \"#7201a8\"], [0.3333333333333333, \"#9c179e\"], [0.4444444444444444, \"#bd3786\"], [0.5555555555555556, \"#d8576b\"], [0.6666666666666666, \"#ed7953\"], [0.7777777777777778, \"#fb9f3a\"], [0.8888888888888888, \"#fdca26\"], [1.0, \"#f0f921\"]], \"type\": \"heatmap\"}], \"heatmapgl\": [{\"colorbar\": {\"outlinewidth\": 0, \"ticks\": \"\"}, \"colorscale\": [[0.0, \"#0d0887\"], [0.1111111111111111, \"#46039f\"], [0.2222222222222222, \"#7201a8\"], [0.3333333333333333, \"#9c179e\"], [0.4444444444444444, \"#bd3786\"], [0.5555555555555556, \"#d8576b\"], [0.6666666666666666, \"#ed7953\"], [0.7777777777777778, \"#fb9f3a\"], [0.8888888888888888, \"#fdca26\"], [1.0, \"#f0f921\"]], \"type\": \"heatmapgl\"}], \"histogram\": [{\"marker\": {\"colorbar\": {\"outlinewidth\": 0, \"ticks\": \"\"}}, \"type\": \"histogram\"}], \"histogram2d\": [{\"colorbar\": {\"outlinewidth\": 0, \"ticks\": \"\"}, \"colorscale\": [[0.0, \"#0d0887\"], [0.1111111111111111, \"#46039f\"], [0.2222222222222222, \"#7201a8\"], [0.3333333333333333, \"#9c179e\"], [0.4444444444444444, \"#bd3786\"], [0.5555555555555556, \"#d8576b\"], [0.6666666666666666, \"#ed7953\"], [0.7777777777777778, \"#fb9f3a\"], [0.8888888888888888, \"#fdca26\"], [1.0, \"#f0f921\"]], \"type\": \"histogram2d\"}], \"histogram2dcontour\": [{\"colorbar\": {\"outlinewidth\": 0, \"ticks\": \"\"}, \"colorscale\": [[0.0, \"#0d0887\"], [0.1111111111111111, \"#46039f\"], [0.2222222222222222, \"#7201a8\"], [0.3333333333333333, \"#9c179e\"], [0.4444444444444444, \"#bd3786\"], [0.5555555555555556, \"#d8576b\"], [0.6666666666666666, \"#ed7953\"], [0.7777777777777778, \"#fb9f3a\"], [0.8888888888888888, \"#fdca26\"], [1.0, \"#f0f921\"]], \"type\": \"histogram2dcontour\"}], \"mesh3d\": [{\"colorbar\": {\"outlinewidth\": 0, \"ticks\": \"\"}, \"type\": \"mesh3d\"}], \"parcoords\": [{\"line\": {\"colorbar\": {\"outlinewidth\": 0, \"ticks\": \"\"}}, \"type\": \"parcoords\"}], \"pie\": [{\"automargin\": true, \"type\": \"pie\"}], \"scatter\": [{\"marker\": {\"colorbar\": {\"outlinewidth\": 0, \"ticks\": \"\"}}, \"type\": \"scatter\"}], \"scatter3d\": [{\"line\": {\"colorbar\": {\"outlinewidth\": 0, \"ticks\": \"\"}}, \"marker\": {\"colorbar\": {\"outlinewidth\": 0, \"ticks\": \"\"}}, \"type\": \"scatter3d\"}], \"scattercarpet\": [{\"marker\": {\"colorbar\": {\"outlinewidth\": 0, \"ticks\": \"\"}}, \"type\": \"scattercarpet\"}], \"scattergeo\": [{\"marker\": {\"colorbar\": {\"outlinewidth\": 0, \"ticks\": \"\"}}, \"type\": \"scattergeo\"}], \"scattergl\": [{\"marker\": {\"colorbar\": {\"outlinewidth\": 0, \"ticks\": \"\"}}, \"type\": \"scattergl\"}], \"scattermapbox\": [{\"marker\": {\"colorbar\": {\"outlinewidth\": 0, \"ticks\": \"\"}}, \"type\": \"scattermapbox\"}], \"scatterpolar\": [{\"marker\": {\"colorbar\": {\"outlinewidth\": 0, \"ticks\": \"\"}}, \"type\": \"scatterpolar\"}], \"scatterpolargl\": [{\"marker\": {\"colorbar\": {\"outlinewidth\": 0, \"ticks\": \"\"}}, \"type\": \"scatterpolargl\"}], \"scatterternary\": [{\"marker\": {\"colorbar\": {\"outlinewidth\": 0, \"ticks\": \"\"}}, \"type\": \"scatterternary\"}], \"surface\": [{\"colorbar\": {\"outlinewidth\": 0, \"ticks\": \"\"}, \"colorscale\": [[0.0, \"#0d0887\"], [0.1111111111111111, \"#46039f\"], [0.2222222222222222, \"#7201a8\"], [0.3333333333333333, \"#9c179e\"], [0.4444444444444444, \"#bd3786\"], [0.5555555555555556, \"#d8576b\"], [0.6666666666666666, \"#ed7953\"], [0.7777777777777778, \"#fb9f3a\"], [0.8888888888888888, \"#fdca26\"], [1.0, \"#f0f921\"]], \"type\": \"surface\"}], \"table\": [{\"cells\": {\"fill\": {\"color\": \"#EBF0F8\"}, \"line\": {\"color\": \"white\"}}, \"header\": {\"fill\": {\"color\": \"#C8D4E3\"}, \"line\": {\"color\": \"white\"}}, \"type\": \"table\"}]}, \"layout\": {\"annotationdefaults\": {\"arrowcolor\": \"#2a3f5f\", \"arrowhead\": 0, \"arrowwidth\": 1}, \"coloraxis\": {\"colorbar\": {\"outlinewidth\": 0, \"ticks\": \"\"}}, \"colorscale\": {\"diverging\": [[0, \"#8e0152\"], [0.1, \"#c51b7d\"], [0.2, \"#de77ae\"], [0.3, \"#f1b6da\"], [0.4, \"#fde0ef\"], [0.5, \"#f7f7f7\"], [0.6, \"#e6f5d0\"], [0.7, \"#b8e186\"], [0.8, \"#7fbc41\"], [0.9, \"#4d9221\"], [1, \"#276419\"]], \"sequential\": [[0.0, \"#0d0887\"], [0.1111111111111111, \"#46039f\"], [0.2222222222222222, \"#7201a8\"], [0.3333333333333333, \"#9c179e\"], [0.4444444444444444, \"#bd3786\"], [0.5555555555555556, \"#d8576b\"], [0.6666666666666666, \"#ed7953\"], [0.7777777777777778, \"#fb9f3a\"], [0.8888888888888888, \"#fdca26\"], [1.0, \"#f0f921\"]], \"sequentialminus\": [[0.0, \"#0d0887\"], [0.1111111111111111, \"#46039f\"], [0.2222222222222222, \"#7201a8\"], [0.3333333333333333, \"#9c179e\"], [0.4444444444444444, \"#bd3786\"], [0.5555555555555556, \"#d8576b\"], [0.6666666666666666, \"#ed7953\"], [0.7777777777777778, \"#fb9f3a\"], [0.8888888888888888, \"#fdca26\"], [1.0, \"#f0f921\"]]}, \"colorway\": [\"#636efa\", \"#EF553B\", \"#00cc96\", \"#ab63fa\", \"#FFA15A\", \"#19d3f3\", \"#FF6692\", \"#B6E880\", \"#FF97FF\", \"#FECB52\"], \"font\": {\"color\": \"#2a3f5f\"}, \"geo\": {\"bgcolor\": \"white\", \"lakecolor\": \"white\", \"landcolor\": \"#E5ECF6\", \"showlakes\": true, \"showland\": true, \"subunitcolor\": \"white\"}, \"hoverlabel\": {\"align\": \"left\"}, \"hovermode\": \"closest\", \"mapbox\": {\"style\": \"light\"}, \"paper_bgcolor\": \"white\", \"plot_bgcolor\": \"#E5ECF6\", \"polar\": {\"angularaxis\": {\"gridcolor\": \"white\", \"linecolor\": \"white\", \"ticks\": \"\"}, \"bgcolor\": \"#E5ECF6\", \"radialaxis\": {\"gridcolor\": \"white\", \"linecolor\": \"white\", \"ticks\": \"\"}}, \"scene\": {\"xaxis\": {\"backgroundcolor\": \"#E5ECF6\", \"gridcolor\": \"white\", \"gridwidth\": 2, \"linecolor\": \"white\", \"showbackground\": true, \"ticks\": \"\", \"zerolinecolor\": \"white\"}, \"yaxis\": {\"backgroundcolor\": \"#E5ECF6\", \"gridcolor\": \"white\", \"gridwidth\": 2, \"linecolor\": \"white\", \"showbackground\": true, \"ticks\": \"\", \"zerolinecolor\": \"white\"}, \"zaxis\": {\"backgroundcolor\": \"#E5ECF6\", \"gridcolor\": \"white\", \"gridwidth\": 2, \"linecolor\": \"white\", \"showbackground\": true, \"ticks\": \"\", \"zerolinecolor\": \"white\"}}, \"shapedefaults\": {\"line\": {\"color\": \"#2a3f5f\"}}, \"ternary\": {\"aaxis\": {\"gridcolor\": \"white\", \"linecolor\": \"white\", \"ticks\": \"\"}, \"baxis\": {\"gridcolor\": \"white\", \"linecolor\": \"white\", \"ticks\": \"\"}, \"bgcolor\": \"#E5ECF6\", \"caxis\": {\"gridcolor\": \"white\", \"linecolor\": \"white\", \"ticks\": \"\"}}, \"title\": {\"x\": 0.05}, \"xaxis\": {\"automargin\": true, \"gridcolor\": \"white\", \"linecolor\": \"white\", \"ticks\": \"\", \"title\": {\"standoff\": 15}, \"zerolinecolor\": \"white\", \"zerolinewidth\": 2}, \"yaxis\": {\"automargin\": true, \"gridcolor\": \"white\", \"linecolor\": \"white\", \"ticks\": \"\", \"title\": {\"standoff\": 15}, \"zerolinecolor\": \"white\", \"zerolinewidth\": 2}}}, \"title\": {\"text\": \"Ethereum Classic Volume Traded\", \"x\": 0.5, \"xanchor\": \"center\", \"y\": 0.94, \"yanchor\": \"top\"}, \"xaxis\": {\"anchor\": \"y\", \"domain\": [0.0, 1.0], \"rangeslider\": {\"visible\": false}, \"title\": {\"text\": \"Time\"}}, \"yaxis\": {\"anchor\": \"x\", \"domain\": [0.0, 1.0], \"title\": {\"text\": \"Number of trades every minute\"}}},\n",
              "                        {\"responsive\": true}\n",
              "                    ).then(function(){\n",
              "                            \n",
              "var gd = document.getElementById('f5efa1a4-ddee-48cd-a381-833daa58a6a0');\n",
              "var x = new MutationObserver(function (mutations, observer) {{\n",
              "        var display = window.getComputedStyle(gd).display;\n",
              "        if (!display || display === 'none') {{\n",
              "            console.log([gd, 'removed!']);\n",
              "            Plotly.purge(gd);\n",
              "            observer.disconnect();\n",
              "        }}\n",
              "}});\n",
              "\n",
              "// Listen for the removal of the full notebook cells\n",
              "var notebookContainer = gd.closest('#notebook-container');\n",
              "if (notebookContainer) {{\n",
              "    x.observe(notebookContainer, {childList: true});\n",
              "}}\n",
              "\n",
              "// Listen for the clearing of the current output cell\n",
              "var outputEl = gd.closest('.output');\n",
              "if (outputEl) {{\n",
              "    x.observe(outputEl, {childList: true});\n",
              "}}\n",
              "\n",
              "                        })\n",
              "                };\n",
              "                \n",
              "            </script>\n",
              "        </div>\n",
              "</body>\n",
              "</html>"
            ]
          },
          "metadata": {}
        }
      ]
    },
    {
      "cell_type": "markdown",
      "metadata": {
        "id": "WzqU68uN1ylt"
      },
      "source": [
        "- IOTA"
      ],
      "id": "WzqU68uN1ylt"
    },
    {
      "cell_type": "code",
      "metadata": {
        "colab": {
          "base_uri": "https://localhost:8080/",
          "height": 542
        },
        "id": "c1982f1c",
        "outputId": "c4688697-97f9-456e-e384-fa9096ad1104"
      },
      "source": [
        "vol_traded(iota[-60:], \"IOTA\", color=\"Green\")"
      ],
      "id": "c1982f1c",
      "execution_count": 35,
      "outputs": [
        {
          "output_type": "display_data",
          "data": {
            "text/html": [
              "<html>\n",
              "<head><meta charset=\"utf-8\" /></head>\n",
              "<body>\n",
              "    <div>\n",
              "            <script src=\"https://cdnjs.cloudflare.com/ajax/libs/mathjax/2.7.5/MathJax.js?config=TeX-AMS-MML_SVG\"></script><script type=\"text/javascript\">if (window.MathJax) {MathJax.Hub.Config({SVG: {font: \"STIX-Web\"}});}</script>\n",
              "                <script type=\"text/javascript\">window.PlotlyConfig = {MathJaxConfig: 'local'};</script>\n",
              "        <script src=\"https://cdn.plot.ly/plotly-latest.min.js\"></script>    \n",
              "            <div id=\"ca203599-4cff-491b-b396-484e795d355c\" class=\"plotly-graph-div\" style=\"height:525px; width:100%;\"></div>\n",
              "            <script type=\"text/javascript\">\n",
              "                \n",
              "                    window.PLOTLYENV=window.PLOTLYENV || {};\n",
              "                    \n",
              "                if (document.getElementById(\"ca203599-4cff-491b-b396-484e795d355c\")) {\n",
              "                    Plotly.newPlot(\n",
              "                        'ca203599-4cff-491b-b396-484e795d355c',\n",
              "                        [{\"hoverlabel\": {\"namelength\": 0}, \"hovertemplate\": \"x=%{x}<br>volume=%{y}\", \"legendgroup\": \"\", \"line\": {\"color\": \"Green\"}, \"mode\": \"lines\", \"name\": \"\", \"orientation\": \"v\", \"showlegend\": false, \"stackgroup\": \"1\", \"type\": \"scatter\", \"x\": [\"2021-09-20T22:45:00\", \"2021-09-20T22:46:00\", \"2021-09-20T22:47:00\", \"2021-09-20T22:48:00\", \"2021-09-20T22:49:00\", \"2021-09-20T22:50:00\", \"2021-09-20T22:51:00\", \"2021-09-20T22:52:00\", \"2021-09-20T22:53:00\", \"2021-09-20T22:54:00\", \"2021-09-20T22:55:00\", \"2021-09-20T22:56:00\", \"2021-09-20T22:57:00\", \"2021-09-20T22:58:00\", \"2021-09-20T22:59:00\", \"2021-09-20T23:00:00\", \"2021-09-20T23:01:00\", \"2021-09-20T23:02:00\", \"2021-09-20T23:03:00\", \"2021-09-20T23:04:00\", \"2021-09-20T23:05:00\", \"2021-09-20T23:06:00\", \"2021-09-20T23:07:00\", \"2021-09-20T23:08:00\", \"2021-09-20T23:09:00\", \"2021-09-20T23:10:00\", \"2021-09-20T23:11:00\", \"2021-09-20T23:12:00\", \"2021-09-20T23:13:00\", \"2021-09-20T23:14:00\", \"2021-09-20T23:15:00\", \"2021-09-20T23:16:00\", \"2021-09-20T23:17:00\", \"2021-09-20T23:18:00\", \"2021-09-20T23:19:00\", \"2021-09-20T23:20:00\", \"2021-09-20T23:21:00\", \"2021-09-20T23:22:00\", \"2021-09-20T23:23:00\", \"2021-09-20T23:24:00\", \"2021-09-20T23:25:00\", \"2021-09-20T23:26:00\", \"2021-09-20T23:27:00\", \"2021-09-20T23:28:00\", \"2021-09-20T23:29:00\", \"2021-09-20T23:30:00\", \"2021-09-20T23:31:00\", \"2021-09-20T23:32:00\", \"2021-09-20T23:33:00\", \"2021-09-20T23:34:00\", \"2021-09-20T23:35:00\", \"2021-09-20T23:36:00\", \"2021-09-20T23:37:00\", \"2021-09-20T23:38:00\", \"2021-09-20T23:39:00\", \"2021-09-20T23:40:00\", \"2021-09-20T23:41:00\", \"2021-09-20T23:42:00\", \"2021-09-20T23:43:00\", \"2021-09-20T23:44:00\"], \"xaxis\": \"x\", \"y\": [11941.2481, 3912.283594409938, 32384.465654023883, 8475.190999999999, 10474.5148, 27889.39278757459, 30408.9498, 13182.952857440967, 17211.1282, 46185.95342902918, 32416.031930839672, 22700.981876915826, 3019.799600000001, 11210.2161, 13307.449758871535, 14411.6041, 15834.0331, 14960.308219448127, 22418.256580551875, 6028.7602, 41003.2221, 9068.1796, 18962.5119, 12532.2845, 20042.7755, 20758.60259804277, 17716.849, 25284.0349, 27999.572340602266, 20245.07971379719, 18974.3324, 8795.1454, 11521.8651, 23536.8523, 7677.4756, 11264.7246, 54357.1437, 28681.94878841477, 14807.400652913579, 18411.4682, 22055.9745, 26296.953453802158, 15701.622806885825, 49400.55333317384, 38479.1533, 14571.1779, 26302.4525, 28468.5041, 2887.500997452229, 94348.14044690828, 11192.6844, 12443.769913932869, 27702.682654736425, 6467.2227, 11688.4228, 22081.0736, 7958.6226, 4137.4259, 7644.0145, 3223.9737], \"yaxis\": \"y\"}],\n",
              "                        {\"legend\": {\"tracegroupgap\": 0}, \"margin\": {\"t\": 60}, \"showlegend\": true, \"template\": {\"data\": {\"bar\": [{\"error_x\": {\"color\": \"#2a3f5f\"}, \"error_y\": {\"color\": \"#2a3f5f\"}, \"marker\": {\"line\": {\"color\": \"#E5ECF6\", \"width\": 0.5}}, \"type\": \"bar\"}], \"barpolar\": [{\"marker\": {\"line\": {\"color\": \"#E5ECF6\", \"width\": 0.5}}, \"type\": \"barpolar\"}], \"carpet\": [{\"aaxis\": {\"endlinecolor\": \"#2a3f5f\", \"gridcolor\": \"white\", \"linecolor\": \"white\", \"minorgridcolor\": \"white\", \"startlinecolor\": \"#2a3f5f\"}, \"baxis\": {\"endlinecolor\": \"#2a3f5f\", \"gridcolor\": \"white\", \"linecolor\": \"white\", \"minorgridcolor\": \"white\", \"startlinecolor\": \"#2a3f5f\"}, \"type\": \"carpet\"}], \"choropleth\": [{\"colorbar\": {\"outlinewidth\": 0, \"ticks\": \"\"}, \"type\": \"choropleth\"}], \"contour\": [{\"colorbar\": {\"outlinewidth\": 0, \"ticks\": \"\"}, \"colorscale\": [[0.0, \"#0d0887\"], [0.1111111111111111, \"#46039f\"], [0.2222222222222222, \"#7201a8\"], [0.3333333333333333, \"#9c179e\"], [0.4444444444444444, \"#bd3786\"], [0.5555555555555556, \"#d8576b\"], [0.6666666666666666, \"#ed7953\"], [0.7777777777777778, \"#fb9f3a\"], [0.8888888888888888, \"#fdca26\"], [1.0, \"#f0f921\"]], \"type\": \"contour\"}], \"contourcarpet\": [{\"colorbar\": {\"outlinewidth\": 0, \"ticks\": \"\"}, \"type\": \"contourcarpet\"}], \"heatmap\": [{\"colorbar\": {\"outlinewidth\": 0, \"ticks\": \"\"}, \"colorscale\": [[0.0, \"#0d0887\"], [0.1111111111111111, \"#46039f\"], [0.2222222222222222, \"#7201a8\"], [0.3333333333333333, \"#9c179e\"], [0.4444444444444444, \"#bd3786\"], [0.5555555555555556, \"#d8576b\"], [0.6666666666666666, \"#ed7953\"], [0.7777777777777778, \"#fb9f3a\"], [0.8888888888888888, \"#fdca26\"], [1.0, \"#f0f921\"]], \"type\": \"heatmap\"}], \"heatmapgl\": [{\"colorbar\": {\"outlinewidth\": 0, \"ticks\": \"\"}, \"colorscale\": [[0.0, \"#0d0887\"], [0.1111111111111111, \"#46039f\"], [0.2222222222222222, \"#7201a8\"], [0.3333333333333333, \"#9c179e\"], [0.4444444444444444, \"#bd3786\"], [0.5555555555555556, \"#d8576b\"], [0.6666666666666666, \"#ed7953\"], [0.7777777777777778, \"#fb9f3a\"], [0.8888888888888888, \"#fdca26\"], [1.0, \"#f0f921\"]], \"type\": \"heatmapgl\"}], \"histogram\": [{\"marker\": {\"colorbar\": {\"outlinewidth\": 0, \"ticks\": \"\"}}, \"type\": \"histogram\"}], \"histogram2d\": [{\"colorbar\": {\"outlinewidth\": 0, \"ticks\": \"\"}, \"colorscale\": [[0.0, \"#0d0887\"], [0.1111111111111111, \"#46039f\"], [0.2222222222222222, \"#7201a8\"], [0.3333333333333333, \"#9c179e\"], [0.4444444444444444, \"#bd3786\"], [0.5555555555555556, \"#d8576b\"], [0.6666666666666666, \"#ed7953\"], [0.7777777777777778, \"#fb9f3a\"], [0.8888888888888888, \"#fdca26\"], [1.0, \"#f0f921\"]], \"type\": \"histogram2d\"}], \"histogram2dcontour\": [{\"colorbar\": {\"outlinewidth\": 0, \"ticks\": \"\"}, \"colorscale\": [[0.0, \"#0d0887\"], [0.1111111111111111, \"#46039f\"], [0.2222222222222222, \"#7201a8\"], [0.3333333333333333, \"#9c179e\"], [0.4444444444444444, \"#bd3786\"], [0.5555555555555556, \"#d8576b\"], [0.6666666666666666, \"#ed7953\"], [0.7777777777777778, \"#fb9f3a\"], [0.8888888888888888, \"#fdca26\"], [1.0, \"#f0f921\"]], \"type\": \"histogram2dcontour\"}], \"mesh3d\": [{\"colorbar\": {\"outlinewidth\": 0, \"ticks\": \"\"}, \"type\": \"mesh3d\"}], \"parcoords\": [{\"line\": {\"colorbar\": {\"outlinewidth\": 0, \"ticks\": \"\"}}, \"type\": \"parcoords\"}], \"pie\": [{\"automargin\": true, \"type\": \"pie\"}], \"scatter\": [{\"marker\": {\"colorbar\": {\"outlinewidth\": 0, \"ticks\": \"\"}}, \"type\": \"scatter\"}], \"scatter3d\": [{\"line\": {\"colorbar\": {\"outlinewidth\": 0, \"ticks\": \"\"}}, \"marker\": {\"colorbar\": {\"outlinewidth\": 0, \"ticks\": \"\"}}, \"type\": \"scatter3d\"}], \"scattercarpet\": [{\"marker\": {\"colorbar\": {\"outlinewidth\": 0, \"ticks\": \"\"}}, \"type\": \"scattercarpet\"}], \"scattergeo\": [{\"marker\": {\"colorbar\": {\"outlinewidth\": 0, \"ticks\": \"\"}}, \"type\": \"scattergeo\"}], \"scattergl\": [{\"marker\": {\"colorbar\": {\"outlinewidth\": 0, \"ticks\": \"\"}}, \"type\": \"scattergl\"}], \"scattermapbox\": [{\"marker\": {\"colorbar\": {\"outlinewidth\": 0, \"ticks\": \"\"}}, \"type\": \"scattermapbox\"}], \"scatterpolar\": [{\"marker\": {\"colorbar\": {\"outlinewidth\": 0, \"ticks\": \"\"}}, \"type\": \"scatterpolar\"}], \"scatterpolargl\": [{\"marker\": {\"colorbar\": {\"outlinewidth\": 0, \"ticks\": \"\"}}, \"type\": \"scatterpolargl\"}], \"scatterternary\": [{\"marker\": {\"colorbar\": {\"outlinewidth\": 0, \"ticks\": \"\"}}, \"type\": \"scatterternary\"}], \"surface\": [{\"colorbar\": {\"outlinewidth\": 0, \"ticks\": \"\"}, \"colorscale\": [[0.0, \"#0d0887\"], [0.1111111111111111, \"#46039f\"], [0.2222222222222222, \"#7201a8\"], [0.3333333333333333, \"#9c179e\"], [0.4444444444444444, \"#bd3786\"], [0.5555555555555556, \"#d8576b\"], [0.6666666666666666, \"#ed7953\"], [0.7777777777777778, \"#fb9f3a\"], [0.8888888888888888, \"#fdca26\"], [1.0, \"#f0f921\"]], \"type\": \"surface\"}], \"table\": [{\"cells\": {\"fill\": {\"color\": \"#EBF0F8\"}, \"line\": {\"color\": \"white\"}}, \"header\": {\"fill\": {\"color\": \"#C8D4E3\"}, \"line\": {\"color\": \"white\"}}, \"type\": \"table\"}]}, \"layout\": {\"annotationdefaults\": {\"arrowcolor\": \"#2a3f5f\", \"arrowhead\": 0, \"arrowwidth\": 1}, \"coloraxis\": {\"colorbar\": {\"outlinewidth\": 0, \"ticks\": \"\"}}, \"colorscale\": {\"diverging\": [[0, \"#8e0152\"], [0.1, \"#c51b7d\"], [0.2, \"#de77ae\"], [0.3, \"#f1b6da\"], [0.4, \"#fde0ef\"], [0.5, \"#f7f7f7\"], [0.6, \"#e6f5d0\"], [0.7, \"#b8e186\"], [0.8, \"#7fbc41\"], [0.9, \"#4d9221\"], [1, \"#276419\"]], \"sequential\": [[0.0, \"#0d0887\"], [0.1111111111111111, \"#46039f\"], [0.2222222222222222, \"#7201a8\"], [0.3333333333333333, \"#9c179e\"], [0.4444444444444444, \"#bd3786\"], [0.5555555555555556, \"#d8576b\"], [0.6666666666666666, \"#ed7953\"], [0.7777777777777778, \"#fb9f3a\"], [0.8888888888888888, \"#fdca26\"], [1.0, \"#f0f921\"]], \"sequentialminus\": [[0.0, \"#0d0887\"], [0.1111111111111111, \"#46039f\"], [0.2222222222222222, \"#7201a8\"], [0.3333333333333333, \"#9c179e\"], [0.4444444444444444, \"#bd3786\"], [0.5555555555555556, \"#d8576b\"], [0.6666666666666666, \"#ed7953\"], [0.7777777777777778, \"#fb9f3a\"], [0.8888888888888888, \"#fdca26\"], [1.0, \"#f0f921\"]]}, \"colorway\": [\"#636efa\", \"#EF553B\", \"#00cc96\", \"#ab63fa\", \"#FFA15A\", \"#19d3f3\", \"#FF6692\", \"#B6E880\", \"#FF97FF\", \"#FECB52\"], \"font\": {\"color\": \"#2a3f5f\"}, \"geo\": {\"bgcolor\": \"white\", \"lakecolor\": \"white\", \"landcolor\": \"#E5ECF6\", \"showlakes\": true, \"showland\": true, \"subunitcolor\": \"white\"}, \"hoverlabel\": {\"align\": \"left\"}, \"hovermode\": \"closest\", \"mapbox\": {\"style\": \"light\"}, \"paper_bgcolor\": \"white\", \"plot_bgcolor\": \"#E5ECF6\", \"polar\": {\"angularaxis\": {\"gridcolor\": \"white\", \"linecolor\": \"white\", \"ticks\": \"\"}, \"bgcolor\": \"#E5ECF6\", \"radialaxis\": {\"gridcolor\": \"white\", \"linecolor\": \"white\", \"ticks\": \"\"}}, \"scene\": {\"xaxis\": {\"backgroundcolor\": \"#E5ECF6\", \"gridcolor\": \"white\", \"gridwidth\": 2, \"linecolor\": \"white\", \"showbackground\": true, \"ticks\": \"\", \"zerolinecolor\": \"white\"}, \"yaxis\": {\"backgroundcolor\": \"#E5ECF6\", \"gridcolor\": \"white\", \"gridwidth\": 2, \"linecolor\": \"white\", \"showbackground\": true, \"ticks\": \"\", \"zerolinecolor\": \"white\"}, \"zaxis\": {\"backgroundcolor\": \"#E5ECF6\", \"gridcolor\": \"white\", \"gridwidth\": 2, \"linecolor\": \"white\", \"showbackground\": true, \"ticks\": \"\", \"zerolinecolor\": \"white\"}}, \"shapedefaults\": {\"line\": {\"color\": \"#2a3f5f\"}}, \"ternary\": {\"aaxis\": {\"gridcolor\": \"white\", \"linecolor\": \"white\", \"ticks\": \"\"}, \"baxis\": {\"gridcolor\": \"white\", \"linecolor\": \"white\", \"ticks\": \"\"}, \"bgcolor\": \"#E5ECF6\", \"caxis\": {\"gridcolor\": \"white\", \"linecolor\": \"white\", \"ticks\": \"\"}}, \"title\": {\"x\": 0.05}, \"xaxis\": {\"automargin\": true, \"gridcolor\": \"white\", \"linecolor\": \"white\", \"ticks\": \"\", \"title\": {\"standoff\": 15}, \"zerolinecolor\": \"white\", \"zerolinewidth\": 2}, \"yaxis\": {\"automargin\": true, \"gridcolor\": \"white\", \"linecolor\": \"white\", \"ticks\": \"\", \"title\": {\"standoff\": 15}, \"zerolinecolor\": \"white\", \"zerolinewidth\": 2}}}, \"title\": {\"text\": \"IOTA Volume Traded\", \"x\": 0.5, \"xanchor\": \"center\", \"y\": 0.94, \"yanchor\": \"top\"}, \"xaxis\": {\"anchor\": \"y\", \"domain\": [0.0, 1.0], \"rangeslider\": {\"visible\": false}, \"title\": {\"text\": \"Time\"}}, \"yaxis\": {\"anchor\": \"x\", \"domain\": [0.0, 1.0], \"title\": {\"text\": \"Number of trades every minute\"}}},\n",
              "                        {\"responsive\": true}\n",
              "                    ).then(function(){\n",
              "                            \n",
              "var gd = document.getElementById('ca203599-4cff-491b-b396-484e795d355c');\n",
              "var x = new MutationObserver(function (mutations, observer) {{\n",
              "        var display = window.getComputedStyle(gd).display;\n",
              "        if (!display || display === 'none') {{\n",
              "            console.log([gd, 'removed!']);\n",
              "            Plotly.purge(gd);\n",
              "            observer.disconnect();\n",
              "        }}\n",
              "}});\n",
              "\n",
              "// Listen for the removal of the full notebook cells\n",
              "var notebookContainer = gd.closest('#notebook-container');\n",
              "if (notebookContainer) {{\n",
              "    x.observe(notebookContainer, {childList: true});\n",
              "}}\n",
              "\n",
              "// Listen for the clearing of the current output cell\n",
              "var outputEl = gd.closest('.output');\n",
              "if (outputEl) {{\n",
              "    x.observe(outputEl, {childList: true});\n",
              "}}\n",
              "\n",
              "                        })\n",
              "                };\n",
              "                \n",
              "            </script>\n",
              "        </div>\n",
              "</body>\n",
              "</html>"
            ]
          },
          "metadata": {}
        }
      ]
    },
    {
      "cell_type": "markdown",
      "metadata": {
        "id": "IiIO1hl_10ki"
      },
      "source": [
        "- Litecoin"
      ],
      "id": "IiIO1hl_10ki"
    },
    {
      "cell_type": "code",
      "metadata": {
        "colab": {
          "base_uri": "https://localhost:8080/",
          "height": 542
        },
        "id": "a81a5539",
        "outputId": "2151cae4-74a3-473a-f743-a66d30a9fb11"
      },
      "source": [
        "vol_traded(litecoin[-60:], \"Litecoin\", color=\"Blue\")"
      ],
      "id": "a81a5539",
      "execution_count": 36,
      "outputs": [
        {
          "output_type": "display_data",
          "data": {
            "text/html": [
              "<html>\n",
              "<head><meta charset=\"utf-8\" /></head>\n",
              "<body>\n",
              "    <div>\n",
              "            <script src=\"https://cdnjs.cloudflare.com/ajax/libs/mathjax/2.7.5/MathJax.js?config=TeX-AMS-MML_SVG\"></script><script type=\"text/javascript\">if (window.MathJax) {MathJax.Hub.Config({SVG: {font: \"STIX-Web\"}});}</script>\n",
              "                <script type=\"text/javascript\">window.PlotlyConfig = {MathJaxConfig: 'local'};</script>\n",
              "        <script src=\"https://cdn.plot.ly/plotly-latest.min.js\"></script>    \n",
              "            <div id=\"4db3090b-2013-4334-8e07-f8e00613ea75\" class=\"plotly-graph-div\" style=\"height:525px; width:100%;\"></div>\n",
              "            <script type=\"text/javascript\">\n",
              "                \n",
              "                    window.PLOTLYENV=window.PLOTLYENV || {};\n",
              "                    \n",
              "                if (document.getElementById(\"4db3090b-2013-4334-8e07-f8e00613ea75\")) {\n",
              "                    Plotly.newPlot(\n",
              "                        '4db3090b-2013-4334-8e07-f8e00613ea75',\n",
              "                        [{\"hoverlabel\": {\"namelength\": 0}, \"hovertemplate\": \"x=%{x}<br>volume=%{y}\", \"legendgroup\": \"\", \"line\": {\"color\": \"Blue\"}, \"mode\": \"lines\", \"name\": \"\", \"orientation\": \"v\", \"showlegend\": false, \"stackgroup\": \"1\", \"type\": \"scatter\", \"x\": [\"2021-09-20T22:45:00\", \"2021-09-20T22:46:00\", \"2021-09-20T22:47:00\", \"2021-09-20T22:48:00\", \"2021-09-20T22:49:00\", \"2021-09-20T22:50:00\", \"2021-09-20T22:51:00\", \"2021-09-20T22:52:00\", \"2021-09-20T22:53:00\", \"2021-09-20T22:54:00\", \"2021-09-20T22:55:00\", \"2021-09-20T22:56:00\", \"2021-09-20T22:57:00\", \"2021-09-20T22:58:00\", \"2021-09-20T22:59:00\", \"2021-09-20T23:00:00\", \"2021-09-20T23:01:00\", \"2021-09-20T23:02:00\", \"2021-09-20T23:03:00\", \"2021-09-20T23:04:00\", \"2021-09-20T23:05:00\", \"2021-09-20T23:06:00\", \"2021-09-20T23:07:00\", \"2021-09-20T23:08:00\", \"2021-09-20T23:09:00\", \"2021-09-20T23:10:00\", \"2021-09-20T23:11:00\", \"2021-09-20T23:12:00\", \"2021-09-20T23:13:00\", \"2021-09-20T23:14:00\", \"2021-09-20T23:15:00\", \"2021-09-20T23:16:00\", \"2021-09-20T23:17:00\", \"2021-09-20T23:18:00\", \"2021-09-20T23:19:00\", \"2021-09-20T23:20:00\", \"2021-09-20T23:21:00\", \"2021-09-20T23:22:00\", \"2021-09-20T23:23:00\", \"2021-09-20T23:24:00\", \"2021-09-20T23:25:00\", \"2021-09-20T23:26:00\", \"2021-09-20T23:27:00\", \"2021-09-20T23:28:00\", \"2021-09-20T23:29:00\", \"2021-09-20T23:30:00\", \"2021-09-20T23:31:00\", \"2021-09-20T23:32:00\", \"2021-09-20T23:33:00\", \"2021-09-20T23:34:00\", \"2021-09-20T23:35:00\", \"2021-09-20T23:36:00\", \"2021-09-20T23:37:00\", \"2021-09-20T23:38:00\", \"2021-09-20T23:39:00\", \"2021-09-20T23:40:00\", \"2021-09-20T23:41:00\", \"2021-09-20T23:42:00\", \"2021-09-20T23:43:00\", \"2021-09-20T23:44:00\"], \"xaxis\": \"x\", \"y\": [568.3838926473118, 893.6548265800003, 643.12225891, 330.18096445, 2134.7364362399994, 1557.0210268190854, 1350.3911613368246, 1927.76645137, 1410.595949803166, 4776.8293670223875, 2769.836038103185, 1164.2074492711213, 3240.139663603177, 992.2874493317552, 1088.1755639, 2635.830807030751, 1155.50912754, 1687.2792206392971, 1886.1366122365744, 2697.2240951500007, 3658.3105661, 3019.0104621699993, 1358.7247728000002, 1115.5584623400002, 1726.6315918899998, 1306.3382953488044, 1748.713397407161, 1806.4922538810183, 1967.983068345973, 1579.1184130949994, 1904.1229442600727, 1516.76271134, 1828.15587416, 1915.24701182, 1135.4283426554396, 1017.70155242, 2206.593481782365, 1230.33482064461, 2935.0492714838847, 1103.0833335060918, 3648.061216733962, 2226.605523667997, 2227.8574891347607, 2926.2283405807552, 1155.3637091279395, 3476.465434538553, 1753.1794619364969, 1892.7506883936328, 1034.066019307396, 1269.1249598405866, 1225.5570533457656, 1560.3760824502795, 1132.1070511085409, 607.89373449, 1545.76747843, 854.4437171404545, 493.4682804267379, 1040.6853043502808, 773.24623767, 738.196270955454], \"yaxis\": \"y\"}],\n",
              "                        {\"legend\": {\"tracegroupgap\": 0}, \"margin\": {\"t\": 60}, \"showlegend\": true, \"template\": {\"data\": {\"bar\": [{\"error_x\": {\"color\": \"#2a3f5f\"}, \"error_y\": {\"color\": \"#2a3f5f\"}, \"marker\": {\"line\": {\"color\": \"#E5ECF6\", \"width\": 0.5}}, \"type\": \"bar\"}], \"barpolar\": [{\"marker\": {\"line\": {\"color\": \"#E5ECF6\", \"width\": 0.5}}, \"type\": \"barpolar\"}], \"carpet\": [{\"aaxis\": {\"endlinecolor\": \"#2a3f5f\", \"gridcolor\": \"white\", \"linecolor\": \"white\", \"minorgridcolor\": \"white\", \"startlinecolor\": \"#2a3f5f\"}, \"baxis\": {\"endlinecolor\": \"#2a3f5f\", \"gridcolor\": \"white\", \"linecolor\": \"white\", \"minorgridcolor\": \"white\", \"startlinecolor\": \"#2a3f5f\"}, \"type\": \"carpet\"}], \"choropleth\": [{\"colorbar\": {\"outlinewidth\": 0, \"ticks\": \"\"}, \"type\": \"choropleth\"}], \"contour\": [{\"colorbar\": {\"outlinewidth\": 0, \"ticks\": \"\"}, \"colorscale\": [[0.0, \"#0d0887\"], [0.1111111111111111, \"#46039f\"], [0.2222222222222222, \"#7201a8\"], [0.3333333333333333, \"#9c179e\"], [0.4444444444444444, \"#bd3786\"], [0.5555555555555556, \"#d8576b\"], [0.6666666666666666, \"#ed7953\"], [0.7777777777777778, \"#fb9f3a\"], [0.8888888888888888, \"#fdca26\"], [1.0, \"#f0f921\"]], \"type\": \"contour\"}], \"contourcarpet\": [{\"colorbar\": {\"outlinewidth\": 0, \"ticks\": \"\"}, \"type\": \"contourcarpet\"}], \"heatmap\": [{\"colorbar\": {\"outlinewidth\": 0, \"ticks\": \"\"}, \"colorscale\": [[0.0, \"#0d0887\"], [0.1111111111111111, \"#46039f\"], [0.2222222222222222, \"#7201a8\"], [0.3333333333333333, \"#9c179e\"], [0.4444444444444444, \"#bd3786\"], [0.5555555555555556, \"#d8576b\"], [0.6666666666666666, \"#ed7953\"], [0.7777777777777778, \"#fb9f3a\"], [0.8888888888888888, \"#fdca26\"], [1.0, \"#f0f921\"]], \"type\": \"heatmap\"}], \"heatmapgl\": [{\"colorbar\": {\"outlinewidth\": 0, \"ticks\": \"\"}, \"colorscale\": [[0.0, \"#0d0887\"], [0.1111111111111111, \"#46039f\"], [0.2222222222222222, \"#7201a8\"], [0.3333333333333333, \"#9c179e\"], [0.4444444444444444, \"#bd3786\"], [0.5555555555555556, \"#d8576b\"], [0.6666666666666666, \"#ed7953\"], [0.7777777777777778, \"#fb9f3a\"], [0.8888888888888888, \"#fdca26\"], [1.0, \"#f0f921\"]], \"type\": \"heatmapgl\"}], \"histogram\": [{\"marker\": {\"colorbar\": {\"outlinewidth\": 0, \"ticks\": \"\"}}, \"type\": \"histogram\"}], \"histogram2d\": [{\"colorbar\": {\"outlinewidth\": 0, \"ticks\": \"\"}, \"colorscale\": [[0.0, \"#0d0887\"], [0.1111111111111111, \"#46039f\"], [0.2222222222222222, \"#7201a8\"], [0.3333333333333333, \"#9c179e\"], [0.4444444444444444, \"#bd3786\"], [0.5555555555555556, \"#d8576b\"], [0.6666666666666666, \"#ed7953\"], [0.7777777777777778, \"#fb9f3a\"], [0.8888888888888888, \"#fdca26\"], [1.0, \"#f0f921\"]], \"type\": \"histogram2d\"}], \"histogram2dcontour\": [{\"colorbar\": {\"outlinewidth\": 0, \"ticks\": \"\"}, \"colorscale\": [[0.0, \"#0d0887\"], [0.1111111111111111, \"#46039f\"], [0.2222222222222222, \"#7201a8\"], [0.3333333333333333, \"#9c179e\"], [0.4444444444444444, \"#bd3786\"], [0.5555555555555556, \"#d8576b\"], [0.6666666666666666, \"#ed7953\"], [0.7777777777777778, \"#fb9f3a\"], [0.8888888888888888, \"#fdca26\"], [1.0, \"#f0f921\"]], \"type\": \"histogram2dcontour\"}], \"mesh3d\": [{\"colorbar\": {\"outlinewidth\": 0, \"ticks\": \"\"}, \"type\": \"mesh3d\"}], \"parcoords\": [{\"line\": {\"colorbar\": {\"outlinewidth\": 0, \"ticks\": \"\"}}, \"type\": \"parcoords\"}], \"pie\": [{\"automargin\": true, \"type\": \"pie\"}], \"scatter\": [{\"marker\": {\"colorbar\": {\"outlinewidth\": 0, \"ticks\": \"\"}}, \"type\": \"scatter\"}], \"scatter3d\": [{\"line\": {\"colorbar\": {\"outlinewidth\": 0, \"ticks\": \"\"}}, \"marker\": {\"colorbar\": {\"outlinewidth\": 0, \"ticks\": \"\"}}, \"type\": \"scatter3d\"}], \"scattercarpet\": [{\"marker\": {\"colorbar\": {\"outlinewidth\": 0, \"ticks\": \"\"}}, \"type\": \"scattercarpet\"}], \"scattergeo\": [{\"marker\": {\"colorbar\": {\"outlinewidth\": 0, \"ticks\": \"\"}}, \"type\": \"scattergeo\"}], \"scattergl\": [{\"marker\": {\"colorbar\": {\"outlinewidth\": 0, \"ticks\": \"\"}}, \"type\": \"scattergl\"}], \"scattermapbox\": [{\"marker\": {\"colorbar\": {\"outlinewidth\": 0, \"ticks\": \"\"}}, \"type\": \"scattermapbox\"}], \"scatterpolar\": [{\"marker\": {\"colorbar\": {\"outlinewidth\": 0, \"ticks\": \"\"}}, \"type\": \"scatterpolar\"}], \"scatterpolargl\": [{\"marker\": {\"colorbar\": {\"outlinewidth\": 0, \"ticks\": \"\"}}, \"type\": \"scatterpolargl\"}], \"scatterternary\": [{\"marker\": {\"colorbar\": {\"outlinewidth\": 0, \"ticks\": \"\"}}, \"type\": \"scatterternary\"}], \"surface\": [{\"colorbar\": {\"outlinewidth\": 0, \"ticks\": \"\"}, \"colorscale\": [[0.0, \"#0d0887\"], [0.1111111111111111, \"#46039f\"], [0.2222222222222222, \"#7201a8\"], [0.3333333333333333, \"#9c179e\"], [0.4444444444444444, \"#bd3786\"], [0.5555555555555556, \"#d8576b\"], [0.6666666666666666, \"#ed7953\"], [0.7777777777777778, \"#fb9f3a\"], [0.8888888888888888, \"#fdca26\"], [1.0, \"#f0f921\"]], \"type\": \"surface\"}], \"table\": [{\"cells\": {\"fill\": {\"color\": \"#EBF0F8\"}, \"line\": {\"color\": \"white\"}}, \"header\": {\"fill\": {\"color\": \"#C8D4E3\"}, \"line\": {\"color\": \"white\"}}, \"type\": \"table\"}]}, \"layout\": {\"annotationdefaults\": {\"arrowcolor\": \"#2a3f5f\", \"arrowhead\": 0, \"arrowwidth\": 1}, \"coloraxis\": {\"colorbar\": {\"outlinewidth\": 0, \"ticks\": \"\"}}, \"colorscale\": {\"diverging\": [[0, \"#8e0152\"], [0.1, \"#c51b7d\"], [0.2, \"#de77ae\"], [0.3, \"#f1b6da\"], [0.4, \"#fde0ef\"], [0.5, \"#f7f7f7\"], [0.6, \"#e6f5d0\"], [0.7, \"#b8e186\"], [0.8, \"#7fbc41\"], [0.9, \"#4d9221\"], [1, \"#276419\"]], \"sequential\": [[0.0, \"#0d0887\"], [0.1111111111111111, \"#46039f\"], [0.2222222222222222, \"#7201a8\"], [0.3333333333333333, \"#9c179e\"], [0.4444444444444444, \"#bd3786\"], [0.5555555555555556, \"#d8576b\"], [0.6666666666666666, \"#ed7953\"], [0.7777777777777778, \"#fb9f3a\"], [0.8888888888888888, \"#fdca26\"], [1.0, \"#f0f921\"]], \"sequentialminus\": [[0.0, \"#0d0887\"], [0.1111111111111111, \"#46039f\"], [0.2222222222222222, \"#7201a8\"], [0.3333333333333333, \"#9c179e\"], [0.4444444444444444, \"#bd3786\"], [0.5555555555555556, \"#d8576b\"], [0.6666666666666666, \"#ed7953\"], [0.7777777777777778, \"#fb9f3a\"], [0.8888888888888888, \"#fdca26\"], [1.0, \"#f0f921\"]]}, \"colorway\": [\"#636efa\", \"#EF553B\", \"#00cc96\", \"#ab63fa\", \"#FFA15A\", \"#19d3f3\", \"#FF6692\", \"#B6E880\", \"#FF97FF\", \"#FECB52\"], \"font\": {\"color\": \"#2a3f5f\"}, \"geo\": {\"bgcolor\": \"white\", \"lakecolor\": \"white\", \"landcolor\": \"#E5ECF6\", \"showlakes\": true, \"showland\": true, \"subunitcolor\": \"white\"}, \"hoverlabel\": {\"align\": \"left\"}, \"hovermode\": \"closest\", \"mapbox\": {\"style\": \"light\"}, \"paper_bgcolor\": \"white\", \"plot_bgcolor\": \"#E5ECF6\", \"polar\": {\"angularaxis\": {\"gridcolor\": \"white\", \"linecolor\": \"white\", \"ticks\": \"\"}, \"bgcolor\": \"#E5ECF6\", \"radialaxis\": {\"gridcolor\": \"white\", \"linecolor\": \"white\", \"ticks\": \"\"}}, \"scene\": {\"xaxis\": {\"backgroundcolor\": \"#E5ECF6\", \"gridcolor\": \"white\", \"gridwidth\": 2, \"linecolor\": \"white\", \"showbackground\": true, \"ticks\": \"\", \"zerolinecolor\": \"white\"}, \"yaxis\": {\"backgroundcolor\": \"#E5ECF6\", \"gridcolor\": \"white\", \"gridwidth\": 2, \"linecolor\": \"white\", \"showbackground\": true, \"ticks\": \"\", \"zerolinecolor\": \"white\"}, \"zaxis\": {\"backgroundcolor\": \"#E5ECF6\", \"gridcolor\": \"white\", \"gridwidth\": 2, \"linecolor\": \"white\", \"showbackground\": true, \"ticks\": \"\", \"zerolinecolor\": \"white\"}}, \"shapedefaults\": {\"line\": {\"color\": \"#2a3f5f\"}}, \"ternary\": {\"aaxis\": {\"gridcolor\": \"white\", \"linecolor\": \"white\", \"ticks\": \"\"}, \"baxis\": {\"gridcolor\": \"white\", \"linecolor\": \"white\", \"ticks\": \"\"}, \"bgcolor\": \"#E5ECF6\", \"caxis\": {\"gridcolor\": \"white\", \"linecolor\": \"white\", \"ticks\": \"\"}}, \"title\": {\"x\": 0.05}, \"xaxis\": {\"automargin\": true, \"gridcolor\": \"white\", \"linecolor\": \"white\", \"ticks\": \"\", \"title\": {\"standoff\": 15}, \"zerolinecolor\": \"white\", \"zerolinewidth\": 2}, \"yaxis\": {\"automargin\": true, \"gridcolor\": \"white\", \"linecolor\": \"white\", \"ticks\": \"\", \"title\": {\"standoff\": 15}, \"zerolinecolor\": \"white\", \"zerolinewidth\": 2}}}, \"title\": {\"text\": \"Litecoin Volume Traded\", \"x\": 0.5, \"xanchor\": \"center\", \"y\": 0.94, \"yanchor\": \"top\"}, \"xaxis\": {\"anchor\": \"y\", \"domain\": [0.0, 1.0], \"rangeslider\": {\"visible\": false}, \"title\": {\"text\": \"Time\"}}, \"yaxis\": {\"anchor\": \"x\", \"domain\": [0.0, 1.0], \"title\": {\"text\": \"Number of trades every minute\"}}},\n",
              "                        {\"responsive\": true}\n",
              "                    ).then(function(){\n",
              "                            \n",
              "var gd = document.getElementById('4db3090b-2013-4334-8e07-f8e00613ea75');\n",
              "var x = new MutationObserver(function (mutations, observer) {{\n",
              "        var display = window.getComputedStyle(gd).display;\n",
              "        if (!display || display === 'none') {{\n",
              "            console.log([gd, 'removed!']);\n",
              "            Plotly.purge(gd);\n",
              "            observer.disconnect();\n",
              "        }}\n",
              "}});\n",
              "\n",
              "// Listen for the removal of the full notebook cells\n",
              "var notebookContainer = gd.closest('#notebook-container');\n",
              "if (notebookContainer) {{\n",
              "    x.observe(notebookContainer, {childList: true});\n",
              "}}\n",
              "\n",
              "// Listen for the clearing of the current output cell\n",
              "var outputEl = gd.closest('.output');\n",
              "if (outputEl) {{\n",
              "    x.observe(outputEl, {childList: true});\n",
              "}}\n",
              "\n",
              "                        })\n",
              "                };\n",
              "                \n",
              "            </script>\n",
              "        </div>\n",
              "</body>\n",
              "</html>"
            ]
          },
          "metadata": {}
        }
      ]
    },
    {
      "cell_type": "markdown",
      "metadata": {
        "id": "RlujqMyR15T-"
      },
      "source": [
        "- Maker"
      ],
      "id": "RlujqMyR15T-"
    },
    {
      "cell_type": "code",
      "metadata": {
        "colab": {
          "base_uri": "https://localhost:8080/",
          "height": 542
        },
        "id": "e2b1bff3",
        "outputId": "f17b4541-dc3c-4831-876b-10e861da52c6"
      },
      "source": [
        "vol_traded(maker[-60:], \"Maker\", color=\"Green\")"
      ],
      "id": "e2b1bff3",
      "execution_count": 37,
      "outputs": [
        {
          "output_type": "display_data",
          "data": {
            "text/html": [
              "<html>\n",
              "<head><meta charset=\"utf-8\" /></head>\n",
              "<body>\n",
              "    <div>\n",
              "            <script src=\"https://cdnjs.cloudflare.com/ajax/libs/mathjax/2.7.5/MathJax.js?config=TeX-AMS-MML_SVG\"></script><script type=\"text/javascript\">if (window.MathJax) {MathJax.Hub.Config({SVG: {font: \"STIX-Web\"}});}</script>\n",
              "                <script type=\"text/javascript\">window.PlotlyConfig = {MathJaxConfig: 'local'};</script>\n",
              "        <script src=\"https://cdn.plot.ly/plotly-latest.min.js\"></script>    \n",
              "            <div id=\"87c45b15-199a-497f-8080-45639a3049df\" class=\"plotly-graph-div\" style=\"height:525px; width:100%;\"></div>\n",
              "            <script type=\"text/javascript\">\n",
              "                \n",
              "                    window.PLOTLYENV=window.PLOTLYENV || {};\n",
              "                    \n",
              "                if (document.getElementById(\"87c45b15-199a-497f-8080-45639a3049df\")) {\n",
              "                    Plotly.newPlot(\n",
              "                        '87c45b15-199a-497f-8080-45639a3049df',\n",
              "                        [{\"hoverlabel\": {\"namelength\": 0}, \"hovertemplate\": \"x=%{x}<br>volume=%{y}\", \"legendgroup\": \"\", \"line\": {\"color\": \"Green\"}, \"mode\": \"lines\", \"name\": \"\", \"orientation\": \"v\", \"showlegend\": false, \"stackgroup\": \"1\", \"type\": \"scatter\", \"x\": [\"2021-09-20T22:45:00\", \"2021-09-20T22:46:00\", \"2021-09-20T22:47:00\", \"2021-09-20T22:48:00\", \"2021-09-20T22:49:00\", \"2021-09-20T22:50:00\", \"2021-09-20T22:51:00\", \"2021-09-20T22:52:00\", \"2021-09-20T22:53:00\", \"2021-09-20T22:54:00\", \"2021-09-20T22:55:00\", \"2021-09-20T22:56:00\", \"2021-09-20T22:57:00\", \"2021-09-20T22:58:00\", \"2021-09-20T22:59:00\", \"2021-09-20T23:00:00\", \"2021-09-20T23:01:00\", \"2021-09-20T23:02:00\", \"2021-09-20T23:03:00\", \"2021-09-20T23:04:00\", \"2021-09-20T23:05:00\", \"2021-09-20T23:06:00\", \"2021-09-20T23:07:00\", \"2021-09-20T23:08:00\", \"2021-09-20T23:09:00\", \"2021-09-20T23:10:00\", \"2021-09-20T23:11:00\", \"2021-09-20T23:12:00\", \"2021-09-20T23:13:00\", \"2021-09-20T23:14:00\", \"2021-09-20T23:15:00\", \"2021-09-20T23:16:00\", \"2021-09-20T23:17:00\", \"2021-09-20T23:18:00\", \"2021-09-20T23:19:00\", \"2021-09-20T23:20:00\", \"2021-09-20T23:21:00\", \"2021-09-20T23:22:00\", \"2021-09-20T23:23:00\", \"2021-09-20T23:24:00\", \"2021-09-20T23:25:00\", \"2021-09-20T23:26:00\", \"2021-09-20T23:27:00\", \"2021-09-20T23:28:00\", \"2021-09-20T23:29:00\", \"2021-09-20T23:30:00\", \"2021-09-20T23:31:00\", \"2021-09-20T23:32:00\", \"2021-09-20T23:33:00\", \"2021-09-20T23:34:00\", \"2021-09-20T23:35:00\", \"2021-09-20T23:36:00\", \"2021-09-20T23:37:00\", \"2021-09-20T23:38:00\", \"2021-09-20T23:39:00\", \"2021-09-20T23:40:00\", \"2021-09-20T23:41:00\", \"2021-09-20T23:42:00\", \"2021-09-20T23:43:00\", \"2021-09-20T23:44:00\"], \"xaxis\": \"x\", \"y\": [37.89804899999999, 7.4704799999999985, 6.163269999999999, 40.238321, 15.014885999999999, 24.36244151, 8.219768, 7.036449999999999, 12.17649109, 10.347277000000002, 10.297831, 5.005301, 13.228528000000004, 5.323858000000001, 8.065004, 5.027119, 2.527687, 10.229808000000004, 6.380156000000001, 1.808368, 15.075537, 7.685039, 5.215552, 1.1659000000000002, 3.335866, 6.0820919999999985, 11.878069000000002, 9.614265862280565, 8.055749, 13.916098000000002, 8.098427000000001, 5.23329, 8.69028, 11.531147999999998, 1.867499, 7.090319, 29.40547846, 4.073601999999998, 6.116967420000001, 4.605252, 4.121404, 11.447272, 2.094225, 1.496853, 1.5601239999999996, 3.6471160000000014, 2.025519, 3.0467600000000004, 5.406440000000001, 3.957596000000001, 1.5234329999999998, 0.5993200000000001, 3.98382755, 0.63061497, 2.5839905000000005, 2.36693426, 0.8110853899999999, 3.40733023, 0.5751200000000001, 1.315794], \"yaxis\": \"y\"}],\n",
              "                        {\"legend\": {\"tracegroupgap\": 0}, \"margin\": {\"t\": 60}, \"showlegend\": true, \"template\": {\"data\": {\"bar\": [{\"error_x\": {\"color\": \"#2a3f5f\"}, \"error_y\": {\"color\": \"#2a3f5f\"}, \"marker\": {\"line\": {\"color\": \"#E5ECF6\", \"width\": 0.5}}, \"type\": \"bar\"}], \"barpolar\": [{\"marker\": {\"line\": {\"color\": \"#E5ECF6\", \"width\": 0.5}}, \"type\": \"barpolar\"}], \"carpet\": [{\"aaxis\": {\"endlinecolor\": \"#2a3f5f\", \"gridcolor\": \"white\", \"linecolor\": \"white\", \"minorgridcolor\": \"white\", \"startlinecolor\": \"#2a3f5f\"}, \"baxis\": {\"endlinecolor\": \"#2a3f5f\", \"gridcolor\": \"white\", \"linecolor\": \"white\", \"minorgridcolor\": \"white\", \"startlinecolor\": \"#2a3f5f\"}, \"type\": \"carpet\"}], \"choropleth\": [{\"colorbar\": {\"outlinewidth\": 0, \"ticks\": \"\"}, \"type\": \"choropleth\"}], \"contour\": [{\"colorbar\": {\"outlinewidth\": 0, \"ticks\": \"\"}, \"colorscale\": [[0.0, \"#0d0887\"], [0.1111111111111111, \"#46039f\"], [0.2222222222222222, \"#7201a8\"], [0.3333333333333333, \"#9c179e\"], [0.4444444444444444, \"#bd3786\"], [0.5555555555555556, \"#d8576b\"], [0.6666666666666666, \"#ed7953\"], [0.7777777777777778, \"#fb9f3a\"], [0.8888888888888888, \"#fdca26\"], [1.0, \"#f0f921\"]], \"type\": \"contour\"}], \"contourcarpet\": [{\"colorbar\": {\"outlinewidth\": 0, \"ticks\": \"\"}, \"type\": \"contourcarpet\"}], \"heatmap\": [{\"colorbar\": {\"outlinewidth\": 0, \"ticks\": \"\"}, \"colorscale\": [[0.0, \"#0d0887\"], [0.1111111111111111, \"#46039f\"], [0.2222222222222222, \"#7201a8\"], [0.3333333333333333, \"#9c179e\"], [0.4444444444444444, \"#bd3786\"], [0.5555555555555556, \"#d8576b\"], [0.6666666666666666, \"#ed7953\"], [0.7777777777777778, \"#fb9f3a\"], [0.8888888888888888, \"#fdca26\"], [1.0, \"#f0f921\"]], \"type\": \"heatmap\"}], \"heatmapgl\": [{\"colorbar\": {\"outlinewidth\": 0, \"ticks\": \"\"}, \"colorscale\": [[0.0, \"#0d0887\"], [0.1111111111111111, \"#46039f\"], [0.2222222222222222, \"#7201a8\"], [0.3333333333333333, \"#9c179e\"], [0.4444444444444444, \"#bd3786\"], [0.5555555555555556, \"#d8576b\"], [0.6666666666666666, \"#ed7953\"], [0.7777777777777778, \"#fb9f3a\"], [0.8888888888888888, \"#fdca26\"], [1.0, \"#f0f921\"]], \"type\": \"heatmapgl\"}], \"histogram\": [{\"marker\": {\"colorbar\": {\"outlinewidth\": 0, \"ticks\": \"\"}}, \"type\": \"histogram\"}], \"histogram2d\": [{\"colorbar\": {\"outlinewidth\": 0, \"ticks\": \"\"}, \"colorscale\": [[0.0, \"#0d0887\"], [0.1111111111111111, \"#46039f\"], [0.2222222222222222, \"#7201a8\"], [0.3333333333333333, \"#9c179e\"], [0.4444444444444444, \"#bd3786\"], [0.5555555555555556, \"#d8576b\"], [0.6666666666666666, \"#ed7953\"], [0.7777777777777778, \"#fb9f3a\"], [0.8888888888888888, \"#fdca26\"], [1.0, \"#f0f921\"]], \"type\": \"histogram2d\"}], \"histogram2dcontour\": [{\"colorbar\": {\"outlinewidth\": 0, \"ticks\": \"\"}, \"colorscale\": [[0.0, \"#0d0887\"], [0.1111111111111111, \"#46039f\"], [0.2222222222222222, \"#7201a8\"], [0.3333333333333333, \"#9c179e\"], [0.4444444444444444, \"#bd3786\"], [0.5555555555555556, \"#d8576b\"], [0.6666666666666666, \"#ed7953\"], [0.7777777777777778, \"#fb9f3a\"], [0.8888888888888888, \"#fdca26\"], [1.0, \"#f0f921\"]], \"type\": \"histogram2dcontour\"}], \"mesh3d\": [{\"colorbar\": {\"outlinewidth\": 0, \"ticks\": \"\"}, \"type\": \"mesh3d\"}], \"parcoords\": [{\"line\": {\"colorbar\": {\"outlinewidth\": 0, \"ticks\": \"\"}}, \"type\": \"parcoords\"}], \"pie\": [{\"automargin\": true, \"type\": \"pie\"}], \"scatter\": [{\"marker\": {\"colorbar\": {\"outlinewidth\": 0, \"ticks\": \"\"}}, \"type\": \"scatter\"}], \"scatter3d\": [{\"line\": {\"colorbar\": {\"outlinewidth\": 0, \"ticks\": \"\"}}, \"marker\": {\"colorbar\": {\"outlinewidth\": 0, \"ticks\": \"\"}}, \"type\": \"scatter3d\"}], \"scattercarpet\": [{\"marker\": {\"colorbar\": {\"outlinewidth\": 0, \"ticks\": \"\"}}, \"type\": \"scattercarpet\"}], \"scattergeo\": [{\"marker\": {\"colorbar\": {\"outlinewidth\": 0, \"ticks\": \"\"}}, \"type\": \"scattergeo\"}], \"scattergl\": [{\"marker\": {\"colorbar\": {\"outlinewidth\": 0, \"ticks\": \"\"}}, \"type\": \"scattergl\"}], \"scattermapbox\": [{\"marker\": {\"colorbar\": {\"outlinewidth\": 0, \"ticks\": \"\"}}, \"type\": \"scattermapbox\"}], \"scatterpolar\": [{\"marker\": {\"colorbar\": {\"outlinewidth\": 0, \"ticks\": \"\"}}, \"type\": \"scatterpolar\"}], \"scatterpolargl\": [{\"marker\": {\"colorbar\": {\"outlinewidth\": 0, \"ticks\": \"\"}}, \"type\": \"scatterpolargl\"}], \"scatterternary\": [{\"marker\": {\"colorbar\": {\"outlinewidth\": 0, \"ticks\": \"\"}}, \"type\": \"scatterternary\"}], \"surface\": [{\"colorbar\": {\"outlinewidth\": 0, \"ticks\": \"\"}, \"colorscale\": [[0.0, \"#0d0887\"], [0.1111111111111111, \"#46039f\"], [0.2222222222222222, \"#7201a8\"], [0.3333333333333333, \"#9c179e\"], [0.4444444444444444, \"#bd3786\"], [0.5555555555555556, \"#d8576b\"], [0.6666666666666666, \"#ed7953\"], [0.7777777777777778, \"#fb9f3a\"], [0.8888888888888888, \"#fdca26\"], [1.0, \"#f0f921\"]], \"type\": \"surface\"}], \"table\": [{\"cells\": {\"fill\": {\"color\": \"#EBF0F8\"}, \"line\": {\"color\": \"white\"}}, \"header\": {\"fill\": {\"color\": \"#C8D4E3\"}, \"line\": {\"color\": \"white\"}}, \"type\": \"table\"}]}, \"layout\": {\"annotationdefaults\": {\"arrowcolor\": \"#2a3f5f\", \"arrowhead\": 0, \"arrowwidth\": 1}, \"coloraxis\": {\"colorbar\": {\"outlinewidth\": 0, \"ticks\": \"\"}}, \"colorscale\": {\"diverging\": [[0, \"#8e0152\"], [0.1, \"#c51b7d\"], [0.2, \"#de77ae\"], [0.3, \"#f1b6da\"], [0.4, \"#fde0ef\"], [0.5, \"#f7f7f7\"], [0.6, \"#e6f5d0\"], [0.7, \"#b8e186\"], [0.8, \"#7fbc41\"], [0.9, \"#4d9221\"], [1, \"#276419\"]], \"sequential\": [[0.0, \"#0d0887\"], [0.1111111111111111, \"#46039f\"], [0.2222222222222222, \"#7201a8\"], [0.3333333333333333, \"#9c179e\"], [0.4444444444444444, \"#bd3786\"], [0.5555555555555556, \"#d8576b\"], [0.6666666666666666, \"#ed7953\"], [0.7777777777777778, \"#fb9f3a\"], [0.8888888888888888, \"#fdca26\"], [1.0, \"#f0f921\"]], \"sequentialminus\": [[0.0, \"#0d0887\"], [0.1111111111111111, \"#46039f\"], [0.2222222222222222, \"#7201a8\"], [0.3333333333333333, \"#9c179e\"], [0.4444444444444444, \"#bd3786\"], [0.5555555555555556, \"#d8576b\"], [0.6666666666666666, \"#ed7953\"], [0.7777777777777778, \"#fb9f3a\"], [0.8888888888888888, \"#fdca26\"], [1.0, \"#f0f921\"]]}, \"colorway\": [\"#636efa\", \"#EF553B\", \"#00cc96\", \"#ab63fa\", \"#FFA15A\", \"#19d3f3\", \"#FF6692\", \"#B6E880\", \"#FF97FF\", \"#FECB52\"], \"font\": {\"color\": \"#2a3f5f\"}, \"geo\": {\"bgcolor\": \"white\", \"lakecolor\": \"white\", \"landcolor\": \"#E5ECF6\", \"showlakes\": true, \"showland\": true, \"subunitcolor\": \"white\"}, \"hoverlabel\": {\"align\": \"left\"}, \"hovermode\": \"closest\", \"mapbox\": {\"style\": \"light\"}, \"paper_bgcolor\": \"white\", \"plot_bgcolor\": \"#E5ECF6\", \"polar\": {\"angularaxis\": {\"gridcolor\": \"white\", \"linecolor\": \"white\", \"ticks\": \"\"}, \"bgcolor\": \"#E5ECF6\", \"radialaxis\": {\"gridcolor\": \"white\", \"linecolor\": \"white\", \"ticks\": \"\"}}, \"scene\": {\"xaxis\": {\"backgroundcolor\": \"#E5ECF6\", \"gridcolor\": \"white\", \"gridwidth\": 2, \"linecolor\": \"white\", \"showbackground\": true, \"ticks\": \"\", \"zerolinecolor\": \"white\"}, \"yaxis\": {\"backgroundcolor\": \"#E5ECF6\", \"gridcolor\": \"white\", \"gridwidth\": 2, \"linecolor\": \"white\", \"showbackground\": true, \"ticks\": \"\", \"zerolinecolor\": \"white\"}, \"zaxis\": {\"backgroundcolor\": \"#E5ECF6\", \"gridcolor\": \"white\", \"gridwidth\": 2, \"linecolor\": \"white\", \"showbackground\": true, \"ticks\": \"\", \"zerolinecolor\": \"white\"}}, \"shapedefaults\": {\"line\": {\"color\": \"#2a3f5f\"}}, \"ternary\": {\"aaxis\": {\"gridcolor\": \"white\", \"linecolor\": \"white\", \"ticks\": \"\"}, \"baxis\": {\"gridcolor\": \"white\", \"linecolor\": \"white\", \"ticks\": \"\"}, \"bgcolor\": \"#E5ECF6\", \"caxis\": {\"gridcolor\": \"white\", \"linecolor\": \"white\", \"ticks\": \"\"}}, \"title\": {\"x\": 0.05}, \"xaxis\": {\"automargin\": true, \"gridcolor\": \"white\", \"linecolor\": \"white\", \"ticks\": \"\", \"title\": {\"standoff\": 15}, \"zerolinecolor\": \"white\", \"zerolinewidth\": 2}, \"yaxis\": {\"automargin\": true, \"gridcolor\": \"white\", \"linecolor\": \"white\", \"ticks\": \"\", \"title\": {\"standoff\": 15}, \"zerolinecolor\": \"white\", \"zerolinewidth\": 2}}}, \"title\": {\"text\": \"Maker Volume Traded\", \"x\": 0.5, \"xanchor\": \"center\", \"y\": 0.94, \"yanchor\": \"top\"}, \"xaxis\": {\"anchor\": \"y\", \"domain\": [0.0, 1.0], \"rangeslider\": {\"visible\": false}, \"title\": {\"text\": \"Time\"}}, \"yaxis\": {\"anchor\": \"x\", \"domain\": [0.0, 1.0], \"title\": {\"text\": \"Number of trades every minute\"}}},\n",
              "                        {\"responsive\": true}\n",
              "                    ).then(function(){\n",
              "                            \n",
              "var gd = document.getElementById('87c45b15-199a-497f-8080-45639a3049df');\n",
              "var x = new MutationObserver(function (mutations, observer) {{\n",
              "        var display = window.getComputedStyle(gd).display;\n",
              "        if (!display || display === 'none') {{\n",
              "            console.log([gd, 'removed!']);\n",
              "            Plotly.purge(gd);\n",
              "            observer.disconnect();\n",
              "        }}\n",
              "}});\n",
              "\n",
              "// Listen for the removal of the full notebook cells\n",
              "var notebookContainer = gd.closest('#notebook-container');\n",
              "if (notebookContainer) {{\n",
              "    x.observe(notebookContainer, {childList: true});\n",
              "}}\n",
              "\n",
              "// Listen for the clearing of the current output cell\n",
              "var outputEl = gd.closest('.output');\n",
              "if (outputEl) {{\n",
              "    x.observe(outputEl, {childList: true});\n",
              "}}\n",
              "\n",
              "                        })\n",
              "                };\n",
              "                \n",
              "            </script>\n",
              "        </div>\n",
              "</body>\n",
              "</html>"
            ]
          },
          "metadata": {}
        }
      ]
    },
    {
      "cell_type": "markdown",
      "metadata": {
        "id": "J7C8cgoS17nG"
      },
      "source": [
        "- Monero"
      ],
      "id": "J7C8cgoS17nG"
    },
    {
      "cell_type": "code",
      "metadata": {
        "colab": {
          "base_uri": "https://localhost:8080/",
          "height": 542
        },
        "id": "2182eaf9",
        "outputId": "715453bc-0790-4849-f0cb-322fab0ec9dd"
      },
      "source": [
        "vol_traded(monero[-60:], \"Monero\", color=\"Blue\")"
      ],
      "id": "2182eaf9",
      "execution_count": 38,
      "outputs": [
        {
          "output_type": "display_data",
          "data": {
            "text/html": [
              "<html>\n",
              "<head><meta charset=\"utf-8\" /></head>\n",
              "<body>\n",
              "    <div>\n",
              "            <script src=\"https://cdnjs.cloudflare.com/ajax/libs/mathjax/2.7.5/MathJax.js?config=TeX-AMS-MML_SVG\"></script><script type=\"text/javascript\">if (window.MathJax) {MathJax.Hub.Config({SVG: {font: \"STIX-Web\"}});}</script>\n",
              "                <script type=\"text/javascript\">window.PlotlyConfig = {MathJaxConfig: 'local'};</script>\n",
              "        <script src=\"https://cdn.plot.ly/plotly-latest.min.js\"></script>    \n",
              "            <div id=\"635a3cd2-9234-42e2-9a09-26002f817ec1\" class=\"plotly-graph-div\" style=\"height:525px; width:100%;\"></div>\n",
              "            <script type=\"text/javascript\">\n",
              "                \n",
              "                    window.PLOTLYENV=window.PLOTLYENV || {};\n",
              "                    \n",
              "                if (document.getElementById(\"635a3cd2-9234-42e2-9a09-26002f817ec1\")) {\n",
              "                    Plotly.newPlot(\n",
              "                        '635a3cd2-9234-42e2-9a09-26002f817ec1',\n",
              "                        [{\"hoverlabel\": {\"namelength\": 0}, \"hovertemplate\": \"x=%{x}<br>volume=%{y}\", \"legendgroup\": \"\", \"line\": {\"color\": \"Blue\"}, \"mode\": \"lines\", \"name\": \"\", \"orientation\": \"v\", \"showlegend\": false, \"stackgroup\": \"1\", \"type\": \"scatter\", \"x\": [\"2021-09-20T22:45:00\", \"2021-09-20T22:46:00\", \"2021-09-20T22:47:00\", \"2021-09-20T22:48:00\", \"2021-09-20T22:49:00\", \"2021-09-20T22:50:00\", \"2021-09-20T22:51:00\", \"2021-09-20T22:52:00\", \"2021-09-20T22:53:00\", \"2021-09-20T22:54:00\", \"2021-09-20T22:55:00\", \"2021-09-20T22:56:00\", \"2021-09-20T22:57:00\", \"2021-09-20T22:58:00\", \"2021-09-20T22:59:00\", \"2021-09-20T23:00:00\", \"2021-09-20T23:01:00\", \"2021-09-20T23:02:00\", \"2021-09-20T23:03:00\", \"2021-09-20T23:04:00\", \"2021-09-20T23:05:00\", \"2021-09-20T23:06:00\", \"2021-09-20T23:07:00\", \"2021-09-20T23:08:00\", \"2021-09-20T23:09:00\", \"2021-09-20T23:10:00\", \"2021-09-20T23:11:00\", \"2021-09-20T23:12:00\", \"2021-09-20T23:13:00\", \"2021-09-20T23:14:00\", \"2021-09-20T23:15:00\", \"2021-09-20T23:16:00\", \"2021-09-20T23:17:00\", \"2021-09-20T23:18:00\", \"2021-09-20T23:19:00\", \"2021-09-20T23:20:00\", \"2021-09-20T23:21:00\", \"2021-09-20T23:22:00\", \"2021-09-20T23:23:00\", \"2021-09-20T23:24:00\", \"2021-09-20T23:25:00\", \"2021-09-20T23:26:00\", \"2021-09-20T23:27:00\", \"2021-09-20T23:28:00\", \"2021-09-20T23:29:00\", \"2021-09-20T23:30:00\", \"2021-09-20T23:31:00\", \"2021-09-20T23:32:00\", \"2021-09-20T23:33:00\", \"2021-09-20T23:34:00\", \"2021-09-20T23:35:00\", \"2021-09-20T23:36:00\", \"2021-09-20T23:37:00\", \"2021-09-20T23:38:00\", \"2021-09-20T23:39:00\", \"2021-09-20T23:40:00\", \"2021-09-20T23:41:00\", \"2021-09-20T23:42:00\", \"2021-09-20T23:43:00\", \"2021-09-20T23:44:00\"], \"xaxis\": \"x\", \"y\": [44.1974151, 50.70738, 43.41112095, 37.64963853, 157.58888788, 102.64020535, 292.18785480283975, 209.00090072, 1939.731044685756, 537.9418327200002, 316.2499741298353, 296.63147309, 184.6133725, 177.35661473999997, 36.02683121, 93.13938482, 251.30112791000005, 264.60638391000003, 277.74680819, 184.71810585, 333.54514344, 306.80836674000005, 97.21031326, 272.88839464000006, 120.61696576291729, 112.48922431374667, 38.48345662, 84.07827042, 76.39896047559436, 231.0504531408152, 169.90075369, 67.54382747957828, 128.54811, 73.1298905187681, 96.82983940000004, 46.82269581999999, 239.43511976049587, 159.66130888138494, 207.55291871, 231.88838679650902, 121.76149071378524, 218.6920945, 138.2268, 170.8962, 210.9845, 221.21144575, 147.30906668000003, 42.08043284000001, 55.38370710715961, 167.06549453999997, 128.17711813, 58.65406319, 91.39264407000002, 58.17112549, 82.8403714178938, 63.2843693569629, 77.23056684000002, 37.42910573, 19.1806, 49.14804318], \"yaxis\": \"y\"}],\n",
              "                        {\"legend\": {\"tracegroupgap\": 0}, \"margin\": {\"t\": 60}, \"showlegend\": true, \"template\": {\"data\": {\"bar\": [{\"error_x\": {\"color\": \"#2a3f5f\"}, \"error_y\": {\"color\": \"#2a3f5f\"}, \"marker\": {\"line\": {\"color\": \"#E5ECF6\", \"width\": 0.5}}, \"type\": \"bar\"}], \"barpolar\": [{\"marker\": {\"line\": {\"color\": \"#E5ECF6\", \"width\": 0.5}}, \"type\": \"barpolar\"}], \"carpet\": [{\"aaxis\": {\"endlinecolor\": \"#2a3f5f\", \"gridcolor\": \"white\", \"linecolor\": \"white\", \"minorgridcolor\": \"white\", \"startlinecolor\": \"#2a3f5f\"}, \"baxis\": {\"endlinecolor\": \"#2a3f5f\", \"gridcolor\": \"white\", \"linecolor\": \"white\", \"minorgridcolor\": \"white\", \"startlinecolor\": \"#2a3f5f\"}, \"type\": \"carpet\"}], \"choropleth\": [{\"colorbar\": {\"outlinewidth\": 0, \"ticks\": \"\"}, \"type\": \"choropleth\"}], \"contour\": [{\"colorbar\": {\"outlinewidth\": 0, \"ticks\": \"\"}, \"colorscale\": [[0.0, \"#0d0887\"], [0.1111111111111111, \"#46039f\"], [0.2222222222222222, \"#7201a8\"], [0.3333333333333333, \"#9c179e\"], [0.4444444444444444, \"#bd3786\"], [0.5555555555555556, \"#d8576b\"], [0.6666666666666666, \"#ed7953\"], [0.7777777777777778, \"#fb9f3a\"], [0.8888888888888888, \"#fdca26\"], [1.0, \"#f0f921\"]], \"type\": \"contour\"}], \"contourcarpet\": [{\"colorbar\": {\"outlinewidth\": 0, \"ticks\": \"\"}, \"type\": \"contourcarpet\"}], \"heatmap\": [{\"colorbar\": {\"outlinewidth\": 0, \"ticks\": \"\"}, \"colorscale\": [[0.0, \"#0d0887\"], [0.1111111111111111, \"#46039f\"], [0.2222222222222222, \"#7201a8\"], [0.3333333333333333, \"#9c179e\"], [0.4444444444444444, \"#bd3786\"], [0.5555555555555556, \"#d8576b\"], [0.6666666666666666, \"#ed7953\"], [0.7777777777777778, \"#fb9f3a\"], [0.8888888888888888, \"#fdca26\"], [1.0, \"#f0f921\"]], \"type\": \"heatmap\"}], \"heatmapgl\": [{\"colorbar\": {\"outlinewidth\": 0, \"ticks\": \"\"}, \"colorscale\": [[0.0, \"#0d0887\"], [0.1111111111111111, \"#46039f\"], [0.2222222222222222, \"#7201a8\"], [0.3333333333333333, \"#9c179e\"], [0.4444444444444444, \"#bd3786\"], [0.5555555555555556, \"#d8576b\"], [0.6666666666666666, \"#ed7953\"], [0.7777777777777778, \"#fb9f3a\"], [0.8888888888888888, \"#fdca26\"], [1.0, \"#f0f921\"]], \"type\": \"heatmapgl\"}], \"histogram\": [{\"marker\": {\"colorbar\": {\"outlinewidth\": 0, \"ticks\": \"\"}}, \"type\": \"histogram\"}], \"histogram2d\": [{\"colorbar\": {\"outlinewidth\": 0, \"ticks\": \"\"}, \"colorscale\": [[0.0, \"#0d0887\"], [0.1111111111111111, \"#46039f\"], [0.2222222222222222, \"#7201a8\"], [0.3333333333333333, \"#9c179e\"], [0.4444444444444444, \"#bd3786\"], [0.5555555555555556, \"#d8576b\"], [0.6666666666666666, \"#ed7953\"], [0.7777777777777778, \"#fb9f3a\"], [0.8888888888888888, \"#fdca26\"], [1.0, \"#f0f921\"]], \"type\": \"histogram2d\"}], \"histogram2dcontour\": [{\"colorbar\": {\"outlinewidth\": 0, \"ticks\": \"\"}, \"colorscale\": [[0.0, \"#0d0887\"], [0.1111111111111111, \"#46039f\"], [0.2222222222222222, \"#7201a8\"], [0.3333333333333333, \"#9c179e\"], [0.4444444444444444, \"#bd3786\"], [0.5555555555555556, \"#d8576b\"], [0.6666666666666666, \"#ed7953\"], [0.7777777777777778, \"#fb9f3a\"], [0.8888888888888888, \"#fdca26\"], [1.0, \"#f0f921\"]], \"type\": \"histogram2dcontour\"}], \"mesh3d\": [{\"colorbar\": {\"outlinewidth\": 0, \"ticks\": \"\"}, \"type\": \"mesh3d\"}], \"parcoords\": [{\"line\": {\"colorbar\": {\"outlinewidth\": 0, \"ticks\": \"\"}}, \"type\": \"parcoords\"}], \"pie\": [{\"automargin\": true, \"type\": \"pie\"}], \"scatter\": [{\"marker\": {\"colorbar\": {\"outlinewidth\": 0, \"ticks\": \"\"}}, \"type\": \"scatter\"}], \"scatter3d\": [{\"line\": {\"colorbar\": {\"outlinewidth\": 0, \"ticks\": \"\"}}, \"marker\": {\"colorbar\": {\"outlinewidth\": 0, \"ticks\": \"\"}}, \"type\": \"scatter3d\"}], \"scattercarpet\": [{\"marker\": {\"colorbar\": {\"outlinewidth\": 0, \"ticks\": \"\"}}, \"type\": \"scattercarpet\"}], \"scattergeo\": [{\"marker\": {\"colorbar\": {\"outlinewidth\": 0, \"ticks\": \"\"}}, \"type\": \"scattergeo\"}], \"scattergl\": [{\"marker\": {\"colorbar\": {\"outlinewidth\": 0, \"ticks\": \"\"}}, \"type\": \"scattergl\"}], \"scattermapbox\": [{\"marker\": {\"colorbar\": {\"outlinewidth\": 0, \"ticks\": \"\"}}, \"type\": \"scattermapbox\"}], \"scatterpolar\": [{\"marker\": {\"colorbar\": {\"outlinewidth\": 0, \"ticks\": \"\"}}, \"type\": \"scatterpolar\"}], \"scatterpolargl\": [{\"marker\": {\"colorbar\": {\"outlinewidth\": 0, \"ticks\": \"\"}}, \"type\": \"scatterpolargl\"}], \"scatterternary\": [{\"marker\": {\"colorbar\": {\"outlinewidth\": 0, \"ticks\": \"\"}}, \"type\": \"scatterternary\"}], \"surface\": [{\"colorbar\": {\"outlinewidth\": 0, \"ticks\": \"\"}, \"colorscale\": [[0.0, \"#0d0887\"], [0.1111111111111111, \"#46039f\"], [0.2222222222222222, \"#7201a8\"], [0.3333333333333333, \"#9c179e\"], [0.4444444444444444, \"#bd3786\"], [0.5555555555555556, \"#d8576b\"], [0.6666666666666666, \"#ed7953\"], [0.7777777777777778, \"#fb9f3a\"], [0.8888888888888888, \"#fdca26\"], [1.0, \"#f0f921\"]], \"type\": \"surface\"}], \"table\": [{\"cells\": {\"fill\": {\"color\": \"#EBF0F8\"}, \"line\": {\"color\": \"white\"}}, \"header\": {\"fill\": {\"color\": \"#C8D4E3\"}, \"line\": {\"color\": \"white\"}}, \"type\": \"table\"}]}, \"layout\": {\"annotationdefaults\": {\"arrowcolor\": \"#2a3f5f\", \"arrowhead\": 0, \"arrowwidth\": 1}, \"coloraxis\": {\"colorbar\": {\"outlinewidth\": 0, \"ticks\": \"\"}}, \"colorscale\": {\"diverging\": [[0, \"#8e0152\"], [0.1, \"#c51b7d\"], [0.2, \"#de77ae\"], [0.3, \"#f1b6da\"], [0.4, \"#fde0ef\"], [0.5, \"#f7f7f7\"], [0.6, \"#e6f5d0\"], [0.7, \"#b8e186\"], [0.8, \"#7fbc41\"], [0.9, \"#4d9221\"], [1, \"#276419\"]], \"sequential\": [[0.0, \"#0d0887\"], [0.1111111111111111, \"#46039f\"], [0.2222222222222222, \"#7201a8\"], [0.3333333333333333, \"#9c179e\"], [0.4444444444444444, \"#bd3786\"], [0.5555555555555556, \"#d8576b\"], [0.6666666666666666, \"#ed7953\"], [0.7777777777777778, \"#fb9f3a\"], [0.8888888888888888, \"#fdca26\"], [1.0, \"#f0f921\"]], \"sequentialminus\": [[0.0, \"#0d0887\"], [0.1111111111111111, \"#46039f\"], [0.2222222222222222, \"#7201a8\"], [0.3333333333333333, \"#9c179e\"], [0.4444444444444444, \"#bd3786\"], [0.5555555555555556, \"#d8576b\"], [0.6666666666666666, \"#ed7953\"], [0.7777777777777778, \"#fb9f3a\"], [0.8888888888888888, \"#fdca26\"], [1.0, \"#f0f921\"]]}, \"colorway\": [\"#636efa\", \"#EF553B\", \"#00cc96\", \"#ab63fa\", \"#FFA15A\", \"#19d3f3\", \"#FF6692\", \"#B6E880\", \"#FF97FF\", \"#FECB52\"], \"font\": {\"color\": \"#2a3f5f\"}, \"geo\": {\"bgcolor\": \"white\", \"lakecolor\": \"white\", \"landcolor\": \"#E5ECF6\", \"showlakes\": true, \"showland\": true, \"subunitcolor\": \"white\"}, \"hoverlabel\": {\"align\": \"left\"}, \"hovermode\": \"closest\", \"mapbox\": {\"style\": \"light\"}, \"paper_bgcolor\": \"white\", \"plot_bgcolor\": \"#E5ECF6\", \"polar\": {\"angularaxis\": {\"gridcolor\": \"white\", \"linecolor\": \"white\", \"ticks\": \"\"}, \"bgcolor\": \"#E5ECF6\", \"radialaxis\": {\"gridcolor\": \"white\", \"linecolor\": \"white\", \"ticks\": \"\"}}, \"scene\": {\"xaxis\": {\"backgroundcolor\": \"#E5ECF6\", \"gridcolor\": \"white\", \"gridwidth\": 2, \"linecolor\": \"white\", \"showbackground\": true, \"ticks\": \"\", \"zerolinecolor\": \"white\"}, \"yaxis\": {\"backgroundcolor\": \"#E5ECF6\", \"gridcolor\": \"white\", \"gridwidth\": 2, \"linecolor\": \"white\", \"showbackground\": true, \"ticks\": \"\", \"zerolinecolor\": \"white\"}, \"zaxis\": {\"backgroundcolor\": \"#E5ECF6\", \"gridcolor\": \"white\", \"gridwidth\": 2, \"linecolor\": \"white\", \"showbackground\": true, \"ticks\": \"\", \"zerolinecolor\": \"white\"}}, \"shapedefaults\": {\"line\": {\"color\": \"#2a3f5f\"}}, \"ternary\": {\"aaxis\": {\"gridcolor\": \"white\", \"linecolor\": \"white\", \"ticks\": \"\"}, \"baxis\": {\"gridcolor\": \"white\", \"linecolor\": \"white\", \"ticks\": \"\"}, \"bgcolor\": \"#E5ECF6\", \"caxis\": {\"gridcolor\": \"white\", \"linecolor\": \"white\", \"ticks\": \"\"}}, \"title\": {\"x\": 0.05}, \"xaxis\": {\"automargin\": true, \"gridcolor\": \"white\", \"linecolor\": \"white\", \"ticks\": \"\", \"title\": {\"standoff\": 15}, \"zerolinecolor\": \"white\", \"zerolinewidth\": 2}, \"yaxis\": {\"automargin\": true, \"gridcolor\": \"white\", \"linecolor\": \"white\", \"ticks\": \"\", \"title\": {\"standoff\": 15}, \"zerolinecolor\": \"white\", \"zerolinewidth\": 2}}}, \"title\": {\"text\": \"Monero Volume Traded\", \"x\": 0.5, \"xanchor\": \"center\", \"y\": 0.94, \"yanchor\": \"top\"}, \"xaxis\": {\"anchor\": \"y\", \"domain\": [0.0, 1.0], \"rangeslider\": {\"visible\": false}, \"title\": {\"text\": \"Time\"}}, \"yaxis\": {\"anchor\": \"x\", \"domain\": [0.0, 1.0], \"title\": {\"text\": \"Number of trades every minute\"}}},\n",
              "                        {\"responsive\": true}\n",
              "                    ).then(function(){\n",
              "                            \n",
              "var gd = document.getElementById('635a3cd2-9234-42e2-9a09-26002f817ec1');\n",
              "var x = new MutationObserver(function (mutations, observer) {{\n",
              "        var display = window.getComputedStyle(gd).display;\n",
              "        if (!display || display === 'none') {{\n",
              "            console.log([gd, 'removed!']);\n",
              "            Plotly.purge(gd);\n",
              "            observer.disconnect();\n",
              "        }}\n",
              "}});\n",
              "\n",
              "// Listen for the removal of the full notebook cells\n",
              "var notebookContainer = gd.closest('#notebook-container');\n",
              "if (notebookContainer) {{\n",
              "    x.observe(notebookContainer, {childList: true});\n",
              "}}\n",
              "\n",
              "// Listen for the clearing of the current output cell\n",
              "var outputEl = gd.closest('.output');\n",
              "if (outputEl) {{\n",
              "    x.observe(outputEl, {childList: true});\n",
              "}}\n",
              "\n",
              "                        })\n",
              "                };\n",
              "                \n",
              "            </script>\n",
              "        </div>\n",
              "</body>\n",
              "</html>"
            ]
          },
          "metadata": {}
        }
      ]
    },
    {
      "cell_type": "markdown",
      "metadata": {
        "id": "uhiMo3sI19a1"
      },
      "source": [
        "- Stellar"
      ],
      "id": "uhiMo3sI19a1"
    },
    {
      "cell_type": "code",
      "metadata": {
        "colab": {
          "base_uri": "https://localhost:8080/",
          "height": 542
        },
        "id": "31d6f149",
        "outputId": "a62b3457-4577-4798-dd42-898937191bbc"
      },
      "source": [
        "vol_traded(stellar[-60:], \"Stellar\", color=\"Green\")"
      ],
      "id": "31d6f149",
      "execution_count": 39,
      "outputs": [
        {
          "output_type": "display_data",
          "data": {
            "text/html": [
              "<html>\n",
              "<head><meta charset=\"utf-8\" /></head>\n",
              "<body>\n",
              "    <div>\n",
              "            <script src=\"https://cdnjs.cloudflare.com/ajax/libs/mathjax/2.7.5/MathJax.js?config=TeX-AMS-MML_SVG\"></script><script type=\"text/javascript\">if (window.MathJax) {MathJax.Hub.Config({SVG: {font: \"STIX-Web\"}});}</script>\n",
              "                <script type=\"text/javascript\">window.PlotlyConfig = {MathJaxConfig: 'local'};</script>\n",
              "        <script src=\"https://cdn.plot.ly/plotly-latest.min.js\"></script>    \n",
              "            <div id=\"61a1a62c-b067-4eb2-885a-0a96ac4cc0b6\" class=\"plotly-graph-div\" style=\"height:525px; width:100%;\"></div>\n",
              "            <script type=\"text/javascript\">\n",
              "                \n",
              "                    window.PLOTLYENV=window.PLOTLYENV || {};\n",
              "                    \n",
              "                if (document.getElementById(\"61a1a62c-b067-4eb2-885a-0a96ac4cc0b6\")) {\n",
              "                    Plotly.newPlot(\n",
              "                        '61a1a62c-b067-4eb2-885a-0a96ac4cc0b6',\n",
              "                        [{\"hoverlabel\": {\"namelength\": 0}, \"hovertemplate\": \"x=%{x}<br>volume=%{y}\", \"legendgroup\": \"\", \"line\": {\"color\": \"Green\"}, \"mode\": \"lines\", \"name\": \"\", \"orientation\": \"v\", \"showlegend\": false, \"stackgroup\": \"1\", \"type\": \"scatter\", \"x\": [\"2021-09-20T22:45:00\", \"2021-09-20T22:46:00\", \"2021-09-20T22:47:00\", \"2021-09-20T22:48:00\", \"2021-09-20T22:49:00\", \"2021-09-20T22:50:00\", \"2021-09-20T22:51:00\", \"2021-09-20T22:52:00\", \"2021-09-20T22:53:00\", \"2021-09-20T22:54:00\", \"2021-09-20T22:55:00\", \"2021-09-20T22:56:00\", \"2021-09-20T22:57:00\", \"2021-09-20T22:58:00\", \"2021-09-20T22:59:00\", \"2021-09-20T23:00:00\", \"2021-09-20T23:01:00\", \"2021-09-20T23:02:00\", \"2021-09-20T23:03:00\", \"2021-09-20T23:04:00\", \"2021-09-20T23:05:00\", \"2021-09-20T23:06:00\", \"2021-09-20T23:07:00\", \"2021-09-20T23:08:00\", \"2021-09-20T23:09:00\", \"2021-09-20T23:10:00\", \"2021-09-20T23:11:00\", \"2021-09-20T23:12:00\", \"2021-09-20T23:13:00\", \"2021-09-20T23:14:00\", \"2021-09-20T23:15:00\", \"2021-09-20T23:16:00\", \"2021-09-20T23:17:00\", \"2021-09-20T23:18:00\", \"2021-09-20T23:19:00\", \"2021-09-20T23:20:00\", \"2021-09-20T23:21:00\", \"2021-09-20T23:22:00\", \"2021-09-20T23:23:00\", \"2021-09-20T23:24:00\", \"2021-09-20T23:25:00\", \"2021-09-20T23:26:00\", \"2021-09-20T23:27:00\", \"2021-09-20T23:28:00\", \"2021-09-20T23:29:00\", \"2021-09-20T23:30:00\", \"2021-09-20T23:31:00\", \"2021-09-20T23:32:00\", \"2021-09-20T23:33:00\", \"2021-09-20T23:34:00\", \"2021-09-20T23:35:00\", \"2021-09-20T23:36:00\", \"2021-09-20T23:37:00\", \"2021-09-20T23:38:00\", \"2021-09-20T23:39:00\", \"2021-09-20T23:40:00\", \"2021-09-20T23:41:00\", \"2021-09-20T23:42:00\", \"2021-09-20T23:43:00\", \"2021-09-20T23:44:00\"], \"xaxis\": \"x\", \"y\": [110564.47930748, 163510.72811223002, 551867.0571243152, 166235.23728565694, 379211.28984468814, 887778.58480504, 869051.7480261717, 299946.28154104005, 623978.511492426, 1605903.7966117796, 447279.32581185905, 238244.2408275161, 218409.0679512, 206201.13301797, 138870.2436476, 148307.88806838, 152863.55524987, 563803.3628239468, 233407.99091025, 347618.19898899, 781354.6684098499, 318783.10753695003, 325840.86087334005, 150378.75225597, 269928.44322167, 591714.4680033099, 592600.6205596171, 677046.20917277, 681711.4110454302, 660373.4288520418, 1092565.2710690505, 1352564.9601806402, 793241.17439147, 402034.56878952, 534895.9278228775, 284058.65005872, 182651.89818121586, 299004.5484420034, 391578.5112579949, 257025.9279579, 487155.203924465, 277327.18033823126, 326485.64420000004, 236196.6267468829, 56752.7487, 325031.83624595, 310539.5003419409, 283287.19127275073, 416188.2384873786, 212865.87157636747, 300102.46787609, 621896.8379766132, 361963.98289237, 177894.35073515796, 277064.93086631, 650577.3257799699, 572937.8789344664, 368763.57473908, 264667.03787858004, 162869.90961818], \"yaxis\": \"y\"}],\n",
              "                        {\"legend\": {\"tracegroupgap\": 0}, \"margin\": {\"t\": 60}, \"showlegend\": true, \"template\": {\"data\": {\"bar\": [{\"error_x\": {\"color\": \"#2a3f5f\"}, \"error_y\": {\"color\": \"#2a3f5f\"}, \"marker\": {\"line\": {\"color\": \"#E5ECF6\", \"width\": 0.5}}, \"type\": \"bar\"}], \"barpolar\": [{\"marker\": {\"line\": {\"color\": \"#E5ECF6\", \"width\": 0.5}}, \"type\": \"barpolar\"}], \"carpet\": [{\"aaxis\": {\"endlinecolor\": \"#2a3f5f\", \"gridcolor\": \"white\", \"linecolor\": \"white\", \"minorgridcolor\": \"white\", \"startlinecolor\": \"#2a3f5f\"}, \"baxis\": {\"endlinecolor\": \"#2a3f5f\", \"gridcolor\": \"white\", \"linecolor\": \"white\", \"minorgridcolor\": \"white\", \"startlinecolor\": \"#2a3f5f\"}, \"type\": \"carpet\"}], \"choropleth\": [{\"colorbar\": {\"outlinewidth\": 0, \"ticks\": \"\"}, \"type\": \"choropleth\"}], \"contour\": [{\"colorbar\": {\"outlinewidth\": 0, \"ticks\": \"\"}, \"colorscale\": [[0.0, \"#0d0887\"], [0.1111111111111111, \"#46039f\"], [0.2222222222222222, \"#7201a8\"], [0.3333333333333333, \"#9c179e\"], [0.4444444444444444, \"#bd3786\"], [0.5555555555555556, \"#d8576b\"], [0.6666666666666666, \"#ed7953\"], [0.7777777777777778, \"#fb9f3a\"], [0.8888888888888888, \"#fdca26\"], [1.0, \"#f0f921\"]], \"type\": \"contour\"}], \"contourcarpet\": [{\"colorbar\": {\"outlinewidth\": 0, \"ticks\": \"\"}, \"type\": \"contourcarpet\"}], \"heatmap\": [{\"colorbar\": {\"outlinewidth\": 0, \"ticks\": \"\"}, \"colorscale\": [[0.0, \"#0d0887\"], [0.1111111111111111, \"#46039f\"], [0.2222222222222222, \"#7201a8\"], [0.3333333333333333, \"#9c179e\"], [0.4444444444444444, \"#bd3786\"], [0.5555555555555556, \"#d8576b\"], [0.6666666666666666, \"#ed7953\"], [0.7777777777777778, \"#fb9f3a\"], [0.8888888888888888, \"#fdca26\"], [1.0, \"#f0f921\"]], \"type\": \"heatmap\"}], \"heatmapgl\": [{\"colorbar\": {\"outlinewidth\": 0, \"ticks\": \"\"}, \"colorscale\": [[0.0, \"#0d0887\"], [0.1111111111111111, \"#46039f\"], [0.2222222222222222, \"#7201a8\"], [0.3333333333333333, \"#9c179e\"], [0.4444444444444444, \"#bd3786\"], [0.5555555555555556, \"#d8576b\"], [0.6666666666666666, \"#ed7953\"], [0.7777777777777778, \"#fb9f3a\"], [0.8888888888888888, \"#fdca26\"], [1.0, \"#f0f921\"]], \"type\": \"heatmapgl\"}], \"histogram\": [{\"marker\": {\"colorbar\": {\"outlinewidth\": 0, \"ticks\": \"\"}}, \"type\": \"histogram\"}], \"histogram2d\": [{\"colorbar\": {\"outlinewidth\": 0, \"ticks\": \"\"}, \"colorscale\": [[0.0, \"#0d0887\"], [0.1111111111111111, \"#46039f\"], [0.2222222222222222, \"#7201a8\"], [0.3333333333333333, \"#9c179e\"], [0.4444444444444444, \"#bd3786\"], [0.5555555555555556, \"#d8576b\"], [0.6666666666666666, \"#ed7953\"], [0.7777777777777778, \"#fb9f3a\"], [0.8888888888888888, \"#fdca26\"], [1.0, \"#f0f921\"]], \"type\": \"histogram2d\"}], \"histogram2dcontour\": [{\"colorbar\": {\"outlinewidth\": 0, \"ticks\": \"\"}, \"colorscale\": [[0.0, \"#0d0887\"], [0.1111111111111111, \"#46039f\"], [0.2222222222222222, \"#7201a8\"], [0.3333333333333333, \"#9c179e\"], [0.4444444444444444, \"#bd3786\"], [0.5555555555555556, \"#d8576b\"], [0.6666666666666666, \"#ed7953\"], [0.7777777777777778, \"#fb9f3a\"], [0.8888888888888888, \"#fdca26\"], [1.0, \"#f0f921\"]], \"type\": \"histogram2dcontour\"}], \"mesh3d\": [{\"colorbar\": {\"outlinewidth\": 0, \"ticks\": \"\"}, \"type\": \"mesh3d\"}], \"parcoords\": [{\"line\": {\"colorbar\": {\"outlinewidth\": 0, \"ticks\": \"\"}}, \"type\": \"parcoords\"}], \"pie\": [{\"automargin\": true, \"type\": \"pie\"}], \"scatter\": [{\"marker\": {\"colorbar\": {\"outlinewidth\": 0, \"ticks\": \"\"}}, \"type\": \"scatter\"}], \"scatter3d\": [{\"line\": {\"colorbar\": {\"outlinewidth\": 0, \"ticks\": \"\"}}, \"marker\": {\"colorbar\": {\"outlinewidth\": 0, \"ticks\": \"\"}}, \"type\": \"scatter3d\"}], \"scattercarpet\": [{\"marker\": {\"colorbar\": {\"outlinewidth\": 0, \"ticks\": \"\"}}, \"type\": \"scattercarpet\"}], \"scattergeo\": [{\"marker\": {\"colorbar\": {\"outlinewidth\": 0, \"ticks\": \"\"}}, \"type\": \"scattergeo\"}], \"scattergl\": [{\"marker\": {\"colorbar\": {\"outlinewidth\": 0, \"ticks\": \"\"}}, \"type\": \"scattergl\"}], \"scattermapbox\": [{\"marker\": {\"colorbar\": {\"outlinewidth\": 0, \"ticks\": \"\"}}, \"type\": \"scattermapbox\"}], \"scatterpolar\": [{\"marker\": {\"colorbar\": {\"outlinewidth\": 0, \"ticks\": \"\"}}, \"type\": \"scatterpolar\"}], \"scatterpolargl\": [{\"marker\": {\"colorbar\": {\"outlinewidth\": 0, \"ticks\": \"\"}}, \"type\": \"scatterpolargl\"}], \"scatterternary\": [{\"marker\": {\"colorbar\": {\"outlinewidth\": 0, \"ticks\": \"\"}}, \"type\": \"scatterternary\"}], \"surface\": [{\"colorbar\": {\"outlinewidth\": 0, \"ticks\": \"\"}, \"colorscale\": [[0.0, \"#0d0887\"], [0.1111111111111111, \"#46039f\"], [0.2222222222222222, \"#7201a8\"], [0.3333333333333333, \"#9c179e\"], [0.4444444444444444, \"#bd3786\"], [0.5555555555555556, \"#d8576b\"], [0.6666666666666666, \"#ed7953\"], [0.7777777777777778, \"#fb9f3a\"], [0.8888888888888888, \"#fdca26\"], [1.0, \"#f0f921\"]], \"type\": \"surface\"}], \"table\": [{\"cells\": {\"fill\": {\"color\": \"#EBF0F8\"}, \"line\": {\"color\": \"white\"}}, \"header\": {\"fill\": {\"color\": \"#C8D4E3\"}, \"line\": {\"color\": \"white\"}}, \"type\": \"table\"}]}, \"layout\": {\"annotationdefaults\": {\"arrowcolor\": \"#2a3f5f\", \"arrowhead\": 0, \"arrowwidth\": 1}, \"coloraxis\": {\"colorbar\": {\"outlinewidth\": 0, \"ticks\": \"\"}}, \"colorscale\": {\"diverging\": [[0, \"#8e0152\"], [0.1, \"#c51b7d\"], [0.2, \"#de77ae\"], [0.3, \"#f1b6da\"], [0.4, \"#fde0ef\"], [0.5, \"#f7f7f7\"], [0.6, \"#e6f5d0\"], [0.7, \"#b8e186\"], [0.8, \"#7fbc41\"], [0.9, \"#4d9221\"], [1, \"#276419\"]], \"sequential\": [[0.0, \"#0d0887\"], [0.1111111111111111, \"#46039f\"], [0.2222222222222222, \"#7201a8\"], [0.3333333333333333, \"#9c179e\"], [0.4444444444444444, \"#bd3786\"], [0.5555555555555556, \"#d8576b\"], [0.6666666666666666, \"#ed7953\"], [0.7777777777777778, \"#fb9f3a\"], [0.8888888888888888, \"#fdca26\"], [1.0, \"#f0f921\"]], \"sequentialminus\": [[0.0, \"#0d0887\"], [0.1111111111111111, \"#46039f\"], [0.2222222222222222, \"#7201a8\"], [0.3333333333333333, \"#9c179e\"], [0.4444444444444444, \"#bd3786\"], [0.5555555555555556, \"#d8576b\"], [0.6666666666666666, \"#ed7953\"], [0.7777777777777778, \"#fb9f3a\"], [0.8888888888888888, \"#fdca26\"], [1.0, \"#f0f921\"]]}, \"colorway\": [\"#636efa\", \"#EF553B\", \"#00cc96\", \"#ab63fa\", \"#FFA15A\", \"#19d3f3\", \"#FF6692\", \"#B6E880\", \"#FF97FF\", \"#FECB52\"], \"font\": {\"color\": \"#2a3f5f\"}, \"geo\": {\"bgcolor\": \"white\", \"lakecolor\": \"white\", \"landcolor\": \"#E5ECF6\", \"showlakes\": true, \"showland\": true, \"subunitcolor\": \"white\"}, \"hoverlabel\": {\"align\": \"left\"}, \"hovermode\": \"closest\", \"mapbox\": {\"style\": \"light\"}, \"paper_bgcolor\": \"white\", \"plot_bgcolor\": \"#E5ECF6\", \"polar\": {\"angularaxis\": {\"gridcolor\": \"white\", \"linecolor\": \"white\", \"ticks\": \"\"}, \"bgcolor\": \"#E5ECF6\", \"radialaxis\": {\"gridcolor\": \"white\", \"linecolor\": \"white\", \"ticks\": \"\"}}, \"scene\": {\"xaxis\": {\"backgroundcolor\": \"#E5ECF6\", \"gridcolor\": \"white\", \"gridwidth\": 2, \"linecolor\": \"white\", \"showbackground\": true, \"ticks\": \"\", \"zerolinecolor\": \"white\"}, \"yaxis\": {\"backgroundcolor\": \"#E5ECF6\", \"gridcolor\": \"white\", \"gridwidth\": 2, \"linecolor\": \"white\", \"showbackground\": true, \"ticks\": \"\", \"zerolinecolor\": \"white\"}, \"zaxis\": {\"backgroundcolor\": \"#E5ECF6\", \"gridcolor\": \"white\", \"gridwidth\": 2, \"linecolor\": \"white\", \"showbackground\": true, \"ticks\": \"\", \"zerolinecolor\": \"white\"}}, \"shapedefaults\": {\"line\": {\"color\": \"#2a3f5f\"}}, \"ternary\": {\"aaxis\": {\"gridcolor\": \"white\", \"linecolor\": \"white\", \"ticks\": \"\"}, \"baxis\": {\"gridcolor\": \"white\", \"linecolor\": \"white\", \"ticks\": \"\"}, \"bgcolor\": \"#E5ECF6\", \"caxis\": {\"gridcolor\": \"white\", \"linecolor\": \"white\", \"ticks\": \"\"}}, \"title\": {\"x\": 0.05}, \"xaxis\": {\"automargin\": true, \"gridcolor\": \"white\", \"linecolor\": \"white\", \"ticks\": \"\", \"title\": {\"standoff\": 15}, \"zerolinecolor\": \"white\", \"zerolinewidth\": 2}, \"yaxis\": {\"automargin\": true, \"gridcolor\": \"white\", \"linecolor\": \"white\", \"ticks\": \"\", \"title\": {\"standoff\": 15}, \"zerolinecolor\": \"white\", \"zerolinewidth\": 2}}}, \"title\": {\"text\": \"Stellar Volume Traded\", \"x\": 0.5, \"xanchor\": \"center\", \"y\": 0.94, \"yanchor\": \"top\"}, \"xaxis\": {\"anchor\": \"y\", \"domain\": [0.0, 1.0], \"rangeslider\": {\"visible\": false}, \"title\": {\"text\": \"Time\"}}, \"yaxis\": {\"anchor\": \"x\", \"domain\": [0.0, 1.0], \"title\": {\"text\": \"Number of trades every minute\"}}},\n",
              "                        {\"responsive\": true}\n",
              "                    ).then(function(){\n",
              "                            \n",
              "var gd = document.getElementById('61a1a62c-b067-4eb2-885a-0a96ac4cc0b6');\n",
              "var x = new MutationObserver(function (mutations, observer) {{\n",
              "        var display = window.getComputedStyle(gd).display;\n",
              "        if (!display || display === 'none') {{\n",
              "            console.log([gd, 'removed!']);\n",
              "            Plotly.purge(gd);\n",
              "            observer.disconnect();\n",
              "        }}\n",
              "}});\n",
              "\n",
              "// Listen for the removal of the full notebook cells\n",
              "var notebookContainer = gd.closest('#notebook-container');\n",
              "if (notebookContainer) {{\n",
              "    x.observe(notebookContainer, {childList: true});\n",
              "}}\n",
              "\n",
              "// Listen for the clearing of the current output cell\n",
              "var outputEl = gd.closest('.output');\n",
              "if (outputEl) {{\n",
              "    x.observe(outputEl, {childList: true});\n",
              "}}\n",
              "\n",
              "                        })\n",
              "                };\n",
              "                \n",
              "            </script>\n",
              "        </div>\n",
              "</body>\n",
              "</html>"
            ]
          },
          "metadata": {}
        }
      ]
    },
    {
      "cell_type": "markdown",
      "metadata": {
        "id": "dNiLtVYi1__u"
      },
      "source": [
        "- TRON"
      ],
      "id": "dNiLtVYi1__u"
    },
    {
      "cell_type": "code",
      "metadata": {
        "colab": {
          "base_uri": "https://localhost:8080/",
          "height": 542
        },
        "id": "11cd3a7c",
        "outputId": "d5b2dbc6-cff7-4479-bc1f-323e1a6b664e"
      },
      "source": [
        "vol_traded(tron[-60:], \"TRON\", color=\"Blue\")"
      ],
      "id": "11cd3a7c",
      "execution_count": 40,
      "outputs": [
        {
          "output_type": "display_data",
          "data": {
            "text/html": [
              "<html>\n",
              "<head><meta charset=\"utf-8\" /></head>\n",
              "<body>\n",
              "    <div>\n",
              "            <script src=\"https://cdnjs.cloudflare.com/ajax/libs/mathjax/2.7.5/MathJax.js?config=TeX-AMS-MML_SVG\"></script><script type=\"text/javascript\">if (window.MathJax) {MathJax.Hub.Config({SVG: {font: \"STIX-Web\"}});}</script>\n",
              "                <script type=\"text/javascript\">window.PlotlyConfig = {MathJaxConfig: 'local'};</script>\n",
              "        <script src=\"https://cdn.plot.ly/plotly-latest.min.js\"></script>    \n",
              "            <div id=\"10a97860-8bf3-4ead-b79b-bd311a60376d\" class=\"plotly-graph-div\" style=\"height:525px; width:100%;\"></div>\n",
              "            <script type=\"text/javascript\">\n",
              "                \n",
              "                    window.PLOTLYENV=window.PLOTLYENV || {};\n",
              "                    \n",
              "                if (document.getElementById(\"10a97860-8bf3-4ead-b79b-bd311a60376d\")) {\n",
              "                    Plotly.newPlot(\n",
              "                        '10a97860-8bf3-4ead-b79b-bd311a60376d',\n",
              "                        [{\"hoverlabel\": {\"namelength\": 0}, \"hovertemplate\": \"x=%{x}<br>volume=%{y}\", \"legendgroup\": \"\", \"line\": {\"color\": \"Blue\"}, \"mode\": \"lines\", \"name\": \"\", \"orientation\": \"v\", \"showlegend\": false, \"stackgroup\": \"1\", \"type\": \"scatter\", \"x\": [\"2021-09-20T22:45:00\", \"2021-09-20T22:46:00\", \"2021-09-20T22:47:00\", \"2021-09-20T22:48:00\", \"2021-09-20T22:49:00\", \"2021-09-20T22:50:00\", \"2021-09-20T22:51:00\", \"2021-09-20T22:52:00\", \"2021-09-20T22:53:00\", \"2021-09-20T22:54:00\", \"2021-09-20T22:55:00\", \"2021-09-20T22:56:00\", \"2021-09-20T22:57:00\", \"2021-09-20T22:58:00\", \"2021-09-20T22:59:00\", \"2021-09-20T23:00:00\", \"2021-09-20T23:01:00\", \"2021-09-20T23:02:00\", \"2021-09-20T23:03:00\", \"2021-09-20T23:04:00\", \"2021-09-20T23:05:00\", \"2021-09-20T23:06:00\", \"2021-09-20T23:07:00\", \"2021-09-20T23:08:00\", \"2021-09-20T23:09:00\", \"2021-09-20T23:10:00\", \"2021-09-20T23:11:00\", \"2021-09-20T23:12:00\", \"2021-09-20T23:13:00\", \"2021-09-20T23:14:00\", \"2021-09-20T23:15:00\", \"2021-09-20T23:16:00\", \"2021-09-20T23:17:00\", \"2021-09-20T23:18:00\", \"2021-09-20T23:19:00\", \"2021-09-20T23:20:00\", \"2021-09-20T23:21:00\", \"2021-09-20T23:22:00\", \"2021-09-20T23:23:00\", \"2021-09-20T23:24:00\", \"2021-09-20T23:25:00\", \"2021-09-20T23:26:00\", \"2021-09-20T23:27:00\", \"2021-09-20T23:28:00\", \"2021-09-20T23:29:00\", \"2021-09-20T23:30:00\", \"2021-09-20T23:31:00\", \"2021-09-20T23:32:00\", \"2021-09-20T23:33:00\", \"2021-09-20T23:34:00\", \"2021-09-20T23:35:00\", \"2021-09-20T23:36:00\", \"2021-09-20T23:37:00\", \"2021-09-20T23:38:00\", \"2021-09-20T23:39:00\", \"2021-09-20T23:40:00\", \"2021-09-20T23:41:00\", \"2021-09-20T23:42:00\", \"2021-09-20T23:43:00\", \"2021-09-20T23:44:00\"], \"xaxis\": \"x\", \"y\": [1830639.71291354, 4056393.125058865, 3435914.6456647418, 3454601.350405478, 5040475.445785836, 5316955.405737025, 4111666.318206789, 4035573.6178288762, 2796225.4091431, 6841390.331051385, 4283798.335877426, 4074420.248248271, 4111566.428959308, 2302040.272629729, 2025301.5293411831, 3979591.749472648, 2824429.530883048, 3186952.042193183, 4689228.009209909, 3591366.2371956035, 3483080.3292483813, 4126022.156208367, 2126641.9349434464, 3838767.3546889694, 3947643.9489763407, 3991424.157999958, 2707576.826056112, 3830444.941210197, 2477297.2687571584, 2499072.808833437, 3976798.962710581, 3594868.651467272, 2316921.7048745085, 2689072.530641746, 2160476.512401169, 2869493.118508473, 7344320.053360548, 3154039.8131346363, 4422839.146012975, 5339799.0925416285, 9136048.488452112, 6341317.56894696, 5609419.296118186, 5139202.924373432, 4747523.600493853, 6458527.271341617, 5057470.365318436, 3268135.549049768, 6158819.094336027, 3268326.6734377663, 4118120.916901605, 2844855.007022927, 3385969.3650065963, 2465231.5977108283, 4364266.33339253, 5734456.085302254, 1989047.7864959368, 2386078.3941800864, 1568853.8166504516, 1900695.4440000001], \"yaxis\": \"y\"}],\n",
              "                        {\"legend\": {\"tracegroupgap\": 0}, \"margin\": {\"t\": 60}, \"showlegend\": true, \"template\": {\"data\": {\"bar\": [{\"error_x\": {\"color\": \"#2a3f5f\"}, \"error_y\": {\"color\": \"#2a3f5f\"}, \"marker\": {\"line\": {\"color\": \"#E5ECF6\", \"width\": 0.5}}, \"type\": \"bar\"}], \"barpolar\": [{\"marker\": {\"line\": {\"color\": \"#E5ECF6\", \"width\": 0.5}}, \"type\": \"barpolar\"}], \"carpet\": [{\"aaxis\": {\"endlinecolor\": \"#2a3f5f\", \"gridcolor\": \"white\", \"linecolor\": \"white\", \"minorgridcolor\": \"white\", \"startlinecolor\": \"#2a3f5f\"}, \"baxis\": {\"endlinecolor\": \"#2a3f5f\", \"gridcolor\": \"white\", \"linecolor\": \"white\", \"minorgridcolor\": \"white\", \"startlinecolor\": \"#2a3f5f\"}, \"type\": \"carpet\"}], \"choropleth\": [{\"colorbar\": {\"outlinewidth\": 0, \"ticks\": \"\"}, \"type\": \"choropleth\"}], \"contour\": [{\"colorbar\": {\"outlinewidth\": 0, \"ticks\": \"\"}, \"colorscale\": [[0.0, \"#0d0887\"], [0.1111111111111111, \"#46039f\"], [0.2222222222222222, \"#7201a8\"], [0.3333333333333333, \"#9c179e\"], [0.4444444444444444, \"#bd3786\"], [0.5555555555555556, \"#d8576b\"], [0.6666666666666666, \"#ed7953\"], [0.7777777777777778, \"#fb9f3a\"], [0.8888888888888888, \"#fdca26\"], [1.0, \"#f0f921\"]], \"type\": \"contour\"}], \"contourcarpet\": [{\"colorbar\": {\"outlinewidth\": 0, \"ticks\": \"\"}, \"type\": \"contourcarpet\"}], \"heatmap\": [{\"colorbar\": {\"outlinewidth\": 0, \"ticks\": \"\"}, \"colorscale\": [[0.0, \"#0d0887\"], [0.1111111111111111, \"#46039f\"], [0.2222222222222222, \"#7201a8\"], [0.3333333333333333, \"#9c179e\"], [0.4444444444444444, \"#bd3786\"], [0.5555555555555556, \"#d8576b\"], [0.6666666666666666, \"#ed7953\"], [0.7777777777777778, \"#fb9f3a\"], [0.8888888888888888, \"#fdca26\"], [1.0, \"#f0f921\"]], \"type\": \"heatmap\"}], \"heatmapgl\": [{\"colorbar\": {\"outlinewidth\": 0, \"ticks\": \"\"}, \"colorscale\": [[0.0, \"#0d0887\"], [0.1111111111111111, \"#46039f\"], [0.2222222222222222, \"#7201a8\"], [0.3333333333333333, \"#9c179e\"], [0.4444444444444444, \"#bd3786\"], [0.5555555555555556, \"#d8576b\"], [0.6666666666666666, \"#ed7953\"], [0.7777777777777778, \"#fb9f3a\"], [0.8888888888888888, \"#fdca26\"], [1.0, \"#f0f921\"]], \"type\": \"heatmapgl\"}], \"histogram\": [{\"marker\": {\"colorbar\": {\"outlinewidth\": 0, \"ticks\": \"\"}}, \"type\": \"histogram\"}], \"histogram2d\": [{\"colorbar\": {\"outlinewidth\": 0, \"ticks\": \"\"}, \"colorscale\": [[0.0, \"#0d0887\"], [0.1111111111111111, \"#46039f\"], [0.2222222222222222, \"#7201a8\"], [0.3333333333333333, \"#9c179e\"], [0.4444444444444444, \"#bd3786\"], [0.5555555555555556, \"#d8576b\"], [0.6666666666666666, \"#ed7953\"], [0.7777777777777778, \"#fb9f3a\"], [0.8888888888888888, \"#fdca26\"], [1.0, \"#f0f921\"]], \"type\": \"histogram2d\"}], \"histogram2dcontour\": [{\"colorbar\": {\"outlinewidth\": 0, \"ticks\": \"\"}, \"colorscale\": [[0.0, \"#0d0887\"], [0.1111111111111111, \"#46039f\"], [0.2222222222222222, \"#7201a8\"], [0.3333333333333333, \"#9c179e\"], [0.4444444444444444, \"#bd3786\"], [0.5555555555555556, \"#d8576b\"], [0.6666666666666666, \"#ed7953\"], [0.7777777777777778, \"#fb9f3a\"], [0.8888888888888888, \"#fdca26\"], [1.0, \"#f0f921\"]], \"type\": \"histogram2dcontour\"}], \"mesh3d\": [{\"colorbar\": {\"outlinewidth\": 0, \"ticks\": \"\"}, \"type\": \"mesh3d\"}], \"parcoords\": [{\"line\": {\"colorbar\": {\"outlinewidth\": 0, \"ticks\": \"\"}}, \"type\": \"parcoords\"}], \"pie\": [{\"automargin\": true, \"type\": \"pie\"}], \"scatter\": [{\"marker\": {\"colorbar\": {\"outlinewidth\": 0, \"ticks\": \"\"}}, \"type\": \"scatter\"}], \"scatter3d\": [{\"line\": {\"colorbar\": {\"outlinewidth\": 0, \"ticks\": \"\"}}, \"marker\": {\"colorbar\": {\"outlinewidth\": 0, \"ticks\": \"\"}}, \"type\": \"scatter3d\"}], \"scattercarpet\": [{\"marker\": {\"colorbar\": {\"outlinewidth\": 0, \"ticks\": \"\"}}, \"type\": \"scattercarpet\"}], \"scattergeo\": [{\"marker\": {\"colorbar\": {\"outlinewidth\": 0, \"ticks\": \"\"}}, \"type\": \"scattergeo\"}], \"scattergl\": [{\"marker\": {\"colorbar\": {\"outlinewidth\": 0, \"ticks\": \"\"}}, \"type\": \"scattergl\"}], \"scattermapbox\": [{\"marker\": {\"colorbar\": {\"outlinewidth\": 0, \"ticks\": \"\"}}, \"type\": \"scattermapbox\"}], \"scatterpolar\": [{\"marker\": {\"colorbar\": {\"outlinewidth\": 0, \"ticks\": \"\"}}, \"type\": \"scatterpolar\"}], \"scatterpolargl\": [{\"marker\": {\"colorbar\": {\"outlinewidth\": 0, \"ticks\": \"\"}}, \"type\": \"scatterpolargl\"}], \"scatterternary\": [{\"marker\": {\"colorbar\": {\"outlinewidth\": 0, \"ticks\": \"\"}}, \"type\": \"scatterternary\"}], \"surface\": [{\"colorbar\": {\"outlinewidth\": 0, \"ticks\": \"\"}, \"colorscale\": [[0.0, \"#0d0887\"], [0.1111111111111111, \"#46039f\"], [0.2222222222222222, \"#7201a8\"], [0.3333333333333333, \"#9c179e\"], [0.4444444444444444, \"#bd3786\"], [0.5555555555555556, \"#d8576b\"], [0.6666666666666666, \"#ed7953\"], [0.7777777777777778, \"#fb9f3a\"], [0.8888888888888888, \"#fdca26\"], [1.0, \"#f0f921\"]], \"type\": \"surface\"}], \"table\": [{\"cells\": {\"fill\": {\"color\": \"#EBF0F8\"}, \"line\": {\"color\": \"white\"}}, \"header\": {\"fill\": {\"color\": \"#C8D4E3\"}, \"line\": {\"color\": \"white\"}}, \"type\": \"table\"}]}, \"layout\": {\"annotationdefaults\": {\"arrowcolor\": \"#2a3f5f\", \"arrowhead\": 0, \"arrowwidth\": 1}, \"coloraxis\": {\"colorbar\": {\"outlinewidth\": 0, \"ticks\": \"\"}}, \"colorscale\": {\"diverging\": [[0, \"#8e0152\"], [0.1, \"#c51b7d\"], [0.2, \"#de77ae\"], [0.3, \"#f1b6da\"], [0.4, \"#fde0ef\"], [0.5, \"#f7f7f7\"], [0.6, \"#e6f5d0\"], [0.7, \"#b8e186\"], [0.8, \"#7fbc41\"], [0.9, \"#4d9221\"], [1, \"#276419\"]], \"sequential\": [[0.0, \"#0d0887\"], [0.1111111111111111, \"#46039f\"], [0.2222222222222222, \"#7201a8\"], [0.3333333333333333, \"#9c179e\"], [0.4444444444444444, \"#bd3786\"], [0.5555555555555556, \"#d8576b\"], [0.6666666666666666, \"#ed7953\"], [0.7777777777777778, \"#fb9f3a\"], [0.8888888888888888, \"#fdca26\"], [1.0, \"#f0f921\"]], \"sequentialminus\": [[0.0, \"#0d0887\"], [0.1111111111111111, \"#46039f\"], [0.2222222222222222, \"#7201a8\"], [0.3333333333333333, \"#9c179e\"], [0.4444444444444444, \"#bd3786\"], [0.5555555555555556, \"#d8576b\"], [0.6666666666666666, \"#ed7953\"], [0.7777777777777778, \"#fb9f3a\"], [0.8888888888888888, \"#fdca26\"], [1.0, \"#f0f921\"]]}, \"colorway\": [\"#636efa\", \"#EF553B\", \"#00cc96\", \"#ab63fa\", \"#FFA15A\", \"#19d3f3\", \"#FF6692\", \"#B6E880\", \"#FF97FF\", \"#FECB52\"], \"font\": {\"color\": \"#2a3f5f\"}, \"geo\": {\"bgcolor\": \"white\", \"lakecolor\": \"white\", \"landcolor\": \"#E5ECF6\", \"showlakes\": true, \"showland\": true, \"subunitcolor\": \"white\"}, \"hoverlabel\": {\"align\": \"left\"}, \"hovermode\": \"closest\", \"mapbox\": {\"style\": \"light\"}, \"paper_bgcolor\": \"white\", \"plot_bgcolor\": \"#E5ECF6\", \"polar\": {\"angularaxis\": {\"gridcolor\": \"white\", \"linecolor\": \"white\", \"ticks\": \"\"}, \"bgcolor\": \"#E5ECF6\", \"radialaxis\": {\"gridcolor\": \"white\", \"linecolor\": \"white\", \"ticks\": \"\"}}, \"scene\": {\"xaxis\": {\"backgroundcolor\": \"#E5ECF6\", \"gridcolor\": \"white\", \"gridwidth\": 2, \"linecolor\": \"white\", \"showbackground\": true, \"ticks\": \"\", \"zerolinecolor\": \"white\"}, \"yaxis\": {\"backgroundcolor\": \"#E5ECF6\", \"gridcolor\": \"white\", \"gridwidth\": 2, \"linecolor\": \"white\", \"showbackground\": true, \"ticks\": \"\", \"zerolinecolor\": \"white\"}, \"zaxis\": {\"backgroundcolor\": \"#E5ECF6\", \"gridcolor\": \"white\", \"gridwidth\": 2, \"linecolor\": \"white\", \"showbackground\": true, \"ticks\": \"\", \"zerolinecolor\": \"white\"}}, \"shapedefaults\": {\"line\": {\"color\": \"#2a3f5f\"}}, \"ternary\": {\"aaxis\": {\"gridcolor\": \"white\", \"linecolor\": \"white\", \"ticks\": \"\"}, \"baxis\": {\"gridcolor\": \"white\", \"linecolor\": \"white\", \"ticks\": \"\"}, \"bgcolor\": \"#E5ECF6\", \"caxis\": {\"gridcolor\": \"white\", \"linecolor\": \"white\", \"ticks\": \"\"}}, \"title\": {\"x\": 0.05}, \"xaxis\": {\"automargin\": true, \"gridcolor\": \"white\", \"linecolor\": \"white\", \"ticks\": \"\", \"title\": {\"standoff\": 15}, \"zerolinecolor\": \"white\", \"zerolinewidth\": 2}, \"yaxis\": {\"automargin\": true, \"gridcolor\": \"white\", \"linecolor\": \"white\", \"ticks\": \"\", \"title\": {\"standoff\": 15}, \"zerolinecolor\": \"white\", \"zerolinewidth\": 2}}}, \"title\": {\"text\": \"TRON Volume Traded\", \"x\": 0.5, \"xanchor\": \"center\", \"y\": 0.94, \"yanchor\": \"top\"}, \"xaxis\": {\"anchor\": \"y\", \"domain\": [0.0, 1.0], \"rangeslider\": {\"visible\": false}, \"title\": {\"text\": \"Time\"}}, \"yaxis\": {\"anchor\": \"x\", \"domain\": [0.0, 1.0], \"title\": {\"text\": \"Number of trades every minute\"}}},\n",
              "                        {\"responsive\": true}\n",
              "                    ).then(function(){\n",
              "                            \n",
              "var gd = document.getElementById('10a97860-8bf3-4ead-b79b-bd311a60376d');\n",
              "var x = new MutationObserver(function (mutations, observer) {{\n",
              "        var display = window.getComputedStyle(gd).display;\n",
              "        if (!display || display === 'none') {{\n",
              "            console.log([gd, 'removed!']);\n",
              "            Plotly.purge(gd);\n",
              "            observer.disconnect();\n",
              "        }}\n",
              "}});\n",
              "\n",
              "// Listen for the removal of the full notebook cells\n",
              "var notebookContainer = gd.closest('#notebook-container');\n",
              "if (notebookContainer) {{\n",
              "    x.observe(notebookContainer, {childList: true});\n",
              "}}\n",
              "\n",
              "// Listen for the clearing of the current output cell\n",
              "var outputEl = gd.closest('.output');\n",
              "if (outputEl) {{\n",
              "    x.observe(outputEl, {childList: true});\n",
              "}}\n",
              "\n",
              "                        })\n",
              "                };\n",
              "                \n",
              "            </script>\n",
              "        </div>\n",
              "</body>\n",
              "</html>"
            ]
          },
          "metadata": {}
        }
      ]
    },
    {
      "cell_type": "code",
      "metadata": {
        "colab": {
          "base_uri": "https://localhost:8080/"
        },
        "id": "e9515328",
        "outputId": "4a8b52c1-b4de-4188-a3a1-354eab718d87"
      },
      "source": [
        "del binance_plot, btc_plot, btc_cash_plot,\\\n",
        "    cardano_plot, dogecoin_plot, eos_plot,\\\n",
        "    eth_plot, eth_classic_plot, iota_plot,\\\n",
        "    litecoin_plot, maker_plot, monero_plot,\\\n",
        "    stellar_plot, tron_plot\n",
        "gc.collect()"
      ],
      "id": "e9515328",
      "execution_count": 41,
      "outputs": [
        {
          "output_type": "execute_result",
          "data": {
            "text/plain": [
              "15228"
            ]
          },
          "metadata": {},
          "execution_count": 41
        }
      ]
    },
    {
      "cell_type": "markdown",
      "metadata": {
        "id": "4ab1965e"
      },
      "source": [
        "### c) Central tendency analysis"
      ],
      "id": "4ab1965e"
    },
    {
      "cell_type": "code",
      "metadata": {
        "colab": {
          "base_uri": "https://localhost:8080/",
          "height": 520
        },
        "id": "4ae63b97",
        "outputId": "b1a72c95-d392-49df-b595-2b8b8689baf2"
      },
      "source": [
        "df.groupby(\"asset_name\").mean()"
      ],
      "id": "4ae63b97",
      "execution_count": 42,
      "outputs": [
        {
          "output_type": "execute_result",
          "data": {
            "text/html": [
              "<div>\n",
              "<style scoped>\n",
              "    .dataframe tbody tr th:only-of-type {\n",
              "        vertical-align: middle;\n",
              "    }\n",
              "\n",
              "    .dataframe tbody tr th {\n",
              "        vertical-align: top;\n",
              "    }\n",
              "\n",
              "    .dataframe thead th {\n",
              "        text-align: right;\n",
              "    }\n",
              "</style>\n",
              "<table border=\"1\" class=\"dataframe\">\n",
              "  <thead>\n",
              "    <tr style=\"text-align: right;\">\n",
              "      <th></th>\n",
              "      <th>timestamp</th>\n",
              "      <th>count</th>\n",
              "      <th>open</th>\n",
              "      <th>high</th>\n",
              "      <th>low</th>\n",
              "      <th>close</th>\n",
              "      <th>volume</th>\n",
              "      <th>vwap</th>\n",
              "      <th>target</th>\n",
              "    </tr>\n",
              "    <tr>\n",
              "      <th>asset_name</th>\n",
              "      <th></th>\n",
              "      <th></th>\n",
              "      <th></th>\n",
              "      <th></th>\n",
              "      <th></th>\n",
              "      <th></th>\n",
              "      <th></th>\n",
              "      <th></th>\n",
              "      <th></th>\n",
              "    </tr>\n",
              "  </thead>\n",
              "  <tbody>\n",
              "    <tr>\n",
              "      <th>Binance Coin</th>\n",
              "      <td>1.577619e+09</td>\n",
              "      <td>206.026645</td>\n",
              "      <td>97.435112</td>\n",
              "      <td>97.550453</td>\n",
              "      <td>97.314252</td>\n",
              "      <td>97.434826</td>\n",
              "      <td>1.817857e+03</td>\n",
              "      <td>97.432628</td>\n",
              "      <td>3.043179e-05</td>\n",
              "    </tr>\n",
              "    <tr>\n",
              "      <th>Bitcoin</th>\n",
              "      <td>1.577203e+09</td>\n",
              "      <td>1138.951031</td>\n",
              "      <td>17328.200112</td>\n",
              "      <td>17369.030215</td>\n",
              "      <td>17294.527731</td>\n",
              "      <td>17328.204983</td>\n",
              "      <td>9.203060e+01</td>\n",
              "      <td>17328.058605</td>\n",
              "      <td>-1.049945e-06</td>\n",
              "    </tr>\n",
              "    <tr>\n",
              "      <th>Bitcoin Cash</th>\n",
              "      <td>1.577300e+09</td>\n",
              "      <td>155.139718</td>\n",
              "      <td>500.668930</td>\n",
              "      <td>502.099341</td>\n",
              "      <td>499.222879</td>\n",
              "      <td>500.665371</td>\n",
              "      <td>2.220252e+02</td>\n",
              "      <td>500.661194</td>\n",
              "      <td>-4.663662e-06</td>\n",
              "    </tr>\n",
              "    <tr>\n",
              "      <th>Cardano</th>\n",
              "      <td>1.581936e+09</td>\n",
              "      <td>277.742466</td>\n",
              "      <td>0.468688</td>\n",
              "      <td>0.469567</td>\n",
              "      <td>0.467859</td>\n",
              "      <td>0.468689</td>\n",
              "      <td>3.338300e+05</td>\n",
              "      <td>0.468678</td>\n",
              "      <td>3.734066e-06</td>\n",
              "    </tr>\n",
              "    <tr>\n",
              "      <th>Dogecoin</th>\n",
              "      <td>1.601113e+09</td>\n",
              "      <td>571.221628</td>\n",
              "      <td>0.097294</td>\n",
              "      <td>0.097501</td>\n",
              "      <td>0.097101</td>\n",
              "      <td>0.097294</td>\n",
              "      <td>2.676080e+06</td>\n",
              "      <td>0.097293</td>\n",
              "      <td>3.103318e-05</td>\n",
              "    </tr>\n",
              "    <tr>\n",
              "      <th>EOS.IO</th>\n",
              "      <td>1.577285e+09</td>\n",
              "      <td>250.665842</td>\n",
              "      <td>4.863420</td>\n",
              "      <td>4.878688</td>\n",
              "      <td>4.850696</td>\n",
              "      <td>4.863411</td>\n",
              "      <td>2.797586e+04</td>\n",
              "      <td>4.863365</td>\n",
              "      <td>-1.143377e-06</td>\n",
              "    </tr>\n",
              "    <tr>\n",
              "      <th>Ethereum</th>\n",
              "      <td>1.577203e+09</td>\n",
              "      <td>749.697448</td>\n",
              "      <td>843.315566</td>\n",
              "      <td>845.242966</td>\n",
              "      <td>841.529544</td>\n",
              "      <td>843.316981</td>\n",
              "      <td>1.127527e+03</td>\n",
              "      <td>843.308616</td>\n",
              "      <td>-7.488925e-07</td>\n",
              "    </tr>\n",
              "    <tr>\n",
              "      <th>Ethereum Classic</th>\n",
              "      <td>1.577348e+09</td>\n",
              "      <td>140.063298</td>\n",
              "      <td>18.133545</td>\n",
              "      <td>18.235931</td>\n",
              "      <td>18.064507</td>\n",
              "      <td>18.133577</td>\n",
              "      <td>3.344421e+03</td>\n",
              "      <td>18.133468</td>\n",
              "      <td>3.360473e-05</td>\n",
              "    </tr>\n",
              "    <tr>\n",
              "      <th>IOTA</th>\n",
              "      <td>1.583003e+09</td>\n",
              "      <td>40.789458</td>\n",
              "      <td>0.676435</td>\n",
              "      <td>0.683490</td>\n",
              "      <td>0.669463</td>\n",
              "      <td>0.676437</td>\n",
              "      <td>1.571685e+04</td>\n",
              "      <td>0.676416</td>\n",
              "      <td>2.182263e-05</td>\n",
              "    </tr>\n",
              "    <tr>\n",
              "      <th>Litecoin</th>\n",
              "      <td>1.577204e+09</td>\n",
              "      <td>232.659735</td>\n",
              "      <td>102.086366</td>\n",
              "      <td>102.416932</td>\n",
              "      <td>101.782367</td>\n",
              "      <td>102.086380</td>\n",
              "      <td>1.222645e+03</td>\n",
              "      <td>102.085300</td>\n",
              "      <td>-1.388131e-05</td>\n",
              "    </tr>\n",
              "    <tr>\n",
              "      <th>Maker</th>\n",
              "      <td>1.615787e+09</td>\n",
              "      <td>50.916471</td>\n",
              "      <td>2096.226269</td>\n",
              "      <td>2099.766309</td>\n",
              "      <td>2092.883341</td>\n",
              "      <td>2096.213834</td>\n",
              "      <td>7.950787e+00</td>\n",
              "      <td>NaN</td>\n",
              "      <td>-6.080302e-06</td>\n",
              "    </tr>\n",
              "    <tr>\n",
              "      <th>Monero</th>\n",
              "      <td>1.586026e+09</td>\n",
              "      <td>41.908207</td>\n",
              "      <td>148.791451</td>\n",
              "      <td>149.045417</td>\n",
              "      <td>148.535751</td>\n",
              "      <td>148.791583</td>\n",
              "      <td>1.062063e+02</td>\n",
              "      <td>148.789639</td>\n",
              "      <td>7.233768e-06</td>\n",
              "    </tr>\n",
              "    <tr>\n",
              "      <th>Stellar</th>\n",
              "      <td>1.584074e+09</td>\n",
              "      <td>129.813663</td>\n",
              "      <td>0.182516</td>\n",
              "      <td>0.182924</td>\n",
              "      <td>0.182119</td>\n",
              "      <td>0.182517</td>\n",
              "      <td>2.166478e+05</td>\n",
              "      <td>0.182513</td>\n",
              "      <td>-1.098024e-05</td>\n",
              "    </tr>\n",
              "    <tr>\n",
              "      <th>TRON</th>\n",
              "      <td>1.580190e+09</td>\n",
              "      <td>175.463466</td>\n",
              "      <td>0.038158</td>\n",
              "      <td>0.038224</td>\n",
              "      <td>0.038095</td>\n",
              "      <td>0.038158</td>\n",
              "      <td>1.686491e+06</td>\n",
              "      <td>0.038158</td>\n",
              "      <td>1.044015e-05</td>\n",
              "    </tr>\n",
              "  </tbody>\n",
              "</table>\n",
              "</div>"
            ],
            "text/plain": [
              "                     timestamp        count  ...          vwap        target\n",
              "asset_name                                   ...                            \n",
              "Binance Coin      1.577619e+09   206.026645  ...     97.432628  3.043179e-05\n",
              "Bitcoin           1.577203e+09  1138.951031  ...  17328.058605 -1.049945e-06\n",
              "Bitcoin Cash      1.577300e+09   155.139718  ...    500.661194 -4.663662e-06\n",
              "Cardano           1.581936e+09   277.742466  ...      0.468678  3.734066e-06\n",
              "Dogecoin          1.601113e+09   571.221628  ...      0.097293  3.103318e-05\n",
              "EOS.IO            1.577285e+09   250.665842  ...      4.863365 -1.143377e-06\n",
              "Ethereum          1.577203e+09   749.697448  ...    843.308616 -7.488925e-07\n",
              "Ethereum Classic  1.577348e+09   140.063298  ...     18.133468  3.360473e-05\n",
              "IOTA              1.583003e+09    40.789458  ...      0.676416  2.182263e-05\n",
              "Litecoin          1.577204e+09   232.659735  ...    102.085300 -1.388131e-05\n",
              "Maker             1.615787e+09    50.916471  ...           NaN -6.080302e-06\n",
              "Monero            1.586026e+09    41.908207  ...    148.789639  7.233768e-06\n",
              "Stellar           1.584074e+09   129.813663  ...      0.182513 -1.098024e-05\n",
              "TRON              1.580190e+09   175.463466  ...      0.038158  1.044015e-05\n",
              "\n",
              "[14 rows x 9 columns]"
            ]
          },
          "metadata": {},
          "execution_count": 42
        }
      ]
    },
    {
      "cell_type": "code",
      "metadata": {
        "colab": {
          "base_uri": "https://localhost:8080/",
          "height": 520
        },
        "id": "56c18d67",
        "outputId": "44ddc1e2-3252-43c6-9248-b4727c036e40"
      },
      "source": [
        "df.groupby(\"asset_name\").median()"
      ],
      "id": "56c18d67",
      "execution_count": 43,
      "outputs": [
        {
          "output_type": "execute_result",
          "data": {
            "text/html": [
              "<div>\n",
              "<style scoped>\n",
              "    .dataframe tbody tr th:only-of-type {\n",
              "        vertical-align: middle;\n",
              "    }\n",
              "\n",
              "    .dataframe tbody tr th {\n",
              "        vertical-align: top;\n",
              "    }\n",
              "\n",
              "    .dataframe thead th {\n",
              "        text-align: right;\n",
              "    }\n",
              "</style>\n",
              "<table border=\"1\" class=\"dataframe\">\n",
              "  <thead>\n",
              "    <tr style=\"text-align: right;\">\n",
              "      <th></th>\n",
              "      <th>timestamp</th>\n",
              "      <th>count</th>\n",
              "      <th>open</th>\n",
              "      <th>high</th>\n",
              "      <th>low</th>\n",
              "      <th>close</th>\n",
              "      <th>volume</th>\n",
              "      <th>vwap</th>\n",
              "      <th>target</th>\n",
              "    </tr>\n",
              "    <tr>\n",
              "      <th>asset_name</th>\n",
              "      <th></th>\n",
              "      <th></th>\n",
              "      <th></th>\n",
              "      <th></th>\n",
              "      <th></th>\n",
              "      <th></th>\n",
              "      <th></th>\n",
              "      <th></th>\n",
              "      <th></th>\n",
              "    </tr>\n",
              "  </thead>\n",
              "  <tbody>\n",
              "    <tr>\n",
              "      <th>Binance Coin</th>\n",
              "      <td>1578508680</td>\n",
              "      <td>53.0</td>\n",
              "      <td>19.844800</td>\n",
              "      <td>19.863000</td>\n",
              "      <td>19.824600</td>\n",
              "      <td>19.844500</td>\n",
              "      <td>993.200000</td>\n",
              "      <td>19.843419</td>\n",
              "      <td>-0.000019</td>\n",
              "    </tr>\n",
              "    <tr>\n",
              "      <th>Bitcoin</th>\n",
              "      <td>1577818410</td>\n",
              "      <td>619.0</td>\n",
              "      <td>9426.790833</td>\n",
              "      <td>9442.636572</td>\n",
              "      <td>9412.785000</td>\n",
              "      <td>9426.762381</td>\n",
              "      <td>52.519000</td>\n",
              "      <td>9426.822784</td>\n",
              "      <td>-0.000019</td>\n",
              "    </tr>\n",
              "    <tr>\n",
              "      <th>Bitcoin Cash</th>\n",
              "      <td>1578035550</td>\n",
              "      <td>74.0</td>\n",
              "      <td>402.132917</td>\n",
              "      <td>403.050000</td>\n",
              "      <td>401.060000</td>\n",
              "      <td>402.110000</td>\n",
              "      <td>88.061216</td>\n",
              "      <td>402.127908</td>\n",
              "      <td>-0.000084</td>\n",
              "    </tr>\n",
              "    <tr>\n",
              "      <th>Cardano</th>\n",
              "      <td>1583231370</td>\n",
              "      <td>57.0</td>\n",
              "      <td>0.093897</td>\n",
              "      <td>0.094003</td>\n",
              "      <td>0.093788</td>\n",
              "      <td>0.093898</td>\n",
              "      <td>147745.250850</td>\n",
              "      <td>0.093898</td>\n",
              "      <td>-0.000064</td>\n",
              "    </tr>\n",
              "    <tr>\n",
              "      <th>Dogecoin</th>\n",
              "      <td>1606130850</td>\n",
              "      <td>28.0</td>\n",
              "      <td>0.003477</td>\n",
              "      <td>0.003480</td>\n",
              "      <td>0.003474</td>\n",
              "      <td>0.003477</td>\n",
              "      <td>541203.682763</td>\n",
              "      <td>0.003477</td>\n",
              "      <td>-0.000040</td>\n",
              "    </tr>\n",
              "    <tr>\n",
              "      <th>EOS.IO</th>\n",
              "      <td>1577913750</td>\n",
              "      <td>114.0</td>\n",
              "      <td>3.990220</td>\n",
              "      <td>3.996500</td>\n",
              "      <td>3.983700</td>\n",
              "      <td>3.990140</td>\n",
              "      <td>12401.530044</td>\n",
              "      <td>3.990197</td>\n",
              "      <td>-0.000073</td>\n",
              "    </tr>\n",
              "    <tr>\n",
              "      <th>Ethereum</th>\n",
              "      <td>1577821110</td>\n",
              "      <td>318.0</td>\n",
              "      <td>346.022083</td>\n",
              "      <td>346.670000</td>\n",
              "      <td>345.560000</td>\n",
              "      <td>346.020000</td>\n",
              "      <td>579.167816</td>\n",
              "      <td>346.018897</td>\n",
              "      <td>-0.000027</td>\n",
              "    </tr>\n",
              "    <tr>\n",
              "      <th>Ethereum Classic</th>\n",
              "      <td>1578041040</td>\n",
              "      <td>44.0</td>\n",
              "      <td>8.024800</td>\n",
              "      <td>8.217200</td>\n",
              "      <td>7.899100</td>\n",
              "      <td>8.024800</td>\n",
              "      <td>1186.849200</td>\n",
              "      <td>8.024570</td>\n",
              "      <td>-0.000070</td>\n",
              "    </tr>\n",
              "    <tr>\n",
              "      <th>IOTA</th>\n",
              "      <td>1583691480</td>\n",
              "      <td>14.0</td>\n",
              "      <td>0.437200</td>\n",
              "      <td>0.438600</td>\n",
              "      <td>0.435900</td>\n",
              "      <td>0.437200</td>\n",
              "      <td>5471.162500</td>\n",
              "      <td>0.437174</td>\n",
              "      <td>0.000000</td>\n",
              "    </tr>\n",
              "    <tr>\n",
              "      <th>Litecoin</th>\n",
              "      <td>1577831460</td>\n",
              "      <td>95.0</td>\n",
              "      <td>77.236750</td>\n",
              "      <td>77.665000</td>\n",
              "      <td>76.980000</td>\n",
              "      <td>77.237500</td>\n",
              "      <td>496.350679</td>\n",
              "      <td>77.236795</td>\n",
              "      <td>-0.000074</td>\n",
              "    </tr>\n",
              "    <tr>\n",
              "      <th>Maker</th>\n",
              "      <td>1617464220</td>\n",
              "      <td>24.0</td>\n",
              "      <td>2283.713333</td>\n",
              "      <td>2287.220000</td>\n",
              "      <td>2280.230000</td>\n",
              "      <td>2283.807200</td>\n",
              "      <td>2.610492</td>\n",
              "      <td>2283.728348</td>\n",
              "      <td>-0.000054</td>\n",
              "    </tr>\n",
              "    <tr>\n",
              "      <th>Monero</th>\n",
              "      <td>1590564480</td>\n",
              "      <td>16.0</td>\n",
              "      <td>110.430000</td>\n",
              "      <td>110.610000</td>\n",
              "      <td>110.220000</td>\n",
              "      <td>110.432500</td>\n",
              "      <td>36.026240</td>\n",
              "      <td>110.430553</td>\n",
              "      <td>0.000000</td>\n",
              "    </tr>\n",
              "    <tr>\n",
              "      <th>Stellar</th>\n",
              "      <td>1584949680</td>\n",
              "      <td>39.0</td>\n",
              "      <td>0.116930</td>\n",
              "      <td>0.117430</td>\n",
              "      <td>0.116570</td>\n",
              "      <td>0.116925</td>\n",
              "      <td>72404.284900</td>\n",
              "      <td>0.116930</td>\n",
              "      <td>-0.000085</td>\n",
              "    </tr>\n",
              "    <tr>\n",
              "      <th>TRON</th>\n",
              "      <td>1580866800</td>\n",
              "      <td>70.0</td>\n",
              "      <td>0.026285</td>\n",
              "      <td>0.026340</td>\n",
              "      <td>0.026249</td>\n",
              "      <td>0.026285</td>\n",
              "      <td>823499.600173</td>\n",
              "      <td>0.026284</td>\n",
              "      <td>-0.000036</td>\n",
              "    </tr>\n",
              "  </tbody>\n",
              "</table>\n",
              "</div>"
            ],
            "text/plain": [
              "                   timestamp  count  ...         vwap    target\n",
              "asset_name                           ...                       \n",
              "Binance Coin      1578508680   53.0  ...    19.843419 -0.000019\n",
              "Bitcoin           1577818410  619.0  ...  9426.822784 -0.000019\n",
              "Bitcoin Cash      1578035550   74.0  ...   402.127908 -0.000084\n",
              "Cardano           1583231370   57.0  ...     0.093898 -0.000064\n",
              "Dogecoin          1606130850   28.0  ...     0.003477 -0.000040\n",
              "EOS.IO            1577913750  114.0  ...     3.990197 -0.000073\n",
              "Ethereum          1577821110  318.0  ...   346.018897 -0.000027\n",
              "Ethereum Classic  1578041040   44.0  ...     8.024570 -0.000070\n",
              "IOTA              1583691480   14.0  ...     0.437174  0.000000\n",
              "Litecoin          1577831460   95.0  ...    77.236795 -0.000074\n",
              "Maker             1617464220   24.0  ...  2283.728348 -0.000054\n",
              "Monero            1590564480   16.0  ...   110.430553  0.000000\n",
              "Stellar           1584949680   39.0  ...     0.116930 -0.000085\n",
              "TRON              1580866800   70.0  ...     0.026284 -0.000036\n",
              "\n",
              "[14 rows x 9 columns]"
            ]
          },
          "metadata": {},
          "execution_count": 43
        }
      ]
    },
    {
      "cell_type": "code",
      "metadata": {
        "colab": {
          "base_uri": "https://localhost:8080/",
          "height": 520
        },
        "id": "14113778",
        "outputId": "21f7968b-02ab-45ad-87fe-209b704b7461"
      },
      "source": [
        "df.groupby(\"asset_name\").std()"
      ],
      "id": "14113778",
      "execution_count": 44,
      "outputs": [
        {
          "output_type": "execute_result",
          "data": {
            "text/html": [
              "<div>\n",
              "<style scoped>\n",
              "    .dataframe tbody tr th:only-of-type {\n",
              "        vertical-align: middle;\n",
              "    }\n",
              "\n",
              "    .dataframe tbody tr th {\n",
              "        vertical-align: top;\n",
              "    }\n",
              "\n",
              "    .dataframe thead th {\n",
              "        text-align: right;\n",
              "    }\n",
              "</style>\n",
              "<table border=\"1\" class=\"dataframe\">\n",
              "  <thead>\n",
              "    <tr style=\"text-align: right;\">\n",
              "      <th></th>\n",
              "      <th>timestamp</th>\n",
              "      <th>count</th>\n",
              "      <th>open</th>\n",
              "      <th>high</th>\n",
              "      <th>low</th>\n",
              "      <th>close</th>\n",
              "      <th>volume</th>\n",
              "      <th>vwap</th>\n",
              "      <th>target</th>\n",
              "    </tr>\n",
              "    <tr>\n",
              "      <th>asset_name</th>\n",
              "      <th></th>\n",
              "      <th></th>\n",
              "      <th></th>\n",
              "      <th></th>\n",
              "      <th></th>\n",
              "      <th></th>\n",
              "      <th></th>\n",
              "      <th></th>\n",
              "      <th></th>\n",
              "    </tr>\n",
              "  </thead>\n",
              "  <tbody>\n",
              "    <tr>\n",
              "      <th>Binance Coin</th>\n",
              "      <td>3.545751e+07</td>\n",
              "      <td>442.348633</td>\n",
              "      <td>155.617483</td>\n",
              "      <td>155.806321</td>\n",
              "      <td>155.419810</td>\n",
              "      <td>155.616413</td>\n",
              "      <td>2.834458e+03</td>\n",
              "      <td>155.614282</td>\n",
              "      <td>0.005307</td>\n",
              "    </tr>\n",
              "    <tr>\n",
              "      <th>Bitcoin</th>\n",
              "      <td>3.549574e+07</td>\n",
              "      <td>1643.732438</td>\n",
              "      <td>15999.066761</td>\n",
              "      <td>16008.599364</td>\n",
              "      <td>15984.809843</td>\n",
              "      <td>15999.097335</td>\n",
              "      <td>1.536481e+02</td>\n",
              "      <td>15998.925243</td>\n",
              "      <td>0.001988</td>\n",
              "    </tr>\n",
              "    <tr>\n",
              "      <th>Bitcoin Cash</th>\n",
              "      <td>3.551466e+07</td>\n",
              "      <td>306.910178</td>\n",
              "      <td>383.897337</td>\n",
              "      <td>385.728833</td>\n",
              "      <td>381.957945</td>\n",
              "      <td>383.895901</td>\n",
              "      <td>4.599372e+02</td>\n",
              "      <td>383.889560</td>\n",
              "      <td>0.006277</td>\n",
              "    </tr>\n",
              "    <tr>\n",
              "      <th>Cardano</th>\n",
              "      <td>3.298165e+07</td>\n",
              "      <td>766.112276</td>\n",
              "      <td>0.716201</td>\n",
              "      <td>0.717538</td>\n",
              "      <td>0.714929</td>\n",
              "      <td>0.716205</td>\n",
              "      <td>6.108978e+05</td>\n",
              "      <td>0.716184</td>\n",
              "      <td>0.004416</td>\n",
              "    </tr>\n",
              "    <tr>\n",
              "      <th>Dogecoin</th>\n",
              "      <td>2.382184e+07</td>\n",
              "      <td>2026.236212</td>\n",
              "      <td>0.135372</td>\n",
              "      <td>0.135695</td>\n",
              "      <td>0.135068</td>\n",
              "      <td>0.135371</td>\n",
              "      <td>9.997040e+06</td>\n",
              "      <td>0.135370</td>\n",
              "      <td>0.007716</td>\n",
              "    </tr>\n",
              "    <tr>\n",
              "      <th>EOS.IO</th>\n",
              "      <td>3.545380e+07</td>\n",
              "      <td>612.094164</td>\n",
              "      <td>2.851896</td>\n",
              "      <td>2.861651</td>\n",
              "      <td>2.841999</td>\n",
              "      <td>2.851884</td>\n",
              "      <td>6.203616e+04</td>\n",
              "      <td>2.851815</td>\n",
              "      <td>0.004719</td>\n",
              "    </tr>\n",
              "    <tr>\n",
              "      <th>Ethereum</th>\n",
              "      <td>3.549660e+07</td>\n",
              "      <td>1276.238869</td>\n",
              "      <td>998.360903</td>\n",
              "      <td>999.539499</td>\n",
              "      <td>997.073659</td>\n",
              "      <td>998.362749</td>\n",
              "      <td>2.018844e+03</td>\n",
              "      <td>998.356130</td>\n",
              "      <td>0.002454</td>\n",
              "    </tr>\n",
              "    <tr>\n",
              "      <th>Ethereum Classic</th>\n",
              "      <td>3.548766e+07</td>\n",
              "      <td>532.466546</td>\n",
              "      <td>20.397819</td>\n",
              "      <td>20.519281</td>\n",
              "      <td>20.334893</td>\n",
              "      <td>20.397856</td>\n",
              "      <td>5.477800e+04</td>\n",
              "      <td>20.397795</td>\n",
              "      <td>0.008701</td>\n",
              "    </tr>\n",
              "    <tr>\n",
              "      <th>IOTA</th>\n",
              "      <td>3.497126e+07</td>\n",
              "      <td>150.919616</td>\n",
              "      <td>0.516153</td>\n",
              "      <td>0.524864</td>\n",
              "      <td>0.507730</td>\n",
              "      <td>0.516155</td>\n",
              "      <td>3.989869e+04</td>\n",
              "      <td>0.516131</td>\n",
              "      <td>0.008411</td>\n",
              "    </tr>\n",
              "    <tr>\n",
              "      <th>Litecoin</th>\n",
              "      <td>3.549950e+07</td>\n",
              "      <td>508.197870</td>\n",
              "      <td>63.664352</td>\n",
              "      <td>63.813798</td>\n",
              "      <td>63.483950</td>\n",
              "      <td>63.664363</td>\n",
              "      <td>2.631344e+03</td>\n",
              "      <td>63.663958</td>\n",
              "      <td>0.003519</td>\n",
              "    </tr>\n",
              "    <tr>\n",
              "      <th>Maker</th>\n",
              "      <td>1.174422e+07</td>\n",
              "      <td>102.911098</td>\n",
              "      <td>1303.854369</td>\n",
              "      <td>1306.547941</td>\n",
              "      <td>1301.513789</td>\n",
              "      <td>1303.836884</td>\n",
              "      <td>1.993194e+01</td>\n",
              "      <td>NaN</td>\n",
              "      <td>0.005864</td>\n",
              "    </tr>\n",
              "    <tr>\n",
              "      <th>Monero</th>\n",
              "      <td>3.379339e+07</td>\n",
              "      <td>113.775309</td>\n",
              "      <td>98.400452</td>\n",
              "      <td>98.572949</td>\n",
              "      <td>98.220679</td>\n",
              "      <td>98.400098</td>\n",
              "      <td>2.544880e+02</td>\n",
              "      <td>98.398220</td>\n",
              "      <td>0.006459</td>\n",
              "    </tr>\n",
              "    <tr>\n",
              "      <th>Stellar</th>\n",
              "      <td>3.154906e+07</td>\n",
              "      <td>303.346994</td>\n",
              "      <td>0.135520</td>\n",
              "      <td>0.135818</td>\n",
              "      <td>0.135223</td>\n",
              "      <td>0.135523</td>\n",
              "      <td>5.034246e+05</td>\n",
              "      <td>0.135519</td>\n",
              "      <td>0.005076</td>\n",
              "    </tr>\n",
              "    <tr>\n",
              "      <th>TRON</th>\n",
              "      <td>3.375494e+07</td>\n",
              "      <td>417.351715</td>\n",
              "      <td>0.028418</td>\n",
              "      <td>0.028461</td>\n",
              "      <td>0.028370</td>\n",
              "      <td>0.028417</td>\n",
              "      <td>3.053161e+06</td>\n",
              "      <td>0.028417</td>\n",
              "      <td>0.004803</td>\n",
              "    </tr>\n",
              "  </tbody>\n",
              "</table>\n",
              "</div>"
            ],
            "text/plain": [
              "                     timestamp        count  ...          vwap    target\n",
              "asset_name                                   ...                        \n",
              "Binance Coin      3.545751e+07   442.348633  ...    155.614282  0.005307\n",
              "Bitcoin           3.549574e+07  1643.732438  ...  15998.925243  0.001988\n",
              "Bitcoin Cash      3.551466e+07   306.910178  ...    383.889560  0.006277\n",
              "Cardano           3.298165e+07   766.112276  ...      0.716184  0.004416\n",
              "Dogecoin          2.382184e+07  2026.236212  ...      0.135370  0.007716\n",
              "EOS.IO            3.545380e+07   612.094164  ...      2.851815  0.004719\n",
              "Ethereum          3.549660e+07  1276.238869  ...    998.356130  0.002454\n",
              "Ethereum Classic  3.548766e+07   532.466546  ...     20.397795  0.008701\n",
              "IOTA              3.497126e+07   150.919616  ...      0.516131  0.008411\n",
              "Litecoin          3.549950e+07   508.197870  ...     63.663958  0.003519\n",
              "Maker             1.174422e+07   102.911098  ...           NaN  0.005864\n",
              "Monero            3.379339e+07   113.775309  ...     98.398220  0.006459\n",
              "Stellar           3.154906e+07   303.346994  ...      0.135519  0.005076\n",
              "TRON              3.375494e+07   417.351715  ...      0.028417  0.004803\n",
              "\n",
              "[14 rows x 9 columns]"
            ]
          },
          "metadata": {},
          "execution_count": 44
        }
      ]
    },
    {
      "cell_type": "markdown",
      "metadata": {
        "id": "f5df25d9"
      },
      "source": [
        "### d) Correlation between cryptocurrencies"
      ],
      "id": "f5df25d9"
    },
    {
      "cell_type": "code",
      "metadata": {
        "id": "82d44784"
      },
      "source": [
        "df_close = df.copy()\n",
        "df_close = df_close[[\"timestamp\", \"asset_name\", \"close\"]]\n",
        "df_close[\"timestamp\"] = df_close[\"timestamp\"].apply(\n",
        "    lambda x: datetime.fromtimestamp(x))\n",
        "df_close[\"date\"] = df_close[\"timestamp\"].astype('datetime64[s]')\n",
        "df_close.set_index(\"date\", inplace=True)\n",
        "df_close.drop(\"timestamp\", axis=1, inplace=True)\n",
        "df_close = df_close[[\"asset_name\", \"close\"]]\n",
        "df_close[\"close\"] = df_close[\"close\"].apply(lambda x: np.log(x))"
      ],
      "id": "82d44784",
      "execution_count": 45,
      "outputs": []
    },
    {
      "cell_type": "code",
      "metadata": {
        "id": "ed4c5e7e"
      },
      "source": [
        "df_close_2021 = df_close.loc['01/01/2021':'01/06/2021']\n",
        "df_close_2021.reset_index(inplace=True)\n",
        "df_close_2021 = pd.pivot_table(\n",
        "    df_close_2021, values=\"close\", columns=\"asset_name\", index=\"date\")"
      ],
      "id": "ed4c5e7e",
      "execution_count": 46,
      "outputs": []
    },
    {
      "cell_type": "code",
      "metadata": {
        "colab": {
          "base_uri": "https://localhost:8080/",
          "height": 885
        },
        "id": "11f2bdeb",
        "outputId": "8923dc3e-50a3-4baf-d3a3-105f3d69ad6a"
      },
      "source": [
        "plt.figure(figsize=(15, 15))\n",
        "sns.heatmap(df_close_2021.diff().corr(),\n",
        "            linewidths=.5,\n",
        "            annot=True,\n",
        "            square=True,\n",
        "            cmap=\"viridis\")\n",
        "plt.xlabel(\"Asset Name\")\n",
        "plt.ylabel(\"Asset Name\")\n",
        "plt.title(\"Correlation matrix between each cryptocurrency during the first semester (2021)\")\n",
        "plt.show()"
      ],
      "id": "11f2bdeb",
      "execution_count": 47,
      "outputs": [
        {
          "output_type": "display_data",
          "data": {
            "image/png": "[encoded data removed]",
            "text/plain": [
              "<Figure size 1080x1080 with 2 Axes>"
            ]
          },
          "metadata": {
            "needs_background": "light"
          }
        }
      ]
    },
    {
      "cell_type": "code",
      "metadata": {
        "colab": {
          "base_uri": "https://localhost:8080/"
        },
        "id": "453cd74c",
        "outputId": "f8f54411-e3b8-49c2-d135-8f0b219900cb"
      },
      "source": [
        "del df_close\n",
        "del df_close_2021\n",
        "gc.collect()"
      ],
      "id": "453cd74c",
      "execution_count": 48,
      "outputs": [
        {
          "output_type": "execute_result",
          "data": {
            "text/plain": [
              "222062"
            ]
          },
          "metadata": {},
          "execution_count": 48
        }
      ]
    },
    {
      "cell_type": "markdown",
      "metadata": {
        "id": "8819ae51"
      },
      "source": [
        "## 3) Features Engineering"
      ],
      "id": "8819ae51"
    },
    {
      "cell_type": "code",
      "metadata": {
        "id": "997b79f2"
      },
      "source": [
        "dataset = [binance, btc, btc_cash,\n",
        "           cardano, dogecoin, eos,\n",
        "           eth, eth_classic, iota,\n",
        "           litecoin, maker, monero,\n",
        "           stellar, tron]\n",
        "\n",
        "\n",
        "cols = ['open', 'close', \"high\", \"low\"]\n",
        "\n",
        "for i in dataset:\n",
        "    for j in cols:\n",
        "        i[\"log_\"+j] = i[j].apply(lambda x: np.log(x))"
      ],
      "id": "997b79f2",
      "execution_count": 50,
      "outputs": []
    },
    {
      "cell_type": "markdown",
      "metadata": {
        "id": "4f373e71"
      },
      "source": [
        "### a) Creating new variables"
      ],
      "id": "4f373e71"
    },
    {
      "cell_type": "markdown",
      "metadata": {
        "id": "c7c633c9"
      },
      "source": [
        "- Variables from *Vijha et al. 2020*"
      ],
      "id": "c7c633c9"
    },
    {
      "cell_type": "markdown",
      "metadata": {
        "id": "5f47d652"
      },
      "source": [
        "1. Stock High minus Low price (H-L)\n",
        "2. Stock Close minus Open price (O-C)\n",
        "3. Stock price’s seven days’ moving average (7 DAYS MA)\n",
        "4. Stock price’s fourteen days’ moving average (14 DAYS MA)\n",
        "5. Stock price’s twenty one days’ moving average (21 DAYS MA)\n",
        "6. Stock price’s standard deviation for the past seven days (7 DAYS STD DEV)"
      ],
      "id": "5f47d652"
    },
    {
      "cell_type": "code",
      "metadata": {
        "id": "8238042a"
      },
      "source": [
        "for i in dataset:\n",
        "    i[\"H-L\"] = i[\"log_high\"] - i[\"log_low\"]\n",
        "    i[\"O-C\"] = i[\"log_open\"] - i[\"log_close\"]\n",
        "    i[\"MA_7d\"] = i[\"log_close\"].rolling(10080).mean()\n",
        "    i[\"MA_14d\"] = i[\"log_close\"].rolling(20160).mean()\n",
        "    i[\"MA_21d\"] = i[\"log_close\"].rolling(30240).mean()\n",
        "    i[\"STD_7d\"] = i[\"log_close\"].rolling(10080).std()"
      ],
      "id": "8238042a",
      "execution_count": 52,
      "outputs": []
    },
    {
      "cell_type": "markdown",
      "metadata": {
        "id": "505e3195"
      },
      "source": [
        "- Fractal Adaptive Moving Average (FRAMA)"
      ],
      "id": "505e3195"
    },
    {
      "cell_type": "code",
      "metadata": {
        "id": "f0c5c113"
      },
      "source": [
        "for i in dataset:\n",
        "    i[\"FRAMA\"] = TA.FRAMA(i)"
      ],
      "id": "f0c5c113",
      "execution_count": 53,
      "outputs": []
    },
    {
      "cell_type": "markdown",
      "metadata": {
        "id": "81bf04de"
      },
      "source": [
        "- Relevant Strength Index (RSI)"
      ],
      "id": "81bf04de"
    },
    {
      "cell_type": "code",
      "metadata": {
        "id": "06fde0e1"
      },
      "source": [
        "for i in dataset:\n",
        "    i[\"RSI\"] = TA.RSI(i)"
      ],
      "id": "06fde0e1",
      "execution_count": 54,
      "outputs": []
    },
    {
      "cell_type": "code",
      "source": [
        "data = binance.append(btc)\n",
        "data = data.append(btc_cash)\n",
        "data = data.append(cardano)\n",
        "data = data.append(dogecoin)\n",
        "data = data.append(eos)\n",
        "data = data.append(eth)\n",
        "data = data.append(eth_classic)\n",
        "data = data.append(iota)\n",
        "data = data.append(litecoin)\n",
        "data = data.append(maker)\n",
        "data = data.append(monero)\n",
        "data = data.append(stellar)\n",
        "data = data.append(tron)"
      ],
      "metadata": {
        "id": "JsmmoX2XJXwy"
      },
      "id": "JsmmoX2XJXwy",
      "execution_count": 57,
      "outputs": []
    },
    {
      "cell_type": "code",
      "source": [
        "data.tail(3)"
      ],
      "metadata": {
        "colab": {
          "base_uri": "https://localhost:8080/",
          "height": 247
        },
        "id": "yexVe4YTMNCj",
        "outputId": "802c42d1-8adc-4024-a355-56c181a2d9c6"
      },
      "id": "yexVe4YTMNCj",
      "execution_count": 59,
      "outputs": [
        {
          "output_type": "execute_result",
          "data": {
            "text/html": [
              "<div>\n",
              "<style scoped>\n",
              "    .dataframe tbody tr th:only-of-type {\n",
              "        vertical-align: middle;\n",
              "    }\n",
              "\n",
              "    .dataframe tbody tr th {\n",
              "        vertical-align: top;\n",
              "    }\n",
              "\n",
              "    .dataframe thead th {\n",
              "        text-align: right;\n",
              "    }\n",
              "</style>\n",
              "<table border=\"1\" class=\"dataframe\">\n",
              "  <thead>\n",
              "    <tr style=\"text-align: right;\">\n",
              "      <th></th>\n",
              "      <th>asset_name</th>\n",
              "      <th>count</th>\n",
              "      <th>open</th>\n",
              "      <th>high</th>\n",
              "      <th>low</th>\n",
              "      <th>close</th>\n",
              "      <th>volume</th>\n",
              "      <th>vwap</th>\n",
              "      <th>target</th>\n",
              "      <th>log_open</th>\n",
              "      <th>log_close</th>\n",
              "      <th>log_high</th>\n",
              "      <th>log_low</th>\n",
              "      <th>H-L</th>\n",
              "      <th>O-C</th>\n",
              "      <th>MA_7d</th>\n",
              "      <th>MA_14d</th>\n",
              "      <th>MA_21d</th>\n",
              "      <th>STD_7d</th>\n",
              "      <th>FRAMA</th>\n",
              "      <th>RSI</th>\n",
              "    </tr>\n",
              "    <tr>\n",
              "      <th>timestamp</th>\n",
              "      <th></th>\n",
              "      <th></th>\n",
              "      <th></th>\n",
              "      <th></th>\n",
              "      <th></th>\n",
              "      <th></th>\n",
              "      <th></th>\n",
              "      <th></th>\n",
              "      <th></th>\n",
              "      <th></th>\n",
              "      <th></th>\n",
              "      <th></th>\n",
              "      <th></th>\n",
              "      <th></th>\n",
              "      <th></th>\n",
              "      <th></th>\n",
              "      <th></th>\n",
              "      <th></th>\n",
              "      <th></th>\n",
              "      <th></th>\n",
              "      <th></th>\n",
              "    </tr>\n",
              "  </thead>\n",
              "  <tbody>\n",
              "    <tr>\n",
              "      <th>2021-09-20 23:42:00</th>\n",
              "      <td>TRON</td>\n",
              "      <td>527.0</td>\n",
              "      <td>0.091171</td>\n",
              "      <td>0.091295</td>\n",
              "      <td>0.091092</td>\n",
              "      <td>0.091180</td>\n",
              "      <td>2.386078e+06</td>\n",
              "      <td>0.091185</td>\n",
              "      <td>-0.002437</td>\n",
              "      <td>-2.395021</td>\n",
              "      <td>-2.394922</td>\n",
              "      <td>-2.393659</td>\n",
              "      <td>-2.395885</td>\n",
              "      <td>0.002226</td>\n",
              "      <td>-0.000099</td>\n",
              "      <td>-2.215447</td>\n",
              "      <td>-2.277176</td>\n",
              "      <td>-2.292165</td>\n",
              "      <td>0.072741</td>\n",
              "      <td>0.091055</td>\n",
              "      <td>37.878670</td>\n",
              "    </tr>\n",
              "    <tr>\n",
              "      <th>2021-09-20 23:43:00</th>\n",
              "      <td>TRON</td>\n",
              "      <td>463.0</td>\n",
              "      <td>0.091206</td>\n",
              "      <td>0.091290</td>\n",
              "      <td>0.091028</td>\n",
              "      <td>0.091081</td>\n",
              "      <td>1.568854e+06</td>\n",
              "      <td>0.091131</td>\n",
              "      <td>0.004843</td>\n",
              "      <td>-2.394631</td>\n",
              "      <td>-2.396006</td>\n",
              "      <td>-2.393714</td>\n",
              "      <td>-2.396588</td>\n",
              "      <td>0.002874</td>\n",
              "      <td>0.001375</td>\n",
              "      <td>-2.215461</td>\n",
              "      <td>-2.277183</td>\n",
              "      <td>-2.292164</td>\n",
              "      <td>0.072762</td>\n",
              "      <td>0.091058</td>\n",
              "      <td>35.477629</td>\n",
              "    </tr>\n",
              "    <tr>\n",
              "      <th>2021-09-20 23:44:00</th>\n",
              "      <td>TRON</td>\n",
              "      <td>512.0</td>\n",
              "      <td>0.090989</td>\n",
              "      <td>0.091133</td>\n",
              "      <td>0.090831</td>\n",
              "      <td>0.090885</td>\n",
              "      <td>1.900695e+06</td>\n",
              "      <td>0.090943</td>\n",
              "      <td>0.004163</td>\n",
              "      <td>-2.397021</td>\n",
              "      <td>-2.398156</td>\n",
              "      <td>-2.395435</td>\n",
              "      <td>-2.398755</td>\n",
              "      <td>0.003319</td>\n",
              "      <td>0.001135</td>\n",
              "      <td>-2.215475</td>\n",
              "      <td>-2.277189</td>\n",
              "      <td>-2.292162</td>\n",
              "      <td>0.072783</td>\n",
              "      <td>0.091039</td>\n",
              "      <td>31.251933</td>\n",
              "    </tr>\n",
              "  </tbody>\n",
              "</table>\n",
              "</div>"
            ],
            "text/plain": [
              "                    asset_name  count      open  ...    STD_7d     FRAMA        RSI\n",
              "timestamp                                        ...                               \n",
              "2021-09-20 23:42:00       TRON  527.0  0.091171  ...  0.072741  0.091055  37.878670\n",
              "2021-09-20 23:43:00       TRON  463.0  0.091206  ...  0.072762  0.091058  35.477629\n",
              "2021-09-20 23:44:00       TRON  512.0  0.090989  ...  0.072783  0.091039  31.251933\n",
              "\n",
              "[3 rows x 21 columns]"
            ]
          },
          "metadata": {},
          "execution_count": 59
        }
      ]
    },
    {
      "cell_type": "code",
      "metadata": {
        "id": "a_TrZ5AMXoEu"
      },
      "source": [
        "data.to_csv('/content/drive/My Drive/Ingénieur ML - OC/P8/datasets/dataset_crypto.csv', index=True)"
      ],
      "id": "a_TrZ5AMXoEu",
      "execution_count": 60,
      "outputs": []
    },
    {
      "cell_type": "markdown",
      "metadata": {
        "id": "AXkfMTzK2P23"
      },
      "source": [
        "#### b) Adding New variable"
      ],
      "id": "AXkfMTzK2P23"
    },
    {
      "cell_type": "markdown",
      "metadata": {
        "id": "QWsL97zv2Stx"
      },
      "source": [
        "https://alternative.me/crypto/fear-and-greed-index/"
      ],
      "id": "QWsL97zv2Stx"
    },
    {
      "cell_type": "markdown",
      "metadata": {
        "id": "964b992c"
      },
      "source": [
        "__Ressources:__\n",
        "- Vijha, M., Chandolab, D., Tikkiwalb V. A., Kumar, A. (2020). Stock Closing Price Prediction using Machine Learning Techniques, *Procedia Computer Science*, 167, 599-606\n",
        "- Pironi, D. (2020). The Crypto Arbitrage Opportunity. https://suiteki.medium.com/the-crypto-arbitrage-opportunity-986b78740155\n",
        "- Arte. (2021). Le mystère Satoshi : Aux origines du Bitcoin. https://www.youtube.com/watch?v=0ETcLj5jBy4\n",
        "- Kaabar, S. (2021). Fractal Adaptative Moving Averages. The Full Guide. https://medium.com/the-investors-handbook/fractal-adaptive-moving-average-the-full-guide-c0ae348d9497"
      ],
      "id": "964b992c"
    }
  ]
}
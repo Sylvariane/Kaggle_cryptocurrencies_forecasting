{
  "cells": [
    {
      "cell_type": "markdown",
      "metadata": {
        "id": "view-in-github",
        "colab_type": "text"
      },
      "source": [
        "<a href=\"https://colab.research.google.com/github/Sylvariane/Kaggle_cryptocurrencies_forecasting/blob/main/P08_02_notebookmodelisation.ipynb\" target=\"_parent\"><img src=\"https://colab.research.google.com/assets/colab-badge.svg\" alt=\"Open In Colab\"/></a>"
      ]
    },
    {
      "cell_type": "markdown",
      "metadata": {
        "id": "TdI3zBHPNHDt"
      },
      "source": [
        "# G-Research Cryptocurrencies : Modelisation"
      ]
    },
    {
      "cell_type": "markdown",
      "metadata": {
        "id": "nMrh6H0bNHDv"
      },
      "source": [
        "- Utils."
      ]
    },
    {
      "cell_type": "code",
      "execution_count": 1,
      "metadata": {
        "colab": {
          "base_uri": "https://localhost:8080/"
        },
        "id": "fpBet7bAPE_W",
        "outputId": "b8957586-21bb-4d6c-8769-7f64c0102afa"
      },
      "outputs": [
        {
          "output_type": "stream",
          "name": "stdout",
          "text": [
            "Drive already mounted at /content/drive; to attempt to forcibly remount, call drive.mount(\"/content/drive\", force_remount=True).\n"
          ]
        }
      ],
      "source": [
        "from google.colab import drive\n",
        "drive.mount('/content/drive')"
      ]
    },
    {
      "cell_type": "code",
      "execution_count": 2,
      "metadata": {
        "id": "5ijxGgFb7Bud"
      },
      "outputs": [],
      "source": [
        "# system libraries\n",
        "import glob\n",
        "import warnings\n",
        "warnings.filterwarnings('ignore')\n",
        "warnings.simplefilter(action='ignore', category=FutureWarning)\n",
        "import gc\n",
        "\n",
        "# data manipulation libraries\n",
        "import pandas as pd\n",
        "import numpy as np\n",
        "\n",
        "# graphical libraries\n",
        "import matplotlib.pyplot as plt\n",
        "import seaborn as sns\n",
        "import plotly.express as px\n",
        "import plotly.graph_objects as go\n",
        "from plotly.subplots import make_subplots\n",
        "\n",
        "# modelisation libraries\n",
        "from sklearn.preprocessing import OneHotEncoder, StandardScaler\n",
        "from sklearn.model_selection import train_test_split\n",
        "from sklearn.impute import SimpleImputer\n",
        "from sklearn.pipeline import Pipeline\n",
        "from sklearn.compose import ColumnTransformer\n",
        "from sklearn.linear_model import LinearRegression\n",
        "from sklearn.ensemble import RandomForestRegressor\n",
        "from sklearn.metrics import mean_absolute_error, mean_squared_error, mean_absolute_percentage_error"
      ]
    },
    {
      "cell_type": "code",
      "execution_count": 3,
      "metadata": {
        "id": "LkdDYS63gpxi"
      },
      "outputs": [],
      "source": [
        "def regression_metrics(y_test, y_pred):\n",
        "    \"\"\"Function which contains differents metrics about regression\n",
        "    Input: y_test, prediction\n",
        "    \n",
        "    Output: MAE, MSE, RMSE & MAPE \n",
        "    \"\"\"\n",
        "    mae = mean_absolute_error(y_test, y_pred)\n",
        "    mse = mean_squared_error(y_test, y_pred)\n",
        "    rmse = np.sqrt(mse)\n",
        "    mape = mean_absolute_percentage_error(y_test, y_pred)\n",
        "    print(\"MAE: \",mae.round(5))\n",
        "    print(\"MSE: \", mse.round(5))\n",
        "    print(\"RMSE: \", rmse)\n",
        "    print(\"MAPE: \", mape.round(5))"
      ]
    },
    {
      "cell_type": "code",
      "execution_count": 4,
      "metadata": {
        "id": "jXR0kUE7Or2G"
      },
      "outputs": [],
      "source": [
        "path = '/content/drive/My Drive/Ingénieur ML - OC/P8/datasets/new_df'"
      ]
    },
    {
      "cell_type": "markdown",
      "source": [
        "In order to evaluate our different models, a function which contains regression metrics had been created. This function calcules Mean Absolute Error (MAE), Mean Squared Error (MSE), Root Mean Squared Error (RMSE) and Mean Absolute Percentage Error (MAPE)."
      ],
      "metadata": {
        "id": "0w_mc0YRu5MI"
      }
    },
    {
      "cell_type": "markdown",
      "metadata": {
        "id": "K5KBxJ0QNHD5"
      },
      "source": [
        "## 1) Data Preprocessing"
      ]
    },
    {
      "cell_type": "code",
      "source": [
        "all_files = glob.glob(path + \"/*.parquet.gzip\")\n",
        "\n",
        "li = []\n",
        "\n",
        "for filename in all_files:\n",
        "    df = pd.read_parquet(filename)\n",
        "    li.append(df)\n",
        "\n",
        "merged_df = pd.concat(li,\n",
        "                  axis=0,\n",
        "                  ignore_index=True)"
      ],
      "metadata": {
        "id": "nHXU7mFnhXxB"
      },
      "execution_count": 5,
      "outputs": []
    },
    {
      "cell_type": "code",
      "source": [
        "print(merged_df)"
      ],
      "metadata": {
        "colab": {
          "base_uri": "https://localhost:8080/"
        },
        "id": "DFOZyBYgEHmI",
        "outputId": "8049d4ee-e01f-4921-e703-6eeea5e61f3d"
      },
      "execution_count": 6,
      "outputs": [
        {
          "output_type": "stream",
          "name": "stdout",
          "text": [
            "             count      open      high  ...     FRAMA        RSI    asset_name\n",
            "0        19.813559  8.380515  8.391117  ...  8.368027  33.923605  Binance Coin\n",
            "1        12.178571  8.318839  8.327829  ...  8.323969  46.282751  Binance Coin\n",
            "2        11.654545  8.280453  8.291567  ...  8.271976  49.660320  Binance Coin\n",
            "3        11.683333  8.363050  8.370503  ...  8.369117  58.007864  Binance Coin\n",
            "4        10.333333  8.413568  8.422960  ...  8.410466  57.479208  Binance Coin\n",
            "...            ...       ...       ...  ...       ...        ...           ...\n",
            "432332  708.583333  0.092785  0.092942  ...  0.092742  50.748820          TRON\n",
            "432333  416.966667  0.093014  0.093123  ...  0.093014  45.271348          TRON\n",
            "432334  283.516667  0.093591  0.093674  ...  0.093569  58.993455          TRON\n",
            "432335  502.466667  0.094282  0.094396  ...  0.094252  51.240926          TRON\n",
            "432336  833.311111  0.092035  0.092199  ...  0.092122  28.781956          TRON\n",
            "\n",
            "[432337 rows x 21 columns]\n"
          ]
        }
      ]
    },
    {
      "cell_type": "code",
      "source": [
        "del li, all_files\n",
        "gc.collect()"
      ],
      "metadata": {
        "colab": {
          "base_uri": "https://localhost:8080/"
        },
        "id": "kfihIVMUB2Sj",
        "outputId": "dd1eb73d-3a34-4c33-f0a5-1e1ace0bedf3"
      },
      "execution_count": 7,
      "outputs": [
        {
          "output_type": "execute_result",
          "data": {
            "text/plain": [
              "62"
            ]
          },
          "metadata": {},
          "execution_count": 7
        }
      ]
    },
    {
      "cell_type": "markdown",
      "source": [
        "All parquet files are imported and concatenated in an unique dataset. Steps of preprocessing are realised. NaN values are fulfilled by 0 and nun used columns are dropped. "
      ],
      "metadata": {
        "id": "ZRSWobsZvsz3"
      }
    },
    {
      "cell_type": "code",
      "source": [
        "merged_df.fillna(0, inplace=True)"
      ],
      "metadata": {
        "id": "mi7XSerKY2vT"
      },
      "execution_count": 8,
      "outputs": []
    },
    {
      "cell_type": "code",
      "execution_count": 9,
      "metadata": {
        "id": "V07p_oqMg30N"
      },
      "outputs": [],
      "source": [
        "merged_df.drop([\"vwap\", \"count\",\n",
        "          \"open\", \"close\", \"high\",\n",
        "          \"low\", \"volume\", \"log_open\",\n",
        "          \"FRAMA\", \"RSI\", \"log_close\",\n",
        "          \"log_low\", \"log_high\",\n",
        "          \"vwap\", \"count\",\n",
        "          \"open\", \"close\", \"high\",\n",
        "          \"low\", \"volume\", \"log_open\",\n",
        "          \"FRAMA\", \"RSI\", \"log_close\",\n",
        "          \"log_low\", \"log_high\"],\n",
        "          axis=1, inplace=True)"
      ]
    },
    {
      "cell_type": "code",
      "source": [
        "y = merged_df[\"target\"].values\n",
        "X = merged_df.drop(\"target\", axis=1)\n",
        "\n",
        "X_train, X_test, y_train, y_test = train_test_split(X, y, \n",
        "                                                    train_size=0.2,\n",
        "                                                    random_state=42)"
      ],
      "metadata": {
        "id": "ZabRNkF1m4H7"
      },
      "execution_count": 10,
      "outputs": []
    },
    {
      "cell_type": "code",
      "execution_count": 11,
      "metadata": {
        "colab": {
          "base_uri": "https://localhost:8080/"
        },
        "id": "SbOfJF7-rJB0",
        "outputId": "b728481c-7d6b-4f3e-ab74-c3d7d4b2aa58"
      },
      "outputs": [
        {
          "output_type": "execute_result",
          "data": {
            "text/plain": [
              "202"
            ]
          },
          "metadata": {},
          "execution_count": 11
        }
      ],
      "source": [
        "del X,\\\n",
        "    y,\\\n",
        "    merged_df\n",
        "gc.collect()"
      ]
    },
    {
      "cell_type": "markdown",
      "source": [
        "A pipeline containing preprocessing have been created. Categorical variable, i.e. asset name, is transformed by an One Hot Encoding operations. Numerical variables are scaled."
      ],
      "metadata": {
        "id": "9NAUX-iNw0vK"
      }
    },
    {
      "cell_type": "code",
      "execution_count": 12,
      "metadata": {
        "id": "5JkTwT16qTUq"
      },
      "outputs": [],
      "source": [
        "cat_var = [\"asset_name\"]\n",
        "num_var = [\"H-L\", \"O-C\", \"MA_7d\",\n",
        "           \"MA_14d\", \"MA_21d\", \"STD_7d\"]"
      ]
    },
    {
      "cell_type": "code",
      "execution_count": 13,
      "metadata": {
        "id": "m2XWnrBJrDP4"
      },
      "outputs": [],
      "source": [
        "cat_pipe = Pipeline([\n",
        "    ('encoder', OneHotEncoder())\n",
        "])\n",
        "\n",
        "num_pipe = Pipeline([\n",
        "    ('impute', SimpleImputer(strategy=\"mean\")),\n",
        "    ('scaler', StandardScaler())\n",
        "])\n",
        "\n",
        "preprocessing_pipe = ColumnTransformer(\n",
        "    transformers=[\n",
        "    (\"cat\", cat_pipe, cat_var),\n",
        "    ('num', num_pipe, num_var)\n",
        "])"
      ]
    },
    {
      "cell_type": "code",
      "source": [
        "X_train = preprocessing_pipe.fit_transform(X_train)"
      ],
      "metadata": {
        "id": "rqB40cZm35Om"
      },
      "execution_count": 14,
      "outputs": []
    },
    {
      "cell_type": "markdown",
      "metadata": {
        "id": "oISeETPzNHEG"
      },
      "source": [
        "## 2) Modelisation with Machine Learning methods"
      ]
    },
    {
      "cell_type": "markdown",
      "source": [
        "In this article, Vijdha et al. (2020) compared the results of two models : Random Forest and ANN. In the following, three models will be compared : linear regression (as a baseline model), Random Forest and Neuron Network."
      ],
      "metadata": {
        "id": "QDmk0mUIyjch"
      }
    },
    {
      "cell_type": "markdown",
      "metadata": {
        "id": "GBetw_XvNHEG"
      },
      "source": [
        "### a) Linear Regression"
      ]
    },
    {
      "cell_type": "markdown",
      "source": [
        "Linear Regression is most the basic model in regression problem. Here, it is used as a baseline model. "
      ],
      "metadata": {
        "id": "8i_I92G1y4xv"
      }
    },
    {
      "cell_type": "code",
      "execution_count": 15,
      "metadata": {
        "id": "DoByNyT8NHEH",
        "colab": {
          "base_uri": "https://localhost:8080/"
        },
        "outputId": "375888d4-617a-4135-f7a3-c075d8be73ff"
      },
      "outputs": [
        {
          "output_type": "execute_result",
          "data": {
            "text/plain": [
              "LinearRegression()"
            ]
          },
          "metadata": {},
          "execution_count": 15
        }
      ],
      "source": [
        "lin_reg = LinearRegression()\n",
        "lin_reg.fit(X_train, y_train)"
      ]
    },
    {
      "cell_type": "code",
      "source": [
        "X_test = preprocessing_pipe.transform(X_test)"
      ],
      "metadata": {
        "id": "LCcfgkty8m50"
      },
      "execution_count": 16,
      "outputs": []
    },
    {
      "cell_type": "code",
      "execution_count": 17,
      "metadata": {
        "id": "QPZM4ekjhGsr"
      },
      "outputs": [],
      "source": [
        "y_pred = lin_reg.predict(X_test)"
      ]
    },
    {
      "cell_type": "code",
      "execution_count": 18,
      "metadata": {
        "id": "3oJf2ovhNHEI",
        "colab": {
          "base_uri": "https://localhost:8080/"
        },
        "outputId": "fca99b32-8cc8-482a-a08d-134e15954ce6"
      },
      "outputs": [
        {
          "output_type": "stream",
          "name": "stdout",
          "text": [
            "MAE:  0.00118\n",
            "MSE:  1e-05\n",
            "RMSE:  0.0022562518115482135\n",
            "MAPE:  12918659865.34359\n"
          ]
        }
      ],
      "source": [
        "regression_metrics(y_test, y_pred)"
      ]
    },
    {
      "cell_type": "markdown",
      "source": [
        "Linear Regression shows poor performance on our dataset. MAPE are very important. It shows that the model is not fitted to our problems. "
      ],
      "metadata": {
        "id": "4GA5JkGczC90"
      }
    },
    {
      "cell_type": "code",
      "execution_count": 19,
      "metadata": {
        "id": "kH6LC_JnNshf",
        "colab": {
          "base_uri": "https://localhost:8080/"
        },
        "outputId": "07cb9cf9-f1ba-494b-80b6-dcff4fa00747"
      },
      "outputs": [
        {
          "output_type": "execute_result",
          "data": {
            "text/plain": [
              "301"
            ]
          },
          "metadata": {},
          "execution_count": 19
        }
      ],
      "source": [
        "del y_pred, lin_reg\n",
        "gc.collect()"
      ]
    },
    {
      "cell_type": "markdown",
      "metadata": {
        "id": "Cg_5CNHvNHEJ"
      },
      "source": [
        "### b) Random Forest"
      ]
    },
    {
      "cell_type": "markdown",
      "source": [
        "Second model used it's random forest. Random Forest is a more powerful algorithms in Machine Learning. It belongs to ensemble models. In these methods, a great number of tree is trained in order to obtain better perforamnce."
      ],
      "metadata": {
        "id": "5KxYjMoyzVuF"
      }
    },
    {
      "cell_type": "code",
      "execution_count": 20,
      "metadata": {
        "id": "6859H8dBOBDu",
        "colab": {
          "base_uri": "https://localhost:8080/"
        },
        "outputId": "79b36f26-a00f-4bfe-f89c-cdca99748cf3"
      },
      "outputs": [
        {
          "output_type": "execute_result",
          "data": {
            "text/plain": [
              "RandomForestRegressor(random_state=42)"
            ]
          },
          "metadata": {},
          "execution_count": 20
        }
      ],
      "source": [
        "rf_reg = RandomForestRegressor(random_state=42)\n",
        "rf_reg.fit(X_train, y_train)"
      ]
    },
    {
      "cell_type": "code",
      "execution_count": 21,
      "metadata": {
        "id": "IAuSW3WsOF1W",
        "colab": {
          "base_uri": "https://localhost:8080/"
        },
        "outputId": "2789f37e-4c7b-44ea-f00d-c30c8fc09b5b"
      },
      "outputs": [
        {
          "output_type": "stream",
          "name": "stdout",
          "text": [
            "MAE:  0.00116\n",
            "MSE:  0.0\n",
            "RMSE:  0.002103651236361687\n",
            "MAPE:  9640191753.06778\n"
          ]
        }
      ],
      "source": [
        "y_pred = rf_reg.predict(X_test)\n",
        "regression_metrics(y_test, y_pred)"
      ]
    },
    {
      "cell_type": "code",
      "execution_count": 22,
      "metadata": {
        "id": "mEqRHlu6OIbX",
        "colab": {
          "base_uri": "https://localhost:8080/"
        },
        "outputId": "d0683922-6b50-4a15-f9b2-2d343db1af5c"
      },
      "outputs": [
        {
          "output_type": "execute_result",
          "data": {
            "text/plain": [
              "148"
            ]
          },
          "metadata": {},
          "execution_count": 22
        }
      ],
      "source": [
        "del y_pred,\\\n",
        "    rf_reg\n",
        "gc.collect()"
      ]
    },
    {
      "cell_type": "markdown",
      "metadata": {
        "id": "jY002BqUNHEM"
      },
      "source": [
        "## 3) Modelisation with Deep Learning methods"
      ]
    },
    {
      "cell_type": "markdown",
      "metadata": {
        "id": "CqlFl5LbNHEM"
      },
      "source": [
        "Finally, the last model used is a neuron network. The architecture are based on the architecture of Vijdha et al. (2020). "
      ]
    },
    {
      "cell_type": "markdown",
      "source": [
        "### a) ANN according to Vijdha et al. (2020)"
      ],
      "metadata": {
        "id": "Hu1CL0XdnJ2z"
      }
    },
    {
      "cell_type": "code",
      "execution_count": 23,
      "metadata": {
        "id": "jllAGUoYNHEN"
      },
      "outputs": [],
      "source": [
        "from tensorflow import keras\n",
        "import tensorflow as tf\n",
        "import datetime"
      ]
    },
    {
      "cell_type": "code",
      "source": [
        "normalizer = tf.keras.layers.Normalization(axis=-1)\n",
        "normalizer.adapt(X_train)"
      ],
      "metadata": {
        "id": "vZsB5kF1ksBh"
      },
      "execution_count": 24,
      "outputs": []
    },
    {
      "cell_type": "code",
      "source": [
        "def build_and_compile_model(data):\n",
        "  model = keras.Sequential([\n",
        "      data,\n",
        "      keras.layers.Dense(3, activation=\"relu\"),\n",
        "      keras.layers.Dense(1)\n",
        "  ])\n",
        "\n",
        "  model.compile(loss=\"mean_absolute_error\",\n",
        "                optimizer=tf.keras.optimizers.Adam(0.001))\n",
        "  return model"
      ],
      "metadata": {
        "id": "XR4gckemkCb8"
      },
      "execution_count": 25,
      "outputs": []
    },
    {
      "cell_type": "code",
      "source": [
        "dnn_model = build_and_compile_model(normalizer)\n",
        "dnn_model.summary()"
      ],
      "metadata": {
        "id": "tPXX1Getk26o",
        "colab": {
          "base_uri": "https://localhost:8080/"
        },
        "outputId": "5ee211c7-4886-42ab-98f1-0284d2cb0a16"
      },
      "execution_count": 26,
      "outputs": [
        {
          "output_type": "stream",
          "name": "stdout",
          "text": [
            "Model: \"sequential\"\n",
            "_________________________________________________________________\n",
            " Layer (type)                Output Shape              Param #   \n",
            "=================================================================\n",
            " normalization (Normalizatio  (None, 20)               41        \n",
            " n)                                                              \n",
            "                                                                 \n",
            " dense (Dense)               (None, 3)                 63        \n",
            "                                                                 \n",
            " dense_1 (Dense)             (None, 1)                 4         \n",
            "                                                                 \n",
            "=================================================================\n",
            "Total params: 108\n",
            "Trainable params: 67\n",
            "Non-trainable params: 41\n",
            "_________________________________________________________________\n"
          ]
        }
      ]
    },
    {
      "cell_type": "code",
      "source": [
        "%%time\n",
        "\n",
        "history = dnn_model.fit(\n",
        "    X_train,\n",
        "    y_train,\n",
        "    validation_split = 0.2,\n",
        "    verbose = 1, epochs = 50)"
      ],
      "metadata": {
        "id": "5ZWyWKLtk-Ld",
        "colab": {
          "base_uri": "https://localhost:8080/"
        },
        "outputId": "d14d9ec3-d947-4b13-f2b3-3c066aa012a0"
      },
      "execution_count": 27,
      "outputs": [
        {
          "output_type": "stream",
          "name": "stdout",
          "text": [
            "Epoch 1/50\n",
            "2162/2162 [==============================] - 7s 3ms/step - loss: 0.1026 - val_loss: 0.0037\n",
            "Epoch 2/50\n",
            "2162/2162 [==============================] - 6s 3ms/step - loss: 0.0033 - val_loss: 0.0029\n",
            "Epoch 3/50\n",
            "2162/2162 [==============================] - 6s 3ms/step - loss: 0.0028 - val_loss: 0.0024\n",
            "Epoch 4/50\n",
            "2162/2162 [==============================] - 6s 3ms/step - loss: 0.0024 - val_loss: 0.0020\n",
            "Epoch 5/50\n",
            "2162/2162 [==============================] - 6s 3ms/step - loss: 0.0021 - val_loss: 0.0021\n",
            "Epoch 6/50\n",
            "2162/2162 [==============================] - 6s 3ms/step - loss: 0.0018 - val_loss: 0.0018\n",
            "Epoch 7/50\n",
            "2162/2162 [==============================] - 6s 3ms/step - loss: 0.0017 - val_loss: 0.0015\n",
            "Epoch 8/50\n",
            "2162/2162 [==============================] - 6s 3ms/step - loss: 0.0015 - val_loss: 0.0014\n",
            "Epoch 9/50\n",
            "2162/2162 [==============================] - 6s 3ms/step - loss: 0.0014 - val_loss: 0.0014\n",
            "Epoch 10/50\n",
            "2162/2162 [==============================] - 6s 3ms/step - loss: 0.0014 - val_loss: 0.0013\n",
            "Epoch 11/50\n",
            "2162/2162 [==============================] - 6s 3ms/step - loss: 0.0013 - val_loss: 0.0014\n",
            "Epoch 12/50\n",
            "2162/2162 [==============================] - 6s 3ms/step - loss: 0.0013 - val_loss: 0.0014\n",
            "Epoch 13/50\n",
            "2162/2162 [==============================] - 6s 3ms/step - loss: 0.0012 - val_loss: 0.0013\n",
            "Epoch 14/50\n",
            "2162/2162 [==============================] - 6s 3ms/step - loss: 0.0012 - val_loss: 0.0012\n",
            "Epoch 15/50\n",
            "2162/2162 [==============================] - 6s 3ms/step - loss: 0.0012 - val_loss: 0.0012\n",
            "Epoch 16/50\n",
            "2162/2162 [==============================] - 6s 3ms/step - loss: 0.0012 - val_loss: 0.0012\n",
            "Epoch 17/50\n",
            "2162/2162 [==============================] - 6s 3ms/step - loss: 0.0012 - val_loss: 0.0012\n",
            "Epoch 18/50\n",
            "2162/2162 [==============================] - 6s 3ms/step - loss: 0.0012 - val_loss: 0.0012\n",
            "Epoch 19/50\n",
            "2162/2162 [==============================] - 6s 3ms/step - loss: 0.0012 - val_loss: 0.0012\n",
            "Epoch 20/50\n",
            "2162/2162 [==============================] - 6s 3ms/step - loss: 0.0012 - val_loss: 0.0013\n",
            "Epoch 21/50\n",
            "2162/2162 [==============================] - 6s 3ms/step - loss: 0.0012 - val_loss: 0.0013\n",
            "Epoch 22/50\n",
            "2162/2162 [==============================] - 6s 3ms/step - loss: 0.0012 - val_loss: 0.0013\n",
            "Epoch 23/50\n",
            "2162/2162 [==============================] - 6s 3ms/step - loss: 0.0012 - val_loss: 0.0014\n",
            "Epoch 24/50\n",
            "2162/2162 [==============================] - 6s 3ms/step - loss: 0.0012 - val_loss: 0.0012\n",
            "Epoch 25/50\n",
            "2162/2162 [==============================] - 6s 3ms/step - loss: 0.0012 - val_loss: 0.0012\n",
            "Epoch 26/50\n",
            "2162/2162 [==============================] - 6s 3ms/step - loss: 0.0012 - val_loss: 0.0012\n",
            "Epoch 27/50\n",
            "2162/2162 [==============================] - 6s 3ms/step - loss: 0.0012 - val_loss: 0.0012\n",
            "Epoch 28/50\n",
            "2162/2162 [==============================] - 6s 3ms/step - loss: 0.0012 - val_loss: 0.0013\n",
            "Epoch 29/50\n",
            "2162/2162 [==============================] - 6s 3ms/step - loss: 0.0012 - val_loss: 0.0012\n",
            "Epoch 30/50\n",
            "2162/2162 [==============================] - 6s 3ms/step - loss: 0.0012 - val_loss: 0.0012\n",
            "Epoch 31/50\n",
            "2162/2162 [==============================] - 6s 3ms/step - loss: 0.0012 - val_loss: 0.0012\n",
            "Epoch 32/50\n",
            "2162/2162 [==============================] - 6s 3ms/step - loss: 0.0012 - val_loss: 0.0013\n",
            "Epoch 33/50\n",
            "2162/2162 [==============================] - 6s 3ms/step - loss: 0.0012 - val_loss: 0.0013\n",
            "Epoch 34/50\n",
            "2162/2162 [==============================] - 6s 3ms/step - loss: 0.0012 - val_loss: 0.0013\n",
            "Epoch 35/50\n",
            "2162/2162 [==============================] - 6s 3ms/step - loss: 0.0012 - val_loss: 0.0012\n",
            "Epoch 36/50\n",
            "2162/2162 [==============================] - 6s 3ms/step - loss: 0.0012 - val_loss: 0.0012\n",
            "Epoch 37/50\n",
            "2162/2162 [==============================] - 6s 3ms/step - loss: 0.0012 - val_loss: 0.0012\n",
            "Epoch 38/50\n",
            "2162/2162 [==============================] - 6s 3ms/step - loss: 0.0012 - val_loss: 0.0012\n",
            "Epoch 39/50\n",
            "2162/2162 [==============================] - 6s 3ms/step - loss: 0.0012 - val_loss: 0.0012\n",
            "Epoch 40/50\n",
            "2162/2162 [==============================] - 6s 3ms/step - loss: 0.0012 - val_loss: 0.0013\n",
            "Epoch 41/50\n",
            "2162/2162 [==============================] - 6s 3ms/step - loss: 0.0012 - val_loss: 0.0012\n",
            "Epoch 42/50\n",
            "2162/2162 [==============================] - 6s 3ms/step - loss: 0.0012 - val_loss: 0.0013\n",
            "Epoch 43/50\n",
            "2162/2162 [==============================] - 6s 3ms/step - loss: 0.0012 - val_loss: 0.0012\n",
            "Epoch 44/50\n",
            "2162/2162 [==============================] - 6s 3ms/step - loss: 0.0012 - val_loss: 0.0012\n",
            "Epoch 45/50\n",
            "2162/2162 [==============================] - 6s 3ms/step - loss: 0.0012 - val_loss: 0.0012\n",
            "Epoch 46/50\n",
            "2162/2162 [==============================] - 6s 3ms/step - loss: 0.0012 - val_loss: 0.0012\n",
            "Epoch 47/50\n",
            "2162/2162 [==============================] - 6s 3ms/step - loss: 0.0012 - val_loss: 0.0012\n",
            "Epoch 48/50\n",
            "2162/2162 [==============================] - 6s 3ms/step - loss: 0.0012 - val_loss: 0.0012\n",
            "Epoch 49/50\n",
            "2162/2162 [==============================] - 6s 3ms/step - loss: 0.0012 - val_loss: 0.0012\n",
            "Epoch 50/50\n",
            "2162/2162 [==============================] - 6s 3ms/step - loss: 0.0012 - val_loss: 0.0012\n",
            "CPU times: user 8min 5s, sys: 1min 21s, total: 9min 26s\n",
            "Wall time: 5min 6s\n"
          ]
        }
      ]
    },
    {
      "cell_type": "code",
      "source": [
        "y_pred = dnn_model.predict(X_test).flatten()\n",
        "\n",
        "a = plt.axes(aspect='equal')\n",
        "plt.scatter(y_test, y_pred)\n",
        "plt.xlabel('True Values [USD]')\n",
        "plt.ylabel('Predictions [USD]')\n",
        "lims = [0, 0.5]\n",
        "plt.xlim(lims)\n",
        "plt.ylim(lims)\n",
        "_ = plt.plot(lims, lims)"
      ],
      "metadata": {
        "id": "lgDFzHEKlYz6",
        "colab": {
          "base_uri": "https://localhost:8080/",
          "height": 283
        },
        "outputId": "9b9524a2-7dfb-47c3-a967-98e8379ea8d9"
      },
      "execution_count": 28,
      "outputs": [
        {
          "output_type": "display_data",
          "data": {
            "image/png": "[encoded data removed]",
            "text/plain": [
              "<Figure size 432x288 with 1 Axes>"
            ]
          },
          "metadata": {
            "needs_background": "light"
          }
        }
      ]
    },
    {
      "cell_type": "code",
      "source": [
        "error = y_pred - y_test\n",
        "plt.hist(error, bins=25)\n",
        "plt.xlabel('Prediction Error [USD]')\n",
        "_ = plt.ylabel('Count')"
      ],
      "metadata": {
        "id": "y8i8Z-b9leMR",
        "colab": {
          "base_uri": "https://localhost:8080/",
          "height": 279
        },
        "outputId": "bb93336f-c45e-4034-f9a4-769a1563664c"
      },
      "execution_count": 29,
      "outputs": [
        {
          "output_type": "display_data",
          "data": {
            "image/png": "[encoded data removed]",
            "text/plain": [
              "<Figure size 432x288 with 1 Axes>"
            ]
          },
          "metadata": {
            "needs_background": "light"
          }
        }
      ]
    },
    {
      "cell_type": "code",
      "source": [
        "regression_metrics(y_pred, y_test)"
      ],
      "metadata": {
        "colab": {
          "base_uri": "https://localhost:8080/"
        },
        "id": "J2yQpf96Fysa",
        "outputId": "e4306716-d346-4ba9-864e-a0cdb876e95b"
      },
      "execution_count": 30,
      "outputs": [
        {
          "output_type": "stream",
          "name": "stdout",
          "text": [
            "MAE:  0.00118\n",
            "MSE:  1e-05\n",
            "RMSE:  0.002384334301414841\n",
            "MAPE:  18.20496\n"
          ]
        }
      ]
    },
    {
      "cell_type": "markdown",
      "source": [
        "### b) GRU model"
      ],
      "metadata": {
        "id": "i4vQESmGikNF"
      }
    },
    {
      "cell_type": "code",
      "source": [
        "# The GRU architecture\n",
        "regressorGRU = tf.keras.Sequential()\n",
        "# First GRU layer with Dropout regularisation\n",
        "regressorGRU.add(tf.keras.layers.GRU(units=50,\n",
        "                                     return_sequences=True,\n",
        "                                     input_shape=(X_train.shape[1],1),\n",
        "                                     activation='tanh'))\n",
        "regressorGRU.add(tf.keras.layers.Dropout(0.2))\n",
        "\n",
        "# Second GRU layer\n",
        "regressorGRU.add(tf.keras.layers.GRU(units=50,\n",
        "                                     return_sequences=True,\n",
        "                                     input_shape=(X_train.shape[1],1),\n",
        "                                     activation='tanh'))\n",
        "regressorGRU.add(tf.keras.layers.Dropout(0.2))\n",
        "# Third GRU layer\n",
        "regressorGRU.add(tf.keras.layers.GRU(units=50,\n",
        "                                    return_sequences=True,\n",
        "                                    input_shape=(X_train.shape[1],1),\n",
        "                                    activation='tanh'))\n",
        "regressorGRU.add(tf.keras.layers.Dropout(0.2))\n",
        "# Fourth GRU layer\n",
        "regressorGRU.add(tf.keras.layers.GRU(units=50,\n",
        "                                     activation='tanh'))\n",
        "regressorGRU.add(tf.keras.layers.Dropout(0.2))\n",
        "# The output layer\n",
        "regressorGRU.add(tf.keras.layers.Dense(units=1))\n",
        "# Compiling the RNN\n",
        "regressorGRU.compile(optimizer=tf.keras.optimizers.SGD(lr=0.01,\n",
        "                                                      decay=1e-7,\n",
        "                                                      momentum=0.9,\n",
        "                                                      nesterov=False),\n",
        "                     loss='mean_squared_error')"
      ],
      "metadata": {
        "id": "BsLC3cq1iJIe"
      },
      "execution_count": 31,
      "outputs": []
    },
    {
      "cell_type": "code",
      "source": [
        "regressorGRU.summary()"
      ],
      "metadata": {
        "colab": {
          "base_uri": "https://localhost:8080/"
        },
        "id": "o-AivzXOnjOa",
        "outputId": "1939877c-5038-4910-8477-4ba1b379198c"
      },
      "execution_count": 32,
      "outputs": [
        {
          "output_type": "stream",
          "name": "stdout",
          "text": [
            "Model: \"sequential_1\"\n",
            "_________________________________________________________________\n",
            " Layer (type)                Output Shape              Param #   \n",
            "=================================================================\n",
            " gru (GRU)                   (None, 20, 50)            7950      \n",
            "                                                                 \n",
            " dropout (Dropout)           (None, 20, 50)            0         \n",
            "                                                                 \n",
            " gru_1 (GRU)                 (None, 20, 50)            15300     \n",
            "                                                                 \n",
            " dropout_1 (Dropout)         (None, 20, 50)            0         \n",
            "                                                                 \n",
            " gru_2 (GRU)                 (None, 20, 50)            15300     \n",
            "                                                                 \n",
            " dropout_2 (Dropout)         (None, 20, 50)            0         \n",
            "                                                                 \n",
            " gru_3 (GRU)                 (None, 50)                15300     \n",
            "                                                                 \n",
            " dropout_3 (Dropout)         (None, 50)                0         \n",
            "                                                                 \n",
            " dense_2 (Dense)             (None, 1)                 51        \n",
            "                                                                 \n",
            "=================================================================\n",
            "Total params: 53,901\n",
            "Trainable params: 53,901\n",
            "Non-trainable params: 0\n",
            "_________________________________________________________________\n"
          ]
        }
      ]
    },
    {
      "cell_type": "code",
      "source": [
        "%%time\n",
        "\n",
        "history = regressorGRU.fit(\n",
        "    X_train,\n",
        "    y_train,\n",
        "    validation_split = 0.2,\n",
        "    verbose = 1, epochs = 50)"
      ],
      "metadata": {
        "colab": {
          "base_uri": "https://localhost:8080/"
        },
        "id": "qWC6bgTinWci",
        "outputId": "5684d0c1-0d49-4f0c-a708-92f2753455eb"
      },
      "execution_count": 33,
      "outputs": [
        {
          "output_type": "stream",
          "name": "stdout",
          "text": [
            "Epoch 1/50\n",
            "2162/2162 [==============================] - 31s 11ms/step - loss: 2.3414e-04 - val_loss: 6.9058e-06\n",
            "Epoch 2/50\n",
            "2162/2162 [==============================] - 23s 11ms/step - loss: 8.5415e-05 - val_loss: 6.5430e-06\n",
            "Epoch 3/50\n",
            "2162/2162 [==============================] - 22s 10ms/step - loss: 5.7160e-05 - val_loss: 7.5323e-06\n",
            "Epoch 4/50\n",
            "2162/2162 [==============================] - 22s 10ms/step - loss: 4.4743e-05 - val_loss: 6.3635e-06\n",
            "Epoch 5/50\n",
            "2162/2162 [==============================] - 22s 10ms/step - loss: 3.7227e-05 - val_loss: 6.2654e-06\n",
            "Epoch 6/50\n",
            "2162/2162 [==============================] - 22s 10ms/step - loss: 3.2436e-05 - val_loss: 6.3085e-06\n",
            "Epoch 7/50\n",
            "2162/2162 [==============================] - 22s 10ms/step - loss: 2.8287e-05 - val_loss: 6.6927e-06\n",
            "Epoch 8/50\n",
            "2162/2162 [==============================] - 22s 10ms/step - loss: 2.5897e-05 - val_loss: 7.1784e-06\n",
            "Epoch 9/50\n",
            "2162/2162 [==============================] - 22s 10ms/step - loss: 2.3528e-05 - val_loss: 6.4559e-06\n",
            "Epoch 10/50\n",
            "2162/2162 [==============================] - 22s 10ms/step - loss: 2.2107e-05 - val_loss: 6.2964e-06\n",
            "Epoch 11/50\n",
            "2162/2162 [==============================] - 22s 10ms/step - loss: 2.0652e-05 - val_loss: 6.1785e-06\n",
            "Epoch 12/50\n",
            "2162/2162 [==============================] - 22s 10ms/step - loss: 1.9292e-05 - val_loss: 6.3917e-06\n",
            "Epoch 13/50\n",
            "2162/2162 [==============================] - 22s 10ms/step - loss: 1.8247e-05 - val_loss: 5.9911e-06\n",
            "Epoch 14/50\n",
            "2162/2162 [==============================] - 22s 10ms/step - loss: 1.7353e-05 - val_loss: 5.9847e-06\n",
            "Epoch 15/50\n",
            "2162/2162 [==============================] - 22s 10ms/step - loss: 1.6976e-05 - val_loss: 6.3607e-06\n",
            "Epoch 16/50\n",
            "2162/2162 [==============================] - 23s 11ms/step - loss: 1.6295e-05 - val_loss: 5.9611e-06\n",
            "Epoch 17/50\n",
            "2162/2162 [==============================] - 22s 10ms/step - loss: 1.5261e-05 - val_loss: 6.0568e-06\n",
            "Epoch 18/50\n",
            "2162/2162 [==============================] - 22s 10ms/step - loss: 1.4926e-05 - val_loss: 6.1994e-06\n",
            "Epoch 19/50\n",
            "2162/2162 [==============================] - 22s 10ms/step - loss: 1.4334e-05 - val_loss: 6.0150e-06\n",
            "Epoch 20/50\n",
            "2162/2162 [==============================] - 22s 10ms/step - loss: 1.3943e-05 - val_loss: 5.9533e-06\n",
            "Epoch 21/50\n",
            "2162/2162 [==============================] - 22s 10ms/step - loss: 1.3439e-05 - val_loss: 5.9490e-06\n",
            "Epoch 22/50\n",
            "2162/2162 [==============================] - 22s 10ms/step - loss: 1.3153e-05 - val_loss: 6.2142e-06\n",
            "Epoch 23/50\n",
            "2162/2162 [==============================] - 22s 10ms/step - loss: 1.2784e-05 - val_loss: 5.9415e-06\n",
            "Epoch 24/50\n",
            "2162/2162 [==============================] - 22s 10ms/step - loss: 1.2686e-05 - val_loss: 5.9549e-06\n",
            "Epoch 25/50\n",
            "2162/2162 [==============================] - 22s 10ms/step - loss: 1.2116e-05 - val_loss: 5.9384e-06\n",
            "Epoch 26/50\n",
            "2162/2162 [==============================] - 22s 10ms/step - loss: 1.1686e-05 - val_loss: 6.4549e-06\n",
            "Epoch 27/50\n",
            "2162/2162 [==============================] - 22s 10ms/step - loss: 1.1723e-05 - val_loss: 6.1048e-06\n",
            "Epoch 28/50\n",
            "2162/2162 [==============================] - 22s 10ms/step - loss: 1.1274e-05 - val_loss: 5.9812e-06\n",
            "Epoch 29/50\n",
            "2162/2162 [==============================] - 22s 10ms/step - loss: 1.0919e-05 - val_loss: 6.4263e-06\n",
            "Epoch 30/50\n",
            "2162/2162 [==============================] - 22s 10ms/step - loss: 1.0681e-05 - val_loss: 5.9279e-06\n",
            "Epoch 31/50\n",
            "2162/2162 [==============================] - 22s 10ms/step - loss: 1.0523e-05 - val_loss: 6.0067e-06\n",
            "Epoch 32/50\n",
            "2162/2162 [==============================] - 22s 10ms/step - loss: 1.0525e-05 - val_loss: 5.9906e-06\n",
            "Epoch 33/50\n",
            "2162/2162 [==============================] - 22s 10ms/step - loss: 1.0442e-05 - val_loss: 5.9253e-06\n",
            "Epoch 34/50\n",
            "2162/2162 [==============================] - 22s 10ms/step - loss: 1.0139e-05 - val_loss: 5.9243e-06\n",
            "Epoch 35/50\n",
            "2162/2162 [==============================] - 22s 10ms/step - loss: 9.9021e-06 - val_loss: 6.0230e-06\n",
            "Epoch 36/50\n",
            "2162/2162 [==============================] - 22s 10ms/step - loss: 9.6664e-06 - val_loss: 6.2228e-06\n",
            "Epoch 37/50\n",
            "2162/2162 [==============================] - 22s 10ms/step - loss: 9.7139e-06 - val_loss: 5.9206e-06\n",
            "Epoch 38/50\n",
            "2162/2162 [==============================] - 22s 10ms/step - loss: 9.5739e-06 - val_loss: 5.9240e-06\n",
            "Epoch 39/50\n",
            "2162/2162 [==============================] - 22s 10ms/step - loss: 9.3223e-06 - val_loss: 6.0159e-06\n",
            "Epoch 40/50\n",
            "2162/2162 [==============================] - 22s 10ms/step - loss: 9.2466e-06 - val_loss: 6.2623e-06\n",
            "Epoch 41/50\n",
            "2162/2162 [==============================] - 22s 10ms/step - loss: 9.1308e-06 - val_loss: 5.9234e-06\n",
            "Epoch 42/50\n",
            "2162/2162 [==============================] - 22s 10ms/step - loss: 9.0759e-06 - val_loss: 5.9504e-06\n",
            "Epoch 43/50\n",
            "2162/2162 [==============================] - 22s 10ms/step - loss: 8.7999e-06 - val_loss: 5.9411e-06\n",
            "Epoch 44/50\n",
            "2162/2162 [==============================] - 23s 10ms/step - loss: 8.7542e-06 - val_loss: 6.2723e-06\n",
            "Epoch 45/50\n",
            "2162/2162 [==============================] - 22s 10ms/step - loss: 8.5613e-06 - val_loss: 6.0189e-06\n",
            "Epoch 46/50\n",
            "2162/2162 [==============================] - 22s 10ms/step - loss: 8.6088e-06 - val_loss: 5.9205e-06\n",
            "Epoch 47/50\n",
            "2162/2162 [==============================] - 22s 10ms/step - loss: 8.4484e-06 - val_loss: 6.1901e-06\n",
            "Epoch 48/50\n",
            "2162/2162 [==============================] - 22s 10ms/step - loss: 8.4285e-06 - val_loss: 5.9211e-06\n",
            "Epoch 49/50\n",
            "2162/2162 [==============================] - 22s 10ms/step - loss: 8.2823e-06 - val_loss: 5.9548e-06\n",
            "Epoch 50/50\n",
            "2162/2162 [==============================] - 22s 10ms/step - loss: 8.1618e-06 - val_loss: 6.0802e-06\n",
            "CPU times: user 25min 9s, sys: 3min 17s, total: 28min 27s\n",
            "Wall time: 18min 40s\n"
          ]
        }
      ]
    },
    {
      "cell_type": "code",
      "source": [
        "y_pred = regressorGRU.predict(X_test).flatten()\n",
        "\n",
        "a = plt.axes(aspect='equal')\n",
        "plt.scatter(y_test, y_pred)\n",
        "plt.xlabel('True Values [USD]')\n",
        "plt.ylabel('Predictions [USD]')\n",
        "lims = [0, 0.5]\n",
        "plt.xlim(lims)\n",
        "plt.ylim(lims)\n",
        "_ = plt.plot(lims, lims)"
      ],
      "metadata": {
        "colab": {
          "base_uri": "https://localhost:8080/",
          "height": 283
        },
        "id": "tOW_nwVGi5RE",
        "outputId": "c55457a2-5199-443b-ab51-0775a6189995"
      },
      "execution_count": 34,
      "outputs": [
        {
          "output_type": "display_data",
          "data": {
            "image/png": "[encoded data removed]",
            "text/plain": [
              "<Figure size 432x288 with 1 Axes>"
            ]
          },
          "metadata": {
            "needs_background": "light"
          }
        }
      ]
    },
    {
      "cell_type": "code",
      "source": [
        "error = y_pred - y_test\n",
        "plt.hist(error, bins=25)\n",
        "plt.xlabel('Prediction Error [USD]')\n",
        "_ = plt.ylabel('Count')"
      ],
      "metadata": {
        "colab": {
          "base_uri": "https://localhost:8080/",
          "height": 279
        },
        "id": "twVH6ZNalvoq",
        "outputId": "0a0ecd19-31cf-41ea-f042-58fe3ef0332d"
      },
      "execution_count": 35,
      "outputs": [
        {
          "output_type": "display_data",
          "data": {
            "image/png": "[encoded data removed]",
            "text/plain": [
              "<Figure size 432x288 with 1 Axes>"
            ]
          },
          "metadata": {
            "needs_background": "light"
          }
        }
      ]
    },
    {
      "cell_type": "code",
      "source": [
        "regression_metrics(y_pred, y_test)"
      ],
      "metadata": {
        "colab": {
          "base_uri": "https://localhost:8080/"
        },
        "id": "hOr0OB0Zly7n",
        "outputId": "7af665f6-3cce-4f1f-f4aa-5580386d2275"
      },
      "execution_count": 36,
      "outputs": [
        {
          "output_type": "stream",
          "name": "stdout",
          "text": [
            "MAE:  0.00133\n",
            "MSE:  1e-05\n",
            "RMSE:  0.002341279654191355\n",
            "MAPE:  13.31763\n"
          ]
        }
      ]
    },
    {
      "cell_type": "markdown",
      "source": [
        "https://www.kaggle.com/thebrownviking20/intro-to-recurrent-neural-networks-lstm-gru"
      ],
      "metadata": {
        "id": "o4x2maWdkTBu"
      }
    }
  ],
  "metadata": {
    "colab": {
      "collapsed_sections": [],
      "machine_shape": "hm",
      "name": "P08_02_notebookmodelisation.ipynb",
      "provenance": [],
      "include_colab_link": true
    },
    "interpreter": {
      "hash": "a15bb0e7bec1806f09e46ea9c627385833a55ef2489c85d10accee8104f3235c"
    },
    "kernelspec": {
      "display_name": "Python 3 (ipykernel)",
      "language": "python",
      "name": "python3"
    },
    "language_info": {
      "codemirror_mode": {
        "name": "ipython",
        "version": 3
      },
      "file_extension": ".py",
      "mimetype": "text/x-python",
      "name": "python",
      "nbconvert_exporter": "python",
      "pygments_lexer": "ipython3",
      "version": "3.9.7"
    },
    "accelerator": "GPU"
  },
  "nbformat": 4,
  "nbformat_minor": 0
}
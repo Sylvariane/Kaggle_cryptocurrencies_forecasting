{
  "cells": [
    {
      "cell_type": "code",
      "execution_count": 1,
      "metadata": {
        "colab": {
          "base_uri": "https://localhost:8080/",
          "height": 675
        },
        "id": "5ijxGgFb7Bud",
        "outputId": "43a9b6ba-c02a-4340-8d39-aeeffbdfba2d"
      },
      "outputs": [],
      "source": [
        "# system libraries\n",
        "import warnings\n",
        "warnings.filterwarnings('ignore')\n",
        "warnings.simplefilter(action='ignore', category=FutureWarning)\n",
        "import gc\n",
        "\n",
        "# data manipulation libraries\n",
        "import pandas as pd\n",
        "import dask.dataframe as dd\n",
        "import numpy as np\n",
        "\n",
        "# graphical libraries\n",
        "import matplotlib.pyplot as plt\n",
        "import seaborn as sns\n",
        "import plotly.express as px\n",
        "import plotly.graph_objects as go\n",
        "from plotly.subplots import make_subplots\n",
        "\n",
        "# modelisation libraries\n",
        "from dask_ml.preprocessing import Categorizer, OneHotEncoder, StandardScaler\n",
        "from dask_ml.impute import SimpleImputer\n",
        "from sklearn.pipeline import Pipeline\n",
        "from dask_ml.compose import ColumnTransformer\n",
        "from sklearn.multioutput import MultiOutputRegressor\n",
        "from dask_ml.linear_model import LinearRegression\n",
        "from dask_ml.xgboost import XGBRegressor\n",
        "from dask_ml.metrics import mean_absolute_error, mean_squared_error, mean_absolute_percentage_error"
      ]
    },
    {
      "cell_type": "code",
      "execution_count": 2,
      "metadata": {
        "id": "LkdDYS63gpxi"
      },
      "outputs": [],
      "source": [
        "# source : https://stackoverflow.com/questions/53165807/how-to-calculate-rmspe-in-python-using-numpy\n",
        "def rmpse(y_true, y_pred):\n",
        "    '''\n",
        "    Compute Root Mean Square Percentage Error between two arrays.\n",
        "    '''\n",
        "    loss = np.sqrt(np.mean(np.square(((y_true - y_pred) / y_true))))\n",
        "\n",
        "    return loss\n",
        "\n",
        "def regression_metrics(y_test, y_pred):\n",
        "    \"\"\"Function which contains differents metrics about regression\n",
        "    Input: y_test, prediction\n",
        "    \n",
        "    Output: MAE, MSE, RMSE, MAPE & R² score  \n",
        "    \"\"\"\n",
        "    mae = mean_absolute_error(y_test, y_pred)\n",
        "    mse = mean_squared_error(y_test, y_pred)\n",
        "    rmse = np.sqrt(mse)\n",
        "    rmpse_cal = rmpse(y_test, y_pred)\n",
        "    mape = mean_absolute_percentage_error(y_test, y_pred)\n",
        "    print(\"MAE: \",mae.round(5))\n",
        "    print(\"MSE: \", mse.round(5))\n",
        "    print(\"RMSE: \", rmse)\n",
        "    print(\"RMPSE: \", rmpse_cal.round(3))\n",
        "    print(\"MAPE: \", mape.round(5))"
      ]
    },
    {
      "cell_type": "code",
      "execution_count": 3,
      "metadata": {},
      "outputs": [],
      "source": [
        "dtype_dict = {\"H-L\" : \"float16\",\n",
        "              \"O-C\" : \"float16\",\n",
        "              \"MA_7d\" : \"float16\", \n",
        "              \"MA_14d\" : \"float16\",\n",
        "              \"MA_21d\" : \"float16\",\n",
        "              \"STD_7d\" : \"float16\"}"
      ]
    },
    {
      "cell_type": "code",
      "execution_count": 4,
      "metadata": {
        "colab": {
          "base_uri": "https://localhost:8080/",
          "height": 165
        },
        "id": "MTzY2rXvOYW6",
        "outputId": "a78e637f-bf62-4e75-c4da-7dbc9fe400b5"
      },
      "outputs": [],
      "source": [
        "df = dd.read_csv('Datasets/new_df/*.csv',\n",
        "                 dtype=dtype_dict)"
      ]
    },
    {
      "cell_type": "code",
      "execution_count": 5,
      "metadata": {
        "colab": {
          "background_save": true
        },
        "id": "V07p_oqMg30N"
      },
      "outputs": [],
      "source": [
        "df = df.drop([\"open\", \"close\", \"high\", \"low\", \"volume\",\n",
        "         \"log_open\", \"log_close\", \"log_low\", \"log_high\",\n",
        "         \"FRAMA\", \"RSI\"], axis=1)"
      ]
    },
    {
      "cell_type": "code",
      "execution_count": 6,
      "metadata": {},
      "outputs": [],
      "source": [
        "df = df.set_index(\"timestamp\")"
      ]
    },
    {
      "cell_type": "code",
      "execution_count": null,
      "metadata": {},
      "outputs": [],
      "source": [
        "df = df.categorize(\"asset_name\")"
      ]
    },
    {
      "cell_type": "code",
      "execution_count": null,
      "metadata": {
        "colab": {
          "background_save": true
        },
        "id": "Pj0bxYMMqiPC"
      },
      "outputs": [],
      "source": [
        "train_set = df.loc[:\"2021-06-20 23:59:00\"]\n",
        "test_set = df.loc[\"2021-06-21 00:00:00\":]"
      ]
    },
    {
      "cell_type": "code",
      "execution_count": null,
      "metadata": {},
      "outputs": [],
      "source": [
        "train_set = train_set.reset_index()\n",
        "train_set = train_set.drop(\"timestamp\", axis=1)\n",
        "\n",
        "test_set = test_set.reset_index()\n",
        "test_set = test_set.drop(\"timestamp\", axis=1)"
      ]
    },
    {
      "cell_type": "code",
      "execution_count": null,
      "metadata": {
        "colab": {
          "background_save": true
        },
        "id": "UtzKbKW3r7PU"
      },
      "outputs": [],
      "source": [
        "y_train = train_set[\"target\"]\n",
        "X_train = train_set.drop(\"target\", axis=1)\n",
        "\n",
        "y_test = test_set[\"target\"]\n",
        "X_test = test_set.drop(\"target\", axis=1)"
      ]
    },
    {
      "cell_type": "code",
      "execution_count": null,
      "metadata": {
        "colab": {
          "background_save": true
        },
        "id": "SbOfJF7-rJB0"
      },
      "outputs": [],
      "source": [
        "del df, train_set, test_set\n",
        "gc.collect()"
      ]
    },
    {
      "cell_type": "code",
      "execution_count": null,
      "metadata": {},
      "outputs": [],
      "source": [
        "type(train_set)"
      ]
    },
    {
      "cell_type": "code",
      "execution_count": null,
      "metadata": {
        "colab": {
          "background_save": true
        },
        "id": "5JkTwT16qTUq"
      },
      "outputs": [],
      "source": [
        "cat_var = [\"asset_name\"]\n",
        "num_var = [\"H-L\", \"O-C\", \"MA_7d\", \"MA_14d\", \"MA_21d\", \"STD_7d\"]"
      ]
    },
    {
      "cell_type": "code",
      "execution_count": null,
      "metadata": {
        "colab": {
          "background_save": true
        },
        "id": "m2XWnrBJrDP4"
      },
      "outputs": [],
      "source": [
        "cat_pipe = Pipeline([\n",
        "    ('categorizer', Categorizer()),\n",
        "    ('encoder', OneHotEncoder(sparse=False))\n",
        "])\n",
        "\n",
        "num_pipe = Pipeline([\n",
        "    ('imputer', SimpleImputer(strategy=\"mean\")),\n",
        "    ('scaler', StandardScaler())\n",
        "])\n",
        "\n",
        "preprocessing_pipe = ColumnTransformer(\n",
        "    transformers=[\n",
        "    ('cat',  cat_pipe, cat_var),\n",
        "    ('num', num_pipe, num_var)\n",
        "])"
      ]
    },
    {
      "cell_type": "code",
      "execution_count": null,
      "metadata": {
        "colab": {
          "background_save": true
        },
        "id": "sL8qJN06CbNh"
      },
      "outputs": [],
      "source": [
        "X_train = preprocessing_pipe.fit_transform(X_train)"
      ]
    },
    {
      "cell_type": "code",
      "execution_count": null,
      "metadata": {},
      "outputs": [],
      "source": [
        "X_train = X_train.to_dask_array()\n",
        "y_train = y_train.to_dask_array()"
      ]
    },
    {
      "cell_type": "code",
      "execution_count": null,
      "metadata": {
        "colab": {
          "background_save": true
        },
        "id": "Pgh99YwfHDvZ"
      },
      "outputs": [],
      "source": [
        "lin_reg = LinearRegression()\n",
        "lin_reg.fit(X_train, y_train)"
      ]
    },
    {
      "cell_type": "code",
      "execution_count": null,
      "metadata": {
        "colab": {
          "background_save": true
        },
        "id": "QPZM4ekjhGsr"
      },
      "outputs": [],
      "source": [
        "X_test = preprocessing_pipe.transform(X_test)\n",
        "X_test = X_test.to_dask_array()\n",
        "y_test = y_test.to_dask_array()\n",
        "y_pred = lin_reg.predict(X_test)\n",
        "regression_metrics(np.array(y_test), y_pred)"
      ]
    },
    {
      "cell_type": "code",
      "execution_count": null,
      "metadata": {
        "colab": {
          "background_save": true
        },
        "id": "kH6LC_JnNshf"
      },
      "outputs": [],
      "source": [
        "del y_pred, lin_reg"
      ]
    },
    {
      "cell_type": "code",
      "execution_count": null,
      "metadata": {
        "colab": {
          "background_save": true
        },
        "id": "6859H8dBOBDu"
      },
      "outputs": [],
      "source": [
        "xgboost = XGBRegressor(random_state=42)\n",
        "xgboost.fit(X_train, y_train)"
      ]
    },
    {
      "cell_type": "code",
      "execution_count": null,
      "metadata": {
        "colab": {
          "background_save": true
        },
        "id": "IAuSW3WsOF1W"
      },
      "outputs": [],
      "source": [
        "y_pred = xgboost.predict(X_test)\n",
        "regression_metrics(np.array(y_test), y_pred)"
      ]
    },
    {
      "cell_type": "code",
      "execution_count": null,
      "metadata": {
        "colab": {
          "background_save": true
        },
        "id": "mEqRHlu6OIbX"
      },
      "outputs": [],
      "source": [
        "del y_pred, xgboost"
      ]
    }
  ],
  "metadata": {
    "colab": {
      "collapsed_sections": [],
      "machine_shape": "hm",
      "name": "P08_02_notebookmodelisation.ipynb",
      "provenance": []
    },
    "interpreter": {
      "hash": "a15bb0e7bec1806f09e46ea9c627385833a55ef2489c85d10accee8104f3235c"
    },
    "kernelspec": {
      "display_name": "Python 3.9.7 64-bit ('base': conda)",
      "name": "python3"
    },
    "language_info": {
      "codemirror_mode": {
        "name": "ipython",
        "version": 3
      },
      "file_extension": ".py",
      "mimetype": "text/x-python",
      "name": "python",
      "nbconvert_exporter": "python",
      "pygments_lexer": "ipython3",
      "version": "3.9.7"
    }
  },
  "nbformat": 4,
  "nbformat_minor": 0
}

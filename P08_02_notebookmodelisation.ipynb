{
  "cells": [
    {
      "cell_type": "markdown",
      "metadata": {
        "id": "view-in-github",
        "colab_type": "text"
      },
      "source": [
        "<a href=\"https://colab.research.google.com/github/Sylvariane/Kaggle_cryptocurrencies_forecasting/blob/main/P08_02_notebookmodelisation.ipynb\" target=\"_parent\"><img src=\"https://colab.research.google.com/assets/colab-badge.svg\" alt=\"Open In Colab\"/></a>"
      ]
    },
    {
      "cell_type": "code",
      "execution_count": 1,
      "metadata": {
        "colab": {
          "base_uri": "https://localhost:8080/"
        },
        "id": "fpBet7bAPE_W",
        "outputId": "c5b209d4-f006-4455-eee8-f4153a347928"
      },
      "outputs": [
        {
          "output_type": "stream",
          "name": "stdout",
          "text": [
            "Mounted at /content/drive\n"
          ]
        }
      ],
      "source": [
        "from google.colab import drive\n",
        "drive.mount('/content/drive')"
      ]
    },
    {
      "cell_type": "markdown",
      "metadata": {
        "id": "TdI3zBHPNHDt"
      },
      "source": [
        "# G-Research Cryptocurrencies : Modelisation"
      ]
    },
    {
      "cell_type": "markdown",
      "metadata": {
        "id": "nMrh6H0bNHDv"
      },
      "source": [
        "- Utils."
      ]
    },
    {
      "cell_type": "code",
      "execution_count": 2,
      "metadata": {
        "id": "5ijxGgFb7Bud"
      },
      "outputs": [],
      "source": [
        "# system libraries\n",
        "import warnings\n",
        "warnings.filterwarnings('ignore')\n",
        "warnings.simplefilter(action='ignore', category=FutureWarning)\n",
        "import gc\n",
        "\n",
        "# data manipulation libraries\n",
        "import pandas as pd\n",
        "import numpy as np\n",
        "\n",
        "# graphical libraries\n",
        "import matplotlib.pyplot as plt\n",
        "import seaborn as sns\n",
        "import plotly.express as px\n",
        "import plotly.graph_objects as go\n",
        "from plotly.subplots import make_subplots\n",
        "\n",
        "# modelisation libraries\n",
        "from sklearn.preprocessing import OneHotEncoder, StandardScaler\n",
        "from sklearn.impute import SimpleImputer\n",
        "from sklearn.pipeline import Pipeline\n",
        "from sklearn.compose import ColumnTransformer\n",
        "from sklearn.linear_model import LinearRegression\n",
        "from sklearn.ensemble import RandomForestRegressor\n",
        "from sklearn.metrics import mean_absolute_error, mean_squared_error, mean_absolute_percentage_error"
      ]
    },
    {
      "cell_type": "code",
      "execution_count": 3,
      "metadata": {
        "id": "LkdDYS63gpxi"
      },
      "outputs": [],
      "source": [
        "def regression_metrics(y_test, y_pred):\n",
        "    \"\"\"Function which contains differents metrics about regression\n",
        "    Input: y_test, prediction\n",
        "    \n",
        "    Output: MAE, MSE, RMSE, MAPE & R² score  \n",
        "    \"\"\"\n",
        "    mae = mean_absolute_error(y_test, y_pred)\n",
        "    mse = mean_squared_error(y_test, y_pred)\n",
        "    rmse = np.sqrt(mse)\n",
        "    mape = mean_absolute_percentage_error(y_test, y_pred)\n",
        "    print(\"MAE: \",mae.round(5))\n",
        "    print(\"MSE: \", mse.round(5))\n",
        "    print(\"RMSE: \", rmse)\n",
        "    print(\"MAPE: \", mape.round(5))"
      ]
    },
    {
      "cell_type": "code",
      "execution_count": 4,
      "metadata": {
        "id": "bHUyBHLaNHD3"
      },
      "outputs": [],
      "source": [
        "dtype_dict = {\"H-L\" : \"float16\",\n",
        "              \"O-C\" : \"float16\",\n",
        "              \"MA_7d\" : \"float16\", \n",
        "              \"MA_14d\" : \"float16\",\n",
        "              \"MA_21d\" : \"float16\",\n",
        "              \"STD_7d\" : \"float16\"}"
      ]
    },
    {
      "cell_type": "code",
      "execution_count": 5,
      "metadata": {
        "id": "jXR0kUE7Or2G"
      },
      "outputs": [],
      "source": [
        "path = '/content/drive/My Drive/Ingénieur ML - OC/P8/datasets/new_df/'"
      ]
    },
    {
      "cell_type": "markdown",
      "metadata": {
        "id": "K5KBxJ0QNHD5"
      },
      "source": [
        "## 1) Data Preprocessing"
      ]
    },
    {
      "cell_type": "code",
      "source": [
        "merged_df = pd.read_csv(path+\"bitcoin.csv\",\n",
        "                        dtype = dtype_dict)\n",
        "print(merged_df)"
      ],
      "metadata": {
        "colab": {
          "base_uri": "https://localhost:8080/"
        },
        "id": "DFOZyBYgEHmI",
        "outputId": "e3c07531-311f-4c07-899c-2d74fd542af4"
      },
      "execution_count": 6,
      "outputs": [
        {
          "output_type": "stream",
          "name": "stdout",
          "text": [
            "                   timestamp asset_name  ...         FRAMA        RSI\n",
            "0        2018-01-01 00:01:00    Bitcoin  ...  13850.176000        NaN\n",
            "1        2018-01-01 00:02:00    Bitcoin  ...  13828.102000   0.000000\n",
            "2        2018-01-01 00:03:00    Bitcoin  ...  13801.314000   0.000000\n",
            "3        2018-01-01 00:04:00    Bitcoin  ...  13768.040000   0.000000\n",
            "4        2018-01-01 00:05:00    Bitcoin  ...  13724.914000   0.000000\n",
            "...                      ...        ...  ...           ...        ...\n",
            "2099955  2021-09-20 23:42:00    Bitcoin  ...  42705.627973  51.298112\n",
            "2099956  2021-09-20 23:43:00    Bitcoin  ...  42706.257587  46.840248\n",
            "2099957  2021-09-20 23:43:00    Bitcoin  ...  42706.853047  46.840248\n",
            "2099958  2021-09-20 23:44:00    Bitcoin  ...  42705.729355  40.458654\n",
            "2099959  2021-09-20 23:44:00    Bitcoin  ...  42704.069730  40.458654\n",
            "\n",
            "[2099960 rows x 22 columns]\n"
          ]
        }
      ]
    },
    {
      "cell_type": "code",
      "source": [
        "merged_df.fillna(0, inplace=True)"
      ],
      "metadata": {
        "id": "mi7XSerKY2vT"
      },
      "execution_count": 8,
      "outputs": []
    },
    {
      "cell_type": "code",
      "execution_count": 9,
      "metadata": {
        "id": "V07p_oqMg30N"
      },
      "outputs": [],
      "source": [
        "merged_df.drop([\"asset_name\", \"vwap\", \"count\",\n",
        "          \"open\", \"close\", \"high\",\n",
        "          \"low\", \"volume\", \"log_open\",\n",
        "          \"FRAMA\", \"RSI\", \"log_close\",\n",
        "          \"log_low\", \"log_high\"],\n",
        "          axis=1, inplace=True)"
      ]
    },
    {
      "cell_type": "code",
      "execution_count": 10,
      "metadata": {
        "id": "wbvUSdT8b043"
      },
      "outputs": [],
      "source": [
        "merged_df.set_index(\"timestamp\", inplace=True)"
      ]
    },
    {
      "cell_type": "code",
      "source": [
        "train_set = merged_df.loc[merged_df.index <= \"2021-06-20 23:59:00\"]\n",
        "test_set = merged_df.loc[merged_df.index >= \"2021-06-21 00:00:00\"]\n",
        "\n",
        "train_set = train_set.reset_index()\n",
        "train_set.drop(\"timestamp\", axis=1, inplace=True)\n",
        "\n",
        "test_set = test_set.reset_index()\n",
        "test_set.drop(\"timestamp\", axis=1, inplace=True)\n",
        "\n",
        "y_train = train_set[\"target\"]\n",
        "X_train = train_set.drop(\"target\", axis=1)\n",
        "\n",
        "y_test = test_set[\"target\"]\n",
        "X_test = test_set.drop(\"target\", axis=1)"
      ],
      "metadata": {
        "id": "ZabRNkF1m4H7"
      },
      "execution_count": 11,
      "outputs": []
    },
    {
      "cell_type": "code",
      "execution_count": 12,
      "metadata": {
        "colab": {
          "base_uri": "https://localhost:8080/"
        },
        "id": "SbOfJF7-rJB0",
        "outputId": "24becb29-f776-463c-886e-430e69e531ac"
      },
      "outputs": [
        {
          "output_type": "execute_result",
          "data": {
            "text/plain": [
              "150"
            ]
          },
          "metadata": {},
          "execution_count": 12
        }
      ],
      "source": [
        "del train_set,\\\n",
        "    test_set,\\\n",
        "    merged_df\n",
        "gc.collect()"
      ]
    },
    {
      "cell_type": "code",
      "execution_count": 13,
      "metadata": {
        "id": "5JkTwT16qTUq"
      },
      "outputs": [],
      "source": [
        "#cat_var = [\"asset_name\"]\n",
        "num_var = [\"H-L\", \"O-C\", \"MA_7d\",\n",
        "           \"MA_14d\", \"MA_21d\", \"STD_7d\"]"
      ]
    },
    {
      "cell_type": "code",
      "execution_count": 14,
      "metadata": {
        "id": "m2XWnrBJrDP4"
      },
      "outputs": [],
      "source": [
        "\"\"\"cat_pipe = Pipeline([\n",
        "    ('encoder', OneHotEncoder())\n",
        "])\n",
        "\"\"\"\n",
        "num_pipe = Pipeline([\n",
        "    ('impute', SimpleImputer(strategy=\"mean\")),\n",
        "    ('scaler', StandardScaler())\n",
        "])\n",
        "\n",
        "preprocessing_pipe = ColumnTransformer(\n",
        "    transformers=[\n",
        "    #(\"cat\", cat_pipe, cat_var),\n",
        "    ('num', num_pipe, num_var)\n",
        "])"
      ]
    },
    {
      "cell_type": "code",
      "source": [
        "X_train = preprocessing_pipe.fit_transform(X_train)"
      ],
      "metadata": {
        "id": "rqB40cZm35Om"
      },
      "execution_count": 15,
      "outputs": []
    },
    {
      "cell_type": "markdown",
      "metadata": {
        "id": "oISeETPzNHEG"
      },
      "source": [
        "## 2) Modelisation with Machine Learning methods"
      ]
    },
    {
      "cell_type": "markdown",
      "metadata": {
        "id": "GBetw_XvNHEG"
      },
      "source": [
        "### a) Linear Regression"
      ]
    },
    {
      "cell_type": "code",
      "execution_count": 16,
      "metadata": {
        "id": "DoByNyT8NHEH",
        "colab": {
          "base_uri": "https://localhost:8080/"
        },
        "outputId": "5cb8269e-c2bc-44a3-992e-e86c1a2b1330"
      },
      "outputs": [
        {
          "output_type": "execute_result",
          "data": {
            "text/plain": [
              "LinearRegression()"
            ]
          },
          "metadata": {},
          "execution_count": 16
        }
      ],
      "source": [
        "lin_reg = LinearRegression()\n",
        "lin_reg.fit(X_train, y_train)"
      ]
    },
    {
      "cell_type": "code",
      "source": [
        "X_test = preprocessing_pipe.transform(X_test)"
      ],
      "metadata": {
        "id": "LCcfgkty8m50"
      },
      "execution_count": 17,
      "outputs": []
    },
    {
      "cell_type": "code",
      "execution_count": 18,
      "metadata": {
        "id": "QPZM4ekjhGsr"
      },
      "outputs": [],
      "source": [
        "y_pred = lin_reg.predict(X_test)"
      ]
    },
    {
      "cell_type": "code",
      "execution_count": 19,
      "metadata": {
        "id": "3oJf2ovhNHEI",
        "colab": {
          "base_uri": "https://localhost:8080/"
        },
        "outputId": "f03354a8-6414-4dcc-8fc6-1d82183f1241"
      },
      "outputs": [
        {
          "output_type": "stream",
          "name": "stdout",
          "text": [
            "MAE:  0.00106\n",
            "MSE:  0.0\n",
            "RMSE:  0.0015838061154032916\n",
            "MAPE:  1.24315\n"
          ]
        }
      ],
      "source": [
        "regression_metrics(y_test, y_pred)"
      ]
    },
    {
      "cell_type": "code",
      "execution_count": 20,
      "metadata": {
        "id": "kH6LC_JnNshf",
        "colab": {
          "base_uri": "https://localhost:8080/"
        },
        "outputId": "321ceca7-4372-4670-d084-11ab27e4109b"
      },
      "outputs": [
        {
          "output_type": "execute_result",
          "data": {
            "text/plain": [
              "301"
            ]
          },
          "metadata": {},
          "execution_count": 20
        }
      ],
      "source": [
        "del y_pred, lin_reg\n",
        "gc.collect()"
      ]
    },
    {
      "cell_type": "markdown",
      "metadata": {
        "id": "Cg_5CNHvNHEJ"
      },
      "source": [
        "### b) Random Forest"
      ]
    },
    {
      "cell_type": "code",
      "execution_count": 21,
      "metadata": {
        "id": "6859H8dBOBDu",
        "colab": {
          "base_uri": "https://localhost:8080/"
        },
        "outputId": "bb237664-a5d4-4416-e60d-2bb181347e8e"
      },
      "outputs": [
        {
          "output_type": "execute_result",
          "data": {
            "text/plain": [
              "RandomForestRegressor(random_state=42)"
            ]
          },
          "metadata": {},
          "execution_count": 21
        }
      ],
      "source": [
        "rf_reg = RandomForestRegressor(random_state=42)\n",
        "rf_reg.fit(X_train, y_train)"
      ]
    },
    {
      "cell_type": "code",
      "execution_count": 22,
      "metadata": {
        "id": "IAuSW3WsOF1W",
        "colab": {
          "base_uri": "https://localhost:8080/"
        },
        "outputId": "98fd823b-3b42-416f-907e-6fb02685d8bd"
      },
      "outputs": [
        {
          "output_type": "stream",
          "name": "stdout",
          "text": [
            "MAE:  0.00125\n",
            "MSE:  0.0\n",
            "RMSE:  0.0018076115962703508\n",
            "MAPE:  8.08519\n"
          ]
        }
      ],
      "source": [
        "y_pred = rf_reg.predict(X_test)\n",
        "regression_metrics(y_test, y_pred)"
      ]
    },
    {
      "cell_type": "code",
      "execution_count": 23,
      "metadata": {
        "id": "mEqRHlu6OIbX",
        "colab": {
          "base_uri": "https://localhost:8080/"
        },
        "outputId": "b76dab36-fff6-4146-e93c-6b2b4b82979b"
      },
      "outputs": [
        {
          "output_type": "execute_result",
          "data": {
            "text/plain": [
              "148"
            ]
          },
          "metadata": {},
          "execution_count": 23
        }
      ],
      "source": [
        "del y_pred,\\\n",
        "    rf_reg,\\\n",
        "    X_train,\\\n",
        "    X_test,\\\n",
        "    y_train,\\\n",
        "    y_test\n",
        "\n",
        "gc.collect()"
      ]
    },
    {
      "cell_type": "markdown",
      "metadata": {
        "id": "jY002BqUNHEM"
      },
      "source": [
        "## 3) Modelisation with Deep Learning methods"
      ]
    },
    {
      "cell_type": "markdown",
      "metadata": {
        "id": "CqlFl5LbNHEM"
      },
      "source": [
        "### a) ANN according to Vijdha et al. (2020)"
      ]
    },
    {
      "cell_type": "code",
      "execution_count": 24,
      "metadata": {
        "id": "jllAGUoYNHEN"
      },
      "outputs": [],
      "source": [
        "from tensorflow import keras\n",
        "import tensorflow as tf\n",
        "import datetime"
      ]
    },
    {
      "cell_type": "code",
      "source": [
        "merged_df = pd.read_csv(path+\"bitcoin.csv\",\n",
        "                        dtype = dtype_dict)"
      ],
      "metadata": {
        "id": "eDXOHuHY1Why"
      },
      "execution_count": 25,
      "outputs": []
    },
    {
      "cell_type": "code",
      "source": [
        "merged_df.fillna(0, inplace=True)"
      ],
      "metadata": {
        "id": "MFK-ipsK1kHK"
      },
      "execution_count": 26,
      "outputs": []
    },
    {
      "cell_type": "code",
      "source": [
        "merged_df.drop([\"asset_name\", \"vwap\", \"count\",\n",
        "          \"open\", \"close\", \"high\",\n",
        "          \"low\", \"volume\", \"log_open\",\n",
        "          \"FRAMA\", \"RSI\", \"log_close\",\n",
        "          \"log_low\", \"log_high\"],\n",
        "          axis=1, inplace=True)"
      ],
      "metadata": {
        "id": "RwRJ_ifD1kuz"
      },
      "execution_count": 27,
      "outputs": []
    },
    {
      "cell_type": "code",
      "source": [
        "merged_df.set_index(\"timestamp\", inplace=True)"
      ],
      "metadata": {
        "id": "9JBACJNI1noX"
      },
      "execution_count": 28,
      "outputs": []
    },
    {
      "cell_type": "code",
      "source": [
        "train_features = merged_df.loc[merged_df.index <= \"2021-06-20 23:59:00\"]\n",
        "train_features = train_features.reset_index()\n",
        "train_features.drop(\"timestamp\", axis=1, inplace=True)\n",
        "train_labels = train_features[\"target\"]\n",
        "train_features = train_features.drop(\"target\", axis=1)\n",
        "train_features = np.asarray(train_features).astype(\"float32\")"
      ],
      "metadata": {
        "id": "IflKLs-doGZ5"
      },
      "execution_count": 29,
      "outputs": []
    },
    {
      "cell_type": "code",
      "source": [
        "test_features = merged_df.loc[merged_df.index <= \"2021-06-20 23:59:00\"]\n",
        "test_features = test_features.reset_index()\n",
        "test_features.drop(\"timestamp\", axis=1, inplace=True)\n",
        "test_labels = test_features[\"target\"]\n",
        "test_features = test_features.drop(\"target\", axis=1)\n",
        "test_features = np.asarray(test_features).astype(\"float32\")"
      ],
      "metadata": {
        "id": "Rnu43tEyspEw"
      },
      "execution_count": 41,
      "outputs": []
    },
    {
      "cell_type": "code",
      "source": [
        "normalizer = tf.keras.layers.Normalization(axis=-1)\n",
        "normalizer.adapt(train_features)"
      ],
      "metadata": {
        "id": "vZsB5kF1ksBh"
      },
      "execution_count": 30,
      "outputs": []
    },
    {
      "cell_type": "code",
      "source": [
        "def build_and_compile_model(data):\n",
        "  model = keras.Sequential([\n",
        "      data,\n",
        "      keras.layers.Dense(3, activation=\"relu\"),\n",
        "      keras.layers.Dense(1)\n",
        "  ])\n",
        "\n",
        "  model.compile(loss=\"mean_absolute_error\",\n",
        "                optimizer=tf.keras.optimizers.Adam(0.001))\n",
        "  return model"
      ],
      "metadata": {
        "id": "XR4gckemkCb8"
      },
      "execution_count": 34,
      "outputs": []
    },
    {
      "cell_type": "code",
      "source": [
        "dnn_model = build_and_compile_model(normalizer)\n",
        "dnn_model.summary()"
      ],
      "metadata": {
        "id": "tPXX1Getk26o",
        "colab": {
          "base_uri": "https://localhost:8080/"
        },
        "outputId": "a88cb498-b49e-4549-e0bd-2f82bd0a294f"
      },
      "execution_count": 35,
      "outputs": [
        {
          "output_type": "stream",
          "name": "stdout",
          "text": [
            "Model: \"sequential\"\n",
            "_________________________________________________________________\n",
            " Layer (type)                Output Shape              Param #   \n",
            "=================================================================\n",
            " normalization (Normalizatio  (None, 6)                13        \n",
            " n)                                                              \n",
            "                                                                 \n",
            " dense (Dense)               (None, 3)                 21        \n",
            "                                                                 \n",
            " dense_1 (Dense)             (None, 1)                 4         \n",
            "                                                                 \n",
            "=================================================================\n",
            "Total params: 38\n",
            "Trainable params: 25\n",
            "Non-trainable params: 13\n",
            "_________________________________________________________________\n"
          ]
        }
      ]
    },
    {
      "cell_type": "code",
      "source": [
        "%%time\n",
        "\n",
        "history = dnn_model.fit(\n",
        "    train_features,\n",
        "    train_labels,\n",
        "    validation_split = 0.2,\n",
        "    verbose = 1, epochs = 100)"
      ],
      "metadata": {
        "id": "5ZWyWKLtk-Ld",
        "colab": {
          "base_uri": "https://localhost:8080/"
        },
        "outputId": "8d4a48e3-0c42-484b-a25d-8d46d6ff05bc"
      },
      "execution_count": 37,
      "outputs": [
        {
          "output_type": "stream",
          "name": "stdout",
          "text": [
            "Epoch 1/100\n",
            "45876/45876 [==============================] - 97s 2ms/step - loss: 0.0016 - val_loss: 0.0021\n",
            "Epoch 2/100\n",
            "45876/45876 [==============================] - 95s 2ms/step - loss: 0.0012 - val_loss: 0.0056\n",
            "Epoch 3/100\n",
            "45876/45876 [==============================] - 95s 2ms/step - loss: 0.0012 - val_loss: 0.0058\n",
            "Epoch 4/100\n",
            "45876/45876 [==============================] - 95s 2ms/step - loss: 0.0012 - val_loss: 0.0060\n",
            "Epoch 5/100\n",
            "45876/45876 [==============================] - 95s 2ms/step - loss: 0.0012 - val_loss: 0.0058\n",
            "Epoch 6/100\n",
            "45876/45876 [==============================] - 95s 2ms/step - loss: 0.0012 - val_loss: 0.0060\n",
            "Epoch 7/100\n",
            "45876/45876 [==============================] - 94s 2ms/step - loss: 0.0012 - val_loss: 0.0056\n",
            "Epoch 8/100\n",
            "45876/45876 [==============================] - 95s 2ms/step - loss: 0.0012 - val_loss: 0.0058\n",
            "Epoch 9/100\n",
            "45876/45876 [==============================] - 93s 2ms/step - loss: 0.0012 - val_loss: 0.0059\n",
            "Epoch 10/100\n",
            "45876/45876 [==============================] - 102s 2ms/step - loss: 0.0012 - val_loss: 0.0060\n",
            "Epoch 11/100\n",
            "45876/45876 [==============================] - 95s 2ms/step - loss: 0.0012 - val_loss: 0.0058\n",
            "Epoch 12/100\n",
            "45876/45876 [==============================] - 94s 2ms/step - loss: 0.0012 - val_loss: 0.0057\n",
            "Epoch 13/100\n",
            "45876/45876 [==============================] - 94s 2ms/step - loss: 0.0012 - val_loss: 0.0058\n",
            "Epoch 14/100\n",
            "45876/45876 [==============================] - 94s 2ms/step - loss: 0.0012 - val_loss: 0.0057\n",
            "Epoch 15/100\n",
            "45876/45876 [==============================] - 94s 2ms/step - loss: 0.0012 - val_loss: 0.0059\n",
            "Epoch 16/100\n",
            "45876/45876 [==============================] - 94s 2ms/step - loss: 0.0012 - val_loss: 0.0056\n",
            "Epoch 17/100\n",
            "45876/45876 [==============================] - 94s 2ms/step - loss: 0.0012 - val_loss: 0.0060\n",
            "Epoch 18/100\n",
            "45876/45876 [==============================] - 94s 2ms/step - loss: 0.0012 - val_loss: 0.0058\n",
            "Epoch 19/100\n",
            "45876/45876 [==============================] - 94s 2ms/step - loss: 0.0012 - val_loss: 0.0057\n",
            "Epoch 20/100\n",
            "45876/45876 [==============================] - 93s 2ms/step - loss: 0.0012 - val_loss: 0.0059\n",
            "Epoch 21/100\n",
            "45876/45876 [==============================] - 95s 2ms/step - loss: 0.0012 - val_loss: 0.0058\n",
            "Epoch 22/100\n",
            "45876/45876 [==============================] - 94s 2ms/step - loss: 0.0012 - val_loss: 0.0060\n",
            "Epoch 23/100\n",
            "45876/45876 [==============================] - 94s 2ms/step - loss: 0.0012 - val_loss: 0.0057\n",
            "Epoch 24/100\n",
            "45876/45876 [==============================] - 93s 2ms/step - loss: 0.0012 - val_loss: 0.0062\n",
            "Epoch 25/100\n",
            "45876/45876 [==============================] - 92s 2ms/step - loss: 0.0012 - val_loss: 0.0056\n",
            "Epoch 26/100\n",
            "45876/45876 [==============================] - 93s 2ms/step - loss: 0.0012 - val_loss: 0.0058\n",
            "Epoch 27/100\n",
            "45876/45876 [==============================] - 93s 2ms/step - loss: 0.0012 - val_loss: 0.0061\n",
            "Epoch 28/100\n",
            "45876/45876 [==============================] - 93s 2ms/step - loss: 0.0012 - val_loss: 0.0059\n",
            "Epoch 29/100\n",
            "45876/45876 [==============================] - 93s 2ms/step - loss: 0.0012 - val_loss: 0.0060\n",
            "Epoch 30/100\n",
            "45876/45876 [==============================] - 93s 2ms/step - loss: 0.0012 - val_loss: 0.0058\n",
            "Epoch 31/100\n",
            "45876/45876 [==============================] - 94s 2ms/step - loss: 0.0012 - val_loss: 0.0057\n",
            "Epoch 32/100\n",
            "45876/45876 [==============================] - 93s 2ms/step - loss: 0.0012 - val_loss: 0.0057\n",
            "Epoch 33/100\n",
            "45876/45876 [==============================] - 93s 2ms/step - loss: 0.0012 - val_loss: 0.0056\n",
            "Epoch 34/100\n",
            "45876/45876 [==============================] - 93s 2ms/step - loss: 0.0012 - val_loss: 0.0057\n",
            "Epoch 35/100\n",
            "45876/45876 [==============================] - 93s 2ms/step - loss: 0.0012 - val_loss: 0.0062\n",
            "Epoch 36/100\n",
            "45876/45876 [==============================] - 93s 2ms/step - loss: 0.0012 - val_loss: 0.0056\n",
            "Epoch 37/100\n",
            "45876/45876 [==============================] - 93s 2ms/step - loss: 0.0012 - val_loss: 0.0058\n",
            "Epoch 38/100\n",
            "45876/45876 [==============================] - 93s 2ms/step - loss: 0.0012 - val_loss: 0.0059\n",
            "Epoch 39/100\n",
            "45876/45876 [==============================] - 93s 2ms/step - loss: 0.0012 - val_loss: 0.0059\n",
            "Epoch 40/100\n",
            "45876/45876 [==============================] - 93s 2ms/step - loss: 0.0012 - val_loss: 0.0059\n",
            "Epoch 41/100\n",
            "45876/45876 [==============================] - 94s 2ms/step - loss: 0.0012 - val_loss: 0.0057\n",
            "Epoch 42/100\n",
            "45876/45876 [==============================] - 93s 2ms/step - loss: 0.0012 - val_loss: 0.0061\n",
            "Epoch 43/100\n",
            "45876/45876 [==============================] - 93s 2ms/step - loss: 0.0012 - val_loss: 0.0058\n",
            "Epoch 44/100\n",
            "45876/45876 [==============================] - 93s 2ms/step - loss: 0.0012 - val_loss: 0.0058\n",
            "Epoch 45/100\n",
            "45876/45876 [==============================] - 94s 2ms/step - loss: 0.0012 - val_loss: 0.0060\n",
            "Epoch 46/100\n",
            "45876/45876 [==============================] - 93s 2ms/step - loss: 0.0012 - val_loss: 0.0057\n",
            "Epoch 47/100\n",
            "45876/45876 [==============================] - 94s 2ms/step - loss: 0.0012 - val_loss: 0.0059\n",
            "Epoch 48/100\n",
            "45876/45876 [==============================] - 93s 2ms/step - loss: 0.0012 - val_loss: 0.0059\n",
            "Epoch 49/100\n",
            "45876/45876 [==============================] - 93s 2ms/step - loss: 0.0012 - val_loss: 0.0059\n",
            "Epoch 50/100\n",
            "45876/45876 [==============================] - 93s 2ms/step - loss: 0.0012 - val_loss: 0.0056\n",
            "Epoch 51/100\n",
            "45876/45876 [==============================] - 93s 2ms/step - loss: 0.0012 - val_loss: 0.0058\n",
            "Epoch 52/100\n",
            "45876/45876 [==============================] - 92s 2ms/step - loss: 0.0012 - val_loss: 0.0059\n",
            "Epoch 53/100\n",
            "45876/45876 [==============================] - 92s 2ms/step - loss: 0.0012 - val_loss: 0.0058\n",
            "Epoch 54/100\n",
            "45876/45876 [==============================] - 93s 2ms/step - loss: 0.0012 - val_loss: 0.0058\n",
            "Epoch 55/100\n",
            "45876/45876 [==============================] - 92s 2ms/step - loss: 0.0012 - val_loss: 0.0058\n",
            "Epoch 56/100\n",
            "45876/45876 [==============================] - 93s 2ms/step - loss: 0.0012 - val_loss: 0.0062\n",
            "Epoch 57/100\n",
            "45876/45876 [==============================] - 93s 2ms/step - loss: 0.0012 - val_loss: 0.0056\n",
            "Epoch 58/100\n",
            "45876/45876 [==============================] - 92s 2ms/step - loss: 0.0012 - val_loss: 0.0060\n",
            "Epoch 59/100\n",
            "45876/45876 [==============================] - 93s 2ms/step - loss: 0.0012 - val_loss: 0.0057\n",
            "Epoch 60/100\n",
            "45876/45876 [==============================] - 92s 2ms/step - loss: 0.0012 - val_loss: 0.0058\n",
            "Epoch 61/100\n",
            "45876/45876 [==============================] - 93s 2ms/step - loss: 0.0012 - val_loss: 0.0059\n",
            "Epoch 62/100\n",
            "45876/45876 [==============================] - 93s 2ms/step - loss: 0.0012 - val_loss: 0.0058\n",
            "Epoch 63/100\n",
            "45876/45876 [==============================] - 93s 2ms/step - loss: 0.0012 - val_loss: 0.0058\n",
            "Epoch 64/100\n",
            "45876/45876 [==============================] - 93s 2ms/step - loss: 0.0012 - val_loss: 0.0059\n",
            "Epoch 65/100\n",
            "45876/45876 [==============================] - 93s 2ms/step - loss: 0.0012 - val_loss: 0.0062\n",
            "Epoch 66/100\n",
            "45876/45876 [==============================] - 93s 2ms/step - loss: 0.0012 - val_loss: 0.0059\n",
            "Epoch 67/100\n",
            "45876/45876 [==============================] - 94s 2ms/step - loss: 0.0012 - val_loss: 0.0060\n",
            "Epoch 68/100\n",
            "45876/45876 [==============================] - 94s 2ms/step - loss: 0.0012 - val_loss: 0.0058\n",
            "Epoch 69/100\n",
            "45876/45876 [==============================] - 94s 2ms/step - loss: 0.0012 - val_loss: 0.0059\n",
            "Epoch 70/100\n",
            "45876/45876 [==============================] - 93s 2ms/step - loss: 0.0012 - val_loss: 0.0057\n",
            "Epoch 71/100\n",
            "45876/45876 [==============================] - 94s 2ms/step - loss: 0.0012 - val_loss: 0.0058\n",
            "Epoch 72/100\n",
            "45876/45876 [==============================] - 94s 2ms/step - loss: 0.0012 - val_loss: 0.0060\n",
            "Epoch 73/100\n",
            "45876/45876 [==============================] - 93s 2ms/step - loss: 0.0012 - val_loss: 0.0058\n",
            "Epoch 74/100\n",
            "45876/45876 [==============================] - 94s 2ms/step - loss: 0.0012 - val_loss: 0.0056\n",
            "Epoch 75/100\n",
            "45876/45876 [==============================] - 94s 2ms/step - loss: 0.0012 - val_loss: 0.0059\n",
            "Epoch 76/100\n",
            "45876/45876 [==============================] - 93s 2ms/step - loss: 0.0012 - val_loss: 0.0060\n",
            "Epoch 77/100\n",
            "45876/45876 [==============================] - 93s 2ms/step - loss: 0.0012 - val_loss: 0.0059\n",
            "Epoch 78/100\n",
            "45876/45876 [==============================] - 93s 2ms/step - loss: 0.0012 - val_loss: 0.0058\n",
            "Epoch 79/100\n",
            "45876/45876 [==============================] - 93s 2ms/step - loss: 0.0012 - val_loss: 0.0058\n",
            "Epoch 80/100\n",
            "45876/45876 [==============================] - 93s 2ms/step - loss: 0.0012 - val_loss: 0.0061\n",
            "Epoch 81/100\n",
            "45876/45876 [==============================] - 93s 2ms/step - loss: 0.0012 - val_loss: 0.0059\n",
            "Epoch 82/100\n",
            "45876/45876 [==============================] - 93s 2ms/step - loss: 0.0012 - val_loss: 0.0056\n",
            "Epoch 83/100\n",
            "45876/45876 [==============================] - 93s 2ms/step - loss: 0.0012 - val_loss: 0.0057\n",
            "Epoch 84/100\n",
            "45876/45876 [==============================] - 93s 2ms/step - loss: 0.0012 - val_loss: 0.0058\n",
            "Epoch 85/100\n",
            "45876/45876 [==============================] - 93s 2ms/step - loss: 0.0012 - val_loss: 0.0061\n",
            "Epoch 86/100\n",
            "45876/45876 [==============================] - 93s 2ms/step - loss: 0.0012 - val_loss: 0.0062\n",
            "Epoch 87/100\n",
            "45876/45876 [==============================] - 94s 2ms/step - loss: 0.0012 - val_loss: 0.0059\n",
            "Epoch 88/100\n",
            "45876/45876 [==============================] - 94s 2ms/step - loss: 0.0012 - val_loss: 0.0061\n",
            "Epoch 89/100\n",
            "45876/45876 [==============================] - 92s 2ms/step - loss: 0.0012 - val_loss: 0.0057\n",
            "Epoch 90/100\n",
            "45876/45876 [==============================] - 93s 2ms/step - loss: 0.0012 - val_loss: 0.0059\n",
            "Epoch 91/100\n",
            "45876/45876 [==============================] - 93s 2ms/step - loss: 0.0012 - val_loss: 0.0060\n",
            "Epoch 92/100\n",
            "45876/45876 [==============================] - 92s 2ms/step - loss: 0.0012 - val_loss: 0.0058\n",
            "Epoch 93/100\n",
            "45876/45876 [==============================] - 93s 2ms/step - loss: 0.0012 - val_loss: 0.0058\n",
            "Epoch 94/100\n",
            "45876/45876 [==============================] - 93s 2ms/step - loss: 0.0012 - val_loss: 0.0060\n",
            "Epoch 95/100\n",
            "45876/45876 [==============================] - 92s 2ms/step - loss: 0.0012 - val_loss: 0.0061\n",
            "Epoch 96/100\n",
            "45876/45876 [==============================] - 93s 2ms/step - loss: 0.0012 - val_loss: 0.0057\n",
            "Epoch 97/100\n",
            "45876/45876 [==============================] - 94s 2ms/step - loss: 0.0012 - val_loss: 0.0059\n",
            "Epoch 98/100\n",
            "45876/45876 [==============================] - 93s 2ms/step - loss: 0.0012 - val_loss: 0.0057\n",
            "Epoch 99/100\n",
            "45876/45876 [==============================] - 93s 2ms/step - loss: 0.0012 - val_loss: 0.0059\n",
            "Epoch 100/100\n",
            "45876/45876 [==============================] - 92s 2ms/step - loss: 0.0012 - val_loss: 0.0060\n",
            "CPU times: user 3h 55min 44s, sys: 35min 46s, total: 4h 31min 31s\n",
            "Wall time: 2h 35min 42s\n"
          ]
        }
      ]
    },
    {
      "cell_type": "code",
      "source": [
        "test_predictions = dnn_model.predict(test_features).flatten()\n",
        "\n",
        "a = plt.axes(aspect='equal')\n",
        "plt.scatter(test_labels, test_predictions)\n",
        "plt.xlabel('True Values [USD]')\n",
        "plt.ylabel('Predictions [USD]')\n",
        "lims = [0, 50]\n",
        "plt.xlim(lims)\n",
        "plt.ylim(lims)\n",
        "_ = plt.plot(lims, lims)"
      ],
      "metadata": {
        "id": "lgDFzHEKlYz6",
        "colab": {
          "base_uri": "https://localhost:8080/",
          "height": 283
        },
        "outputId": "835f90df-1927-4176-fee6-40ab12126ae3"
      },
      "execution_count": 43,
      "outputs": [
        {
          "output_type": "display_data",
          "data": {
            "image/png": "[encoded data removed]",
            "text/plain": [
              "<Figure size 432x288 with 1 Axes>"
            ]
          },
          "metadata": {
            "needs_background": "light"
          }
        }
      ]
    },
    {
      "cell_type": "code",
      "source": [
        "error = test_predictions - test_labels\n",
        "plt.hist(error, bins=25)\n",
        "plt.xlabel('Prediction Error [USD]')\n",
        "_ = plt.ylabel('Count')"
      ],
      "metadata": {
        "id": "y8i8Z-b9leMR",
        "colab": {
          "base_uri": "https://localhost:8080/",
          "height": 290
        },
        "outputId": "629dcd4b-c9e6-43f7-b5d6-050b07389cf8"
      },
      "execution_count": 44,
      "outputs": [
        {
          "output_type": "display_data",
          "data": {
            "image/png": "[encoded data removed]",
            "text/plain": [
              "<Figure size 432x288 with 1 Axes>"
            ]
          },
          "metadata": {
            "needs_background": "light"
          }
        }
      ]
    },
    {
      "cell_type": "code",
      "source": [
        "regression_metrics(test_predictions, test_labels)"
      ],
      "metadata": {
        "colab": {
          "base_uri": "https://localhost:8080/"
        },
        "id": "J2yQpf96Fysa",
        "outputId": "d4fd0779-3865-4bc1-9220-e632877ca80c"
      },
      "execution_count": 45,
      "outputs": [
        {
          "output_type": "stream",
          "name": "stdout",
          "text": [
            "MAE:  0.00215\n",
            "MSE:  1e-05\n",
            "RMSE:  0.003816108597573763\n",
            "MAPE:  3.29053\n"
          ]
        }
      ]
    }
  ],
  "metadata": {
    "colab": {
      "collapsed_sections": [],
      "machine_shape": "hm",
      "name": "P08_02_notebookmodelisation.ipynb",
      "provenance": [],
      "include_colab_link": true
    },
    "interpreter": {
      "hash": "a15bb0e7bec1806f09e46ea9c627385833a55ef2489c85d10accee8104f3235c"
    },
    "kernelspec": {
      "display_name": "Python 3 (ipykernel)",
      "language": "python",
      "name": "python3"
    },
    "language_info": {
      "codemirror_mode": {
        "name": "ipython",
        "version": 3
      },
      "file_extension": ".py",
      "mimetype": "text/x-python",
      "name": "python",
      "nbconvert_exporter": "python",
      "pygments_lexer": "ipython3",
      "version": "3.9.7"
    },
    "accelerator": "GPU"
  },
  "nbformat": 4,
  "nbformat_minor": 0
}